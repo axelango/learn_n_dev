{
  "nbformat": 4,
  "nbformat_minor": 0,
  "metadata": {
    "colab": {
      "name": "save_load_model_scikit_learn.ipynb",
      "provenance": [],
      "collapsed_sections": [],
      "authorship_tag": "ABX9TyMZcWBNYsdWFZcxjTmqBLl2",
      "include_colab_link": true
    },
    "kernelspec": {
      "name": "python3",
      "display_name": "Python 3"
    },
    "language_info": {
      "name": "python"
    }
  },
  "cells": [
    {
      "cell_type": "markdown",
      "metadata": {
        "id": "view-in-github",
        "colab_type": "text"
      },
      "source": [
        "<a href=\"https://colab.research.google.com/github/jgamel/learn_n_dev/blob/python_modeling_forecasting/save_load_model_scikit_learn.ipynb\" target=\"_parent\"><img src=\"https://colab.research.google.com/assets/colab-badge.svg\" alt=\"Open In Colab\"/></a>"
      ]
    },
    {
      "cell_type": "markdown",
      "source": [
        "# Save and Load Machine Learning Models in Python with scikit-learn"
      ],
      "metadata": {
        "id": "CbV1Tzaf9yqn"
      }
    },
    {
      "cell_type": "markdown",
      "source": [
        "Finding an accurate machine learning model is not the end of the project.\n",
        "\n",
        "In this post you will discover how to save and load your machine learning model in Python using scikit-learn.\n",
        "\n",
        "This allows you to save your model to file and load it later in order to make predictions."
      ],
      "metadata": {
        "id": "DxFSkMWK95hX"
      }
    },
    {
      "cell_type": "markdown",
      "source": [
        "This script: \n",
        "\n",
        "* Save Your Model with pickle\n",
        "* Save Your Model with joblib\n",
        "* Tips for Saving Your Model"
      ],
      "metadata": {
        "id": "Rb1DjOCq-aaX"
      }
    },
    {
      "cell_type": "markdown",
      "source": [
        "### Save Your Model with pickle"
      ],
      "metadata": {
        "id": "AEgO_jXj-htJ"
      }
    },
    {
      "cell_type": "markdown",
      "source": [
        "Pickle is the standard way of serializing objects in Python.\n",
        "\n",
        "You can use the pickle operation to serialize your machine learning algorithms and save the serialized format to a file.\n",
        "\n",
        "Later you can load this file to deserialize your model and use it to make new predictions."
      ],
      "metadata": {
        "id": "Lb0-XhVm-n2U"
      }
    },
    {
      "cell_type": "code",
      "source": [
        "from google.colab import drive\n",
        "drive.mount('/content/gdrive', force_remount=True)"
      ],
      "metadata": {
        "colab": {
          "base_uri": "https://localhost:8080/"
        },
        "id": "vaLhy93d_WZc",
        "outputId": "d34896e5-aec4-46ae-da39-66b7613d43ec"
      },
      "execution_count": 1,
      "outputs": [
        {
          "output_type": "stream",
          "name": "stdout",
          "text": [
            "Mounted at /content/gdrive\n"
          ]
        }
      ]
    },
    {
      "cell_type": "code",
      "source": [
        "# Save Model Using Pickle\n",
        "import pandas\n",
        "from sklearn import model_selection\n",
        "from sklearn.linear_model import LogisticRegression\n",
        "import pickle\n",
        "url = \"https://raw.githubusercontent.com/jbrownlee/Datasets/master/pima-indians-diabetes.data.csv\"\n",
        "names = ['preg', 'plas', 'pres', 'skin', 'test', 'mass', 'pedi', 'age', 'class']\n",
        "dataframe = pandas.read_csv(url, names=names)\n",
        "array = dataframe.values\n",
        "X = array[:,0:8]\n",
        "Y = array[:,8]\n",
        "test_size = 0.33\n",
        "seed = 7\n",
        "X_train, X_test, Y_train, Y_test = model_selection.train_test_split(X, Y, test_size=test_size, random_state=seed)\n",
        "# Fit the model on training set\n",
        "model = LogisticRegression(max_iter=200)\n",
        "model.fit(X_train, Y_train)\n",
        "# save the model to disk\n",
        "filename = '/content/gdrive/My Drive/models/finalized_model.sav'\n",
        "pickle.dump(model, open(filename, 'wb'))\n",
        "\n",
        "# some time later...\n",
        "\n",
        "# load the model from disk\n",
        "loaded_model = pickle.load(open(filename, 'rb'))\n",
        "result = loaded_model.score(X_test, Y_test)\n",
        "print(result)"
      ],
      "metadata": {
        "colab": {
          "base_uri": "https://localhost:8080/"
        },
        "id": "3qv59Z_D-6PD",
        "outputId": "d314b04d-c78a-40bf-c343-a51592de763e"
      },
      "execution_count": 5,
      "outputs": [
        {
          "output_type": "stream",
          "name": "stdout",
          "text": [
            "0.7874015748031497\n"
          ]
        }
      ]
    },
    {
      "cell_type": "markdown",
      "source": [
        "Running the example saves the model to finalized_model.sav in your local working directory.\n",
        "\n",
        "Load the saved model and evaluating it provides an estimate of accuracy of the model on unseen data."
      ],
      "metadata": {
        "id": "hNzjBKtSAlqb"
      }
    },
    {
      "cell_type": "markdown",
      "source": [
        "### Save Your Model with joblib"
      ],
      "metadata": {
        "id": "b8es646OArVf"
      }
    },
    {
      "cell_type": "markdown",
      "source": [
        "Joblib is part of the SciPy ecosystem and provides utilities for pipelining Python jobs.\n",
        "\n",
        "It provides utilities for saving and loading Python objects that make use of NumPy data structures, efficiently.\n",
        "\n",
        "This can be useful for some machine learning algorithms that require a lot of parameters or store the entire dataset (like K-Nearest Neighbors).\n",
        "\n",
        "The example below demonstrates how you can train a logistic regression model on the Pima Indians onset of diabetes dataset, saves the model to file using joblib and load it to make predictions on the unseen test set."
      ],
      "metadata": {
        "id": "ulOZR1-CAsoG"
      }
    },
    {
      "cell_type": "code",
      "execution_count": 7,
      "metadata": {
        "colab": {
          "base_uri": "https://localhost:8080/"
        },
        "id": "8lN7-3U29IA3",
        "outputId": "08a1ecbc-6bf0-48be-f2c3-021b748d0031"
      },
      "outputs": [
        {
          "output_type": "stream",
          "name": "stdout",
          "text": [
            "0.7874015748031497\n"
          ]
        }
      ],
      "source": [
        "# Save Model Using joblib\n",
        "import pandas\n",
        "from sklearn import model_selection\n",
        "from sklearn.linear_model import LogisticRegression\n",
        "import joblib\n",
        "url = \"https://raw.githubusercontent.com/jbrownlee/Datasets/master/pima-indians-diabetes.data.csv\"\n",
        "names = ['preg', 'plas', 'pres', 'skin', 'test', 'mass', 'pedi', 'age', 'class']\n",
        "dataframe = pandas.read_csv(url, names=names)\n",
        "array = dataframe.values\n",
        "X = array[:,0:8]\n",
        "Y = array[:,8]\n",
        "test_size = 0.33\n",
        "seed = 7\n",
        "X_train, X_test, Y_train, Y_test = model_selection.train_test_split(X, Y, test_size=test_size, random_state=seed)\n",
        "# Fit the model on training set\n",
        "model = LogisticRegression(max_iter=200)\n",
        "model.fit(X_train, Y_train)\n",
        "# save the model to disk\n",
        "filename = '/content/gdrive/My Drive/models/finalized_model.sav'\n",
        "joblib.dump(model, filename)\n",
        "\n",
        "# some time later...\n",
        "\n",
        "# load the model from disk\n",
        "loaded_model = joblib.load(filename)\n",
        "result = loaded_model.score(X_test, Y_test)\n",
        "print(result)"
      ]
    },
    {
      "cell_type": "markdown",
      "source": [
        "Running the example saves the model to file as finalized_model.sav and also creates one file for each NumPy array in the model (four additional files).\n",
        "\n",
        "After the model is loaded an estimate of the accuracy of the model on unseen data is reported."
      ],
      "metadata": {
        "id": "zNsaLanBGqCd"
      }
    }
  ]
}