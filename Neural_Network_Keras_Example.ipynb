{
  "nbformat": 4,
  "nbformat_minor": 0,
  "metadata": {
    "colab": {
      "name": "Neural_Network_Keras_Example.ipynb",
      "provenance": [],
      "authorship_tag": "ABX9TyNK9O0mhkzT4GimgN6jZtpB",
      "include_colab_link": true
    },
    "kernelspec": {
      "name": "python3",
      "display_name": "Python 3"
    },
    "language_info": {
      "name": "python"
    }
  },
  "cells": [
    {
      "cell_type": "markdown",
      "metadata": {
        "id": "view-in-github",
        "colab_type": "text"
      },
      "source": [
        "<a href=\"https://colab.research.google.com/github/jgamel/learn_n_dev/blob/python_machine_learning/Neural_Network_Keras_Example.ipynb\" target=\"_parent\"><img src=\"https://colab.research.google.com/assets/colab-badge.svg\" alt=\"Open In Colab\"/></a>"
      ]
    },
    {
      "cell_type": "markdown",
      "source": [
        "# Neural Network Example"
      ],
      "metadata": {
        "id": "aWJJSdjPOcBG"
      }
    },
    {
      "cell_type": "markdown",
      "source": [
        "Steps:\n",
        "\n",
        "1. Haberman Breast Cancer Survival Dataset\n",
        "2. Neural Network Learning Dynamics\n",
        "3. Robust Model Evaluation\n",
        "4. Final Model and Make Predictions"
      ],
      "metadata": {
        "id": "AW1zKyh3OhHE"
      }
    },
    {
      "cell_type": "markdown",
      "source": [
        "### Step 1: Load Data and Prep"
      ],
      "metadata": {
        "id": "OT597IMHPLxZ"
      }
    },
    {
      "cell_type": "markdown",
      "source": [
        "Haberman Breast Cancer Survival Dataset\n",
        "The first step is to define and explore the dataset.\n",
        "\n",
        "We will be working with the “haberman” standard binary classification dataset.\n",
        "\n",
        "The dataset describes breast cancer patient data and the outcome is patient survival. Specifically whether the patient survived for five years or longer, or whether the patient did not survive.\n",
        "\n",
        "This is a standard dataset used in the study of imbalanced classification. According to the dataset description, the operations were conducted between 1958 and 1970 at the University of Chicago’s Billings Hospital.\n",
        "\n",
        "There are 306 examples in the dataset, and there are 3 input variables; they are:\n",
        "\n",
        "The age of the patient at the time of the operation.\n",
        "The two-digit year of the operation.\n",
        "The number of “positive axillary nodes” detected, a measure of whether cancer has spread.\n",
        "As such, we have no control over the selection of cases that make up the dataset or features to use in those cases, other than what is available in the dataset.\n",
        "\n",
        "Although the dataset describes breast cancer patient survival, given the small dataset size and the fact the data is based on breast cancer diagnosis and operations many decades ago, any models built on this dataset are not expected to generalize."
      ],
      "metadata": {
        "id": "pk71r7cBPGM3"
      }
    },
    {
      "cell_type": "code",
      "execution_count": 2,
      "metadata": {
        "colab": {
          "base_uri": "https://localhost:8080/"
        },
        "id": "aWW7Uv-KNQsU",
        "outputId": "820f74db-e2c3-4c35-ee1d-bffab6fbf0f4"
      },
      "outputs": [
        {
          "output_type": "stream",
          "name": "stdout",
          "text": [
            "(306, 4)\n"
          ]
        }
      ],
      "source": [
        "# load the haberman dataset and summarize the shape\n",
        "from pandas import read_csv\n",
        "# define the location of the dataset\n",
        "url = 'https://raw.githubusercontent.com/jbrownlee/Datasets/master/haberman.csv'\n",
        "# load the dataset\n",
        "df = read_csv(url, header=None)\n",
        "# summarize shape\n",
        "print(df.shape)"
      ]
    },
    {
      "cell_type": "markdown",
      "source": [
        "Running the example loads the dataset directly from the URL and reports the shape of the dataset.\n",
        "\n",
        "In this case, we can confirm that the dataset has 4 variables (3 input and one output) and that the dataset has 306 rows of data.\n",
        "\n",
        "This is not many rows of data for a neural network and suggests that a small network, perhaps with regularization, would be appropriate.\n",
        "\n",
        "It also suggests that using k-fold cross-validation would be a good idea given that it will give a more reliable estimate of model performance than a train/test split and because a single model will fit in seconds instead of hours or days with the largest datasets."
      ],
      "metadata": {
        "id": "JMopAqy6PjBH"
      }
    },
    {
      "cell_type": "markdown",
      "source": [
        "Next, we can learn more about the dataset by looking at summary statistics and a plot of the data."
      ],
      "metadata": {
        "id": "CyBohVCzPm5d"
      }
    },
    {
      "cell_type": "code",
      "source": [
        "# show summary statistics and plots of the haberman dataset\n",
        "from pandas import read_csv\n",
        "from matplotlib import pyplot\n",
        "# define the location of the dataset\n",
        "url = 'https://raw.githubusercontent.com/jbrownlee/Datasets/master/haberman.csv'\n",
        "# load the dataset\n",
        "df = read_csv(url, header=None)\n",
        "# show summary statistics\n",
        "print(df.describe())\n",
        "# plot histograms\n",
        "df.hist()\n",
        "pyplot.show()"
      ],
      "metadata": {
        "colab": {
          "base_uri": "https://localhost:8080/",
          "height": 441
        },
        "id": "oBfAy757Pnqe",
        "outputId": "df2a2dcd-6367-4d8c-e298-155a31881c34"
      },
      "execution_count": 3,
      "outputs": [
        {
          "output_type": "stream",
          "name": "stdout",
          "text": [
            "                0           1           2           3\n",
            "count  306.000000  306.000000  306.000000  306.000000\n",
            "mean    52.457516   62.852941    4.026144    1.264706\n",
            "std     10.803452    3.249405    7.189654    0.441899\n",
            "min     30.000000   58.000000    0.000000    1.000000\n",
            "25%     44.000000   60.000000    0.000000    1.000000\n",
            "50%     52.000000   63.000000    1.000000    1.000000\n",
            "75%     60.750000   65.750000    4.000000    2.000000\n",
            "max     83.000000   69.000000   52.000000    2.000000\n"
          ]
        },
        {
          "output_type": "display_data",
          "data": {
            "image/png": "[encoded data removed]",
            "text/plain": [
              "<Figure size 432x288 with 4 Axes>"
            ]
          },
          "metadata": {
            "needs_background": "light"
          }
        }
      ]
    },
    {
      "cell_type": "markdown",
      "source": [
        "Running the example first loads the data before and then prints summary statistics for each variable.\n",
        "\n",
        "We can see that values vary with different means and standard deviations, perhaps some normalization or standardization would be required prior to modeling.\n",
        "\n",
        "A histogram plot is then created for each variable.\n",
        "\n",
        "We can see that perhaps the first variable has a Gaussian-like distribution and the next two input variables may have an exponential distribution.\n",
        "\n",
        "We may have some benefit in using a power transform on each variable in order to make the probability distribution less skewed which will likely improve model performance."
      ],
      "metadata": {
        "id": "ihGGHUzYQGjF"
      }
    },
    {
      "cell_type": "markdown",
      "source": [
        "We can see some skew in the distribution of examples between the two classes, meaning that the classification problem is not balanced. It is imbalanced.\n",
        "\n",
        "It may be helpful to know how imbalanced the dataset actually is.\n",
        "\n",
        "We can use the Counter object to count the number of examples in each class, then use those counts to summarize the distribution.\n",
        "\n",
        "The complete example is listed below."
      ],
      "metadata": {
        "id": "0iT7gZluQunV"
      }
    },
    {
      "cell_type": "code",
      "source": [
        "# summarize the class ratio of the haberman dataset\n",
        "from pandas import read_csv\n",
        "from collections import Counter\n",
        "# define the location of the dataset\n",
        "url = 'https://raw.githubusercontent.com/jbrownlee/Datasets/master/haberman.csv'\n",
        "# define the dataset column names\n",
        "columns = ['age', 'year', 'nodes', 'class']\n",
        "# load the csv file as a data frame\n",
        "dataframe = read_csv(url, header=None, names=columns)\n",
        "# summarize the class distribution\n",
        "target = dataframe['class'].values\n",
        "counter = Counter(target)\n",
        "for k,v in counter.items():\n",
        "\tper = v / len(target) * 100\n",
        "\tprint('Class=%d, Count=%d, Percentage=%.3f%%' % (k, v, per))"
      ],
      "metadata": {
        "colab": {
          "base_uri": "https://localhost:8080/"
        },
        "id": "BtlluGN_Q0T4",
        "outputId": "a8e31c6a-fded-4b32-e0b8-c5f27dca49b6"
      },
      "execution_count": 4,
      "outputs": [
        {
          "output_type": "stream",
          "name": "stdout",
          "text": [
            "Class=1, Count=225, Percentage=73.529%\n",
            "Class=2, Count=81, Percentage=26.471%\n"
          ]
        }
      ]
    },
    {
      "cell_type": "markdown",
      "source": [
        "We can see that class 1 for survival has the most examples at 225, or about 74 percent of the dataset. We can see class 2 for non-survival has fewer examples at 81, or about 26 percent of the dataset.\n",
        "\n",
        "The class distribution is skewed, but it is not severely imbalanced.\n",
        "\n",
        "This is helpful because if we use classification accuracy, then any model that achieves an accuracy less than about 73.5% does not have skill on this dataset.\n",
        "\n",
        "Now that we are familiar with the dataset, let’s explore how we might develop a neural network model."
      ],
      "metadata": {
        "id": "PN7h7EZ_QvaQ"
      }
    },
    {
      "cell_type": "markdown",
      "source": [
        "### Neural Network Learning Dynamics"
      ],
      "metadata": {
        "id": "nOEaso7DXSd2"
      }
    },
    {
      "cell_type": "markdown",
      "source": [
        "We will develop a **Multilayer Perceptron (MLP) model** for the dataset using TensorFlow.\n",
        "\n",
        "We cannot know what model architecture of learning hyperparameters would be good or best for this dataset, so we must experiment and discover what works well.\n",
        "\n",
        "Given that the dataset is small, a small batch size is probably a good idea, e.g. 16 or 32 rows. Using the Adam version of stochastic gradient descent is a good idea when getting started as it will automatically adapt the learning rate and works well on most datasets.\n",
        "\n",
        "Before we evaluate models in earnest, it is a good idea to review the learning dynamics and tune the model architecture and learning configuration until we have stable learning dynamics, then look at getting the most out of the model.\n",
        "\n",
        "We can do this by using a simple train/test split of the data and review plots of the learning curves. This will help us see if we are over-learning or under-learning; then we can adapt the configuration accordingly.\n",
        "\n",
        "First, we must ensure all input variables are floating-point values and encode the target label as integer values 0 and 1."
      ],
      "metadata": {
        "id": "eFQOpuaNXTkC"
      }
    },
    {
      "cell_type": "code",
      "source": [
        "# fit a simple mlp model on the haberman and review learning curves\n",
        "from pandas import read_csv\n",
        "from sklearn.model_selection import train_test_split\n",
        "from sklearn.preprocessing import LabelEncoder\n",
        "from sklearn.metrics import accuracy_score\n",
        "from tensorflow.keras import Sequential\n",
        "from tensorflow.keras.layers import Dense\n",
        "from matplotlib import pyplot\n",
        "# load the dataset\n",
        "path = 'https://raw.githubusercontent.com/jbrownlee/Datasets/master/haberman.csv'\n",
        "df = read_csv(path, header=None)\n",
        "# split into input and output columns\n",
        "X, y = df.values[:, :-1], df.values[:, -1]\n",
        "# ensure all data are floating point values\n",
        "X = X.astype('float32')\n",
        "# encode strings to integer\n",
        "y = LabelEncoder().fit_transform(y)"
      ],
      "metadata": {
        "id": "21WuffATYKsv"
      },
      "execution_count": 42,
      "outputs": []
    },
    {
      "cell_type": "markdown",
      "source": [
        "Next, we can split the dataset into input and output variables, then into 67/33 train and test sets.\n",
        "\n",
        "We must ensure that the split is stratified by the class ensuring that the train and test sets have the same distribution of class labels as the main dataset."
      ],
      "metadata": {
        "id": "wWFokgUhY5Bb"
      }
    },
    {
      "cell_type": "code",
      "source": [
        "# split into train and test datasets\n",
        "X_train, X_test, y_train, y_test = train_test_split(X, y, test_size=0.5, stratify=y, random_state=3)"
      ],
      "metadata": {
        "id": "G9rNbc5AZcbC"
      },
      "execution_count": 43,
      "outputs": []
    },
    {
      "cell_type": "markdown",
      "source": [
        "We can define a minimal MLP model. In this case, we will use one hidden layer with 10 nodes and one output layer (chosen arbitrarily). We will use the ReLU activation function in the hidden layer and the “he_normal” weight initialization, as together, they are a good practice.\n",
        "\n",
        "The output of the model is a sigmoid activation for binary classification and we will minimize binary cross-entropy loss."
      ],
      "metadata": {
        "id": "ZE8YBSjWZkad"
      }
    },
    {
      "cell_type": "code",
      "source": [
        "# determine the number of input features\n",
        "n_features = X.shape[1]\n",
        "# define model\n",
        "model = Sequential()\n",
        "model.add(Dense(10, activation='relu', kernel_initializer='he_normal', input_shape=(n_features,)))\n",
        "model.add(Dense(1, activation='sigmoid'))\n",
        "# compile the model\n",
        "model.compile(optimizer='adam', loss='binary_crossentropy')"
      ],
      "metadata": {
        "id": "HHbEs_wQZten"
      },
      "execution_count": 44,
      "outputs": []
    },
    {
      "cell_type": "markdown",
      "source": [
        "We will fit the model for 200 training epochs (chosen arbitrarily) with a batch size of 16 because it is a small dataset.\n",
        "\n",
        "We are fitting the model on raw data, which we think might be a good idea, but it is an important starting point."
      ],
      "metadata": {
        "id": "_EEtq2WsZzeu"
      }
    },
    {
      "cell_type": "code",
      "source": [
        "# fit the model\n",
        "history = model.fit(X_train, y_train, epochs=200, batch_size=16, verbose=0, validation_data=(X_test,y_test))"
      ],
      "metadata": {
        "id": "hI6d2puWaASJ"
      },
      "execution_count": 45,
      "outputs": []
    },
    {
      "cell_type": "markdown",
      "source": [
        "At the end of training, we will evaluate the model’s performance on the test dataset and report performance as the classification accuracy."
      ],
      "metadata": {
        "id": "FDs5ErVBaH_E"
      }
    },
    {
      "cell_type": "code",
      "source": [
        "import numpy as np\n",
        "# predict test set\n",
        "yhat = (model.predict(X_test) > 0.5).astype(\"int32\")\n",
        "# yhat = np.argmax(model.predict(X_test), axis=-1)\n",
        "# yhat = model.predict_classes(X_test)\n",
        "# evaluate predictions\n",
        "score = accuracy_score(y_test, yhat)\n",
        "print('Accuracy: %.3f' % score)"
      ],
      "metadata": {
        "colab": {
          "base_uri": "https://localhost:8080/"
        },
        "id": "QMj8bBPPaLWm",
        "outputId": "075d5861-7c20-44e5-f8e4-d140a9f11982"
      },
      "execution_count": 46,
      "outputs": [
        {
          "output_type": "stream",
          "name": "stdout",
          "text": [
            "Accuracy: 0.758\n"
          ]
        }
      ]
    },
    {
      "cell_type": "markdown",
      "source": [
        "Finally, we will plot learning curves of the cross-entropy loss on the train and test sets during training."
      ],
      "metadata": {
        "id": "MMYeiw0fcFwh"
      }
    },
    {
      "cell_type": "code",
      "source": [
        "# plot learning curves\n",
        "pyplot.title('Learning Curves')\n",
        "pyplot.xlabel('Epoch')\n",
        "pyplot.ylabel('Cross Entropy')\n",
        "pyplot.plot(history.history['loss'], label='train')\n",
        "pyplot.plot(history.history['val_loss'], label='val')\n",
        "pyplot.legend()\n",
        "pyplot.show()"
      ],
      "metadata": {
        "colab": {
          "base_uri": "https://localhost:8080/",
          "height": 295
        },
        "id": "0uV8JHFRcILM",
        "outputId": "3396bc13-5232-4d3e-d4c4-8df53b4bf85b"
      },
      "execution_count": 47,
      "outputs": [
        {
          "output_type": "display_data",
          "data": {
            "image/png": "[encoded data removed]",
            "text/plain": [
              "<Figure size 432x288 with 1 Axes>"
            ]
          },
          "metadata": {
            "needs_background": "light"
          }
        }
      ]
    },
    {
      "cell_type": "markdown",
      "source": [
        "Running the example first fits the model on the training dataset, then reports the classification accuracy on the test dataset.\n",
        "\n",
        "Line plots of the loss on the train and test sets are then created.\n",
        "\n",
        "We can see that the model quickly finds a good fit on the dataset and does not appear to be over or underfitting.\n",
        "\n",
        "Now that we have some idea of the learning dynamics for a simple MLP model on the dataset, we can look at developing a more robust evaluation of model performance on the dataset."
      ],
      "metadata": {
        "id": "2PLdTJW1dStI"
      }
    },
    {
      "cell_type": "markdown",
      "source": [
        "### Robust Model Evaluation"
      ],
      "metadata": {
        "id": "ZkzdPdBxdkAL"
      }
    },
    {
      "cell_type": "markdown",
      "source": [
        "The k-fold cross-validation procedure can provide a more reliable estimate of MLP performance, although it can be very slow.\n",
        "\n",
        "This is because k models must be fit and evaluated. This is not a problem when the dataset size is small, such as the cancer survival dataset.\n",
        "\n",
        "We can use the StratifiedKFold class and enumerate each fold manually, fit the model, evaluate it, and then report the mean of the evaluation scores at the end of the procedure."
      ],
      "metadata": {
        "id": "VML3sE_ldrZH"
      }
    },
    {
      "cell_type": "code",
      "source": [
        "# k-fold cross-validation of base model for the haberman dataset\n",
        "from numpy import mean\n",
        "from numpy import std\n",
        "from pandas import read_csv\n",
        "from sklearn.model_selection import StratifiedKFold\n",
        "from sklearn.preprocessing import LabelEncoder\n",
        "from sklearn.metrics import accuracy_score\n",
        "from tensorflow.keras import Sequential\n",
        "from tensorflow.keras.layers import Dense\n",
        "from matplotlib import pyplot\n",
        "# load the dataset\n",
        "path = 'https://raw.githubusercontent.com/jbrownlee/Datasets/master/haberman.csv'\n",
        "df = read_csv(path, header=None)\n",
        "# split into input and output columns\n",
        "X, y = df.values[:, :-1], df.values[:, -1]\n",
        "# ensure all data are floating point values\n",
        "X = X.astype('float32')\n",
        "# encode strings to integer\n",
        "y = LabelEncoder().fit_transform(y)\n",
        "# prepare cross validation\n",
        "kfold = StratifiedKFold(10, random_state=1, shuffle=True)\n",
        "# enumerate splits\n",
        "scores = list()\n",
        "for train_ix, test_ix in kfold.split(X, y):\n",
        "\t# split data\n",
        "\tX_train, X_test, y_train, y_test = X[train_ix], X[test_ix], y[train_ix], y[test_ix]\n",
        "\t# determine the number of input features\n",
        "\tn_features = X.shape[1]\n",
        "\t# define model\n",
        "\tmodel = Sequential()\n",
        "\tmodel.add(Dense(10, activation='relu', kernel_initializer='he_normal', input_shape=(n_features,)))\n",
        "\tmodel.add(Dense(1, activation='sigmoid'))\n",
        "\t# compile the model\n",
        "\tmodel.compile(optimizer='adam', loss='binary_crossentropy')\n",
        "\t# fit the model\n",
        "\tmodel.fit(X_train, y_train, epochs=200, batch_size=16, verbose=0)\n",
        "\t# predict test set\n",
        "\t# yhat = np.argmax(model.predict(X_test), axis=-1)\n",
        "\tyhat = (model.predict(X_test) > 0.5).astype(\"int32\")\n",
        "  # evaluate predictions\n",
        "\tscore = accuracy_score(y_test, yhat)\n",
        "\tprint('>%.3f' % score)\n",
        "\tscores.append(score)\n",
        "# summarize all scores\n",
        "print('Mean Accuracy: %.3f (%.3f)' % (mean(scores), std(scores)))"
      ],
      "metadata": {
        "colab": {
          "base_uri": "https://localhost:8080/"
        },
        "id": "P0kKRFK0dupT",
        "outputId": "b4c28661-1de5-4481-cff9-adc5f84d16ed"
      },
      "execution_count": 48,
      "outputs": [
        {
          "output_type": "stream",
          "name": "stdout",
          "text": [
            ">0.677\n",
            ">0.742\n",
            ">0.774\n",
            ">0.742\n",
            ">0.774\n",
            ">0.806\n",
            ">0.833\n",
            ">0.733\n",
            ">0.700\n",
            ">0.833\n",
            "Mean Accuracy: 0.762 (0.050)\n"
          ]
        }
      ]
    },
    {
      "cell_type": "markdown",
      "source": [
        "If you are using TensorFlow version 2.5, you will receive the following warning:\n",
        "\n",
        "tensorflow\\python\\keras\\engine\\sequential.py:455: UserWarning: model.predict_classes() is deprecated and will be removed after 2021-01-01. Please use instead:* np.argmax(model.predict(x), axis=-1), if your model does multi-class classification (e.g. if it uses a softmax last-layer activation).* (model.predict(x) > 0.5).astype(\"int32\"), if your model does binary classification (e.g. if it uses a sigmoid last-layer activation)."
      ],
      "metadata": {
        "id": "_yA3w2Vqz_vf"
      }
    },
    {
      "cell_type": "markdown",
      "source": [
        "Is this a good result?\n",
        "\n",
        "In fact, this is a challenging classification problem and achieving a score above about 74.5% is good.\n",
        "\n",
        "Next, let’s look at how we might fit a final model and use it to make predictions."
      ],
      "metadata": {
        "id": "bnldPswu0Uxo"
      }
    },
    {
      "cell_type": "markdown",
      "source": [
        "### Final Model and Make Predictions"
      ],
      "metadata": {
        "id": "f2S8XuNa0X9l"
      }
    },
    {
      "cell_type": "markdown",
      "source": [
        "Once we choose a model configuration, we can train a final model on all available data and use it to make predictions on new data.\n",
        "\n",
        "In this case, we will use the model with dropout and a small batch size as our final model.\n",
        "\n",
        "We can prepare the data and fit the model as before, although on the entire dataset instead of a training subset of the dataset."
      ],
      "metadata": {
        "id": "HUNt4wh60Y_t"
      }
    },
    {
      "cell_type": "markdown",
      "source": [
        "First, we can define a row of new data."
      ],
      "metadata": {
        "id": "yFykY02k1REP"
      }
    },
    {
      "cell_type": "code",
      "source": [
        "# define a row of new data\n",
        "row = [30,64,1]"
      ],
      "metadata": {
        "id": "bFe_d8Ei1UOK"
      },
      "execution_count": 49,
      "outputs": []
    },
    {
      "cell_type": "markdown",
      "source": [
        "Note: I took this row from the first row of the dataset and the expected label is a ‘1’.\n",
        "\n",
        "We can then make a prediction."
      ],
      "metadata": {
        "id": "T0RDTBKz1Y_Z"
      }
    },
    {
      "cell_type": "code",
      "source": [
        "# make prediction\n",
        "#yhat = model.predict_classes([row])\n",
        "yhat = (model.predict([row]) > 0.5).astype(\"int32\")"
      ],
      "metadata": {
        "id": "-zG6qi0k1bXt"
      },
      "execution_count": 51,
      "outputs": []
    },
    {
      "cell_type": "markdown",
      "source": [
        "Then invert the transform on the prediction, so we can use or interpret the result in the correct label (which is just an integer for this dataset)."
      ],
      "metadata": {
        "id": "sA0zeEYm1thN"
      }
    },
    {
      "cell_type": "code",
      "source": [
        "# fit a final model and make predictions on new data for the haberman dataset\n",
        "from pandas import read_csv\n",
        "from sklearn.preprocessing import LabelEncoder\n",
        "from sklearn.metrics import accuracy_score\n",
        "from tensorflow.keras import Sequential\n",
        "from tensorflow.keras.layers import Dense\n",
        "from tensorflow.keras.layers import Dropout\n",
        "# load the dataset\n",
        "path = 'https://raw.githubusercontent.com/jbrownlee/Datasets/master/haberman.csv'\n",
        "df = read_csv(path, header=None)\n",
        "# split into input and output columns\n",
        "X, y = df.values[:, :-1], df.values[:, -1]\n",
        "# ensure all data are floating point values\n",
        "X = X.astype('float32')\n",
        "# encode strings to integer\n",
        "le = LabelEncoder()\n",
        "y = le.fit_transform(y)\n",
        "# determine the number of input features\n",
        "n_features = X.shape[1]\n",
        "# define model\n",
        "model = Sequential()\n",
        "model.add(Dense(10, activation='relu', kernel_initializer='he_normal', input_shape=(n_features,)))\n",
        "model.add(Dense(1, activation='sigmoid'))\n",
        "# compile the model\n",
        "model.compile(optimizer='adam', loss='binary_crossentropy')\n",
        "# fit the model\n",
        "model.fit(X, y, epochs=200, batch_size=16, verbose=0)\n",
        "# define a row of new data\n",
        "row = [30,64,1]\n",
        "# make prediction\n",
        "yhat = (model.predict([row]) > 0.5).astype(\"int32\")\n",
        "# invert transform to get label for class\n",
        "yhat = le.inverse_transform(yhat)\n",
        "# report prediction\n",
        "print('Predicted: %s' % (yhat[0]))"
      ],
      "metadata": {
        "colab": {
          "base_uri": "https://localhost:8080/"
        },
        "id": "Chbe6ZuI1uad",
        "outputId": "3a398ccc-1b70-4c69-e096-f654d448c11f"
      },
      "execution_count": 59,
      "outputs": [
        {
          "output_type": "stream",
          "name": "stdout",
          "text": [
            "Predicted: 1\n"
          ]
        },
        {
          "output_type": "stream",
          "name": "stderr",
          "text": [
            "/usr/local/lib/python3.7/dist-packages/sklearn/preprocessing/_label.py:154: DataConversionWarning: A column-vector y was passed when a 1d array was expected. Please change the shape of y to (n_samples, ), for example using ravel().\n",
            "  y = column_or_1d(y, warn=True)\n"
          ]
        }
      ]
    },
    {
      "cell_type": "markdown",
      "source": [
        "Running the example fits the model on the entire dataset and makes a prediction for a single row of new data.\n",
        "\n",
        "In this case, we can see that the model predicted a “1” label for the input row."
      ],
      "metadata": {
        "id": "10ObfNzbafeB"
      }
    }
  ]
}