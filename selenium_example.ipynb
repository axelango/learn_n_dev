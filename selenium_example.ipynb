{
  "nbformat": 4,
  "nbformat_minor": 0,
  "metadata": {
    "colab": {
      "name": "selenium_example.ipynb",
      "provenance": [],
      "collapsed_sections": [],
      "authorship_tag": "ABX9TyPNt3HsXBukmySBhkUxmv5Z",
      "include_colab_link": true
    },
    "kernelspec": {
      "name": "python3",
      "display_name": "Python 3"
    },
    "language_info": {
      "name": "python"
    }
  },
  "cells": [
    {
      "cell_type": "markdown",
      "metadata": {
        "id": "view-in-github",
        "colab_type": "text"
      },
      "source": [
        "<a href=\"https://colab.research.google.com/github/jgamel/learn_n_dev/blob/python_web_scrapping/selenium_example.ipynb\" target=\"_parent\"><img src=\"https://colab.research.google.com/assets/colab-badge.svg\" alt=\"Open In Colab\"/></a>"
      ]
    },
    {
      "cell_type": "code",
      "execution_count": 1,
      "metadata": {
        "colab": {
          "base_uri": "https://localhost:8080/"
        },
        "id": "VWbiUV5_m8JO",
        "outputId": "52f1b52f-d828-47c1-98cc-085e60db718a"
      },
      "outputs": [
        {
          "output_type": "stream",
          "name": "stdout",
          "text": [
            "\r0% [Working]\r            \rGet:1 http://security.ubuntu.com/ubuntu bionic-security InRelease [88.7 kB]\n",
            "\r0% [Connecting to archive.ubuntu.com (91.189.88.152)] [1 InRelease 5,483 B/88.7\r                                                                               \rGet:2 https://cloud.r-project.org/bin/linux/ubuntu bionic-cran40/ InRelease [3,626 B]\n",
            "\r0% [Connecting to archive.ubuntu.com (91.189.88.152)] [1 InRelease 25.8 kB/88.7\r0% [Connecting to archive.ubuntu.com (91.189.88.152)] [1 InRelease 57.6 kB/88.7\r0% [2 InRelease gpgv 3,626 B] [Connecting to archive.ubuntu.com (91.189.88.152)\r0% [2 InRelease gpgv 3,626 B] [Connecting to archive.ubuntu.com (91.189.88.152)\r                                                                               \rIgn:3 https://developer.download.nvidia.com/compute/cuda/repos/ubuntu1804/x86_64  InRelease\n",
            "\r                                                                               \r0% [2 InRelease gpgv 3,626 B] [Waiting for headers] [Waiting for headers]\r                                                                         \rHit:4 http://archive.ubuntu.com/ubuntu bionic InRelease\n",
            "Get:5 http://ppa.launchpad.net/c2d4u.team/c2d4u4.0+/ubuntu bionic InRelease [15.9 kB]\n",
            "Ign:6 https://developer.download.nvidia.com/compute/machine-learning/repos/ubuntu1804/x86_64  InRelease\n",
            "Get:7 https://developer.download.nvidia.com/compute/cuda/repos/ubuntu1804/x86_64  Release [696 B]\n",
            "Get:8 http://archive.ubuntu.com/ubuntu bionic-updates InRelease [88.7 kB]\n",
            "Hit:9 https://developer.download.nvidia.com/compute/machine-learning/repos/ubuntu1804/x86_64  Release\n",
            "Get:10 https://developer.download.nvidia.com/compute/cuda/repos/ubuntu1804/x86_64  Release.gpg [836 B]\n",
            "Get:11 https://cloud.r-project.org/bin/linux/ubuntu bionic-cran40/ Packages [76.8 kB]\n",
            "Hit:12 http://ppa.launchpad.net/cran/libgit2/ubuntu bionic InRelease\n",
            "Get:13 http://archive.ubuntu.com/ubuntu bionic-backports InRelease [74.6 kB]\n",
            "Get:14 http://security.ubuntu.com/ubuntu bionic-security/main amd64 Packages [2,596 kB]\n",
            "Hit:15 http://ppa.launchpad.net/deadsnakes/ppa/ubuntu bionic InRelease\n",
            "Get:16 http://security.ubuntu.com/ubuntu bionic-security/universe amd64 Packages [1,474 kB]\n",
            "Get:17 http://security.ubuntu.com/ubuntu bionic-security/restricted amd64 Packages [806 kB]\n",
            "Get:18 http://ppa.launchpad.net/graphics-drivers/ppa/ubuntu bionic InRelease [21.3 kB]\n",
            "Get:20 http://ppa.launchpad.net/c2d4u.team/c2d4u4.0+/ubuntu bionic/main Sources [1,827 kB]\n",
            "Get:21 https://developer.download.nvidia.com/compute/cuda/repos/ubuntu1804/x86_64  Packages [931 kB]\n",
            "Get:22 http://archive.ubuntu.com/ubuntu bionic-updates/universe amd64 Packages [2,252 kB]\n",
            "Get:23 http://ppa.launchpad.net/c2d4u.team/c2d4u4.0+/ubuntu bionic/main amd64 Packages [936 kB]\n",
            "Get:24 http://archive.ubuntu.com/ubuntu bionic-updates/main amd64 Packages [3,036 kB]\n",
            "Get:25 http://archive.ubuntu.com/ubuntu bionic-updates/restricted amd64 Packages [840 kB]\n",
            "Get:26 http://ppa.launchpad.net/graphics-drivers/ppa/ubuntu bionic/main amd64 Packages [42.8 kB]\n",
            "Fetched 15.1 MB in 3s (5,004 kB/s)\n",
            "Reading package lists... Done\n"
          ]
        }
      ],
      "source": [
        "!apt-get update"
      ]
    },
    {
      "cell_type": "code",
      "source": [
        "from google.colab import drive\n",
        "drive.mount('/content/gdrive', force_remount=True)"
      ],
      "metadata": {
        "colab": {
          "base_uri": "https://localhost:8080/"
        },
        "id": "eKoEIqBxnDER",
        "outputId": "6c7d9563-99a4-441c-d482-4fe129206615"
      },
      "execution_count": 2,
      "outputs": [
        {
          "output_type": "stream",
          "name": "stdout",
          "text": [
            "Mounted at /content/gdrive\n"
          ]
        }
      ]
    },
    {
      "cell_type": "code",
      "source": [
        "import sys\n",
        "sys.path.append('/content/gdrive/My Drive/Colab Notebooks')"
      ],
      "metadata": {
        "id": "6S9AhebBAhG3"
      },
      "execution_count": 3,
      "outputs": []
    },
    {
      "cell_type": "code",
      "source": [
        "!apt install chromium-chromedriver"
      ],
      "metadata": {
        "colab": {
          "base_uri": "https://localhost:8080/"
        },
        "id": "yhNNtvBFnOJS",
        "outputId": "928a67f0-6c41-44d9-9376-51a919774810"
      },
      "execution_count": 4,
      "outputs": [
        {
          "output_type": "stream",
          "name": "stdout",
          "text": [
            "Reading package lists... Done\n",
            "Building dependency tree       \n",
            "Reading state information... Done\n",
            "The following package was automatically installed and is no longer required:\n",
            "  libnvidia-common-470\n",
            "Use 'apt autoremove' to remove it.\n",
            "The following additional packages will be installed:\n",
            "  chromium-browser chromium-browser-l10n chromium-codecs-ffmpeg-extra\n",
            "Suggested packages:\n",
            "  webaccounts-chromium-extension unity-chromium-extension\n",
            "The following NEW packages will be installed:\n",
            "  chromium-browser chromium-browser-l10n chromium-chromedriver\n",
            "  chromium-codecs-ffmpeg-extra\n",
            "0 upgraded, 4 newly installed, 0 to remove and 75 not upgraded.\n",
            "Need to get 95.3 MB of archives.\n",
            "After this operation, 327 MB of additional disk space will be used.\n",
            "Get:1 http://archive.ubuntu.com/ubuntu bionic-updates/universe amd64 chromium-codecs-ffmpeg-extra amd64 97.0.4692.71-0ubuntu0.18.04.1 [1,142 kB]\n",
            "Get:2 http://archive.ubuntu.com/ubuntu bionic-updates/universe amd64 chromium-browser amd64 97.0.4692.71-0ubuntu0.18.04.1 [84.7 MB]\n",
            "Get:3 http://archive.ubuntu.com/ubuntu bionic-updates/universe amd64 chromium-browser-l10n all 97.0.4692.71-0ubuntu0.18.04.1 [4,370 kB]\n",
            "Get:4 http://archive.ubuntu.com/ubuntu bionic-updates/universe amd64 chromium-chromedriver amd64 97.0.4692.71-0ubuntu0.18.04.1 [5,055 kB]\n",
            "Fetched 95.3 MB in 3s (28.9 MB/s)\n",
            "Selecting previously unselected package chromium-codecs-ffmpeg-extra.\n",
            "(Reading database ... 155320 files and directories currently installed.)\n",
            "Preparing to unpack .../chromium-codecs-ffmpeg-extra_97.0.4692.71-0ubuntu0.18.04.1_amd64.deb ...\n",
            "Unpacking chromium-codecs-ffmpeg-extra (97.0.4692.71-0ubuntu0.18.04.1) ...\n",
            "Selecting previously unselected package chromium-browser.\n",
            "Preparing to unpack .../chromium-browser_97.0.4692.71-0ubuntu0.18.04.1_amd64.deb ...\n",
            "Unpacking chromium-browser (97.0.4692.71-0ubuntu0.18.04.1) ...\n",
            "Selecting previously unselected package chromium-browser-l10n.\n",
            "Preparing to unpack .../chromium-browser-l10n_97.0.4692.71-0ubuntu0.18.04.1_all.deb ...\n",
            "Unpacking chromium-browser-l10n (97.0.4692.71-0ubuntu0.18.04.1) ...\n",
            "Selecting previously unselected package chromium-chromedriver.\n",
            "Preparing to unpack .../chromium-chromedriver_97.0.4692.71-0ubuntu0.18.04.1_amd64.deb ...\n",
            "Unpacking chromium-chromedriver (97.0.4692.71-0ubuntu0.18.04.1) ...\n",
            "Setting up chromium-codecs-ffmpeg-extra (97.0.4692.71-0ubuntu0.18.04.1) ...\n",
            "Setting up chromium-browser (97.0.4692.71-0ubuntu0.18.04.1) ...\n",
            "update-alternatives: using /usr/bin/chromium-browser to provide /usr/bin/x-www-browser (x-www-browser) in auto mode\n",
            "update-alternatives: using /usr/bin/chromium-browser to provide /usr/bin/gnome-www-browser (gnome-www-browser) in auto mode\n",
            "Setting up chromium-chromedriver (97.0.4692.71-0ubuntu0.18.04.1) ...\n",
            "Setting up chromium-browser-l10n (97.0.4692.71-0ubuntu0.18.04.1) ...\n",
            "Processing triggers for man-db (2.8.3-2ubuntu0.1) ...\n",
            "Processing triggers for hicolor-icon-theme (0.17-2) ...\n",
            "Processing triggers for mime-support (3.60ubuntu1) ...\n",
            "Processing triggers for libc-bin (2.27-3ubuntu1.3) ...\n",
            "/sbin/ldconfig.real: /usr/local/lib/python3.7/dist-packages/ideep4py/lib/libmkldnn.so.0 is not a symbolic link\n",
            "\n"
          ]
        }
      ]
    },
    {
      "cell_type": "code",
      "source": [
        "from selenium import webdriver\n",
        "chrome_options = webdriver.ChromeOptions()\n",
        "chrome_options.add_argument('--headless')\n",
        "chrome_options.add_argument('--no-sandbox')\n",
        "chrome_options.add_argument('--disable-dev-shm-usage')\n",
        "driver = webdriver.Chrome('chromedriver',chrome_options=chrome_options)"
      ],
      "metadata": {
        "colab": {
          "base_uri": "https://localhost:8080/"
        },
        "id": "odQB6dUknb1W",
        "outputId": "8a509183-b6b7-46be-8481-be97d61944da"
      },
      "execution_count": 5,
      "outputs": [
        {
          "output_type": "stream",
          "name": "stderr",
          "text": [
            "/usr/local/lib/python3.7/dist-packages/ipykernel_launcher.py:6: DeprecationWarning: use options instead of chrome_options\n",
            "  \n"
          ]
        }
      ]
    },
    {
      "cell_type": "code",
      "source": [
        "\n",
        "import time\n",
        "\n",
        "from selenium import webdriver\n",
        "from selenium.webdriver.common.keys import Keys\n",
        "\n",
        "browser = driver\n",
        "## In the following segment, I show how you can get a list of news article URLs based on a keyword search.\n",
        "## I use CNN as an example but news source would work.\n",
        "\n",
        "base_url = u'https://www.cnn.com/search?q=politics&size=200'\n",
        "\n",
        "browser.get(base_url)\n",
        "time.sleep(1)\n",
        "\n",
        "#Finds the container that contains every news article.\n",
        "main_news_container = browser.find_element_by_class_name('cnn-search__results-list')\n",
        "\n",
        "#In main container get 'a'\n",
        "text_sections = main_news_container.find_elements_by_xpath(\"//a[@href]\")\n",
        "\n",
        "for elem in text_sections:\n",
        "    if \"/2022/\" in elem.get_attribute(\"href\"):\n",
        "        #this is printing the link\n",
        "        print(elem.get_attribute(\"href\"))\n",
        "        #this is printing the Headline\n",
        "        print(elem.text)\n",
        "\n",
        "#Find the text body_elements inside the main_news_container\n",
        "body_elements = main_news_container.find_elements_by_class_name(\"cnn-search__result-body\")\n",
        "\n",
        "#this is how you get the body body_elements text\n",
        "print(body_elements[1].text)\n"
      ],
      "metadata": {
        "colab": {
          "base_uri": "https://localhost:8080/"
        },
        "id": "ASw56iXVo6wL",
        "outputId": "1f486948-b618-4d5c-97d5-78ba8f4bd956"
      },
      "execution_count": 8,
      "outputs": [
        {
          "output_type": "stream",
          "name": "stderr",
          "text": [
            "/usr/local/lib/python3.7/dist-packages/ipykernel_launcher.py:17: DeprecationWarning: find_element_by_class_name is deprecated. Please use find_element(by=By.CLASS_NAME, value=name) instead\n",
            "/content/gdrive/My Drive/Colab Notebooks/selenium/webdriver/remote/webelement.py:426: UserWarning: find_elements_by_xpath is deprecated. Please use find_elements(by=By.XPATH, value=xpath) instead\n",
            "  warnings.warn(\"find_elements_by_xpath is deprecated. Please use find_elements(by=By.XPATH, value=xpath) instead\")\n"
          ]
        },
        {
          "output_type": "stream",
          "name": "stdout",
          "text": [
            "https://www.cnn.com/2022/03/03/opinions/realpolitik-putin-ukraine-mabry/index.html\n",
            "\n",
            "https://www.cnn.com/2022/03/03/opinions/realpolitik-putin-ukraine-mabry/index.html\n",
            "Why the cavalry isn't coming to Ukraine's side\n",
            "https://www.cnn.com/2022/03/03/politics/arizona-senate-doug-ducey/index.html\n",
            "\n",
            "https://www.cnn.com/2022/03/03/politics/arizona-senate-doug-ducey/index.html\n",
            "Arizona Gov. Doug Ducey rules out US Senate bid and says he may endorse in GOP primary\n",
            "https://www.cnn.com/2022/03/03/politics/trump-january-6-committee-eastman-email/index.html\n",
            "\n",
            "https://www.cnn.com/2022/03/03/politics/trump-january-6-committee-eastman-email/index.html\n",
            "The single most damning email exchange in the new January 6 committee filing\n",
            "https://www.cnn.com/2022/03/03/politics/ken-duberstein-reagan-chief-of-staff/index.html\n",
            "\n",
            "https://www.cnn.com/2022/03/03/politics/ken-duberstein-reagan-chief-of-staff/index.html\n",
            "Reagan chief of staff Ken Duberstein dies at age 77\n",
            "https://www.cnn.com/2022/03/03/politics/trump-putin-russia-ukraine-graham/index.html\n",
            "\n",
            "https://www.cnn.com/2022/03/03/politics/trump-putin-russia-ukraine-graham/index.html\n",
            "Donald Trump calling Vladimir Putin a 'genius' was no mistake\n",
            "https://www.cnn.com/2022/03/03/politics/ben-ray-lujan-back-senate/index.html\n",
            "\n",
            "https://www.cnn.com/2022/03/03/politics/ben-ray-lujan-back-senate/index.html\n",
            "New Mexico Democratic senator back to work about a month after suffering stroke\n",
            "https://www.cnn.com/2022/03/03/politics/supreme-court-kentucky-abortion/index.html\n",
            "\n",
            "https://www.cnn.com/2022/03/03/politics/supreme-court-kentucky-abortion/index.html\n",
            "Supreme Court allows Kentucky's GOP attorney general to defend controversial abortion law\n",
            "https://www.cnn.com/2022/03/03/politics/us-sanctions-on-russian-oligarchs/index.html\n",
            "\n",
            "https://www.cnn.com/2022/03/03/politics/us-sanctions-on-russian-oligarchs/index.html\n",
            "Biden administration planning to impose new sanctions on Russian oligarchs as soon as Thursday\n",
            "https://www.cnn.com/2022/03/03/opinions/racist-media-coverage-ukraine-africa-makura-lgs-intl/index.html\n",
            "\n",
            "https://www.cnn.com/2022/03/03/opinions/racist-media-coverage-ukraine-africa-makura-lgs-intl/index.html\n",
            "Media coverage of Ukraine shows it's time to rethink what we know about Africa\n",
            "https://www.cnn.com/2022/03/03/politics/supreme-court-zubaydah/index.html\n",
            "\n",
            "https://www.cnn.com/2022/03/03/politics/supreme-court-zubaydah/index.html\n",
            "Supreme Court blocks torture testimony sought by terrorism suspect held in Guantanamo Bay\n",
            "https://www.cnn.com/videos/politics/2022/03/03/marjorie-taylor-greene-sotu-republicans-problem-cillizza-the-point-orig.cnn\n",
            "\n",
            "https://www.cnn.com/videos/politics/2022/03/03/marjorie-taylor-greene-sotu-republicans-problem-cillizza-the-point-orig.cnn\n",
            "Republicans have a Marjorie Taylor Greene problem\n",
            "https://www.cnn.com/2022/03/03/politics/house-burn-pits-bill/index.html\n",
            "\n",
            "https://www.cnn.com/2022/03/03/politics/house-burn-pits-bill/index.html\n",
            "House passes bill to help veterans exposed to toxic burn pits\n",
            "https://www.cnn.com/2022/03/03/politics/white-house-ukraine-emergency-funding-request/index.html\n",
            "\n",
            "https://www.cnn.com/2022/03/03/politics/white-house-ukraine-emergency-funding-request/index.html\n",
            "White House requests $10 billion for Ukraine aid as part of broader emergency funding request\n",
            "https://www.cnn.com/2022/03/03/politics/texas-biden-court-losses-paxton-bush/index.html\n",
            "\n",
            "https://www.cnn.com/2022/03/03/politics/texas-biden-court-losses-paxton-bush/index.html\n",
            "Why Texas is a legal graveyard for Biden policies\n",
            "https://www.cnn.com/2022/03/03/politics/michael-madigan-illinois-house-speaker-indicted/index.html\n",
            "\n",
            "https://www.cnn.com/2022/03/03/politics/michael-madigan-illinois-house-speaker-indicted/index.html\n",
            "Former Illinois House speaker indicted on racketeering and bribery charges\n",
            "https://www.cnn.com/2022/03/02/politics/trump-criminal-conspiracy-defraud-january-6-committee/index.html\n",
            "\n",
            "https://www.cnn.com/2022/03/02/politics/trump-criminal-conspiracy-defraud-january-6-committee/index.html\n",
            "Trump and right-wing lawyer were part of 'criminal conspiracy' to overturn 2020 election, January 6 committee alleges\n",
            "https://www.cnn.com/videos/politics/2022/03/03/january-6-committee-alleges-donald-trump-criminal-conspiracy-reid-honig-live-dlt-vpx.cnn\n",
            "\n",
            "https://www.cnn.com/videos/politics/2022/03/03/january-6-committee-alleges-donald-trump-criminal-conspiracy-reid-honig-live-dlt-vpx.cnn\n",
            "Hear details of Jan. 6 committee's 'most extensive summary' of investigation so far\n",
            "https://www.cnn.com/2022/03/02/politics/lindsey-graham-trump-putin-mistake/index.html\n",
            "\n",
            "https://www.cnn.com/2022/03/02/politics/lindsey-graham-trump-putin-mistake/index.html\n",
            "Lindsey Graham says Trump calling Putin genius was 'a mistake'\n",
            "https://www.cnn.com/2022/03/03/politics/russian-escalation-fears-ukraine-war/index.html\n",
            "\n",
            "https://www.cnn.com/2022/03/03/politics/russian-escalation-fears-ukraine-war/index.html\n",
            "Fears mount of a horrific Russian escalation in Ukraine\n",
            "https://www.cnn.com/2022/03/02/politics/van-taylor-texas-primary-reelection/index.html\n",
            "\n",
            "https://www.cnn.com/2022/03/02/politics/van-taylor-texas-primary-reelection/index.html\n",
            "Texas Republican lawmaker suspends campaign after admitting to affair\n",
            "https://www.cnn.com/2022/03/02/politics/trump-popularity-wisconsin-poll/index.html\n",
            "\n",
            "https://www.cnn.com/2022/03/02/politics/trump-popularity-wisconsin-poll/index.html\n",
            "Donald Trump isn't getting any more popular\n",
            "https://www.cnn.com/videos/politics/2022/03/02/lauren-boebert-interrupts-biden-state-of-the-union-speech-vpx.cnn\n",
            "\n",
            "https://www.cnn.com/videos/politics/2022/03/02/lauren-boebert-interrupts-biden-state-of-the-union-speech-vpx.cnn\n",
            "Rep. Boebert interrupts Biden's speech before he mentions deceased son\n",
            "https://www.cnn.com/videos/politics/2022/03/02/analysis-biden-sotu-speech-cillizza-the-point-orig.cnn\n",
            "\n",
            "https://www.cnn.com/videos/politics/2022/03/02/analysis-biden-sotu-speech-cillizza-the-point-orig.cnn\n",
            "Cillizza reacts to the best and worst moment from State of the Union\n",
            "https://www.cnn.com/2022/03/02/politics/oath-keeper-plea-deal-seditious-conspiracy/index.html\n",
            "\n",
            "https://www.cnn.com/2022/03/02/politics/oath-keeper-plea-deal-seditious-conspiracy/index.html\n",
            "Oath Keeper pleads guilty to seditious conspiracy and will cooperate with Justice Department\n",
            "https://www.cnn.com/2022/03/02/politics/reffitt-january-6-trial-capitol-police-testimony/index.html\n",
            "\n",
            "https://www.cnn.com/2022/03/02/politics/reffitt-january-6-trial-capitol-police-testimony/index.html\n",
            "January 6 trial's witness testimony opens with searing Capitol Police audio and emotional testimony\n",
            "https://www.cnn.com/2022/03/02/politics/ron-desantis-florida-student-masks/index.html\n",
            "\n",
            "https://www.cnn.com/2022/03/02/politics/ron-desantis-florida-student-masks/index.html\n",
            "Ron DeSantis just yelled at high school students for wearing masks\n",
            "https://www.cnn.com/2022/03/02/politics/ellen-knight-national-security-council-bolton-book-trump/index.html\n",
            "\n",
            "https://www.cnn.com/2022/03/02/politics/ellen-knight-national-security-council-bolton-book-trump/index.html\n",
            "Biden rehires NSC official pushed out by Trump over Bolton book\n",
            "https://www.cnn.com/videos/politics/2022/03/02/desantis-students-masks-usf-vpx.wfts\n",
            "\n",
            "https://www.cnn.com/videos/politics/2022/03/02/desantis-students-masks-usf-vpx.wfts\n",
            "'Ridiculous': DeSantis lambasts students for wearing their masks\n",
            "https://www.cnn.com/2022/03/01/politics/2022-texas-primary-election-key-races/index.html\n",
            "\n",
            "https://www.cnn.com/2022/03/01/politics/2022-texas-primary-election-key-races/index.html\n",
            "Ken Paxton and George P. Bush will advance to May runoff in Texas attorney general primary, CNN projects\n",
            "https://www.cnn.com/2022/03/02/politics/south-dakota-medication-abortion-bill/index.html\n",
            "\n",
            "https://www.cnn.com/2022/03/02/politics/south-dakota-medication-abortion-bill/index.html\n",
            "South Dakota passes bill further restricting access to medication abortions\n",
            "https://www.cnn.com/2022/03/02/politics/gold-bars-shipwreck-returned-france-us-investigation/index.html\n",
            "\n",
            "https://www.cnn.com/2022/03/02/politics/gold-bars-shipwreck-returned-france-us-investigation/index.html\n",
            "Gold bars stolen from 1746 shipwreck returned to France from the US after decades-long investigation\n",
            "https://www.cnn.com/2022/03/02/politics/cuellar-cisneros-texas-28th-district-runoff/index.html\n",
            "\n",
            "https://www.cnn.com/2022/03/02/politics/cuellar-cisneros-texas-28th-district-runoff/index.html\n",
            "Cuellar and Cisneros will advance to runoff in Texas' 28th Congressional District, CNN projects\n",
            "https://www.cnn.com/videos/politics/2022/03/02/rubio-putin-state-of-mind-reaction-vpx.cnn\n",
            "\n",
            "https://www.cnn.com/videos/politics/2022/03/02/rubio-putin-state-of-mind-reaction-vpx.cnn\n",
            "'We're dealing with a different guy': Rubio on why Putin's moves will be different this time\n",
            "https://www.cnn.com/2022/03/02/politics/cabinet-meeting-ukraine/index.html\n",
            "\n",
            "https://www.cnn.com/2022/03/02/politics/cabinet-meeting-ukraine/index.html\n",
            "Biden's Cabinet meeting expected to focus heavily on invasion of Ukraine, officials say\n",
            "https://www.cnn.com/2022/03/02/politics/blinken-russia-cyberattacks-ukraine/index.html\n",
            "\n",
            "https://www.cnn.com/2022/03/02/politics/blinken-russia-cyberattacks-ukraine/index.html\n",
            "Biden administration remains 'on guard' for Russian cyberattacks amid war in Ukraine\n",
            "https://www.cnn.com/2022/03/02/politics/biden-inflation-build-back-better-legislation/index.html\n",
            "\n",
            "https://www.cnn.com/2022/03/02/politics/biden-inflation-build-back-better-legislation/index.html\n",
            "Biden's plan to shield families from inflation relies on legislation the Senate hasn't been able to pass\n",
            "https://www.cnn.com/2022/03/02/politics/nra-lawsuit-new-york/index.html\n",
            "\n",
            "https://www.cnn.com/2022/03/02/politics/nra-lawsuit-new-york/index.html\n",
            "Judge blocks New York attorney general's attempt to dissolve NRA but allows suit to proceed\n",
            "https://www.cnn.com/2022/03/02/politics/us-russia-ukraine-civilians-warning/index.html\n",
            "\n",
            "https://www.cnn.com/2022/03/02/politics/us-russia-ukraine-civilians-warning/index.html\n",
            "US officials warn Russia will increasingly hit civilian targets and seek 'slow annihilation' of Ukraine's military\n",
            "https://www.cnn.com/2022/03/02/politics/supreme-court-election-law-north-carolina/index.html\n",
            "\n",
            "https://www.cnn.com/2022/03/02/politics/supreme-court-election-law-north-carolina/index.html\n",
            "Is the Supreme Court ready to upend the power of state courts in disputes over federal elections?\n",
            "https://www.cnn.com/2022/03/02/politics/ketanji-brown-jackson-capitol-hill-meetings/index.html\n",
            "\n",
            "https://www.cnn.com/2022/03/02/politics/ketanji-brown-jackson-capitol-hill-meetings/index.html\n",
            "Confirmation hearings set for Ketanji Brown Jackson as Supreme Court nominee meets with senators\n",
            "https://www.cnn.com/2022/03/02/politics/peter-navarro-january-6/index.html\n",
            "\n",
            "https://www.cnn.com/2022/03/02/politics/peter-navarro-january-6/index.html\n",
            "Trump adviser Peter Navarro skips scheduled deposition with January 6 committee\n",
            "https://www.cnn.com/2022/03/02/politics/putin-mental-state-what-matters/index.html\n",
            "\n",
            "https://www.cnn.com/2022/03/02/politics/putin-mental-state-what-matters/index.html\n",
            "There is plenty of speculation about Putin's state of mind\n",
            "https://www.cnn.com/2022/03/02/politics/fact-check-biden-2022-sotu-address/index.html\n",
            "\n",
            "https://www.cnn.com/2022/03/02/politics/fact-check-biden-2022-sotu-address/index.html\n",
            "Fact-checking Biden's 2022 State of the Union address\n",
            "The world is aghast at the horror taking place in Ukraine. Urban centers are being attacked. Civilians, including children, are being killed. All of it seemingly because Russian dictator Vladimir Putin decided he could swallow up a neighboring country. Millions around the world watch, outraged, and ask, \"Are we just going to let this happen? Is the world allowing a large, powerful country to swallow up a smaller, weaker one?\" And so many people can't believe the world is allowing it to happen. But we are. And we usually have. In fact, it has long been considered \"sound\" foreign policy. One of the central reasons offered by its defenders: Calculating which negative outcomes are undesirable yet not existential for the outside world (Ukraine potentially falling to Russia) and which are worth going to war over (a NATO member being attacked) has kept much worse outcomes from occurring, like World War III. The practitioners of foreign affairs -- the women and men who decide how their nations will interact with the world -- know this reality as \"realpolitik.\" It is the dry-eyed (and some might say coldhearted) practice of global politics as a logical game of means-ends calculations. Because no country's power or influence is infinite, nation-states must determine what are their crucial, even existential, interests and what are not. They must also decide what risks they are willing to take to accomplish what goals, and what risks are too great. If Machiavelli and Otto von Bismarck are often proffered as two fathers of realpolitik, the Cold War is perhaps the greatest endorsement of its wisdom. As the thinking goes: Despite a \"twilight struggle\" between the superpowers and their many proxy conflicts and close calls, like the Cuban missile crisis, they never allowed confrontation to escalate to a direct conflict, or worse. They acted \"rationally\" given the stakes and the circumstances of who had power and interest were on the globe. So the US and its allies let Moscow have its sphere of influence in the Soviet Union, which included Ukraine, and the Eastern Bloc, which included Poland and other countries that after the end of the Cold War joined NATO. And it \"worked,\" in that sense. There was no nuclear war. No WW III. No annihilation of humanity. Yes, millions were oppressed by Soviet communism. But realpolitik is not, strictly speaking, concerned with that. It is a world Vladimir Putin and Joe Biden grew up in. But we have never had to watch realpolitik unfold in real time on 24/7 social media in a world of ubiquitous camera phones. And it complicates matters, especially for world leaders, like Biden and Putin. It makes the cruelty of traditional power politics transparent and ubiquitous. To put the current state of international affairs in the most terribly brutal realpolitik terms: Is Ukraine worth the possibility of involving the United States and Russia, two nuclear powers that could destroy human life on earth, in a shooting war? And are the risks to their citizens and the world worth keeping Putin out of Ukraine? These questions do not consider the morality of allowing a smaller country to be swallowed by a larger one, or a democratic one to be crushed by an authoritarian one. But that is the whole point of realpolitik. Recognizing that considerations not connected to calculations of relative power -- like morality or ideology -- can lead nation-states into actions that actually threaten their power and even their existence, realpolitik seeks to remove those considerations, or at least to place them in a rational hierarchy. This is why Joe Biden has repeatedly said the United States will not send troops to Ukraine. This is why the United States actually removed its troops who were engaged in training from Ukraine once it knew Russia was coming. Some critics have lamented that Biden signaled to Putin that the United States would not intervene directly militarily in Ukraine. He did signal it. And that was the point. To let his adversary know clearly how far he can go, and where the line is. And the line is NATO. Article 5 of NATO -- the central pillar of the trans-Atlantic alliance -- says an attack on any member will be treated as an attack on all members. Ukraine is not a member of NATO. Its neighbors Poland, Slovakia, Hungary and Romania are. If Russia attacks any of them, the United States and the other 29 members of NATO are obligated by Article 5 to consider it an attack on themselves and to defend that member state. That is a dangerous trip wire. Putin knows this. And Biden and the leaders of NATO are hoping that knowledge will keep Putin from going farther than Ukraine. Of course, the US and other nations are not sitting idly by and doing nothing. Sanctions are powerful. They are short of military confrontation, but they can bite. Russia is even suggesting it will treat them as acts of aggression. Moreover, non-state-actors like business, sports, arts and cultural institutions can take actions too. And they are. Still, the limits of realpolitik are manifest. Morally, of course. Watching the Russian war of choice imposed on Ukraine is difficult. Watching children die just because Putin decided to invade is terrible. An even graver shortcoming is successful realpolitik relies on your opponent being rational. There is increasing speculation among some American Putin experts, including Russia expert and former Secretary of State Condoleezza Rice, and the French President that Putin may not be completely rational, and it does appear to be only that, as far as we know, speculation. Terrorists, such as Al Qaeda or US domestic terrorists, are not rational actors either. They also are not nation-states, so they have no land you can threaten and relatively few economic interests you can attack. So realpolitik is limited in its ability to help leaders calculate what moves and countermoves will lead to what consequences. And that is the greatest danger of all.\n"
          ]
        },
        {
          "output_type": "stream",
          "name": "stderr",
          "text": [
            "/content/gdrive/My Drive/Colab Notebooks/selenium/webdriver/remote/webelement.py:464: UserWarning: find_elements_by_class_name is deprecated. Please use find_elements(by=By.CLASS_NAME, value=name) instead\n",
            "  warnings.warn(\"find_elements_by_class_name is deprecated. Please use find_elements(by=By.CLASS_NAME, value=name) instead\")\n"
          ]
        }
      ]
    }
  ]
}