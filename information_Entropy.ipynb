{
  "nbformat": 4,
  "nbformat_minor": 0,
  "metadata": {
    "colab": {
      "name": "information_Entropy.ipynb",
      "provenance": [],
      "collapsed_sections": [],
      "authorship_tag": "ABX9TyPfx8+0W2CnWA+KUSXipTlO",
      "include_colab_link": true
    },
    "kernelspec": {
      "name": "python3",
      "display_name": "Python 3"
    },
    "language_info": {
      "name": "python"
    }
  },
  "cells": [
    {
      "cell_type": "markdown",
      "metadata": {
        "id": "view-in-github",
        "colab_type": "text"
      },
      "source": [
        "<a href=\"https://colab.research.google.com/github/jgamel/learn_n_dev/blob/python_modeling_forecasting/information_Entropy.ipynb\" target=\"_parent\"><img src=\"https://colab.research.google.com/assets/colab-badge.svg\" alt=\"Open In Colab\"/></a>"
      ]
    },
    {
      "cell_type": "markdown",
      "source": [
        "# Introduction to Information Entropy"
      ],
      "metadata": {
        "id": "UagdbfRtCe7o"
      }
    },
    {
      "cell_type": "markdown",
      "source": [
        "Information theory is a subfield of mathematics concerned with transmitting data across a noisy channel.\n",
        "\n",
        "A cornerstone of information theory is the idea of quantifying how much information there is in a message. More generally, this can be used to quantify the information in an event and a random variable, called entropy, and is calculated using probability.\n",
        "\n",
        "Calculating information and entropy is a useful tool in machine learning and is used as the basis for techniques such as feature selection, building decision trees, and, more generally, fitting classification models. As such, a machine learning practitioner requires a strong understanding and intuition for information and entropy."
      ],
      "metadata": {
        "id": "3LjSvzX9CiWr"
      }
    },
    {
      "cell_type": "markdown",
      "source": [
        "In this Script: \n",
        "\n",
        "* Information theory is concerned with data compression and transmission and builds upon probability and supports machine learning.\n",
        "* Information provides a way to quantify the amount of surprise for an event measured in bits.\n",
        "* Entropy provides a measure of the average amount of information needed to represent an event drawn from a probability distribution for a random variable."
      ],
      "metadata": {
        "id": "22WcSkWMGfVU"
      }
    },
    {
      "cell_type": "markdown",
      "source": [
        "### Information Theory"
      ],
      "metadata": {
        "id": "7z8T5UMCGkyh"
      }
    },
    {
      "cell_type": "markdown",
      "source": [
        "[Information theory](https://en.wikipedia.org/wiki/Information_theory) is a field of study concerned with quantifying information for communication.\n",
        "\n",
        "It is a subfield of mathematics and is concerned with topics like data compression and the limits of signal processing. The field was proposed and developed by Claude Shannon while working at the US telephone company Bell Labs.\n",
        "\n",
        "A foundational concept from information is the quantification of the amount of information in things like events, random variables, and distributions.\n",
        "\n",
        "Quantifying the amount of information requires the use of probabilities, hence the relationship of information theory to probability.\n",
        "\n",
        "Measurements of information are widely used in artificial intelligence and machine learning, such as in the construction of decision trees and the optimization of classifier models.\n",
        "\n",
        "As such, there is an important relationship between information theory and machine learning and a practitioner must be familiar with some of the basic concepts from the field."
      ],
      "metadata": {
        "id": "Fd_8p6oaIRlM"
      }
    },
    {
      "cell_type": "markdown",
      "source": [
        "### Calculate the Information for an Event"
      ],
      "metadata": {
        "id": "9z8PEdcLIt4k"
      }
    },
    {
      "cell_type": "markdown",
      "source": [
        "Quantifying information is the foundation of the field of information theory.\n",
        "\n",
        "The intuition behind quantifying information is the idea of measuring how much surprise there is in an event. Those events that are rare (low probability) are more surprising and therefore have more information than those events that are common (high probability).\n",
        "\n",
        "* Low Probability Event: High Information (surprising).\n",
        "* High Probability Event: Low Information (unsurprising).\n",
        "\n",
        "Rare events are more uncertain or more surprising and require more information to represent them than common events.\n",
        "\n",
        "We can calculate the amount of information there is in an event using the probability of the event. This is called “Shannon information,” “self-information,” or simply the “information,” and can be calculated for a discrete event x as follows:\n",
        "\n",
        "information(x) = -log( p(x) )\n",
        "Where log() is the base-2 logarithm and p(x) is the probability of the event x.\n",
        "\n",
        "The choice of the base-2 logarithm means that the units of the information measure is in bits (binary digits). This can be directly interpreted in the information processing sense as the number of bits required to represent the event.\n",
        "\n",
        "The calculation of information is often written as h(); for example:\n",
        "\n",
        "```h(x) = -log( p(x) )```\n",
        "\n",
        "The negative sign ensures that the result is always positive or zero.\n",
        "\n",
        "Information will be zero when the probability of an event is 1.0 or a certainty, e.g. there is no surprise.\n",
        "\n",
        "Let’s make this concrete with some examples.\n",
        "\n",
        "Consider a flip of a single fair coin. The probability of heads (and tails) is 0.5. We can calculate the information for flipping a head in Python using the log2() function.\n",
        "\n",
        "```\n",
        "# calculate the information for a coin flip\n",
        "from math import log2\n",
        "# probability of the event\n",
        "p = 0.5\n",
        "# calculate information for event\n",
        "h = -log2(p)\n",
        "# print the result\n",
        "print('p(x)=%.3f, information: %.3f bits' % (p, h))\n",
        "```\n",
        "\n",
        "Running the example prints the probability of the event as 50% and the information content for the event as 1 bit.\n",
        "\n",
        "``` p(x)=0.500, information: 1.000 bits ```\n",
        "\n",
        "If the same coin was flipped n times, then the information for this sequence of flips would be n bits.\n",
        "\n",
        "If the coin was not fair and the probability of a head was instead 10% (0.1), then the event would be more rare and would require more than 3 bits of information.\n",
        "\n",
        "```p(x)=0.100, information: 3.322 bits```\n",
        "\n",
        "We can also explore the information in a single roll of a fair six-sided dice, e.g. the information in rolling a 6.\n",
        "\n",
        "We know the probability of rolling any number is 1/6, which is a smaller number than 1/2 for a coin flip, therefore we would expect more surprise or a larger amount of information.\n",
        "\n",
        "```\n",
        "# calculate the information for a dice roll\n",
        "from math import log2\n",
        "# probability of the event\n",
        "p = 1.0 / 6.0\n",
        "# calculate information for event\n",
        "h = -log2(p)\n",
        "# print the result\n",
        "print('p(x)=%.3f, information: %.3f bits' % (p, h))\n",
        "Running the example, we can see that our intuition is correct and that indeed, there is more than 2.5 bits of information in a single roll of a fair die.\n",
        "```\n",
        "\n",
        "```p(x)=0.167, information: 2.585 bits```\n",
        "\n",
        "Other logarithms can be used instead of the base-2. For example, it is also common to use the natural logarithm that uses base-e (Euler’s number) in calculating the information, in which case the units are referred to as “nats.”\n",
        "\n",
        "We can further develop the intuition that low probability events have more information.\n",
        "\n",
        "To make this clear, we can calculate the information for probabilities between 0 and 1 and plot the corresponding information for each. We can then create a plot of probability vs information. We would expect the plot to curve downward from low probabilities with high information to high probabilities with low information.\n",
        "\n",
        "The complete example is listed below."
      ],
      "metadata": {
        "id": "M0KVh83wIu7G"
      }
    },
    {
      "cell_type": "code",
      "source": [
        "# compare probability vs information entropy\n",
        "from math import log2\n",
        "from matplotlib import pyplot\n",
        "# list of probabilities\n",
        "probs = [0.1, 0.2, 0.3, 0.4, 0.5, 0.6, 0.7, 0.8, 0.9, 1.0]\n",
        "# calculate information\n",
        "info = [-log2(p) for p in probs]\n",
        "# plot probability vs information\n",
        "pyplot.plot(probs, info, marker='o')\n",
        "pyplot.title('Probability vs Information')\n",
        "pyplot.xlabel('Probability')\n",
        "pyplot.ylabel('Information')\n",
        "pyplot.show()"
      ],
      "metadata": {
        "colab": {
          "base_uri": "https://localhost:8080/",
          "height": 295
        },
        "id": "5p9V1rbJP5zw",
        "outputId": "b89c404f-8fc4-400c-b4dc-ae6d7972cb1a"
      },
      "execution_count": 11,
      "outputs": [
        {
          "output_type": "display_data",
          "data": {
            "text/plain": [
              "<Figure size 432x288 with 1 Axes>"
            ],
            "image/png": "[encoded data removed]"
          },
          "metadata": {
            "needs_background": "light"
          }
        }
      ]
    },
    {
      "cell_type": "markdown",
      "source": [
        "Running the example creates the plot of probability vs information in bits.\n",
        "\n",
        "We can see the expected relationship where low probability events are more surprising and carry more information, and the complement of high probability events carry less information.\n",
        "\n",
        "We can also see that this relationship is not linear, it is in-fact slightly sub-linear. This makes sense given the use of the log function.\n",
        "\n"
      ],
      "metadata": {
        "id": "P9KQco1KQ2v9"
      }
    },
    {
      "cell_type": "markdown",
      "source": [
        "### Calculate the Entropy for a Random Variable"
      ],
      "metadata": {
        "id": "YHR-ggTwQ6el"
      }
    },
    {
      "cell_type": "markdown",
      "source": [
        "We can also quantify how much information there is in a random variable.\n",
        "\n",
        "For example, if we wanted to calculate the information for a random variable X with probability distribution p, this might be written as a function H(); for example:\n",
        "\n",
        "```H(X)```\n",
        "\n",
        "In effect, calculating the information for a random variable is the same as calculating the information for the probability distribution of the events for the random variable.\n",
        "\n",
        "Calculating the information for a random variable is called “information entropy,” “Shannon entropy,” or simply “entropy“. It is related to the idea of entropy from physics by analogy, in that both are concerned with uncertainty.\n",
        "\n",
        "The intuition for entropy is that it is the average number of bits required to represent or transmit an event drawn from the probability distribution for the random variable.\n",
        "\n",
        "Entropy can be calculated for a random variable X with k in K discrete states as follows:\n",
        "\n",
        "```H(X) = -sum(each k in K p(k) * log(p(k)))```\n",
        "\n",
        "That is the negative of the sum of the probability of each event multiplied by the log of the probability of each event.\n",
        "\n",
        "Like information, the log() function uses base-2 and the units are bits. A natural logarithm can be used instead and the units will be nats.\n",
        "\n",
        "The lowest entropy is calculated for a random variable that has a single event with a probability of 1.0, a certainty. The largest entropy for a random variable will be if all events are equally likely.\n",
        "\n",
        "We can consider a roll of a fair die and calculate the entropy for the variable. Each outcome has the same probability of 1/6, therefore it is a uniform probability distribution. We therefore would expect the average information to be the same information for a single event calculated in the previous section."
      ],
      "metadata": {
        "id": "I__SH1wGQ7ij"
      }
    },
    {
      "cell_type": "code",
      "source": [
        "# calculate the entropy for a dice roll\n",
        "from math import log2\n",
        "# the number of events\n",
        "n = 6\n",
        "# probability of one event\n",
        "p = 1.0 /n\n",
        "# calculate entropy\n",
        "entropy = -sum([p * log2(p) for _ in range(n)])\n",
        "# print the result\n",
        "print('entropy: %.3f bits' % entropy)"
      ],
      "metadata": {
        "colab": {
          "base_uri": "https://localhost:8080/"
        },
        "id": "xPb27-e6SKGH",
        "outputId": "b8ad9259-0d77-41f1-9abe-fd28ee91b264"
      },
      "execution_count": 12,
      "outputs": [
        {
          "output_type": "stream",
          "name": "stdout",
          "text": [
            "entropy: 2.585 bits\n"
          ]
        }
      ]
    },
    {
      "cell_type": "markdown",
      "source": [
        "Running the example calculates the entropy as more than 2.5 bits, which is the same as the information for a single outcome. This makes sense, as the average information is the same as the lower bound on information as all outcomes are equally likely.\n",
        "\n",
        "If we know the probability for each event, we can use the entropy() SciPy function to calculate the entropy directly.\n",
        "\n",
        "For example:"
      ],
      "metadata": {
        "id": "yyEFG3JTUvL8"
      }
    },
    {
      "cell_type": "code",
      "source": [
        "# calculate the entropy for a dice roll\n",
        "from scipy.stats import entropy\n",
        "# discrete probabilities\n",
        "p = [1/6, 1/6, 1/6, 1/6, 1/6, 1/6]\n",
        "# calculate entropy\n",
        "e = entropy(p, base=2)\n",
        "# print the result\n",
        "print('entropy: %.3f bits' % e)"
      ],
      "metadata": {
        "colab": {
          "base_uri": "https://localhost:8080/"
        },
        "id": "fdNyUuBtW1NZ",
        "outputId": "7a037c0a-8ab9-4904-e5d8-354991122b7d"
      },
      "execution_count": 19,
      "outputs": [
        {
          "output_type": "stream",
          "name": "stdout",
          "text": [
            "entropy: 2.585 bits\n"
          ]
        }
      ]
    },
    {
      "cell_type": "markdown",
      "source": [
        "We can further develop the intuition for entropy of probability distributions.\n",
        "\n",
        "Recall that entropy is the number of bits required to represent a randomly drawn even from the distribution, e.g. an average event. We can explore this for a simple distribution with two events, like a coin flip, but explore different probabilities for these two events and calculate the entropy for each.\n",
        "\n",
        "In the case where one event dominates, such as a skewed probability distribution, then there is less surprise and the distribution will have a lower entropy. In the case where no event dominates another, such as equal or approximately equal probability distribution, then we would expect larger or maximum entropy.\n",
        "\n",
        "* Skewed Probability Distribution (unsurprising): Low entropy.\n",
        "* Balanced Probability Distribution (surprising): High entropy.\n",
        "\n",
        "If we transition from skewed to equal probability of events in the distribution we would expect entropy to start low and increase, specifically from the lowest entropy of 0.0 for events with impossibility/certainty (probability of 0 and 1 respectively) to the largest entropy of 1.0 for events with equal probability.\n",
        "\n",
        "The example below implements this, creating each probability distribution in this transition, calculating the entropy for each and plotting the result."
      ],
      "metadata": {
        "id": "8Cxu1uOGar_0"
      }
    },
    {
      "cell_type": "code",
      "source": [
        "# compare probability distributions vs entropy\n",
        "from math import log2\n",
        "from matplotlib import pyplot\n",
        "\n",
        "# calculate entropy\n",
        "def entropy(events, ets=1e-15):\n",
        "\treturn -sum([p * log2(p + ets) for p in events])\n",
        "\n",
        "# define probabilities\n",
        "probs = [0.0, 0.1, 0.2, 0.3, 0.4, 0.5]\n",
        "# create probability distribution\n",
        "dists = [[p, 1.0 - p] for p in probs]\n",
        "# calculate entropy for each distribution\n",
        "ents = [entropy(d) for d in dists]\n",
        "# plot probability distribution vs entropy\n",
        "pyplot.plot(probs, ents, marker='x')\n",
        "pyplot.title('Probability Distribution vs Entropy')\n",
        "pyplot.xticks(probs, [str(d) for d in dists])\n",
        "pyplot.xlabel('Probability Distribution')\n",
        "pyplot.ylabel('Entropy (bits)')\n",
        "pyplot.show()"
      ],
      "metadata": {
        "colab": {
          "base_uri": "https://localhost:8080/",
          "height": 295
        },
        "id": "jTqkjN2BcPK-",
        "outputId": "bbab270f-14f1-403e-f18e-a3ed51108a1f"
      },
      "execution_count": 24,
      "outputs": [
        {
          "output_type": "display_data",
          "data": {
            "text/plain": [
              "<Figure size 432x288 with 1 Axes>"
            ],
            "image/png": "[encoded data removed]"
          },
          "metadata": {
            "needs_background": "light"
          }
        }
      ]
    },
    {
      "cell_type": "markdown",
      "source": [
        "As expected, we can see that as the distribution of events changes from skewed to balanced, the entropy increases from minimal to maximum values.\n",
        "\n",
        "That is, if the average event drawn from a probability distribution is not surprising we get a lower entropy, whereas if it is surprising, we get a larger entropy.\n",
        "\n",
        "We can see that the transition is not linear, that it is super linear. We can also see that this curve is symmetrical if we continued the transition to [0.6, 0.4] and onward to [1.0, 0.0] for the two events, forming an inverted parabola-shape.\n",
        "\n",
        "Note we had to add a tiny value to the probability when calculating the entropy to avoid calculating the log of a zero value, which would result in an infinity on not a number.\n",
        "\n",
        "Calculating the entropy for a random variable provides the basis for other measures such as mutual information (information gain).\n",
        "\n",
        "Entropy also provides the basis for calculating the difference between two probability distributions with cross-entropy and the KL-divergence."
      ],
      "metadata": {
        "id": "kXHH3uLWc27u"
      }
    }
  ]
}