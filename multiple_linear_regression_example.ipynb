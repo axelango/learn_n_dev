{
  "nbformat": 4,
  "nbformat_minor": 0,
  "metadata": {
    "colab": {
      "name": "multiple_linear_regression_example.ipynb",
      "provenance": [],
      "authorship_tag": "ABX9TyNkBFfmZJIRY76u8Zqv+9Sn",
      "include_colab_link": true
    },
    "kernelspec": {
      "name": "python3",
      "display_name": "Python 3"
    },
    "language_info": {
      "name": "python"
    }
  },
  "cells": [
    {
      "cell_type": "markdown",
      "metadata": {
        "id": "view-in-github",
        "colab_type": "text"
      },
      "source": [
        "<a href=\"https://colab.research.google.com/github/jgamel/learn_n_dev/blob/python_ds_examples/multiple_linear_regression_example.ipynb\" target=\"_parent\"><img src=\"https://colab.research.google.com/assets/colab-badge.svg\" alt=\"Open In Colab\"/></a>"
      ]
    },
    {
      "cell_type": "markdown",
      "source": [
        "# Multiple Linear Regression With scikit-learn"
      ],
      "metadata": {
        "id": "xPcH2B9b5EeS"
      }
    },
    {
      "cell_type": "markdown",
      "source": [
        "### Steps 1: Import packages and classes"
      ],
      "metadata": {
        "id": "uAMo0w-98Uy4"
      }
    },
    {
      "cell_type": "code",
      "execution_count": 1,
      "metadata": {
        "id": "GMSYUgah20hk"
      },
      "outputs": [],
      "source": [
        "import numpy as np\n",
        "from sklearn.linear_model import LinearRegression"
      ]
    },
    {
      "cell_type": "markdown",
      "source": [
        "### Step 2: Provide data"
      ],
      "metadata": {
        "id": "TF9H41P38fji"
      }
    },
    {
      "cell_type": "code",
      "source": [
        "x = [[0, 1], [5, 1], [15, 2], [25, 5], [35, 11], [45, 15], [55, 34], [60, 35]]\n",
        "y = [4, 5, 20, 14, 32, 22, 38, 43]\n",
        "x, y = np.array(x), np.array(y)"
      ],
      "metadata": {
        "id": "1PbkRISE8sQ_"
      },
      "execution_count": 2,
      "outputs": []
    },
    {
      "cell_type": "markdown",
      "source": [
        "That’s a simple way to define the input x and output y. You can print x and y to see how they look now:"
      ],
      "metadata": {
        "id": "LjKBMmN_9-Af"
      }
    },
    {
      "cell_type": "code",
      "source": [
        "print(x)"
      ],
      "metadata": {
        "colab": {
          "base_uri": "https://localhost:8080/"
        },
        "id": "d53UyxHx9_Uz",
        "outputId": "03d239d3-7b1e-4af2-cda6-c30223d2df01"
      },
      "execution_count": 3,
      "outputs": [
        {
          "output_type": "stream",
          "name": "stdout",
          "text": [
            "[[ 0  1]\n",
            " [ 5  1]\n",
            " [15  2]\n",
            " [25  5]\n",
            " [35 11]\n",
            " [45 15]\n",
            " [55 34]\n",
            " [60 35]]\n"
          ]
        }
      ]
    },
    {
      "cell_type": "code",
      "source": [
        "print(y)"
      ],
      "metadata": {
        "colab": {
          "base_uri": "https://localhost:8080/"
        },
        "id": "lEp1VVZY-HeY",
        "outputId": "810d0e13-4bff-48c1-dd55-e7e10ad06141"
      },
      "execution_count": 4,
      "outputs": [
        {
          "output_type": "stream",
          "name": "stdout",
          "text": [
            "[ 4  5 20 14 32 22 38 43]\n"
          ]
        }
      ]
    },
    {
      "cell_type": "markdown",
      "source": [
        "In multiple linear regression, x is a two-dimensional array with at least two columns, while y is usually a one-dimensional array. This is a simple example of multiple linear regression, and x has exactly two columns."
      ],
      "metadata": {
        "id": "n7CMezrW-lmk"
      }
    },
    {
      "cell_type": "markdown",
      "source": [
        "### Step 3: Create a model and fit it\n",
        "\n",
        "The next step is to create the regression model as an instance of LinearRegression and fit it with .fit():"
      ],
      "metadata": {
        "id": "3YzR1VOe-wIh"
      }
    },
    {
      "cell_type": "code",
      "source": [
        "model = LinearRegression().fit(x, y)"
      ],
      "metadata": {
        "id": "SCGLmZ_0-32A"
      },
      "execution_count": 5,
      "outputs": []
    },
    {
      "cell_type": "markdown",
      "source": [
        "The result of this statement is the variable model referring to the object of type LinearRegression. It represents the regression model fitted with existing data."
      ],
      "metadata": {
        "id": "R9Y2jIaP--vy"
      }
    },
    {
      "cell_type": "markdown",
      "source": [
        "#### Step 4: Get results\n",
        "\n",
        "You can obtain the properties of the model the same way as in the case of simple linear regression:"
      ],
      "metadata": {
        "id": "EDc4g9uI_SHj"
      }
    },
    {
      "cell_type": "code",
      "source": [
        "r_sq = model.score(x, y)\n",
        "print('coefficient of determination:', r_sq)\n",
        "print('intercept:', model.intercept_)\n",
        "print('slope:', model.coef_)"
      ],
      "metadata": {
        "colab": {
          "base_uri": "https://localhost:8080/"
        },
        "id": "TuYFeHlg_TFC",
        "outputId": "304f3079-ea83-46cc-b2f4-5622f30c7860"
      },
      "execution_count": 7,
      "outputs": [
        {
          "output_type": "stream",
          "name": "stdout",
          "text": [
            "coefficient of determination: 0.8615939258756775\n",
            "intercept: 5.52257927519819\n",
            "slope: [0.44706965 0.25502548]\n"
          ]
        }
      ]
    },
    {
      "cell_type": "markdown",
      "source": [
        "### Step 5: Predict response\n",
        "\n",
        "Predictions also work the same way as in the case of simple linear regression:"
      ],
      "metadata": {
        "id": "Hi141rRIA2ZU"
      }
    },
    {
      "cell_type": "code",
      "source": [
        "y_pred = model.predict(x)\n",
        "print('predicted response:', y_pred, sep='\\n')"
      ],
      "metadata": {
        "colab": {
          "base_uri": "https://localhost:8080/"
        },
        "id": "gCkVCBNmA5Uj",
        "outputId": "be27bd80-ce36-43d4-fc82-1b3336925eb8"
      },
      "execution_count": 8,
      "outputs": [
        {
          "output_type": "stream",
          "name": "stdout",
          "text": [
            "predicted response:\n",
            "[ 5.77760476  8.012953   12.73867497 17.9744479  23.97529728 29.4660957\n",
            " 38.78227633 41.27265006]\n"
          ]
        }
      ]
    },
    {
      "cell_type": "markdown",
      "source": [
        "The predicted response is obtained with .predict(), which is very similar to the following:"
      ],
      "metadata": {
        "id": "hLXtzdh7BEqt"
      }
    },
    {
      "cell_type": "code",
      "source": [
        "y_pred = model.intercept_ + np.sum(model.coef_ * x, axis=1)\n",
        "print('predicted response:', y_pred, sep='\\n')\n",
        "                                   "
      ],
      "metadata": {
        "colab": {
          "base_uri": "https://localhost:8080/"
        },
        "id": "MM5Dsbf0BGNg",
        "outputId": "2eb4817a-f80c-460e-887b-419d30d852ea"
      },
      "execution_count": 9,
      "outputs": [
        {
          "output_type": "stream",
          "name": "stdout",
          "text": [
            "predicted response:\n",
            "[ 5.77760476  8.012953   12.73867497 17.9744479  23.97529728 29.4660957\n",
            " 38.78227633 41.27265006]\n"
          ]
        }
      ]
    },
    {
      "cell_type": "markdown",
      "source": [
        "You can predict the output values by multiplying each column of the input with the appropriate weight, summing the results and adding the intercept to the sum.\n",
        "\n",
        "You can apply this model to new data as well:"
      ],
      "metadata": {
        "id": "lsvWTecvBW2E"
      }
    },
    {
      "cell_type": "code",
      "source": [
        "x_new = np.arange(10).reshape((-1, 2))\n",
        "print(x_new)"
      ],
      "metadata": {
        "colab": {
          "base_uri": "https://localhost:8080/"
        },
        "id": "ku7CXPAeDS2Y",
        "outputId": "c35f0711-fd06-43df-bc0e-a4dbf952cf43"
      },
      "execution_count": 10,
      "outputs": [
        {
          "output_type": "stream",
          "name": "stdout",
          "text": [
            "[[0 1]\n",
            " [2 3]\n",
            " [4 5]\n",
            " [6 7]\n",
            " [8 9]]\n"
          ]
        }
      ]
    },
    {
      "cell_type": "code",
      "source": [
        "\n",
        "y_new = model.predict(x_new)\n",
        "print(y_new)"
      ],
      "metadata": {
        "colab": {
          "base_uri": "https://localhost:8080/"
        },
        "id": "dvlRlbzXDaOg",
        "outputId": "8d839bfb-92a8-487c-9256-301cc87b19ec"
      },
      "execution_count": 11,
      "outputs": [
        {
          "output_type": "stream",
          "name": "stdout",
          "text": [
            "[ 5.77760476  7.18179502  8.58598528  9.99017554 11.3943658 ]\n"
          ]
        }
      ]
    }
  ]
}