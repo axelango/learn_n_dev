{
  "nbformat": 4,
  "nbformat_minor": 0,
  "metadata": {
    "colab": {
      "name": "news_scrapper_to_csv_example.ipynb",
      "provenance": [],
      "collapsed_sections": [],
      "authorship_tag": "ABX9TyNOCipXNLA/+D5dfNnDOZHT",
      "include_colab_link": true
    },
    "kernelspec": {
      "name": "python3",
      "display_name": "Python 3"
    },
    "language_info": {
      "name": "python"
    }
  },
  "cells": [
    {
      "cell_type": "markdown",
      "metadata": {
        "id": "view-in-github",
        "colab_type": "text"
      },
      "source": [
        "<a href=\"https://colab.research.google.com/github/jgamel/learn_n_dev/blob/python_web_scrapping/news_scrapper_to_csv_example.ipynb\" target=\"_parent\"><img src=\"https://colab.research.google.com/assets/colab-badge.svg\" alt=\"Open In Colab\"/></a>"
      ]
    },
    {
      "cell_type": "code",
      "source": [
        "import requests\n",
        "import pandas as pd\n",
        "from bs4 import BeautifulSoup\n",
        "from datetime import date\n",
        "today = date.today()\n",
        "d = today.strftime(\"%m-%d-%y\")\n",
        "print(\"date =\" ,d)\n"
      ],
      "metadata": {
        "colab": {
          "base_uri": "https://localhost:8080/"
        },
        "id": "zUfrssqBwTZO",
        "outputId": "fd554ac1-8255-4947-fcf2-00c6f8218b93"
      },
      "execution_count": 5,
      "outputs": [
        {
          "output_type": "stream",
          "name": "stdout",
          "text": [
            "date = 03-03-22\n"
          ]
        }
      ]
    },
    {
      "cell_type": "code",
      "source": [
        "nbc_business = \"https://www.nbcnews.com/politics\"\n",
        "res = requests.get(nbc_business)\n",
        "soup = BeautifulSoup(res.content, 'html.parser')"
      ],
      "metadata": {
        "id": "kVuITdPfxt0h"
      },
      "execution_count": 6,
      "outputs": []
    },
    {
      "cell_type": "code",
      "source": [
        "from google.colab import drive\n",
        "drive.mount('/content/gdrive', force_remount=True)"
      ],
      "metadata": {
        "colab": {
          "base_uri": "https://localhost:8080/"
        },
        "id": "qkigW9Hex--l",
        "outputId": "f3d171e1-45cd-4bfd-ec6a-335b731e5226"
      },
      "execution_count": 7,
      "outputs": [
        {
          "output_type": "stream",
          "name": "stdout",
          "text": [
            "Mounted at /content/gdrive\n"
          ]
        }
      ]
    },
    {
      "cell_type": "code",
      "source": [
        "import sys\n",
        "sys.path.append('/content/gdrive/My Drive/Colab Notebooks')"
      ],
      "metadata": {
        "id": "N5zqwWVAyFlc"
      },
      "execution_count": 8,
      "outputs": []
    },
    {
      "cell_type": "code",
      "source": [
        "headlines = soup.find_all('span',{'class':'tease-card__headline'})\n",
        "len(headlines)\n",
        "for i in range(len(headlines)):\n",
        "  print(headlines[i].text)"
      ],
      "metadata": {
        "colab": {
          "base_uri": "https://localhost:8080/"
        },
        "id": "WHq8L5KGxzAr",
        "outputId": "514b5d84-2928-4cca-989b-52d594fc9a3a"
      },
      "execution_count": 9,
      "outputs": [
        {
          "output_type": "stream",
          "name": "stdout",
          "text": [
            "Jan. 6 panel argues Trump was involved in ‘criminal conspiracy’ to overturn election\n",
            "Supreme Court lets Kentucky attorney general take over defense of state’s abortion law\n",
            "As Biden leads free world against Putin, Trump equivocates\n"
          ]
        }
      ]
    },
    {
      "cell_type": "code",
      "source": [
        "data_nbc = pd.DataFrame(headlines)\n",
        "data_nbc.to_csv(\"/content/gdrive/My Drive/nbc_business.csv\", index= True)"
      ],
      "metadata": {
        "id": "klaC5iLRz7ao"
      },
      "execution_count": 10,
      "outputs": []
    }
  ]
}