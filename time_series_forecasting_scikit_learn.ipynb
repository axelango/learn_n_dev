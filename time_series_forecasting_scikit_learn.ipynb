{
  "nbformat": 4,
  "nbformat_minor": 0,
  "metadata": {
    "colab": {
      "name": "time_series_forecasting_scikit_learn.ipynb",
      "provenance": [],
      "authorship_tag": "ABX9TyOwUAF2F4HwgCfOw3Cq/56x",
      "include_colab_link": true
    },
    "kernelspec": {
      "name": "python3",
      "display_name": "Python 3"
    },
    "language_info": {
      "name": "python"
    }
  },
  "cells": [
    {
      "cell_type": "markdown",
      "metadata": {
        "id": "view-in-github",
        "colab_type": "text"
      },
      "source": [
        "<a href=\"https://colab.research.google.com/github/jgamel/learn_n_dev/blob/python_ds_examples/time_series_forecasting_scikit_learn.ipynb\" target=\"_parent\"><img src=\"https://colab.research.google.com/assets/colab-badge.svg\" alt=\"Open In Colab\"/></a>"
      ]
    },
    {
      "cell_type": "markdown",
      "source": [
        "A [time series](https://en.wikipedia.org/wiki/Time_series) is a succession of chronologically ordered data spaced at equal or unequal intervals. The [forecasting](https://en.wikipedia.org/wiki/Forecasting#Time_series_methods) process consists of predicting the future value of a time series, either by modeling the series solely based on its past behavior (autoregressive) or by using other external variables.\n",
        "\n",
        "This document describes how to use Scikit-learn regression models to perform forecasting on time series. Specifically, it introduces [Skforecast](https://joaquinamatrodrigo.github.io/skforecast/0.4.2/index.html), a simple library that contains the classes and functions necessary to adapt any Scikit-learn regression model to forecasting problems. "
      ],
      "metadata": {
        "id": "juNeXNj_VRZu"
      }
    },
    {
      "cell_type": "markdown",
      "source": [
        "### Multi-Step Time Series Forecasting"
      ],
      "metadata": {
        "id": "0c-NxLwraRHu"
      }
    },
    {
      "cell_type": "markdown",
      "source": [
        "The common objective of working with time series is not only to predict the next element in the series ( 𝑡+1 ) but an entire future interval or a point far away in time ( 𝑡+𝑛 ). Each prediction jump is known as a step.\n",
        "\n",
        "There are several strategies that allow generating this type of multiple prediction.\n",
        "\n",
        "\n",
        "Recursive multi-step forecasting\n",
        "\n",
        "Since to predict the moment  𝑡𝑛  the value of  𝑡𝑛−1  is needed, which is unknown, it is necessary to make recursive predictions. New predictions use previous ones as predictors. This process is known as recursive forecasting or recursive multi-step forecasting.\n",
        "\n",
        "The main adaptation needed to apply Scikit-learn models to recursive multi-step forecasting problems is to transform the time series into a matrix in which each value is associated with the time window (lags) preceding it. This forecasting strategy can be easily generated with the ForecasterAutoreg and ForecasterAutoregCustom classes from the Skforecast library.\n",
        "\n",
        "Transformation of a time series into a 5 lags matrix and a vector with the value of the series that follows each row of the matrix.\n",
        "This type of transformation also allows the inclusion of exogenous variables to the time series.\n",
        "\n",
        "Direct multi-step forecasting\n",
        "\n",
        "The direct multi-step forecasting method consists of training a different model for each step. For example, to predict the following 5 values of a time series, 5 different models are required to be trained, one for each step. As a result, the predictions are independent of each other.\n",
        "\n",
        "The main complexity of this approach is to generate the correct training matrices for each model. The ForecasterAutoregMultiOutput class of the Skforecast library automates this process. It is also important to bear in mind that this strategy has a higher computational cost since it requires the train of multiple models. The following diagram shows the process for a case in which the response variable and two exogenous variables are available.\n",
        "\n",
        "Multiple output forecasting\n",
        "\n",
        "Certain models are capable of simultaneously predicting several values of a sequence (one-shot). An example of a model with this capability is the LSTM neural network.\n"
      ],
      "metadata": {
        "id": "d50zTxYgaTCe"
      }
    },
    {
      "cell_type": "markdown",
      "source": [
        "### Recursive autoregressive forecasting"
      ],
      "metadata": {
        "id": "hr7jnnhob5lo"
      }
    },
    {
      "cell_type": "markdown",
      "source": [
        "A time series is available with the monthly expenditure (millions of dollars) on corticosteroid drugs that the Australian health system had between 1991 and 2008. It is intended to create an autoregressive model capable of predicting future monthly expenditures."
      ],
      "metadata": {
        "id": "wbFWoAbLcHGY"
      }
    },
    {
      "cell_type": "markdown",
      "source": [
        "Load Modules:"
      ],
      "metadata": {
        "id": "butwuLbJckrI"
      }
    },
    {
      "cell_type": "code",
      "execution_count": 1,
      "metadata": {
        "id": "Gmgs3aVgUwT6"
      },
      "outputs": [],
      "source": [
        "# Data manipulation\n",
        "# ==============================================================================\n",
        "import numpy as np\n",
        "import pandas as pd\n",
        "\n",
        "# Plots\n",
        "# ==============================================================================\n",
        "import matplotlib.pyplot as plt\n",
        "plt.style.use('fivethirtyeight')\n",
        "plt.rcParams['lines.linewidth'] = 1.5\n",
        "%matplotlib inline\n",
        "\n",
        "# Warnings configuration\n",
        "# ==============================================================================\n",
        "import warnings\n",
        "warnings.filterwarnings('ignore')"
      ]
    },
    {
      "cell_type": "markdown",
      "source": [
        "In addition to the above, Skforecast, a library containing the classes and functions needed to adapt any Scikit-learn regression model to forecasting problems, is used. It can be installed in the following ways:\n",
        "\n",
        "pip install skforecast\n",
        "\n",
        "A specific version:\n",
        "\n",
        "pip install skforecast==0.3\n",
        "\n",
        "Last version (unstable):\n",
        "\n",
        "pip install git+https://github.com/JoaquinAmatRodrigo/skforecast#master"
      ],
      "metadata": {
        "id": "_sVAAoo0dBv9"
      }
    },
    {
      "cell_type": "code",
      "source": [
        "# Modeling and Forecasting\n",
        "# ==============================================================================\n",
        "from sklearn.linear_model import LinearRegression\n",
        "from sklearn.linear_model import Lasso\n",
        "from sklearn.ensemble import RandomForestRegressor\n",
        "from sklearn.metrics import mean_squared_error\n",
        "from sklearn.preprocessing import StandardScaler\n",
        "from sklearn.pipeline import make_pipeline\n",
        "\n",
        "from skforecast.ForecasterAutoreg import ForecasterAutoreg\n",
        "from skforecast.ForecasterAutoregCustom import ForecasterAutoregCustom\n",
        "from skforecast.ForecasterAutoregMultiOutput import ForecasterAutoregMultiOutput\n",
        "from skforecast.model_selection import grid_search_forecaster\n",
        "from skforecast.model_selection import backtesting_forecaster\n"
      ],
      "metadata": {
        "colab": {
          "base_uri": "https://localhost:8080/",
          "height": 374
        },
        "id": "tJTqjRgKdGEh",
        "outputId": "bac55f1b-9a33-499f-d560-432219ead3ce"
      },
      "execution_count": 2,
      "outputs": [
        {
          "output_type": "error",
          "ename": "ModuleNotFoundError",
          "evalue": "ignored",
          "traceback": [
            "\u001b[0;31m---------------------------------------------------------------------------\u001b[0m",
            "\u001b[0;31mModuleNotFoundError\u001b[0m                       Traceback (most recent call last)",
            "\u001b[0;32m<ipython-input-2-eff0ee4d1834>\u001b[0m in \u001b[0;36m<module>\u001b[0;34m()\u001b[0m\n\u001b[1;32m      8\u001b[0m \u001b[0;32mfrom\u001b[0m \u001b[0msklearn\u001b[0m\u001b[0;34m.\u001b[0m\u001b[0mpipeline\u001b[0m \u001b[0;32mimport\u001b[0m \u001b[0mmake_pipeline\u001b[0m\u001b[0;34m\u001b[0m\u001b[0;34m\u001b[0m\u001b[0m\n\u001b[1;32m      9\u001b[0m \u001b[0;34m\u001b[0m\u001b[0m\n\u001b[0;32m---> 10\u001b[0;31m \u001b[0;32mfrom\u001b[0m \u001b[0mskforecast\u001b[0m\u001b[0;34m.\u001b[0m\u001b[0mForecasterAutoreg\u001b[0m \u001b[0;32mimport\u001b[0m \u001b[0mForecasterAutoreg\u001b[0m\u001b[0;34m\u001b[0m\u001b[0;34m\u001b[0m\u001b[0m\n\u001b[0m\u001b[1;32m     11\u001b[0m \u001b[0;32mfrom\u001b[0m \u001b[0mskforecast\u001b[0m\u001b[0;34m.\u001b[0m\u001b[0mForecasterAutoregCustom\u001b[0m \u001b[0;32mimport\u001b[0m \u001b[0mForecasterAutoregCustom\u001b[0m\u001b[0;34m\u001b[0m\u001b[0;34m\u001b[0m\u001b[0m\n\u001b[1;32m     12\u001b[0m \u001b[0;32mfrom\u001b[0m \u001b[0mskforecast\u001b[0m\u001b[0;34m.\u001b[0m\u001b[0mForecasterAutoregMultiOutput\u001b[0m \u001b[0;32mimport\u001b[0m \u001b[0mForecasterAutoregMultiOutput\u001b[0m\u001b[0;34m\u001b[0m\u001b[0;34m\u001b[0m\u001b[0m\n",
            "\u001b[0;31mModuleNotFoundError\u001b[0m: No module named 'skforecast'",
            "",
            "\u001b[0;31m---------------------------------------------------------------------------\u001b[0;32m\nNOTE: If your import is failing due to a missing package, you can\nmanually install dependencies using either !pip or !apt.\n\nTo view examples of installing some common dependencies, click the\n\"Open Examples\" button below.\n\u001b[0;31m---------------------------------------------------------------------------\u001b[0m\n"
          ],
          "errorDetails": {
            "actions": [
              {
                "action": "open_url",
                "actionText": "Open Examples",
                "url": "/notebooks/snippets/importing_libraries.ipynb"
              }
            ]
          }
        }
      ]
    }
  ]
}