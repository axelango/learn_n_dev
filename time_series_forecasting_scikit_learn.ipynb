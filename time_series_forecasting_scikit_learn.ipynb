{
  "nbformat": 4,
  "nbformat_minor": 0,
  "metadata": {
    "colab": {
      "name": "time_series_forecasting_scikit_learn.ipynb",
      "provenance": [],
      "collapsed_sections": [],
      "authorship_tag": "ABX9TyNZnlSl/ZPZcPFuei2QWiD7",
      "include_colab_link": true
    },
    "kernelspec": {
      "name": "python3",
      "display_name": "Python 3"
    },
    "language_info": {
      "name": "python"
    }
  },
  "cells": [
    {
      "cell_type": "markdown",
      "metadata": {
        "id": "view-in-github",
        "colab_type": "text"
      },
      "source": [
        "<a href=\"https://colab.research.google.com/github/jgamel/learn_n_dev/blob/python_ds_examples/time_series_forecasting_scikit_learn.ipynb\" target=\"_parent\"><img src=\"https://colab.research.google.com/assets/colab-badge.svg\" alt=\"Open In Colab\"/></a>"
      ]
    },
    {
      "cell_type": "markdown",
      "source": [
        "A [time series](https://en.wikipedia.org/wiki/Time_series) is a succession of chronologically ordered data spaced at equal or unequal intervals. The [forecasting](https://en.wikipedia.org/wiki/Forecasting#Time_series_methods) process consists of predicting the future value of a time series, either by modeling the series solely based on its past behavior (autoregressive) or by using other external variables.\n",
        "\n",
        "This document describes how to use Scikit-learn regression models to perform forecasting on time series. Specifically, it introduces [Skforecast](https://joaquinamatrodrigo.github.io/skforecast/0.4.2/index.html), a simple library that contains the classes and functions necessary to adapt any Scikit-learn regression model to forecasting problems. "
      ],
      "metadata": {
        "id": "0kTyXpL9Vm6z"
      }
    },
    {
      "cell_type": "markdown",
      "source": [
        "### Multi-Step Time Series Forecasting"
      ],
      "metadata": {
        "id": "VmvyJWwQVqAo"
      }
    },
    {
      "cell_type": "markdown",
      "source": [
        "The common objective of working with time series is not only to predict the next element in the series ( 𝑡+1 ) but an entire future interval or a point far away in time ( 𝑡+𝑛 ). Each prediction jump is known as a step.\n",
        "\n",
        "There are several strategies that allow generating this type of multiple prediction.\n",
        "\n",
        "\n",
        "Recursive multi-step forecasting\n",
        "\n",
        "Since to predict the moment  𝑡𝑛  the value of  𝑡𝑛−1  is needed, which is unknown, it is necessary to make recursive predictions. New predictions use previous ones as predictors. This process is known as recursive forecasting or recursive multi-step forecasting.\n",
        "\n",
        "The main adaptation needed to apply Scikit-learn models to recursive multi-step forecasting problems is to transform the time series into a matrix in which each value is associated with the time window (lags) preceding it. This forecasting strategy can be easily generated with the ForecasterAutoreg and ForecasterAutoregCustom classes from the Skforecast library.\n",
        "\n",
        "Transformation of a time series into a 5 lags matrix and a vector with the value of the series that follows each row of the matrix.\n",
        "This type of transformation also allows the inclusion of exogenous variables to the time series.\n",
        "\n",
        "Direct multi-step forecasting\n",
        "\n",
        "The direct multi-step forecasting method consists of training a different model for each step. For example, to predict the following 5 values of a time series, 5 different models are required to be trained, one for each step. As a result, the predictions are independent of each other.\n",
        "\n",
        "The main complexity of this approach is to generate the correct training matrices for each model. The ForecasterAutoregMultiOutput class of the Skforecast library automates this process. It is also important to bear in mind that this strategy has a higher computational cost since it requires the train of multiple models. The following diagram shows the process for a case in which the response variable and two exogenous variables are available.\n",
        "\n",
        "Multiple output forecasting\n",
        "\n",
        "Certain models are capable of simultaneously predicting several values of a sequence (one-shot). An example of a model with this capability is the LSTM neural network.\n"
      ],
      "metadata": {
        "id": "UMqN_umwVtbv"
      }
    },
    {
      "cell_type": "markdown",
      "source": [
        "### Recursive autoregressive forecasting"
      ],
      "metadata": {
        "id": "TK8p54jCV1Mr"
      }
    },
    {
      "cell_type": "markdown",
      "source": [
        "A time series is available with the monthly expenditure (millions of dollars) on corticosteroid drugs that the Australian health system had between 1991 and 2008. It is intended to create an autoregressive model capable of predicting future monthly expenditures."
      ],
      "metadata": {
        "id": "4Kc21cByV2BS"
      }
    },
    {
      "cell_type": "markdown",
      "source": [
        "Load Modules:"
      ],
      "metadata": {
        "id": "-2j3Z61NV5mM"
      }
    },
    {
      "cell_type": "code",
      "source": [
        "# Data manipulation\n",
        "# ==============================================================================\n",
        "import numpy as np\n",
        "import pandas as pd\n",
        "\n",
        "# Plots\n",
        "# ==============================================================================\n",
        "import matplotlib.pyplot as plt\n",
        "plt.style.use('fivethirtyeight')\n",
        "plt.rcParams['lines.linewidth'] = 1.5\n",
        "%matplotlib inline\n",
        "\n",
        "# Warnings configuration\n",
        "# ==============================================================================\n",
        "import warnings\n",
        "warnings.filterwarnings('ignore')"
      ],
      "metadata": {
        "id": "edvrd4nLV_EJ"
      },
      "execution_count": null,
      "outputs": []
    },
    {
      "cell_type": "markdown",
      "source": [
        "Mount Drive:"
      ],
      "metadata": {
        "id": "CMnI4AmsWA2O"
      }
    },
    {
      "cell_type": "code",
      "execution_count": null,
      "metadata": {
        "colab": {
          "base_uri": "https://localhost:8080/"
        },
        "id": "cnAPlwFv6EWP",
        "outputId": "72dd69e9-2542-46bc-c42f-381eb73faa64"
      },
      "outputs": [
        {
          "output_type": "stream",
          "name": "stdout",
          "text": [
            "Mounted at /content/gdrive\n"
          ]
        }
      ],
      "source": [
        "from google.colab import drive\n",
        "drive.mount('/content/gdrive', force_remount=True)"
      ]
    },
    {
      "cell_type": "code",
      "source": [
        "import sys\n",
        "sys.path.append('/content/gdrive/My Drive/Colab Notebooks')"
      ],
      "metadata": {
        "id": "bW0vXbvS6RlG"
      },
      "execution_count": null,
      "outputs": []
    },
    {
      "cell_type": "markdown",
      "source": [
        "Load skforecast"
      ],
      "metadata": {
        "id": "SY-iEzDmWOHu"
      }
    },
    {
      "cell_type": "code",
      "source": [
        "# Modeling and Forecasting\n",
        "# ==============================================================================\n",
        "from sklearn.linear_model import LinearRegression\n",
        "from sklearn.linear_model import Lasso\n",
        "from sklearn.ensemble import RandomForestRegressor\n",
        "from sklearn.metrics import mean_squared_error\n",
        "from sklearn.preprocessing import StandardScaler\n",
        "from sklearn.pipeline import make_pipeline\n",
        "\n",
        "from skforecast.ForecasterAutoreg import ForecasterAutoreg\n",
        "from skforecast.ForecasterAutoregCustom import ForecasterAutoregCustom\n",
        "from skforecast.ForecasterAutoregMultiOutput import ForecasterAutoregMultiOutput\n",
        "from skforecast.model_selection import grid_search_forecaster\n",
        "from skforecast.model_selection import backtesting_forecaster\n",
        "\n",
        "from joblib import dump, load\n",
        "\n",
        "import session_info\n"
      ],
      "metadata": {
        "id": "63OWASho6VmV"
      },
      "execution_count": null,
      "outputs": []
    },
    {
      "cell_type": "markdown",
      "source": [
        "### Get Data"
      ],
      "metadata": {
        "id": "oCWtjLOtWd_h"
      }
    },
    {
      "cell_type": "markdown",
      "source": [
        "The data used in the examples of this document have been obtained from the magnificent book Forecasting: [Principles and Practice by Rob J Hyndman and George Athanasopoulos](https://otexts.com/fpp3/)."
      ],
      "metadata": {
        "id": "BN8ZZ_bJWlVB"
      }
    },
    {
      "cell_type": "code",
      "source": [
        "# Data download\n",
        "# ==============================================================================\n",
        "url = 'https://raw.githubusercontent.com/JoaquinAmatRodrigo/skforecast/master/data/h2o_exog.csv'\n",
        "data = pd.read_csv(url, sep=',')\n",
        "data.head()"
      ],
      "metadata": {
        "colab": {
          "base_uri": "https://localhost:8080/",
          "height": 206
        },
        "id": "mSiRtX7EW3x2",
        "outputId": "ad2cf5ac-a439-4dd3-b692-1c24ae6bd6c6"
      },
      "execution_count": null,
      "outputs": [
        {
          "output_type": "execute_result",
          "data": {
            "text/html": [
              "\n",
              "  <div id=\"df-768ebb99-1800-4ecf-88c1-684046578ba8\">\n",
              "    <div class=\"colab-df-container\">\n",
              "      <div>\n",
              "<style scoped>\n",
              "    .dataframe tbody tr th:only-of-type {\n",
              "        vertical-align: middle;\n",
              "    }\n",
              "\n",
              "    .dataframe tbody tr th {\n",
              "        vertical-align: top;\n",
              "    }\n",
              "\n",
              "    .dataframe thead th {\n",
              "        text-align: right;\n",
              "    }\n",
              "</style>\n",
              "<table border=\"1\" class=\"dataframe\">\n",
              "  <thead>\n",
              "    <tr style=\"text-align: right;\">\n",
              "      <th></th>\n",
              "      <th>fecha</th>\n",
              "      <th>y</th>\n",
              "      <th>exog_1</th>\n",
              "      <th>exog_2</th>\n",
              "    </tr>\n",
              "  </thead>\n",
              "  <tbody>\n",
              "    <tr>\n",
              "      <th>0</th>\n",
              "      <td>1992-04-01</td>\n",
              "      <td>0.379808</td>\n",
              "      <td>0.958792</td>\n",
              "      <td>1.166029</td>\n",
              "    </tr>\n",
              "    <tr>\n",
              "      <th>1</th>\n",
              "      <td>1992-05-01</td>\n",
              "      <td>0.361801</td>\n",
              "      <td>0.951993</td>\n",
              "      <td>1.117859</td>\n",
              "    </tr>\n",
              "    <tr>\n",
              "      <th>2</th>\n",
              "      <td>1992-06-01</td>\n",
              "      <td>0.410534</td>\n",
              "      <td>0.952955</td>\n",
              "      <td>1.067942</td>\n",
              "    </tr>\n",
              "    <tr>\n",
              "      <th>3</th>\n",
              "      <td>1992-07-01</td>\n",
              "      <td>0.483389</td>\n",
              "      <td>0.958078</td>\n",
              "      <td>1.097376</td>\n",
              "    </tr>\n",
              "    <tr>\n",
              "      <th>4</th>\n",
              "      <td>1992-08-01</td>\n",
              "      <td>0.475463</td>\n",
              "      <td>0.956370</td>\n",
              "      <td>1.122199</td>\n",
              "    </tr>\n",
              "  </tbody>\n",
              "</table>\n",
              "</div>\n",
              "      <button class=\"colab-df-convert\" onclick=\"convertToInteractive('df-768ebb99-1800-4ecf-88c1-684046578ba8')\"\n",
              "              title=\"Convert this dataframe to an interactive table.\"\n",
              "              style=\"display:none;\">\n",
              "        \n",
              "  <svg xmlns=\"http://www.w3.org/2000/svg\" height=\"24px\"viewBox=\"0 0 24 24\"\n",
              "       width=\"24px\">\n",
              "    <path d=\"M0 0h24v24H0V0z\" fill=\"none\"/>\n",
              "    <path d=\"M18.56 5.44l.94 2.06.94-2.06 2.06-.94-2.06-.94-.94-2.06-.94 2.06-2.06.94zm-11 1L8.5 8.5l.94-2.06 2.06-.94-2.06-.94L8.5 2.5l-.94 2.06-2.06.94zm10 10l.94 2.06.94-2.06 2.06-.94-2.06-.94-.94-2.06-.94 2.06-2.06.94z\"/><path d=\"M17.41 7.96l-1.37-1.37c-.4-.4-.92-.59-1.43-.59-.52 0-1.04.2-1.43.59L10.3 9.45l-7.72 7.72c-.78.78-.78 2.05 0 2.83L4 21.41c.39.39.9.59 1.41.59.51 0 1.02-.2 1.41-.59l7.78-7.78 2.81-2.81c.8-.78.8-2.07 0-2.86zM5.41 20L4 18.59l7.72-7.72 1.47 1.35L5.41 20z\"/>\n",
              "  </svg>\n",
              "      </button>\n",
              "      \n",
              "  <style>\n",
              "    .colab-df-container {\n",
              "      display:flex;\n",
              "      flex-wrap:wrap;\n",
              "      gap: 12px;\n",
              "    }\n",
              "\n",
              "    .colab-df-convert {\n",
              "      background-color: #E8F0FE;\n",
              "      border: none;\n",
              "      border-radius: 50%;\n",
              "      cursor: pointer;\n",
              "      display: none;\n",
              "      fill: #1967D2;\n",
              "      height: 32px;\n",
              "      padding: 0 0 0 0;\n",
              "      width: 32px;\n",
              "    }\n",
              "\n",
              "    .colab-df-convert:hover {\n",
              "      background-color: #E2EBFA;\n",
              "      box-shadow: 0px 1px 2px rgba(60, 64, 67, 0.3), 0px 1px 3px 1px rgba(60, 64, 67, 0.15);\n",
              "      fill: #174EA6;\n",
              "    }\n",
              "\n",
              "    [theme=dark] .colab-df-convert {\n",
              "      background-color: #3B4455;\n",
              "      fill: #D2E3FC;\n",
              "    }\n",
              "\n",
              "    [theme=dark] .colab-df-convert:hover {\n",
              "      background-color: #434B5C;\n",
              "      box-shadow: 0px 1px 3px 1px rgba(0, 0, 0, 0.15);\n",
              "      filter: drop-shadow(0px 1px 2px rgba(0, 0, 0, 0.3));\n",
              "      fill: #FFFFFF;\n",
              "    }\n",
              "  </style>\n",
              "\n",
              "      <script>\n",
              "        const buttonEl =\n",
              "          document.querySelector('#df-768ebb99-1800-4ecf-88c1-684046578ba8 button.colab-df-convert');\n",
              "        buttonEl.style.display =\n",
              "          google.colab.kernel.accessAllowed ? 'block' : 'none';\n",
              "\n",
              "        async function convertToInteractive(key) {\n",
              "          const element = document.querySelector('#df-768ebb99-1800-4ecf-88c1-684046578ba8');\n",
              "          const dataTable =\n",
              "            await google.colab.kernel.invokeFunction('convertToInteractive',\n",
              "                                                     [key], {});\n",
              "          if (!dataTable) return;\n",
              "\n",
              "          const docLinkHtml = 'Like what you see? Visit the ' +\n",
              "            '<a target=\"_blank\" href=https://colab.research.google.com/notebooks/data_table.ipynb>data table notebook</a>'\n",
              "            + ' to learn more about interactive tables.';\n",
              "          element.innerHTML = '';\n",
              "          dataTable['output_type'] = 'display_data';\n",
              "          await google.colab.output.renderOutput(dataTable, element);\n",
              "          const docLink = document.createElement('div');\n",
              "          docLink.innerHTML = docLinkHtml;\n",
              "          element.appendChild(docLink);\n",
              "        }\n",
              "      </script>\n",
              "    </div>\n",
              "  </div>\n",
              "  "
            ],
            "text/plain": [
              "        fecha         y    exog_1    exog_2\n",
              "0  1992-04-01  0.379808  0.958792  1.166029\n",
              "1  1992-05-01  0.361801  0.951993  1.117859\n",
              "2  1992-06-01  0.410534  0.952955  1.067942\n",
              "3  1992-07-01  0.483389  0.958078  1.097376\n",
              "4  1992-08-01  0.475463  0.956370  1.122199"
            ]
          },
          "metadata": {},
          "execution_count": 7
        }
      ]
    },
    {
      "cell_type": "markdown",
      "source": [
        "### Data Prep"
      ],
      "metadata": {
        "id": "9g11RD5WXMO5"
      }
    },
    {
      "cell_type": "markdown",
      "source": [
        "The column date has been stored as a string. To convert it to datetime the pd.to_datetime() function can be use. Once in datetime format, and to make use of pandas functionalities, it is set as an index. Also, since the data is monthly, the frequency is set as Monthly Started 'MS'."
      ],
      "metadata": {
        "id": "1FXgI4WOXB2n"
      }
    },
    {
      "cell_type": "code",
      "source": [
        "# Data preparation\n",
        "# ==============================================================================\n",
        "data = data.rename(columns={'fecha': 'date'})\n",
        "data['date'] = pd.to_datetime(data['date'], format='%Y/%m/%d')\n",
        "data = data.set_index('date')\n",
        "data = data.rename(columns={'x': 'y'})\n",
        "data = data.asfreq('MS')\n",
        "data = data.sort_index()\n",
        "data.head()"
      ],
      "metadata": {
        "colab": {
          "base_uri": "https://localhost:8080/",
          "height": 238
        },
        "id": "hhslmN4oXOAo",
        "outputId": "a486e68a-3cd0-4708-c1d2-aab88b118424"
      },
      "execution_count": null,
      "outputs": [
        {
          "output_type": "execute_result",
          "data": {
            "text/html": [
              "\n",
              "  <div id=\"df-ef06ef78-9b8c-4fac-8a54-084f8b219845\">\n",
              "    <div class=\"colab-df-container\">\n",
              "      <div>\n",
              "<style scoped>\n",
              "    .dataframe tbody tr th:only-of-type {\n",
              "        vertical-align: middle;\n",
              "    }\n",
              "\n",
              "    .dataframe tbody tr th {\n",
              "        vertical-align: top;\n",
              "    }\n",
              "\n",
              "    .dataframe thead th {\n",
              "        text-align: right;\n",
              "    }\n",
              "</style>\n",
              "<table border=\"1\" class=\"dataframe\">\n",
              "  <thead>\n",
              "    <tr style=\"text-align: right;\">\n",
              "      <th></th>\n",
              "      <th>y</th>\n",
              "      <th>exog_1</th>\n",
              "      <th>exog_2</th>\n",
              "    </tr>\n",
              "    <tr>\n",
              "      <th>date</th>\n",
              "      <th></th>\n",
              "      <th></th>\n",
              "      <th></th>\n",
              "    </tr>\n",
              "  </thead>\n",
              "  <tbody>\n",
              "    <tr>\n",
              "      <th>1992-04-01</th>\n",
              "      <td>0.379808</td>\n",
              "      <td>0.958792</td>\n",
              "      <td>1.166029</td>\n",
              "    </tr>\n",
              "    <tr>\n",
              "      <th>1992-05-01</th>\n",
              "      <td>0.361801</td>\n",
              "      <td>0.951993</td>\n",
              "      <td>1.117859</td>\n",
              "    </tr>\n",
              "    <tr>\n",
              "      <th>1992-06-01</th>\n",
              "      <td>0.410534</td>\n",
              "      <td>0.952955</td>\n",
              "      <td>1.067942</td>\n",
              "    </tr>\n",
              "    <tr>\n",
              "      <th>1992-07-01</th>\n",
              "      <td>0.483389</td>\n",
              "      <td>0.958078</td>\n",
              "      <td>1.097376</td>\n",
              "    </tr>\n",
              "    <tr>\n",
              "      <th>1992-08-01</th>\n",
              "      <td>0.475463</td>\n",
              "      <td>0.956370</td>\n",
              "      <td>1.122199</td>\n",
              "    </tr>\n",
              "  </tbody>\n",
              "</table>\n",
              "</div>\n",
              "      <button class=\"colab-df-convert\" onclick=\"convertToInteractive('df-ef06ef78-9b8c-4fac-8a54-084f8b219845')\"\n",
              "              title=\"Convert this dataframe to an interactive table.\"\n",
              "              style=\"display:none;\">\n",
              "        \n",
              "  <svg xmlns=\"http://www.w3.org/2000/svg\" height=\"24px\"viewBox=\"0 0 24 24\"\n",
              "       width=\"24px\">\n",
              "    <path d=\"M0 0h24v24H0V0z\" fill=\"none\"/>\n",
              "    <path d=\"M18.56 5.44l.94 2.06.94-2.06 2.06-.94-2.06-.94-.94-2.06-.94 2.06-2.06.94zm-11 1L8.5 8.5l.94-2.06 2.06-.94-2.06-.94L8.5 2.5l-.94 2.06-2.06.94zm10 10l.94 2.06.94-2.06 2.06-.94-2.06-.94-.94-2.06-.94 2.06-2.06.94z\"/><path d=\"M17.41 7.96l-1.37-1.37c-.4-.4-.92-.59-1.43-.59-.52 0-1.04.2-1.43.59L10.3 9.45l-7.72 7.72c-.78.78-.78 2.05 0 2.83L4 21.41c.39.39.9.59 1.41.59.51 0 1.02-.2 1.41-.59l7.78-7.78 2.81-2.81c.8-.78.8-2.07 0-2.86zM5.41 20L4 18.59l7.72-7.72 1.47 1.35L5.41 20z\"/>\n",
              "  </svg>\n",
              "      </button>\n",
              "      \n",
              "  <style>\n",
              "    .colab-df-container {\n",
              "      display:flex;\n",
              "      flex-wrap:wrap;\n",
              "      gap: 12px;\n",
              "    }\n",
              "\n",
              "    .colab-df-convert {\n",
              "      background-color: #E8F0FE;\n",
              "      border: none;\n",
              "      border-radius: 50%;\n",
              "      cursor: pointer;\n",
              "      display: none;\n",
              "      fill: #1967D2;\n",
              "      height: 32px;\n",
              "      padding: 0 0 0 0;\n",
              "      width: 32px;\n",
              "    }\n",
              "\n",
              "    .colab-df-convert:hover {\n",
              "      background-color: #E2EBFA;\n",
              "      box-shadow: 0px 1px 2px rgba(60, 64, 67, 0.3), 0px 1px 3px 1px rgba(60, 64, 67, 0.15);\n",
              "      fill: #174EA6;\n",
              "    }\n",
              "\n",
              "    [theme=dark] .colab-df-convert {\n",
              "      background-color: #3B4455;\n",
              "      fill: #D2E3FC;\n",
              "    }\n",
              "\n",
              "    [theme=dark] .colab-df-convert:hover {\n",
              "      background-color: #434B5C;\n",
              "      box-shadow: 0px 1px 3px 1px rgba(0, 0, 0, 0.15);\n",
              "      filter: drop-shadow(0px 1px 2px rgba(0, 0, 0, 0.3));\n",
              "      fill: #FFFFFF;\n",
              "    }\n",
              "  </style>\n",
              "\n",
              "      <script>\n",
              "        const buttonEl =\n",
              "          document.querySelector('#df-ef06ef78-9b8c-4fac-8a54-084f8b219845 button.colab-df-convert');\n",
              "        buttonEl.style.display =\n",
              "          google.colab.kernel.accessAllowed ? 'block' : 'none';\n",
              "\n",
              "        async function convertToInteractive(key) {\n",
              "          const element = document.querySelector('#df-ef06ef78-9b8c-4fac-8a54-084f8b219845');\n",
              "          const dataTable =\n",
              "            await google.colab.kernel.invokeFunction('convertToInteractive',\n",
              "                                                     [key], {});\n",
              "          if (!dataTable) return;\n",
              "\n",
              "          const docLinkHtml = 'Like what you see? Visit the ' +\n",
              "            '<a target=\"_blank\" href=https://colab.research.google.com/notebooks/data_table.ipynb>data table notebook</a>'\n",
              "            + ' to learn more about interactive tables.';\n",
              "          element.innerHTML = '';\n",
              "          dataTable['output_type'] = 'display_data';\n",
              "          await google.colab.output.renderOutput(dataTable, element);\n",
              "          const docLink = document.createElement('div');\n",
              "          docLink.innerHTML = docLinkHtml;\n",
              "          element.appendChild(docLink);\n",
              "        }\n",
              "      </script>\n",
              "    </div>\n",
              "  </div>\n",
              "  "
            ],
            "text/plain": [
              "                   y    exog_1    exog_2\n",
              "date                                    \n",
              "1992-04-01  0.379808  0.958792  1.166029\n",
              "1992-05-01  0.361801  0.951993  1.117859\n",
              "1992-06-01  0.410534  0.952955  1.067942\n",
              "1992-07-01  0.483389  0.958078  1.097376\n",
              "1992-08-01  0.475463  0.956370  1.122199"
            ]
          },
          "metadata": {},
          "execution_count": 8
        }
      ]
    },
    {
      "cell_type": "markdown",
      "source": [
        "The time series is verified to be complete."
      ],
      "metadata": {
        "id": "hnbBoghOXrBY"
      }
    },
    {
      "cell_type": "code",
      "source": [
        "# Verify that a temporary index is complete\n",
        "# ==============================================================================\n",
        "(data.index == pd.date_range(start=data.index.min(),\n",
        "                             end=data.index.max(),\n",
        "                             freq=data.index.freq)).all()"
      ],
      "metadata": {
        "colab": {
          "base_uri": "https://localhost:8080/"
        },
        "id": "seJ15MY5Xrge",
        "outputId": "d17d9bc1-0fae-4af9-d4a4-abfca5b434ee"
      },
      "execution_count": null,
      "outputs": [
        {
          "output_type": "execute_result",
          "data": {
            "text/plain": [
              "True"
            ]
          },
          "metadata": {},
          "execution_count": 9
        }
      ]
    },
    {
      "cell_type": "markdown",
      "source": [
        "If False:"
      ],
      "metadata": {
        "id": "b9d5hoQeX7B9"
      }
    },
    {
      "cell_type": "code",
      "source": [
        "# Fill gaps in a temporary index\n",
        "# ==============================================================================\n",
        "# data.asfreq(freq='30min', fill_value=np.nan)"
      ],
      "metadata": {
        "id": "FAEN0ILPX8su"
      },
      "execution_count": null,
      "outputs": []
    },
    {
      "cell_type": "markdown",
      "source": [
        "The last 36 months are used as the test set to evaluate the predictive capacity of the model."
      ],
      "metadata": {
        "id": "Bn2Hbvc3X_z4"
      }
    },
    {
      "cell_type": "code",
      "source": [
        "# Split data into train-test\n",
        "# ==============================================================================\n",
        "steps = 36\n",
        "data_train = data[:-steps]\n",
        "data_test  = data[-steps:]\n",
        "\n",
        "fig, ax=plt.subplots(figsize=(9, 4))\n",
        "data_train['y'].plot(ax=ax, label='train')\n",
        "data_test['y'].plot(ax=ax, label='test')\n",
        "ax.legend();"
      ],
      "metadata": {
        "colab": {
          "base_uri": "https://localhost:8080/",
          "height": 279
        },
        "id": "cmDf7PZfYDUW",
        "outputId": "5599cd72-5563-4404-fb14-0e73a216d720"
      },
      "execution_count": null,
      "outputs": [
        {
          "output_type": "display_data",
          "data": {
            "image/png": "[encoded data removed]",
            "text/plain": [
              "<Figure size 648x288 with 1 Axes>"
            ]
          },
          "metadata": {
            "needs_background": "light"
          }
        }
      ]
    },
    {
      "cell_type": "markdown",
      "source": [
        "### ForecasterAutoreg"
      ],
      "metadata": {
        "id": "S81lkg52YaCv"
      }
    },
    {
      "cell_type": "markdown",
      "source": [
        "With the ForecasterAutoreg class, a model is created and trained from a RandomForestRegressor regressor with a time window of 6 lags. This means that the model uses the previous 6 months as predictors."
      ],
      "metadata": {
        "id": "67elyWWdYdRl"
      }
    },
    {
      "cell_type": "code",
      "source": [
        "# Create and train forecaster\n",
        "# ==============================================================================\n",
        "forecaster = ForecasterAutoreg(\n",
        "                regressor = RandomForestRegressor(random_state=123),\n",
        "                lags = 6\n",
        "             )\n",
        "\n",
        "forecaster.fit(y=data_train['y'])\n",
        "\n",
        "forecaster"
      ],
      "metadata": {
        "colab": {
          "base_uri": "https://localhost:8080/"
        },
        "id": "e7R6pQcdYgv7",
        "outputId": "cc868843-b5b9-43f2-a8f9-a51a81a19523"
      },
      "execution_count": null,
      "outputs": [
        {
          "output_type": "execute_result",
          "data": {
            "text/plain": [
              "================= \n",
              "ForecasterAutoreg \n",
              "================= \n",
              "Regressor: RandomForestRegressor(random_state=123) \n",
              "Lags: [1 2 3 4 5 6] \n",
              "Window size: 6 \n",
              "Included exogenous: False \n",
              "Type of exogenous variable: None \n",
              "Exogenous variables names: None \n",
              "Training range: [Timestamp('1992-04-01 00:00:00'), Timestamp('2005-06-01 00:00:00')] \n",
              "Training index type: DatetimeIndex \n",
              "Training index frequency: MS \n",
              "Regressor parameters: {'bootstrap': True, 'ccp_alpha': 0.0, 'criterion': 'squared_error', 'max_depth': None, 'max_features': 'auto', 'max_leaf_nodes': None, 'max_samples': None, 'min_impurity_decrease': 0.0, 'min_samples_leaf': 1, 'min_samples_split': 2, 'min_weight_fraction_leaf': 0.0, 'n_estimators': 100, 'n_jobs': None, 'oob_score': False, 'random_state': 123, 'verbose': 0, 'warm_start': False} \n",
              "Creation date: 2022-02-20 17:50:01 \n",
              "Last fit date: 2022-02-20 17:50:02 \n",
              "Skforecast version: 0.4.3.dev2 "
            ]
          },
          "metadata": {},
          "execution_count": 12
        }
      ]
    },
    {
      "cell_type": "markdown",
      "source": [
        "Once the model is trained, the test data is predicted (36 months into the future)."
      ],
      "metadata": {
        "id": "6vl4ktMSYt1r"
      }
    },
    {
      "cell_type": "code",
      "source": [
        "# Predictions\n",
        "# ==============================================================================\n",
        "steps = 36\n",
        "predictions = forecaster.predict(steps=steps)\n",
        "predictions.head(5)"
      ],
      "metadata": {
        "colab": {
          "base_uri": "https://localhost:8080/"
        },
        "id": "uay1ExBqYvZl",
        "outputId": "51242d4e-c678-4f80-90c6-395a4967bd3c"
      },
      "execution_count": null,
      "outputs": [
        {
          "output_type": "execute_result",
          "data": {
            "text/plain": [
              "2005-07-01    0.878756\n",
              "2005-08-01    0.882167\n",
              "2005-09-01    0.973184\n",
              "2005-10-01    0.983678\n",
              "2005-11-01    0.849494\n",
              "Freq: MS, Name: pred, dtype: float64"
            ]
          },
          "metadata": {},
          "execution_count": 13
        }
      ]
    },
    {
      "cell_type": "code",
      "source": [
        "# Plot\n",
        "# ==============================================================================\n",
        "fig, ax = plt.subplots(figsize=(9, 4))\n",
        "data_train['y'].plot(ax=ax, label='train')\n",
        "data_test['y'].plot(ax=ax, label='test')\n",
        "predictions.plot(ax=ax, label='predictions')\n",
        "ax.legend();"
      ],
      "metadata": {
        "colab": {
          "base_uri": "https://localhost:8080/",
          "height": 279
        },
        "id": "tuK61MduY5kY",
        "outputId": "e7a6cdff-facd-4aa5-e3f8-e99d27912b09"
      },
      "execution_count": null,
      "outputs": [
        {
          "output_type": "display_data",
          "data": {
            "image/png": "[encoded data removed]",
            "text/plain": [
              "<Figure size 648x288 with 1 Axes>"
            ]
          },
          "metadata": {
            "needs_background": "light"
          }
        }
      ]
    },
    {
      "cell_type": "markdown",
      "source": [
        "### Prediction error in the test set"
      ],
      "metadata": {
        "id": "nEA2XJKRZLP9"
      }
    },
    {
      "cell_type": "markdown",
      "source": [
        "The error that the model makes in its predictions is quantified. In this case, the metric used is the mean squared error (mse)."
      ],
      "metadata": {
        "id": "HJ4B7yNJZM2W"
      }
    },
    {
      "cell_type": "code",
      "source": [
        "# Error\n",
        "# ==============================================================================\n",
        "error_mse = mean_squared_error(\n",
        "                y_true = data_test['y'],\n",
        "                y_pred = predictions\n",
        "            )\n",
        "print(f\"Test error (mse): {error_mse}\")"
      ],
      "metadata": {
        "colab": {
          "base_uri": "https://localhost:8080/"
        },
        "id": "n4wKSyq0ZQMt",
        "outputId": "090e639c-a0ba-4eed-d098-5a463d47e008"
      },
      "execution_count": null,
      "outputs": [
        {
          "output_type": "stream",
          "name": "stdout",
          "text": [
            "Test error (mse): 0.07326833976120374\n"
          ]
        }
      ]
    },
    {
      "cell_type": "markdown",
      "source": [
        "### Hyperparameter tuning"
      ],
      "metadata": {
        "id": "cUi9CcYhZZeg"
      }
    },
    {
      "cell_type": "markdown",
      "source": [
        "The trained ForecasterAutoreg uses a 6 lag time window and a Random Forest model with the default hyperparameters. However, there is no reason why these values are the most suitable.\n",
        "\n",
        "In order to identify the best combination of lags and hyperparameters, Skforecast has the grid_search_forecaster function. This function uses backtesting to compare the performance obtained with each configuration of the model. It is important not to include the test data in the search process to avoid overfitting problems.\n",
        "\n",
        "In this example, for the first fold, the initial 50% of the observations are the training data and, the next 10 steps represent the validation set. In successive folds, the training set will contain all data used in the previous fold and, the next 10 steps will be used as new validation data. This process will be repeated until the entire training data set is used."
      ],
      "metadata": {
        "id": "N2oDMCClZbY-"
      }
    },
    {
      "cell_type": "code",
      "source": [
        "# Hyperparameter Grid search\n",
        "# ==============================================================================\n",
        "forecaster = ForecasterAutoreg(\n",
        "                regressor = RandomForestRegressor(random_state=123),\n",
        "                lags      = 12 # This value will be replaced in the grid search\n",
        "             )\n",
        "\n",
        "# Regressor's hyperparameters\n",
        "param_grid = {'n_estimators': [100, 500],\n",
        "              'max_depth': [3, 5, 10]}\n",
        "\n",
        "# Lags used as predictors\n",
        "lags_grid = [10, 20]\n",
        "\n",
        "results_grid = grid_search_forecaster(\n",
        "                        forecaster         = forecaster,\n",
        "                        y                  = data_train['y'],\n",
        "                        param_grid         = param_grid,\n",
        "                        lags_grid          = lags_grid,\n",
        "                        steps              = 10,\n",
        "                        refit              = True,\n",
        "                        metric             = 'mean_squared_error',\n",
        "                        initial_train_size = int(len(data_train)*0.5),\n",
        "                        return_best        = True,\n",
        "                        verbose            = False\n",
        "                   )"
      ],
      "metadata": {
        "colab": {
          "base_uri": "https://localhost:8080/"
        },
        "id": "PrbCxb7MZlHP",
        "outputId": "e6707f6c-f601-4677-d3d8-2ed1bd4aa9fb"
      },
      "execution_count": null,
      "outputs": [
        {
          "output_type": "stream",
          "name": "stdout",
          "text": [
            "Number of models compared: 12\n"
          ]
        },
        {
          "output_type": "stream",
          "name": "stderr",
          "text": [
            "loop lags_grid:   0%|                                               | 0/2 [00:00<?, ?it/s]\n",
            "loop param_grid:   0%|                                              | 0/6 [00:00<?, ?it/s]\u001b[A\n",
            "loop param_grid:  17%|██████▎                               | 1/6 [00:01<00:09,  1.93s/it]\u001b[A\n",
            "loop param_grid:  33%|████████████▋                         | 2/6 [00:11<00:25,  6.35s/it]\u001b[A\n",
            "loop param_grid:  50%|███████████████████                   | 3/6 [00:13<00:13,  4.36s/it]\u001b[A\n",
            "loop param_grid:  67%|█████████████████████████▎            | 4/6 [00:23<00:12,  6.49s/it]\u001b[A\n",
            "loop param_grid:  83%|███████████████████████████████▋      | 5/6 [00:25<00:04,  4.92s/it]\u001b[A\n",
            "loop param_grid: 100%|██████████████████████████████████████| 6/6 [00:35<00:00,  6.71s/it]\u001b[A\n",
            "loop lags_grid:  50%|███████████████████▌                   | 1/2 [00:35<00:35, 35.47s/it]\n",
            "loop param_grid:   0%|                                              | 0/6 [00:00<?, ?it/s]\u001b[A\n",
            "loop param_grid:  17%|██████▎                               | 1/6 [00:01<00:09,  1.92s/it]\u001b[A\n",
            "loop param_grid:  33%|████████████▋                         | 2/6 [00:11<00:25,  6.48s/it]\u001b[A\n",
            "loop param_grid:  50%|███████████████████                   | 3/6 [00:13<00:13,  4.50s/it]\u001b[A\n",
            "loop param_grid:  67%|█████████████████████████▎            | 4/6 [00:23<00:13,  6.69s/it]\u001b[A\n",
            "loop param_grid:  83%|███████████████████████████████▋      | 5/6 [00:25<00:05,  5.07s/it]\u001b[A\n",
            "loop param_grid: 100%|██████████████████████████████████████| 6/6 [00:37<00:00,  7.13s/it]\u001b[A\n",
            "loop lags_grid: 100%|███████████████████████████████████████| 2/2 [01:12<00:00, 36.31s/it]\n"
          ]
        },
        {
          "output_type": "stream",
          "name": "stdout",
          "text": [
            "`Forecaster` refitted using the best-found lags and parameters, and the whole data set: \n",
            "  Lags: [ 1  2  3  4  5  6  7  8  9 10 11 12 13 14 15 16 17 18 19 20] \n",
            "  Parameters: {'max_depth': 3, 'n_estimators': 500}\n",
            "  Backtesting metric: 0.008055003809735634\n",
            "\n"
          ]
        }
      ]
    },
    {
      "cell_type": "code",
      "source": [
        "# Grid Search results\n",
        "# ==============================================================================\n",
        "results_grid"
      ],
      "metadata": {
        "colab": {
          "base_uri": "https://localhost:8080/",
          "height": 426
        },
        "id": "XQyV3zpzaJAL",
        "outputId": "4e83fda1-a637-4959-90e9-e88032ba7389"
      },
      "execution_count": null,
      "outputs": [
        {
          "output_type": "execute_result",
          "data": {
            "text/html": [
              "\n",
              "  <div id=\"df-e3c93f50-c466-4ea6-843e-83c89f992013\">\n",
              "    <div class=\"colab-df-container\">\n",
              "      <div>\n",
              "<style scoped>\n",
              "    .dataframe tbody tr th:only-of-type {\n",
              "        vertical-align: middle;\n",
              "    }\n",
              "\n",
              "    .dataframe tbody tr th {\n",
              "        vertical-align: top;\n",
              "    }\n",
              "\n",
              "    .dataframe thead th {\n",
              "        text-align: right;\n",
              "    }\n",
              "</style>\n",
              "<table border=\"1\" class=\"dataframe\">\n",
              "  <thead>\n",
              "    <tr style=\"text-align: right;\">\n",
              "      <th></th>\n",
              "      <th>lags</th>\n",
              "      <th>params</th>\n",
              "      <th>metric</th>\n",
              "      <th>max_depth</th>\n",
              "      <th>n_estimators</th>\n",
              "    </tr>\n",
              "  </thead>\n",
              "  <tbody>\n",
              "    <tr>\n",
              "      <th>7</th>\n",
              "      <td>[1, 2, 3, 4, 5, 6, 7, 8, 9, 10, 11, 12, 13, 14...</td>\n",
              "      <td>{'max_depth': 3, 'n_estimators': 500}</td>\n",
              "      <td>0.008055</td>\n",
              "      <td>3</td>\n",
              "      <td>500</td>\n",
              "    </tr>\n",
              "    <tr>\n",
              "      <th>6</th>\n",
              "      <td>[1, 2, 3, 4, 5, 6, 7, 8, 9, 10, 11, 12, 13, 14...</td>\n",
              "      <td>{'max_depth': 3, 'n_estimators': 100}</td>\n",
              "      <td>0.008220</td>\n",
              "      <td>3</td>\n",
              "      <td>100</td>\n",
              "    </tr>\n",
              "    <tr>\n",
              "      <th>8</th>\n",
              "      <td>[1, 2, 3, 4, 5, 6, 7, 8, 9, 10, 11, 12, 13, 14...</td>\n",
              "      <td>{'max_depth': 5, 'n_estimators': 100}</td>\n",
              "      <td>0.008326</td>\n",
              "      <td>5</td>\n",
              "      <td>100</td>\n",
              "    </tr>\n",
              "    <tr>\n",
              "      <th>9</th>\n",
              "      <td>[1, 2, 3, 4, 5, 6, 7, 8, 9, 10, 11, 12, 13, 14...</td>\n",
              "      <td>{'max_depth': 5, 'n_estimators': 500}</td>\n",
              "      <td>0.008330</td>\n",
              "      <td>5</td>\n",
              "      <td>500</td>\n",
              "    </tr>\n",
              "    <tr>\n",
              "      <th>11</th>\n",
              "      <td>[1, 2, 3, 4, 5, 6, 7, 8, 9, 10, 11, 12, 13, 14...</td>\n",
              "      <td>{'max_depth': 10, 'n_estimators': 500}</td>\n",
              "      <td>0.008336</td>\n",
              "      <td>10</td>\n",
              "      <td>500</td>\n",
              "    </tr>\n",
              "    <tr>\n",
              "      <th>10</th>\n",
              "      <td>[1, 2, 3, 4, 5, 6, 7, 8, 9, 10, 11, 12, 13, 14...</td>\n",
              "      <td>{'max_depth': 10, 'n_estimators': 100}</td>\n",
              "      <td>0.008359</td>\n",
              "      <td>10</td>\n",
              "      <td>100</td>\n",
              "    </tr>\n",
              "    <tr>\n",
              "      <th>5</th>\n",
              "      <td>[1, 2, 3, 4, 5, 6, 7, 8, 9, 10]</td>\n",
              "      <td>{'max_depth': 10, 'n_estimators': 500}</td>\n",
              "      <td>0.028249</td>\n",
              "      <td>10</td>\n",
              "      <td>500</td>\n",
              "    </tr>\n",
              "    <tr>\n",
              "      <th>3</th>\n",
              "      <td>[1, 2, 3, 4, 5, 6, 7, 8, 9, 10]</td>\n",
              "      <td>{'max_depth': 5, 'n_estimators': 500}</td>\n",
              "      <td>0.028386</td>\n",
              "      <td>5</td>\n",
              "      <td>500</td>\n",
              "    </tr>\n",
              "    <tr>\n",
              "      <th>1</th>\n",
              "      <td>[1, 2, 3, 4, 5, 6, 7, 8, 9, 10]</td>\n",
              "      <td>{'max_depth': 3, 'n_estimators': 500}</td>\n",
              "      <td>0.028830</td>\n",
              "      <td>3</td>\n",
              "      <td>500</td>\n",
              "    </tr>\n",
              "    <tr>\n",
              "      <th>0</th>\n",
              "      <td>[1, 2, 3, 4, 5, 6, 7, 8, 9, 10]</td>\n",
              "      <td>{'max_depth': 3, 'n_estimators': 100}</td>\n",
              "      <td>0.028883</td>\n",
              "      <td>3</td>\n",
              "      <td>100</td>\n",
              "    </tr>\n",
              "    <tr>\n",
              "      <th>4</th>\n",
              "      <td>[1, 2, 3, 4, 5, 6, 7, 8, 9, 10]</td>\n",
              "      <td>{'max_depth': 10, 'n_estimators': 100}</td>\n",
              "      <td>0.029012</td>\n",
              "      <td>10</td>\n",
              "      <td>100</td>\n",
              "    </tr>\n",
              "    <tr>\n",
              "      <th>2</th>\n",
              "      <td>[1, 2, 3, 4, 5, 6, 7, 8, 9, 10]</td>\n",
              "      <td>{'max_depth': 5, 'n_estimators': 100}</td>\n",
              "      <td>0.029949</td>\n",
              "      <td>5</td>\n",
              "      <td>100</td>\n",
              "    </tr>\n",
              "  </tbody>\n",
              "</table>\n",
              "</div>\n",
              "      <button class=\"colab-df-convert\" onclick=\"convertToInteractive('df-e3c93f50-c466-4ea6-843e-83c89f992013')\"\n",
              "              title=\"Convert this dataframe to an interactive table.\"\n",
              "              style=\"display:none;\">\n",
              "        \n",
              "  <svg xmlns=\"http://www.w3.org/2000/svg\" height=\"24px\"viewBox=\"0 0 24 24\"\n",
              "       width=\"24px\">\n",
              "    <path d=\"M0 0h24v24H0V0z\" fill=\"none\"/>\n",
              "    <path d=\"M18.56 5.44l.94 2.06.94-2.06 2.06-.94-2.06-.94-.94-2.06-.94 2.06-2.06.94zm-11 1L8.5 8.5l.94-2.06 2.06-.94-2.06-.94L8.5 2.5l-.94 2.06-2.06.94zm10 10l.94 2.06.94-2.06 2.06-.94-2.06-.94-.94-2.06-.94 2.06-2.06.94z\"/><path d=\"M17.41 7.96l-1.37-1.37c-.4-.4-.92-.59-1.43-.59-.52 0-1.04.2-1.43.59L10.3 9.45l-7.72 7.72c-.78.78-.78 2.05 0 2.83L4 21.41c.39.39.9.59 1.41.59.51 0 1.02-.2 1.41-.59l7.78-7.78 2.81-2.81c.8-.78.8-2.07 0-2.86zM5.41 20L4 18.59l7.72-7.72 1.47 1.35L5.41 20z\"/>\n",
              "  </svg>\n",
              "      </button>\n",
              "      \n",
              "  <style>\n",
              "    .colab-df-container {\n",
              "      display:flex;\n",
              "      flex-wrap:wrap;\n",
              "      gap: 12px;\n",
              "    }\n",
              "\n",
              "    .colab-df-convert {\n",
              "      background-color: #E8F0FE;\n",
              "      border: none;\n",
              "      border-radius: 50%;\n",
              "      cursor: pointer;\n",
              "      display: none;\n",
              "      fill: #1967D2;\n",
              "      height: 32px;\n",
              "      padding: 0 0 0 0;\n",
              "      width: 32px;\n",
              "    }\n",
              "\n",
              "    .colab-df-convert:hover {\n",
              "      background-color: #E2EBFA;\n",
              "      box-shadow: 0px 1px 2px rgba(60, 64, 67, 0.3), 0px 1px 3px 1px rgba(60, 64, 67, 0.15);\n",
              "      fill: #174EA6;\n",
              "    }\n",
              "\n",
              "    [theme=dark] .colab-df-convert {\n",
              "      background-color: #3B4455;\n",
              "      fill: #D2E3FC;\n",
              "    }\n",
              "\n",
              "    [theme=dark] .colab-df-convert:hover {\n",
              "      background-color: #434B5C;\n",
              "      box-shadow: 0px 1px 3px 1px rgba(0, 0, 0, 0.15);\n",
              "      filter: drop-shadow(0px 1px 2px rgba(0, 0, 0, 0.3));\n",
              "      fill: #FFFFFF;\n",
              "    }\n",
              "  </style>\n",
              "\n",
              "      <script>\n",
              "        const buttonEl =\n",
              "          document.querySelector('#df-e3c93f50-c466-4ea6-843e-83c89f992013 button.colab-df-convert');\n",
              "        buttonEl.style.display =\n",
              "          google.colab.kernel.accessAllowed ? 'block' : 'none';\n",
              "\n",
              "        async function convertToInteractive(key) {\n",
              "          const element = document.querySelector('#df-e3c93f50-c466-4ea6-843e-83c89f992013');\n",
              "          const dataTable =\n",
              "            await google.colab.kernel.invokeFunction('convertToInteractive',\n",
              "                                                     [key], {});\n",
              "          if (!dataTable) return;\n",
              "\n",
              "          const docLinkHtml = 'Like what you see? Visit the ' +\n",
              "            '<a target=\"_blank\" href=https://colab.research.google.com/notebooks/data_table.ipynb>data table notebook</a>'\n",
              "            + ' to learn more about interactive tables.';\n",
              "          element.innerHTML = '';\n",
              "          dataTable['output_type'] = 'display_data';\n",
              "          await google.colab.output.renderOutput(dataTable, element);\n",
              "          const docLink = document.createElement('div');\n",
              "          docLink.innerHTML = docLinkHtml;\n",
              "          element.appendChild(docLink);\n",
              "        }\n",
              "      </script>\n",
              "    </div>\n",
              "  </div>\n",
              "  "
            ],
            "text/plain": [
              "                                                 lags  ... n_estimators\n",
              "7   [1, 2, 3, 4, 5, 6, 7, 8, 9, 10, 11, 12, 13, 14...  ...          500\n",
              "6   [1, 2, 3, 4, 5, 6, 7, 8, 9, 10, 11, 12, 13, 14...  ...          100\n",
              "8   [1, 2, 3, 4, 5, 6, 7, 8, 9, 10, 11, 12, 13, 14...  ...          100\n",
              "9   [1, 2, 3, 4, 5, 6, 7, 8, 9, 10, 11, 12, 13, 14...  ...          500\n",
              "11  [1, 2, 3, 4, 5, 6, 7, 8, 9, 10, 11, 12, 13, 14...  ...          500\n",
              "10  [1, 2, 3, 4, 5, 6, 7, 8, 9, 10, 11, 12, 13, 14...  ...          100\n",
              "5                     [1, 2, 3, 4, 5, 6, 7, 8, 9, 10]  ...          500\n",
              "3                     [1, 2, 3, 4, 5, 6, 7, 8, 9, 10]  ...          500\n",
              "1                     [1, 2, 3, 4, 5, 6, 7, 8, 9, 10]  ...          500\n",
              "0                     [1, 2, 3, 4, 5, 6, 7, 8, 9, 10]  ...          100\n",
              "4                     [1, 2, 3, 4, 5, 6, 7, 8, 9, 10]  ...          100\n",
              "2                     [1, 2, 3, 4, 5, 6, 7, 8, 9, 10]  ...          100\n",
              "\n",
              "[12 rows x 5 columns]"
            ]
          },
          "metadata": {},
          "execution_count": 17
        }
      ]
    },
    {
      "cell_type": "markdown",
      "source": [
        "The best results are obtained using a time window of 20 lags and a Random Forest set up of {'max_depth': 3, 'n_estimators': 500}."
      ],
      "metadata": {
        "id": "tglqV9tmaj7P"
      }
    },
    {
      "cell_type": "markdown",
      "source": [
        "### Final model"
      ],
      "metadata": {
        "id": "pX6GDTZsawx4"
      }
    },
    {
      "cell_type": "markdown",
      "source": [
        "Finally, a ForecasterAutoreg is trained with the optimal configuration found by validation. This step is not necessary if return_best = True is specified in the grid_search_forecaster() function."
      ],
      "metadata": {
        "id": "7peRLoH-ayuN"
      }
    },
    {
      "cell_type": "code",
      "source": [
        "# Create and train forecaster with the best hyperparameters\n",
        "# ==============================================================================\n",
        "regressor = RandomForestRegressor(max_depth=3, n_estimators=500, random_state=123)\n",
        "\n",
        "forecaster = ForecasterAutoreg(\n",
        "                regressor = regressor,\n",
        "                lags      = 20\n",
        "             )\n",
        "\n",
        "forecaster.fit(y=data_train['y'])"
      ],
      "metadata": {
        "id": "6W816-bzbFnz"
      },
      "execution_count": null,
      "outputs": []
    },
    {
      "cell_type": "code",
      "source": [
        "# Predictions\n",
        "# ==============================================================================\n",
        "predictions = forecaster.predict(steps=steps)"
      ],
      "metadata": {
        "id": "jnpY-aZqbJsf"
      },
      "execution_count": null,
      "outputs": []
    },
    {
      "cell_type": "code",
      "source": [
        "# Plot\n",
        "# ==============================================================================\n",
        "fig, ax = plt.subplots(figsize=(9, 4))\n",
        "data_train['y'].plot(ax=ax, label='train')\n",
        "data_test['y'].plot(ax=ax, label='test')\n",
        "predictions.plot(ax=ax, label='predictions')\n",
        "ax.legend();"
      ],
      "metadata": {
        "colab": {
          "base_uri": "https://localhost:8080/",
          "height": 279
        },
        "id": "xoLhzhJabLzR",
        "outputId": "2dfcb312-1be9-4979-bfbc-90abbcacff11"
      },
      "execution_count": null,
      "outputs": [
        {
          "output_type": "display_data",
          "data": {
            "image/png": "[encoded data removed]",
            "text/plain": [
              "<Figure size 648x288 with 1 Axes>"
            ]
          },
          "metadata": {
            "needs_background": "light"
          }
        }
      ]
    },
    {
      "cell_type": "code",
      "source": [
        "# Error de test\n",
        "# ==============================================================================\n",
        "error_mse = mean_squared_error(\n",
        "                y_true = data_test['y'],\n",
        "                y_pred = predictions\n",
        "            )\n",
        "print(f\"Test error (mse): {error_mse}\")"
      ],
      "metadata": {
        "colab": {
          "base_uri": "https://localhost:8080/"
        },
        "id": "5bPrXinubUFb",
        "outputId": "ecd3ce6d-84a5-4a66-b29c-c941d457d310"
      },
      "execution_count": null,
      "outputs": [
        {
          "output_type": "stream",
          "name": "stdout",
          "text": [
            "Test error (mse): 0.004392699665157793\n"
          ]
        }
      ]
    },
    {
      "cell_type": "markdown",
      "source": [
        "The optimal combination of hyperparameters significantly reduces test error."
      ],
      "metadata": {
        "id": "Ym6ra1OubYVE"
      }
    },
    {
      "cell_type": "markdown",
      "source": [
        "### Backtesting\n"
      ],
      "metadata": {
        "id": "2C1QBQDybb2a"
      }
    },
    {
      "cell_type": "markdown",
      "source": [
        "The Backtesting process consists of simulating the behavior that the model would have had if it had been run on a recurring basis, for example, predicting at intervals of 3 years (36 months) a total of 9 years. This type of evaluation can be easily applied with the backtesting_forecaster() function.\n",
        "\n",
        "**Backtesting with refit**\n",
        "\n",
        "The model is trained each tieme before making the predictions, in this way, the model use all the information available so far. It is a variation of the standar cross-validation but, instead of making a random distribution of the observations, the training set is increased sequentially, maintaining the temporal order of the data.\n",
        "\n",
        "**Backtesting without refit**\n",
        "\n",
        "After an initial train, the model is used sequentially without updating it and following the temporal order of the data. This strategy has the advantage of being much faster since the model is only trained once. However, the model does not incorporate the latest information available so it may lose predictive capacity over time."
      ],
      "metadata": {
        "id": "79h0r1Jobikx"
      }
    },
    {
      "cell_type": "code",
      "source": [
        "# Backtesting\n",
        "# ==============================================================================\n",
        "n_test = 36*3 # The last 9 years are separated for the backtest\n",
        "data_train = data[:-n_test]\n",
        "data_test  = data[-n_test:]\n",
        "\n",
        "metric, predictions_backtest = backtesting_forecaster(\n",
        "                                    forecaster = forecaster,\n",
        "                                    y          = data['y'],\n",
        "                                    initial_train_size = len(data_train),\n",
        "                                    steps      = steps,\n",
        "                                    metric     = 'mean_squared_error',\n",
        "                                    refit      = True,\n",
        "                                    verbose    = True\n",
        "                               )\n",
        "\n",
        "print(f\"Backtest error: {metric}\")"
      ],
      "metadata": {
        "colab": {
          "base_uri": "https://localhost:8080/"
        },
        "id": "J3RC2g-XcPBA",
        "outputId": "4a7ebc45-c135-44b2-a603-925dd265bb67"
      },
      "execution_count": null,
      "outputs": [
        {
          "output_type": "stream",
          "name": "stdout",
          "text": [
            "Information of backtesting process\n",
            "----------------------------------\n",
            "Number of observations used for initial training: 87\n",
            "Number of observations used for backtesting: 108\n",
            "    Number of folds: 3\n",
            "    Number of steps per fold: 36\n",
            "\n",
            "Data partition in fold: 0\n",
            "    Training:   1992-04-01 00:00:00 -- 1999-06-01 00:00:00\n",
            "    Validation: 1999-07-01 00:00:00 -- 2002-06-01 00:00:00\n",
            "Data partition in fold: 1\n",
            "    Training:   1992-04-01 00:00:00 -- 2002-06-01 00:00:00\n",
            "    Validation: 2002-07-01 00:00:00 -- 2005-06-01 00:00:00\n",
            "Data partition in fold: 2\n",
            "    Training:   1992-04-01 00:00:00 -- 2005-06-01 00:00:00\n",
            "    Validation: 2005-07-01 00:00:00 -- 2008-06-01 00:00:00\n",
            "\n",
            "Backtest error: [0.01057898]\n"
          ]
        }
      ]
    },
    {
      "cell_type": "code",
      "source": [
        "fig, ax = plt.subplots(figsize=(9, 4))\n",
        "data_test['y'].plot(ax=ax, label='test')\n",
        "predictions_backtest.plot(ax=ax, label='predictions')\n",
        "ax.legend();"
      ],
      "metadata": {
        "colab": {
          "base_uri": "https://localhost:8080/",
          "height": 279
        },
        "id": "dyIYMJ9CchEg",
        "outputId": "19b44779-866c-4575-d7fc-97a4fea7e611"
      },
      "execution_count": null,
      "outputs": [
        {
          "output_type": "display_data",
          "data": {
            "image/png": "[encoded data removed]",
            "text/plain": [
              "<Figure size 648x288 with 1 Axes>"
            ]
          },
          "metadata": {
            "needs_background": "light"
          }
        }
      ]
    },
    {
      "cell_type": "markdown",
      "source": [
        "### Predictors importance"
      ],
      "metadata": {
        "id": "Ebi8QolXcpbz"
      }
    },
    {
      "cell_type": "markdown",
      "source": [
        "Since the ForecasterAutoreg object uses Scikit-learn models, the importance of predictors can be accessed once trained. When the regressor used is a LinearRegression(), Lasso() or Ridge(), the coefficients of the model reflect their importance, obtained with the get_coef() method. In GradientBoostingRegressor() or RandomForestRegressor() regressors, the importance of predictors is based on impurity reduction and is accessible through the get_feature_importance() method. In both cases, the values returned are sorted as the lags order."
      ],
      "metadata": {
        "id": "eXczK3fycqgp"
      }
    },
    {
      "cell_type": "code",
      "source": [
        "# Predictors importance\n",
        "# ==============================================================================\n",
        "forecaster.get_feature_importance()"
      ],
      "metadata": {
        "colab": {
          "base_uri": "https://localhost:8080/",
          "height": 677
        },
        "id": "g23kre4QdI79",
        "outputId": "f25a1812-e9ce-402c-8144-e06c009cf92e"
      },
      "execution_count": null,
      "outputs": [
        {
          "output_type": "execute_result",
          "data": {
            "text/html": [
              "\n",
              "  <div id=\"df-39b0583c-cd69-4c2f-969a-847c4c4211f6\">\n",
              "    <div class=\"colab-df-container\">\n",
              "      <div>\n",
              "<style scoped>\n",
              "    .dataframe tbody tr th:only-of-type {\n",
              "        vertical-align: middle;\n",
              "    }\n",
              "\n",
              "    .dataframe tbody tr th {\n",
              "        vertical-align: top;\n",
              "    }\n",
              "\n",
              "    .dataframe thead th {\n",
              "        text-align: right;\n",
              "    }\n",
              "</style>\n",
              "<table border=\"1\" class=\"dataframe\">\n",
              "  <thead>\n",
              "    <tr style=\"text-align: right;\">\n",
              "      <th></th>\n",
              "      <th>feature</th>\n",
              "      <th>importance</th>\n",
              "    </tr>\n",
              "  </thead>\n",
              "  <tbody>\n",
              "    <tr>\n",
              "      <th>0</th>\n",
              "      <td>lag_1</td>\n",
              "      <td>0.009412</td>\n",
              "    </tr>\n",
              "    <tr>\n",
              "      <th>1</th>\n",
              "      <td>lag_2</td>\n",
              "      <td>0.087268</td>\n",
              "    </tr>\n",
              "    <tr>\n",
              "      <th>2</th>\n",
              "      <td>lag_3</td>\n",
              "      <td>0.012754</td>\n",
              "    </tr>\n",
              "    <tr>\n",
              "      <th>3</th>\n",
              "      <td>lag_4</td>\n",
              "      <td>0.001446</td>\n",
              "    </tr>\n",
              "    <tr>\n",
              "      <th>4</th>\n",
              "      <td>lag_5</td>\n",
              "      <td>0.000401</td>\n",
              "    </tr>\n",
              "    <tr>\n",
              "      <th>5</th>\n",
              "      <td>lag_6</td>\n",
              "      <td>0.001386</td>\n",
              "    </tr>\n",
              "    <tr>\n",
              "      <th>6</th>\n",
              "      <td>lag_7</td>\n",
              "      <td>0.001273</td>\n",
              "    </tr>\n",
              "    <tr>\n",
              "      <th>7</th>\n",
              "      <td>lag_8</td>\n",
              "      <td>0.006926</td>\n",
              "    </tr>\n",
              "    <tr>\n",
              "      <th>8</th>\n",
              "      <td>lag_9</td>\n",
              "      <td>0.005839</td>\n",
              "    </tr>\n",
              "    <tr>\n",
              "      <th>9</th>\n",
              "      <td>lag_10</td>\n",
              "      <td>0.013076</td>\n",
              "    </tr>\n",
              "    <tr>\n",
              "      <th>10</th>\n",
              "      <td>lag_11</td>\n",
              "      <td>0.008868</td>\n",
              "    </tr>\n",
              "    <tr>\n",
              "      <th>11</th>\n",
              "      <td>lag_12</td>\n",
              "      <td>0.816041</td>\n",
              "    </tr>\n",
              "    <tr>\n",
              "      <th>12</th>\n",
              "      <td>lag_13</td>\n",
              "      <td>0.001266</td>\n",
              "    </tr>\n",
              "    <tr>\n",
              "      <th>13</th>\n",
              "      <td>lag_14</td>\n",
              "      <td>0.019411</td>\n",
              "    </tr>\n",
              "    <tr>\n",
              "      <th>14</th>\n",
              "      <td>lag_15</td>\n",
              "      <td>0.008746</td>\n",
              "    </tr>\n",
              "    <tr>\n",
              "      <th>15</th>\n",
              "      <td>lag_16</td>\n",
              "      <td>0.001766</td>\n",
              "    </tr>\n",
              "    <tr>\n",
              "      <th>16</th>\n",
              "      <td>lag_17</td>\n",
              "      <td>0.000578</td>\n",
              "    </tr>\n",
              "    <tr>\n",
              "      <th>17</th>\n",
              "      <td>lag_18</td>\n",
              "      <td>0.000329</td>\n",
              "    </tr>\n",
              "    <tr>\n",
              "      <th>18</th>\n",
              "      <td>lag_19</td>\n",
              "      <td>0.000853</td>\n",
              "    </tr>\n",
              "    <tr>\n",
              "      <th>19</th>\n",
              "      <td>lag_20</td>\n",
              "      <td>0.002359</td>\n",
              "    </tr>\n",
              "  </tbody>\n",
              "</table>\n",
              "</div>\n",
              "      <button class=\"colab-df-convert\" onclick=\"convertToInteractive('df-39b0583c-cd69-4c2f-969a-847c4c4211f6')\"\n",
              "              title=\"Convert this dataframe to an interactive table.\"\n",
              "              style=\"display:none;\">\n",
              "        \n",
              "  <svg xmlns=\"http://www.w3.org/2000/svg\" height=\"24px\"viewBox=\"0 0 24 24\"\n",
              "       width=\"24px\">\n",
              "    <path d=\"M0 0h24v24H0V0z\" fill=\"none\"/>\n",
              "    <path d=\"M18.56 5.44l.94 2.06.94-2.06 2.06-.94-2.06-.94-.94-2.06-.94 2.06-2.06.94zm-11 1L8.5 8.5l.94-2.06 2.06-.94-2.06-.94L8.5 2.5l-.94 2.06-2.06.94zm10 10l.94 2.06.94-2.06 2.06-.94-2.06-.94-.94-2.06-.94 2.06-2.06.94z\"/><path d=\"M17.41 7.96l-1.37-1.37c-.4-.4-.92-.59-1.43-.59-.52 0-1.04.2-1.43.59L10.3 9.45l-7.72 7.72c-.78.78-.78 2.05 0 2.83L4 21.41c.39.39.9.59 1.41.59.51 0 1.02-.2 1.41-.59l7.78-7.78 2.81-2.81c.8-.78.8-2.07 0-2.86zM5.41 20L4 18.59l7.72-7.72 1.47 1.35L5.41 20z\"/>\n",
              "  </svg>\n",
              "      </button>\n",
              "      \n",
              "  <style>\n",
              "    .colab-df-container {\n",
              "      display:flex;\n",
              "      flex-wrap:wrap;\n",
              "      gap: 12px;\n",
              "    }\n",
              "\n",
              "    .colab-df-convert {\n",
              "      background-color: #E8F0FE;\n",
              "      border: none;\n",
              "      border-radius: 50%;\n",
              "      cursor: pointer;\n",
              "      display: none;\n",
              "      fill: #1967D2;\n",
              "      height: 32px;\n",
              "      padding: 0 0 0 0;\n",
              "      width: 32px;\n",
              "    }\n",
              "\n",
              "    .colab-df-convert:hover {\n",
              "      background-color: #E2EBFA;\n",
              "      box-shadow: 0px 1px 2px rgba(60, 64, 67, 0.3), 0px 1px 3px 1px rgba(60, 64, 67, 0.15);\n",
              "      fill: #174EA6;\n",
              "    }\n",
              "\n",
              "    [theme=dark] .colab-df-convert {\n",
              "      background-color: #3B4455;\n",
              "      fill: #D2E3FC;\n",
              "    }\n",
              "\n",
              "    [theme=dark] .colab-df-convert:hover {\n",
              "      background-color: #434B5C;\n",
              "      box-shadow: 0px 1px 3px 1px rgba(0, 0, 0, 0.15);\n",
              "      filter: drop-shadow(0px 1px 2px rgba(0, 0, 0, 0.3));\n",
              "      fill: #FFFFFF;\n",
              "    }\n",
              "  </style>\n",
              "\n",
              "      <script>\n",
              "        const buttonEl =\n",
              "          document.querySelector('#df-39b0583c-cd69-4c2f-969a-847c4c4211f6 button.colab-df-convert');\n",
              "        buttonEl.style.display =\n",
              "          google.colab.kernel.accessAllowed ? 'block' : 'none';\n",
              "\n",
              "        async function convertToInteractive(key) {\n",
              "          const element = document.querySelector('#df-39b0583c-cd69-4c2f-969a-847c4c4211f6');\n",
              "          const dataTable =\n",
              "            await google.colab.kernel.invokeFunction('convertToInteractive',\n",
              "                                                     [key], {});\n",
              "          if (!dataTable) return;\n",
              "\n",
              "          const docLinkHtml = 'Like what you see? Visit the ' +\n",
              "            '<a target=\"_blank\" href=https://colab.research.google.com/notebooks/data_table.ipynb>data table notebook</a>'\n",
              "            + ' to learn more about interactive tables.';\n",
              "          element.innerHTML = '';\n",
              "          dataTable['output_type'] = 'display_data';\n",
              "          await google.colab.output.renderOutput(dataTable, element);\n",
              "          const docLink = document.createElement('div');\n",
              "          docLink.innerHTML = docLinkHtml;\n",
              "          element.appendChild(docLink);\n",
              "        }\n",
              "      </script>\n",
              "    </div>\n",
              "  </div>\n",
              "  "
            ],
            "text/plain": [
              "   feature  importance\n",
              "0    lag_1    0.009412\n",
              "1    lag_2    0.087268\n",
              "2    lag_3    0.012754\n",
              "3    lag_4    0.001446\n",
              "4    lag_5    0.000401\n",
              "5    lag_6    0.001386\n",
              "6    lag_7    0.001273\n",
              "7    lag_8    0.006926\n",
              "8    lag_9    0.005839\n",
              "9   lag_10    0.013076\n",
              "10  lag_11    0.008868\n",
              "11  lag_12    0.816041\n",
              "12  lag_13    0.001266\n",
              "13  lag_14    0.019411\n",
              "14  lag_15    0.008746\n",
              "15  lag_16    0.001766\n",
              "16  lag_17    0.000578\n",
              "17  lag_18    0.000329\n",
              "18  lag_19    0.000853\n",
              "19  lag_20    0.002359"
            ]
          },
          "metadata": {},
          "execution_count": 24
        }
      ]
    },
    {
      "cell_type": "markdown",
      "source": [
        "### Recursive autoregressive forecasting with exogenous variables"
      ],
      "metadata": {
        "id": "un_G57sfdRxg"
      }
    },
    {
      "cell_type": "markdown",
      "source": [
        "In the previous example, only lags of the predicted variable itself have been used as predictors. In certain scenarios, it is possible to have information about other variables, whose future value is known, so could serve as additional predictors in the model.\n",
        "\n",
        "Continuing with the previous example, a new variable whose behavior is correlated with the modeled time series and it is wanted to incorporate as a predictor is simulated. The same applies to multiple exogenous variables."
      ],
      "metadata": {
        "id": "LnxuowGxdToI"
      }
    },
    {
      "cell_type": "markdown",
      "source": [
        "### Get Data"
      ],
      "metadata": {
        "id": "2jAbKRzDdd8J"
      }
    },
    {
      "cell_type": "code",
      "source": [
        "# Data download\n",
        "# ==============================================================================\n",
        "url = 'https://raw.githubusercontent.com/JoaquinAmatRodrigo/skforecast/master/data/h2o_exog.csv'\n",
        "data = pd.read_csv(url, sep=',')"
      ],
      "metadata": {
        "id": "em5-lScQdgyJ"
      },
      "execution_count": null,
      "outputs": []
    },
    {
      "cell_type": "markdown",
      "source": [
        "### Data Prep"
      ],
      "metadata": {
        "id": "PLoNjGBadl0A"
      }
    },
    {
      "cell_type": "code",
      "source": [
        "# Data preparation\n",
        "# ==============================================================================\n",
        "data = data.rename(columns={'fecha': 'date'})\n",
        "data['date'] = pd.to_datetime(data['date'], format='%Y/%m/%d')\n",
        "data = data.set_index('date')\n",
        "data = data.asfreq('MS')\n",
        "data = data.sort_index()\n",
        "\n",
        "fig, ax = plt.subplots(figsize=(9, 4))\n",
        "data['y'].plot(ax=ax, label='y')\n",
        "data['exog_1'].plot(ax=ax, label='exogenous variable')\n",
        "ax.legend();"
      ],
      "metadata": {
        "colab": {
          "base_uri": "https://localhost:8080/",
          "height": 279
        },
        "id": "Oq8FoIQBdnsL",
        "outputId": "0de6dcd5-34ad-46b9-abef-8b79ad35c5f6"
      },
      "execution_count": null,
      "outputs": [
        {
          "output_type": "display_data",
          "data": {
            "image/png": "[encoded data removed]",
            "text/plain": [
              "<Figure size 648x288 with 1 Axes>"
            ]
          },
          "metadata": {
            "needs_background": "light"
          }
        }
      ]
    },
    {
      "cell_type": "code",
      "source": [
        "# Split data into train-test\n",
        "# ==============================================================================\n",
        "steps = 36\n",
        "data_train = data[:-steps]\n",
        "data_test  = data[-steps:]"
      ],
      "metadata": {
        "id": "uZACpPRXdx56"
      },
      "execution_count": null,
      "outputs": []
    },
    {
      "cell_type": "markdown",
      "source": [
        "### ForecasterAutoreg"
      ],
      "metadata": {
        "id": "S5bC5FuEeODM"
      }
    },
    {
      "cell_type": "code",
      "source": [
        "# Create and train forecaster\n",
        "# ==============================================================================\n",
        "forecaster = ForecasterAutoreg(\n",
        "                regressor = RandomForestRegressor(random_state=123),\n",
        "                lags      = 8\n",
        "             )\n",
        "\n",
        "forecaster.fit(y=data_train['y'], exog=data_train['exog_1'])"
      ],
      "metadata": {
        "id": "6L_1Tu8ueRjP"
      },
      "execution_count": null,
      "outputs": []
    },
    {
      "cell_type": "markdown",
      "source": [
        "### Predictions"
      ],
      "metadata": {
        "id": "oZcYVUa4ebXI"
      }
    },
    {
      "cell_type": "markdown",
      "source": [
        "If the ForecasterAutoreg is trained with an exogenous variable, the value of this variable must be passed to predict(). It is only applicable to scenarios in which future information on the exogenous variable is available."
      ],
      "metadata": {
        "id": "dcgLaGT1eog_"
      }
    },
    {
      "cell_type": "code",
      "source": [
        "# Predictions\n",
        "# ==============================================================================\n",
        "predictions = forecaster.predict(steps=steps, exog=data_test['exog_1'])"
      ],
      "metadata": {
        "id": "dVkUXlhLeplC"
      },
      "execution_count": null,
      "outputs": []
    },
    {
      "cell_type": "code",
      "source": [
        "# Plot\n",
        "# ==============================================================================\n",
        "fig, ax=plt.subplots(figsize=(9, 4))\n",
        "data_train['y'].plot(ax=ax, label='train')\n",
        "data_test['y'].plot(ax=ax, label='test')\n",
        "predictions.plot(ax=ax, label='predictions')\n",
        "ax.legend();"
      ],
      "metadata": {
        "colab": {
          "base_uri": "https://localhost:8080/",
          "height": 279
        },
        "id": "tJW_iUjle4Lw",
        "outputId": "bb958485-42b6-4acb-f154-636a79c45d28"
      },
      "execution_count": null,
      "outputs": [
        {
          "output_type": "display_data",
          "data": {
            "image/png": "[encoded data removed]",
            "text/plain": [
              "<Figure size 648x288 with 1 Axes>"
            ]
          },
          "metadata": {
            "needs_background": "light"
          }
        }
      ]
    },
    {
      "cell_type": "markdown",
      "source": [
        "### Prediction error in the test set"
      ],
      "metadata": {
        "id": "D5CVzc5Ge-n9"
      }
    },
    {
      "cell_type": "code",
      "source": [
        "# Error\n",
        "# ==============================================================================\n",
        "error_mse = mean_squared_error(\n",
        "                y_true = data_test['y'],\n",
        "                y_pred = predictions\n",
        "            )\n",
        "print(f\"Test error (mse): {error_mse}\")"
      ],
      "metadata": {
        "colab": {
          "base_uri": "https://localhost:8080/"
        },
        "id": "YEs0tiz_fTU0",
        "outputId": "ee68e8ec-d8b2-40e0-da11-4f8538600cda"
      },
      "execution_count": null,
      "outputs": [
        {
          "output_type": "stream",
          "name": "stdout",
          "text": [
            "Test error (mse): 0.03989087922533575\n"
          ]
        }
      ]
    },
    {
      "cell_type": "markdown",
      "source": [
        "### Hyperparameter tuning"
      ],
      "metadata": {
        "id": "zgZRQVfufZQ5"
      }
    },
    {
      "cell_type": "code",
      "source": [
        "# Hyperparameter Grid search\n",
        "# ==============================================================================\n",
        "forecaster = ForecasterAutoreg(\n",
        "                regressor = RandomForestRegressor(random_state=123),\n",
        "                lags      = 12 # This value will be replaced in the grid search\n",
        "             )\n",
        "\n",
        "param_grid = {'n_estimators': [50, 100, 500],\n",
        "              'max_depth': [3, 5, 10]}\n",
        "\n",
        "lags_grid = [5, 12, 20]\n",
        "\n",
        "results_grid = grid_search_forecaster(\n",
        "                        forecaster  = forecaster,\n",
        "                        y           = data_train['y'],\n",
        "                        exog        = data_train['exog_1'],\n",
        "                        param_grid  = param_grid,\n",
        "                        lags_grid   = lags_grid,\n",
        "                        steps       = 10,\n",
        "                        refit       = True,\n",
        "                        metric      = 'mean_squared_error',\n",
        "                        initial_train_size = int(len(data_train)*0.5),\n",
        "                        return_best = True,\n",
        "                        verbose     = False\n",
        "                    )"
      ],
      "metadata": {
        "colab": {
          "base_uri": "https://localhost:8080/"
        },
        "id": "aJ_vwdXHfeVB",
        "outputId": "2ec59e6d-3616-484b-fae0-ab2f2032ecc8"
      },
      "execution_count": null,
      "outputs": [
        {
          "output_type": "stream",
          "name": "stdout",
          "text": [
            "Number of models compared: 27\n"
          ]
        },
        {
          "output_type": "stream",
          "name": "stderr",
          "text": [
            "loop lags_grid:   0%|                                               | 0/3 [00:00<?, ?it/s]\n",
            "loop param_grid:   0%|                                              | 0/9 [00:00<?, ?it/s]\u001b[A\n",
            "loop param_grid:  11%|████▏                                 | 1/9 [00:01<00:08,  1.04s/it]\u001b[A\n",
            "loop param_grid:  22%|████████▍                             | 2/9 [00:02<00:10,  1.56s/it]\u001b[A\n",
            "loop param_grid:  33%|████████████▋                         | 3/9 [00:12<00:30,  5.06s/it]\u001b[A\n",
            "loop param_grid:  44%|████████████████▉                     | 4/9 [00:13<00:17,  3.48s/it]\u001b[A\n",
            "loop param_grid:  56%|█████████████████████                 | 5/9 [00:15<00:11,  2.94s/it]\u001b[A\n",
            "loop param_grid:  67%|█████████████████████████▎            | 6/9 [00:25<00:16,  5.46s/it]\u001b[A\n",
            "loop param_grid:  78%|█████████████████████████████▌        | 7/9 [00:26<00:08,  4.02s/it]\u001b[A\n",
            "loop param_grid:  89%|█████████████████████████████████▊    | 8/9 [00:28<00:03,  3.37s/it]\u001b[A\n",
            "loop param_grid: 100%|██████████████████████████████████████| 9/9 [00:38<00:00,  5.43s/it]\u001b[A\n",
            "loop lags_grid:  33%|█████████████                          | 1/3 [00:38<01:17, 38.61s/it]\n",
            "loop param_grid:   0%|                                              | 0/9 [00:00<?, ?it/s]\u001b[A\n",
            "loop param_grid:  11%|████▏                                 | 1/9 [00:00<00:07,  1.00it/s]\u001b[A\n",
            "loop param_grid:  22%|████████▍                             | 2/9 [00:02<00:10,  1.55s/it]\u001b[A\n",
            "loop param_grid:  33%|████████████▋                         | 3/9 [00:12<00:30,  5.02s/it]\u001b[A\n",
            "loop param_grid:  44%|████████████████▉                     | 4/9 [00:13<00:17,  3.46s/it]\u001b[A\n",
            "loop param_grid:  56%|█████████████████████                 | 5/9 [00:15<00:11,  2.93s/it]\u001b[A\n",
            "loop param_grid:  67%|█████████████████████████▎            | 6/9 [00:25<00:16,  5.37s/it]\u001b[A\n",
            "loop param_grid:  78%|█████████████████████████████▌        | 7/9 [00:26<00:07,  3.97s/it]\u001b[A\n",
            "loop param_grid:  89%|█████████████████████████████████▊    | 8/9 [00:28<00:03,  3.35s/it]\u001b[A\n",
            "loop param_grid: 100%|██████████████████████████████████████| 9/9 [00:38<00:00,  5.58s/it]\u001b[A\n",
            "loop lags_grid:  67%|██████████████████████████             | 2/3 [01:17<00:38, 38.77s/it]\n",
            "loop param_grid:   0%|                                              | 0/9 [00:00<?, ?it/s]\u001b[A\n",
            "loop param_grid:  11%|████▏                                 | 1/9 [00:01<00:08,  1.05s/it]\u001b[A\n",
            "loop param_grid:  22%|████████▍                             | 2/9 [00:03<00:11,  1.61s/it]\u001b[A\n",
            "loop param_grid:  33%|████████████▋                         | 3/9 [00:12<00:32,  5.37s/it]\u001b[A\n",
            "loop param_grid:  44%|████████████████▉                     | 4/9 [00:14<00:18,  3.70s/it]\u001b[A\n",
            "loop param_grid:  56%|█████████████████████                 | 5/9 [00:16<00:12,  3.11s/it]\u001b[A\n",
            "loop param_grid:  67%|█████████████████████████▎            | 6/9 [00:26<00:16,  5.46s/it]\u001b[A\n",
            "loop param_grid:  78%|█████████████████████████████▌        | 7/9 [00:27<00:08,  4.04s/it]\u001b[A\n",
            "loop param_grid:  89%|█████████████████████████████████▊    | 8/9 [00:29<00:03,  3.44s/it]\u001b[A\n",
            "loop param_grid: 100%|██████████████████████████████████████| 9/9 [00:40<00:00,  5.79s/it]\u001b[A\n",
            "loop lags_grid: 100%|███████████████████████████████████████| 3/3 [01:57<00:00, 39.30s/it]"
          ]
        },
        {
          "output_type": "stream",
          "name": "stdout",
          "text": [
            "`Forecaster` refitted using the best-found lags and parameters, and the whole data set: \n",
            "  Lags: [ 1  2  3  4  5  6  7  8  9 10 11 12] \n",
            "  Parameters: {'max_depth': 3, 'n_estimators': 50}\n",
            "  Backtesting metric: 0.007814854588045633\n",
            "\n"
          ]
        },
        {
          "output_type": "stream",
          "name": "stderr",
          "text": [
            "\n"
          ]
        }
      ]
    },
    {
      "cell_type": "code",
      "source": [
        "# Grid Search results\n",
        "# ==============================================================================\n",
        "results_grid.head()"
      ],
      "metadata": {
        "colab": {
          "base_uri": "https://localhost:8080/",
          "height": 206
        },
        "id": "Uo6G7zhLfjA8",
        "outputId": "f290aeee-4d89-410e-ca8a-e7a4cc07dffe"
      },
      "execution_count": null,
      "outputs": [
        {
          "output_type": "execute_result",
          "data": {
            "text/html": [
              "\n",
              "  <div id=\"df-5d4285b6-f624-4193-b9bb-dc1be0ad1365\">\n",
              "    <div class=\"colab-df-container\">\n",
              "      <div>\n",
              "<style scoped>\n",
              "    .dataframe tbody tr th:only-of-type {\n",
              "        vertical-align: middle;\n",
              "    }\n",
              "\n",
              "    .dataframe tbody tr th {\n",
              "        vertical-align: top;\n",
              "    }\n",
              "\n",
              "    .dataframe thead th {\n",
              "        text-align: right;\n",
              "    }\n",
              "</style>\n",
              "<table border=\"1\" class=\"dataframe\">\n",
              "  <thead>\n",
              "    <tr style=\"text-align: right;\">\n",
              "      <th></th>\n",
              "      <th>lags</th>\n",
              "      <th>params</th>\n",
              "      <th>metric</th>\n",
              "      <th>max_depth</th>\n",
              "      <th>n_estimators</th>\n",
              "    </tr>\n",
              "  </thead>\n",
              "  <tbody>\n",
              "    <tr>\n",
              "      <th>9</th>\n",
              "      <td>[1, 2, 3, 4, 5, 6, 7, 8, 9, 10, 11, 12]</td>\n",
              "      <td>{'max_depth': 3, 'n_estimators': 50}</td>\n",
              "      <td>0.007815</td>\n",
              "      <td>3</td>\n",
              "      <td>50</td>\n",
              "    </tr>\n",
              "    <tr>\n",
              "      <th>12</th>\n",
              "      <td>[1, 2, 3, 4, 5, 6, 7, 8, 9, 10, 11, 12]</td>\n",
              "      <td>{'max_depth': 5, 'n_estimators': 50}</td>\n",
              "      <td>0.007940</td>\n",
              "      <td>5</td>\n",
              "      <td>50</td>\n",
              "    </tr>\n",
              "    <tr>\n",
              "      <th>20</th>\n",
              "      <td>[1, 2, 3, 4, 5, 6, 7, 8, 9, 10, 11, 12, 13, 14...</td>\n",
              "      <td>{'max_depth': 3, 'n_estimators': 500}</td>\n",
              "      <td>0.007944</td>\n",
              "      <td>3</td>\n",
              "      <td>500</td>\n",
              "    </tr>\n",
              "    <tr>\n",
              "      <th>19</th>\n",
              "      <td>[1, 2, 3, 4, 5, 6, 7, 8, 9, 10, 11, 12, 13, 14...</td>\n",
              "      <td>{'max_depth': 3, 'n_estimators': 100}</td>\n",
              "      <td>0.008057</td>\n",
              "      <td>3</td>\n",
              "      <td>100</td>\n",
              "    </tr>\n",
              "    <tr>\n",
              "      <th>25</th>\n",
              "      <td>[1, 2, 3, 4, 5, 6, 7, 8, 9, 10, 11, 12, 13, 14...</td>\n",
              "      <td>{'max_depth': 10, 'n_estimators': 100}</td>\n",
              "      <td>0.008106</td>\n",
              "      <td>10</td>\n",
              "      <td>100</td>\n",
              "    </tr>\n",
              "  </tbody>\n",
              "</table>\n",
              "</div>\n",
              "      <button class=\"colab-df-convert\" onclick=\"convertToInteractive('df-5d4285b6-f624-4193-b9bb-dc1be0ad1365')\"\n",
              "              title=\"Convert this dataframe to an interactive table.\"\n",
              "              style=\"display:none;\">\n",
              "        \n",
              "  <svg xmlns=\"http://www.w3.org/2000/svg\" height=\"24px\"viewBox=\"0 0 24 24\"\n",
              "       width=\"24px\">\n",
              "    <path d=\"M0 0h24v24H0V0z\" fill=\"none\"/>\n",
              "    <path d=\"M18.56 5.44l.94 2.06.94-2.06 2.06-.94-2.06-.94-.94-2.06-.94 2.06-2.06.94zm-11 1L8.5 8.5l.94-2.06 2.06-.94-2.06-.94L8.5 2.5l-.94 2.06-2.06.94zm10 10l.94 2.06.94-2.06 2.06-.94-2.06-.94-.94-2.06-.94 2.06-2.06.94z\"/><path d=\"M17.41 7.96l-1.37-1.37c-.4-.4-.92-.59-1.43-.59-.52 0-1.04.2-1.43.59L10.3 9.45l-7.72 7.72c-.78.78-.78 2.05 0 2.83L4 21.41c.39.39.9.59 1.41.59.51 0 1.02-.2 1.41-.59l7.78-7.78 2.81-2.81c.8-.78.8-2.07 0-2.86zM5.41 20L4 18.59l7.72-7.72 1.47 1.35L5.41 20z\"/>\n",
              "  </svg>\n",
              "      </button>\n",
              "      \n",
              "  <style>\n",
              "    .colab-df-container {\n",
              "      display:flex;\n",
              "      flex-wrap:wrap;\n",
              "      gap: 12px;\n",
              "    }\n",
              "\n",
              "    .colab-df-convert {\n",
              "      background-color: #E8F0FE;\n",
              "      border: none;\n",
              "      border-radius: 50%;\n",
              "      cursor: pointer;\n",
              "      display: none;\n",
              "      fill: #1967D2;\n",
              "      height: 32px;\n",
              "      padding: 0 0 0 0;\n",
              "      width: 32px;\n",
              "    }\n",
              "\n",
              "    .colab-df-convert:hover {\n",
              "      background-color: #E2EBFA;\n",
              "      box-shadow: 0px 1px 2px rgba(60, 64, 67, 0.3), 0px 1px 3px 1px rgba(60, 64, 67, 0.15);\n",
              "      fill: #174EA6;\n",
              "    }\n",
              "\n",
              "    [theme=dark] .colab-df-convert {\n",
              "      background-color: #3B4455;\n",
              "      fill: #D2E3FC;\n",
              "    }\n",
              "\n",
              "    [theme=dark] .colab-df-convert:hover {\n",
              "      background-color: #434B5C;\n",
              "      box-shadow: 0px 1px 3px 1px rgba(0, 0, 0, 0.15);\n",
              "      filter: drop-shadow(0px 1px 2px rgba(0, 0, 0, 0.3));\n",
              "      fill: #FFFFFF;\n",
              "    }\n",
              "  </style>\n",
              "\n",
              "      <script>\n",
              "        const buttonEl =\n",
              "          document.querySelector('#df-5d4285b6-f624-4193-b9bb-dc1be0ad1365 button.colab-df-convert');\n",
              "        buttonEl.style.display =\n",
              "          google.colab.kernel.accessAllowed ? 'block' : 'none';\n",
              "\n",
              "        async function convertToInteractive(key) {\n",
              "          const element = document.querySelector('#df-5d4285b6-f624-4193-b9bb-dc1be0ad1365');\n",
              "          const dataTable =\n",
              "            await google.colab.kernel.invokeFunction('convertToInteractive',\n",
              "                                                     [key], {});\n",
              "          if (!dataTable) return;\n",
              "\n",
              "          const docLinkHtml = 'Like what you see? Visit the ' +\n",
              "            '<a target=\"_blank\" href=https://colab.research.google.com/notebooks/data_table.ipynb>data table notebook</a>'\n",
              "            + ' to learn more about interactive tables.';\n",
              "          element.innerHTML = '';\n",
              "          dataTable['output_type'] = 'display_data';\n",
              "          await google.colab.output.renderOutput(dataTable, element);\n",
              "          const docLink = document.createElement('div');\n",
              "          docLink.innerHTML = docLinkHtml;\n",
              "          element.appendChild(docLink);\n",
              "        }\n",
              "      </script>\n",
              "    </div>\n",
              "  </div>\n",
              "  "
            ],
            "text/plain": [
              "                                                 lags  ... n_estimators\n",
              "9             [1, 2, 3, 4, 5, 6, 7, 8, 9, 10, 11, 12]  ...           50\n",
              "12            [1, 2, 3, 4, 5, 6, 7, 8, 9, 10, 11, 12]  ...           50\n",
              "20  [1, 2, 3, 4, 5, 6, 7, 8, 9, 10, 11, 12, 13, 14...  ...          500\n",
              "19  [1, 2, 3, 4, 5, 6, 7, 8, 9, 10, 11, 12, 13, 14...  ...          100\n",
              "25  [1, 2, 3, 4, 5, 6, 7, 8, 9, 10, 11, 12, 13, 14...  ...          100\n",
              "\n",
              "[5 rows x 5 columns]"
            ]
          },
          "metadata": {},
          "execution_count": 33
        }
      ]
    },
    {
      "cell_type": "markdown",
      "source": [
        "The best results are obtained using a time window of 12 lags and a Random Forest set up of {'max_depth': 3, 'n_estimators': 50}."
      ],
      "metadata": {
        "id": "UTHI5Vi9fqgC"
      }
    },
    {
      "cell_type": "markdown",
      "source": [
        "### Final model"
      ],
      "metadata": {
        "id": "5sEhB6Bhftr_"
      }
    },
    {
      "cell_type": "markdown",
      "source": [
        "Setting return_best = True in grid_search_forecaster(), after the search, the ForecasterAutoreg object has been modified and trained with the best configuration found."
      ],
      "metadata": {
        "id": "1-GVO4yRfw0E"
      }
    },
    {
      "cell_type": "code",
      "source": [
        "# Predictions\n",
        "# ==============================================================================\n",
        "predictions = forecaster.predict(steps=steps, exog=data_test['exog_1'])\n",
        "\n",
        "# Plot\n",
        "# ==============================================================================\n",
        "fig, ax=plt.subplots(figsize=(9, 4))\n",
        "data_train['y'].plot(ax=ax, label='train')\n",
        "data_test['y'].plot(ax=ax, label='test')\n",
        "predictions.plot(ax=ax, label='predictions')\n",
        "ax.legend();"
      ],
      "metadata": {
        "colab": {
          "base_uri": "https://localhost:8080/",
          "height": 279
        },
        "id": "gqdAG5Xlfz-9",
        "outputId": "91f68cb2-97f8-4736-c725-4e6cf3975f0b"
      },
      "execution_count": null,
      "outputs": [
        {
          "output_type": "display_data",
          "data": {
            "image/png": "[encoded data removed]",
            "text/plain": [
              "<Figure size 648x288 with 1 Axes>"
            ]
          },
          "metadata": {
            "needs_background": "light"
          }
        }
      ]
    },
    {
      "cell_type": "code",
      "source": [
        "# Error\n",
        "# ==============================================================================\n",
        "error_mse = mean_squared_error(y_true = data_test['y'], y_pred = predictions)\n",
        "print(f\"Test error (mse) {error_mse}\")"
      ],
      "metadata": {
        "colab": {
          "base_uri": "https://localhost:8080/"
        },
        "id": "1Du_HdPRf4Hk",
        "outputId": "58ec5692-6e20-44df-c4ad-41dd98ca82d0"
      },
      "execution_count": null,
      "outputs": [
        {
          "output_type": "stream",
          "name": "stdout",
          "text": [
            "Test error (mse) 0.003965444559763559\n"
          ]
        }
      ]
    },
    {
      "cell_type": "markdown",
      "source": [
        "### Recursive autoregressive forecasting with custom predictors"
      ],
      "metadata": {
        "id": "Bibupm-2-7g0"
      }
    },
    {
      "cell_type": "markdown",
      "source": [
        "In addition to the lags, it may be interesting to incorporate other characteristics of the time series in some scenarios. For example, the moving average of the last n values could be used to capture the series's trend.\n",
        "\n",
        "The ForecasterAutoregCustom class behaves very similar to the ForecasterAutoreg class seen in the previous sections, but with the difference that it is the user who defines the function used to create the predictors.\n",
        "\n",
        "The first example of the document about predicting the last 36 months of the time series is repeated. In this case, the predictors are the first 10 lags and the values' moving average of the lasts 20 months."
      ],
      "metadata": {
        "id": "zLChnHT3--8f"
      }
    },
    {
      "cell_type": "markdown",
      "source": [
        "### Get Data:"
      ],
      "metadata": {
        "id": "ca37Yy2F_MzI"
      }
    },
    {
      "cell_type": "code",
      "source": [
        "# Data download\n",
        "# ==============================================================================\n",
        "url = 'https://raw.githubusercontent.com/JoaquinAmatRodrigo/skforecast/master/data/h2o_exog.csv'\n",
        "data = pd.read_csv(url, sep=',')"
      ],
      "metadata": {
        "id": "kvNYMCRR_TF_"
      },
      "execution_count": null,
      "outputs": []
    },
    {
      "cell_type": "markdown",
      "source": [
        "### Prep Data:"
      ],
      "metadata": {
        "id": "9gHPlIu5_U4q"
      }
    },
    {
      "cell_type": "code",
      "source": [
        "# Data preparation\n",
        "# ==============================================================================\n",
        "data = data.rename(columns={'fecha': 'date'})\n",
        "data['date'] = pd.to_datetime(data['date'], format='%Y/%m/%d')\n",
        "data = data.set_index('date')\n",
        "data = data.rename(columns={'x': 'y'})\n",
        "data = data.asfreq('MS')\n",
        "data = data.sort_index()"
      ],
      "metadata": {
        "id": "yrTubl9A_aMW"
      },
      "execution_count": null,
      "outputs": []
    },
    {
      "cell_type": "markdown",
      "source": [
        "### Data Split"
      ],
      "metadata": {
        "id": "uOUwFzPQ_d-A"
      }
    },
    {
      "cell_type": "code",
      "source": [
        "# Split data into train-test\n",
        "# ==============================================================================\n",
        "steps = 36\n",
        "data_train = data[:-steps]\n",
        "data_test  = data[-steps:]"
      ],
      "metadata": {
        "id": "DxPxtNhd_iaF"
      },
      "execution_count": null,
      "outputs": []
    },
    {
      "cell_type": "markdown",
      "source": [
        "### ForecasterAutoregCustom"
      ],
      "metadata": {
        "id": "9D6IfjJV_mPB"
      }
    },
    {
      "cell_type": "markdown",
      "source": [
        "A ForecasterAutoregCustom is created and trained from a RandomForestRegressor regressor. The create_predictor() function, which calculates the first 10 lags and the moving average of the last 20 values, is used to create the predictors."
      ],
      "metadata": {
        "id": "9G-nxEu6_n8N"
      }
    },
    {
      "cell_type": "code",
      "source": [
        "# Function to calculate predictors from time series\n",
        "# ==============================================================================\n",
        "def custom_predictors(y):\n",
        "    '''\n",
        "    Create first 10 lags of a time series.\n",
        "    Calculate moving average with window 20.\n",
        "    '''\n",
        "    \n",
        "    lags = y[-1:-11:-1]\n",
        "    mean = np.mean(y[-20:])\n",
        "    predictors = np.hstack([lags, mean])\n",
        "    \n",
        "    return predictors"
      ],
      "metadata": {
        "id": "mSOSuMA3_tdK"
      },
      "execution_count": null,
      "outputs": []
    },
    {
      "cell_type": "markdown",
      "source": [
        "When creating the forecaster, the window_size argument must be equal to or greater than the window used by the function that creates the predictors. This value, in this case, is 20."
      ],
      "metadata": {
        "id": "T57OXblM_540"
      }
    },
    {
      "cell_type": "code",
      "source": [
        "# Create and train forecaster\n",
        "# ==============================================================================\n",
        "forecaster = ForecasterAutoregCustom(\n",
        "                regressor      = RandomForestRegressor(random_state=123),\n",
        "                fun_predictors = custom_predictors,\n",
        "                window_size    = 20\n",
        "             )\n",
        "\n",
        "forecaster.fit(y=data_train['y'])\n",
        "forecaster"
      ],
      "metadata": {
        "colab": {
          "base_uri": "https://localhost:8080/"
        },
        "id": "1AZUBGAe__Qa",
        "outputId": "b351b410-251e-440e-d75c-b0c6be4a1b09"
      },
      "execution_count": null,
      "outputs": [
        {
          "output_type": "execute_result",
          "data": {
            "text/plain": [
              "======================= \n",
              "ForecasterAutoregCustom \n",
              "======================= \n",
              "Regressor: RandomForestRegressor(random_state=123) \n",
              "Predictors created with function: custom_predictors \n",
              "Window size: 20 \n",
              "Included exogenous: False \n",
              "Type of exogenous variable: None \n",
              "Exogenous variables names: None \n",
              "Training range: [Timestamp('1992-04-01 00:00:00'), Timestamp('2005-06-01 00:00:00')] \n",
              "Training index type: DatetimeIndex \n",
              "Training index frequency: MS \n",
              "Regressor parameters: {'bootstrap': True, 'ccp_alpha': 0.0, 'criterion': 'squared_error', 'max_depth': None, 'max_features': 'auto', 'max_leaf_nodes': None, 'max_samples': None, 'min_impurity_decrease': 0.0, 'min_samples_leaf': 1, 'min_samples_split': 2, 'min_weight_fraction_leaf': 0.0, 'n_estimators': 100, 'n_jobs': None, 'oob_score': False, 'random_state': 123, 'verbose': 0, 'warm_start': False} \n",
              "Creation date: 2022-02-20 17:53:28 \n",
              "Last fit date: 2022-02-20 17:53:28 \n",
              "Skforecast version: 0.4.3.dev2 "
            ]
          },
          "metadata": {},
          "execution_count": 40
        }
      ]
    },
    {
      "cell_type": "markdown",
      "source": [
        "It is possible to access the custom function used to create the predictors."
      ],
      "metadata": {
        "id": "pVp3zeaGAfT2"
      }
    },
    {
      "cell_type": "code",
      "source": [
        "print(forecaster.source_code_create_predictors)"
      ],
      "metadata": {
        "colab": {
          "base_uri": "https://localhost:8080/"
        },
        "id": "iZawcgzfAf4f",
        "outputId": "42f7b4ec-53ac-4417-f293-8e823550e702"
      },
      "execution_count": null,
      "outputs": [
        {
          "output_type": "stream",
          "name": "stdout",
          "text": [
            "def custom_predictors(y):\n",
            "    '''\n",
            "    Create first 10 lags of a time series.\n",
            "    Calculate moving average with window 20.\n",
            "    '''\n",
            "    \n",
            "    lags = y[-1:-11:-1]\n",
            "    mean = np.mean(y[-20:])\n",
            "    predictors = np.hstack([lags, mean])\n",
            "    \n",
            "    return predictors\n",
            "\n"
          ]
        }
      ]
    },
    {
      "cell_type": "markdown",
      "source": [
        "Using the method create_train_X_y, is it posible to acces the matrices that are created internally in the training process."
      ],
      "metadata": {
        "id": "3HSbL-YeApTV"
      }
    },
    {
      "cell_type": "code",
      "source": [
        "X, y = forecaster.create_train_X_y(y=data_train['y'])\n",
        "X.head(4)"
      ],
      "metadata": {
        "colab": {
          "base_uri": "https://localhost:8080/",
          "height": 340
        },
        "id": "JSPIouRfAp8s",
        "outputId": "f941b09c-9ec9-491a-8df3-f82d693a637d"
      },
      "execution_count": null,
      "outputs": [
        {
          "output_type": "execute_result",
          "data": {
            "text/html": [
              "\n",
              "  <div id=\"df-9308b780-3279-4af7-bb04-244a07820f67\">\n",
              "    <div class=\"colab-df-container\">\n",
              "      <div>\n",
              "<style scoped>\n",
              "    .dataframe tbody tr th:only-of-type {\n",
              "        vertical-align: middle;\n",
              "    }\n",
              "\n",
              "    .dataframe tbody tr th {\n",
              "        vertical-align: top;\n",
              "    }\n",
              "\n",
              "    .dataframe thead th {\n",
              "        text-align: right;\n",
              "    }\n",
              "</style>\n",
              "<table border=\"1\" class=\"dataframe\">\n",
              "  <thead>\n",
              "    <tr style=\"text-align: right;\">\n",
              "      <th></th>\n",
              "      <th>custom_predictor_0</th>\n",
              "      <th>custom_predictor_1</th>\n",
              "      <th>custom_predictor_2</th>\n",
              "      <th>custom_predictor_3</th>\n",
              "      <th>custom_predictor_4</th>\n",
              "      <th>custom_predictor_5</th>\n",
              "      <th>custom_predictor_6</th>\n",
              "      <th>custom_predictor_7</th>\n",
              "      <th>custom_predictor_8</th>\n",
              "      <th>custom_predictor_9</th>\n",
              "      <th>custom_predictor_10</th>\n",
              "    </tr>\n",
              "    <tr>\n",
              "      <th>date</th>\n",
              "      <th></th>\n",
              "      <th></th>\n",
              "      <th></th>\n",
              "      <th></th>\n",
              "      <th></th>\n",
              "      <th></th>\n",
              "      <th></th>\n",
              "      <th></th>\n",
              "      <th></th>\n",
              "      <th></th>\n",
              "      <th></th>\n",
              "    </tr>\n",
              "  </thead>\n",
              "  <tbody>\n",
              "    <tr>\n",
              "      <th>1993-12-01</th>\n",
              "      <td>0.699605</td>\n",
              "      <td>0.632947</td>\n",
              "      <td>0.601514</td>\n",
              "      <td>0.558443</td>\n",
              "      <td>0.509210</td>\n",
              "      <td>0.470126</td>\n",
              "      <td>0.428859</td>\n",
              "      <td>0.413890</td>\n",
              "      <td>0.427283</td>\n",
              "      <td>0.387554</td>\n",
              "      <td>0.523089</td>\n",
              "    </tr>\n",
              "    <tr>\n",
              "      <th>1994-01-01</th>\n",
              "      <td>0.963081</td>\n",
              "      <td>0.699605</td>\n",
              "      <td>0.632947</td>\n",
              "      <td>0.601514</td>\n",
              "      <td>0.558443</td>\n",
              "      <td>0.509210</td>\n",
              "      <td>0.470126</td>\n",
              "      <td>0.428859</td>\n",
              "      <td>0.413890</td>\n",
              "      <td>0.427283</td>\n",
              "      <td>0.552253</td>\n",
              "    </tr>\n",
              "    <tr>\n",
              "      <th>1994-02-01</th>\n",
              "      <td>0.819325</td>\n",
              "      <td>0.963081</td>\n",
              "      <td>0.699605</td>\n",
              "      <td>0.632947</td>\n",
              "      <td>0.601514</td>\n",
              "      <td>0.558443</td>\n",
              "      <td>0.509210</td>\n",
              "      <td>0.470126</td>\n",
              "      <td>0.428859</td>\n",
              "      <td>0.413890</td>\n",
              "      <td>0.575129</td>\n",
              "    </tr>\n",
              "    <tr>\n",
              "      <th>1994-03-01</th>\n",
              "      <td>0.437670</td>\n",
              "      <td>0.819325</td>\n",
              "      <td>0.963081</td>\n",
              "      <td>0.699605</td>\n",
              "      <td>0.632947</td>\n",
              "      <td>0.601514</td>\n",
              "      <td>0.558443</td>\n",
              "      <td>0.509210</td>\n",
              "      <td>0.470126</td>\n",
              "      <td>0.428859</td>\n",
              "      <td>0.576486</td>\n",
              "    </tr>\n",
              "  </tbody>\n",
              "</table>\n",
              "</div>\n",
              "      <button class=\"colab-df-convert\" onclick=\"convertToInteractive('df-9308b780-3279-4af7-bb04-244a07820f67')\"\n",
              "              title=\"Convert this dataframe to an interactive table.\"\n",
              "              style=\"display:none;\">\n",
              "        \n",
              "  <svg xmlns=\"http://www.w3.org/2000/svg\" height=\"24px\"viewBox=\"0 0 24 24\"\n",
              "       width=\"24px\">\n",
              "    <path d=\"M0 0h24v24H0V0z\" fill=\"none\"/>\n",
              "    <path d=\"M18.56 5.44l.94 2.06.94-2.06 2.06-.94-2.06-.94-.94-2.06-.94 2.06-2.06.94zm-11 1L8.5 8.5l.94-2.06 2.06-.94-2.06-.94L8.5 2.5l-.94 2.06-2.06.94zm10 10l.94 2.06.94-2.06 2.06-.94-2.06-.94-.94-2.06-.94 2.06-2.06.94z\"/><path d=\"M17.41 7.96l-1.37-1.37c-.4-.4-.92-.59-1.43-.59-.52 0-1.04.2-1.43.59L10.3 9.45l-7.72 7.72c-.78.78-.78 2.05 0 2.83L4 21.41c.39.39.9.59 1.41.59.51 0 1.02-.2 1.41-.59l7.78-7.78 2.81-2.81c.8-.78.8-2.07 0-2.86zM5.41 20L4 18.59l7.72-7.72 1.47 1.35L5.41 20z\"/>\n",
              "  </svg>\n",
              "      </button>\n",
              "      \n",
              "  <style>\n",
              "    .colab-df-container {\n",
              "      display:flex;\n",
              "      flex-wrap:wrap;\n",
              "      gap: 12px;\n",
              "    }\n",
              "\n",
              "    .colab-df-convert {\n",
              "      background-color: #E8F0FE;\n",
              "      border: none;\n",
              "      border-radius: 50%;\n",
              "      cursor: pointer;\n",
              "      display: none;\n",
              "      fill: #1967D2;\n",
              "      height: 32px;\n",
              "      padding: 0 0 0 0;\n",
              "      width: 32px;\n",
              "    }\n",
              "\n",
              "    .colab-df-convert:hover {\n",
              "      background-color: #E2EBFA;\n",
              "      box-shadow: 0px 1px 2px rgba(60, 64, 67, 0.3), 0px 1px 3px 1px rgba(60, 64, 67, 0.15);\n",
              "      fill: #174EA6;\n",
              "    }\n",
              "\n",
              "    [theme=dark] .colab-df-convert {\n",
              "      background-color: #3B4455;\n",
              "      fill: #D2E3FC;\n",
              "    }\n",
              "\n",
              "    [theme=dark] .colab-df-convert:hover {\n",
              "      background-color: #434B5C;\n",
              "      box-shadow: 0px 1px 3px 1px rgba(0, 0, 0, 0.15);\n",
              "      filter: drop-shadow(0px 1px 2px rgba(0, 0, 0, 0.3));\n",
              "      fill: #FFFFFF;\n",
              "    }\n",
              "  </style>\n",
              "\n",
              "      <script>\n",
              "        const buttonEl =\n",
              "          document.querySelector('#df-9308b780-3279-4af7-bb04-244a07820f67 button.colab-df-convert');\n",
              "        buttonEl.style.display =\n",
              "          google.colab.kernel.accessAllowed ? 'block' : 'none';\n",
              "\n",
              "        async function convertToInteractive(key) {\n",
              "          const element = document.querySelector('#df-9308b780-3279-4af7-bb04-244a07820f67');\n",
              "          const dataTable =\n",
              "            await google.colab.kernel.invokeFunction('convertToInteractive',\n",
              "                                                     [key], {});\n",
              "          if (!dataTable) return;\n",
              "\n",
              "          const docLinkHtml = 'Like what you see? Visit the ' +\n",
              "            '<a target=\"_blank\" href=https://colab.research.google.com/notebooks/data_table.ipynb>data table notebook</a>'\n",
              "            + ' to learn more about interactive tables.';\n",
              "          element.innerHTML = '';\n",
              "          dataTable['output_type'] = 'display_data';\n",
              "          await google.colab.output.renderOutput(dataTable, element);\n",
              "          const docLink = document.createElement('div');\n",
              "          docLink.innerHTML = docLinkHtml;\n",
              "          element.appendChild(docLink);\n",
              "        }\n",
              "      </script>\n",
              "    </div>\n",
              "  </div>\n",
              "  "
            ],
            "text/plain": [
              "            custom_predictor_0  ...  custom_predictor_10\n",
              "date                            ...                     \n",
              "1993-12-01            0.699605  ...             0.523089\n",
              "1994-01-01            0.963081  ...             0.552253\n",
              "1994-02-01            0.819325  ...             0.575129\n",
              "1994-03-01            0.437670  ...             0.576486\n",
              "\n",
              "[4 rows x 11 columns]"
            ]
          },
          "metadata": {},
          "execution_count": 42
        }
      ]
    },
    {
      "cell_type": "code",
      "source": [
        "y.head(4)"
      ],
      "metadata": {
        "colab": {
          "base_uri": "https://localhost:8080/"
        },
        "id": "Q2woavuDA1Ya",
        "outputId": "1574bedd-a6d7-4585-d48d-2569f6bd4825"
      },
      "execution_count": null,
      "outputs": [
        {
          "output_type": "execute_result",
          "data": {
            "text/plain": [
              "date\n",
              "1993-12-01    0.963081\n",
              "1994-01-01    0.819325\n",
              "1994-02-01    0.437670\n",
              "1994-03-01    0.506121\n",
              "Freq: MS, Name: y, dtype: float64"
            ]
          },
          "metadata": {},
          "execution_count": 43
        }
      ]
    },
    {
      "cell_type": "markdown",
      "source": [
        "### Predictions"
      ],
      "metadata": {
        "id": "seeoho8QA6HG"
      }
    },
    {
      "cell_type": "code",
      "source": [
        "# Predictions\n",
        "# ==============================================================================\n",
        "steps = 36\n",
        "predictions = forecaster.predict(steps=steps)"
      ],
      "metadata": {
        "id": "WpAxLKuCA7gU"
      },
      "execution_count": null,
      "outputs": []
    },
    {
      "cell_type": "code",
      "source": [
        "# Plot\n",
        "# ==============================================================================\n",
        "fig, ax = plt.subplots(figsize=(9, 4))\n",
        "data_train['y'].plot(ax=ax, label='train')\n",
        "data_test['y'].plot(ax=ax, label='test')\n",
        "predictions.plot(ax=ax, label='predictions')\n",
        "ax.legend();"
      ],
      "metadata": {
        "colab": {
          "base_uri": "https://localhost:8080/",
          "height": 279
        },
        "id": "W4W_7erJBE0W",
        "outputId": "2523b9dd-9937-470a-d1ff-562ffd5dfa27"
      },
      "execution_count": null,
      "outputs": [
        {
          "output_type": "display_data",
          "data": {
            "image/png": "[encoded data removed]",
            "text/plain": [
              "<Figure size 648x288 with 1 Axes>"
            ]
          },
          "metadata": {
            "needs_background": "light"
          }
        }
      ]
    },
    {
      "cell_type": "markdown",
      "source": [
        "### Prediction error in the test set"
      ],
      "metadata": {
        "id": "u_9l7N9WD0vs"
      }
    },
    {
      "cell_type": "code",
      "source": [
        "# Error\n",
        "# ==============================================================================\n",
        "error_mse = mean_squared_error(\n",
        "                y_true = data_test['y'],\n",
        "                y_pred = predictions\n",
        "            )\n",
        "print(f\"Test error (mse): {error_mse}\")"
      ],
      "metadata": {
        "colab": {
          "base_uri": "https://localhost:8080/"
        },
        "id": "VC-EDKZsD4OU",
        "outputId": "4b1caa2a-9d27-4369-8701-8442a33d8936"
      },
      "execution_count": null,
      "outputs": [
        {
          "output_type": "stream",
          "name": "stdout",
          "text": [
            "Test error (mse): 0.046232546768232\n"
          ]
        }
      ]
    },
    {
      "cell_type": "markdown",
      "source": [
        "### Hyperparameter tuning"
      ],
      "metadata": {
        "id": "fiVkUPtKD9c6"
      }
    },
    {
      "cell_type": "markdown",
      "source": [
        "When using the grid_search_forecaster() function with a ForecasterAutoregCustom, thelags_grid argument is not specified."
      ],
      "metadata": {
        "id": "a8Bx3dClEIXF"
      }
    },
    {
      "cell_type": "code",
      "source": [
        "# Hyperparameter Grid search\n",
        "# ==============================================================================\n",
        "forecaster = ForecasterAutoregCustom(\n",
        "                regressor      = RandomForestRegressor(random_state=123),\n",
        "                fun_predictors = custom_predictors,\n",
        "                window_size    = 20\n",
        "             )\n",
        "\n",
        "# Regressor's hyperparameters\n",
        "param_grid = {'n_estimators': [100, 500],\n",
        "              'max_depth': [3, 5, 10]}\n",
        "\n",
        "results_grid = grid_search_forecaster(\n",
        "                        forecaster  = forecaster,\n",
        "                        y           = data_train['y'],\n",
        "                        param_grid  = param_grid,\n",
        "                        steps       = 10,\n",
        "                        refit       = True,\n",
        "                        metric      = 'mean_squared_error',\n",
        "                        initial_train_size = int(len(data_train)*0.5),\n",
        "                        return_best = True,\n",
        "                        verbose     = False\n",
        "                    )"
      ],
      "metadata": {
        "colab": {
          "base_uri": "https://localhost:8080/"
        },
        "id": "RpB_iR1GEKRg",
        "outputId": "4486872b-0038-4f7c-886c-8ba5632a5332"
      },
      "execution_count": null,
      "outputs": [
        {
          "output_type": "stream",
          "name": "stdout",
          "text": [
            "Number of models compared: 6\n"
          ]
        },
        {
          "output_type": "stream",
          "name": "stderr",
          "text": [
            "loop lags_grid:   0%|                                               | 0/1 [00:00<?, ?it/s]\n",
            "loop param_grid:   0%|                                              | 0/6 [00:00<?, ?it/s]\u001b[A\n",
            "loop param_grid:  17%|██████▎                               | 1/6 [00:02<00:10,  2.01s/it]\u001b[A\n",
            "loop param_grid:  33%|████████████▋                         | 2/6 [00:11<00:25,  6.25s/it]\u001b[A\n",
            "loop param_grid:  50%|███████████████████                   | 3/6 [00:13<00:12,  4.31s/it]\u001b[A\n",
            "loop param_grid:  67%|█████████████████████████▎            | 4/6 [00:22<00:12,  6.46s/it]\u001b[A\n",
            "loop param_grid:  83%|███████████████████████████████▋      | 5/6 [00:25<00:04,  4.89s/it]\u001b[A\n",
            "loop param_grid: 100%|██████████████████████████████████████| 6/6 [00:35<00:00,  6.61s/it]\u001b[A\n",
            "loop lags_grid: 100%|███████████████████████████████████████| 1/1 [00:35<00:00, 35.08s/it]\n"
          ]
        },
        {
          "output_type": "stream",
          "name": "stdout",
          "text": [
            "`Forecaster` refitted using the best-found lags and parameters, and the whole data set: \n",
            "  Lags: custom predictors \n",
            "  Parameters: {'max_depth': 10, 'n_estimators': 100}\n",
            "  Backtesting metric: 0.0280647200742407\n",
            "\n"
          ]
        }
      ]
    },
    {
      "cell_type": "code",
      "source": [
        "# Grid Search results\n",
        "# ==============================================================================\n",
        "results_grid\n"
      ],
      "metadata": {
        "colab": {
          "base_uri": "https://localhost:8080/",
          "height": 238
        },
        "id": "NdL_IZb-E4FN",
        "outputId": "9cb191ae-9328-4993-9387-583dbdaa898b"
      },
      "execution_count": null,
      "outputs": [
        {
          "output_type": "execute_result",
          "data": {
            "text/html": [
              "\n",
              "  <div id=\"df-33c5592c-ebd9-4620-9563-8253b044acbf\">\n",
              "    <div class=\"colab-df-container\">\n",
              "      <div>\n",
              "<style scoped>\n",
              "    .dataframe tbody tr th:only-of-type {\n",
              "        vertical-align: middle;\n",
              "    }\n",
              "\n",
              "    .dataframe tbody tr th {\n",
              "        vertical-align: top;\n",
              "    }\n",
              "\n",
              "    .dataframe thead th {\n",
              "        text-align: right;\n",
              "    }\n",
              "</style>\n",
              "<table border=\"1\" class=\"dataframe\">\n",
              "  <thead>\n",
              "    <tr style=\"text-align: right;\">\n",
              "      <th></th>\n",
              "      <th>lags</th>\n",
              "      <th>params</th>\n",
              "      <th>metric</th>\n",
              "      <th>max_depth</th>\n",
              "      <th>n_estimators</th>\n",
              "    </tr>\n",
              "  </thead>\n",
              "  <tbody>\n",
              "    <tr>\n",
              "      <th>4</th>\n",
              "      <td>custom predictors</td>\n",
              "      <td>{'max_depth': 10, 'n_estimators': 100}</td>\n",
              "      <td>0.028065</td>\n",
              "      <td>10</td>\n",
              "      <td>100</td>\n",
              "    </tr>\n",
              "    <tr>\n",
              "      <th>5</th>\n",
              "      <td>custom predictors</td>\n",
              "      <td>{'max_depth': 10, 'n_estimators': 500}</td>\n",
              "      <td>0.028362</td>\n",
              "      <td>10</td>\n",
              "      <td>500</td>\n",
              "    </tr>\n",
              "    <tr>\n",
              "      <th>3</th>\n",
              "      <td>custom predictors</td>\n",
              "      <td>{'max_depth': 5, 'n_estimators': 500}</td>\n",
              "      <td>0.028834</td>\n",
              "      <td>5</td>\n",
              "      <td>500</td>\n",
              "    </tr>\n",
              "    <tr>\n",
              "      <th>2</th>\n",
              "      <td>custom predictors</td>\n",
              "      <td>{'max_depth': 5, 'n_estimators': 100}</td>\n",
              "      <td>0.028935</td>\n",
              "      <td>5</td>\n",
              "      <td>100</td>\n",
              "    </tr>\n",
              "    <tr>\n",
              "      <th>1</th>\n",
              "      <td>custom predictors</td>\n",
              "      <td>{'max_depth': 3, 'n_estimators': 500}</td>\n",
              "      <td>0.031041</td>\n",
              "      <td>3</td>\n",
              "      <td>500</td>\n",
              "    </tr>\n",
              "    <tr>\n",
              "      <th>0</th>\n",
              "      <td>custom predictors</td>\n",
              "      <td>{'max_depth': 3, 'n_estimators': 100}</td>\n",
              "      <td>0.031537</td>\n",
              "      <td>3</td>\n",
              "      <td>100</td>\n",
              "    </tr>\n",
              "  </tbody>\n",
              "</table>\n",
              "</div>\n",
              "      <button class=\"colab-df-convert\" onclick=\"convertToInteractive('df-33c5592c-ebd9-4620-9563-8253b044acbf')\"\n",
              "              title=\"Convert this dataframe to an interactive table.\"\n",
              "              style=\"display:none;\">\n",
              "        \n",
              "  <svg xmlns=\"http://www.w3.org/2000/svg\" height=\"24px\"viewBox=\"0 0 24 24\"\n",
              "       width=\"24px\">\n",
              "    <path d=\"M0 0h24v24H0V0z\" fill=\"none\"/>\n",
              "    <path d=\"M18.56 5.44l.94 2.06.94-2.06 2.06-.94-2.06-.94-.94-2.06-.94 2.06-2.06.94zm-11 1L8.5 8.5l.94-2.06 2.06-.94-2.06-.94L8.5 2.5l-.94 2.06-2.06.94zm10 10l.94 2.06.94-2.06 2.06-.94-2.06-.94-.94-2.06-.94 2.06-2.06.94z\"/><path d=\"M17.41 7.96l-1.37-1.37c-.4-.4-.92-.59-1.43-.59-.52 0-1.04.2-1.43.59L10.3 9.45l-7.72 7.72c-.78.78-.78 2.05 0 2.83L4 21.41c.39.39.9.59 1.41.59.51 0 1.02-.2 1.41-.59l7.78-7.78 2.81-2.81c.8-.78.8-2.07 0-2.86zM5.41 20L4 18.59l7.72-7.72 1.47 1.35L5.41 20z\"/>\n",
              "  </svg>\n",
              "      </button>\n",
              "      \n",
              "  <style>\n",
              "    .colab-df-container {\n",
              "      display:flex;\n",
              "      flex-wrap:wrap;\n",
              "      gap: 12px;\n",
              "    }\n",
              "\n",
              "    .colab-df-convert {\n",
              "      background-color: #E8F0FE;\n",
              "      border: none;\n",
              "      border-radius: 50%;\n",
              "      cursor: pointer;\n",
              "      display: none;\n",
              "      fill: #1967D2;\n",
              "      height: 32px;\n",
              "      padding: 0 0 0 0;\n",
              "      width: 32px;\n",
              "    }\n",
              "\n",
              "    .colab-df-convert:hover {\n",
              "      background-color: #E2EBFA;\n",
              "      box-shadow: 0px 1px 2px rgba(60, 64, 67, 0.3), 0px 1px 3px 1px rgba(60, 64, 67, 0.15);\n",
              "      fill: #174EA6;\n",
              "    }\n",
              "\n",
              "    [theme=dark] .colab-df-convert {\n",
              "      background-color: #3B4455;\n",
              "      fill: #D2E3FC;\n",
              "    }\n",
              "\n",
              "    [theme=dark] .colab-df-convert:hover {\n",
              "      background-color: #434B5C;\n",
              "      box-shadow: 0px 1px 3px 1px rgba(0, 0, 0, 0.15);\n",
              "      filter: drop-shadow(0px 1px 2px rgba(0, 0, 0, 0.3));\n",
              "      fill: #FFFFFF;\n",
              "    }\n",
              "  </style>\n",
              "\n",
              "      <script>\n",
              "        const buttonEl =\n",
              "          document.querySelector('#df-33c5592c-ebd9-4620-9563-8253b044acbf button.colab-df-convert');\n",
              "        buttonEl.style.display =\n",
              "          google.colab.kernel.accessAllowed ? 'block' : 'none';\n",
              "\n",
              "        async function convertToInteractive(key) {\n",
              "          const element = document.querySelector('#df-33c5592c-ebd9-4620-9563-8253b044acbf');\n",
              "          const dataTable =\n",
              "            await google.colab.kernel.invokeFunction('convertToInteractive',\n",
              "                                                     [key], {});\n",
              "          if (!dataTable) return;\n",
              "\n",
              "          const docLinkHtml = 'Like what you see? Visit the ' +\n",
              "            '<a target=\"_blank\" href=https://colab.research.google.com/notebooks/data_table.ipynb>data table notebook</a>'\n",
              "            + ' to learn more about interactive tables.';\n",
              "          element.innerHTML = '';\n",
              "          dataTable['output_type'] = 'display_data';\n",
              "          await google.colab.output.renderOutput(dataTable, element);\n",
              "          const docLink = document.createElement('div');\n",
              "          docLink.innerHTML = docLinkHtml;\n",
              "          element.appendChild(docLink);\n",
              "        }\n",
              "      </script>\n",
              "    </div>\n",
              "  </div>\n",
              "  "
            ],
            "text/plain": [
              "                lags  ... n_estimators\n",
              "4  custom predictors  ...          100\n",
              "5  custom predictors  ...          500\n",
              "3  custom predictors  ...          500\n",
              "2  custom predictors  ...          100\n",
              "1  custom predictors  ...          500\n",
              "0  custom predictors  ...          100\n",
              "\n",
              "[6 rows x 5 columns]"
            ]
          },
          "metadata": {},
          "execution_count": 48
        }
      ]
    },
    {
      "cell_type": "code",
      "source": [
        "# Predictions\n",
        "# ==============================================================================\n",
        "predictions = forecaster.predict(steps=steps)\n",
        "\n",
        "# Plot\n",
        "# ==============================================================================\n",
        "fig, ax = plt.subplots(figsize=(9, 4))\n",
        "data_train['y'].plot(ax=ax, label='train')\n",
        "data_test['y'].plot(ax=ax, label='test')\n",
        "predictions.plot(ax=ax, label='predictions')\n",
        "ax.legend();"
      ],
      "metadata": {
        "colab": {
          "base_uri": "https://localhost:8080/",
          "height": 279
        },
        "id": "a7Ku7lwBFJnZ",
        "outputId": "50e4bc9c-b96d-40d8-bd7e-6b959df454d5"
      },
      "execution_count": null,
      "outputs": [
        {
          "output_type": "display_data",
          "data": {
            "image/png": "[encoded data removed]",
            "text/plain": [
              "<Figure size 648x288 with 1 Axes>"
            ]
          },
          "metadata": {
            "needs_background": "light"
          }
        }
      ]
    },
    {
      "cell_type": "code",
      "source": [
        "# Error\n",
        "# ==============================================================================\n",
        "error_mse = mean_squared_error(y_true = data_test['y'], y_pred = predictions)\n",
        "print(f\"Test error (mse) {error_mse}\")"
      ],
      "metadata": {
        "colab": {
          "base_uri": "https://localhost:8080/"
        },
        "id": "gjDHwSlEFSA8",
        "outputId": "ee8801a4-fdaa-48d8-dadf-92b640b6d73a"
      },
      "execution_count": null,
      "outputs": [
        {
          "output_type": "stream",
          "name": "stdout",
          "text": [
            "Test error (mse) 0.04303681771042639\n"
          ]
        }
      ]
    },
    {
      "cell_type": "markdown",
      "source": [
        "### Direct multi-step forecasting"
      ],
      "metadata": {
        "id": "8GAKbeA-F1S4"
      }
    },
    {
      "cell_type": "markdown",
      "source": [
        "The ForecasterAutoreg and ForecasterAutoregCustom models follow a recursive prediction strategy in which each new prediction builds on the previous one. An alternative is to train a model for each of the steps to be predicted. This strategy, commonly known as direct multi-step forecasting, is computationally more expensive than recursive since it requires training several models. However, in some scenarios, it achieves better results. These kinds of models can be obtained with the ForecasterAutoregMultiOutput class and can include one or multiple exogenous variables."
      ],
      "metadata": {
        "id": "o3McLuk1F8vB"
      }
    },
    {
      "cell_type": "markdown",
      "source": [
        "### ForecasterAutoregMultiOutput"
      ],
      "metadata": {
        "id": "8wTCGJF7I4cW"
      }
    },
    {
      "cell_type": "markdown",
      "source": [
        "Unlike when using ForecasterAutoreg or ForecasterAutoregCustom, the number of steps to be predicted must be indicated in the ForecasterAutoregMultiOutput type models. This means that the number of predictions obtained when executing the predict() method is always the same."
      ],
      "metadata": {
        "id": "WcznrDLGI5eB"
      }
    },
    {
      "cell_type": "code",
      "source": [
        "forecaster = ForecasterAutoregMultiOutput(\n",
        "                    regressor = make_pipeline(StandardScaler(), Lasso(random_state=123)),\n",
        "                    steps     = 36,\n",
        "                    lags      = 8\n",
        "                )\n",
        "forecaster"
      ],
      "metadata": {
        "colab": {
          "base_uri": "https://localhost:8080/"
        },
        "id": "eezB7yJHI_TV",
        "outputId": "ba0a4316-f2aa-46ae-e0ea-60c546dc367d"
      },
      "execution_count": null,
      "outputs": [
        {
          "output_type": "execute_result",
          "data": {
            "text/plain": [
              "============================ \n",
              "ForecasterAutoregMultiOutput \n",
              "============================ \n",
              "Regressor: Pipeline(steps=[('standardscaler', StandardScaler()),\n",
              "                ('lasso', Lasso(random_state=123))]) \n",
              "Lags: [1 2 3 4 5 6 7 8] \n",
              "Window size: 8 \n",
              "Maximum steps predicted: 36 \n",
              "Included exogenous: False \n",
              "Type of exogenous variable: None \n",
              "Exogenous variables names: None \n",
              "Training range: None \n",
              "Training index type: None \n",
              "Training index frequency: None \n",
              "Regressor parameters: {'standardscaler__copy': True, 'standardscaler__with_mean': True, 'standardscaler__with_std': True, 'lasso__alpha': 1.0, 'lasso__copy_X': True, 'lasso__fit_intercept': True, 'lasso__max_iter': 1000, 'lasso__normalize': 'deprecated', 'lasso__positive': False, 'lasso__precompute': False, 'lasso__random_state': 123, 'lasso__selection': 'cyclic', 'lasso__tol': 0.0001, 'lasso__warm_start': False} \n",
              "Creation date: 2022-02-20 17:54:05 \n",
              "Last fit date: None \n",
              "Skforecast version: 0.4.3.dev2 "
            ]
          },
          "metadata": {},
          "execution_count": 51
        }
      ]
    },
    {
      "cell_type": "code",
      "source": [
        "# Hyperparameter Grid search\n",
        "# ==============================================================================\n",
        "# To access parameters of a scikitlearn pipeline the pattern:\n",
        "# <name of the step>__<name of the parameter>.\n",
        "param_grid = {'lasso__alpha': np.logspace(-5, 5, 10)}\n",
        "lags_grid = [5, 12, 20]\n",
        "\n",
        "results_grid = grid_search_forecaster(\n",
        "                        forecaster  = forecaster,\n",
        "                        y           = data_train['y'],\n",
        "                        param_grid  = param_grid,\n",
        "                        lags_grid = lags_grid,\n",
        "                        steps       = 36,\n",
        "                        refit       = True,\n",
        "                        metric      = 'mean_squared_error',\n",
        "                        initial_train_size = int(len(data_train)*0.5),\n",
        "                        return_best = True,\n",
        "                        verbose     = False\n",
        "                    )"
      ],
      "metadata": {
        "colab": {
          "base_uri": "https://localhost:8080/"
        },
        "id": "Qw2wpMImJEr1",
        "outputId": "e6d4954a-504f-4e79-9e5f-d20f31a00f05"
      },
      "execution_count": null,
      "outputs": [
        {
          "output_type": "stream",
          "name": "stdout",
          "text": [
            "Number of models compared: 30\n"
          ]
        },
        {
          "output_type": "stream",
          "name": "stderr",
          "text": [
            "loop lags_grid:   0%|                                               | 0/3 [00:00<?, ?it/s]\n",
            "loop param_grid:   0%|                                             | 0/10 [00:00<?, ?it/s]\u001b[A\n",
            "loop param_grid:  10%|███▋                                 | 1/10 [00:00<00:04,  2.22it/s]\u001b[A\n",
            "loop param_grid:  20%|███████▍                             | 2/10 [00:00<00:03,  2.21it/s]\u001b[A\n",
            "loop param_grid:  30%|███████████                          | 3/10 [00:01<00:03,  2.19it/s]\u001b[A\n",
            "loop param_grid:  40%|██████████████▊                      | 4/10 [00:01<00:02,  2.18it/s]\u001b[A\n",
            "loop param_grid:  50%|██████████████████▌                  | 5/10 [00:02<00:02,  2.16it/s]\u001b[A\n",
            "loop param_grid:  60%|██████████████████████▏              | 6/10 [00:02<00:01,  2.15it/s]\u001b[A\n",
            "loop param_grid:  70%|█████████████████████████▉           | 7/10 [00:03<00:01,  2.16it/s]\u001b[A\n",
            "loop param_grid:  80%|█████████████████████████████▌       | 8/10 [00:03<00:00,  2.16it/s]\u001b[A\n",
            "loop param_grid:  90%|█████████████████████████████████▎   | 9/10 [00:04<00:00,  2.13it/s]\u001b[A\n",
            "loop param_grid: 100%|████████████████████████████████████| 10/10 [00:04<00:00,  2.16it/s]\u001b[A\n",
            "loop lags_grid:  33%|█████████████                          | 1/3 [00:04<00:09,  4.64s/it]\n",
            "loop param_grid:   0%|                                             | 0/10 [00:00<?, ?it/s]\u001b[A\n",
            "loop param_grid:  10%|███▋                                 | 1/10 [00:00<00:04,  2.02it/s]\u001b[A\n",
            "loop param_grid:  20%|███████▍                             | 2/10 [00:00<00:03,  2.04it/s]\u001b[A\n",
            "loop param_grid:  30%|███████████                          | 3/10 [00:01<00:03,  2.09it/s]\u001b[A\n",
            "loop param_grid:  40%|██████████████▊                      | 4/10 [00:01<00:02,  2.13it/s]\u001b[A\n",
            "loop param_grid:  50%|██████████████████▌                  | 5/10 [00:02<00:02,  2.13it/s]\u001b[A\n",
            "loop param_grid:  60%|██████████████████████▏              | 6/10 [00:02<00:01,  2.14it/s]\u001b[A\n",
            "loop param_grid:  70%|█████████████████████████▉           | 7/10 [00:03<00:01,  2.11it/s]\u001b[A\n",
            "loop param_grid:  80%|█████████████████████████████▌       | 8/10 [00:03<00:00,  2.13it/s]\u001b[A\n",
            "loop param_grid:  90%|█████████████████████████████████▎   | 9/10 [00:04<00:00,  2.15it/s]\u001b[A\n",
            "loop param_grid: 100%|████████████████████████████████████| 10/10 [00:04<00:00,  2.13it/s]\u001b[A\n",
            "loop lags_grid:  67%|██████████████████████████             | 2/3 [00:09<00:04,  4.70s/it]\n",
            "loop param_grid:   0%|                                             | 0/10 [00:00<?, ?it/s]\u001b[A\n",
            "loop param_grid:  10%|███▋                                 | 1/10 [00:00<00:04,  1.82it/s]\u001b[A\n",
            "loop param_grid:  20%|███████▍                             | 2/10 [00:01<00:04,  1.85it/s]\u001b[A\n",
            "loop param_grid:  30%|███████████                          | 3/10 [00:01<00:03,  1.91it/s]\u001b[A\n",
            "loop param_grid:  40%|██████████████▊                      | 4/10 [00:02<00:03,  1.98it/s]\u001b[A\n",
            "loop param_grid:  50%|██████████████████▌                  | 5/10 [00:02<00:02,  2.02it/s]\u001b[A\n",
            "loop param_grid:  60%|██████████████████████▏              | 6/10 [00:03<00:01,  2.05it/s]\u001b[A\n",
            "loop param_grid:  70%|█████████████████████████▉           | 7/10 [00:03<00:01,  2.06it/s]\u001b[A\n",
            "loop param_grid:  80%|█████████████████████████████▌       | 8/10 [00:03<00:00,  2.07it/s]\u001b[A\n",
            "loop param_grid:  90%|█████████████████████████████████▎   | 9/10 [00:04<00:00,  2.08it/s]\u001b[A\n",
            "loop param_grid: 100%|████████████████████████████████████| 10/10 [00:04<00:00,  2.05it/s]\u001b[A\n",
            "loop lags_grid: 100%|███████████████████████████████████████| 3/3 [00:14<00:00,  4.78s/it]"
          ]
        },
        {
          "output_type": "stream",
          "name": "stdout",
          "text": [
            "`Forecaster` refitted using the best-found lags and parameters, and the whole data set: \n",
            "  Lags: [ 1  2  3  4  5  6  7  8  9 10 11 12 13 14 15 16 17 18 19 20] \n",
            "  Parameters: {'lasso__alpha': 0.021544346900318846}\n",
            "  Backtesting metric: 0.010608155083112462\n",
            "\n"
          ]
        },
        {
          "output_type": "stream",
          "name": "stderr",
          "text": [
            "\n"
          ]
        }
      ]
    },
    {
      "cell_type": "code",
      "source": [
        "# Grid Search results\n",
        "# ==============================================================================\n",
        "results_grid.head()"
      ],
      "metadata": {
        "colab": {
          "base_uri": "https://localhost:8080/",
          "height": 206
        },
        "id": "aY2U5_k1JMOz",
        "outputId": "8a712337-f085-4125-9806-544819125bf2"
      },
      "execution_count": null,
      "outputs": [
        {
          "output_type": "execute_result",
          "data": {
            "text/html": [
              "\n",
              "  <div id=\"df-1b9f6ccc-b14d-4a01-a150-6227808caba0\">\n",
              "    <div class=\"colab-df-container\">\n",
              "      <div>\n",
              "<style scoped>\n",
              "    .dataframe tbody tr th:only-of-type {\n",
              "        vertical-align: middle;\n",
              "    }\n",
              "\n",
              "    .dataframe tbody tr th {\n",
              "        vertical-align: top;\n",
              "    }\n",
              "\n",
              "    .dataframe thead th {\n",
              "        text-align: right;\n",
              "    }\n",
              "</style>\n",
              "<table border=\"1\" class=\"dataframe\">\n",
              "  <thead>\n",
              "    <tr style=\"text-align: right;\">\n",
              "      <th></th>\n",
              "      <th>lags</th>\n",
              "      <th>params</th>\n",
              "      <th>metric</th>\n",
              "      <th>lasso__alpha</th>\n",
              "    </tr>\n",
              "  </thead>\n",
              "  <tbody>\n",
              "    <tr>\n",
              "      <th>23</th>\n",
              "      <td>[1, 2, 3, 4, 5, 6, 7, 8, 9, 10, 11, 12, 13, 14...</td>\n",
              "      <td>{'lasso__alpha': 0.021544346900318846}</td>\n",
              "      <td>0.010608</td>\n",
              "      <td>0.021544</td>\n",
              "    </tr>\n",
              "    <tr>\n",
              "      <th>13</th>\n",
              "      <td>[1, 2, 3, 4, 5, 6, 7, 8, 9, 10, 11, 12]</td>\n",
              "      <td>{'lasso__alpha': 0.021544346900318846}</td>\n",
              "      <td>0.012005</td>\n",
              "      <td>0.021544</td>\n",
              "    </tr>\n",
              "    <tr>\n",
              "      <th>12</th>\n",
              "      <td>[1, 2, 3, 4, 5, 6, 7, 8, 9, 10, 11, 12]</td>\n",
              "      <td>{'lasso__alpha': 0.0016681005372000592}</td>\n",
              "      <td>0.013960</td>\n",
              "      <td>0.001668</td>\n",
              "    </tr>\n",
              "    <tr>\n",
              "      <th>11</th>\n",
              "      <td>[1, 2, 3, 4, 5, 6, 7, 8, 9, 10, 11, 12]</td>\n",
              "      <td>{'lasso__alpha': 0.0001291549665014884}</td>\n",
              "      <td>0.014614</td>\n",
              "      <td>0.000129</td>\n",
              "    </tr>\n",
              "    <tr>\n",
              "      <th>10</th>\n",
              "      <td>[1, 2, 3, 4, 5, 6, 7, 8, 9, 10, 11, 12]</td>\n",
              "      <td>{'lasso__alpha': 1e-05}</td>\n",
              "      <td>0.014648</td>\n",
              "      <td>0.000010</td>\n",
              "    </tr>\n",
              "  </tbody>\n",
              "</table>\n",
              "</div>\n",
              "      <button class=\"colab-df-convert\" onclick=\"convertToInteractive('df-1b9f6ccc-b14d-4a01-a150-6227808caba0')\"\n",
              "              title=\"Convert this dataframe to an interactive table.\"\n",
              "              style=\"display:none;\">\n",
              "        \n",
              "  <svg xmlns=\"http://www.w3.org/2000/svg\" height=\"24px\"viewBox=\"0 0 24 24\"\n",
              "       width=\"24px\">\n",
              "    <path d=\"M0 0h24v24H0V0z\" fill=\"none\"/>\n",
              "    <path d=\"M18.56 5.44l.94 2.06.94-2.06 2.06-.94-2.06-.94-.94-2.06-.94 2.06-2.06.94zm-11 1L8.5 8.5l.94-2.06 2.06-.94-2.06-.94L8.5 2.5l-.94 2.06-2.06.94zm10 10l.94 2.06.94-2.06 2.06-.94-2.06-.94-.94-2.06-.94 2.06-2.06.94z\"/><path d=\"M17.41 7.96l-1.37-1.37c-.4-.4-.92-.59-1.43-.59-.52 0-1.04.2-1.43.59L10.3 9.45l-7.72 7.72c-.78.78-.78 2.05 0 2.83L4 21.41c.39.39.9.59 1.41.59.51 0 1.02-.2 1.41-.59l7.78-7.78 2.81-2.81c.8-.78.8-2.07 0-2.86zM5.41 20L4 18.59l7.72-7.72 1.47 1.35L5.41 20z\"/>\n",
              "  </svg>\n",
              "      </button>\n",
              "      \n",
              "  <style>\n",
              "    .colab-df-container {\n",
              "      display:flex;\n",
              "      flex-wrap:wrap;\n",
              "      gap: 12px;\n",
              "    }\n",
              "\n",
              "    .colab-df-convert {\n",
              "      background-color: #E8F0FE;\n",
              "      border: none;\n",
              "      border-radius: 50%;\n",
              "      cursor: pointer;\n",
              "      display: none;\n",
              "      fill: #1967D2;\n",
              "      height: 32px;\n",
              "      padding: 0 0 0 0;\n",
              "      width: 32px;\n",
              "    }\n",
              "\n",
              "    .colab-df-convert:hover {\n",
              "      background-color: #E2EBFA;\n",
              "      box-shadow: 0px 1px 2px rgba(60, 64, 67, 0.3), 0px 1px 3px 1px rgba(60, 64, 67, 0.15);\n",
              "      fill: #174EA6;\n",
              "    }\n",
              "\n",
              "    [theme=dark] .colab-df-convert {\n",
              "      background-color: #3B4455;\n",
              "      fill: #D2E3FC;\n",
              "    }\n",
              "\n",
              "    [theme=dark] .colab-df-convert:hover {\n",
              "      background-color: #434B5C;\n",
              "      box-shadow: 0px 1px 3px 1px rgba(0, 0, 0, 0.15);\n",
              "      filter: drop-shadow(0px 1px 2px rgba(0, 0, 0, 0.3));\n",
              "      fill: #FFFFFF;\n",
              "    }\n",
              "  </style>\n",
              "\n",
              "      <script>\n",
              "        const buttonEl =\n",
              "          document.querySelector('#df-1b9f6ccc-b14d-4a01-a150-6227808caba0 button.colab-df-convert');\n",
              "        buttonEl.style.display =\n",
              "          google.colab.kernel.accessAllowed ? 'block' : 'none';\n",
              "\n",
              "        async function convertToInteractive(key) {\n",
              "          const element = document.querySelector('#df-1b9f6ccc-b14d-4a01-a150-6227808caba0');\n",
              "          const dataTable =\n",
              "            await google.colab.kernel.invokeFunction('convertToInteractive',\n",
              "                                                     [key], {});\n",
              "          if (!dataTable) return;\n",
              "\n",
              "          const docLinkHtml = 'Like what you see? Visit the ' +\n",
              "            '<a target=\"_blank\" href=https://colab.research.google.com/notebooks/data_table.ipynb>data table notebook</a>'\n",
              "            + ' to learn more about interactive tables.';\n",
              "          element.innerHTML = '';\n",
              "          dataTable['output_type'] = 'display_data';\n",
              "          await google.colab.output.renderOutput(dataTable, element);\n",
              "          const docLink = document.createElement('div');\n",
              "          docLink.innerHTML = docLinkHtml;\n",
              "          element.appendChild(docLink);\n",
              "        }\n",
              "      </script>\n",
              "    </div>\n",
              "  </div>\n",
              "  "
            ],
            "text/plain": [
              "                                                 lags  ... lasso__alpha\n",
              "23  [1, 2, 3, 4, 5, 6, 7, 8, 9, 10, 11, 12, 13, 14...  ...     0.021544\n",
              "13            [1, 2, 3, 4, 5, 6, 7, 8, 9, 10, 11, 12]  ...     0.021544\n",
              "12            [1, 2, 3, 4, 5, 6, 7, 8, 9, 10, 11, 12]  ...     0.001668\n",
              "11            [1, 2, 3, 4, 5, 6, 7, 8, 9, 10, 11, 12]  ...     0.000129\n",
              "10            [1, 2, 3, 4, 5, 6, 7, 8, 9, 10, 11, 12]  ...     0.000010\n",
              "\n",
              "[5 rows x 4 columns]"
            ]
          },
          "metadata": {},
          "execution_count": 53
        }
      ]
    },
    {
      "cell_type": "markdown",
      "source": [
        "The best results are obtained using a time window of 20 lags and a Lasso setting {'alpha': 0.0215}."
      ],
      "metadata": {
        "id": "vN6K-Hp6JZSL"
      }
    },
    {
      "cell_type": "code",
      "source": [
        "# Predictions\n",
        "# ==============================================================================\n",
        "predictions = forecaster.predict()\n",
        "\n",
        "# Gráfico\n",
        "# ==============================================================================\n",
        "fig, ax = plt.subplots(figsize=(9, 4))\n",
        "data_train['y'].plot(ax=ax, label='train')\n",
        "data_test['y'].plot(ax=ax, label='test')\n",
        "predictions.plot(ax=ax, label='predictions')\n",
        "ax.legend();"
      ],
      "metadata": {
        "colab": {
          "base_uri": "https://localhost:8080/",
          "height": 279
        },
        "id": "8_CeS9KhJZ1V",
        "outputId": "bd520935-1271-4a35-9c92-e89fe8fb6a85"
      },
      "execution_count": null,
      "outputs": [
        {
          "output_type": "display_data",
          "data": {
            "image/png": "[encoded data removed]",
            "text/plain": [
              "<Figure size 648x288 with 1 Axes>"
            ]
          },
          "metadata": {
            "needs_background": "light"
          }
        }
      ]
    },
    {
      "cell_type": "code",
      "source": [
        "# Error\n",
        "# ==============================================================================\n",
        "error_mse = mean_squared_error(y_true = data_test['y'], y_pred = predictions)\n",
        "print(f\"Test error (mse) {error_mse}\")"
      ],
      "metadata": {
        "colab": {
          "base_uri": "https://localhost:8080/"
        },
        "id": "9kgVLPf9JiXD",
        "outputId": "d0ff4c75-0c17-4c93-9310-ad744516e6d3"
      },
      "execution_count": null,
      "outputs": [
        {
          "output_type": "stream",
          "name": "stdout",
          "text": [
            "Test error (mse) 0.009726551142140267\n"
          ]
        }
      ]
    },
    {
      "cell_type": "markdown",
      "source": [
        "### Prediction intervals"
      ],
      "metadata": {
        "id": "VrfH91H4JmAU"
      }
    },
    {
      "cell_type": "markdown",
      "source": [
        "A prediction interval defines the interval within which the true value of  𝑦  is expected to be found with a given probability.\n",
        "\n",
        "Rob J Hyndman and George Athanasopoulos, list in their book Forecasting: Principles and Practice [multiple ways to estimate prediction intervals](https://otexts.com/fpp2/prediction-intervals.html), most of which require that the residuals (errors) of the model are distributed in a normal way. When this property cannot be assumed, bootstrapping can be resorted to, which only assumes that the residuals are uncorrelated. This is the method used in the Skforecast library for the ForecasterAutoreg and ForecasterAutoregCustom type models."
      ],
      "metadata": {
        "id": "L5CnwH5ZJp0r"
      }
    },
    {
      "cell_type": "markdown",
      "source": [
        "### Get Data:"
      ],
      "metadata": {
        "id": "BNiCfj8PJ7bc"
      }
    },
    {
      "cell_type": "code",
      "source": [
        "# Data download\n",
        "# ==============================================================================\n",
        "url = 'https://raw.githubusercontent.com/JoaquinAmatRodrigo/skforecast/master/data/h2o_exog.csv'\n",
        "data_raw = pd.read_csv(url, sep=',')"
      ],
      "metadata": {
        "id": "xD2ULzRzJ9ll"
      },
      "execution_count": null,
      "outputs": []
    },
    {
      "cell_type": "markdown",
      "source": [
        "### Data Prep:"
      ],
      "metadata": {
        "id": "p3vXlbf_J_aN"
      }
    },
    {
      "cell_type": "code",
      "source": [
        "# Data preparation\n",
        "# ==============================================================================\n",
        "data = data_raw.copy()\n",
        "data = data.rename(columns={'fecha': 'date'})\n",
        "data['date'] = pd.to_datetime(data['date'], format='%Y/%m/%d')\n",
        "data = data.set_index('date')\n",
        "data = data.rename(columns={'x': 'y'})\n",
        "data = data.asfreq('MS')\n",
        "data = data.sort_index()"
      ],
      "metadata": {
        "id": "U1a4OYD5KDkY"
      },
      "execution_count": null,
      "outputs": []
    },
    {
      "cell_type": "markdown",
      "source": [
        "### Split Data"
      ],
      "metadata": {
        "id": "LqmnECa3KJLS"
      }
    },
    {
      "cell_type": "code",
      "source": [
        "# Split data into train-test\n",
        "# ==============================================================================\n",
        "steps = 36\n",
        "data_train = data[:-steps]\n",
        "data_test  = data[-steps:]"
      ],
      "metadata": {
        "id": "2A3tXUxBKMov"
      },
      "execution_count": null,
      "outputs": []
    },
    {
      "cell_type": "markdown",
      "source": [
        "### Create Forecasters and Train Forecaster"
      ],
      "metadata": {
        "id": "9Sy83QitKVFp"
      }
    },
    {
      "cell_type": "code",
      "source": [
        "# Create and train forecaster\n",
        "# ==============================================================================\n",
        "forecaster = ForecasterAutoreg(\n",
        "                    regressor = LinearRegression(),\n",
        "                    lags = 15\n",
        "                )\n",
        "\n",
        "forecaster.fit(y=data_train['y'])\n",
        "\n",
        "# Prediction intervals\n",
        "# ==============================================================================\n",
        "predictions = forecaster.predict_interval(\n",
        "                    steps    = steps,\n",
        "                    interval = [1, 99],\n",
        "                    n_boot   = 500\n",
        "              )\n",
        "\n",
        "predictions.head(5)"
      ],
      "metadata": {
        "colab": {
          "base_uri": "https://localhost:8080/",
          "height": 206
        },
        "id": "vzTNdsPqKZ6U",
        "outputId": "4af37f10-4680-4916-bbf6-6c6b2cf4dcaa"
      },
      "execution_count": null,
      "outputs": [
        {
          "output_type": "execute_result",
          "data": {
            "text/html": [
              "\n",
              "  <div id=\"df-b063689f-d189-4606-84db-d3af862a98c9\">\n",
              "    <div class=\"colab-df-container\">\n",
              "      <div>\n",
              "<style scoped>\n",
              "    .dataframe tbody tr th:only-of-type {\n",
              "        vertical-align: middle;\n",
              "    }\n",
              "\n",
              "    .dataframe tbody tr th {\n",
              "        vertical-align: top;\n",
              "    }\n",
              "\n",
              "    .dataframe thead th {\n",
              "        text-align: right;\n",
              "    }\n",
              "</style>\n",
              "<table border=\"1\" class=\"dataframe\">\n",
              "  <thead>\n",
              "    <tr style=\"text-align: right;\">\n",
              "      <th></th>\n",
              "      <th>pred</th>\n",
              "      <th>lower_bound</th>\n",
              "      <th>upper_bound</th>\n",
              "    </tr>\n",
              "  </thead>\n",
              "  <tbody>\n",
              "    <tr>\n",
              "      <th>2005-07-01</th>\n",
              "      <td>0.962317</td>\n",
              "      <td>0.836348</td>\n",
              "      <td>1.072365</td>\n",
              "    </tr>\n",
              "    <tr>\n",
              "      <th>2005-08-01</th>\n",
              "      <td>0.976595</td>\n",
              "      <td>0.786105</td>\n",
              "      <td>1.093848</td>\n",
              "    </tr>\n",
              "    <tr>\n",
              "      <th>2005-09-01</th>\n",
              "      <td>1.140783</td>\n",
              "      <td>0.976097</td>\n",
              "      <td>1.262243</td>\n",
              "    </tr>\n",
              "    <tr>\n",
              "      <th>2005-10-01</th>\n",
              "      <td>1.179538</td>\n",
              "      <td>1.009499</td>\n",
              "      <td>1.306744</td>\n",
              "    </tr>\n",
              "    <tr>\n",
              "      <th>2005-11-01</th>\n",
              "      <td>1.221138</td>\n",
              "      <td>1.059447</td>\n",
              "      <td>1.348892</td>\n",
              "    </tr>\n",
              "  </tbody>\n",
              "</table>\n",
              "</div>\n",
              "      <button class=\"colab-df-convert\" onclick=\"convertToInteractive('df-b063689f-d189-4606-84db-d3af862a98c9')\"\n",
              "              title=\"Convert this dataframe to an interactive table.\"\n",
              "              style=\"display:none;\">\n",
              "        \n",
              "  <svg xmlns=\"http://www.w3.org/2000/svg\" height=\"24px\"viewBox=\"0 0 24 24\"\n",
              "       width=\"24px\">\n",
              "    <path d=\"M0 0h24v24H0V0z\" fill=\"none\"/>\n",
              "    <path d=\"M18.56 5.44l.94 2.06.94-2.06 2.06-.94-2.06-.94-.94-2.06-.94 2.06-2.06.94zm-11 1L8.5 8.5l.94-2.06 2.06-.94-2.06-.94L8.5 2.5l-.94 2.06-2.06.94zm10 10l.94 2.06.94-2.06 2.06-.94-2.06-.94-.94-2.06-.94 2.06-2.06.94z\"/><path d=\"M17.41 7.96l-1.37-1.37c-.4-.4-.92-.59-1.43-.59-.52 0-1.04.2-1.43.59L10.3 9.45l-7.72 7.72c-.78.78-.78 2.05 0 2.83L4 21.41c.39.39.9.59 1.41.59.51 0 1.02-.2 1.41-.59l7.78-7.78 2.81-2.81c.8-.78.8-2.07 0-2.86zM5.41 20L4 18.59l7.72-7.72 1.47 1.35L5.41 20z\"/>\n",
              "  </svg>\n",
              "      </button>\n",
              "      \n",
              "  <style>\n",
              "    .colab-df-container {\n",
              "      display:flex;\n",
              "      flex-wrap:wrap;\n",
              "      gap: 12px;\n",
              "    }\n",
              "\n",
              "    .colab-df-convert {\n",
              "      background-color: #E8F0FE;\n",
              "      border: none;\n",
              "      border-radius: 50%;\n",
              "      cursor: pointer;\n",
              "      display: none;\n",
              "      fill: #1967D2;\n",
              "      height: 32px;\n",
              "      padding: 0 0 0 0;\n",
              "      width: 32px;\n",
              "    }\n",
              "\n",
              "    .colab-df-convert:hover {\n",
              "      background-color: #E2EBFA;\n",
              "      box-shadow: 0px 1px 2px rgba(60, 64, 67, 0.3), 0px 1px 3px 1px rgba(60, 64, 67, 0.15);\n",
              "      fill: #174EA6;\n",
              "    }\n",
              "\n",
              "    [theme=dark] .colab-df-convert {\n",
              "      background-color: #3B4455;\n",
              "      fill: #D2E3FC;\n",
              "    }\n",
              "\n",
              "    [theme=dark] .colab-df-convert:hover {\n",
              "      background-color: #434B5C;\n",
              "      box-shadow: 0px 1px 3px 1px rgba(0, 0, 0, 0.15);\n",
              "      filter: drop-shadow(0px 1px 2px rgba(0, 0, 0, 0.3));\n",
              "      fill: #FFFFFF;\n",
              "    }\n",
              "  </style>\n",
              "\n",
              "      <script>\n",
              "        const buttonEl =\n",
              "          document.querySelector('#df-b063689f-d189-4606-84db-d3af862a98c9 button.colab-df-convert');\n",
              "        buttonEl.style.display =\n",
              "          google.colab.kernel.accessAllowed ? 'block' : 'none';\n",
              "\n",
              "        async function convertToInteractive(key) {\n",
              "          const element = document.querySelector('#df-b063689f-d189-4606-84db-d3af862a98c9');\n",
              "          const dataTable =\n",
              "            await google.colab.kernel.invokeFunction('convertToInteractive',\n",
              "                                                     [key], {});\n",
              "          if (!dataTable) return;\n",
              "\n",
              "          const docLinkHtml = 'Like what you see? Visit the ' +\n",
              "            '<a target=\"_blank\" href=https://colab.research.google.com/notebooks/data_table.ipynb>data table notebook</a>'\n",
              "            + ' to learn more about interactive tables.';\n",
              "          element.innerHTML = '';\n",
              "          dataTable['output_type'] = 'display_data';\n",
              "          await google.colab.output.renderOutput(dataTable, element);\n",
              "          const docLink = document.createElement('div');\n",
              "          docLink.innerHTML = docLinkHtml;\n",
              "          element.appendChild(docLink);\n",
              "        }\n",
              "      </script>\n",
              "    </div>\n",
              "  </div>\n",
              "  "
            ],
            "text/plain": [
              "                pred  lower_bound  upper_bound\n",
              "2005-07-01  0.962317     0.836348     1.072365\n",
              "2005-08-01  0.976595     0.786105     1.093848\n",
              "2005-09-01  1.140783     0.976097     1.262243\n",
              "2005-10-01  1.179538     1.009499     1.306744\n",
              "2005-11-01  1.221138     1.059447     1.348892"
            ]
          },
          "metadata": {},
          "execution_count": 59
        }
      ]
    },
    {
      "cell_type": "markdown",
      "source": [
        "### Prediction Error Graph"
      ],
      "metadata": {
        "id": "MqAAggGYNAom"
      }
    },
    {
      "cell_type": "code",
      "source": [
        "# Prediction error\n",
        "# ==============================================================================\n",
        "error_mse = mean_squared_error(\n",
        "                y_true = data_test['y'],\n",
        "                y_pred = predictions.iloc[:, 0]\n",
        "            )\n",
        "print(f\"Test error (mse): {error_mse}\")\n",
        "\n",
        "# Plot\n",
        "# ==============================================================================\n",
        "fig, ax=plt.subplots(figsize=(9, 4))\n",
        "data_test['y'].plot(ax=ax, label='test')\n",
        "predictions['pred'].plot(ax=ax, label='prediction')\n",
        "ax.fill_between(\n",
        "    predictions.index,\n",
        "    predictions['lower_bound'],\n",
        "    predictions['upper_bound'],\n",
        "    color = 'red',\n",
        "    alpha = 0.2\n",
        ")\n",
        "ax.legend();"
      ],
      "metadata": {
        "colab": {
          "base_uri": "https://localhost:8080/",
          "height": 307
        },
        "id": "LQkFYorcNDe2",
        "outputId": "5d37b8a8-23b9-4e73-abbc-14cff2d44234"
      },
      "execution_count": null,
      "outputs": [
        {
          "output_type": "stream",
          "name": "stdout",
          "text": [
            "Test error (mse): 0.01053658052670281\n"
          ]
        },
        {
          "output_type": "display_data",
          "data": {
            "image/png": "[encoded data removed]",
            "text/plain": [
              "<Figure size 648x288 with 1 Axes>"
            ]
          },
          "metadata": {
            "needs_background": "light"
          }
        }
      ]
    },
    {
      "cell_type": "markdown",
      "source": [
        "### Backtest"
      ],
      "metadata": {
        "id": "Uk-NtL9VNPTl"
      }
    },
    {
      "cell_type": "code",
      "source": [
        "# Backtest with prediction intervals\n",
        "# ==============================================================================\n",
        "n_val = 36*3\n",
        "data_train = data[:-n_val]\n",
        "data_val  = data[-n_val:]\n",
        "\n",
        "steps = 36\n",
        "forecaster = ForecasterAutoreg(\n",
        "                regressor = make_pipeline(StandardScaler(), Lasso(alpha=0.0215)),\n",
        "                lags = 15\n",
        "            )\n",
        "\n",
        "metric, predictions = backtesting_forecaster(\n",
        "                            forecaster         = forecaster,\n",
        "                            y                  = data['y'],\n",
        "                            initial_train_size = len(data_train),\n",
        "                            steps              = steps,\n",
        "                            metric             = 'mean_squared_error',\n",
        "                            refit              = True,\n",
        "                            interval           = [1, 99],\n",
        "                            n_boot             = 100,\n",
        "                            verbose            = True\n",
        "                       )\n",
        "\n",
        "print(f\"Test error (mse): {error_mse}\")\n",
        "\n",
        "# Plot\n",
        "# ==============================================================================\n",
        "fig, ax=plt.subplots(figsize=(9, 4))\n",
        "data_val['y'].plot(ax=ax, label='test')\n",
        "predictions['pred'].plot(ax=ax, label='predicciones')\n",
        "ax.fill_between(\n",
        "    predictions.index,\n",
        "    predictions['lower_bound'],\n",
        "    predictions['upper_bound'],\n",
        "    color = 'red',\n",
        "    alpha = 0.2\n",
        ")\n",
        "ax.legend();"
      ],
      "metadata": {
        "colab": {
          "base_uri": "https://localhost:8080/",
          "height": 591
        },
        "id": "u5r2l-c8NRBX",
        "outputId": "babfea32-5694-43d6-a039-bf842bb6a25d"
      },
      "execution_count": null,
      "outputs": [
        {
          "output_type": "stream",
          "name": "stdout",
          "text": [
            "Information of backtesting process\n",
            "----------------------------------\n",
            "Number of observations used for initial training: 87\n",
            "Number of observations used for backtesting: 108\n",
            "    Number of folds: 3\n",
            "    Number of steps per fold: 36\n",
            "\n",
            "Data partition in fold: 0\n",
            "    Training:   1992-04-01 00:00:00 -- 1999-06-01 00:00:00\n",
            "    Validation: 1999-07-01 00:00:00 -- 2002-06-01 00:00:00\n",
            "Data partition in fold: 1\n",
            "    Training:   1992-04-01 00:00:00 -- 2002-06-01 00:00:00\n",
            "    Validation: 2002-07-01 00:00:00 -- 2005-06-01 00:00:00\n",
            "Data partition in fold: 2\n",
            "    Training:   1992-04-01 00:00:00 -- 2005-06-01 00:00:00\n",
            "    Validation: 2005-07-01 00:00:00 -- 2008-06-01 00:00:00\n",
            "\n",
            "Test error (mse): 0.01053658052670281\n"
          ]
        },
        {
          "output_type": "display_data",
          "data": {
            "image/png": "[encoded data removed]",
            "text/plain": [
              "<Figure size 648x288 with 1 Axes>"
            ]
          },
          "metadata": {
            "needs_background": "light"
          }
        }
      ]
    },
    {
      "cell_type": "markdown",
      "source": [
        "### Forecasting models in production"
      ],
      "metadata": {
        "id": "afX3BEs1NaHJ"
      }
    },
    {
      "cell_type": "markdown",
      "source": [
        "A trained model may be deployed in production in order to generate predictions regularly. Suppose predictions have to be generated on a weekly basis, for example, every Monday. By default, when using the predict method on a trained forecaster object, predictions start right after the last training observation. Therefore, the model could be retrained weekly, just before the first prediction is needed, and call its predict method. This strategy, although simple, may not be possible to use for several reasons:\n",
        "\n",
        "Model training is very expensive and cannot be run as often.\n",
        "\n",
        "The history with which the model was trained is no longer available.\n",
        "\n",
        "The prediction frequency is so high that there is no time to train the model between predictions.\n",
        "\n",
        "In these scenarios, the model must be able to predict at any time, even if it has not been recently trained.\n",
        "\n",
        "Every model generated using skforecast has the last_window argument in its predict method. Using this argument, it is possible to provide only the past values needs to create the autoregressive predictors (lags) and thus, generate the predictions without the need to retrain the model."
      ],
      "metadata": {
        "id": "MRO6A7_pNbdY"
      }
    },
    {
      "cell_type": "code",
      "source": [
        "data_train['y'].tail()"
      ],
      "metadata": {
        "colab": {
          "base_uri": "https://localhost:8080/"
        },
        "id": "BtrmkyjRNgRv",
        "outputId": "32c90634-c1bd-4de4-e9e7-1d4890536a8c"
      },
      "execution_count": null,
      "outputs": [
        {
          "output_type": "execute_result",
          "data": {
            "text/plain": [
              "date\n",
              "1999-02-01    0.512696\n",
              "1999-03-01    0.652996\n",
              "1999-04-01    0.573976\n",
              "1999-05-01    0.639238\n",
              "1999-06-01    0.703872\n",
              "Freq: MS, Name: y, dtype: float64"
            ]
          },
          "metadata": {},
          "execution_count": 62
        }
      ]
    },
    {
      "cell_type": "code",
      "source": [
        "forecaster = ForecasterAutoreg(\n",
        "                    regressor = RandomForestRegressor(),\n",
        "                    lags = 5\n",
        "                )\n",
        "\n",
        "forecaster.fit(y=data_train['y'])"
      ],
      "metadata": {
        "id": "TBikBYI8NlN7"
      },
      "execution_count": null,
      "outputs": []
    },
    {
      "cell_type": "code",
      "source": [
        "forecaster.predict(steps=3)"
      ],
      "metadata": {
        "colab": {
          "base_uri": "https://localhost:8080/"
        },
        "id": "Yf_5B0-ENpVO",
        "outputId": "47f05c45-d5b9-49c2-fa85-e51721ca93f1"
      },
      "execution_count": null,
      "outputs": [
        {
          "output_type": "execute_result",
          "data": {
            "text/plain": [
              "1999-07-01    0.745856\n",
              "1999-08-01    0.779587\n",
              "1999-09-01    0.789505\n",
              "Freq: MS, Name: pred, dtype: float64"
            ]
          },
          "metadata": {},
          "execution_count": 64
        }
      ]
    },
    {
      "cell_type": "markdown",
      "source": [
        "As expected, predictions follow directly from the end of training data.\n",
        "\n",
        "When last_window is provided, the forecaster uses this data to generate the lags needed as predictors and starts the prediction afterwards."
      ],
      "metadata": {
        "id": "beitoSyRNwyR"
      }
    },
    {
      "cell_type": "code",
      "source": [
        "forecaster.predict(steps=3, last_window=data['y'].tail(5))"
      ],
      "metadata": {
        "colab": {
          "base_uri": "https://localhost:8080/"
        },
        "id": "48o2InduNz0I",
        "outputId": "76b5cb0c-c507-42c7-879e-0d4ff5a21701"
      },
      "execution_count": null,
      "outputs": [
        {
          "output_type": "execute_result",
          "data": {
            "text/plain": [
              "2008-07-01    0.775895\n",
              "2008-08-01    0.796205\n",
              "2008-09-01    0.726692\n",
              "Freq: MS, Name: pred, dtype: float64"
            ]
          },
          "metadata": {},
          "execution_count": 65
        }
      ]
    },
    {
      "cell_type": "markdown",
      "source": [
        "Since the provided last_window contains values from 2008-02-01 to 2008-06-01, the forecaster is able to create the needed lags and predict the next 5 steps.\n",
        "\n",
        "⚠ WARNING:\n",
        "It is important to note that the lenght of last windows must be enought to include the maximum lag used by the forecaster. Fore example, if the forecaster uses lags 1, 24, 48, last_window must include the last 72 values of the series."
      ],
      "metadata": {
        "id": "13mfRHA_N5v9"
      }
    },
    {
      "cell_type": "markdown",
      "source": [
        "### Load and save models"
      ],
      "metadata": {
        "id": "bisY7CAKN9MS"
      }
    },
    {
      "cell_type": "markdown",
      "source": [
        "[Skforecast](https://joaquinamatrodrigo.github.io/skforecast/) models can be loaded and stored using pickle or joblib libraries. A simple example using joblib is shown below."
      ],
      "metadata": {
        "id": "sROrzGQ6OBYQ"
      }
    },
    {
      "cell_type": "code",
      "source": [
        "# Create forecaster\n",
        "forecaster = ForecasterAutoreg(RandomForestRegressor(random_state=123), lags=3)\n",
        "forecaster.fit(y=data_train['y'])\n",
        "forecaster.predict(steps=3)"
      ],
      "metadata": {
        "colab": {
          "base_uri": "https://localhost:8080/"
        },
        "id": "rgXD8ftFOJNu",
        "outputId": "569de98a-c8d8-447f-8bae-98f86bd54234"
      },
      "execution_count": null,
      "outputs": [
        {
          "output_type": "execute_result",
          "data": {
            "text/plain": [
              "1999-07-01    0.781417\n",
              "1999-08-01    0.798413\n",
              "1999-09-01    0.811728\n",
              "Freq: MS, Name: pred, dtype: float64"
            ]
          },
          "metadata": {},
          "execution_count": 66
        }
      ]
    },
    {
      "cell_type": "code",
      "source": [
        "# Save model\n",
        "dump(forecaster, filename='time_series_forecasting_saved_model1.py')"
      ],
      "metadata": {
        "colab": {
          "base_uri": "https://localhost:8080/"
        },
        "id": "Q4PHapJ2OOrE",
        "outputId": "7de4899d-ff3b-4138-a705-ec888fb48ede"
      },
      "execution_count": null,
      "outputs": [
        {
          "output_type": "execute_result",
          "data": {
            "text/plain": [
              "['time_series_forecasting_saved_model1.py']"
            ]
          },
          "metadata": {},
          "execution_count": 67
        }
      ]
    },
    {
      "cell_type": "code",
      "source": [
        "# Load model\n",
        "forecaster_loaded = load('time_series_forecasting_saved_model1.py')"
      ],
      "metadata": {
        "id": "CqKcnoRTPQBW"
      },
      "execution_count": null,
      "outputs": []
    },
    {
      "cell_type": "code",
      "source": [
        "# Predict\n",
        "forecaster_loaded.predict(steps=3)"
      ],
      "metadata": {
        "colab": {
          "base_uri": "https://localhost:8080/"
        },
        "id": "HcYAZObKPXf2",
        "outputId": "2f4205ef-2e56-4ec0-bfbb-ed8b6b4a1bf0"
      },
      "execution_count": null,
      "outputs": [
        {
          "output_type": "execute_result",
          "data": {
            "text/plain": [
              "1999-07-01    0.781417\n",
              "1999-08-01    0.798413\n",
              "1999-09-01    0.811728\n",
              "Freq: MS, Name: pred, dtype: float64"
            ]
          },
          "metadata": {},
          "execution_count": 69
        }
      ]
    },
    {
      "cell_type": "markdown",
      "source": [
        "### Session info"
      ],
      "metadata": {
        "id": "CBzh_PtUPcF2"
      }
    },
    {
      "cell_type": "code",
      "source": [
        "session_info.show(html=False)"
      ],
      "metadata": {
        "colab": {
          "base_uri": "https://localhost:8080/"
        },
        "id": "EcNNmPV3PfGm",
        "outputId": "4cc31d63-0a45-4d12-ef0a-e3b62265dd64"
      },
      "execution_count": null,
      "outputs": [
        {
          "output_type": "stream",
          "name": "stdout",
          "text": [
            "-----\n",
            "google              NA\n",
            "joblib              1.1.0\n",
            "matplotlib          3.2.2\n",
            "numpy               1.21.5\n",
            "pandas              1.3.5\n",
            "session_info        1.0.0\n",
            "skforecast          0.4.3.dev2\n",
            "sklearn             1.0.2\n",
            "-----\n",
            "IPython             5.5.0\n",
            "jupyter_client      5.3.5\n",
            "jupyter_core        4.9.1\n",
            "notebook            5.3.1\n",
            "-----\n",
            "Python 3.7.12 (default, Jan 15 2022, 18:48:18) [GCC 7.5.0]\n",
            "Linux-5.4.144+-x86_64-with-Ubuntu-18.04-bionic\n",
            "-----\n",
            "Session information updated at 2022-02-20 17:54\n"
          ]
        }
      ]
    }
  ]
}