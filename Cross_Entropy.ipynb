{
  "nbformat": 4,
  "nbformat_minor": 0,
  "metadata": {
    "colab": {
      "name": "Cross_Entropy.ipynb",
      "provenance": [],
      "collapsed_sections": [],
      "authorship_tag": "ABX9TyPNzLLUAyhLqn/SqVkHMGZq",
      "include_colab_link": true
    },
    "kernelspec": {
      "name": "python3",
      "display_name": "Python 3"
    },
    "language_info": {
      "name": "python"
    }
  },
  "cells": [
    {
      "cell_type": "markdown",
      "metadata": {
        "id": "view-in-github",
        "colab_type": "text"
      },
      "source": [
        "<a href=\"https://colab.research.google.com/github/jgamel/learn_n_dev/blob/python_machine_learning/Cross_Entropy.ipynb\" target=\"_parent\"><img src=\"https://colab.research.google.com/assets/colab-badge.svg\" alt=\"Open In Colab\"/></a>"
      ]
    },
    {
      "cell_type": "markdown",
      "source": [
        "# Introduction to Cross-Entropy for Machine Learning"
      ],
      "metadata": {
        "id": "4IXpDvBwhqjZ"
      }
    },
    {
      "cell_type": "markdown",
      "source": [
        "Cross-entropy is commonly used in machine learning as a loss function.\n",
        "\n",
        "Cross-entropy is a measure from the field of information theory, building upon entropy and generally calculating the difference between two probability distributions. It is closely related to but is different from KL divergence that calculates the relative entropy between two probability distributions, whereas cross-entropy can be thought to calculate the total entropy between the distributions.\n",
        "\n",
        "Cross-entropy is also related to and often confused with logistic loss, called log loss. Although the two measures are derived from a different source, when used as loss functions for classification models, both measures calculate the same quantity and can be used interchangeably.\n",
        "\n"
      ],
      "metadata": {
        "id": "21PHPP1jhtBp"
      }
    },
    {
      "cell_type": "markdown",
      "source": [
        "In this example:\n",
        "\n",
        "* How to calculate cross-entropy from scratch and using standard machine learning libraries.\n",
        "* Cross-entropy can be used as a loss function when optimizing classification models like logistic regression and artificial neural networks.\n",
        "* Cross-entropy is different from KL divergence but can be calculated using KL divergence, and is different from log loss but calculates the same quantity when used as a loss function."
      ],
      "metadata": {
        "id": "hHeD_1jmtlWm"
      }
    },
    {
      "cell_type": "markdown",
      "source": [
        "### Cross-Entropy"
      ],
      "metadata": {
        "id": "aVF6XMqet9lj"
      }
    },
    {
      "cell_type": "markdown",
      "source": [
        "Cross-entropy is a measure of the difference between two probability distributions for a given random variable or set of events.\n",
        "\n",
        "You might recall that information quantifies the number of bits required to encode and transmit an event. Lower probability events have more information, higher probability events have less information.\n",
        "\n",
        "In information theory, we like to describe the “surprise” of an event. An event is more surprising the less likely it is, meaning it contains more information.\n",
        "\n",
        "* **Low Probability Event** (surprising): More information.\n",
        "* **Higher Probability Event** (unsurprising): Less information.\n",
        "Information h(x) can be calculated for an event x, given the probability of the event P(x) as follows:\n",
        "\n",
        "h(x) = -log(P(x))\n",
        "\n",
        "**Entropy** is the number of bits required to transmit a randomly selected event from a probability distribution. A skewed distribution has a low entropy, whereas a distribution where events have equal probability has a larger entropy.\n",
        "\n",
        "A skewed probability distribution has less “surprise” and in turn a low entropy because likely events dominate. Balanced distribution are more surprising and turn have higher entropy because events are equally likely.\n",
        "\n",
        "* **Skewed Probability Distribution** (unsurprising): Low entropy.\n",
        "* **Balanced Probability Distribution** (surprising): High entropy.\n",
        "\n",
        "Entropy H(x) can be calculated for a random variable with a set of x in X discrete states discrete states and their probability P(x) as follows:\n",
        "\n",
        "H(X) = – sum x in X P(x) * log(P(x))\n",
        "\n",
        "**Cross-entropy** builds upon the idea of entropy from information theory and calculates the number of bits required to represent or transmit an average event from one distribution compared to another distribution.\n",
        "\n",
        "The intuition for this definition comes if we consider a target or underlying probability distribution P and an approximation of the target distribution Q, then the cross-entropy of Q from P is the number of additional bits to represent an event using Q instead of P.\n",
        "\n",
        "The cross-entropy between two probability distributions, such as Q from P, can be stated formally as:\n",
        "\n",
        "H(P, Q)\n",
        "\n",
        "Where H() is the cross-entropy function, P may be the target distribution and Q is the approximation of the target distribution.\n",
        "\n",
        "Cross-entropy can be calculated using the probabilities of the events from P and Q, as follows:\n",
        "\n",
        "H(P, Q) = – sum x in X P(x) * log(Q(x))\n",
        "\n",
        "Where P(x) is the probability of the event x in P, Q(x) is the probability of event x in Q and log is the base-2 logarithm, meaning that the results are in bits. If the base-e or natural logarithm is used instead, the result will have the units called nats.\n",
        "\n",
        "This calculation is for discrete probability distributions, although a similar calculation can be used for continuous probability distributions using the integral across the events instead of the sum.\n",
        "\n",
        "The result will be a positive number measured in bits and will be equal to the entropy of the distribution if the two probability distributions are identical.\n",
        "\n"
      ],
      "metadata": {
        "id": "RQGsH5qrt-q7"
      }
    },
    {
      "cell_type": "markdown",
      "source": [
        "### Cross-Entropy Versus KL Divergence"
      ],
      "metadata": {
        "id": "VGpoKjlQvSzi"
      }
    },
    {
      "cell_type": "markdown",
      "source": [
        "Cross-entropy is not KL Divergence.\n",
        "\n",
        "Cross-entropy is related to divergence measures, such as the Kullback-Leibler, or KL, Divergence that quantifies how much one distribution differs from another.\n",
        "\n",
        "Specifically, the KL divergence measures a very similar quantity to cross-entropy. It measures the average number of extra bits required to represent a message with Q instead of P, not the total number of bits.\n",
        "\n",
        "As such, the KL divergence is often referred to as the “relative entropy.”\n",
        "\n",
        "* **Cross-Entropy:** Average number of total bits to represent an event from Q instead of P.\n",
        "* **Relative Entropy (KL Divergence):** Average number of extra bits to represent an event from Q instead of P.\n",
        "\n",
        "KL divergence can be calculated as the negative sum of probability of each event in P multiples by the log of the probability of the event in Q over the probability of the event in P. Typically, log base-2 so that the result is measured in bits.\n",
        "\n",
        "KL(P || Q) = – sum x in X P(x) * log(Q(x) / P(x))\n",
        "The value within the sum is the divergence for a given event.\n",
        "\n",
        "As such, we can calculate the cross-entropy by adding the entropy of the distribution plus the additional entropy calculated by the KL divergence. This is intuitive, given the definition of both calculations; for example:\n",
        "\n",
        "H(P, Q) = H(P) + KL(P || Q)\n",
        "Where H(P, Q) is the cross-entropy of Q from P, H(P) is the entropy of P and KL(P || Q) is the divergence of Q from P.\n",
        "\n",
        "Entropy can be calculated for a probability distribution as the negative sum of the probability for each event multiplied by the log of the probability for the event, where log is base-2 to ensure the result is in bits.\n",
        "\n",
        "H(P) = – sum x on X p(x) * log(p(x))\n",
        "Like KL divergence, cross-entropy is not symmetrical, meaning that:\n",
        "\n",
        "H(P, Q) != H(Q, P)\n",
        "As we will see later, both cross-entropy and KL divergence calculate the same quantity when they are used as loss functions for optimizing a classification predictive model. It is under this context that you might sometimes see that cross-entropy and KL divergence are the same."
      ],
      "metadata": {
        "id": "6vs11dEKvT7Z"
      }
    },
    {
      "cell_type": "markdown",
      "source": [
        "### How to Calculate Cross-Entropy"
      ],
      "metadata": {
        "id": "niymGRNYv2YJ"
      }
    },
    {
      "cell_type": "markdown",
      "source": [
        "** Two Discrete Probability Distributions **\n",
        "\n",
        "Consider a random variable with three discrete events as different colors: red, green, and blue.\n",
        "\n",
        "We may have two different probability distributions for this variable; for example:\n",
        "\n",
        "```\n",
        "# define distributions\n",
        "events = ['red', 'green', 'blue']\n",
        "p = [0.10, 0.40, 0.50]\n",
        "q = [0.80, 0.15, 0.05]\n",
        "```\n",
        "\n",
        "We can plot a bar chart of these probabilities to compare them directly as probability histograms.\n",
        "\n",
        "The complete example is listed below."
      ],
      "metadata": {
        "id": "QOb11ArXv4Ff"
      }
    },
    {
      "cell_type": "code",
      "execution_count": 1,
      "metadata": {
        "colab": {
          "base_uri": "https://localhost:8080/",
          "height": 283
        },
        "id": "Al6XIhH6F5IN",
        "outputId": "69bca4e0-8209-4aa8-ae2c-dd9559bb0d1e"
      },
      "outputs": [
        {
          "output_type": "stream",
          "name": "stdout",
          "text": [
            "P=1.000 Q=1.000\n"
          ]
        },
        {
          "output_type": "display_data",
          "data": {
            "text/plain": [
              "<Figure size 432x288 with 2 Axes>"
            ],
            "image/png": "[encoded data removed]"
          },
          "metadata": {
            "needs_background": "light"
          }
        }
      ],
      "source": [
        "# plot of distributions\n",
        "from matplotlib import pyplot\n",
        "# define distributions\n",
        "events = ['red', 'green', 'blue']\n",
        "p = [0.10, 0.40, 0.50]\n",
        "q = [0.80, 0.15, 0.05]\n",
        "print('P=%.3f Q=%.3f' % (sum(p), sum(q)))\n",
        "# plot first distribution\n",
        "pyplot.subplot(2,1,1)\n",
        "pyplot.bar(events, p)\n",
        "# plot second distribution\n",
        "pyplot.subplot(2,1,2)\n",
        "pyplot.bar(events, q)\n",
        "# show the plot\n",
        "pyplot.show()"
      ]
    },
    {
      "cell_type": "markdown",
      "source": [
        "Running the example creates a histogram for each probability distribution, allowing the probabilities for each event to be directly compared.\n",
        "\n",
        "We can see that indeed the distributions are different."
      ],
      "metadata": {
        "id": "aL7NIbTwwPfM"
      }
    },
    {
      "cell_type": "markdown",
      "source": [
        "**Calculate Cross-Entropy Between Distributions**\n",
        "\n",
        "Next, we can develop a function to calculate the cross-entropy between the two distributions.\n",
        "\n",
        "We will use log base-2 to ensure the result has units in bits.\n",
        "\n",
        "```\n",
        "# calculate cross entropy\n",
        "def cross_entropy(p, q):\n",
        "\treturn -sum([p[i]*log2(q[i]) for i in range(len(p))])\n",
        "```\n",
        "\n",
        "We can then use this function to calculate the cross-entropy of P from Q, as well as the reverse, Q from P.\n",
        "\n",
        "```\n",
        "...\n",
        "# calculate cross entropy H(P, Q)\n",
        "ce_pq = cross_entropy(p, q)\n",
        "print('H(P, Q): %.3f bits' % ce_pq)\n",
        "# calculate cross entropy H(Q, P)\n",
        "ce_qp = cross_entropy(q, p)\n",
        "print('H(Q, P): %.3f bits' % ce_qp)\n",
        "```\n",
        "\n",
        "Tying this all together, the complete example is listed below."
      ],
      "metadata": {
        "id": "kNgilUdEwQdT"
      }
    },
    {
      "cell_type": "code",
      "source": [
        "# example of calculating cross entropy\n",
        "from math import log2\n",
        "\n",
        "# calculate cross entropy\n",
        "def cross_entropy(p, q):\n",
        "\treturn -sum([p[i]*log2(q[i]) for i in range(len(p))])\n",
        "\n",
        "# define data\n",
        "p = [0.10, 0.40, 0.50]\n",
        "q = [0.80, 0.15, 0.05]\n",
        "# calculate cross entropy H(P, Q)\n",
        "ce_pq = cross_entropy(p, q)\n",
        "print('H(P, Q): %.3f bits' % ce_pq)\n",
        "# calculate cross entropy H(Q, P)\n",
        "ce_qp = cross_entropy(q, p)\n",
        "print('H(Q, P): %.3f bits' % ce_qp)"
      ],
      "metadata": {
        "colab": {
          "base_uri": "https://localhost:8080/"
        },
        "id": "Pec_5zgrwxAr",
        "outputId": "9e8b0698-3e61-4e67-9523-4af6277fce86"
      },
      "execution_count": 2,
      "outputs": [
        {
          "output_type": "stream",
          "name": "stdout",
          "text": [
            "H(P, Q): 3.288 bits\n",
            "H(Q, P): 2.906 bits\n"
          ]
        }
      ]
    },
    {
      "cell_type": "markdown",
      "source": [
        "Running the example first calculates the cross-entropy of Q from P as just over 3 bits, then P from Q as just under 3 bits.\n",
        "\n",
        "```\n",
        "H(P, Q): 3.288 bits\n",
        "H(Q, P): 2.906 bits\n",
        "```"
      ],
      "metadata": {
        "id": "ZYMjPVPNw4g0"
      }
    },
    {
      "cell_type": "markdown",
      "source": [
        "**Calculate Cross-Entropy Between a Distribution and Itself**"
      ],
      "metadata": {
        "id": "ywpGKE4Pw-jS"
      }
    },
    {
      "cell_type": "markdown",
      "source": [
        "If two probability distributions are the same, then the cross-entropy between them will be the entropy of the distribution.\n",
        "\n",
        "We can demonstrate this by calculating the cross-entropy of P vs P and Q vs Q.\n",
        "\n",
        "The complete example is listed below."
      ],
      "metadata": {
        "id": "C7O7AWb1xDcJ"
      }
    },
    {
      "cell_type": "code",
      "source": [
        "# example of calculating cross entropy for identical distributions\n",
        "from math import log2\n",
        "\n",
        "# calculate cross entropy\n",
        "def cross_entropy(p, q):\n",
        "\treturn -sum([p[i]*log2(q[i]) for i in range(len(p))])\n",
        "\n",
        "# define data\n",
        "p = [0.10, 0.40, 0.50]\n",
        "q = [0.80, 0.15, 0.05]\n",
        "# calculate cross entropy H(P, P)\n",
        "ce_pp = cross_entropy(p, p)\n",
        "print('H(P, P): %.3f bits' % ce_pp)\n",
        "# calculate cross entropy H(Q, Q)\n",
        "ce_qq = cross_entropy(q, q)\n",
        "print('H(Q, Q): %.3f bits' % ce_qq)"
      ],
      "metadata": {
        "colab": {
          "base_uri": "https://localhost:8080/"
        },
        "id": "P39tHcNRxHZx",
        "outputId": "41fa5258-dd73-4f47-ab87-69d060f7e146"
      },
      "execution_count": 3,
      "outputs": [
        {
          "output_type": "stream",
          "name": "stdout",
          "text": [
            "H(P, P): 1.361 bits\n",
            "H(Q, Q): 0.884 bits\n"
          ]
        }
      ]
    },
    {
      "cell_type": "markdown",
      "source": [
        "Running the example first calculates the cross-entropy of Q vs Q which is calculated as the entropy for Q, and P vs P which is calculated as the entropy for P.\n",
        "\n",
        "```\n",
        "H(P, P): 1.361 bits\n",
        "H(Q, Q): 0.884 bits\n",
        "```"
      ],
      "metadata": {
        "id": "c1z9cTBExS2J"
      }
    },
    {
      "cell_type": "markdown",
      "source": [
        "**Calculate Cross-Entropy Using KL Divergence**\n",
        "\n",
        "We can also calculate the cross-entropy using the KL divergence.\n",
        "\n",
        "The cross-entropy calculated with KL divergence should be identical, and it may be interesting to calculate the KL divergence between the distributions as well to see the relative entropy or additional bits required instead of the total bits calculated by the cross-entropy.\n",
        "\n",
        "First, we can define a function to calculate the KL divergence between the distributions using log base-2 to ensure the result is also in bits.\n",
        "\n",
        "```\n",
        "# calculate the kl divergence KL(P || Q)\n",
        "def kl_divergence(p, q):\n",
        "\treturn sum(p[i] * log2(p[i]/q[i]) for i in range(len(p)))\n",
        "```\n",
        "\n",
        "Next, we can define a function to calculate the entropy for a given probability distribution.\n",
        "\n",
        "```\n",
        "# calculate entropy H(P)\n",
        "def entropy(p):\n",
        "\treturn -sum([p[i] * log2(p[i]) for i in range(len(p))])\n",
        "Finally, we can calculate the cross-entropy using the entropy() and kl_divergence() functions.\n",
        "\n",
        "# calculate cross entropy H(P, Q)\n",
        "def cross_entropy(p, q):\n",
        "\treturn entropy(p) + kl_divergence(p, q)\n",
        "To keep the example simple, we can compare the cross-entropy for H(P, Q) to the KL divergence KL(P || Q) and the entropy H(P).\n",
        "```\n",
        "\n",
        "The complete example is listed below."
      ],
      "metadata": {
        "id": "BLI8Y2WjxXn5"
      }
    },
    {
      "cell_type": "code",
      "source": [
        "# example of calculating cross entropy with kl divergence\n",
        "from math import log2\n",
        "\n",
        "# calculate the kl divergence KL(P || Q)\n",
        "def kl_divergence(p, q):\n",
        "\treturn sum(p[i] * log2(p[i]/q[i]) for i in range(len(p)))\n",
        "\n",
        "# calculate entropy H(P)\n",
        "def entropy(p):\n",
        "\treturn -sum([p[i] * log2(p[i]) for i in range(len(p))])\n",
        "\n",
        "# calculate cross entropy H(P, Q)\n",
        "def cross_entropy(p, q):\n",
        "\treturn entropy(p) + kl_divergence(p, q)\n",
        "\n",
        "# define data\n",
        "p = [0.10, 0.40, 0.50]\n",
        "q = [0.80, 0.15, 0.05]\n",
        "# calculate H(P)\n",
        "en_p = entropy(p)\n",
        "print('H(P): %.3f bits' % en_p)\n",
        "# calculate kl divergence KL(P || Q)\n",
        "kl_pq = kl_divergence(p, q)\n",
        "print('KL(P || Q): %.3f bits' % kl_pq)\n",
        "# calculate cross entropy H(P, Q)\n",
        "ce_pq = cross_entropy(p, q)\n",
        "print('H(P, Q): %.3f bits' % ce_pq)"
      ],
      "metadata": {
        "colab": {
          "base_uri": "https://localhost:8080/"
        },
        "id": "bcZgTR_vxz0F",
        "outputId": "ccb18167-7078-4537-bf89-3a045029f5ef"
      },
      "execution_count": 4,
      "outputs": [
        {
          "output_type": "stream",
          "name": "stdout",
          "text": [
            "H(P): 1.361 bits\n",
            "KL(P || Q): 1.927 bits\n",
            "H(P, Q): 3.288 bits\n"
          ]
        }
      ]
    },
    {
      "cell_type": "markdown",
      "source": [
        "Running the example, we can see that the cross-entropy score of 3.288 bits is comprised of the entropy of P 1.361 and the additional 1.927 bits calculated by the KL divergence.\n",
        "\n",
        "This is a useful example that clearly illustrates the relationship between all three calculations.\n",
        "\n",
        "```\n",
        "H(P): 1.361 bits\n",
        "KL(P || Q): 1.927 bits\n",
        "H(P, Q): 3.288 bits\n",
        "```"
      ],
      "metadata": {
        "id": "2s7INVh6x9dY"
      }
    },
    {
      "cell_type": "markdown",
      "source": [
        "### Cross-Entropy as a Loss Function"
      ],
      "metadata": {
        "id": "Qz_qwuc_yAKi"
      }
    },
    {
      "cell_type": "markdown",
      "source": [
        "Cross-entropy is widely used as a loss function when optimizing classification models.\n",
        "\n",
        "Two examples that you may encounter include the logistic regression algorithm (a linear classification algorithm), and artificial neural networks that can be used for classification tasks.\n",
        "\n",
        "Classification problems are those that involve one or more input variables and the prediction of a class label.\n",
        "\n",
        "Classification tasks that have just two labels for the output variable are referred to as binary classification problems, whereas those problems with more than two labels are referred to as categorical or multi-class classification problems.\n",
        "\n",
        "* **Binary Classification:** Task of predicting one of two class labels for a given example.\n",
        "* **Multi-Class Classification:** Task of predicting one of more than two class labels for a given example.\n",
        "\n",
        "We can see that the idea of cross-entropy may be useful for optimizing a classification model.\n",
        "\n",
        "Each example has a known class label with a probability of 1.0, and a probability of 0.0 for all other labels. A model can estimate the probability of an example belonging to each class label. Cross-entropy can then be used to calculate the difference between the two probability distributions.\n",
        "\n",
        "As such, we can map the classification of one example onto the idea of a random variable with a probability distribution as follows:\n",
        "\n",
        "* **Random Variable:** The example for which we require a predicted class label.\n",
        "* **Events:** Each class label that could be predicted.\n",
        "\n",
        "In classification tasks, we know the target probability distribution P for an input as the class label 0 or 1 interpreted as probabilities as “impossible” or “certain” respectively. These probabilities have no surprise at all, therefore they have no information content or zero entropy.\n",
        "\n",
        "Our model seeks to approximate the target probability distribution Q.\n",
        "\n",
        "In the language of classification, these are the actual and the predicted probabilities, or y and yhat.\n",
        "\n",
        "* **Expected Probability (y):** The known probability of each class label for an example in the dataset (P).\n",
        "* **Predicted Probability (yhat):** The probability of each class label an example predicted by the model (Q).\n",
        "\n",
        "We can, therefore, estimate the cross-entropy for a single prediction using the cross-entropy calculation described above; for example.\n",
        "\n",
        "H(P, Q) = – sum x in X P(x) * log(Q(x))\n",
        "\n",
        "Where each x in X is a class label that could be assigned to the example, and P(x) will be 1 for the known label and 0 for all other labels.\n",
        "\n",
        "The cross-entropy for a single example in a binary classification task can be stated by unrolling the sum operation as follows:\n",
        "\n",
        "H(P, Q) = – (P(class0) * log(Q(class0)) + P(class1) * log(Q(class1)))\n",
        "\n",
        "You may see this form of calculating cross-entropy cited in textbooks.\n",
        "\n",
        "If there are just two class labels, the probability is modeled as the Bernoulli distribution for the positive class label. This means that the probability for class 1 is predicted by the model directly, and the probability for class 0 is given as one minus the predicted probability, for example:\n",
        "\n",
        "* **Predicted P(class0)** = 1 – yhat\n",
        "* **Predicted P(class1)** = yhat\n",
        "\n",
        "When calculating cross-entropy for classification tasks, the base-e or natural logarithm is used. This means that the units are in nats, not bits.\n",
        "\n",
        "We are often interested in minimizing the cross-entropy for the model across the entire training dataset. This is calculated by calculating the average cross-entropy across all training examples."
      ],
      "metadata": {
        "id": "_9_RRBpdyH_q"
      }
    },
    {
      "cell_type": "markdown",
      "source": [
        "### Calculate Entropy for Class Labels"
      ],
      "metadata": {
        "id": "ffgXaQZMzSNB"
      }
    },
    {
      "cell_type": "markdown",
      "source": [
        "Recall that when two distributions are identical, the cross-entropy between them is equal to the entropy for the probability distribution.\n",
        "\n",
        "Class labels are encoded using the values 0 and 1 when preparing data for classification tasks.\n",
        "\n",
        "For example, if a classification problem has three classes, and an example has a label for the first class, then the probability distribution will be [1, 0, 0]. If an example has a label for the second class, it will have a probability distribution for the two events as [0, 1, 0]. This is called a one hot encoding.\n",
        "\n",
        "This probability distribution has no information as the outcome is certain. We know the class. Therefore the entropy for this variable is zero.\n",
        "\n",
        "This is an important concept and we can demonstrate it with a worked example.\n",
        "\n",
        "Pretend with have a classification problem with 3 classes, and we have one example that belongs to each class. We can represent each example as a discrete probability distribution with a 1.0 probability for the class to which the example belongs and a 0.0 probability for all other classes.\n",
        "\n",
        "We can calculate the entropy of the probability distribution for each “variable” across the “events“.\n",
        "\n",
        "The complete example is listed below.\n",
        "\n"
      ],
      "metadata": {
        "id": "Gui6zURHy4Fq"
      }
    },
    {
      "cell_type": "code",
      "source": [
        "# entropy of examples from a classification task with 3 classes\n",
        "from math import log2\n",
        "from numpy import asarray\n",
        "\n",
        "# calculate entropy\n",
        "def entropy(p):\n",
        "\treturn -sum([p[i] * log2(p[i]) for i in range(len(p))])\n",
        "\n",
        "# class 1\n",
        "p = asarray([1,0,0]) + 1e-15\n",
        "print(entropy(p))\n",
        "# class 2\n",
        "p = asarray([0,1,0]) + 1e-15\n",
        "print(entropy(p))\n",
        "# class 3\n",
        "p = asarray([0,0,1]) + 1e-15\n",
        "print(entropy(p))"
      ],
      "metadata": {
        "colab": {
          "base_uri": "https://localhost:8080/"
        },
        "id": "h1oJSZEpzo8_",
        "outputId": "c53c9a96-8623-47d3-c5de-bcdf2b8965f3"
      },
      "execution_count": 5,
      "outputs": [
        {
          "output_type": "stream",
          "name": "stdout",
          "text": [
            "9.805612959471341e-14\n",
            "9.805612959471341e-14\n",
            "9.805612959471341e-14\n"
          ]
        }
      ]
    },
    {
      "cell_type": "markdown",
      "source": [
        "Running the example calculates the entropy for each random variable.\n",
        "\n",
        "We can see that in each case, the entropy is 0.0 (actually a number very close to zero).\n",
        "\n",
        "Note that we had to add a very small value to the 0.0 values to avoid the log() from blowing up, as we cannot calculate the log of 0.0.\n",
        "\n",
        "As such, the entropy of a known class label is always 0.0.\n",
        "\n",
        "This means that the cross entropy of two distributions (real and predicted) that have the same probability distribution for a class label, will also always be 0.0.\n",
        "\n",
        "Recall that when evaluating a model using cross-entropy on a training dataset that we average the cross-entropy across all examples in the dataset.\n",
        "\n",
        "Therefore, a cross-entropy of 0.0 when training a model indicates that the predicted class probabilities are identical to the probabilities in the training dataset, e.g. zero loss.\n",
        "\n",
        "We could just as easily minimize the KL divergence as a loss function instead of the cross-entropy.\n",
        "\n",
        "Recall that the KL divergence is the extra bits required to transmit one variable compared to another. It is the cross-entropy without the entropy of the class label, which we know would be zero anyway.\n",
        "\n",
        "As such, minimizing the KL divergence and the cross entropy for a classification task are identical.\n",
        "\n",
        "In practice, a cross-entropy loss of 0.0 often indicates that the model has overfit the training dataset, but that is another story.\n"
      ],
      "metadata": {
        "id": "94LTjAPMzt_F"
      }
    },
    {
      "cell_type": "markdown",
      "source": [
        "### Calculate Cross-Entropy Between Class Labels and Probabilities"
      ],
      "metadata": {
        "id": "uZ5muANt0EgM"
      }
    },
    {
      "cell_type": "markdown",
      "source": [
        "The use of cross-entropy for classification often gives different specific names based on the number of classes, mirroring the name of the classification task; for example:\n",
        "\n",
        "* **Binary Cross-Entropy:** Cross-entropy as a loss function for a binary classification task.\n",
        "* **Categorical Cross-Entropy:** Cross-entropy as a loss function for a multi-class classification task.\n",
        "\n",
        "We can make the use of cross-entropy as a loss function concrete with a worked example.\n",
        "\n",
        "Consider a two-class classification task with the following 10 actual class labels (P) and predicted class labels (Q).\n",
        "\n",
        "```\n",
        "...\n",
        "# define classification data\n",
        "p = [1, 1, 1, 1, 1, 0, 0, 0, 0, 0]\n",
        "q = [0.8, 0.9, 0.9, 0.6, 0.8, 0.1, 0.4, 0.2, 0.1, 0.3]\n",
        "```\n",
        "\n",
        "We can enumerate these probabilities and calculate the cross-entropy for each using the cross-entropy function developed in the previous section using log() (natural logarithm) instead of log2().\n",
        "\n",
        "```\n",
        "# calculate cross entropy\n",
        "def cross_entropy(p, q):\n",
        "\treturn -sum([p[i]*log(q[i]) for i in range(len(p))])\n",
        "```\n",
        "\n",
        "For each actual and predicted probability, we must convert the prediction into a distribution of probabilities across each event, in this case, the classes {0, 1} as 1 minus the probability for class 0 and probability for class 1.\n",
        "\n",
        "We can then calculate the cross-entropy and repeat the process for all examples.\n",
        "\n",
        "```\n",
        "...\n",
        "# calculate cross entropy for each example\n",
        "results = list()\n",
        "for i in range(len(p)):\n",
        "\t# create the distribution for each event {0, 1}\n",
        "\texpected = [1.0 - p[i], p[i]]\n",
        "\tpredicted = [1.0 - q[i], q[i]]\n",
        "\t# calculate cross entropy for the two events\n",
        "\tce = cross_entropy(expected, predicted)\n",
        "\tprint('>[y=%.1f, yhat=%.1f] ce: %.3f nats' % (p[i], q[i], ce))\n",
        "\tresults.append(ce)\n",
        "```\n",
        "\n",
        "Finally, we can calculate the average cross-entropy across the dataset and report it as the cross-entropy loss for the model on the dataset.\n",
        "\n",
        "```\n",
        "...\n",
        "# calculate the average cross entropy\n",
        "mean_ce = mean(results)\n",
        "print('Average Cross Entropy: %.3f nats' % mean_ce)\n",
        "```\n",
        "\n",
        "Tying this all together, the complete example is listed below."
      ],
      "metadata": {
        "id": "cNQUCF5k0II3"
      }
    },
    {
      "cell_type": "code",
      "source": [
        "# calculate cross entropy for classification problem\n",
        "from math import log\n",
        "from numpy import mean\n",
        "\n",
        "# calculate cross entropy\n",
        "def cross_entropy(p, q):\n",
        "\treturn -sum([p[i]*log(q[i]) for i in range(len(p))])\n",
        "\n",
        "# define classification data\n",
        "p = [1, 1, 1, 1, 1, 0, 0, 0, 0, 0]\n",
        "q = [0.8, 0.9, 0.9, 0.6, 0.8, 0.1, 0.4, 0.2, 0.1, 0.3]\n",
        "# calculate cross entropy for each example\n",
        "results = list()\n",
        "for i in range(len(p)):\n",
        "\t# create the distribution for each event {0, 1}\n",
        "\texpected = [1.0 - p[i], p[i]]\n",
        "\tpredicted = [1.0 - q[i], q[i]]\n",
        "\t# calculate cross entropy for the two events\n",
        "\tce = cross_entropy(expected, predicted)\n",
        "\tprint('>[y=%.1f, yhat=%.1f] ce: %.3f nats' % (p[i], q[i], ce))\n",
        "\tresults.append(ce)\n",
        "\n",
        "# calculate the average cross entropy\n",
        "mean_ce = mean(results)\n",
        "print('Average Cross Entropy: %.3f nats' % mean_ce)"
      ],
      "metadata": {
        "colab": {
          "base_uri": "https://localhost:8080/"
        },
        "id": "9hT_o5Q_04SO",
        "outputId": "6bc3bbef-8e1c-44df-c8b6-b2d5ab3a45f3"
      },
      "execution_count": 6,
      "outputs": [
        {
          "output_type": "stream",
          "name": "stdout",
          "text": [
            ">[y=1.0, yhat=0.8] ce: 0.223 nats\n",
            ">[y=1.0, yhat=0.9] ce: 0.105 nats\n",
            ">[y=1.0, yhat=0.9] ce: 0.105 nats\n",
            ">[y=1.0, yhat=0.6] ce: 0.511 nats\n",
            ">[y=1.0, yhat=0.8] ce: 0.223 nats\n",
            ">[y=0.0, yhat=0.1] ce: 0.105 nats\n",
            ">[y=0.0, yhat=0.4] ce: 0.511 nats\n",
            ">[y=0.0, yhat=0.2] ce: 0.223 nats\n",
            ">[y=0.0, yhat=0.1] ce: 0.105 nats\n",
            ">[y=0.0, yhat=0.3] ce: 0.357 nats\n",
            "Average Cross Entropy: 0.247 nats\n"
          ]
        }
      ]
    },
    {
      "cell_type": "markdown",
      "source": [
        "Running the example prints the actual and predicted probabilities for each example and the cross-entropy in nats.\n",
        "\n",
        "The final average cross-entropy loss across all examples is reported, in this case, as 0.247 nats.\n",
        "\n",
        "This is how cross-entropy loss is calculated when optimizing a logistic regression model or a neural network model under a cross-entropy loss function."
      ],
      "metadata": {
        "id": "JaWGWQX51DEY"
      }
    },
    {
      "cell_type": "markdown",
      "source": [
        "### Calculate Cross-Entropy Using Keras"
      ],
      "metadata": {
        "id": "GGkmerD41LR_"
      }
    },
    {
      "cell_type": "markdown",
      "source": [
        "We can confirm the same calculation by using the binary_crossentropy() function from the Keras deep learning API to calculate the cross-entropy loss for our small dataset.\n",
        "\n",
        "The complete example is listed below.\n",
        "\n",
        "Note: This example assumes that you have the Keras library installed (e.g. version 2.3 or higher) and configured with a backend library such as TensorFlow (version 2.0 or higher). If not, you can skip running this example."
      ],
      "metadata": {
        "id": "bJKjcPvP1MgA"
      }
    },
    {
      "cell_type": "code",
      "source": [
        "# calculate cross entropy with keras\n",
        "from numpy import asarray\n",
        "from keras import backend\n",
        "from keras.losses import binary_crossentropy\n",
        "# prepare classification data\n",
        "p = asarray([1, 1, 1, 1, 1, 0, 0, 0, 0, 0])\n",
        "q = asarray([0.8, 0.9, 0.9, 0.6, 0.8, 0.1, 0.4, 0.2, 0.1, 0.3])\n",
        "# convert to keras variables\n",
        "y_true = backend.variable(p)\n",
        "y_pred = backend.variable(q)\n",
        "# calculate the average cross-entropy\n",
        "mean_ce = backend.eval(binary_crossentropy(y_true, y_pred))\n",
        "print('Average Cross Entropy: %.3f nats' % mean_ce)"
      ],
      "metadata": {
        "colab": {
          "base_uri": "https://localhost:8080/"
        },
        "id": "hDJk5q6y1WHH",
        "outputId": "c9aa50f9-8ac2-4985-e489-74a9c9f0c3af"
      },
      "execution_count": 7,
      "outputs": [
        {
          "output_type": "stream",
          "name": "stdout",
          "text": [
            "Average Cross Entropy: 0.247 nats\n"
          ]
        }
      ]
    },
    {
      "cell_type": "markdown",
      "source": [
        "Running the example, we can see that the same average cross-entropy loss of 0.247 nats is reported.\n",
        "\n",
        "This confirms the correct manual calculation of cross-entropy."
      ],
      "metadata": {
        "id": "9L2XjH3j1zaP"
      }
    },
    {
      "cell_type": "markdown",
      "source": [
        "### Intuition for Cross-Entropy on Predicted Probabilities"
      ],
      "metadata": {
        "id": "s7UngPNi14PJ"
      }
    },
    {
      "cell_type": "markdown",
      "source": [
        "We can further develop the intuition for the cross-entropy for predicted class probabilities.\n",
        "\n",
        "For example, given that an average cross-entropy loss of 0.0 is a perfect model, what do average cross-entropy values greater than zero mean exactly?\n",
        "\n",
        "We can explore this question no a binary classification problem where the class labels as 0 and 1. This is a discrete probability distribution with two events and a certain probability for one event and an impossible probability for the other event.\n",
        "\n",
        "We can then calculate the cross entropy for different “predicted” probability distributions transitioning from a perfect match of the target distribution to the exact opposite probability distribution.\n",
        "\n",
        "We would expect that as the predicted probability distribution diverges further from the target distribution that the cross-entropy calculated will increase.\n",
        "\n",
        "The example below implements this and plots the cross-entropy result for the predicted probability distribution compared to the target of [0, 1] for two events as we would see for the cross-entropy in a binary classification task."
      ],
      "metadata": {
        "id": "4gnWtQ4A19D9"
      }
    },
    {
      "cell_type": "code",
      "source": [
        "# cross-entropy for predicted probability distribution vs label\n",
        "from math import log\n",
        "from matplotlib import pyplot\n",
        "\n",
        "# calculate cross-entropy\n",
        "def cross_entropy(p, q, ets=1e-15):\n",
        "\treturn -sum([p[i]*log(q[i]+ets) for i in range(len(p))])\n",
        "\n",
        "# define the target distribution for two events\n",
        "target = [0.0, 1.0]\n",
        "# define probabilities for the first event\n",
        "probs = [1.0, 0.9, 0.8, 0.7, 0.6, 0.5, 0.4, 0.3, 0.2, 0.1, 0.0]\n",
        "# create probability distributions for the two events\n",
        "dists = [[1.0 - p, p] for p in probs]\n",
        "# calculate cross-entropy for each distribution\n",
        "ents = [cross_entropy(target, d) for d in dists]\n",
        "# plot probability distribution vs cross-entropy\n",
        "pyplot.plot([1-p for p in probs], ents, marker='.')\n",
        "pyplot.title('Probability Distribution vs Cross-Entropy')\n",
        "pyplot.xticks([1-p for p in probs], ['[%.1f,%.1f]'%(d[0],d[1]) for d in dists], rotation=70)\n",
        "pyplot.subplots_adjust(bottom=0.2)\n",
        "pyplot.xlabel('Probability Distribution')\n",
        "pyplot.ylabel('Cross-Entropy (nats)')\n",
        "pyplot.show()"
      ],
      "metadata": {
        "colab": {
          "base_uri": "https://localhost:8080/",
          "height": 307
        },
        "id": "t3vBNld92Hx4",
        "outputId": "05d0a811-9ca6-4389-c808-d822ccb263a8"
      },
      "execution_count": 8,
      "outputs": [
        {
          "output_type": "display_data",
          "data": {
            "text/plain": [
              "<Figure size 432x288 with 1 Axes>"
            ],
            "image/png": "[encoded data removed]"
          },
          "metadata": {
            "needs_background": "light"
          }
        }
      ]
    },
    {
      "cell_type": "markdown",
      "source": [
        "Running the example calculates the cross-entropy score for each probability distribution then plots the results as a line plot.\n",
        "\n",
        "We can see that as expected, cross-entropy starts at 0.0 (far left point) when the predicted probability distribution matches the target distribution, then steadily increases as the predicted probability distribution diverges.\n",
        "\n",
        "We can also see a dramatic leap in cross-entropy when the predicted probability distribution is the exact opposite of the target distribution, that is, [1, 0] compared to the target of [0, 1]."
      ],
      "metadata": {
        "id": "o9CyUeNF2P2_"
      }
    },
    {
      "cell_type": "markdown",
      "source": [
        "We are not going to have a model that predicts the exact opposite probability distribution for all cases on a binary classification task.\n",
        "\n",
        "As such, we can remove this case and re-calculate the plot.\n",
        "\n",
        "The updated version of the code is listed below."
      ],
      "metadata": {
        "id": "CfeKLWCq2XRA"
      }
    },
    {
      "cell_type": "code",
      "source": [
        "# cross-entropy for predicted probability distribution vs label\n",
        "from math import log\n",
        "from matplotlib import pyplot\n",
        "\n",
        "# calculate cross-entropy\n",
        "def cross_entropy(p, q, ets=1e-15):\n",
        "\treturn -sum([p[i]*log(q[i]+ets) for i in range(len(p))])\n",
        "\n",
        "# define the target distribution for two events\n",
        "target = [0.0, 1.0]\n",
        "# define probabilities for the first event\n",
        "probs = [1.0, 0.9, 0.8, 0.7, 0.6, 0.5, 0.4, 0.3, 0.2, 0.1]\n",
        "# create probability distributions for the two events\n",
        "dists = [[1.0 - p, p] for p in probs]\n",
        "# calculate cross-entropy for each distribution\n",
        "ents = [cross_entropy(target, d) for d in dists]\n",
        "# plot probability distribution vs cross-entropy\n",
        "pyplot.plot([1-p for p in probs], ents, marker='.')\n",
        "pyplot.title('Probability Distribution vs Cross-Entropy')\n",
        "pyplot.xticks([1-p for p in probs], ['[%.1f,%.1f]'%(d[0],d[1]) for d in dists], rotation=70)\n",
        "pyplot.subplots_adjust(bottom=0.2)\n",
        "pyplot.xlabel('Probability Distribution')\n",
        "pyplot.ylabel('Cross-Entropy (nats)')\n",
        "pyplot.show()"
      ],
      "metadata": {
        "colab": {
          "base_uri": "https://localhost:8080/",
          "height": 307
        },
        "id": "5X0G0h0F2c2O",
        "outputId": "0352a22f-68f9-4e38-8f9b-ac34d7969fe4"
      },
      "execution_count": 9,
      "outputs": [
        {
          "output_type": "display_data",
          "data": {
            "text/plain": [
              "<Figure size 432x288 with 1 Axes>"
            ],
            "image/png": "[encoded data removed]"
          },
          "metadata": {
            "needs_background": "light"
          }
        }
      ]
    },
    {
      "cell_type": "markdown",
      "source": [
        "Running the example gives a much better idea of the relationship between the divergence in probability distribution and the calculated cross-entropy.\n",
        "\n",
        "We can see a super-linear relationship where the more the predicted probability distribution diverges from the target, the larger the increase in cross-entropy.\n",
        "\n",
        "A plot like this can be used as a guide for interpreting the average cross-entropy reported for a model for a binary classification dataset.\n",
        "\n",
        "For example, you can use these cross-entropy values to interpret the mean cross-entropy reported by Keras for a neural network model on a binary classification task, or a binary classification model in scikit-learn evaluated using the logloss metric.\n",
        "\n",
        "You can use it to answer the general question:\n",
        "\n",
        "What is a good cross-entropy score?\n",
        "\n",
        "If you are working in nats (and you usually are) and you are getting mean cross-entropy less than 0.2, you are off to a good start, and less than 0.1 or 0.05 is even better.\n",
        "\n",
        "On the other hand, if you are getting mean cross-entropy greater than 0.2 or 0.3 you can probably improve, and if you are getting a mean cross-entropy greater than 1.0, then something is going on and you’re making poor probability predictions on many examples in your dataset.\n",
        "\n",
        "We can summarise these intuitions for the mean cross-entropy as follows:\n",
        "\n",
        "* Cross-Entropy = 0.00: Perfect probabilities.\n",
        "* Cross-Entropy < 0.02: Great probabilities.\n",
        "* Cross-Entropy < 0.05: On the right track.\n",
        "* Cross-Entropy < 0.20: Fine.\n",
        "* Cross-Entropy > 0.30: Not great.\n",
        "* Cross-Entropy > 1.00: Terrible.\n",
        "* Cross-Entropy > 2.00 Something is broken.\n",
        "\n",
        "This listing will provide a useful guide when interpreting a cross-entropy (log loss) from your logistic regression model, or your artificial neural network model.\n",
        "\n",
        "You can also calculate separate mean cross-entropy scores per-class and help tease out on which classes you’re model has good probabilities, and which it might be messing up."
      ],
      "metadata": {
        "id": "ausvW-EY2lEL"
      }
    },
    {
      "cell_type": "markdown",
      "source": [
        "### Cross-Entropy Versus Log Loss"
      ],
      "metadata": {
        "id": "HjOJjZ6f3BtQ"
      }
    },
    {
      "cell_type": "markdown",
      "source": [
        "Cross-Entropy is not Log Loss, but they calculate the same quantity when used as loss functions for classification problems.\n",
        "\n",
        "**Log Loss is the Negative Log Likelihood**\n",
        "\n",
        "Logistic loss refers to the loss function commonly used to optimize a logistic regression model.\n",
        "\n",
        "It may also be referred to as logarithmic loss (which is confusing) or simply log loss.\n",
        "\n",
        "Many models are optimized under a probabilistic framework called the maximum likelihood estimation, or MLE, that involves finding a set of parameters that best explain the observed data.\n",
        "\n",
        "This involves selecting a likelihood function that defines how likely a set of observations (data) are given model parameters. When a log likelihood function is used (which is common), it is often referred to as optimizing the log likelihood for the model. Because it is more common to minimize a function than to maximize it in practice, the log likelihood function is inverted by adding a negative sign to the front. This transforms it into a Negative Log Likelihood function or NLL for short.\n",
        "\n",
        "In deriving the log likelihood function under a framework of maximum likelihood estimation for Bernoulli probability distribution functions (two classes), the calculation comes out to be:\n",
        "\n",
        "* negative log-likelihood(P, Q) = -(P(class0) * log(Q(class0)) + P(class1) * log(Q(class1)))\n",
        "\n",
        "This quantity can be averaged over all training examples by calculating the average of the log of the likelihood function.\n",
        "\n",
        "Negative log-likelihood for binary classification problems is often shortened to simply “log loss” as the loss function derived for logistic regression.\n",
        "\n",
        "* log loss = negative log-likelihood, under a Bernoulli probability distribution\n",
        "\n",
        "We can see that the negative log-likelihood is the same calculation as is used for the cross-entropy for Bernoulli probability distribution functions (two events or classes). In fact, the negative log-likelihood for Multinoulli distributions (multi-class classification) also matches the calculation for cross-entropy."
      ],
      "metadata": {
        "id": "Z57cWMNM3Enx"
      }
    },
    {
      "cell_type": "markdown",
      "source": [
        "### Log Loss and Cross Entropy Calculate the Same Thing"
      ],
      "metadata": {
        "id": "ih5NAIji3y2-"
      }
    },
    {
      "cell_type": "markdown",
      "source": [
        "For classification problems, “log loss“, “cross-entropy” and “negative log-likelihood” are used interchangeably.\n",
        "\n",
        "More generally, the terms “cross-entropy” and “negative log-likelihood” are used interchangeably in the context of loss functions for classification models.\n",
        "\n",
        "Therefore, calculating log loss will give the same quantity as calculating the cross-entropy for Bernoulli probability distribution. We can confirm this by calculating the log loss using the log_loss() function from the scikit-learn API.\n",
        "\n",
        "Calculating the average log loss on the same set of actual and predicted probabilities from the previous section should give the same result as calculating the average cross-entropy.\n",
        "\n",
        "The complete example is listed below."
      ],
      "metadata": {
        "id": "_SGupi9N3z5u"
      }
    },
    {
      "cell_type": "code",
      "source": [
        "# calculate log loss for classification problem with scikit-learn\n",
        "from sklearn.metrics import log_loss\n",
        "from numpy import asarray\n",
        "# define classification data\n",
        "p = [1, 1, 1, 1, 1, 0, 0, 0, 0, 0]\n",
        "q = [0.8, 0.9, 0.9, 0.6, 0.8, 0.1, 0.4, 0.2, 0.1, 0.3]\n",
        "# define data as expected, e.g. probability for each event {0, 1}\n",
        "y_true = asarray([[1-v, v] for v in p])\n",
        "y_pred = asarray([[1-v, v] for v in q])\n",
        "# calculate the average log loss\n",
        "ll = log_loss(y_true, y_pred)\n",
        "print('Average Log Loss: %.3f' % ll)"
      ],
      "metadata": {
        "colab": {
          "base_uri": "https://localhost:8080/"
        },
        "id": "gnNx_QSf37da",
        "outputId": "c9014d0f-9907-4596-c165-e3109f6591ec"
      },
      "execution_count": 10,
      "outputs": [
        {
          "output_type": "stream",
          "name": "stdout",
          "text": [
            "Average Log Loss: 0.247\n"
          ]
        }
      ]
    },
    {
      "cell_type": "markdown",
      "source": [
        "Running the example gives the expected result of 0.247 log loss, which matches 0.247 nats when calculated using the average cross-entropy."
      ],
      "metadata": {
        "id": "4ut-GL_p4BCT"
      }
    },
    {
      "cell_type": "markdown",
      "source": [
        "This does not mean that log loss calculates cross-entropy or cross-entropy calculates log loss.\n",
        "\n",
        "Instead, they are different quantities, arrived at from different fields of study, that under the conditions of calculating a loss function for a classification task, result in an equivalent calculation and result. Specifically, a cross-entropy loss function is equivalent to a maximum likelihood function under a Bernoulli or Multinoulli probability distribution.\n",
        "\n",
        "This demonstrates a connection between the study of maximum likelihood estimation and information theory for discrete probability distributions.\n",
        "\n",
        "It is not limited to discrete probability distributions, and this fact is surprising to many practitioners that hear it for the first time.\n",
        "\n",
        "Specifically, a linear regression optimized under the maximum likelihood estimation framework assumes a Gaussian continuous probability distribution for the target variable and involves minimizing the mean squared error function. This is equivalent to the cross-entropy for a random variable with a Gaussian probability distribution.\n",
        "\n",
        "This is a little mind blowing, and comes from the field of differential entropy for continuous random variables.\n",
        "\n",
        "It means that if you calculate the mean squared error between two Gaussian random variables that cover the same events (have the same mean and standard deviation), then you are calculating the cross-entropy between the variables.\n",
        "\n",
        "It also means that if you are using mean squared error loss to optimize your neural network model for a regression problem, you are in effect using a cross entropy loss."
      ],
      "metadata": {
        "id": "ciSyDJU64K1j"
      }
    }
  ]
}