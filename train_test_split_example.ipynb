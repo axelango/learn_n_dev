{
  "nbformat": 4,
  "nbformat_minor": 0,
  "metadata": {
    "colab": {
      "name": "train_test_split_example.ipynb",
      "provenance": [],
      "collapsed_sections": [],
      "authorship_tag": "ABX9TyPfDDeri4jYlnN/AX5tGViT",
      "include_colab_link": true
    },
    "kernelspec": {
      "name": "python3",
      "display_name": "Python 3"
    },
    "language_info": {
      "name": "python"
    }
  },
  "cells": [
    {
      "cell_type": "markdown",
      "metadata": {
        "id": "view-in-github",
        "colab_type": "text"
      },
      "source": [
        "<a href=\"https://colab.research.google.com/github/jgamel/learn_n_dev/blob/python_ds_examples/train_test_split_example.ipynb\" target=\"_parent\"><img src=\"https://colab.research.google.com/assets/colab-badge.svg\" alt=\"Open In Colab\"/></a>"
      ]
    },
    {
      "cell_type": "markdown",
      "source": [
        "A [time series](https://en.wikipedia.org/wiki/Time_series) is a succession of chronologically ordered data spaced at equal or unequal intervals. The [forecasting](https://en.wikipedia.org/wiki/Forecasting#Time_series_methods) process consists of predicting the future value of a time series, either by modeling the series solely based on its past behavior (autoregressive) or by using other external variables.\n",
        "\n",
        "This document describes how to use Scikit-learn regression models to perform forecasting on time series. Specifically, it introduces [Skforecast](https://joaquinamatrodrigo.github.io/skforecast/0.4.2/index.html), a simple library that contains the classes and functions necessary to adapt any Scikit-learn regression model to forecasting problems. "
      ],
      "metadata": {
        "id": "0kTyXpL9Vm6z"
      }
    },
    {
      "cell_type": "markdown",
      "source": [
        "### Multi-Step Time Series Forecasting"
      ],
      "metadata": {
        "id": "VmvyJWwQVqAo"
      }
    },
    {
      "cell_type": "markdown",
      "source": [
        "The common objective of working with time series is not only to predict the next element in the series ( 𝑡+1 ) but an entire future interval or a point far away in time ( 𝑡+𝑛 ). Each prediction jump is known as a step.\n",
        "\n",
        "There are several strategies that allow generating this type of multiple prediction.\n",
        "\n",
        "\n",
        "Recursive multi-step forecasting\n",
        "\n",
        "Since to predict the moment  𝑡𝑛  the value of  𝑡𝑛−1  is needed, which is unknown, it is necessary to make recursive predictions. New predictions use previous ones as predictors. This process is known as recursive forecasting or recursive multi-step forecasting.\n",
        "\n",
        "The main adaptation needed to apply Scikit-learn models to recursive multi-step forecasting problems is to transform the time series into a matrix in which each value is associated with the time window (lags) preceding it. This forecasting strategy can be easily generated with the ForecasterAutoreg and ForecasterAutoregCustom classes from the Skforecast library.\n",
        "\n",
        "Transformation of a time series into a 5 lags matrix and a vector with the value of the series that follows each row of the matrix.\n",
        "This type of transformation also allows the inclusion of exogenous variables to the time series.\n",
        "\n",
        "Direct multi-step forecasting\n",
        "\n",
        "The direct multi-step forecasting method consists of training a different model for each step. For example, to predict the following 5 values of a time series, 5 different models are required to be trained, one for each step. As a result, the predictions are independent of each other.\n",
        "\n",
        "The main complexity of this approach is to generate the correct training matrices for each model. The ForecasterAutoregMultiOutput class of the Skforecast library automates this process. It is also important to bear in mind that this strategy has a higher computational cost since it requires the train of multiple models. The following diagram shows the process for a case in which the response variable and two exogenous variables are available.\n",
        "\n",
        "Multiple output forecasting\n",
        "\n",
        "Certain models are capable of simultaneously predicting several values of a sequence (one-shot). An example of a model with this capability is the LSTM neural network.\n"
      ],
      "metadata": {
        "id": "UMqN_umwVtbv"
      }
    },
    {
      "cell_type": "markdown",
      "source": [
        "### Recursive autoregressive forecasting"
      ],
      "metadata": {
        "id": "TK8p54jCV1Mr"
      }
    },
    {
      "cell_type": "markdown",
      "source": [
        "A time series is available with the monthly expenditure (millions of dollars) on corticosteroid drugs that the Australian health system had between 1991 and 2008. It is intended to create an autoregressive model capable of predicting future monthly expenditures."
      ],
      "metadata": {
        "id": "4Kc21cByV2BS"
      }
    },
    {
      "cell_type": "markdown",
      "source": [
        "Load Modules:"
      ],
      "metadata": {
        "id": "-2j3Z61NV5mM"
      }
    },
    {
      "cell_type": "code",
      "source": [
        "# Data manipulation\n",
        "# ==============================================================================\n",
        "import numpy as np\n",
        "import pandas as pd\n",
        "\n",
        "# Plots\n",
        "# ==============================================================================\n",
        "import matplotlib.pyplot as plt\n",
        "plt.style.use('fivethirtyeight')\n",
        "plt.rcParams['lines.linewidth'] = 1.5\n",
        "%matplotlib inline\n",
        "\n",
        "# Warnings configuration\n",
        "# ==============================================================================\n",
        "import warnings\n",
        "warnings.filterwarnings('ignore')"
      ],
      "metadata": {
        "id": "edvrd4nLV_EJ"
      },
      "execution_count": 1,
      "outputs": []
    },
    {
      "cell_type": "markdown",
      "source": [
        "Mount Drive:"
      ],
      "metadata": {
        "id": "CMnI4AmsWA2O"
      }
    },
    {
      "cell_type": "code",
      "execution_count": 2,
      "metadata": {
        "colab": {
          "base_uri": "https://localhost:8080/"
        },
        "id": "cnAPlwFv6EWP",
        "outputId": "d37fd48a-2e18-474b-f11f-b68346027125"
      },
      "outputs": [
        {
          "output_type": "stream",
          "name": "stdout",
          "text": [
            "Mounted at /content/gdrive\n"
          ]
        }
      ],
      "source": [
        "from google.colab import drive\n",
        "drive.mount('/content/gdrive', force_remount=True)"
      ]
    },
    {
      "cell_type": "code",
      "source": [
        "import sys\n",
        "sys.path.append('/content/gdrive/My Drive/Colab Notebooks')"
      ],
      "metadata": {
        "id": "bW0vXbvS6RlG"
      },
      "execution_count": 3,
      "outputs": []
    },
    {
      "cell_type": "markdown",
      "source": [
        "Load skforecast"
      ],
      "metadata": {
        "id": "SY-iEzDmWOHu"
      }
    },
    {
      "cell_type": "code",
      "source": [
        "# Modeling and Forecasting\n",
        "# ==============================================================================\n",
        "from sklearn.linear_model import LinearRegression\n",
        "from sklearn.linear_model import Lasso\n",
        "from sklearn.ensemble import RandomForestRegressor\n",
        "from sklearn.metrics import mean_squared_error\n",
        "from sklearn.preprocessing import StandardScaler\n",
        "from sklearn.pipeline import make_pipeline\n",
        "\n",
        "from skforecast.ForecasterAutoreg import ForecasterAutoreg\n",
        "from skforecast.ForecasterAutoregCustom import ForecasterAutoregCustom\n",
        "from skforecast.ForecasterAutoregMultiOutput import ForecasterAutoregMultiOutput\n",
        "from skforecast.model_selection import grid_search_forecaster\n",
        "from skforecast.model_selection import backtesting_forecaster"
      ],
      "metadata": {
        "id": "63OWASho6VmV"
      },
      "execution_count": 4,
      "outputs": []
    },
    {
      "cell_type": "markdown",
      "source": [
        "### Get Data"
      ],
      "metadata": {
        "id": "oCWtjLOtWd_h"
      }
    },
    {
      "cell_type": "markdown",
      "source": [
        "The data used in the examples of this document have been obtained from the magnificent book Forecasting: [Principles and Practice by Rob J Hyndman and George Athanasopoulos](https://otexts.com/fpp3/)."
      ],
      "metadata": {
        "id": "BN8ZZ_bJWlVB"
      }
    },
    {
      "cell_type": "code",
      "source": [
        "# Data download\n",
        "# ==============================================================================\n",
        "url = 'https://raw.githubusercontent.com/JoaquinAmatRodrigo/skforecast/master/data/h2o_exog.csv'\n",
        "data = pd.read_csv(url, sep=',')\n",
        "data.head()"
      ],
      "metadata": {
        "colab": {
          "base_uri": "https://localhost:8080/",
          "height": 206
        },
        "id": "mSiRtX7EW3x2",
        "outputId": "7f9bf6a6-0e00-4c31-d20b-38835e11f448"
      },
      "execution_count": 10,
      "outputs": [
        {
          "output_type": "execute_result",
          "data": {
            "text/html": [
              "\n",
              "  <div id=\"df-aa110e9f-794a-4eee-9d46-8caac81df0fa\">\n",
              "    <div class=\"colab-df-container\">\n",
              "      <div>\n",
              "<style scoped>\n",
              "    .dataframe tbody tr th:only-of-type {\n",
              "        vertical-align: middle;\n",
              "    }\n",
              "\n",
              "    .dataframe tbody tr th {\n",
              "        vertical-align: top;\n",
              "    }\n",
              "\n",
              "    .dataframe thead th {\n",
              "        text-align: right;\n",
              "    }\n",
              "</style>\n",
              "<table border=\"1\" class=\"dataframe\">\n",
              "  <thead>\n",
              "    <tr style=\"text-align: right;\">\n",
              "      <th></th>\n",
              "      <th>fecha</th>\n",
              "      <th>y</th>\n",
              "      <th>exog_1</th>\n",
              "      <th>exog_2</th>\n",
              "    </tr>\n",
              "  </thead>\n",
              "  <tbody>\n",
              "    <tr>\n",
              "      <th>0</th>\n",
              "      <td>1992-04-01</td>\n",
              "      <td>0.379808</td>\n",
              "      <td>0.958792</td>\n",
              "      <td>1.166029</td>\n",
              "    </tr>\n",
              "    <tr>\n",
              "      <th>1</th>\n",
              "      <td>1992-05-01</td>\n",
              "      <td>0.361801</td>\n",
              "      <td>0.951993</td>\n",
              "      <td>1.117859</td>\n",
              "    </tr>\n",
              "    <tr>\n",
              "      <th>2</th>\n",
              "      <td>1992-06-01</td>\n",
              "      <td>0.410534</td>\n",
              "      <td>0.952955</td>\n",
              "      <td>1.067942</td>\n",
              "    </tr>\n",
              "    <tr>\n",
              "      <th>3</th>\n",
              "      <td>1992-07-01</td>\n",
              "      <td>0.483389</td>\n",
              "      <td>0.958078</td>\n",
              "      <td>1.097376</td>\n",
              "    </tr>\n",
              "    <tr>\n",
              "      <th>4</th>\n",
              "      <td>1992-08-01</td>\n",
              "      <td>0.475463</td>\n",
              "      <td>0.956370</td>\n",
              "      <td>1.122199</td>\n",
              "    </tr>\n",
              "  </tbody>\n",
              "</table>\n",
              "</div>\n",
              "      <button class=\"colab-df-convert\" onclick=\"convertToInteractive('df-aa110e9f-794a-4eee-9d46-8caac81df0fa')\"\n",
              "              title=\"Convert this dataframe to an interactive table.\"\n",
              "              style=\"display:none;\">\n",
              "        \n",
              "  <svg xmlns=\"http://www.w3.org/2000/svg\" height=\"24px\"viewBox=\"0 0 24 24\"\n",
              "       width=\"24px\">\n",
              "    <path d=\"M0 0h24v24H0V0z\" fill=\"none\"/>\n",
              "    <path d=\"M18.56 5.44l.94 2.06.94-2.06 2.06-.94-2.06-.94-.94-2.06-.94 2.06-2.06.94zm-11 1L8.5 8.5l.94-2.06 2.06-.94-2.06-.94L8.5 2.5l-.94 2.06-2.06.94zm10 10l.94 2.06.94-2.06 2.06-.94-2.06-.94-.94-2.06-.94 2.06-2.06.94z\"/><path d=\"M17.41 7.96l-1.37-1.37c-.4-.4-.92-.59-1.43-.59-.52 0-1.04.2-1.43.59L10.3 9.45l-7.72 7.72c-.78.78-.78 2.05 0 2.83L4 21.41c.39.39.9.59 1.41.59.51 0 1.02-.2 1.41-.59l7.78-7.78 2.81-2.81c.8-.78.8-2.07 0-2.86zM5.41 20L4 18.59l7.72-7.72 1.47 1.35L5.41 20z\"/>\n",
              "  </svg>\n",
              "      </button>\n",
              "      \n",
              "  <style>\n",
              "    .colab-df-container {\n",
              "      display:flex;\n",
              "      flex-wrap:wrap;\n",
              "      gap: 12px;\n",
              "    }\n",
              "\n",
              "    .colab-df-convert {\n",
              "      background-color: #E8F0FE;\n",
              "      border: none;\n",
              "      border-radius: 50%;\n",
              "      cursor: pointer;\n",
              "      display: none;\n",
              "      fill: #1967D2;\n",
              "      height: 32px;\n",
              "      padding: 0 0 0 0;\n",
              "      width: 32px;\n",
              "    }\n",
              "\n",
              "    .colab-df-convert:hover {\n",
              "      background-color: #E2EBFA;\n",
              "      box-shadow: 0px 1px 2px rgba(60, 64, 67, 0.3), 0px 1px 3px 1px rgba(60, 64, 67, 0.15);\n",
              "      fill: #174EA6;\n",
              "    }\n",
              "\n",
              "    [theme=dark] .colab-df-convert {\n",
              "      background-color: #3B4455;\n",
              "      fill: #D2E3FC;\n",
              "    }\n",
              "\n",
              "    [theme=dark] .colab-df-convert:hover {\n",
              "      background-color: #434B5C;\n",
              "      box-shadow: 0px 1px 3px 1px rgba(0, 0, 0, 0.15);\n",
              "      filter: drop-shadow(0px 1px 2px rgba(0, 0, 0, 0.3));\n",
              "      fill: #FFFFFF;\n",
              "    }\n",
              "  </style>\n",
              "\n",
              "      <script>\n",
              "        const buttonEl =\n",
              "          document.querySelector('#df-aa110e9f-794a-4eee-9d46-8caac81df0fa button.colab-df-convert');\n",
              "        buttonEl.style.display =\n",
              "          google.colab.kernel.accessAllowed ? 'block' : 'none';\n",
              "\n",
              "        async function convertToInteractive(key) {\n",
              "          const element = document.querySelector('#df-aa110e9f-794a-4eee-9d46-8caac81df0fa');\n",
              "          const dataTable =\n",
              "            await google.colab.kernel.invokeFunction('convertToInteractive',\n",
              "                                                     [key], {});\n",
              "          if (!dataTable) return;\n",
              "\n",
              "          const docLinkHtml = 'Like what you see? Visit the ' +\n",
              "            '<a target=\"_blank\" href=https://colab.research.google.com/notebooks/data_table.ipynb>data table notebook</a>'\n",
              "            + ' to learn more about interactive tables.';\n",
              "          element.innerHTML = '';\n",
              "          dataTable['output_type'] = 'display_data';\n",
              "          await google.colab.output.renderOutput(dataTable, element);\n",
              "          const docLink = document.createElement('div');\n",
              "          docLink.innerHTML = docLinkHtml;\n",
              "          element.appendChild(docLink);\n",
              "        }\n",
              "      </script>\n",
              "    </div>\n",
              "  </div>\n",
              "  "
            ],
            "text/plain": [
              "        fecha         y    exog_1    exog_2\n",
              "0  1992-04-01  0.379808  0.958792  1.166029\n",
              "1  1992-05-01  0.361801  0.951993  1.117859\n",
              "2  1992-06-01  0.410534  0.952955  1.067942\n",
              "3  1992-07-01  0.483389  0.958078  1.097376\n",
              "4  1992-08-01  0.475463  0.956370  1.122199"
            ]
          },
          "metadata": {},
          "execution_count": 10
        }
      ]
    },
    {
      "cell_type": "markdown",
      "source": [
        "### Data Prep"
      ],
      "metadata": {
        "id": "9g11RD5WXMO5"
      }
    },
    {
      "cell_type": "markdown",
      "source": [
        "The column date has been stored as a string. To convert it to datetime the pd.to_datetime() function can be use. Once in datetime format, and to make use of pandas functionalities, it is set as an index. Also, since the data is monthly, the frequency is set as Monthly Started 'MS'."
      ],
      "metadata": {
        "id": "1FXgI4WOXB2n"
      }
    },
    {
      "cell_type": "code",
      "source": [
        "# Data preparation\n",
        "# ==============================================================================\n",
        "data = data.rename(columns={'fecha': 'date'})\n",
        "data['date'] = pd.to_datetime(data['date'], format='%Y/%m/%d')\n",
        "data = data.set_index('date')\n",
        "data = data.rename(columns={'x': 'y'})\n",
        "data = data.asfreq('MS')\n",
        "data = data.sort_index()\n",
        "data.head()"
      ],
      "metadata": {
        "colab": {
          "base_uri": "https://localhost:8080/",
          "height": 238
        },
        "id": "hhslmN4oXOAo",
        "outputId": "7a32e734-ce19-4f0c-d6f9-3d36b849427b"
      },
      "execution_count": 11,
      "outputs": [
        {
          "output_type": "execute_result",
          "data": {
            "text/html": [
              "\n",
              "  <div id=\"df-dc643f5e-d8e5-42e2-998a-6cef6d13d944\">\n",
              "    <div class=\"colab-df-container\">\n",
              "      <div>\n",
              "<style scoped>\n",
              "    .dataframe tbody tr th:only-of-type {\n",
              "        vertical-align: middle;\n",
              "    }\n",
              "\n",
              "    .dataframe tbody tr th {\n",
              "        vertical-align: top;\n",
              "    }\n",
              "\n",
              "    .dataframe thead th {\n",
              "        text-align: right;\n",
              "    }\n",
              "</style>\n",
              "<table border=\"1\" class=\"dataframe\">\n",
              "  <thead>\n",
              "    <tr style=\"text-align: right;\">\n",
              "      <th></th>\n",
              "      <th>y</th>\n",
              "      <th>exog_1</th>\n",
              "      <th>exog_2</th>\n",
              "    </tr>\n",
              "    <tr>\n",
              "      <th>date</th>\n",
              "      <th></th>\n",
              "      <th></th>\n",
              "      <th></th>\n",
              "    </tr>\n",
              "  </thead>\n",
              "  <tbody>\n",
              "    <tr>\n",
              "      <th>1992-04-01</th>\n",
              "      <td>0.379808</td>\n",
              "      <td>0.958792</td>\n",
              "      <td>1.166029</td>\n",
              "    </tr>\n",
              "    <tr>\n",
              "      <th>1992-05-01</th>\n",
              "      <td>0.361801</td>\n",
              "      <td>0.951993</td>\n",
              "      <td>1.117859</td>\n",
              "    </tr>\n",
              "    <tr>\n",
              "      <th>1992-06-01</th>\n",
              "      <td>0.410534</td>\n",
              "      <td>0.952955</td>\n",
              "      <td>1.067942</td>\n",
              "    </tr>\n",
              "    <tr>\n",
              "      <th>1992-07-01</th>\n",
              "      <td>0.483389</td>\n",
              "      <td>0.958078</td>\n",
              "      <td>1.097376</td>\n",
              "    </tr>\n",
              "    <tr>\n",
              "      <th>1992-08-01</th>\n",
              "      <td>0.475463</td>\n",
              "      <td>0.956370</td>\n",
              "      <td>1.122199</td>\n",
              "    </tr>\n",
              "  </tbody>\n",
              "</table>\n",
              "</div>\n",
              "      <button class=\"colab-df-convert\" onclick=\"convertToInteractive('df-dc643f5e-d8e5-42e2-998a-6cef6d13d944')\"\n",
              "              title=\"Convert this dataframe to an interactive table.\"\n",
              "              style=\"display:none;\">\n",
              "        \n",
              "  <svg xmlns=\"http://www.w3.org/2000/svg\" height=\"24px\"viewBox=\"0 0 24 24\"\n",
              "       width=\"24px\">\n",
              "    <path d=\"M0 0h24v24H0V0z\" fill=\"none\"/>\n",
              "    <path d=\"M18.56 5.44l.94 2.06.94-2.06 2.06-.94-2.06-.94-.94-2.06-.94 2.06-2.06.94zm-11 1L8.5 8.5l.94-2.06 2.06-.94-2.06-.94L8.5 2.5l-.94 2.06-2.06.94zm10 10l.94 2.06.94-2.06 2.06-.94-2.06-.94-.94-2.06-.94 2.06-2.06.94z\"/><path d=\"M17.41 7.96l-1.37-1.37c-.4-.4-.92-.59-1.43-.59-.52 0-1.04.2-1.43.59L10.3 9.45l-7.72 7.72c-.78.78-.78 2.05 0 2.83L4 21.41c.39.39.9.59 1.41.59.51 0 1.02-.2 1.41-.59l7.78-7.78 2.81-2.81c.8-.78.8-2.07 0-2.86zM5.41 20L4 18.59l7.72-7.72 1.47 1.35L5.41 20z\"/>\n",
              "  </svg>\n",
              "      </button>\n",
              "      \n",
              "  <style>\n",
              "    .colab-df-container {\n",
              "      display:flex;\n",
              "      flex-wrap:wrap;\n",
              "      gap: 12px;\n",
              "    }\n",
              "\n",
              "    .colab-df-convert {\n",
              "      background-color: #E8F0FE;\n",
              "      border: none;\n",
              "      border-radius: 50%;\n",
              "      cursor: pointer;\n",
              "      display: none;\n",
              "      fill: #1967D2;\n",
              "      height: 32px;\n",
              "      padding: 0 0 0 0;\n",
              "      width: 32px;\n",
              "    }\n",
              "\n",
              "    .colab-df-convert:hover {\n",
              "      background-color: #E2EBFA;\n",
              "      box-shadow: 0px 1px 2px rgba(60, 64, 67, 0.3), 0px 1px 3px 1px rgba(60, 64, 67, 0.15);\n",
              "      fill: #174EA6;\n",
              "    }\n",
              "\n",
              "    [theme=dark] .colab-df-convert {\n",
              "      background-color: #3B4455;\n",
              "      fill: #D2E3FC;\n",
              "    }\n",
              "\n",
              "    [theme=dark] .colab-df-convert:hover {\n",
              "      background-color: #434B5C;\n",
              "      box-shadow: 0px 1px 3px 1px rgba(0, 0, 0, 0.15);\n",
              "      filter: drop-shadow(0px 1px 2px rgba(0, 0, 0, 0.3));\n",
              "      fill: #FFFFFF;\n",
              "    }\n",
              "  </style>\n",
              "\n",
              "      <script>\n",
              "        const buttonEl =\n",
              "          document.querySelector('#df-dc643f5e-d8e5-42e2-998a-6cef6d13d944 button.colab-df-convert');\n",
              "        buttonEl.style.display =\n",
              "          google.colab.kernel.accessAllowed ? 'block' : 'none';\n",
              "\n",
              "        async function convertToInteractive(key) {\n",
              "          const element = document.querySelector('#df-dc643f5e-d8e5-42e2-998a-6cef6d13d944');\n",
              "          const dataTable =\n",
              "            await google.colab.kernel.invokeFunction('convertToInteractive',\n",
              "                                                     [key], {});\n",
              "          if (!dataTable) return;\n",
              "\n",
              "          const docLinkHtml = 'Like what you see? Visit the ' +\n",
              "            '<a target=\"_blank\" href=https://colab.research.google.com/notebooks/data_table.ipynb>data table notebook</a>'\n",
              "            + ' to learn more about interactive tables.';\n",
              "          element.innerHTML = '';\n",
              "          dataTable['output_type'] = 'display_data';\n",
              "          await google.colab.output.renderOutput(dataTable, element);\n",
              "          const docLink = document.createElement('div');\n",
              "          docLink.innerHTML = docLinkHtml;\n",
              "          element.appendChild(docLink);\n",
              "        }\n",
              "      </script>\n",
              "    </div>\n",
              "  </div>\n",
              "  "
            ],
            "text/plain": [
              "                   y    exog_1    exog_2\n",
              "date                                    \n",
              "1992-04-01  0.379808  0.958792  1.166029\n",
              "1992-05-01  0.361801  0.951993  1.117859\n",
              "1992-06-01  0.410534  0.952955  1.067942\n",
              "1992-07-01  0.483389  0.958078  1.097376\n",
              "1992-08-01  0.475463  0.956370  1.122199"
            ]
          },
          "metadata": {},
          "execution_count": 11
        }
      ]
    },
    {
      "cell_type": "markdown",
      "source": [
        "The time series is verified to be complete."
      ],
      "metadata": {
        "id": "hnbBoghOXrBY"
      }
    },
    {
      "cell_type": "code",
      "source": [
        "# Verify that a temporary index is complete\n",
        "# ==============================================================================\n",
        "(data.index == pd.date_range(start=data.index.min(),\n",
        "                             end=data.index.max(),\n",
        "                             freq=data.index.freq)).all()"
      ],
      "metadata": {
        "colab": {
          "base_uri": "https://localhost:8080/"
        },
        "id": "seJ15MY5Xrge",
        "outputId": "d4d95bb6-844e-46b2-b458-32a7ccc866a6"
      },
      "execution_count": 12,
      "outputs": [
        {
          "output_type": "execute_result",
          "data": {
            "text/plain": [
              "True"
            ]
          },
          "metadata": {},
          "execution_count": 12
        }
      ]
    },
    {
      "cell_type": "markdown",
      "source": [
        "If False:"
      ],
      "metadata": {
        "id": "b9d5hoQeX7B9"
      }
    },
    {
      "cell_type": "code",
      "source": [
        "# Fill gaps in a temporary index\n",
        "# ==============================================================================\n",
        "# data.asfreq(freq='30min', fill_value=np.nan)"
      ],
      "metadata": {
        "id": "FAEN0ILPX8su"
      },
      "execution_count": 13,
      "outputs": []
    },
    {
      "cell_type": "markdown",
      "source": [
        "The last 36 months are used as the test set to evaluate the predictive capacity of the model."
      ],
      "metadata": {
        "id": "Bn2Hbvc3X_z4"
      }
    },
    {
      "cell_type": "code",
      "source": [
        "# Split data into train-test\n",
        "# ==============================================================================\n",
        "steps = 36\n",
        "data_train = data[:-steps]\n",
        "data_test  = data[-steps:]\n",
        "\n",
        "fig, ax=plt.subplots(figsize=(9, 4))\n",
        "data_train['y'].plot(ax=ax, label='train')\n",
        "data_test['y'].plot(ax=ax, label='test')\n",
        "ax.legend();"
      ],
      "metadata": {
        "colab": {
          "base_uri": "https://localhost:8080/",
          "height": 279
        },
        "id": "cmDf7PZfYDUW",
        "outputId": "72f55fce-c28a-4009-dea7-9c1549c9a915"
      },
      "execution_count": 14,
      "outputs": [
        {
          "output_type": "display_data",
          "data": {
            "image/png": "[encoded data removed]",
            "text/plain": [
              "<Figure size 648x288 with 1 Axes>"
            ]
          },
          "metadata": {
            "needs_background": "light"
          }
        }
      ]
    },
    {
      "cell_type": "markdown",
      "source": [
        "### ForecasterAutoreg"
      ],
      "metadata": {
        "id": "S81lkg52YaCv"
      }
    },
    {
      "cell_type": "markdown",
      "source": [
        "With the ForecasterAutoreg class, a model is created and trained from a RandomForestRegressor regressor with a time window of 6 lags. This means that the model uses the previous 6 months as predictors."
      ],
      "metadata": {
        "id": "67elyWWdYdRl"
      }
    },
    {
      "cell_type": "code",
      "source": [
        "# Create and train forecaster\n",
        "# ==============================================================================\n",
        "forecaster = ForecasterAutoreg(\n",
        "                regressor = RandomForestRegressor(random_state=123),\n",
        "                lags = 6\n",
        "             )\n",
        "\n",
        "forecaster.fit(y=data_train['y'])\n",
        "\n",
        "forecaster"
      ],
      "metadata": {
        "colab": {
          "base_uri": "https://localhost:8080/"
        },
        "id": "e7R6pQcdYgv7",
        "outputId": "10394116-1a57-4d1c-e3ac-cdffc1dc3c0f"
      },
      "execution_count": 15,
      "outputs": [
        {
          "output_type": "execute_result",
          "data": {
            "text/plain": [
              "================= \n",
              "ForecasterAutoreg \n",
              "================= \n",
              "Regressor: RandomForestRegressor(random_state=123) \n",
              "Lags: [1 2 3 4 5 6] \n",
              "Window size: 6 \n",
              "Included exogenous: False \n",
              "Type of exogenous variable: None \n",
              "Exogenous variables names: None \n",
              "Training range: [Timestamp('1992-04-01 00:00:00'), Timestamp('2005-06-01 00:00:00')] \n",
              "Training index type: DatetimeIndex \n",
              "Training index frequency: MS \n",
              "Regressor parameters: {'bootstrap': True, 'ccp_alpha': 0.0, 'criterion': 'squared_error', 'max_depth': None, 'max_features': 'auto', 'max_leaf_nodes': None, 'max_samples': None, 'min_impurity_decrease': 0.0, 'min_samples_leaf': 1, 'min_samples_split': 2, 'min_weight_fraction_leaf': 0.0, 'n_estimators': 100, 'n_jobs': None, 'oob_score': False, 'random_state': 123, 'verbose': 0, 'warm_start': False} \n",
              "Creation date: 2022-02-19 14:28:13 \n",
              "Last fit date: 2022-02-19 14:28:13 \n",
              "Skforecast version: 0.4.3.dev2 "
            ]
          },
          "metadata": {},
          "execution_count": 15
        }
      ]
    },
    {
      "cell_type": "markdown",
      "source": [
        "Once the model is trained, the test data is predicted (36 months into the future)."
      ],
      "metadata": {
        "id": "6vl4ktMSYt1r"
      }
    },
    {
      "cell_type": "code",
      "source": [
        "# Predictions\n",
        "# ==============================================================================\n",
        "steps = 36\n",
        "predictions = forecaster.predict(steps=steps)\n",
        "predictions.head(5)"
      ],
      "metadata": {
        "colab": {
          "base_uri": "https://localhost:8080/"
        },
        "id": "uay1ExBqYvZl",
        "outputId": "ab161a2e-a481-4c9c-dc0b-8fe4f803acf8"
      },
      "execution_count": 20,
      "outputs": [
        {
          "output_type": "execute_result",
          "data": {
            "text/plain": [
              "2005-07-01    0.878756\n",
              "2005-08-01    0.882167\n",
              "2005-09-01    0.973184\n",
              "2005-10-01    0.983678\n",
              "2005-11-01    0.849494\n",
              "Freq: MS, Name: pred, dtype: float64"
            ]
          },
          "metadata": {},
          "execution_count": 20
        }
      ]
    },
    {
      "cell_type": "code",
      "source": [
        "# Plot\n",
        "# ==============================================================================\n",
        "fig, ax = plt.subplots(figsize=(9, 4))\n",
        "data_train['y'].plot(ax=ax, label='train')\n",
        "data_test['y'].plot(ax=ax, label='test')\n",
        "predictions.plot(ax=ax, label='predictions')\n",
        "ax.legend();"
      ],
      "metadata": {
        "colab": {
          "base_uri": "https://localhost:8080/",
          "height": 279
        },
        "id": "tuK61MduY5kY",
        "outputId": "160c05d6-f6df-4651-c8ff-71b554e06dea"
      },
      "execution_count": 21,
      "outputs": [
        {
          "output_type": "display_data",
          "data": {
            "image/png": "[encoded data removed]",
            "text/plain": [
              "<Figure size 648x288 with 1 Axes>"
            ]
          },
          "metadata": {
            "needs_background": "light"
          }
        }
      ]
    },
    {
      "cell_type": "markdown",
      "source": [
        "### Prediction error in the test set"
      ],
      "metadata": {
        "id": "nEA2XJKRZLP9"
      }
    },
    {
      "cell_type": "markdown",
      "source": [
        "The error that the model makes in its predictions is quantified. In this case, the metric used is the mean squared error (mse)."
      ],
      "metadata": {
        "id": "HJ4B7yNJZM2W"
      }
    },
    {
      "cell_type": "code",
      "source": [
        "# Error\n",
        "# ==============================================================================\n",
        "error_mse = mean_squared_error(\n",
        "                y_true = data_test['y'],\n",
        "                y_pred = predictions\n",
        "            )\n",
        "print(f\"Test error (mse): {error_mse}\")"
      ],
      "metadata": {
        "colab": {
          "base_uri": "https://localhost:8080/"
        },
        "id": "n4wKSyq0ZQMt",
        "outputId": "fbb8f3a6-52fb-4d5c-fb23-9c61cd7cab2c"
      },
      "execution_count": 22,
      "outputs": [
        {
          "output_type": "stream",
          "name": "stdout",
          "text": [
            "Test error (mse): 0.07326833976120374\n"
          ]
        }
      ]
    },
    {
      "cell_type": "markdown",
      "source": [
        "### Hyperparameter tuning"
      ],
      "metadata": {
        "id": "cUi9CcYhZZeg"
      }
    },
    {
      "cell_type": "markdown",
      "source": [
        "The trained ForecasterAutoreg uses a 6 lag time window and a Random Forest model with the default hyperparameters. However, there is no reason why these values are the most suitable.\n",
        "\n",
        "In order to identify the best combination of lags and hyperparameters, Skforecast has the grid_search_forecaster function. This function uses backtesting to compare the performance obtained with each configuration of the model. It is important not to include the test data in the search process to avoid overfitting problems.\n",
        "\n",
        "In this example, for the first fold, the initial 50% of the observations are the training data and, the next 10 steps represent the validation set. In successive folds, the training set will contain all data used in the previous fold and, the next 10 steps will be used as new validation data. This process will be repeated until the entire training data set is used."
      ],
      "metadata": {
        "id": "N2oDMCClZbY-"
      }
    },
    {
      "cell_type": "code",
      "source": [
        "# Hyperparameter Grid search\n",
        "# ==============================================================================\n",
        "forecaster = ForecasterAutoreg(\n",
        "                regressor = RandomForestRegressor(random_state=123),\n",
        "                lags      = 12 # This value will be replaced in the grid search\n",
        "             )\n",
        "\n",
        "# Regressor's hyperparameters\n",
        "param_grid = {'n_estimators': [100, 500],\n",
        "              'max_depth': [3, 5, 10]}\n",
        "\n",
        "# Lags used as predictors\n",
        "lags_grid = [10, 20]\n",
        "\n",
        "results_grid = grid_search_forecaster(\n",
        "                        forecaster         = forecaster,\n",
        "                        y                  = data_train['y'],\n",
        "                        param_grid         = param_grid,\n",
        "                        lags_grid          = lags_grid,\n",
        "                        steps              = 10,\n",
        "                        refit              = True,\n",
        "                        metric             = 'mean_squared_error',\n",
        "                        initial_train_size = int(len(data_train)*0.5),\n",
        "                        return_best        = True,\n",
        "                        verbose            = False\n",
        "                   )"
      ],
      "metadata": {
        "colab": {
          "base_uri": "https://localhost:8080/"
        },
        "id": "PrbCxb7MZlHP",
        "outputId": "0a64339d-56b2-4311-e140-b6ecc6ec03b8"
      },
      "execution_count": 23,
      "outputs": [
        {
          "output_type": "stream",
          "name": "stdout",
          "text": [
            "Number of models compared: 12\n"
          ]
        },
        {
          "output_type": "stream",
          "name": "stderr",
          "text": [
            "loop lags_grid:   0%|                                               | 0/2 [00:00<?, ?it/s]\n",
            "loop param_grid:   0%|                                              | 0/6 [00:00<?, ?it/s]\u001b[A\n",
            "loop param_grid:  17%|██████▎                               | 1/6 [00:02<00:14,  2.82s/it]\u001b[A\n",
            "loop param_grid:  33%|████████████▋                         | 2/6 [00:12<00:27,  6.77s/it]\u001b[A\n",
            "loop param_grid:  50%|███████████████████                   | 3/6 [00:14<00:13,  4.59s/it]\u001b[A\n",
            "loop param_grid:  67%|█████████████████████████▎            | 4/6 [00:24<00:13,  6.69s/it]\u001b[A\n",
            "loop param_grid:  83%|███████████████████████████████▋      | 5/6 [00:27<00:05,  5.42s/it]\u001b[A\n",
            "loop param_grid: 100%|██████████████████████████████████████| 6/6 [00:46<00:00,  9.91s/it]\u001b[A\n",
            "loop lags_grid:  50%|███████████████████▌                   | 1/2 [00:46<00:46, 46.06s/it]\n",
            "loop param_grid:   0%|                                              | 0/6 [00:00<?, ?it/s]\u001b[A\n",
            "loop param_grid:  17%|██████▎                               | 1/6 [00:02<00:10,  2.03s/it]\u001b[A\n",
            "loop param_grid:  33%|████████████▋                         | 2/6 [00:12<00:27,  6.76s/it]\u001b[A\n",
            "loop param_grid:  50%|███████████████████                   | 3/6 [00:14<00:13,  4.65s/it]\u001b[A\n",
            "loop param_grid:  67%|█████████████████████████▎            | 4/6 [00:24<00:14,  7.02s/it]\u001b[A\n",
            "loop param_grid:  83%|███████████████████████████████▋      | 5/6 [00:27<00:05,  5.29s/it]\u001b[A\n",
            "loop param_grid: 100%|██████████████████████████████████████| 6/6 [00:38<00:00,  7.23s/it]\u001b[A\n",
            "loop lags_grid: 100%|███████████████████████████████████████| 2/2 [01:24<00:00, 42.10s/it]\n"
          ]
        },
        {
          "output_type": "stream",
          "name": "stdout",
          "text": [
            "`Forecaster` refitted using the best-found lags and parameters, and the whole data set: \n",
            "  Lags: [ 1  2  3  4  5  6  7  8  9 10 11 12 13 14 15 16 17 18 19 20] \n",
            "  Parameters: {'max_depth': 3, 'n_estimators': 500}\n",
            "  Backtesting metric: 0.008055003809735634\n",
            "\n"
          ]
        }
      ]
    },
    {
      "cell_type": "code",
      "source": [
        "# Grid Search results\n",
        "# ==============================================================================\n",
        "results_grid"
      ],
      "metadata": {
        "colab": {
          "base_uri": "https://localhost:8080/",
          "height": 426
        },
        "id": "XQyV3zpzaJAL",
        "outputId": "4aaae039-9195-4747-ae0f-5f7af53b4444"
      },
      "execution_count": 24,
      "outputs": [
        {
          "output_type": "execute_result",
          "data": {
            "text/html": [
              "\n",
              "  <div id=\"df-a5ea7af6-d3aa-4391-8634-31abf8db315a\">\n",
              "    <div class=\"colab-df-container\">\n",
              "      <div>\n",
              "<style scoped>\n",
              "    .dataframe tbody tr th:only-of-type {\n",
              "        vertical-align: middle;\n",
              "    }\n",
              "\n",
              "    .dataframe tbody tr th {\n",
              "        vertical-align: top;\n",
              "    }\n",
              "\n",
              "    .dataframe thead th {\n",
              "        text-align: right;\n",
              "    }\n",
              "</style>\n",
              "<table border=\"1\" class=\"dataframe\">\n",
              "  <thead>\n",
              "    <tr style=\"text-align: right;\">\n",
              "      <th></th>\n",
              "      <th>lags</th>\n",
              "      <th>params</th>\n",
              "      <th>metric</th>\n",
              "      <th>max_depth</th>\n",
              "      <th>n_estimators</th>\n",
              "    </tr>\n",
              "  </thead>\n",
              "  <tbody>\n",
              "    <tr>\n",
              "      <th>7</th>\n",
              "      <td>[1, 2, 3, 4, 5, 6, 7, 8, 9, 10, 11, 12, 13, 14...</td>\n",
              "      <td>{'max_depth': 3, 'n_estimators': 500}</td>\n",
              "      <td>0.008055</td>\n",
              "      <td>3</td>\n",
              "      <td>500</td>\n",
              "    </tr>\n",
              "    <tr>\n",
              "      <th>6</th>\n",
              "      <td>[1, 2, 3, 4, 5, 6, 7, 8, 9, 10, 11, 12, 13, 14...</td>\n",
              "      <td>{'max_depth': 3, 'n_estimators': 100}</td>\n",
              "      <td>0.008220</td>\n",
              "      <td>3</td>\n",
              "      <td>100</td>\n",
              "    </tr>\n",
              "    <tr>\n",
              "      <th>8</th>\n",
              "      <td>[1, 2, 3, 4, 5, 6, 7, 8, 9, 10, 11, 12, 13, 14...</td>\n",
              "      <td>{'max_depth': 5, 'n_estimators': 100}</td>\n",
              "      <td>0.008326</td>\n",
              "      <td>5</td>\n",
              "      <td>100</td>\n",
              "    </tr>\n",
              "    <tr>\n",
              "      <th>9</th>\n",
              "      <td>[1, 2, 3, 4, 5, 6, 7, 8, 9, 10, 11, 12, 13, 14...</td>\n",
              "      <td>{'max_depth': 5, 'n_estimators': 500}</td>\n",
              "      <td>0.008330</td>\n",
              "      <td>5</td>\n",
              "      <td>500</td>\n",
              "    </tr>\n",
              "    <tr>\n",
              "      <th>11</th>\n",
              "      <td>[1, 2, 3, 4, 5, 6, 7, 8, 9, 10, 11, 12, 13, 14...</td>\n",
              "      <td>{'max_depth': 10, 'n_estimators': 500}</td>\n",
              "      <td>0.008336</td>\n",
              "      <td>10</td>\n",
              "      <td>500</td>\n",
              "    </tr>\n",
              "    <tr>\n",
              "      <th>10</th>\n",
              "      <td>[1, 2, 3, 4, 5, 6, 7, 8, 9, 10, 11, 12, 13, 14...</td>\n",
              "      <td>{'max_depth': 10, 'n_estimators': 100}</td>\n",
              "      <td>0.008359</td>\n",
              "      <td>10</td>\n",
              "      <td>100</td>\n",
              "    </tr>\n",
              "    <tr>\n",
              "      <th>5</th>\n",
              "      <td>[1, 2, 3, 4, 5, 6, 7, 8, 9, 10]</td>\n",
              "      <td>{'max_depth': 10, 'n_estimators': 500}</td>\n",
              "      <td>0.028249</td>\n",
              "      <td>10</td>\n",
              "      <td>500</td>\n",
              "    </tr>\n",
              "    <tr>\n",
              "      <th>3</th>\n",
              "      <td>[1, 2, 3, 4, 5, 6, 7, 8, 9, 10]</td>\n",
              "      <td>{'max_depth': 5, 'n_estimators': 500}</td>\n",
              "      <td>0.028386</td>\n",
              "      <td>5</td>\n",
              "      <td>500</td>\n",
              "    </tr>\n",
              "    <tr>\n",
              "      <th>1</th>\n",
              "      <td>[1, 2, 3, 4, 5, 6, 7, 8, 9, 10]</td>\n",
              "      <td>{'max_depth': 3, 'n_estimators': 500}</td>\n",
              "      <td>0.028830</td>\n",
              "      <td>3</td>\n",
              "      <td>500</td>\n",
              "    </tr>\n",
              "    <tr>\n",
              "      <th>0</th>\n",
              "      <td>[1, 2, 3, 4, 5, 6, 7, 8, 9, 10]</td>\n",
              "      <td>{'max_depth': 3, 'n_estimators': 100}</td>\n",
              "      <td>0.028883</td>\n",
              "      <td>3</td>\n",
              "      <td>100</td>\n",
              "    </tr>\n",
              "    <tr>\n",
              "      <th>4</th>\n",
              "      <td>[1, 2, 3, 4, 5, 6, 7, 8, 9, 10]</td>\n",
              "      <td>{'max_depth': 10, 'n_estimators': 100}</td>\n",
              "      <td>0.029012</td>\n",
              "      <td>10</td>\n",
              "      <td>100</td>\n",
              "    </tr>\n",
              "    <tr>\n",
              "      <th>2</th>\n",
              "      <td>[1, 2, 3, 4, 5, 6, 7, 8, 9, 10]</td>\n",
              "      <td>{'max_depth': 5, 'n_estimators': 100}</td>\n",
              "      <td>0.029949</td>\n",
              "      <td>5</td>\n",
              "      <td>100</td>\n",
              "    </tr>\n",
              "  </tbody>\n",
              "</table>\n",
              "</div>\n",
              "      <button class=\"colab-df-convert\" onclick=\"convertToInteractive('df-a5ea7af6-d3aa-4391-8634-31abf8db315a')\"\n",
              "              title=\"Convert this dataframe to an interactive table.\"\n",
              "              style=\"display:none;\">\n",
              "        \n",
              "  <svg xmlns=\"http://www.w3.org/2000/svg\" height=\"24px\"viewBox=\"0 0 24 24\"\n",
              "       width=\"24px\">\n",
              "    <path d=\"M0 0h24v24H0V0z\" fill=\"none\"/>\n",
              "    <path d=\"M18.56 5.44l.94 2.06.94-2.06 2.06-.94-2.06-.94-.94-2.06-.94 2.06-2.06.94zm-11 1L8.5 8.5l.94-2.06 2.06-.94-2.06-.94L8.5 2.5l-.94 2.06-2.06.94zm10 10l.94 2.06.94-2.06 2.06-.94-2.06-.94-.94-2.06-.94 2.06-2.06.94z\"/><path d=\"M17.41 7.96l-1.37-1.37c-.4-.4-.92-.59-1.43-.59-.52 0-1.04.2-1.43.59L10.3 9.45l-7.72 7.72c-.78.78-.78 2.05 0 2.83L4 21.41c.39.39.9.59 1.41.59.51 0 1.02-.2 1.41-.59l7.78-7.78 2.81-2.81c.8-.78.8-2.07 0-2.86zM5.41 20L4 18.59l7.72-7.72 1.47 1.35L5.41 20z\"/>\n",
              "  </svg>\n",
              "      </button>\n",
              "      \n",
              "  <style>\n",
              "    .colab-df-container {\n",
              "      display:flex;\n",
              "      flex-wrap:wrap;\n",
              "      gap: 12px;\n",
              "    }\n",
              "\n",
              "    .colab-df-convert {\n",
              "      background-color: #E8F0FE;\n",
              "      border: none;\n",
              "      border-radius: 50%;\n",
              "      cursor: pointer;\n",
              "      display: none;\n",
              "      fill: #1967D2;\n",
              "      height: 32px;\n",
              "      padding: 0 0 0 0;\n",
              "      width: 32px;\n",
              "    }\n",
              "\n",
              "    .colab-df-convert:hover {\n",
              "      background-color: #E2EBFA;\n",
              "      box-shadow: 0px 1px 2px rgba(60, 64, 67, 0.3), 0px 1px 3px 1px rgba(60, 64, 67, 0.15);\n",
              "      fill: #174EA6;\n",
              "    }\n",
              "\n",
              "    [theme=dark] .colab-df-convert {\n",
              "      background-color: #3B4455;\n",
              "      fill: #D2E3FC;\n",
              "    }\n",
              "\n",
              "    [theme=dark] .colab-df-convert:hover {\n",
              "      background-color: #434B5C;\n",
              "      box-shadow: 0px 1px 3px 1px rgba(0, 0, 0, 0.15);\n",
              "      filter: drop-shadow(0px 1px 2px rgba(0, 0, 0, 0.3));\n",
              "      fill: #FFFFFF;\n",
              "    }\n",
              "  </style>\n",
              "\n",
              "      <script>\n",
              "        const buttonEl =\n",
              "          document.querySelector('#df-a5ea7af6-d3aa-4391-8634-31abf8db315a button.colab-df-convert');\n",
              "        buttonEl.style.display =\n",
              "          google.colab.kernel.accessAllowed ? 'block' : 'none';\n",
              "\n",
              "        async function convertToInteractive(key) {\n",
              "          const element = document.querySelector('#df-a5ea7af6-d3aa-4391-8634-31abf8db315a');\n",
              "          const dataTable =\n",
              "            await google.colab.kernel.invokeFunction('convertToInteractive',\n",
              "                                                     [key], {});\n",
              "          if (!dataTable) return;\n",
              "\n",
              "          const docLinkHtml = 'Like what you see? Visit the ' +\n",
              "            '<a target=\"_blank\" href=https://colab.research.google.com/notebooks/data_table.ipynb>data table notebook</a>'\n",
              "            + ' to learn more about interactive tables.';\n",
              "          element.innerHTML = '';\n",
              "          dataTable['output_type'] = 'display_data';\n",
              "          await google.colab.output.renderOutput(dataTable, element);\n",
              "          const docLink = document.createElement('div');\n",
              "          docLink.innerHTML = docLinkHtml;\n",
              "          element.appendChild(docLink);\n",
              "        }\n",
              "      </script>\n",
              "    </div>\n",
              "  </div>\n",
              "  "
            ],
            "text/plain": [
              "                                                 lags  ... n_estimators\n",
              "7   [1, 2, 3, 4, 5, 6, 7, 8, 9, 10, 11, 12, 13, 14...  ...          500\n",
              "6   [1, 2, 3, 4, 5, 6, 7, 8, 9, 10, 11, 12, 13, 14...  ...          100\n",
              "8   [1, 2, 3, 4, 5, 6, 7, 8, 9, 10, 11, 12, 13, 14...  ...          100\n",
              "9   [1, 2, 3, 4, 5, 6, 7, 8, 9, 10, 11, 12, 13, 14...  ...          500\n",
              "11  [1, 2, 3, 4, 5, 6, 7, 8, 9, 10, 11, 12, 13, 14...  ...          500\n",
              "10  [1, 2, 3, 4, 5, 6, 7, 8, 9, 10, 11, 12, 13, 14...  ...          100\n",
              "5                     [1, 2, 3, 4, 5, 6, 7, 8, 9, 10]  ...          500\n",
              "3                     [1, 2, 3, 4, 5, 6, 7, 8, 9, 10]  ...          500\n",
              "1                     [1, 2, 3, 4, 5, 6, 7, 8, 9, 10]  ...          500\n",
              "0                     [1, 2, 3, 4, 5, 6, 7, 8, 9, 10]  ...          100\n",
              "4                     [1, 2, 3, 4, 5, 6, 7, 8, 9, 10]  ...          100\n",
              "2                     [1, 2, 3, 4, 5, 6, 7, 8, 9, 10]  ...          100\n",
              "\n",
              "[12 rows x 5 columns]"
            ]
          },
          "metadata": {},
          "execution_count": 24
        }
      ]
    },
    {
      "cell_type": "markdown",
      "source": [
        "The best results are obtained using a time window of 20 lags and a Random Forest set up of {'max_depth': 3, 'n_estimators': 500}."
      ],
      "metadata": {
        "id": "tglqV9tmaj7P"
      }
    },
    {
      "cell_type": "markdown",
      "source": [
        "### Final model"
      ],
      "metadata": {
        "id": "pX6GDTZsawx4"
      }
    },
    {
      "cell_type": "markdown",
      "source": [
        "Finally, a ForecasterAutoreg is trained with the optimal configuration found by validation. This step is not necessary if return_best = True is specified in the grid_search_forecaster() function."
      ],
      "metadata": {
        "id": "7peRLoH-ayuN"
      }
    },
    {
      "cell_type": "code",
      "source": [
        "# Create and train forecaster with the best hyperparameters\n",
        "# ==============================================================================\n",
        "regressor = RandomForestRegressor(max_depth=3, n_estimators=500, random_state=123)\n",
        "\n",
        "forecaster = ForecasterAutoreg(\n",
        "                regressor = regressor,\n",
        "                lags      = 20\n",
        "             )\n",
        "\n",
        "forecaster.fit(y=data_train['y'])"
      ],
      "metadata": {
        "id": "6W816-bzbFnz"
      },
      "execution_count": 25,
      "outputs": []
    },
    {
      "cell_type": "code",
      "source": [
        "# Predictions\n",
        "# ==============================================================================\n",
        "predictions = forecaster.predict(steps=steps)"
      ],
      "metadata": {
        "id": "jnpY-aZqbJsf"
      },
      "execution_count": 26,
      "outputs": []
    },
    {
      "cell_type": "code",
      "source": [
        "# Plot\n",
        "# ==============================================================================\n",
        "fig, ax = plt.subplots(figsize=(9, 4))\n",
        "data_train['y'].plot(ax=ax, label='train')\n",
        "data_test['y'].plot(ax=ax, label='test')\n",
        "predictions.plot(ax=ax, label='predictions')\n",
        "ax.legend();"
      ],
      "metadata": {
        "colab": {
          "base_uri": "https://localhost:8080/",
          "height": 279
        },
        "id": "xoLhzhJabLzR",
        "outputId": "3664e6e2-4ebd-4a3d-8223-399c4c4db799"
      },
      "execution_count": 27,
      "outputs": [
        {
          "output_type": "display_data",
          "data": {
            "image/png": "[encoded data removed]",
            "text/plain": [
              "<Figure size 648x288 with 1 Axes>"
            ]
          },
          "metadata": {
            "needs_background": "light"
          }
        }
      ]
    },
    {
      "cell_type": "code",
      "source": [
        "# Error de test\n",
        "# ==============================================================================\n",
        "error_mse = mean_squared_error(\n",
        "                y_true = data_test['y'],\n",
        "                y_pred = predictions\n",
        "            )\n",
        "print(f\"Test error (mse): {error_mse}\")"
      ],
      "metadata": {
        "colab": {
          "base_uri": "https://localhost:8080/"
        },
        "id": "5bPrXinubUFb",
        "outputId": "91478aa2-b044-4411-c0d3-fbc136781305"
      },
      "execution_count": 28,
      "outputs": [
        {
          "output_type": "stream",
          "name": "stdout",
          "text": [
            "Test error (mse): 0.004392699665157793\n"
          ]
        }
      ]
    },
    {
      "cell_type": "markdown",
      "source": [
        "The optimal combination of hyperparameters significantly reduces test error."
      ],
      "metadata": {
        "id": "Ym6ra1OubYVE"
      }
    },
    {
      "cell_type": "markdown",
      "source": [
        "### Backtesting\n"
      ],
      "metadata": {
        "id": "2C1QBQDybb2a"
      }
    },
    {
      "cell_type": "markdown",
      "source": [
        "The Backtesting process consists of simulating the behavior that the model would have had if it had been run on a recurring basis, for example, predicting at intervals of 3 years (36 months) a total of 9 years. This type of evaluation can be easily applied with the backtesting_forecaster() function.\n",
        "\n",
        "**Backtesting with refit**\n",
        "\n",
        "The model is trained each tieme before making the predictions, in this way, the model use all the information available so far. It is a variation of the standar cross-validation but, instead of making a random distribution of the observations, the training set is increased sequentially, maintaining the temporal order of the data.\n",
        "\n",
        "**Backtesting without refit**\n",
        "\n",
        "After an initial train, the model is used sequentially without updating it and following the temporal order of the data. This strategy has the advantage of being much faster since the model is only trained once. However, the model does not incorporate the latest information available so it may lose predictive capacity over time."
      ],
      "metadata": {
        "id": "79h0r1Jobikx"
      }
    },
    {
      "cell_type": "code",
      "source": [
        "# Backtesting\n",
        "# ==============================================================================\n",
        "n_test = 36*3 # The last 9 years are separated for the backtest\n",
        "data_train = data[:-n_test]\n",
        "data_test  = data[-n_test:]\n",
        "\n",
        "metric, predictions_backtest = backtesting_forecaster(\n",
        "                                    forecaster = forecaster,\n",
        "                                    y          = data['y'],\n",
        "                                    initial_train_size = len(data_train),\n",
        "                                    steps      = steps,\n",
        "                                    metric     = 'mean_squared_error',\n",
        "                                    refit      = True,\n",
        "                                    verbose    = True\n",
        "                               )\n",
        "\n",
        "print(f\"Backtest error: {metric}\")"
      ],
      "metadata": {
        "colab": {
          "base_uri": "https://localhost:8080/"
        },
        "id": "J3RC2g-XcPBA",
        "outputId": "dbeafe51-b5a3-4af6-c45b-5704c6b535d8"
      },
      "execution_count": 29,
      "outputs": [
        {
          "output_type": "stream",
          "name": "stdout",
          "text": [
            "Information of backtesting process\n",
            "----------------------------------\n",
            "Number of observations used for initial training: 87\n",
            "Number of observations used for backtesting: 108\n",
            "    Number of folds: 3\n",
            "    Number of steps per fold: 36\n",
            "\n",
            "Data partition in fold: 0\n",
            "    Training:   1992-04-01 00:00:00 -- 1999-06-01 00:00:00\n",
            "    Validation: 1999-07-01 00:00:00 -- 2002-06-01 00:00:00\n",
            "Data partition in fold: 1\n",
            "    Training:   1992-04-01 00:00:00 -- 2002-06-01 00:00:00\n",
            "    Validation: 2002-07-01 00:00:00 -- 2005-06-01 00:00:00\n",
            "Data partition in fold: 2\n",
            "    Training:   1992-04-01 00:00:00 -- 2005-06-01 00:00:00\n",
            "    Validation: 2005-07-01 00:00:00 -- 2008-06-01 00:00:00\n",
            "\n",
            "Backtest error: [0.01057898]\n"
          ]
        }
      ]
    },
    {
      "cell_type": "code",
      "source": [
        "fig, ax = plt.subplots(figsize=(9, 4))\n",
        "data_test['y'].plot(ax=ax, label='test')\n",
        "predictions_backtest.plot(ax=ax, label='predictions')\n",
        "ax.legend();"
      ],
      "metadata": {
        "colab": {
          "base_uri": "https://localhost:8080/",
          "height": 279
        },
        "id": "dyIYMJ9CchEg",
        "outputId": "829ae175-1219-4b62-d374-50e268bd92df"
      },
      "execution_count": 30,
      "outputs": [
        {
          "output_type": "display_data",
          "data": {
            "image/png": "[encoded data removed]",
            "text/plain": [
              "<Figure size 648x288 with 1 Axes>"
            ]
          },
          "metadata": {
            "needs_background": "light"
          }
        }
      ]
    },
    {
      "cell_type": "markdown",
      "source": [
        "### Predictors importance"
      ],
      "metadata": {
        "id": "Ebi8QolXcpbz"
      }
    },
    {
      "cell_type": "markdown",
      "source": [
        "Since the ForecasterAutoreg object uses Scikit-learn models, the importance of predictors can be accessed once trained. When the regressor used is a LinearRegression(), Lasso() or Ridge(), the coefficients of the model reflect their importance, obtained with the get_coef() method. In GradientBoostingRegressor() or RandomForestRegressor() regressors, the importance of predictors is based on impurity reduction and is accessible through the get_feature_importance() method. In both cases, the values returned are sorted as the lags order."
      ],
      "metadata": {
        "id": "eXczK3fycqgp"
      }
    },
    {
      "cell_type": "code",
      "source": [
        "# Predictors importance\n",
        "# ==============================================================================\n",
        "forecaster.get_feature_importance()"
      ],
      "metadata": {
        "colab": {
          "base_uri": "https://localhost:8080/",
          "height": 677
        },
        "id": "g23kre4QdI79",
        "outputId": "b1fce6d7-9b48-4c57-973f-e518ffd8fabe"
      },
      "execution_count": 31,
      "outputs": [
        {
          "output_type": "execute_result",
          "data": {
            "text/html": [
              "\n",
              "  <div id=\"df-6f2d9e57-545c-47e8-92d8-debc9ae00755\">\n",
              "    <div class=\"colab-df-container\">\n",
              "      <div>\n",
              "<style scoped>\n",
              "    .dataframe tbody tr th:only-of-type {\n",
              "        vertical-align: middle;\n",
              "    }\n",
              "\n",
              "    .dataframe tbody tr th {\n",
              "        vertical-align: top;\n",
              "    }\n",
              "\n",
              "    .dataframe thead th {\n",
              "        text-align: right;\n",
              "    }\n",
              "</style>\n",
              "<table border=\"1\" class=\"dataframe\">\n",
              "  <thead>\n",
              "    <tr style=\"text-align: right;\">\n",
              "      <th></th>\n",
              "      <th>feature</th>\n",
              "      <th>importance</th>\n",
              "    </tr>\n",
              "  </thead>\n",
              "  <tbody>\n",
              "    <tr>\n",
              "      <th>0</th>\n",
              "      <td>lag_1</td>\n",
              "      <td>0.009412</td>\n",
              "    </tr>\n",
              "    <tr>\n",
              "      <th>1</th>\n",
              "      <td>lag_2</td>\n",
              "      <td>0.087268</td>\n",
              "    </tr>\n",
              "    <tr>\n",
              "      <th>2</th>\n",
              "      <td>lag_3</td>\n",
              "      <td>0.012754</td>\n",
              "    </tr>\n",
              "    <tr>\n",
              "      <th>3</th>\n",
              "      <td>lag_4</td>\n",
              "      <td>0.001446</td>\n",
              "    </tr>\n",
              "    <tr>\n",
              "      <th>4</th>\n",
              "      <td>lag_5</td>\n",
              "      <td>0.000401</td>\n",
              "    </tr>\n",
              "    <tr>\n",
              "      <th>5</th>\n",
              "      <td>lag_6</td>\n",
              "      <td>0.001386</td>\n",
              "    </tr>\n",
              "    <tr>\n",
              "      <th>6</th>\n",
              "      <td>lag_7</td>\n",
              "      <td>0.001273</td>\n",
              "    </tr>\n",
              "    <tr>\n",
              "      <th>7</th>\n",
              "      <td>lag_8</td>\n",
              "      <td>0.006926</td>\n",
              "    </tr>\n",
              "    <tr>\n",
              "      <th>8</th>\n",
              "      <td>lag_9</td>\n",
              "      <td>0.005839</td>\n",
              "    </tr>\n",
              "    <tr>\n",
              "      <th>9</th>\n",
              "      <td>lag_10</td>\n",
              "      <td>0.013076</td>\n",
              "    </tr>\n",
              "    <tr>\n",
              "      <th>10</th>\n",
              "      <td>lag_11</td>\n",
              "      <td>0.008868</td>\n",
              "    </tr>\n",
              "    <tr>\n",
              "      <th>11</th>\n",
              "      <td>lag_12</td>\n",
              "      <td>0.816041</td>\n",
              "    </tr>\n",
              "    <tr>\n",
              "      <th>12</th>\n",
              "      <td>lag_13</td>\n",
              "      <td>0.001266</td>\n",
              "    </tr>\n",
              "    <tr>\n",
              "      <th>13</th>\n",
              "      <td>lag_14</td>\n",
              "      <td>0.019411</td>\n",
              "    </tr>\n",
              "    <tr>\n",
              "      <th>14</th>\n",
              "      <td>lag_15</td>\n",
              "      <td>0.008746</td>\n",
              "    </tr>\n",
              "    <tr>\n",
              "      <th>15</th>\n",
              "      <td>lag_16</td>\n",
              "      <td>0.001766</td>\n",
              "    </tr>\n",
              "    <tr>\n",
              "      <th>16</th>\n",
              "      <td>lag_17</td>\n",
              "      <td>0.000578</td>\n",
              "    </tr>\n",
              "    <tr>\n",
              "      <th>17</th>\n",
              "      <td>lag_18</td>\n",
              "      <td>0.000329</td>\n",
              "    </tr>\n",
              "    <tr>\n",
              "      <th>18</th>\n",
              "      <td>lag_19</td>\n",
              "      <td>0.000853</td>\n",
              "    </tr>\n",
              "    <tr>\n",
              "      <th>19</th>\n",
              "      <td>lag_20</td>\n",
              "      <td>0.002359</td>\n",
              "    </tr>\n",
              "  </tbody>\n",
              "</table>\n",
              "</div>\n",
              "      <button class=\"colab-df-convert\" onclick=\"convertToInteractive('df-6f2d9e57-545c-47e8-92d8-debc9ae00755')\"\n",
              "              title=\"Convert this dataframe to an interactive table.\"\n",
              "              style=\"display:none;\">\n",
              "        \n",
              "  <svg xmlns=\"http://www.w3.org/2000/svg\" height=\"24px\"viewBox=\"0 0 24 24\"\n",
              "       width=\"24px\">\n",
              "    <path d=\"M0 0h24v24H0V0z\" fill=\"none\"/>\n",
              "    <path d=\"M18.56 5.44l.94 2.06.94-2.06 2.06-.94-2.06-.94-.94-2.06-.94 2.06-2.06.94zm-11 1L8.5 8.5l.94-2.06 2.06-.94-2.06-.94L8.5 2.5l-.94 2.06-2.06.94zm10 10l.94 2.06.94-2.06 2.06-.94-2.06-.94-.94-2.06-.94 2.06-2.06.94z\"/><path d=\"M17.41 7.96l-1.37-1.37c-.4-.4-.92-.59-1.43-.59-.52 0-1.04.2-1.43.59L10.3 9.45l-7.72 7.72c-.78.78-.78 2.05 0 2.83L4 21.41c.39.39.9.59 1.41.59.51 0 1.02-.2 1.41-.59l7.78-7.78 2.81-2.81c.8-.78.8-2.07 0-2.86zM5.41 20L4 18.59l7.72-7.72 1.47 1.35L5.41 20z\"/>\n",
              "  </svg>\n",
              "      </button>\n",
              "      \n",
              "  <style>\n",
              "    .colab-df-container {\n",
              "      display:flex;\n",
              "      flex-wrap:wrap;\n",
              "      gap: 12px;\n",
              "    }\n",
              "\n",
              "    .colab-df-convert {\n",
              "      background-color: #E8F0FE;\n",
              "      border: none;\n",
              "      border-radius: 50%;\n",
              "      cursor: pointer;\n",
              "      display: none;\n",
              "      fill: #1967D2;\n",
              "      height: 32px;\n",
              "      padding: 0 0 0 0;\n",
              "      width: 32px;\n",
              "    }\n",
              "\n",
              "    .colab-df-convert:hover {\n",
              "      background-color: #E2EBFA;\n",
              "      box-shadow: 0px 1px 2px rgba(60, 64, 67, 0.3), 0px 1px 3px 1px rgba(60, 64, 67, 0.15);\n",
              "      fill: #174EA6;\n",
              "    }\n",
              "\n",
              "    [theme=dark] .colab-df-convert {\n",
              "      background-color: #3B4455;\n",
              "      fill: #D2E3FC;\n",
              "    }\n",
              "\n",
              "    [theme=dark] .colab-df-convert:hover {\n",
              "      background-color: #434B5C;\n",
              "      box-shadow: 0px 1px 3px 1px rgba(0, 0, 0, 0.15);\n",
              "      filter: drop-shadow(0px 1px 2px rgba(0, 0, 0, 0.3));\n",
              "      fill: #FFFFFF;\n",
              "    }\n",
              "  </style>\n",
              "\n",
              "      <script>\n",
              "        const buttonEl =\n",
              "          document.querySelector('#df-6f2d9e57-545c-47e8-92d8-debc9ae00755 button.colab-df-convert');\n",
              "        buttonEl.style.display =\n",
              "          google.colab.kernel.accessAllowed ? 'block' : 'none';\n",
              "\n",
              "        async function convertToInteractive(key) {\n",
              "          const element = document.querySelector('#df-6f2d9e57-545c-47e8-92d8-debc9ae00755');\n",
              "          const dataTable =\n",
              "            await google.colab.kernel.invokeFunction('convertToInteractive',\n",
              "                                                     [key], {});\n",
              "          if (!dataTable) return;\n",
              "\n",
              "          const docLinkHtml = 'Like what you see? Visit the ' +\n",
              "            '<a target=\"_blank\" href=https://colab.research.google.com/notebooks/data_table.ipynb>data table notebook</a>'\n",
              "            + ' to learn more about interactive tables.';\n",
              "          element.innerHTML = '';\n",
              "          dataTable['output_type'] = 'display_data';\n",
              "          await google.colab.output.renderOutput(dataTable, element);\n",
              "          const docLink = document.createElement('div');\n",
              "          docLink.innerHTML = docLinkHtml;\n",
              "          element.appendChild(docLink);\n",
              "        }\n",
              "      </script>\n",
              "    </div>\n",
              "  </div>\n",
              "  "
            ],
            "text/plain": [
              "   feature  importance\n",
              "0    lag_1    0.009412\n",
              "1    lag_2    0.087268\n",
              "2    lag_3    0.012754\n",
              "3    lag_4    0.001446\n",
              "4    lag_5    0.000401\n",
              "5    lag_6    0.001386\n",
              "6    lag_7    0.001273\n",
              "7    lag_8    0.006926\n",
              "8    lag_9    0.005839\n",
              "9   lag_10    0.013076\n",
              "10  lag_11    0.008868\n",
              "11  lag_12    0.816041\n",
              "12  lag_13    0.001266\n",
              "13  lag_14    0.019411\n",
              "14  lag_15    0.008746\n",
              "15  lag_16    0.001766\n",
              "16  lag_17    0.000578\n",
              "17  lag_18    0.000329\n",
              "18  lag_19    0.000853\n",
              "19  lag_20    0.002359"
            ]
          },
          "metadata": {},
          "execution_count": 31
        }
      ]
    },
    {
      "cell_type": "markdown",
      "source": [
        "### Recursive autoregressive forecasting with exogenous variables"
      ],
      "metadata": {
        "id": "un_G57sfdRxg"
      }
    },
    {
      "cell_type": "markdown",
      "source": [
        "In the previous example, only lags of the predicted variable itself have been used as predictors. In certain scenarios, it is possible to have information about other variables, whose future value is known, so could serve as additional predictors in the model.\n",
        "\n",
        "Continuing with the previous example, a new variable whose behavior is correlated with the modeled time series and it is wanted to incorporate as a predictor is simulated. The same applies to multiple exogenous variables."
      ],
      "metadata": {
        "id": "LnxuowGxdToI"
      }
    },
    {
      "cell_type": "markdown",
      "source": [
        "### Get Data"
      ],
      "metadata": {
        "id": "2jAbKRzDdd8J"
      }
    },
    {
      "cell_type": "code",
      "source": [
        "# Data download\n",
        "# ==============================================================================\n",
        "url = 'https://raw.githubusercontent.com/JoaquinAmatRodrigo/skforecast/master/data/h2o_exog.csv'\n",
        "data = pd.read_csv(url, sep=',')"
      ],
      "metadata": {
        "id": "em5-lScQdgyJ"
      },
      "execution_count": 32,
      "outputs": []
    },
    {
      "cell_type": "markdown",
      "source": [
        "### Data Prep"
      ],
      "metadata": {
        "id": "PLoNjGBadl0A"
      }
    },
    {
      "cell_type": "code",
      "source": [
        "# Data preparation\n",
        "# ==============================================================================\n",
        "data = data.rename(columns={'fecha': 'date'})\n",
        "data['date'] = pd.to_datetime(data['date'], format='%Y/%m/%d')\n",
        "data = data.set_index('date')\n",
        "data = data.asfreq('MS')\n",
        "data = data.sort_index()\n",
        "\n",
        "fig, ax = plt.subplots(figsize=(9, 4))\n",
        "data['y'].plot(ax=ax, label='y')\n",
        "data['exog_1'].plot(ax=ax, label='exogenous variable')\n",
        "ax.legend();"
      ],
      "metadata": {
        "colab": {
          "base_uri": "https://localhost:8080/",
          "height": 279
        },
        "id": "Oq8FoIQBdnsL",
        "outputId": "75e95c37-aa08-4995-90b2-ded80d7ddab9"
      },
      "execution_count": 33,
      "outputs": [
        {
          "output_type": "display_data",
          "data": {
            "image/png": "[encoded data removed]",
            "text/plain": [
              "<Figure size 648x288 with 1 Axes>"
            ]
          },
          "metadata": {
            "needs_background": "light"
          }
        }
      ]
    },
    {
      "cell_type": "code",
      "source": [
        "# Split data into train-test\n",
        "# ==============================================================================\n",
        "steps = 36\n",
        "data_train = data[:-steps]\n",
        "data_test  = data[-steps:]"
      ],
      "metadata": {
        "id": "uZACpPRXdx56"
      },
      "execution_count": 34,
      "outputs": []
    },
    {
      "cell_type": "markdown",
      "source": [
        "### ForecasterAutoreg"
      ],
      "metadata": {
        "id": "S5bC5FuEeODM"
      }
    },
    {
      "cell_type": "code",
      "source": [
        "# Create and train forecaster\n",
        "# ==============================================================================\n",
        "forecaster = ForecasterAutoreg(\n",
        "                regressor = RandomForestRegressor(random_state=123),\n",
        "                lags      = 8\n",
        "             )\n",
        "\n",
        "forecaster.fit(y=data_train['y'], exog=data_train['exog_1'])"
      ],
      "metadata": {
        "id": "6L_1Tu8ueRjP"
      },
      "execution_count": 35,
      "outputs": []
    },
    {
      "cell_type": "markdown",
      "source": [
        "### Predictions"
      ],
      "metadata": {
        "id": "oZcYVUa4ebXI"
      }
    },
    {
      "cell_type": "markdown",
      "source": [
        "If the ForecasterAutoreg is trained with an exogenous variable, the value of this variable must be passed to predict(). It is only applicable to scenarios in which future information on the exogenous variable is available."
      ],
      "metadata": {
        "id": "dcgLaGT1eog_"
      }
    },
    {
      "cell_type": "code",
      "source": [
        "# Predictions\n",
        "# ==============================================================================\n",
        "predictions = forecaster.predict(steps=steps, exog=data_test['exog_1'])"
      ],
      "metadata": {
        "id": "dVkUXlhLeplC"
      },
      "execution_count": 36,
      "outputs": []
    },
    {
      "cell_type": "code",
      "source": [
        "# Plot\n",
        "# ==============================================================================\n",
        "fig, ax=plt.subplots(figsize=(9, 4))\n",
        "data_train['y'].plot(ax=ax, label='train')\n",
        "data_test['y'].plot(ax=ax, label='test')\n",
        "predictions.plot(ax=ax, label='predictions')\n",
        "ax.legend();"
      ],
      "metadata": {
        "colab": {
          "base_uri": "https://localhost:8080/",
          "height": 279
        },
        "id": "tJW_iUjle4Lw",
        "outputId": "fbd2fd47-9731-4ea0-b595-ce682fa58eb6"
      },
      "execution_count": 37,
      "outputs": [
        {
          "output_type": "display_data",
          "data": {
            "image/png": "[encoded data removed]",
            "text/plain": [
              "<Figure size 648x288 with 1 Axes>"
            ]
          },
          "metadata": {
            "needs_background": "light"
          }
        }
      ]
    },
    {
      "cell_type": "markdown",
      "source": [
        "### Prediction error in the test set"
      ],
      "metadata": {
        "id": "D5CVzc5Ge-n9"
      }
    },
    {
      "cell_type": "code",
      "source": [
        "# Error\n",
        "# ==============================================================================\n",
        "error_mse = mean_squared_error(\n",
        "                y_true = data_test['y'],\n",
        "                y_pred = predictions\n",
        "            )\n",
        "print(f\"Test error (mse): {error_mse}\")"
      ],
      "metadata": {
        "colab": {
          "base_uri": "https://localhost:8080/"
        },
        "id": "YEs0tiz_fTU0",
        "outputId": "b6e9867e-6bb3-4497-f77b-d8d5593026a2"
      },
      "execution_count": 38,
      "outputs": [
        {
          "output_type": "stream",
          "name": "stdout",
          "text": [
            "Test error (mse): 0.03989087922533575\n"
          ]
        }
      ]
    },
    {
      "cell_type": "markdown",
      "source": [
        "### Hyperparameter tuning"
      ],
      "metadata": {
        "id": "zgZRQVfufZQ5"
      }
    },
    {
      "cell_type": "code",
      "source": [
        "# Hyperparameter Grid search\n",
        "# ==============================================================================\n",
        "forecaster = ForecasterAutoreg(\n",
        "                regressor = RandomForestRegressor(random_state=123),\n",
        "                lags      = 12 # This value will be replaced in the grid search\n",
        "             )\n",
        "\n",
        "param_grid = {'n_estimators': [50, 100, 500],\n",
        "              'max_depth': [3, 5, 10]}\n",
        "\n",
        "lags_grid = [5, 12, 20]\n",
        "\n",
        "results_grid = grid_search_forecaster(\n",
        "                        forecaster  = forecaster,\n",
        "                        y           = data_train['y'],\n",
        "                        exog        = data_train['exog_1'],\n",
        "                        param_grid  = param_grid,\n",
        "                        lags_grid   = lags_grid,\n",
        "                        steps       = 10,\n",
        "                        refit       = True,\n",
        "                        metric      = 'mean_squared_error',\n",
        "                        initial_train_size = int(len(data_train)*0.5),\n",
        "                        return_best = True,\n",
        "                        verbose     = False\n",
        "                    )"
      ],
      "metadata": {
        "colab": {
          "base_uri": "https://localhost:8080/"
        },
        "id": "aJ_vwdXHfeVB",
        "outputId": "051d2006-fa48-41c6-b89a-e82f6a95bf46"
      },
      "execution_count": 39,
      "outputs": [
        {
          "output_type": "stream",
          "name": "stdout",
          "text": [
            "Number of models compared: 27\n"
          ]
        },
        {
          "output_type": "stream",
          "name": "stderr",
          "text": [
            "loop lags_grid:   0%|                                               | 0/3 [00:00<?, ?it/s]\n",
            "loop param_grid:   0%|                                              | 0/9 [00:00<?, ?it/s]\u001b[A\n",
            "loop param_grid:  11%|████▏                                 | 1/9 [00:01<00:12,  1.55s/it]\u001b[A\n",
            "loop param_grid:  22%|████████▍                             | 2/9 [00:03<00:12,  1.81s/it]\u001b[A\n",
            "loop param_grid:  33%|████████████▋                         | 3/9 [00:12<00:31,  5.24s/it]\u001b[A\n",
            "loop param_grid:  44%|████████████████▉                     | 4/9 [00:13<00:17,  3.57s/it]\u001b[A\n",
            "loop param_grid:  56%|█████████████████████                 | 5/9 [00:15<00:12,  3.01s/it]\u001b[A\n",
            "loop param_grid:  67%|█████████████████████████▎            | 6/9 [00:26<00:17,  5.74s/it]\u001b[A\n",
            "loop param_grid:  78%|█████████████████████████████▌        | 7/9 [00:28<00:08,  4.22s/it]\u001b[A\n",
            "loop param_grid:  89%|█████████████████████████████████▊    | 8/9 [00:30<00:03,  3.53s/it]\u001b[A\n",
            "loop param_grid: 100%|██████████████████████████████████████| 9/9 [00:39<00:00,  5.49s/it]\u001b[A\n",
            "loop lags_grid:  33%|█████████████                          | 1/3 [00:39<01:19, 39.88s/it]\n",
            "loop param_grid:   0%|                                              | 0/9 [00:00<?, ?it/s]\u001b[A\n",
            "loop param_grid:  11%|████▏                                 | 1/9 [00:01<00:08,  1.03s/it]\u001b[A\n",
            "loop param_grid:  22%|████████▍                             | 2/9 [00:03<00:11,  1.62s/it]\u001b[A\n",
            "loop param_grid:  33%|████████████▋                         | 3/9 [00:14<00:35,  5.97s/it]\u001b[A\n",
            "loop param_grid:  44%|████████████████▉                     | 4/9 [00:15<00:20,  4.03s/it]\u001b[A\n",
            "loop param_grid:  56%|█████████████████████                 | 5/9 [00:17<00:13,  3.35s/it]\u001b[A\n",
            "loop param_grid:  67%|█████████████████████████▎            | 6/9 [00:28<00:18,  6.05s/it]\u001b[A\n",
            "loop param_grid:  78%|█████████████████████████████▌        | 7/9 [00:29<00:08,  4.45s/it]\u001b[A\n",
            "loop param_grid:  89%|█████████████████████████████████▊    | 8/9 [00:32<00:03,  3.74s/it]\u001b[A\n",
            "loop param_grid: 100%|██████████████████████████████████████| 9/9 [00:43<00:00,  6.23s/it]\u001b[A\n",
            "loop lags_grid:  67%|██████████████████████████             | 2/3 [01:23<00:42, 42.20s/it]\n",
            "loop param_grid:   0%|                                              | 0/9 [00:00<?, ?it/s]\u001b[A\n",
            "loop param_grid:  11%|████▏                                 | 1/9 [00:01<00:08,  1.08s/it]\u001b[A\n",
            "loop param_grid:  22%|████████▍                             | 2/9 [00:03<00:12,  1.79s/it]\u001b[A\n",
            "loop param_grid:  33%|████████████▋                         | 3/9 [00:14<00:36,  6.12s/it]\u001b[A\n",
            "loop param_grid:  44%|████████████████▉                     | 4/9 [00:15<00:20,  4.17s/it]\u001b[A\n",
            "loop param_grid:  56%|█████████████████████                 | 5/9 [00:18<00:13,  3.48s/it]\u001b[A\n",
            "loop param_grid:  67%|█████████████████████████▎            | 6/9 [00:30<00:19,  6.52s/it]\u001b[A\n",
            "loop param_grid:  78%|█████████████████████████████▌        | 7/9 [00:31<00:09,  4.78s/it]\u001b[A\n",
            "loop param_grid:  89%|█████████████████████████████████▊    | 8/9 [00:33<00:03,  3.98s/it]\u001b[A\n",
            "loop param_grid: 100%|██████████████████████████████████████| 9/9 [00:44<00:00,  6.14s/it]\u001b[A\n",
            "loop lags_grid: 100%|███████████████████████████████████████| 3/3 [02:08<00:00, 42.86s/it]"
          ]
        },
        {
          "output_type": "stream",
          "name": "stdout",
          "text": [
            "`Forecaster` refitted using the best-found lags and parameters, and the whole data set: \n",
            "  Lags: [ 1  2  3  4  5  6  7  8  9 10 11 12] \n",
            "  Parameters: {'max_depth': 3, 'n_estimators': 50}\n",
            "  Backtesting metric: 0.007814854588045633\n",
            "\n"
          ]
        },
        {
          "output_type": "stream",
          "name": "stderr",
          "text": [
            "\n"
          ]
        }
      ]
    },
    {
      "cell_type": "code",
      "source": [
        "# Grid Search results\n",
        "# ==============================================================================\n",
        "results_grid.head()"
      ],
      "metadata": {
        "colab": {
          "base_uri": "https://localhost:8080/",
          "height": 206
        },
        "id": "Uo6G7zhLfjA8",
        "outputId": "eca8e74d-f21a-4b0f-dc95-ec3d35c8043b"
      },
      "execution_count": 40,
      "outputs": [
        {
          "output_type": "execute_result",
          "data": {
            "text/html": [
              "\n",
              "  <div id=\"df-811c7c2a-7823-4cbf-882c-e50002ecba73\">\n",
              "    <div class=\"colab-df-container\">\n",
              "      <div>\n",
              "<style scoped>\n",
              "    .dataframe tbody tr th:only-of-type {\n",
              "        vertical-align: middle;\n",
              "    }\n",
              "\n",
              "    .dataframe tbody tr th {\n",
              "        vertical-align: top;\n",
              "    }\n",
              "\n",
              "    .dataframe thead th {\n",
              "        text-align: right;\n",
              "    }\n",
              "</style>\n",
              "<table border=\"1\" class=\"dataframe\">\n",
              "  <thead>\n",
              "    <tr style=\"text-align: right;\">\n",
              "      <th></th>\n",
              "      <th>lags</th>\n",
              "      <th>params</th>\n",
              "      <th>metric</th>\n",
              "      <th>max_depth</th>\n",
              "      <th>n_estimators</th>\n",
              "    </tr>\n",
              "  </thead>\n",
              "  <tbody>\n",
              "    <tr>\n",
              "      <th>9</th>\n",
              "      <td>[1, 2, 3, 4, 5, 6, 7, 8, 9, 10, 11, 12]</td>\n",
              "      <td>{'max_depth': 3, 'n_estimators': 50}</td>\n",
              "      <td>0.007815</td>\n",
              "      <td>3</td>\n",
              "      <td>50</td>\n",
              "    </tr>\n",
              "    <tr>\n",
              "      <th>12</th>\n",
              "      <td>[1, 2, 3, 4, 5, 6, 7, 8, 9, 10, 11, 12]</td>\n",
              "      <td>{'max_depth': 5, 'n_estimators': 50}</td>\n",
              "      <td>0.007940</td>\n",
              "      <td>5</td>\n",
              "      <td>50</td>\n",
              "    </tr>\n",
              "    <tr>\n",
              "      <th>20</th>\n",
              "      <td>[1, 2, 3, 4, 5, 6, 7, 8, 9, 10, 11, 12, 13, 14...</td>\n",
              "      <td>{'max_depth': 3, 'n_estimators': 500}</td>\n",
              "      <td>0.007944</td>\n",
              "      <td>3</td>\n",
              "      <td>500</td>\n",
              "    </tr>\n",
              "    <tr>\n",
              "      <th>19</th>\n",
              "      <td>[1, 2, 3, 4, 5, 6, 7, 8, 9, 10, 11, 12, 13, 14...</td>\n",
              "      <td>{'max_depth': 3, 'n_estimators': 100}</td>\n",
              "      <td>0.008057</td>\n",
              "      <td>3</td>\n",
              "      <td>100</td>\n",
              "    </tr>\n",
              "    <tr>\n",
              "      <th>25</th>\n",
              "      <td>[1, 2, 3, 4, 5, 6, 7, 8, 9, 10, 11, 12, 13, 14...</td>\n",
              "      <td>{'max_depth': 10, 'n_estimators': 100}</td>\n",
              "      <td>0.008106</td>\n",
              "      <td>10</td>\n",
              "      <td>100</td>\n",
              "    </tr>\n",
              "  </tbody>\n",
              "</table>\n",
              "</div>\n",
              "      <button class=\"colab-df-convert\" onclick=\"convertToInteractive('df-811c7c2a-7823-4cbf-882c-e50002ecba73')\"\n",
              "              title=\"Convert this dataframe to an interactive table.\"\n",
              "              style=\"display:none;\">\n",
              "        \n",
              "  <svg xmlns=\"http://www.w3.org/2000/svg\" height=\"24px\"viewBox=\"0 0 24 24\"\n",
              "       width=\"24px\">\n",
              "    <path d=\"M0 0h24v24H0V0z\" fill=\"none\"/>\n",
              "    <path d=\"M18.56 5.44l.94 2.06.94-2.06 2.06-.94-2.06-.94-.94-2.06-.94 2.06-2.06.94zm-11 1L8.5 8.5l.94-2.06 2.06-.94-2.06-.94L8.5 2.5l-.94 2.06-2.06.94zm10 10l.94 2.06.94-2.06 2.06-.94-2.06-.94-.94-2.06-.94 2.06-2.06.94z\"/><path d=\"M17.41 7.96l-1.37-1.37c-.4-.4-.92-.59-1.43-.59-.52 0-1.04.2-1.43.59L10.3 9.45l-7.72 7.72c-.78.78-.78 2.05 0 2.83L4 21.41c.39.39.9.59 1.41.59.51 0 1.02-.2 1.41-.59l7.78-7.78 2.81-2.81c.8-.78.8-2.07 0-2.86zM5.41 20L4 18.59l7.72-7.72 1.47 1.35L5.41 20z\"/>\n",
              "  </svg>\n",
              "      </button>\n",
              "      \n",
              "  <style>\n",
              "    .colab-df-container {\n",
              "      display:flex;\n",
              "      flex-wrap:wrap;\n",
              "      gap: 12px;\n",
              "    }\n",
              "\n",
              "    .colab-df-convert {\n",
              "      background-color: #E8F0FE;\n",
              "      border: none;\n",
              "      border-radius: 50%;\n",
              "      cursor: pointer;\n",
              "      display: none;\n",
              "      fill: #1967D2;\n",
              "      height: 32px;\n",
              "      padding: 0 0 0 0;\n",
              "      width: 32px;\n",
              "    }\n",
              "\n",
              "    .colab-df-convert:hover {\n",
              "      background-color: #E2EBFA;\n",
              "      box-shadow: 0px 1px 2px rgba(60, 64, 67, 0.3), 0px 1px 3px 1px rgba(60, 64, 67, 0.15);\n",
              "      fill: #174EA6;\n",
              "    }\n",
              "\n",
              "    [theme=dark] .colab-df-convert {\n",
              "      background-color: #3B4455;\n",
              "      fill: #D2E3FC;\n",
              "    }\n",
              "\n",
              "    [theme=dark] .colab-df-convert:hover {\n",
              "      background-color: #434B5C;\n",
              "      box-shadow: 0px 1px 3px 1px rgba(0, 0, 0, 0.15);\n",
              "      filter: drop-shadow(0px 1px 2px rgba(0, 0, 0, 0.3));\n",
              "      fill: #FFFFFF;\n",
              "    }\n",
              "  </style>\n",
              "\n",
              "      <script>\n",
              "        const buttonEl =\n",
              "          document.querySelector('#df-811c7c2a-7823-4cbf-882c-e50002ecba73 button.colab-df-convert');\n",
              "        buttonEl.style.display =\n",
              "          google.colab.kernel.accessAllowed ? 'block' : 'none';\n",
              "\n",
              "        async function convertToInteractive(key) {\n",
              "          const element = document.querySelector('#df-811c7c2a-7823-4cbf-882c-e50002ecba73');\n",
              "          const dataTable =\n",
              "            await google.colab.kernel.invokeFunction('convertToInteractive',\n",
              "                                                     [key], {});\n",
              "          if (!dataTable) return;\n",
              "\n",
              "          const docLinkHtml = 'Like what you see? Visit the ' +\n",
              "            '<a target=\"_blank\" href=https://colab.research.google.com/notebooks/data_table.ipynb>data table notebook</a>'\n",
              "            + ' to learn more about interactive tables.';\n",
              "          element.innerHTML = '';\n",
              "          dataTable['output_type'] = 'display_data';\n",
              "          await google.colab.output.renderOutput(dataTable, element);\n",
              "          const docLink = document.createElement('div');\n",
              "          docLink.innerHTML = docLinkHtml;\n",
              "          element.appendChild(docLink);\n",
              "        }\n",
              "      </script>\n",
              "    </div>\n",
              "  </div>\n",
              "  "
            ],
            "text/plain": [
              "                                                 lags  ... n_estimators\n",
              "9             [1, 2, 3, 4, 5, 6, 7, 8, 9, 10, 11, 12]  ...           50\n",
              "12            [1, 2, 3, 4, 5, 6, 7, 8, 9, 10, 11, 12]  ...           50\n",
              "20  [1, 2, 3, 4, 5, 6, 7, 8, 9, 10, 11, 12, 13, 14...  ...          500\n",
              "19  [1, 2, 3, 4, 5, 6, 7, 8, 9, 10, 11, 12, 13, 14...  ...          100\n",
              "25  [1, 2, 3, 4, 5, 6, 7, 8, 9, 10, 11, 12, 13, 14...  ...          100\n",
              "\n",
              "[5 rows x 5 columns]"
            ]
          },
          "metadata": {},
          "execution_count": 40
        }
      ]
    },
    {
      "cell_type": "markdown",
      "source": [
        "The best results are obtained using a time window of 12 lags and a Random Forest set up of {'max_depth': 3, 'n_estimators': 50}."
      ],
      "metadata": {
        "id": "UTHI5Vi9fqgC"
      }
    },
    {
      "cell_type": "markdown",
      "source": [
        "### Final model"
      ],
      "metadata": {
        "id": "5sEhB6Bhftr_"
      }
    },
    {
      "cell_type": "markdown",
      "source": [
        "Setting return_best = True in grid_search_forecaster(), after the search, the ForecasterAutoreg object has been modified and trained with the best configuration found."
      ],
      "metadata": {
        "id": "1-GVO4yRfw0E"
      }
    },
    {
      "cell_type": "code",
      "source": [
        "# Predictions\n",
        "# ==============================================================================\n",
        "predictions = forecaster.predict(steps=steps, exog=data_test['exog_1'])\n",
        "\n",
        "# Plot\n",
        "# ==============================================================================\n",
        "fig, ax=plt.subplots(figsize=(9, 4))\n",
        "data_train['y'].plot(ax=ax, label='train')\n",
        "data_test['y'].plot(ax=ax, label='test')\n",
        "predictions.plot(ax=ax, label='predictions')\n",
        "ax.legend();"
      ],
      "metadata": {
        "colab": {
          "base_uri": "https://localhost:8080/",
          "height": 279
        },
        "id": "gqdAG5Xlfz-9",
        "outputId": "7bc0f093-7b39-46ea-b19a-ac8f02cc5b2a"
      },
      "execution_count": 41,
      "outputs": [
        {
          "output_type": "display_data",
          "data": {
            "image/png": "[encoded data removed]",
            "text/plain": [
              "<Figure size 648x288 with 1 Axes>"
            ]
          },
          "metadata": {
            "needs_background": "light"
          }
        }
      ]
    },
    {
      "cell_type": "code",
      "source": [
        "# Error\n",
        "# ==============================================================================\n",
        "error_mse = mean_squared_error(y_true = data_test['y'], y_pred = predictions)\n",
        "print(f\"Test error (mse) {error_mse}\")"
      ],
      "metadata": {
        "colab": {
          "base_uri": "https://localhost:8080/"
        },
        "id": "1Du_HdPRf4Hk",
        "outputId": "d440ade4-89aa-4172-aada-29d377bf513f"
      },
      "execution_count": 42,
      "outputs": [
        {
          "output_type": "stream",
          "name": "stdout",
          "text": [
            "Test error (mse) 0.003965444559763559\n"
          ]
        }
      ]
    }
  ]
}