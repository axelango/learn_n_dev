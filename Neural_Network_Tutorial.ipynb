{
  "nbformat": 4,
  "nbformat_minor": 0,
  "metadata": {
    "colab": {
      "name": "Neural_Network_Tutorial.ipynb",
      "provenance": [],
      "collapsed_sections": [],
      "authorship_tag": "ABX9TyMfqypeMDYV/95ILKGuUUU+",
      "include_colab_link": true
    },
    "kernelspec": {
      "name": "python3",
      "display_name": "Python 3"
    },
    "language_info": {
      "name": "python"
    }
  },
  "cells": [
    {
      "cell_type": "markdown",
      "metadata": {
        "id": "view-in-github",
        "colab_type": "text"
      },
      "source": [
        "<a href=\"https://colab.research.google.com/github/jgamel/learn_n_dev/blob/python_machine_learning/Neural_Network_Tutorial.ipynb\" target=\"_parent\"><img src=\"https://colab.research.google.com/assets/colab-badge.svg\" alt=\"Open In Colab\"/></a>"
      ]
    },
    {
      "cell_type": "markdown",
      "source": [
        "# Neural Network:  High Level Tutorial \n",
        "Three main classes of neural networks:  MLP, CNN, and RNN Neural Networks"
      ],
      "metadata": {
        "id": "uec90fYdW-kZ"
      }
    },
    {
      "cell_type": "markdown",
      "source": [
        "After reading this post, you will know:\n",
        "\n",
        "* Which types of neural networks to focus on when working on a predictive modeling problem.\n",
        "* When to use, not use, and possible try using an MLP, CNN, and RNN on a project.\n",
        "* To consider the use of hybrid models and to have a clear idea of your project goals before selecting a model."
      ],
      "metadata": {
        "id": "xFJF1zjsXe_w"
      }
    },
    {
      "cell_type": "markdown",
      "source": [
        "### What Neural Networks to Focus on?"
      ],
      "metadata": {
        "id": "p2m9nmsmXwAg"
      }
    },
    {
      "cell_type": "markdown",
      "source": [
        "There are three classes of artificial neural networks to focus on in general. They are:\n",
        "\n",
        "* Multilayer Perceptrons (MLPs)\n",
        "* Convolutional Neural Networks (CNNs)\n",
        "* Recurrent Neural Networks (RNNs)\n",
        "\n",
        "These three classes of networks provide a lot of flexibility and have proven themselves over decades to be useful and reliable in a wide range of problems. They also have many subtypes to help specialize them to the quirks of different framings of prediction problems and different datasets."
      ],
      "metadata": {
        "id": "E272CurQYFvN"
      }
    },
    {
      "cell_type": "markdown",
      "source": [
        "### Multilayer Perceptrons (MLPs)"
      ],
      "metadata": {
        "id": "1qdCN-saaDwB"
      }
    },
    {
      "cell_type": "markdown",
      "source": [
        "Multilayer Perceptrons, or MLPs for short, are the classical type of neural network.\n",
        "\n",
        "They are comprised of one or more layers of neurons. Data is fed to the input layer, there may be one or more hidden layers providing levels of abstraction, and predictions are made on the output layer, also called the visible layer.\n",
        "\n"
      ],
      "metadata": {
        "id": "ZTpXZF8EaFdS"
      }
    },
    {
      "cell_type": "markdown",
      "source": [
        "MLPs are suitable for classification prediction problems where inputs are assigned a class or label.\n",
        "\n",
        "They are also suitable for regression prediction problems where a real-valued quantity is predicted given a set of inputs. Data is often provided in a tabular format, such as you would see in a CSV file or a spreadsheet.\n",
        "\n"
      ],
      "metadata": {
        "id": "bhR6PrRYaRgh"
      }
    },
    {
      "cell_type": "markdown",
      "source": [
        "Use MLPs For:\n",
        "\n",
        "* Tabular datasets\n",
        "* Classification prediction problems\n",
        "* Regression prediction problems"
      ],
      "metadata": {
        "id": "YMmj1uMp_BiC"
      }
    },
    {
      "cell_type": "markdown",
      "source": [
        "They are very flexible and can be used generally to learn a mapping from inputs to outputs.\n",
        "\n",
        "This flexibility allows them to be applied to other types of data. For example, the pixels of an image can be reduced down to one long row of data and fed into a MLP. The words of a document can also be reduced to one long row of data and fed to a MLP. Even the lag observations for a time series prediction problem can be reduced to a long row of data and fed to a MLP.\n",
        "\n",
        "As such, if your data is in a form other than a tabular dataset, such as an image, document, or time series, I would recommend at least testing an MLP on your problem. The results can be used as a baseline point of comparison to confirm that other models that may appear better suited add value."
      ],
      "metadata": {
        "id": "a7PmUndE_EvM"
      }
    },
    {
      "cell_type": "markdown",
      "source": [
        "Try MLPs On:\n",
        "\n",
        "* Image data\n",
        "* Text Data\n",
        "* Time series data\n",
        "* Other types of data"
      ],
      "metadata": {
        "id": "h7dLtuy2_SUE"
      }
    },
    {
      "cell_type": "markdown",
      "source": [
        "### Convolutional Neural Networks"
      ],
      "metadata": {
        "id": "afDQEOQA_grd"
      }
    },
    {
      "cell_type": "markdown",
      "source": [
        "Convolutional Neural Networks, or CNNs, were designed to map image data to an output variable.\n",
        "\n",
        "They have proven so effective that they are the go-to method for any type of prediction problem involving image data as an input.\n",
        "\n",
        "The benefit of using CNNs is their ability to develop an internal representation of a two-dimensional image. This allows the model to learn position and scale in variant structures in the data, which is important when working with images."
      ],
      "metadata": {
        "id": "5t1QCyQL_iML"
      }
    },
    {
      "cell_type": "markdown",
      "source": [
        ""
      ],
      "metadata": {
        "id": "5gbpNmQ2A6ZV"
      }
    },
    {
      "cell_type": "markdown",
      "source": [
        "Use CNNs For:\n",
        "\n",
        "* Image data\n",
        "* Classification prediction problems\n",
        "* Regression prediction problems"
      ],
      "metadata": {
        "id": "ZBIkf5wMA6cD"
      }
    },
    {
      "cell_type": "markdown",
      "source": [
        "More generally, CNNs work well with data that has a spatial relationship.\n",
        "\n",
        "The CNN input is traditionally two-dimensional, a field or matrix, but can also be changed to be one-dimensional, allowing it to develop an internal representation of a one-dimensional sequence.\n",
        "\n",
        "This allows the CNN to be used more generally on other types of data that has a spatial relationship. For example, there is an order relationship between words in a document of text. There is an ordered relationship in the time steps of a time series.\n",
        "\n",
        "Although not specifically developed for non-image data, CNNs achieve state-of-the-art results on problems such as document classification used in sentiment analysis and related problems."
      ],
      "metadata": {
        "id": "sfuv24u4A-5q"
      }
    },
    {
      "cell_type": "markdown",
      "source": [
        "Try CNNs On:\n",
        "\n",
        "* Text data\n",
        "* Time series data\n",
        "* Sequence input data"
      ],
      "metadata": {
        "id": "phjJNI2uCCMl"
      }
    },
    {
      "cell_type": "markdown",
      "source": [
        "### Recurrent Neural Networks"
      ],
      "metadata": {
        "id": "o16gZc3KCHZ1"
      }
    },
    {
      "cell_type": "markdown",
      "source": [
        "Recurrent Neural Networks, or RNNs, were designed to work with sequence prediction problems.\n",
        "\n",
        "Sequence prediction problems come in many forms and are best described by the types of inputs and outputs supported."
      ],
      "metadata": {
        "id": "6SyXpfpACwp1"
      }
    },
    {
      "cell_type": "markdown",
      "source": [
        "Some examples of sequence prediction problems include:\n",
        "\n",
        "* One-to-Many: An observation as input mapped to a sequence with multiple steps as an output.\n",
        "* Many-to-One: A sequence of multiple steps as input mapped to class or quantity prediction.\n",
        "* Many-to-Many: A sequence of multiple steps as input mapped to a sequence with multiple steps as output."
      ],
      "metadata": {
        "id": "eDNipjatC1GZ"
      }
    },
    {
      "cell_type": "markdown",
      "source": [
        "The Many-to-Many problem is often referred to as sequence-to-sequence, or seq2seq for short.\n",
        "\n",
        "Recurrent neural networks were traditionally difficult to train.\n",
        "\n",
        "The Long Short-Term Memory, or LSTM, network is perhaps the most successful RNN because it overcomes the problems of training a recurrent network and in turn has been used on a wide range of applications.\n",
        "\n",
        "RNNs in general and LSTMs in particular have received the most success when working with sequences of words and paragraphs, generally called natural language processing.\n",
        "\n",
        "This includes both sequences of text and sequences of spoken language represented as a time series. They are also used as generative models that require a sequence output, not only with text, but on applications such as generating handwriting."
      ],
      "metadata": {
        "id": "G7Gi9YObDXoP"
      }
    },
    {
      "cell_type": "markdown",
      "source": [
        "Use RNNs For:\n",
        "\n",
        "* Text data\n",
        "* Speech data\n",
        "* Classification prediction problems\n",
        "* Regression prediction problems\n",
        "* Generative models\n",
        "\n",
        "Recurrent neural networks are not appropriate for tabular datasets as you would see in a CSV file or spreadsheet. They are also not appropriate for image data input."
      ],
      "metadata": {
        "id": "gFEwroTzEux1"
      }
    },
    {
      "cell_type": "markdown",
      "source": [
        "Don’t Use RNNs For:\n",
        "\n",
        "* Tabular data\n",
        "* Image data\n",
        "\n",
        "RNNs and LSTMs have been tested on time series forecasting problems, but the results have been poor, to say the least. Autoregression methods, even linear methods often perform much better. LSTMs are often outperformed by simple MLPs applied on the same data."
      ],
      "metadata": {
        "id": "FknMIj1NE5WW"
      }
    },
    {
      "cell_type": "markdown",
      "source": [
        "Perhaps Try RNNs on:\n",
        "\n",
        "* Time series data"
      ],
      "metadata": {
        "id": "m5zYc5_fFCGu"
      }
    },
    {
      "cell_type": "markdown",
      "source": [
        "### Hybrid Network Models"
      ],
      "metadata": {
        "id": "eWPnwFo-FLr-"
      }
    },
    {
      "cell_type": "markdown",
      "source": [
        "A CNN or RNN model is rarely used alone.\n",
        "\n",
        "These types of networks are used as layers in a broader model that also has one or more MLP layers. Technically, these are a hybrid type of neural network architecture.\n",
        "\n",
        "Perhaps the most interesting work comes from the mixing of the different types of networks together into hybrid models.\n",
        "\n",
        "For example, consider a model that uses a stack of layers with a CNN on the input, LSTM in the middle, and MLP at the output. A model like this can read a sequence of image inputs, such as a video, and generate a prediction. This is called a CNN LSTM architecture.\n",
        "\n",
        "The network types can also be stacked in specific architectures to unlock new capabilities, such as the reusable image recognition models that use very deep CNN and MLP networks that can be added to a new LSTM model and used for captioning photos. Also, the encoder-decoder LSTM networks that can be used to have input and output sequences of differing lengths.\n",
        "\n",
        "It is important to think clearly about what you and your stakeholders require from the project first, then seek out a network architecture (or develop one) that meets your specific project needs."
      ],
      "metadata": {
        "id": "3gMWtirMFPK2"
      }
    }
  ]
}