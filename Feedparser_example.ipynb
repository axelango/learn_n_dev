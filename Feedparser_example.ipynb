{
  "nbformat": 4,
  "nbformat_minor": 0,
  "metadata": {
    "colab": {
      "name": "Feedparser_example.ipynb",
      "provenance": [],
      "collapsed_sections": [],
      "authorship_tag": "ABX9TyPRdFam5LFPQgRgYlJIqxoU",
      "include_colab_link": true
    },
    "kernelspec": {
      "name": "python3",
      "display_name": "Python 3"
    },
    "language_info": {
      "name": "python"
    }
  },
  "cells": [
    {
      "cell_type": "markdown",
      "metadata": {
        "id": "view-in-github",
        "colab_type": "text"
      },
      "source": [
        "<a href=\"https://colab.research.google.com/github/jgamel/learn_n_dev/blob/python_web_scrapping/Feedparser_example.ipynb\" target=\"_parent\"><img src=\"https://colab.research.google.com/assets/colab-badge.svg\" alt=\"Open In Colab\"/></a>"
      ]
    },
    {
      "cell_type": "markdown",
      "source": [
        "# Feedparser"
      ],
      "metadata": {
        "id": "yuX0mvVneja1"
      }
    },
    {
      "cell_type": "markdown",
      "source": [
        "The FeedParser Python library runs on Python3.6 or later and can be used to parse syndicated feeds. In short, it can parse RSS or Atom feeds and provide you with the information in the form of easy-to-understand data points. It acts as a news scraper and we can use it to mine news data from RSS feeds of different news websites."
      ],
      "metadata": {
        "id": "f8D2pqcwewH_"
      }
    },
    {
      "cell_type": "markdown",
      "source": [
        "By default, you would need to first find the RSS URL for feedparser to parse. However, in this article, we will use feedparser in conjunction with the feedsearch Python library that can be used to find RSS URLs by scraping the URL of a news website."
      ],
      "metadata": {
        "id": "5j448G4pe02R"
      }
    },
    {
      "cell_type": "markdown",
      "source": [
        "Mount Drives:"
      ],
      "metadata": {
        "id": "36A-9EaoEiKI"
      }
    },
    {
      "cell_type": "code",
      "execution_count": null,
      "metadata": {
        "colab": {
          "base_uri": "https://localhost:8080/"
        },
        "id": "Mn7R4QVQdlVL",
        "outputId": "dad641a4-1625-4409-a03b-60f1f7fd1ba2"
      },
      "outputs": [
        {
          "output_type": "stream",
          "name": "stdout",
          "text": [
            "Mounted at /content/gdrive\n"
          ]
        }
      ],
      "source": [
        "from google.colab import drive\n",
        "drive.mount('/content/gdrive', force_remount=True)"
      ]
    },
    {
      "cell_type": "code",
      "source": [
        "import sys\n",
        "sys.path.append('/content/gdrive/My Drive/Colab Notebooks')"
      ],
      "metadata": {
        "id": "yOz7_saxdvAr"
      },
      "execution_count": null,
      "outputs": []
    },
    {
      "cell_type": "markdown",
      "source": [
        "Examples:"
      ],
      "metadata": {
        "id": "kollzchkElNm"
      }
    },
    {
      "cell_type": "markdown",
      "source": [
        "### Example 1"
      ],
      "metadata": {
        "id": "lgZvqicnEnOY"
      }
    },
    {
      "cell_type": "code",
      "source": [
        "from feedsearch import search\n",
        "feeds = search('nytimes.com')\n",
        "urls = [f.url for f in feeds]\n",
        "\n",
        "print(urls)\n",
        "\n"
      ],
      "metadata": {
        "colab": {
          "base_uri": "https://localhost:8080/"
        },
        "id": "DTWh2f0Ad05T",
        "outputId": "6c4c288e-8703-4457-ea1b-8d0c6f5e82c5"
      },
      "execution_count": null,
      "outputs": [
        {
          "output_type": "stream",
          "name": "stdout",
          "text": [
            "['https://rss.nytimes.com/services/xml/rss/nyt/HomePage.xml']\n"
          ]
        }
      ]
    },
    {
      "cell_type": "code",
      "source": [
        "import feedparser\n",
        "import time\n",
        "if len(urls) > 0:\n",
        "  news_feed = feedparser.parse(urls[0])\n",
        "  entries = news_feed[\"entries\"]\n",
        "  count=0\n",
        "  for entry in entries:\n",
        "    count = count + 1\n",
        "    print(\n",
        "     str(count) + \". \" + entry[\"title\"] \\\n",
        "     + \"\\n\\t\\t\" + entry[\"published\"] \\\n",
        "     + \"\\n\\t\\t\" + entry[\"link\"]\\\n",
        "     + \"\\n\\n\"\n",
        "     )\n",
        "    time.sleep(0.33)"
      ],
      "metadata": {
        "colab": {
          "base_uri": "https://localhost:8080/"
        },
        "id": "vT2a1yWCd1RN",
        "outputId": "19cf91d7-5cd8-439b-e24c-814d9ab094f4"
      },
      "execution_count": null,
      "outputs": [
        {
          "output_type": "stream",
          "name": "stdout",
          "text": [
            "1. Putin Raises Tensions by Putting Nuclear Forces on Alert\n",
            "\t\tSun, 27 Feb 2022 20:28:09 +0000\n",
            "\t\thttps://www.nytimes.com/live/2022/02/27/world/russia-ukraine-war\n",
            "\n",
            "\n",
            "2. Ties That Bind Putin and Xi Tested by Russia's Ukraine Invasion\n",
            "\t\tSun, 27 Feb 2022 16:13:11 +0000\n",
            "\t\thttps://www.nytimes.com/2022/02/27/world/asia/putin-xi-jinping-russia-china.html\n",
            "\n",
            "\n",
            "3. Once Sleepy and Picturesque, Ukrainian Villages Mobilize for War\n",
            "\t\tSun, 27 Feb 2022 20:03:27 +0000\n",
            "\t\thttps://www.nytimes.com/2022/02/27/world/europe/ukraine-villages-russia-war.html\n",
            "\n",
            "\n",
            "4. How Zelensky Rallied Ukrainians, and the World, Against Putin\n",
            "\t\tSun, 27 Feb 2022 18:55:45 +0000\n",
            "\t\thttps://www.nytimes.com/2022/02/27/world/europe/volodymyr-zelensky-ukraine-russia.html\n",
            "\n",
            "\n",
            "5. Putin Seems to Sideline Advisers on Ukraine, Taking a Political Risk\n",
            "\t\tSun, 27 Feb 2022 14:29:55 +0000\n",
            "\t\thttps://www.nytimes.com/2022/02/26/world/europe/putin-ukraine-advisers.html\n",
            "\n",
            "\n",
            "6. Why the Chinese Internet Is Cheering Russia’s Invasion\n",
            "\t\tSun, 27 Feb 2022 13:16:47 +0000\n",
            "\t\thttps://www.nytimes.com/2022/02/27/business/china-russia-ukraine-invasion.html\n",
            "\n",
            "\n",
            "7. FIFA Proposes Penalties for Russia but No Ban, Yet\n",
            "\t\tSun, 27 Feb 2022 20:17:17 +0000\n",
            "\t\thttps://www.nytimes.com/2022/02/27/sports/soccer/fifa-russia-poland-ukraine.html\n",
            "\n",
            "\n",
            "8. Experts warn that the end of the Omicron surge is not the end of the pandemic.\n",
            "\t\tSun, 27 Feb 2022 21:04:21 +0000\n",
            "\t\thttps://www.nytimes.com/live/2022/02/27/world/covid-19-tests-cases-vaccine\n",
            "\n",
            "\n",
            "9. Supreme Court Will Hear Biggest Climate Change Case in a Decade\n",
            "\t\tSun, 27 Feb 2022 19:45:13 +0000\n",
            "\t\thttps://www.nytimes.com/2022/02/27/climate/supreme-court-will-hear-biggest-climate-change-case-in-a-decade.html\n",
            "\n",
            "\n",
            "10. In Wake of Floyd’s Death, Police Departments Aim to Encourage Officer Intervention\n",
            "\t\tSun, 27 Feb 2022 10:00:09 +0000\n",
            "\t\thttps://www.nytimes.com/2022/02/27/us/police-intervention-minneapolis-george-floyd.html\n",
            "\n",
            "\n",
            "11. How Lopsided New District Lines Deepen the U.S. Partisan Divide\n",
            "\t\tSun, 27 Feb 2022 18:00:10 +0000\n",
            "\t\thttps://www.nytimes.com/2022/02/27/us/politics/redistricting-partisan-divide.html\n",
            "\n",
            "\n",
            "12. Will Trump’s Nod Be Enough for Texas Attorney General Ken Paxton?\n",
            "\t\tSun, 27 Feb 2022 08:00:08 +0000\n",
            "\t\thttps://www.nytimes.com/2022/02/27/us/texas-primary-ken-paxton-republican-ag.html\n",
            "\n",
            "\n",
            "13. At CPAC, Trump Misleads About Biden, a Russian Pipeline and Gas Prices\n",
            "\t\tSun, 27 Feb 2022 05:38:43 +0000\n",
            "\t\thttps://www.nytimes.com/2022/02/27/us/politics/trump-speech-cpac-fact-check.html\n",
            "\n",
            "\n",
            "14. Corporations Raise Prices as Consumers Spend ‘With a Vengeance’\n",
            "\t\tSun, 27 Feb 2022 19:57:31 +0000\n",
            "\t\thttps://www.nytimes.com/2022/02/27/business/economy/price-increases-inflation.html\n",
            "\n",
            "\n",
            "15. Is There Such a Thing as Black Thought?\n",
            "\t\tThu, 24 Feb 2022 23:15:05 +0000\n",
            "\t\thttps://www.nytimes.com/2022/02/24/magazine/black-thought-black-no-more.html\n",
            "\n",
            "\n",
            "16. When Her Husband Said He Wanted to Die, Amy Bloom Listened\n",
            "\t\tSun, 27 Feb 2022 10:00:08 +0000\n",
            "\t\thttps://www.nytimes.com/2022/02/27/books/in-love-amy-bloom.html\n",
            "\n",
            "\n",
            "17. 'Saturday Night Live,' Hosted by John Mulaney, Pays Tribute to Ukraine\n",
            "\t\tSun, 27 Feb 2022 16:39:47 +0000\n",
            "\t\thttps://www.nytimes.com/2022/02/27/arts/television/snl-ukraine-john-mulaney.html\n",
            "\n",
            "\n",
            "18. We Are All Living in Vladimir Putin’s World Now\n",
            "\t\tSun, 27 Feb 2022 15:24:39 +0000\n",
            "\t\thttps://www.nytimes.com/2022/02/27/opinion/putin-russia-ukraine-europe.html\n",
            "\n",
            "\n",
            "19. Mr. Putin, the War in Ukraine Is Not in My Name\n",
            "\t\tSun, 27 Feb 2022 16:00:07 +0000\n",
            "\t\thttps://www.nytimes.com/2022/02/27/opinion/putin-ukraine-russia-language.html\n",
            "\n",
            "\n",
            "20. Rash Putin Razes Ukraine\n",
            "\t\tSat, 26 Feb 2022 16:00:10 +0000\n",
            "\t\thttps://www.nytimes.com/2022/02/26/opinion/rash-putin-razes-ukraine.html\n",
            "\n",
            "\n",
            "21. Barack Obama: What Trayvon Martin Taught Us, 10 Years Later\n",
            "\t\tSun, 27 Feb 2022 00:39:18 +0000\n",
            "\t\thttps://www.nytimes.com/2022/02/26/opinion/trayvon-martin-obama.html\n",
            "\n",
            "\n",
            "22. Vladimir Putin’s Clash of Civilizations\n",
            "\t\tSat, 26 Feb 2022 20:00:07 +0000\n",
            "\t\thttps://www.nytimes.com/2022/02/26/opinion/vladimir-putin-clash-of-civilizations.html\n",
            "\n",
            "\n",
            "23. A New Poll Shows What Americans Think About “Critical Race Theory”\n",
            "\t\tSat, 26 Feb 2022 15:27:19 +0000\n",
            "\t\thttps://www.nytimes.com/2022/02/26/opinion/critical-race-theory-survey.html\n",
            "\n",
            "\n",
            "24. My Family in Ukraine Never Wanted Russia to ‘Liberate’ Them\n",
            "\t\tSat, 26 Feb 2022 16:00:05 +0000\n",
            "\t\thttps://www.nytimes.com/2022/02/26/opinion/ukraine-russia-invasion-family.html\n",
            "\n",
            "\n",
            "25. Putin Has Made Sure the World Will Never Be the Same\n",
            "\t\tSat, 26 Feb 2022 11:42:28 +0000\n",
            "\t\thttps://www.nytimes.com/2022/02/25/opinion/putin-russia-ukraine.html\n",
            "\n",
            "\n",
            "26. Relearning to Walk, a Personal History\n",
            "\t\tSun, 27 Feb 2022 16:04:54 +0000\n",
            "\t\thttps://www.nytimes.com/2022/02/27/opinion/relearning-to-walk-a-personal-history.html\n",
            "\n",
            "\n",
            "27. Disabled Ancestry Should Be Embraced With Pride\n",
            "\t\tSun, 27 Feb 2022 16:00:05 +0000\n",
            "\t\thttps://www.nytimes.com/2022/02/27/opinion/disabled-ancestry-family-pride.html\n",
            "\n",
            "\n",
            "28. The Supreme Court Confronts Climate Change\n",
            "\t\tSat, 26 Feb 2022 16:00:09 +0000\n",
            "\t\thttps://www.nytimes.com/2022/02/26/opinion/climate-change-supreme-court.html\n",
            "\n",
            "\n",
            "29. 4 Times Opinion Writers Analyze Russia’s Attack on Ukraine\n",
            "\t\tFri, 25 Feb 2022 17:29:27 +0000\n",
            "\t\thttps://www.nytimes.com/2022/02/24/opinion/ukraine-putin-russia-times-opinion-writers.html\n",
            "\n",
            "\n",
            "30. Young Ukrainians, We Want to Hear From You\n",
            "\t\tFri, 25 Feb 2022 16:41:02 +0000\n",
            "\t\thttps://www.nytimes.com/2022/02/25/opinion/young-ukrainians-russian-invasion.html\n",
            "\n",
            "\n",
            "31. Why Was a Catholic Hospital Willing to Gamble With My Life?\n",
            "\t\tSat, 26 Feb 2022 02:44:24 +0000\n",
            "\t\thttps://www.nytimes.com/2022/02/25/opinion/sunday/roe-dobbs-miscarriage-abortion.html\n",
            "\n",
            "\n",
            "32. Russia’s Ukraine Invasion Is Terrifying\n",
            "\t\tSat, 26 Feb 2022 02:38:56 +0000\n",
            "\t\thttps://www.nytimes.com/2022/02/25/opinion/ukraine-russia-kyiv.html\n",
            "\n",
            "\n",
            "33. Robert Kennedy Jr.'s Crusade Against Covid Vaccine Anguishes Family\n",
            "\t\tSat, 26 Feb 2022 18:52:46 +0000\n",
            "\t\thttps://www.nytimes.com/2022/02/26/us/robert-kennedy-covid-vaccine.html\n",
            "\n",
            "\n",
            "34. The Best Exercises to Prevent Lower Back Pain\n",
            "\t\tFri, 25 Feb 2022 17:02:38 +0000\n",
            "\t\thttps://www.nytimes.com/2022/02/25/well/move/back-pain-exercises.html\n",
            "\n",
            "\n",
            "35. C.D.C. Guidelines Suggest 70 Percent of U.S. Could Stop Wearing Masks\n",
            "\t\tSat, 26 Feb 2022 16:16:08 +0000\n",
            "\t\thttps://www.nytimes.com/2022/02/25/health/cdc-mask-guidance.html\n",
            "\n",
            "\n",
            "36. Putin Faces Sanctions, but His Assets Remain an Enigma\n",
            "\t\tSat, 26 Feb 2022 17:06:19 +0000\n",
            "\t\thttps://www.nytimes.com/2022/02/26/world/europe/putin-sanctions-money-assets.html\n",
            "\n",
            "\n",
            "37. Putin’s Aggression Leaves His Right-Wing Fan Club Squirming\n",
            "\t\tSun, 27 Feb 2022 12:07:48 +0000\n",
            "\t\thttps://www.nytimes.com/2022/02/26/world/europe/russia-putin-matteo-salvini-marine-le-pen.html\n",
            "\n",
            "\n",
            "38. Putin vs. Democracy\n",
            "\t\tSun, 27 Feb 2022 12:16:43 +0000\n",
            "\t\thttps://www.nytimes.com/2022/02/27/briefing/putin-democracy-ukraine.html\n",
            "\n",
            "\n",
            "39. The Sunday Read: ‘The Battle for the World’s Most Powerful Cyberweapon’\n",
            "\t\tSun, 27 Feb 2022 11:00:07 +0000\n",
            "\t\thttps://www.nytimes.com/2022/02/27/podcasts/the-daily/cyberweapons-pegasus-sunday-read.html\n",
            "\n",
            "\n",
            "40. Flight Attendants in the Pandemic and Wellness Diets for Pets: The Week in Narrated Articles\n",
            "\t\tFri, 25 Feb 2022 13:31:24 +0000\n",
            "\t\thttps://www.nytimes.com/2022/02/25/podcasts/flight-attendants-pandemic-pets-narrated-articles.html\n",
            "\n",
            "\n",
            "41. The Morning at Night: a Virtual Event on Covid, Love and Moving Forward\n",
            "\t\tWed, 23 Feb 2022 16:30:44 +0000\n",
            "\t\thttps://www.nytimes.com/2022/02/01/briefing/covid-david-leonhardt-event.html\n",
            "\n",
            "\n",
            "42. Barr Rebukes Trump as ‘Off the Rails’ in New Memoir\n",
            "\t\tSun, 27 Feb 2022 21:07:03 +0000\n",
            "\t\thttps://www.nytimes.com/2022/02/27/us/politics/bill-barr-trump-january-6.html\n",
            "\n",
            "\n",
            "43. For Many Storm Victims, a Long Wait to Get Insurance Payments\n",
            "\t\tSun, 27 Feb 2022 08:00:14 +0000\n",
            "\t\thttps://www.nytimes.com/2022/02/27/us/hurricane-damage-insurance.html\n",
            "\n",
            "\n",
            "44. First Jan. 6 Trial, of Guy Wesley Reffitt, Starts Monday\n",
            "\t\tSun, 27 Feb 2022 16:59:07 +0000\n",
            "\t\thttps://www.nytimes.com/2022/02/27/us/politics/jan-6-trial-guy-wesley-reffitt.html\n",
            "\n",
            "\n",
            "45. Brazil, Land of the Thong, Embraces Its Heavier Self\n",
            "\t\tSun, 27 Feb 2022 08:00:14 +0000\n",
            "\t\thttps://www.nytimes.com/2022/02/27/world/americas/brazil-obesity.html\n",
            "\n",
            "\n",
            "46. Chris Licht, ‘Colbert’ Producer, Is Set to Run CNN\n",
            "\t\tSat, 26 Feb 2022 19:08:12 +0000\n",
            "\t\thttps://www.nytimes.com/2022/02/26/business/media/cnn-chris-licht.html\n",
            "\n",
            "\n",
            "47. Flooding in Brisbane and Northeast Australia Leaves at Least 7 Dead\n",
            "\t\tSun, 27 Feb 2022 15:10:22 +0000\n",
            "\t\thttps://www.nytimes.com/2022/02/27/world/asia/australia-flood-queensland.html\n",
            "\n",
            "\n",
            "48. Leo Bersani, Literary Critic and Theorist on Gay Life, Dies at 90\n",
            "\t\tSun, 27 Feb 2022 19:07:30 +0000\n",
            "\t\thttps://www.nytimes.com/2022/02/27/books/leo-bersani-dead.html\n",
            "\n",
            "\n",
            "49. Retired SWAT Commander Acquitted in Fatal Shooting of Moviegoer\n",
            "\t\tSat, 26 Feb 2022 22:24:10 +0000\n",
            "\t\thttps://www.nytimes.com/2022/02/26/us/curtis-reeves-murder-trial-acquitted.html\n",
            "\n",
            "\n",
            "50. MLB and Union Are Still Far Apart on Eve of Deadline\n",
            "\t\tSun, 27 Feb 2022 19:26:29 +0000\n",
            "\t\thttps://www.nytimes.com/2022/02/27/sports/baseball/mlb-lockout-deadline.html\n",
            "\n",
            "\n",
            "51. North Korea Launches a Ballistic Missile, South Korea Says\n",
            "\t\tSun, 27 Feb 2022 04:25:08 +0000\n",
            "\t\thttps://www.nytimes.com/2022/02/26/world/asia/north-korea-missile-launch.html\n",
            "\n",
            "\n",
            "52. Gary Brooker, Singer for Procol Harum, Dies at 76\n",
            "\t\tFri, 25 Feb 2022 18:49:33 +0000\n",
            "\t\thttps://www.nytimes.com/2022/02/23/arts/music/gary-brooker-dead.html\n",
            "\n",
            "\n",
            "53. How to Talk to Kids About Ukraine\n",
            "\t\tSun, 27 Feb 2022 11:56:31 +0000\n",
            "\t\thttps://www.nytimes.com/2022/02/25/well/family/kids-teens-ukraine-russia.html\n",
            "\n",
            "\n",
            "54. What’s the Best Nondairy Milk Alternative?\n",
            "\t\tTue, 01 Feb 2022 23:52:51 +0000\n",
            "\t\thttps://www.nytimes.com/2022/02/01/well/eat/lactose-intolerant-non-dairy-milk.html\n",
            "\n",
            "\n",
            "55. After a Mastectomy, Moving Between Gratitude and Grief\n",
            "\t\tTue, 25 Jan 2022 20:40:48 +0000\n",
            "\t\thttps://www.nytimes.com/2022/01/25/well/mind/breast-cancer-mastectomy-recovery.html\n",
            "\n",
            "\n",
            "56. Modern Love Podcast: Married to a Deal Breaker\n",
            "\t\tWed, 23 Feb 2022 21:03:51 +0000\n",
            "\t\thttps://www.nytimes.com/2022/02/23/podcasts/modern-love-married-dealbreaker.html\n",
            "\n",
            "\n",
            "57. Improv Class Sparked Their Long-Term Romance\n",
            "\t\tFri, 25 Feb 2022 10:00:11 +0000\n",
            "\t\thttps://www.nytimes.com/2022/02/25/style/dana-cohen-henry-caplan-wedding.html\n",
            "\n",
            "\n",
            "58. How Bridget Everett, Star of HBO’s ‘Somebody, Somewhere,’ Spends Her Sundays\n",
            "\t\tFri, 25 Feb 2022 10:00:14 +0000\n",
            "\t\thttps://www.nytimes.com/2022/02/25/nyregion/bridget-everett.html\n",
            "\n",
            "\n",
            "59. Lisa Gardner, the Thriller Writer Who Loves Historical Romance\n",
            "\t\tThu, 24 Feb 2022 10:00:02 +0000\n",
            "\t\thttps://www.nytimes.com/2022/02/24/books/review/lisa-gardner-by-the-book-interview.html\n",
            "\n",
            "\n",
            "60. ‘Killing Eve’ Review: The End of the Road\n",
            "\t\tFri, 25 Feb 2022 22:54:34 +0000\n",
            "\t\thttps://www.nytimes.com/2022/02/24/arts/television/killing-eve-review.html\n",
            "\n",
            "\n",
            "61. A Pianist Strolls Her Harlem History, and Scott Joplin’s\n",
            "\t\tThu, 24 Feb 2022 15:00:10 +0000\n",
            "\t\thttps://www.nytimes.com/2022/02/24/arts/music/lara-downes-scott-joplin-piano.html\n",
            "\n",
            "\n"
          ]
        }
      ]
    },
    {
      "cell_type": "markdown",
      "source": [
        "### Example 2"
      ],
      "metadata": {
        "id": "WUFRJ3EuEtXR"
      }
    },
    {
      "cell_type": "code",
      "source": [
        "from feedsearch import search"
      ],
      "metadata": {
        "id": "rBjAm1zlE0tq"
      },
      "execution_count": null,
      "outputs": []
    },
    {
      "cell_type": "code",
      "source": [
        "feeds = search('theatlantic.com')\n",
        "feeds \n",
        "feeds[0].url"
      ],
      "metadata": {
        "id": "GGxPwXHkE2im",
        "outputId": "2c376023-e019-4584-bce1-74e5827971b7",
        "colab": {
          "base_uri": "https://localhost:8080/",
          "height": 35
        }
      },
      "execution_count": null,
      "outputs": [
        {
          "output_type": "execute_result",
          "data": {
            "application/vnd.google.colaboratory.intrinsic+json": {
              "type": "string"
            },
            "text/plain": [
              "'https://www.theatlantic.com/feed/all/'"
            ]
          },
          "metadata": {},
          "execution_count": 26
        }
      ]
    },
    {
      "cell_type": "markdown",
      "source": [
        "To get Feed and Site metadata:"
      ],
      "metadata": {
        "id": "xMVm1m3FF53s"
      }
    },
    {
      "cell_type": "code",
      "source": [
        "feeds = search('theatlantic.com', info=True)\n",
        "feeds\n",
        "print(vars(feeds[0]))"
      ],
      "metadata": {
        "id": "O7QF6e8gF6em",
        "outputId": "dc012c9c-324f-4624-ece7-e7daa4e1fb19",
        "colab": {
          "base_uri": "https://localhost:8080/"
        }
      },
      "execution_count": null,
      "outputs": [
        {
          "output_type": "stream",
          "name": "stdout",
          "text": [
            "{'url': 'https://www.theatlantic.com/feed/all/', 'site_url': 'https://www.theatlantic.com', 'title': 'The Atlantic', 'description': None, 'site_name': 'The Atlantic', 'favicon': 'https://cdn.theatlantic.com/_next/static/images/favicon-3888b0e329526a975703e3059a02b92d.ico', 'hubs': [], 'is_push': False, 'content_type': 'application/xml; charset=utf-8', 'version': 'atom10', 'self_url': 'https://www.theatlantic.com/feed/all/', 'bozo': 0, 'score': 13, 'favicon_data_uri': ''}\n"
          ]
        }
      ]
    },
    {
      "cell_type": "markdown",
      "source": [
        "If you only want the raw urls, then use a list comprehension on the result, or set the as_urls parameter to True:"
      ],
      "metadata": {
        "id": "uXRib0V1Ggph"
      }
    },
    {
      "cell_type": "code",
      "source": [
        "feeds = search('http://theatlantic.com')\n",
        "feeds "
      ],
      "metadata": {
        "id": "9M1QwDX4Ghjb",
        "outputId": "a058d4f1-9a83-4779-cb4c-ebb2082656b7",
        "colab": {
          "base_uri": "https://localhost:8080/"
        }
      },
      "execution_count": null,
      "outputs": [
        {
          "output_type": "execute_result",
          "data": {
            "text/plain": [
              "[FeedInfo(<method-wrapper '__repr__' of str object at 0x7f93913d7e70>),\n",
              " FeedInfo(<method-wrapper '__repr__' of str object at 0x7f93913d7d50>)]"
            ]
          },
          "metadata": {},
          "execution_count": 33
        }
      ]
    },
    {
      "cell_type": "code",
      "source": [
        "urls = [f.url for f in feeds]\n",
        "urls"
      ],
      "metadata": {
        "id": "IVUMhrIMGuYi",
        "outputId": "97d883cd-9164-40b8-819d-27e2fc82e784",
        "colab": {
          "base_uri": "https://localhost:8080/"
        }
      },
      "execution_count": null,
      "outputs": [
        {
          "output_type": "execute_result",
          "data": {
            "text/plain": [
              "['https://www.theatlantic.com/feed/all/',\n",
              " 'https://www.theatlantic.com/feed/best-of/']"
            ]
          },
          "metadata": {},
          "execution_count": 34
        }
      ]
    },
    {
      "cell_type": "code",
      "source": [
        "feeds = search('http://www.fivethirtyeight.com', as_urls=True)\n",
        "feeds"
      ],
      "metadata": {
        "id": "aBb7n9xqG25R",
        "outputId": "40f44b77-80dc-4e76-a7e6-80bc0f16fda7",
        "colab": {
          "base_uri": "https://localhost:8080/"
        }
      },
      "execution_count": null,
      "outputs": [
        {
          "output_type": "execute_result",
          "data": {
            "text/plain": [
              "['https://fivethirtyeight.com/features/feed/']"
            ]
          },
          "metadata": {},
          "execution_count": 39
        }
      ]
    }
  ]
}