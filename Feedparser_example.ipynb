{
  "nbformat": 4,
  "nbformat_minor": 0,
  "metadata": {
    "colab": {
      "name": "Feedparser_example.ipynb",
      "provenance": [],
      "collapsed_sections": [],
      "authorship_tag": "ABX9TyNEdM9V1+2M6+Hgh/c073q4",
      "include_colab_link": true
    },
    "kernelspec": {
      "name": "python3",
      "display_name": "Python 3"
    },
    "language_info": {
      "name": "python"
    }
  },
  "cells": [
    {
      "cell_type": "markdown",
      "metadata": {
        "id": "view-in-github",
        "colab_type": "text"
      },
      "source": [
        "<a href=\"https://colab.research.google.com/github/jgamel/learn_n_dev/blob/python_web_scrapping/Feedparser_example.ipynb\" target=\"_parent\"><img src=\"https://colab.research.google.com/assets/colab-badge.svg\" alt=\"Open In Colab\"/></a>"
      ]
    },
    {
      "cell_type": "markdown",
      "source": [
        "# Feedparser"
      ],
      "metadata": {
        "id": "yuX0mvVneja1"
      }
    },
    {
      "cell_type": "markdown",
      "source": [
        "The FeedParser Python library runs on Python3.6 or later and can be used to parse syndicated feeds. In short, it can parse RSS or Atom feeds and provide you with the information in the form of easy-to-understand data points. It acts as a news scraper and we can use it to mine news data from RSS feeds of different news websites."
      ],
      "metadata": {
        "id": "f8D2pqcwewH_"
      }
    },
    {
      "cell_type": "markdown",
      "source": [
        "By default, you would need to first find the RSS URL for feedparser to parse. However, in this article, we will use feedparser in conjunction with the feedsearch Python library that can be used to find RSS URLs by scraping the URL of a news website."
      ],
      "metadata": {
        "id": "5j448G4pe02R"
      }
    },
    {
      "cell_type": "markdown",
      "source": [
        "Mount Drives:"
      ],
      "metadata": {
        "id": "36A-9EaoEiKI"
      }
    },
    {
      "cell_type": "code",
      "execution_count": 1,
      "metadata": {
        "colab": {
          "base_uri": "https://localhost:8080/"
        },
        "id": "Mn7R4QVQdlVL",
        "outputId": "e41160df-f748-4c4f-c317-210fcd6fdcd8"
      },
      "outputs": [
        {
          "output_type": "stream",
          "name": "stdout",
          "text": [
            "Mounted at /content/gdrive\n"
          ]
        }
      ],
      "source": [
        "from google.colab import drive\n",
        "drive.mount('/content/gdrive', force_remount=True)"
      ]
    },
    {
      "cell_type": "code",
      "source": [
        "import sys\n",
        "sys.path.append('/content/gdrive/My Drive/Colab Notebooks')"
      ],
      "metadata": {
        "id": "yOz7_saxdvAr"
      },
      "execution_count": 2,
      "outputs": []
    },
    {
      "cell_type": "markdown",
      "source": [
        "Examples:"
      ],
      "metadata": {
        "id": "kollzchkElNm"
      }
    },
    {
      "cell_type": "markdown",
      "source": [
        "### Example 1"
      ],
      "metadata": {
        "id": "lgZvqicnEnOY"
      }
    },
    {
      "cell_type": "code",
      "source": [
        "from feedsearch import search\n",
        "feeds = search('https://www.theatlantic.com/')\n",
        "urls = [f.url for f in feeds]\n",
        "\n",
        "print(urls)\n",
        "\n"
      ],
      "metadata": {
        "colab": {
          "base_uri": "https://localhost:8080/"
        },
        "id": "DTWh2f0Ad05T",
        "outputId": "61ab5d95-b2ec-4778-f7c0-8b295ca24c96"
      },
      "execution_count": 7,
      "outputs": [
        {
          "output_type": "stream",
          "name": "stdout",
          "text": [
            "['https://www.theatlantic.com/feed/best-of/', 'https://www.theatlantic.com/feed/all/']\n"
          ]
        }
      ]
    },
    {
      "cell_type": "code",
      "source": [
        "import feedparser\n",
        "import time\n",
        "if len(urls) > 0:\n",
        "  news_feed = feedparser.parse(urls[0])\n",
        "  entries = news_feed[\"entries\"]\n",
        "  count=0\n",
        "  for entry in entries:\n",
        "    count = count + 1\n",
        "    print(\n",
        "     str(count) + \". \" + entry[\"title\"] \\\n",
        "     + \"\\n\\t\\t\" + entry[\"published\"] \\\n",
        "     + \"\\n\\t\\t\" + entry[\"link\"]\\\n",
        "     + \"\\n\\n\"\n",
        "     )\n",
        "    time.sleep(0.33)"
      ],
      "metadata": {
        "colab": {
          "base_uri": "https://localhost:8080/"
        },
        "id": "vT2a1yWCd1RN",
        "outputId": "fa631e15-fb8f-4451-d8aa-c68281e87846"
      },
      "execution_count": 8,
      "outputs": [
        {
          "output_type": "stream",
          "name": "stdout",
          "text": [
            "1. Absolute Power\n",
            "\t\t2022-03-03T06:00:00-05:00\n",
            "\t\thttps://www.theatlantic.com/magazine/archive/2022/04/mohammed-bin-salman-saudi-arabia-palace-interview/622822/?utm_source=feed\n",
            "\n",
            "\n",
            "2. Russia’s Looming Economic Collapse\n",
            "\t\t2022-03-02T06:00:00-05:00\n",
            "\t\thttps://www.theatlantic.com/newsletters/archive/2022/03/vladimir-putin-economy-sanctions-swift-fallout/623330/?utm_source=feed\n",
            "\n",
            "\n",
            "3. The Impossible Suddenly Became Possible\n",
            "\t\t2022-03-01T18:45:00-05:00\n",
            "\t\thttps://www.theatlantic.com/ideas/archive/2022/03/putins-war-dispelled-the-worlds-illusions/623335/?utm_source=feed\n",
            "\n",
            "\n",
            "4. What Russia Is Stirring Up at Chernobyl\n",
            "\t\t2022-03-02T13:57:04-05:00\n",
            "\t\thttps://www.theatlantic.com/science/archive/2022/03/ukraine-russia-chernobyl-warning/623878/?utm_source=feed\n",
            "\n",
            "\n",
            "5. Nine Excellent Movies That Show What Ukrainians Are Fighting For\n",
            "\t\t2022-03-03T06:00:00-05:00\n",
            "\t\thttps://www.theatlantic.com/culture/archive/2022/03/best-movies-about-ukraine-ukrainian-filmmakers/623665/?utm_source=feed\n",
            "\n",
            "\n",
            "6. The Virus That Causes Mono Does a Lot More Than That\n",
            "\t\t2022-03-03T07:00:00-05:00\n",
            "\t\thttps://www.theatlantic.com/science/archive/2022/03/epstein-barr-virus-mono-cancer-research/623881/?utm_source=feed\n",
            "\n",
            "\n",
            "7. This Is Peak Subscription\n",
            "\t\t2022-03-03T08:00:00-05:00\n",
            "\t\thttps://www.theatlantic.com/health/archive/2022/03/why-subscriptions-are-hard-to-cancel/623885/?utm_source=feed\n",
            "\n",
            "\n",
            "8. The Kind of Smarts You Don’t Find in Young People\n",
            "\t\t2022-03-03T06:00:00-05:00\n",
            "\t\thttps://www.theatlantic.com/family/archive/2022/03/older-workers-silicon-valley-business/623880/?utm_source=feed\n",
            "\n",
            "\n",
            "9. Europe’s Sleeping Giant Awakens\n",
            "\t\t2022-03-01T12:26:14-05:00\n",
            "\t\thttps://www.theatlantic.com/international/archive/2022/03/germany-putin-ukraine-invasion/623322/?utm_source=feed\n",
            "\n",
            "\n",
            "10. An American Community in 10 Fragments\n",
            "\t\t2022-03-03T07:00:00-05:00\n",
            "\t\thttps://www.theatlantic.com/magazine/archive/2022/04/benjamin-rasmussen-photos-marshall-fire/622825/?utm_source=feed\n",
            "\n",
            "\n",
            "11. The Biden Administration Killed America’s Collective Pandemic Approach\n",
            "\t\t2022-03-02T09:56:58-05:00\n",
            "\t\thttps://www.theatlantic.com/health/archive/2022/03/covid-cdc-guidelines-masks/623337/?utm_source=feed\n",
            "\n",
            "\n",
            "12. Why the Cultural Boycott of Russia Matters\n",
            "\t\t2022-03-02T12:43:05-05:00\n",
            "\t\thttps://www.theatlantic.com/international/archive/2022/03/ukraine-russia-culture-boycott-putin/623873/?utm_source=feed\n",
            "\n",
            "\n",
            "13. A Sicker, Poorer, and Less Abundant World\n",
            "\t\t2022-03-01T14:55:14-05:00\n",
            "\t\thttps://www.theatlantic.com/science/archive/2022/03/un-ipcc-climate-change-report-2022/623329/?utm_source=feed\n",
            "\n",
            "\n",
            "14. What Happens When We Back Putin Into a Corner\n",
            "\t\t2022-03-02T16:30:00-05:00\n",
            "\t\thttps://www.theatlantic.com/newsletters/archive/2022/03/what-happens-when-we-back-putin-into-a-corner/623882/?utm_source=feed\n",
            "\n",
            "\n",
            "15. The Show That Made Single Motherhood Into Art\n",
            "\t\t2022-03-02T13:17:00-05:00\n",
            "\t\thttps://www.theatlantic.com/culture/archive/2022/03/better-things-pamela-adlon-interview/623877/?utm_source=feed\n",
            "\n",
            "\n",
            "16. Robert Pattinson’s Batman Is Wonderfully Grim\n",
            "\t\t2022-03-02T12:46:00-05:00\n",
            "\t\thttps://www.theatlantic.com/culture/archive/2022/03/batman-robert-pattinson-film-review/623876/?utm_source=feed\n",
            "\n",
            "\n",
            "17. Ukrainians Are Shaking America Out of Its Cynicism\n",
            "\t\t2022-03-02T11:30:04-05:00\n",
            "\t\thttps://www.theatlantic.com/ideas/archive/2022/03/courage-honor-ukraine/623875/?utm_source=feed\n",
            "\n",
            "\n",
            "18. This Is No Time for Protectionism\n",
            "\t\t2022-03-02T11:14:21-05:00\n",
            "\t\thttps://www.theatlantic.com/ideas/archive/2022/03/biden-economic-nationalism-state-of-the-union/623325/?utm_source=feed\n",
            "\n",
            "\n",
            "19. What Biden’s State of the Union Speech Was For\n",
            "\t\t2022-03-02T11:08:34-05:00\n",
            "\t\thttps://www.theatlantic.com/politics/archive/2022/03/biden-state-of-the-union-policy-priorities/623326/?utm_source=feed\n",
            "\n",
            "\n",
            "20. How the Finns Deter Russian Invasion\n",
            "\t\t2022-03-02T11:05:00-05:00\n",
            "\t\thttps://www.theatlantic.com/ideas/archive/2022/03/finlands-model-resisting-russian-aggression/623334/?utm_source=feed\n",
            "\n",
            "\n",
            "21. Restaurants Learned the Wrong Pandemic Lessons\n",
            "\t\t2022-03-02T08:00:00-05:00\n",
            "\t\thttps://www.theatlantic.com/health/archive/2022/03/restaurants-failed-covid-ventilation/623336/?utm_source=feed\n",
            "\n",
            "\n",
            "22. Speech Therapy Shows the Difficult Tradeoffs of Wearing Masks\n",
            "\t\t2022-03-02T08:00:00-05:00\n",
            "\t\thttps://www.theatlantic.com/family/archive/2022/03/how-masks-get-way-speech-therapy-kids/623332/?utm_source=feed\n",
            "\n",
            "\n",
            "23. The Big Secret in Our Small Routines\n",
            "\t\t2022-03-02T08:00:00-05:00\n",
            "\t\thttps://www.theatlantic.com/books/archive/2022/03/the-swimmers-julia-otsuka-review/623328/?utm_source=feed\n",
            "\n",
            "\n",
            "24. The Vibe Shift on Capitol Hill\n",
            "\t\t2022-03-02T08:00:00-05:00\n",
            "\t\thttps://www.theatlantic.com/politics/archive/2022/03/republican-democrat-lawmakers-congress-divide/623320/?utm_source=feed\n",
            "\n",
            "\n",
            "25. Pearl\n",
            "\t\t2022-03-02T07:00:00-05:00\n",
            "\t\thttps://www.theatlantic.com/magazine/archive/2022/04/greg-delanty-pearl/622833/?utm_source=feed\n",
            "\n",
            "\n"
          ]
        }
      ]
    },
    {
      "cell_type": "markdown",
      "source": [
        "### Example 2"
      ],
      "metadata": {
        "id": "WUFRJ3EuEtXR"
      }
    },
    {
      "cell_type": "code",
      "source": [
        "from feedsearch import search"
      ],
      "metadata": {
        "id": "rBjAm1zlE0tq"
      },
      "execution_count": 9,
      "outputs": []
    },
    {
      "cell_type": "code",
      "source": [
        "feeds = search('theatlantic.com')\n",
        "feeds \n",
        "feeds[0].url"
      ],
      "metadata": {
        "id": "GGxPwXHkE2im",
        "outputId": "42a58a2d-7d7f-447a-9f45-359e8f84296e",
        "colab": {
          "base_uri": "https://localhost:8080/",
          "height": 35
        }
      },
      "execution_count": 10,
      "outputs": [
        {
          "output_type": "execute_result",
          "data": {
            "application/vnd.google.colaboratory.intrinsic+json": {
              "type": "string"
            },
            "text/plain": [
              "'https://www.theatlantic.com/feed/best-of/'"
            ]
          },
          "metadata": {},
          "execution_count": 10
        }
      ]
    },
    {
      "cell_type": "markdown",
      "source": [
        "To get Feed and Site metadata:"
      ],
      "metadata": {
        "id": "xMVm1m3FF53s"
      }
    },
    {
      "cell_type": "code",
      "source": [
        "feeds = search('theatlantic.com', info=True)\n",
        "feeds\n",
        "print(vars(feeds[0]))"
      ],
      "metadata": {
        "id": "O7QF6e8gF6em",
        "outputId": "e9554754-bd18-4ce4-97cd-a72a2d57fc93",
        "colab": {
          "base_uri": "https://localhost:8080/"
        }
      },
      "execution_count": 11,
      "outputs": [
        {
          "output_type": "stream",
          "name": "stdout",
          "text": [
            "{'url': 'https://www.theatlantic.com/feed/best-of/', 'site_url': 'https://www.theatlantic.com', 'title': 'Best of The Atlantic', 'description': None, 'site_name': 'The Atlantic', 'favicon': 'https://cdn.theatlantic.com/_next/static/images/favicon-3888b0e329526a975703e3059a02b92d.ico', 'hubs': [], 'is_push': False, 'content_type': 'application/xml; charset=utf-8', 'version': 'atom10', 'self_url': 'https://www.theatlantic.com/feed/best-of/', 'bozo': 0, 'score': 13, 'favicon_data_uri': ''}\n"
          ]
        }
      ]
    },
    {
      "cell_type": "markdown",
      "source": [
        "If you only want the raw urls, then use a list comprehension on the result, or set the as_urls parameter to True:"
      ],
      "metadata": {
        "id": "uXRib0V1Ggph"
      }
    },
    {
      "cell_type": "code",
      "source": [
        "feeds = search('http://theatlantic.com')\n",
        "feeds "
      ],
      "metadata": {
        "id": "9M1QwDX4Ghjb",
        "outputId": "c1f376b8-fe67-43c9-a586-d303a044c645",
        "colab": {
          "base_uri": "https://localhost:8080/"
        }
      },
      "execution_count": 12,
      "outputs": [
        {
          "output_type": "execute_result",
          "data": {
            "text/plain": [
              "[FeedInfo(<method-wrapper '__repr__' of str object at 0x7fc184d4be10>),\n",
              " FeedInfo(<method-wrapper '__repr__' of str object at 0x7fc184d4bf90>)]"
            ]
          },
          "metadata": {},
          "execution_count": 12
        }
      ]
    },
    {
      "cell_type": "code",
      "source": [
        "urls = [f.url for f in feeds]\n",
        "urls"
      ],
      "metadata": {
        "id": "IVUMhrIMGuYi",
        "outputId": "44540f92-65b6-42e5-fd97-b09dfa9945f1",
        "colab": {
          "base_uri": "https://localhost:8080/"
        }
      },
      "execution_count": 13,
      "outputs": [
        {
          "output_type": "execute_result",
          "data": {
            "text/plain": [
              "['https://www.theatlantic.com/feed/best-of/',\n",
              " 'https://www.theatlantic.com/feed/all/']"
            ]
          },
          "metadata": {},
          "execution_count": 13
        }
      ]
    },
    {
      "cell_type": "code",
      "source": [
        "feeds = search('http://www.fivethirtyeight.com', as_urls=True)\n",
        "feeds"
      ],
      "metadata": {
        "id": "aBb7n9xqG25R",
        "outputId": "7b674841-7025-4a51-92c7-70ea1c74bb7d",
        "colab": {
          "base_uri": "https://localhost:8080/"
        }
      },
      "execution_count": 14,
      "outputs": [
        {
          "output_type": "execute_result",
          "data": {
            "text/plain": [
              "['https://fivethirtyeight.com/features/feed/']"
            ]
          },
          "metadata": {},
          "execution_count": 14
        }
      ]
    }
  ]
}