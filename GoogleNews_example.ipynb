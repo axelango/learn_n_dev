{
  "nbformat": 4,
  "nbformat_minor": 0,
  "metadata": {
    "colab": {
      "name": "GoogleNews_example.ipynb",
      "provenance": [],
      "collapsed_sections": [],
      "authorship_tag": "ABX9TyOr4wVr7IAUYc+qsExqSQ6W",
      "include_colab_link": true
    },
    "kernelspec": {
      "name": "python3",
      "display_name": "Python 3"
    },
    "language_info": {
      "name": "python"
    }
  },
  "cells": [
    {
      "cell_type": "markdown",
      "metadata": {
        "id": "view-in-github",
        "colab_type": "text"
      },
      "source": [
        "<a href=\"https://colab.research.google.com/github/jgamel/learn_n_dev/blob/python_web_scrapping/GoogleNews_example.ipynb\" target=\"_parent\"><img src=\"https://colab.research.google.com/assets/colab-badge.svg\" alt=\"Open In Colab\"/></a>"
      ]
    },
    {
      "cell_type": "markdown",
      "source": [
        "# Google News"
      ],
      "metadata": {
        "id": "QDE7XRjw1tps"
      }
    },
    {
      "cell_type": "markdown",
      "source": [
        "PyGoogleNews, created by the NewsCatcher Team, acts like a Python wrapper for Google News or an unofficial Google News API. It is based on one simple trick: it exploits a lightweight Google News RSS feed.\n",
        "\n",
        "What data points can it fetch for you?\n",
        "\n",
        "* Top stories\n",
        "* Topic-related news feeds\n",
        "* Geolocation specific news feed\n",
        "* An extensive query-based search feed"
      ],
      "metadata": {
        "id": "rGPbWT7110It"
      }
    },
    {
      "cell_type": "markdown",
      "source": [
        "Mount Drive:"
      ],
      "metadata": {
        "id": "M3m0Fe0ZWtt8"
      }
    },
    {
      "cell_type": "code",
      "execution_count": null,
      "metadata": {
        "colab": {
          "base_uri": "https://localhost:8080/"
        },
        "id": "qMCQnvnD1L2-",
        "outputId": "81a9587c-6815-4ea1-a2d4-1977027de315"
      },
      "outputs": [
        {
          "output_type": "stream",
          "name": "stdout",
          "text": [
            "Mounted at /content/gdrive\n"
          ]
        }
      ],
      "source": [
        "from google.colab import drive\n",
        "drive.mount('/content/gdrive', force_remount=True)"
      ]
    },
    {
      "cell_type": "code",
      "source": [
        "import sys\n",
        "sys.path.append('/content/gdrive/My Drive/Colab Notebooks')"
      ],
      "metadata": {
        "id": "xofOSWWd2Qrb"
      },
      "execution_count": null,
      "outputs": []
    },
    {
      "cell_type": "markdown",
      "source": [
        "### Example 1:\n",
        "\n",
        "Pull Top Headlines from Google News"
      ],
      "metadata": {
        "id": "VSoF4vqzW631"
      }
    },
    {
      "cell_type": "code",
      "source": [
        "from pygooglenews import GoogleNews\n",
        "import json\n",
        "import time\n",
        "\n",
        "gn = GoogleNews()\n",
        "top = gn.top_news()\n",
        "\n",
        "entries = top[\"entries\"]\n",
        "count = 0\n",
        "for entry in entries:\n",
        "  count = count + 1\n",
        "  print(\n",
        "    str(count) + \". \" + entry[\"title\"] + entry[\"published\"]\n",
        "  )\n",
        "  time.sleep(0.25)"
      ],
      "metadata": {
        "colab": {
          "base_uri": "https://localhost:8080/"
        },
        "id": "HMeZ4Udm2UPW",
        "outputId": "0fce263d-10f4-4c4f-fa94-e398a3c02d8a"
      },
      "execution_count": null,
      "outputs": [
        {
          "output_type": "stream",
          "name": "stdout",
          "text": [
            "1. Live updates: Russia invades Ukraine - CNNSun, 27 Feb 2022 22:29:00 GMT\n",
            "2. Sanctions on Russia's Central Bank Deal Direct Blow to Country's Financial Strength - The Wall Street JournalSun, 27 Feb 2022 20:14:00 GMT\n",
            "3. EU shuts airspace to Russian airlines, will buy Ukraine arms - Associated PressSun, 27 Feb 2022 20:00:46 GMT\n",
            "4. Retired general explains why Russian vehicles are running into trouble - CNNSun, 27 Feb 2022 19:10:54 GMT\n",
            "5. In 'unprecedented' action, Putin orders nuclear deterrent forces to be on 'high alert' amid spiraling tensions over Ukraine - NBC NewsSun, 27 Feb 2022 22:16:26 GMT\n",
            "6. At CPAC, Trump delivers a reminder of his muscle - POLITICOSun, 27 Feb 2022 12:00:00 GMT\n",
            "7. Fence reinstalled around Capitol building ahead of Biden's State of the Union - NBC NewsSun, 27 Feb 2022 18:30:30 GMT\n",
            "8. Clyburn: supreme court nomination of Ketanji Brown Jackson ‘beyond politics’ - The GuardianSun, 27 Feb 2022 18:48:00 GMT\n",
            "9. He just won a $10 million lottery for the second time - CNNSun, 27 Feb 2022 14:54:00 GMT\n",
            "10. On cusp of Biden speech, a state of disunity, funk and peril - Associated PressSun, 27 Feb 2022 13:52:30 GMT\n",
            "11. Map: European nations ban Russia from their airspace in pushback to Ukraine invasion - The Washington PostSun, 27 Feb 2022 21:27:58 GMT\n",
            "12. Trump news – live: Trump denies knowledge of desperate Jan 6 texts at CPAC while Barr urges GOP to move on - The IndependentSun, 27 Feb 2022 22:11:18 GMT\n",
            "13. SpaceX Starlink satellite internet service activated in Ukraine, says Elon Musk - CNNSun, 27 Feb 2022 18:28:00 GMT\n",
            "14. Ukrainian soldiers who profanely told off Russian warship may be alive, officials say - NPRSun, 27 Feb 2022 15:42:47 GMT\n",
            "15. BP exits partnership with Russian energy company Rosneft - Fox BusinessSun, 27 Feb 2022 20:26:04 GMT\n",
            "16. The Kremlin's Gas Wars - Foreign Affairs MagazineSun, 27 Feb 2022 14:37:30 GMT\n",
            "17. Corporations Raise Prices as Consumers Spend ‘With a Vengeance’ - The New York TimesSun, 27 Feb 2022 19:57:31 GMT\n",
            "18. Ukraine government raises over $10 million in cryptocurrency donations - CNBCSun, 27 Feb 2022 15:19:58 GMT\n",
            "19. Samsung Galaxy Book 2 Pro and Galaxy Book 2 Pro 360 hands-on - The VergeSun, 27 Feb 2022 18:00:00 GMT\n",
            "20. Gurman: Apple’s mysterious 20″ foldable could be MacBook/iPad hybrid with touchscreen keyboard - 9to5MacSun, 27 Feb 2022 14:05:00 GMT\n",
            "21. When Is Apple (AAPL) Launching 5G iPhone SE? Will Apple Drop iPhone SE Price? - BloombergSun, 27 Feb 2022 14:45:17 GMT\n",
            "22. Pokémon Presents Announces Gen IX Pokémon Scarlet & Violet | Pokémon GO Hub - Pokémon GO HubSun, 27 Feb 2022 21:00:07 GMT\n",
            "23. Celebrities Skipping SAG Awards 2022 (& the Reasons Why They're Missing) - Just JaredSun, 27 Feb 2022 16:23:25 GMT\n",
            "24. \"SNL\" Paid Tribute To The Ukrainian People With A Poignant Cold Open - BuzzFeed NewsSun, 27 Feb 2022 18:23:14 GMT\n",
            "25. Killing Eve’s final season rights itself and makes Eve the star again - The VergeSun, 27 Feb 2022 14:00:00 GMT\n",
            "26. ‘Uncharted’ Darts To $226M WW, ‘Spider-Man: No Way Home’ Tops ‘Titanic’s Original Global Run – International Box Office - DeadlineSun, 27 Feb 2022 17:57:00 GMT\n",
            "27. Carabao Cup kicks off Liverpool's Quadruple quest, while Chelsea's Kepa-for-Mendy gamble backfires - ESPNSun, 27 Feb 2022 21:22:05 GMT\n",
            "28. Despite Report, No Deal Close Between MLB, MLBPA - MLB Trade RumorsSun, 27 Feb 2022 16:43:07 GMT\n",
            "29. Ali Marpet announces his retirement - NBC SportsSun, 27 Feb 2022 20:26:00 GMT\n",
            "30. College basketball rankings: Gonzaga remains atop Top 25 And 1 despite season-finale loss to Saint Mary's - CBS SportsSun, 27 Feb 2022 16:44:00 GMT\n",
            "31. The moon meets up with Mercury and Saturn early Monday morning - Space.comSun, 27 Feb 2022 12:14:38 GMT\n",
            "32. SpaceX Launches Batch of Starlink Satellites From California - NewsmaxSat, 26 Feb 2022 04:28:00 GMT\n",
            "33. NASA Updates on Artemis I Mission, Test Fires RS-25 Rocket Engine [Video] - SciTechDailySun, 27 Feb 2022 16:37:27 GMT\n",
            "34. Curiosity Rover Finds a Bizarre Rock on Mars That Looks Like a Flower - SciTechDailySun, 27 Feb 2022 12:07:05 GMT\n",
            "35. COVID-19 symptoms: Which COVID symptoms should you expect now? - Deseret NewsSun, 27 Feb 2022 03:30:00 GMT\n",
            "36. Cases of highly pathogenic bird flu detected in Delaware and Michigan - CBS NewsFri, 25 Feb 2022 23:40:18 GMT\n",
            "37. COVID-19 is linked to long-term mental health issues in recovered patients, study finds - SalonSun, 27 Feb 2022 19:00:00 GMT\n",
            "38. These Are The First FDA-Authorized Condoms For Anal Sex And You Can Buy Them In 54 Different Sizes - BuzzFeed NewsSat, 26 Feb 2022 18:06:04 GMT\n"
          ]
        }
      ]
    },
    {
      "cell_type": "markdown",
      "source": [
        "The code above shows how you can extract certain data points from the top news articles in the Google RSS feed. You can replace the code “gn.top_news()” with “gn.topic_headlines('business')” to get the top headlines related to “Business” or you could have replaced it with “gn.geo_headlines('San Fran')” to get the top news in the San Fransisco region.\n",
        "\n",
        "You can also use complex queries such as “gn.search('boeing OR airbus')” to find news articles mentioning Boeing or Airbus or “gn.search('boeing -airbus')” to find all news articles that mention Boeing but not Airbus.\n",
        "\n",
        "When web-scraping news articles with this library, for every news entry that you capture, you get the following data points, that you can use for data processing, or training your machine learning model, or running NLP scripts:\n",
        "\n",
        "Title - contains the Headline for the article\n",
        "Link - the original link for the article\n",
        "Published - the date on which it was published\n",
        "Summary - the article summary\n",
        "Source - the website on which it was published\n",
        "Sub-Articles - list of titles, publishers, and links that are on the same topic\n",
        "We extracted just a few of the available data points, but you can extract the others as well, based on your requirements. Here’s a small example of the results produced by complex queries.\n",
        "\n",
        "If you run the code below:"
      ],
      "metadata": {
        "id": "ovAMIpa03M7G"
      }
    },
    {
      "cell_type": "code",
      "source": [
        "from pygooglenews import GoogleNews\n",
        "\n",
        "gn = GoogleNews()\n",
        "s = gn.search('russia -putin') \n",
        "\n",
        "\n",
        "for entry in s[\"entries\"]:\n",
        "    print(entry[\"title\"])"
      ],
      "metadata": {
        "colab": {
          "base_uri": "https://localhost:8080/"
        },
        "id": "DNTwqbxL6uTU",
        "outputId": "abe8e3d8-0fc3-4553-ced3-c273339b488d"
      },
      "execution_count": null,
      "outputs": [
        {
          "output_type": "stream",
          "name": "stdout",
          "text": [
            "UPS and FedEx halting shipments to Russia and Ukraine - Reuters\n",
            "FIFA impose measures on Russia in response to its invasion of Ukraine - The Athletic\n",
            "Factbox-Companies With Exposure to Russia - U.S. News & World Report\n",
            "Ukrainian minister says Russia lost some 4300 men in invasion - Reuters\n",
            "The 'unprecedented' sanctions on Russia could make war unsustainable, expert says - NPR\n",
            "Analyzing the state of Russia's military - NPR\n",
            "Russia continues to advance on Kyiv in attempt to topple Ukrainian government - NPR\n",
            "3 ways Russia's invasion of Ukraine will impact the American economy - NBC News\n",
            "U.S. banks prepare for cyber attacks after latest Russia sanctions - Reuters\n",
            "SWIFT ban prevents Russia from moving money easily. It also has unintended effects - NPR\n",
            "Boxing's governing organizations won't sanction any title bouts in Russia due to invasion of Ukraine - ESPN\n",
            "France urges its citizens making short-term visits to Russia to leave - Reuters\n",
            "Biden sanctions spare Russia's energy sector. What that means for OPEC talks - NPR\n",
            "European Union, Canada close airspace to Russia in response to Ukraine war - The Points Guy\n",
            "Norway says its sovereign fund will divest from Russia - Reuters\n",
            "Ukrainians rush back from abroad to join fight against Russia - The Times of Israel\n",
            "Follow the Russia-Ukraine Monitor Map - bellingcat - bellingcat\n",
            "Analysis: SWIFT block deals crippling blow to Russia; leaves room to tighten - Reuters\n",
            "Aside from vodka, what does the US import from Russia? - KLAS - 8 News Now\n",
            "Caribbean Food Security Likely To Be Impacted By Russia-Ukraine Conflict - Forbes\n",
            "Italy backs EU measures against Russia, Italy's PM says - Reuters\n",
            "Taiwan says chip companies complying with Russia export controls - Reuters\n",
            "Russia Bonds, Now Junk, Set to Reel From Central Bank Sanctions - Bloomberg\n",
            "Ukraine files genocide case against Russia at UN's top court - Associated Press\n",
            "Western powers condemn Russia at environmental summit - Reuters\n",
            "Ukrainian athletes urge IOC to sanction Russian and Belarusian Olympic, Paralympic Committees - ESPN\n",
            "IIHF likely to implement sanctions against Russia following Ukraine invasion: Sources - The Athletic\n",
            "Experts explain economic consequences of Russia's invasion of Ukraine - WITN\n",
            "Google blocks Russia's RT app downloads on Ukrainian territory - Reuters\n",
            "China so far not helping Russia evade Western sanctions-U.S. official - Reuters\n",
            "BP exit opens new front in West's campaign against Russia - Reuters\n",
            "UK foreign secretary would back Britons fighting Russia in Ukraine - Middle East Eye\n",
            "Ukrainian envoy says Turkey-made drones helping fight against Russia - Reuters\n",
            "FINA cancels World Junior Championships in Russia - Reuters\n",
            "Ukraine Is Grateful for Financial Sanctions Imposed on Russia - PM - U.S. News & World Report\n",
            "Russia's VTB to hike mortgage rates by four percentage points to 15.3% - Reuters\n",
            "Russia suspends Soyuz rocket launches over European sanctions - The Verge\n",
            "US Department of Commerce & Bureau of Industry and Security Russia Rule Fact Sheet - US Department of Commerce\n",
            "US, Russia share table for Iran talks despite Ukraine war - The Jerusalem Post\n",
            "US, Allies Consider New United Nations Vote Targeting Russia - The Wall Street Journal\n",
            "Asian Carriers Spared From Russia-Europe Airspace Closures - Bloomberg\n",
            "Companies shut Ukraine operations, assess impact of sanctions on Russia - Reuters\n",
            "Belarus Hackers Allegedly Disrupted Trains to Thwart Russia - Bloomberg\n",
            "Here's How Russia Sanctions Could Impact Private Jets - Forbes\n",
            "Ukraine-Russia conflict may drive up prices: What you can do to save right now - Today.com\n",
            "ASEAN stops short of calling out Russia in delayed statement - Nikkei Asia\n",
            "Russia-Ukraine conflict: What happened in the Black Sea so far? - Naval News\n",
            "Europe stocks bounce back as traders assess Russia-Ukraine crisis; Stoxx 600 closes up 3.3% - CNBC\n",
            "Ukraine tennis star Sergiy Stakhovsky joins military reserves to fight Russia: 'Proud to be Ukrainian' - New York Post\n",
            "Russia sees military coordination with Israel on Syria continuing - Reuters\n",
            "Is Russia winning the disinformation war in Ukraine? - New Scientist\n",
            "Tech Companies Face Pressure Over Russia-Ukraine War - The Wall Street Journal\n",
            "EU and Taiwanese Sanctions Ramp Up Pressure on Russia as Invasion Reaches Kyiv - Barron's\n",
            "US launch providers eyeing Russia-Ukraine situation - Space.com\n",
            "Satellite images, surveillance footage, social media posts show the latest on the war in Ukraine - USA TODAY\n",
            "Decoupling Russia: the global economy's new unknown - Reuters\n",
            "Tanker Freight Rates Soar After Russia Invades Ukraine - The Wall Street Journal\n",
            "Global financial markets initially plunged following Russia's invasion of Ukraine - Detroit Free Press\n",
            "Ukraine's Zelenskiy welcomes moves to cut Russia off from SWIFT - Reuters UK\n",
            "Ukraine Enlists Hackers in 'IT Army' Targeting Russia, Belarus - PCMag\n",
            "The U.S. Is Weaponizing Semiconductors to Try to Rein In Russia - Gizmodo\n",
            "Factbox: As SWIFT ban hits banks, spotlight turns on how Russia sells its oil - S&P Global\n",
            "Russia's Central Bank Responds to Cash Crunch - The Wall Street Journal\n",
            "Russia's economy is surprisingly tiny. Here's why it matters so much to you - CNN International\n",
            "UK foreign minister Truss floats idea of 'ceiling' on Russia oil and gas imports - S&P Global\n",
            "Eurovision reverses course, says Russia will not be allowed to compete - CNN\n",
            "Bitcoin, ethereum and other cryptos swing to gains after big losses on Russia news - New York Post\n",
            "Rapidly expanding Russia-Ukraine war leaves questions to be answered - The Jerusalem Post\n",
            "Ukraine lobbies U.S. officials for bans on Russia software, aviation -diplomat - Reuters\n",
            "Nokian Tyres moves some production and stock out of Russia - Reuters\n",
            "Fortum, Uniper shares plunge as Russia exposure weighs - Reuters\n",
            "White House: Kyiv Falling to Russia Is a 'Real Possibility' - The Wall Street Journal\n",
            "Ukraine's children: How to help vulnerable kids amid Russia's attack - Fox News\n",
            "For the first time, Russia confirms casualties in Ukraine attack - FOX31 Denver\n",
            "VW and Renault to Idle Some Car Plants on Russia-Ukraine Bottlenecks - Bloomberg\n",
            "Why Turkey isn't likely to close the Bosphorus after the Russian invasion of Ukraine - Middle East Eye\n",
            "London-listed Coca-Cola HBC readies Russia contingencies as profits rise - Reuters\n",
            "G7 Foreign Ministers' Statement on Russia and Ukraine - United States Department of State - Department of State\n",
            "Political Science professor has 'unorthodox views' on Russia-Ukraine conflict - WOWT\n",
            "Sketchy details from Russia complicate invasion coverage - Associated Press\n",
            "U.S. is the ultimate safe haven for your money during Russia's war on Ukraine, Blackstone's Joe Zidle says - CNBC\n",
            "World's biggest plane 'Mriya' destroyed by Russia near Kyiv: Ukraine - Business Today\n",
            "Russia captures strategically important ex-airfield in Ukraine | Daily Sabah - Daily Sabah\n",
            "Cooking oil prices to rise amid Russia-Ukraine war? Here's what we know so far - Hindustan Times\n",
            "Japan to coordinate with G7 on further sanctions vs Russia -foreign minister - Reuters\n",
            "Ukraine-Russia crisis: America's fast-food giants are at risk - Yahoo Finance\n",
            "Fact Check-Video shows lightning not Russia invasion of Ukraine - Reuters India\n",
            "US Halts Arms-Controls Talks With Russia - The Wall Street Journal\n",
            "Ukraine airspace is now closed to civilian flights as Russia launches military attack - The Points Guy\n",
            "Regina Spektor speaks out against Russia's attacks on Ukraine - CNN\n",
            "How Russia took over the Internet in Crimea and Eastern Ukraine - DatacenterDynamics\n",
            "Tensions rise as Russia continues to mobilize troops near Ukrainian border - POLITICO\n",
            "Judge warns of US divisions and cites Russia's attack on Ukraine while sentencing Capitol riot defendant - CNN\n",
            "China's Didi reverses course, will remain in Russia - Reuters\n",
            "PM Modi to chair high-level meeting on Ukraine-Russia conflict - Hindustan Times\n",
            "Russia Cut to Junk Rating by S&P, Ukraine's Rating Lowered - The Wall Street Journal\n",
            "Stocks set for a painful week as Russia-Ukraine conflict intensifies; bonds to gain - Moneycontrol\n",
            "Freight operators seek routes around Ukraine, Russia - Livemint\n",
            "How Russia's invasion of Ukraine may impact pharma-biotech R&D - Seeking Alpha\n",
            "BP to 'exit' Rosneft stake in response to Russia invading Ukraine - S&P Global\n"
          ]
        }
      ]
    },
    {
      "cell_type": "markdown",
      "source": [
        "### Example 2:\n",
        "\n",
        "Search Google News and Save to CSV File"
      ],
      "metadata": {
        "id": "NhI4K0zJD7DL"
      }
    },
    {
      "cell_type": "code",
      "source": [
        "import pandas as pd\n",
        "import csv\n",
        "from pygooglenews import GoogleNews\n",
        "\n",
        "gn = GoogleNews (lang = 'en', country = 'UK') \n",
        "\n",
        "russiasearch = gn.search('intitle:russia', helper = True, from_ = '2022-01-01', to_= '2022-12-31')\n",
        "\n",
        "print(russiasearch['feed'].title)\n",
        "\n",
        "for item in russiasearch ['entries']:\n",
        "  print(item['title'])\n",
        "\n",
        "with open('/content/gdrive/My Drive/russia_search.csv', 'w', newline='') as f:\n",
        "    writer = csv.writer(f)\n",
        "    writer.writerow(['russiasearch'])  # I presume you meant this to be your header\n",
        "    \n",
        "    # Use your loop from before...\n",
        "    for item in russiasearch ['entries']:\n",
        "        # And write each item\n",
        "        writer.writerow([item['title']])\n",
        "\n",
        "file.close()"
      ],
      "metadata": {
        "colab": {
          "base_uri": "https://localhost:8080/"
        },
        "id": "YWnZfiFYCZCu",
        "outputId": "c11749c8-368c-42c2-a48f-c3bcef7227c0"
      },
      "execution_count": null,
      "outputs": [
        {
          "output_type": "stream",
          "name": "stdout",
          "text": [
            "\"intitle:russia after:2022-01-01 before:2022-12-31\" - Google News\n",
            "Russia-Ukraine live updates: Kyiv to hold talks with Moscow - Al Jazeera English\n",
            "Russian ex-official: Putin's plan is full victory by March 2 - Al Jazeera English\n",
            "Russia homes in on Kyiv and Kharkiv and pushes across Black Sea coast - Financial Times\n",
            "Ukraine, Russia agree to talks ‘without preconditions’: Zelenskyy - Al Jazeera English\n",
            "Putin signals escalation as he puts Russia’s nuclear force on high alert - The Guardian\n",
            "As Russia invades Ukraine, Iraqis remember painful war memories - Al Jazeera English\n",
            "More than 2,000 arrested at anti-war protests in Russia - Al Jazeera English\n",
            "Ukraine appeals for foreign volunteers to join fight against Russia - The Guardian\n",
            "Two top Russian billionaires speak out against invasion of Ukraine - The Guardian\n",
            "Russia’s invasion of Ukraine: List of key developments from Day 4 - Al Jazeera English\n",
            "‘A global financial pariah’: how central bank sanctions could hobble Russia - Financial Times\n",
            "Ukraine lodges case against Russia at UN’s top court - Al Jazeera English\n",
            "Xi pursues policy of ‘pro-Russia neutrality’ despite Ukraine war - Financial Times\n",
            "Turkey dubs Russia invasion of Ukraine ‘war’ in shift of rhetoric - Al Jazeera English\n",
            "The Nigerian students caught in the Russia-Ukraine war - Al Jazeera English\n",
            "Analysis: what weapons is Russia deploying in Ukraine invasion? - The Guardian\n",
            "List of sanctions imposed by the west against Russia over Ukraine invasion - Financial Times\n",
            "Ukraine invasion: England will not play Russia in any international football fixture 'for the foreseeable future', FA announces - Sky News\n",
            "Russia faces sporting fallout over invasion of Ukraine - Al Jazeera English\n",
            "EU ups the ante with Russia; closes airspace, bans media - Al Jazeera English\n",
            "The first TikTok war: how are influencers in Russia and Ukraine responding? - The Guardian\n",
            "Why the Chinese Internet Is Cheering Russia’s Invasion - The New York Times\n",
            "Four stories you may have missed amid Russia-Ukraine crisis - Al Jazeera English\n",
            "Special OSCE meeting on Russia's ongoing aggression against Ukraine: UK statement, 27 February 2022 - GOV.UK\n",
            "Anonymous: the hacker collective that has declared cyberwar on Russia - The Guardian\n",
            "The Observer view on Russia’s invasion of Ukraine - The Guardian\n",
            "Russia has invaded Ukraine: what we know so far - The Guardian\n",
            "‘Double standards’: Western coverage of Ukraine war criticised - Al Jazeera English\n",
            "Putin says Russia, Ukraine share historical ‘unity’. Is he right? - Al Jazeera English\n",
            "The world is united on Ukraine, divided on America - Al Jazeera English\n",
            "Macron to launch re-election race, as rivals face pro-Russia allegations - The Guardian\n",
            "Ukrainians, Russians in Australia unite against Putin’s war - Al Jazeera English\n",
            "Russia limiting access to Facebook over fact-checking row - Al Jazeera English\n",
            "Internet becomes battleground in Russia's Ukraine invasion - Axios\n",
            "Sanctions against Russia – at a glance - The Guardian\n",
            "Romania on edge as Russia invades Ukraine - Al Jazeera English\n",
            "Putin’s nuclear posturing requires west to tread extremely carefully - The Guardian\n",
            "West targets Russia’s defenses against ruble crash, bank run - POLITICO Europe\n",
            "Ukraine crisis: Russia has failed to take any of its major objectives, lost 450 personnel and made 'limited progress', Ministry of Defence says - Sky News\n",
            "UK says Russia needs to withdraw from Ukraine for any talks - Reuters\n",
            "BP quits Russia in up to $25 billion hit after Ukraine invasion - Reuters\n",
            "Ties That Bind Putin and Xi Tested by Russia's Ukraine Invasion - The New York Times\n",
            "Russia sending thousands more troops to Ukraine border - The Guardian\n",
            "Where do Russia’s allies stand as Western powers slam Moscow? - Al Jazeera English\n",
            "Russia-Ukraine: What’s happening in Mariupol? - Al Jazeera English\n",
            "Russia-Ukraine war live updates: Ukraine forces say Russian troops 'shelling in almost all directions', Ukraine says 16 children have died since start of invasion, - ABC News\n",
            "What can the west do about Russia invading Ukraine? - The Guardian\n",
            "China, Russia and the race to a post-dollar world - Financial Times\n",
            "China ponders how Russia’s actions in Ukraine could reshape world order - The Guardian\n",
            "Russia bans flights from Bulgaria, Poland, Czech Republic - Al Jazeera English\n",
            "Ukraine crisis: Russia orders troops into rebel-held regions - BBC News\n",
            "Ukraine president vows to defend country as Russia says separatists ‘ask for military help’ - The Guardian\n",
            "Putin Is Both Winning and Losing in Russia's Ukraine Invasion - Bloomberg\n",
            "Russia’s FX reserves slip from its grasp - Financial Times\n",
            "Western powers have realised Russia is largely immune to sanctions - The Guardian\n",
            "War in Ukraine: Russia Frustrated by Slow Progress on Invasion - Bloomberg\n",
            "Opinion | How the American Right Stopped Worrying and Learned to Love Russia - The New York Times\n",
            "Chip sanctions aim for Russia's military and its tech industry hopes - Financial Times\n",
            "Ukraine conflict: UK to impose sanctions on Russia's President Putin - BBC News\n",
            "Trump condemns Russia invasion; hints again at 2024 presidential run - Reuters\n",
            "‘Pure Orwell’: how Russian state media spins invasion as liberation - The Guardian\n",
            "Russia’s invasion of Ukraine will change the face of Europe for ever - The Guardian\n",
            "What does the Ukraine war mean for the UK? How Russia invasion and Putin sanctions Putin can affect life in UK - iNews\n",
            "Russia Ukraine crisis: Nigerian wey family base in Ukraine cry out as Russia troops invasion continue - BBC News\n",
            "RT news channel in spotlight in UK over pro-Russia slant on Ukraine crisis - The Guardian\n",
            "Statement by Press Secretary Jen Psaki on Japan's Announcement to Hold Russia Accountable - The White House\n",
            "Ukraine news from February 23: Ukraine urges citizens to leave Russia, US warns invasion may be imminent, Kremlin says separatists asked Putin to 'repel' Ukraine - Financial Times\n",
            "Ukraine latest: Ukraine and Russia agree to talks, Zelenskyy says - Nikkei Asia\n",
            "Russia speaks total lies. That doesn’t diminish America’s half-truths - The Guardian\n",
            "Russia strongly condemned at UN after Putin orders troops into eastern Ukraine - The Guardian\n",
            "Russia Invades Ukraine: Latest Updates as Russian Forces Meet Determined Resistance - CNET\n",
            "Russians are Putin’s victims too - Al Jazeera English\n",
            "Why a swift economic victory against Russia looks unlikely - The Guardian\n",
            "US, Europe step up Russia sanctions to target Putin directly - Associated Press\n",
            "‘This is a bumpy long road’: the mood among Moscow residents - The Guardian\n",
            "Moscow newspaper condemns Putin over invasion: ‘Russia. Bombs. Ukraine.’ - iNews\n",
            "Why the West doesn't dare start a trade war with Russia as Ukrainian conflict intensifies - ABC News\n",
            "Russia’s hopes for quick assault on Kyiv thwarted by fierce Ukrainian resistance - Financial Times\n",
            "U.S. protests Israel's refusal to back UN resolution condemning Russia - Axios\n",
            "Russia's Attack Is Illegal and a Wake-Up Call to the West - Barron's\n",
            "Ukraine invasion: Russia axed from Eurovision as they would 'bring competition into disrepute' - Sky News\n",
            "Russia is creating lists of Ukrainians ‘to be killed or sent to camps’, US claims - The Guardian\n",
            "Russia unleashed data-wiper malware on Ukraine, say cyber experts - The Guardian\n",
            "UPS and FedEx halt shipments to Russia and Ukraine after BP ditches stake in Rosneft energy group - Daily Mail\n",
            "‘Rooted in NATO’: Iran responds to Russia’s Ukraine attack - Al Jazeera English\n",
            "Boxing's governing organizations won't sanction any title bouts in Russia due to invasion of Ukraine - ESPN\n",
            "Russians: share your thoughts on the situation with Ukraine - The Guardian\n",
            "How do Ukrainians in Russia feel about the crisis? - Al Jazeera English\n",
            "Big Tech’s Russia problem - Vox.com\n",
            "Ukraine latest updates: Threat of 'unprecedented' sanctions; Russia nuclear drills 'successful'; 'Explosions heard' in Donetsk - Sky News\n",
            "Ukraine refugee crisis: Warm welcomes for those fleeing Russia invasion are a ray of light amid the darkness - iNews\n",
            "Biden and Putin to speak as US warns Russia could attack Ukraine ‘any day’ - The Guardian\n",
            "How Russia has been sanctioned by the world over Ukraine invasion - Daily Mail\n",
            "Belarus should face same sanctions as Russia in event of invasion, says EU - The Guardian\n",
            "Uefa moves to end Gazprom deal and strips Russia of Champions League final - The Guardian\n",
            "Dow futures fall 450 points as traders assess ripple effects of Russia sanctions - CNBC\n",
            "Russia using deception as pretext for Ukraine invasion, western leaders warn - Financial Times\n",
            "‘Investors are shocked’: how Russia’s attack on Ukraine roiled markets - Financial Times\n",
            "Scepticism persists over Russia’s claims it has withdrawn troops – as it happened - The Guardian\n",
            "Ukraine declares state of emergency as citizens urged to flee Russia, but Johnson warns Putin ‘must fail’ - iNews\n"
          ]
        }
      ]
    }
  ]
}