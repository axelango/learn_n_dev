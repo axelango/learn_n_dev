{
  "nbformat": 4,
  "nbformat_minor": 0,
  "metadata": {
    "colab": {
      "name": "GoogleNews_example.ipynb",
      "provenance": [],
      "collapsed_sections": [],
      "authorship_tag": "ABX9TyPsQTq5IlvZkeO00PjrUm02",
      "include_colab_link": true
    },
    "kernelspec": {
      "name": "python3",
      "display_name": "Python 3"
    },
    "language_info": {
      "name": "python"
    }
  },
  "cells": [
    {
      "cell_type": "markdown",
      "metadata": {
        "id": "view-in-github",
        "colab_type": "text"
      },
      "source": [
        "<a href=\"https://colab.research.google.com/github/jgamel/learn_n_dev/blob/python_web_scrapping/GoogleNews_example.ipynb\" target=\"_parent\"><img src=\"https://colab.research.google.com/assets/colab-badge.svg\" alt=\"Open In Colab\"/></a>"
      ]
    },
    {
      "cell_type": "markdown",
      "source": [
        "# Google News"
      ],
      "metadata": {
        "id": "QDE7XRjw1tps"
      }
    },
    {
      "cell_type": "markdown",
      "source": [
        "PyGoogleNews, created by the NewsCatcher Team, acts like a Python wrapper for Google News or an unofficial Google News API. It is based on one simple trick: it exploits a lightweight Google News RSS feed.\n",
        "\n",
        "What data points can it fetch for you?\n",
        "\n",
        "* Top stories\n",
        "* Topic-related news feeds\n",
        "* Geolocation specific news feed\n",
        "* An extensive query-based search feed"
      ],
      "metadata": {
        "id": "rGPbWT7110It"
      }
    },
    {
      "cell_type": "markdown",
      "source": [
        "Mount Drive:"
      ],
      "metadata": {
        "id": "M3m0Fe0ZWtt8"
      }
    },
    {
      "cell_type": "code",
      "execution_count": 3,
      "metadata": {
        "colab": {
          "base_uri": "https://localhost:8080/"
        },
        "id": "qMCQnvnD1L2-",
        "outputId": "2ec470bc-8cbb-48cd-d675-5f99095e93b6"
      },
      "outputs": [
        {
          "output_type": "stream",
          "name": "stdout",
          "text": [
            "Mounted at /content/gdrive\n"
          ]
        }
      ],
      "source": [
        "from google.colab import drive\n",
        "drive.mount('/content/gdrive', force_remount=True)"
      ]
    },
    {
      "cell_type": "code",
      "source": [
        "import sys\n",
        "sys.path.append('/content/gdrive/My Drive/Colab Notebooks')"
      ],
      "metadata": {
        "id": "xofOSWWd2Qrb"
      },
      "execution_count": 4,
      "outputs": []
    },
    {
      "cell_type": "markdown",
      "source": [
        "### Example 1:\n",
        "\n",
        "Pull Top Headlines from Google News"
      ],
      "metadata": {
        "id": "VSoF4vqzW631"
      }
    },
    {
      "cell_type": "code",
      "source": [
        "from pygooglenews import GoogleNews\n",
        "import json\n",
        "import time\n",
        "\n",
        "gn = GoogleNews()\n",
        "top = gn.top_news()\n",
        "\n",
        "entries = top[\"entries\"]\n",
        "count = 0\n",
        "for entry in entries:\n",
        "  count = count + 1\n",
        "  print(\n",
        "    str(count) + \". \" + entry[\"title\"] + entry[\"published\"]\n",
        "  )\n",
        "  time.sleep(0.25)"
      ],
      "metadata": {
        "colab": {
          "base_uri": "https://localhost:8080/"
        },
        "id": "HMeZ4Udm2UPW",
        "outputId": "07fc04fc-01bb-4379-e432-3214755f5c63"
      },
      "execution_count": 3,
      "outputs": [
        {
          "output_type": "stream",
          "name": "stdout",
          "text": [
            "1. One million refugees flee Ukraine as Russia escalates bombardment of key cities - CNNThu, 03 Mar 2022 14:21:00 GMT\n",
            "2. Former Illinois House Speaker Michael Madigan Charged With Racketeering - NBC ChicagoThu, 03 Mar 2022 03:21:55 GMT\n",
            "3. Jan. 6 Committee Lays Out Potential Criminal Charges Against Trump - The New York TimesThu, 03 Mar 2022 12:34:00 GMT\n",
            "4. Russian forces seize key Ukrainian port, pressure others - The Associated Press - en EspañolThu, 03 Mar 2022 13:23:45 GMT\n",
            "5. Russian aircraft now banned from US airspace - NPRThu, 03 Mar 2022 04:57:00 GMT\n",
            "6. Putin's War in Ukraine Has Russian Oligarchs Losing Power—and Billions - BloombergThu, 03 Mar 2022 08:57:00 GMT\n",
            "7. Adopted parents charged with killing toddlers months before reporting them missing - New York PostThu, 03 Mar 2022 05:40:00 GMT\n",
            "8. Santa Fe police officer, another driver killed in I-25 chase - Santa Fe New MexicanThu, 03 Mar 2022 02:33:12 GMT\n",
            "9. Ex-cop says he 'absolutely' did nothing wrong in Breonna Taylor raid | TheHill - The HillThu, 03 Mar 2022 03:40:01 GMT\n",
            "10. Several crashes cause fiery scene on I-95; Multiple dead in Volusia County - WESH 2 OrlandoThu, 03 Mar 2022 13:30:00 GMT\n",
            "11. Russia refuses to launch internet satellites, pointing at sanctions - CNNThu, 03 Mar 2022 12:53:00 GMT\n",
            "12. Ukrainian city of Kherson captured as Russia vows to fight to 'the end' - New York PostThu, 03 Mar 2022 12:50:00 GMT\n",
            "13. Neutral Finland, Sweden warm to idea of NATO membership - The Associated Press - en EspañolThu, 03 Mar 2022 08:02:45 GMT\n",
            "14. Ukrainian Jews, Under Putin’s Bombs, Seethe at His Attempt to Smear Ukraine as Neo-Nazi - The Wall Street JournalWed, 02 Mar 2022 20:08:00 GMT\n",
            "15. Oil surge rattles markets as Ukraine conflict intensifies - ReutersThu, 03 Mar 2022 12:49:00 GMT\n",
            "16. Ukraine War Plunges Auto Makers Into New Supply-Chain Crisis - The Wall Street JournalThu, 03 Mar 2022 12:05:00 GMT\n",
            "17. Kraken CEO fires back at Ukraine’s request to freeze Russian crypto: ‘Step 1 would be to freeze all U.S. accounts’ - FortuneWed, 02 Mar 2022 21:23:33 GMT\n",
            "18. Jobless claims total 215,000, fewer than expected; productivity rises 6.6% - CNBCThu, 03 Mar 2022 13:31:29 GMT\n",
            "19. Apple’s next event is March 8 - TechCrunchWed, 02 Mar 2022 17:19:55 GMT\n",
            "20. A closer look at the other stars of Gran Turismo 7 — the people - The VergeThu, 03 Mar 2022 13:00:00 GMT\n",
            "21. Bungie will ban 'Destiny 2' players who run the game from a Steam Deck - EngadgetWed, 02 Mar 2022 17:11:52 GMT\n",
            "22. Samsung Galaxy S22 Ultra is built like a tank, survives scratch and bend tests - SamMobileWed, 02 Mar 2022 08:11:00 GMT\n",
            "23. How Kanye \"Ye\" West Feels About Kim Kardashian Being Legally Single - E! NEWSThu, 03 Mar 2022 04:13:00 GMT\n",
            "24. Watch Bad Bunny Fight Brad Pitt in Trailer for New Movie Bullet Train - PitchforkWed, 02 Mar 2022 23:11:44 GMT\n",
            "25. Watch Maksim Chmerkovskiy Emotionally Reunite With Wife Peta Murgatroyd, Talk Return from Ukraine (Exclusive) - Entertainment TonightThu, 03 Mar 2022 00:45:30 GMT\n",
            "26. Pete Davidson briefly reactivates Instagram after Kanye West music video - Page SixThu, 03 Mar 2022 12:54:00 GMT\n",
            "27. Russians, Belarusians out of Paralympics amid boycott risk - ABC NewsThu, 03 Mar 2022 12:11:10 GMT\n",
            "28. MLB lockout: Five takeaways as Rob Manfred cancels regular season games after owners, MLBPA fail to reach deal - CBS SportsWed, 02 Mar 2022 23:49:05 GMT\n",
            "29. Transgender U. Penn Swimmer Lia Thomas 'Couldn't Get out of Bed' amid Backlash from Other Athletes - Yahoo EntertainmentThu, 03 Mar 2022 13:01:30 GMT\n",
            "30. Perk on why LeBron should be concerned about the Lakers after loss to Mavs | NBA Today - ESPNWed, 02 Mar 2022 20:45:00 GMT\n",
            "31. Space junk on a 5,800-mph collision course with moon on Friday - Los Angeles TimesWed, 02 Mar 2022 23:24:58 GMT\n",
            "32. Old Stone Age culture discovered in China - Livescience.comWed, 02 Mar 2022 17:24:51 GMT\n",
            "33. How NASA's new weather satellite will help with wildfire tracking and forecasting - KCRA SacramentoWed, 02 Mar 2022 02:37:00 GMT\n",
            "34. Astronomers: “Vampire” star stripped the atmosphere from its binary partner - Ars TechnicaWed, 02 Mar 2022 22:03:03 GMT\n",
            "35. A highly changed coronavirus variant was found in deer after nearly a year in hiding, researchers suggest - CNNThu, 03 Mar 2022 12:26:00 GMT\n",
            "36. Bird flu detected in Iowa poultry flock - KCCI Des MoinesThu, 03 Mar 2022 00:50:00 GMT\n",
            "37. Covid booster restores vaccine protection lost against omicron variant, U.K. study finds - NBC NewsWed, 02 Mar 2022 22:05:44 GMT\n",
            "38. COVID infects penis, testicles and prostate - Medical XpressWed, 02 Mar 2022 13:04:21 GMT\n"
          ]
        }
      ]
    },
    {
      "cell_type": "markdown",
      "source": [
        "The code above shows how you can extract certain data points from the top news articles in the Google RSS feed. You can replace the code “gn.top_news()” with “gn.topic_headlines('business')” to get the top headlines related to “Business” or you could have replaced it with “gn.geo_headlines('San Fran')” to get the top news in the San Fransisco region.\n",
        "\n",
        "You can also use complex queries such as “gn.search('boeing OR airbus')” to find news articles mentioning Boeing or Airbus or “gn.search('boeing -airbus')” to find all news articles that mention Boeing but not Airbus.\n",
        "\n",
        "When web-scraping news articles with this library, for every news entry that you capture, you get the following data points, that you can use for data processing, or training your machine learning model, or running NLP scripts:\n",
        "\n",
        "* Title - contains the Headline for the article\n",
        "* Link - the original link for the article\n",
        "* Published - the date on which it was published\n",
        "* Summary - the article summary\n",
        "* Source - the website on which it was published\n",
        "* Sub-Articles - list of titles, publishers, and links that are on the same topic\n",
        "\n",
        "We extracted just a few of the available data points, but you can extract the others as well, based on your requirements. Here’s a small example of the results produced by complex queries.\n",
        "\n",
        "If you run the code below:"
      ],
      "metadata": {
        "id": "ovAMIpa03M7G"
      }
    },
    {
      "cell_type": "code",
      "source": [
        "from pygooglenews import GoogleNews\n",
        "import json\n",
        "import time\n",
        "\n",
        "gn = GoogleNews()\n",
        "top = gn.topic_headlines('business')\n",
        "\n",
        "entries = top[\"entries\"]\n",
        "count = 0\n",
        "for entry in entries:\n",
        "  count = count + 1\n",
        "  print(\n",
        "    str(count) + \". \" + entry[\"title\"] + entry[\"published\"] + entry[\"link\"]\n",
        "  )\n",
        "  time.sleep(0.25)"
      ],
      "metadata": {
        "id": "JnrmpBHWSnm0",
        "outputId": "ceb231e0-e4e2-4cf9-a5ad-c79d92c7cd70",
        "colab": {
          "base_uri": "https://localhost:8080/"
        }
      },
      "execution_count": 13,
      "outputs": [
        {
          "output_type": "stream",
          "name": "stdout",
          "text": [
            "1. Stocks Turn Lower; Oil Briefly Tops $116 - The Wall Street JournalThu, 03 Mar 2022 15:59:00 GMThttps://news.google.com/__i/rss/rd/articles/CBMiVGh0dHBzOi8vd3d3Lndzai5jb20vYXJ0aWNsZXMvZ2xvYmFsLXN0b2Nrcy1tYXJrZXRzLWRvdy11cGRhdGUtMDMtMDMtMjAyMi0xMTY0NjI5NjQ1MtIBAA?oc=5\n",
            "2. LIVE: Federal Reserve Chair Powell testifies on monetary policy before Senate committee — 3/3/22 - CNBC TelevisionThu, 03 Mar 2022 14:56:43 GMThttps://news.google.com/__i/rss/rd/articles/CBMiK2h0dHBzOi8vd3d3LnlvdXR1YmUuY29tL3dhdGNoP3Y9TC1lWnJNcHYxQ0XSAQA?oc=5\n",
            "3. Wall Street praises Ford's EV plans but questions its sales and profit margin targets - CNBCThu, 03 Mar 2022 12:48:08 GMThttps://news.google.com/__i/rss/rd/articles/CBMiamh0dHBzOi8vd3d3LmNuYmMuY29tLzIwMjIvMDMvMDMvd2FsbC1zdHJlZXQtcHJhaXNlcy1mb3Jkcy1ldi1wbGFucy1xdWVzdGlvbnMtc2FsZXMtYW5kLXByb2ZpdC10YXJnZXRzLmh0bWzSAQA?oc=5\n",
            "4. Volkswagen stops car production in Russia and suspends shipments - CNNThu, 03 Mar 2022 16:45:00 GMThttps://news.google.com/__i/rss/rd/articles/CBMiamh0dHBzOi8vd3d3LmNubi5jb20vZXVyb3BlL2xpdmUtbmV3cy91a3JhaW5lLXJ1c3NpYS1wdXRpbi1uZXdzLTAzLTAzLTIyL2hfMmIxNWYxM2E0ODgzZmIzOThmMmZkZWM4NDQ1ZWFlYzTSAQA?oc=5\n",
            "5. McDonald's Sued for $900 Million Over Broken Ice Cream Machine Business - IGNThu, 03 Mar 2022 13:01:41 GMThttps://news.google.com/__i/rss/rd/articles/CBMiUGh0dHBzOi8vd3d3Lmlnbi5jb20vYXJ0aWNsZXMvbWNkb25hbGRzLXN1ZWQtOTAwLW1pbGxpb24tYnJva2VuLWljZS1jcmVhbS1tYWNoaW5l0gEA?oc=5\n",
            "6. After backlash, Rivian (RIVN) backtracks on price hike in letter from Founder/CEO RJ Scaringe - Electrek.coThu, 03 Mar 2022 14:33:00 GMThttps://news.google.com/__i/rss/rd/articles/CBMiaWh0dHBzOi8vZWxlY3RyZWsuY28vMjAyMi8wMy8wMy9hZnRlci1iYWNrbGFzaC1yaXZpYW4tYmFja3RyYWNrcy1vbi1wcmljZS1oaWtlLWxldHRlci1mcm9tLWZvdW5kZXItY2VvLXJqL9IBAA?oc=5\n",
            "7. Jobless claims total 215,000, fewer than expected; productivity rises 6.6% - CNBCThu, 03 Mar 2022 13:31:29 GMThttps://news.google.com/__i/rss/rd/articles/CBMiO2h0dHBzOi8vd3d3LmNuYmMuY29tLzIwMjIvMDMvMDMvd2Vla2x5LWpvYmxlc3MtY2xhaW1zLS5odG1s0gEA?oc=5\n",
            "8. Kraken CEO fires back at Ukraine’s request to freeze Russian crypto: ‘Step 1 would be to freeze all U.S. accounts’ - FortuneWed, 02 Mar 2022 21:23:33 GMThttps://news.google.com/__i/rss/rd/articles/CBMiX2h0dHBzOi8vZm9ydHVuZS5jb20vMjAyMi8wMy8wMi9rcmFrZW4tY2VvLXJlc3BvbnNlLXRvLXVrcmFpbmUtcmVxdWVzdC10by1mcmVlemUtcnVzc2lhbi1jcnlwdG8v0gEA?oc=5\n",
            "9. Every bitcoin helps: why Ukraine is soliciting for cryptocurrency donations - The GuardianThu, 03 Mar 2022 13:02:00 GMThttps://news.google.com/__i/rss/rd/articles/CBMiY2h0dHBzOi8vd3d3LnRoZWd1YXJkaWFuLmNvbS90ZWNobm9sb2d5LzIwMjIvbWFyLzAzL2JpdGNvaW4tZG9uYXRpb25zLWNyeXB0b2N1cnJlbmN5LXN1cHBvcnQtdWtyYWluZdIBY2h0dHBzOi8vYW1wLnRoZWd1YXJkaWFuLmNvbS90ZWNobm9sb2d5LzIwMjIvbWFyLzAzL2JpdGNvaW4tZG9uYXRpb25zLWNyeXB0b2N1cnJlbmN5LXN1cHBvcnQtdWtyYWluZQ?oc=5\n",
            "10. Amazon shuttering its physical bookstores and 4-star shops - Fox BusinessThu, 03 Mar 2022 13:08:42 GMThttps://news.google.com/__i/rss/rd/articles/CBMiVWh0dHBzOi8vd3d3LmZveGJ1c2luZXNzLmNvbS9yZXRhaWwvYW1hem9uLXNodXR0ZXJpbmctcGh5c2ljYWwtYm9va3N0b3Jlcy00LXN0YXItc2hvcHPSAQA?oc=5\n",
            "11. Why many businesses are getting tougher on Russia than sanctions require - CNNThu, 03 Mar 2022 13:37:00 GMThttps://news.google.com/__i/rss/rd/articles/CBMiV2h0dHBzOi8vd3d3LmNubi5jb20vMjAyMi8wMy8wMy9idXNpbmVzcy9idXNpbmVzcy1nby1iZXlvbmQtcnVzc2lhbi1zYW5jdGlvbnMvaW5kZXguaHRtbNIBAA?oc=5\n",
            "12. Elon Musk Invites UAW to Hold Union Vote at Tesla - The Wall Street JournalThu, 03 Mar 2022 15:15:00 GMThttps://news.google.com/__i/rss/rd/articles/CBMiWmh0dHBzOi8vd3d3Lndzai5jb20vYXJ0aWNsZXMvZWxvbi1tdXNrLWludml0ZXMtdWF3LXRvLWhvbGQtdW5pb24tdm90ZS1hdC10ZXNsYS0xMTY0NjI5Mjk2M9IBAA?oc=5\n",
            "13. There should be no new gas supply contracts with Russia: IEA - CNBCThu, 03 Mar 2022 14:51:38 GMThttps://news.google.com/__i/rss/rd/articles/CBMiYGh0dHBzOi8vd3d3LmNuYmMuY29tLzIwMjIvMDMvMDMvdGhlcmUtc2hvdWxkLWJlLW5vLW5ldy1nYXMtc3VwcGx5LWNvbnRyYWN0cy13aXRoLXJ1c3NpYS1pZWEuaHRtbNIBAA?oc=5\n",
            "14. Major Bay Area-based tech company calls employees back to office - SF GateThu, 03 Mar 2022 16:07:30 GMThttps://news.google.com/__i/rss/rd/articles/CBMiXWh0dHBzOi8vd3d3LnNmZ2F0ZS5jb20vYmF5YXJlYS9hcnRpY2xlL0dvb2dsZS1hc2tzLWVtcGxveWVlcy10by1yZXR1cm4tdG8tb2ZmaWNlLTE2OTczODg0LnBocNIBAA?oc=5\n",
            "15. Fitbit recalls nearly 2 million Ionic smartwatches due to burn hazard - CBS NewsThu, 03 Mar 2022 13:21:00 GMThttps://news.google.com/__i/rss/rd/articles/CBMiSGh0dHBzOi8vd3d3LmNic25ld3MuY29tL25ld3MvZml0Yml0LXJlY2FsbC1idXJuLWhhemFyZC1pb25pYy1zbWFydHdhdGNoL9IBAA?oc=5\n",
            "16. Nissan Ex-Executive Gets Suspended Sentence in Carlos Ghosn Case - The New York TimesThu, 03 Mar 2022 14:24:04 GMThttps://news.google.com/__i/rss/rd/articles/CBMiSmh0dHBzOi8vd3d3Lm55dGltZXMuY29tLzIwMjIvMDMvMDMvYnVzaW5lc3Mvbmlzc2FuLWdyZWcta2VsbHktdmVyZGljdC5odG1s0gEA?oc=5\n",
            "17. Stocks reverse, oil holds at $110 on Ukraine, Russia latest - Fox BusinessThu, 03 Mar 2022 16:40:04 GMThttps://news.google.com/__i/rss/rd/articles/CBMiOmh0dHBzOi8vd3d3LmZveGJ1c2luZXNzLmNvbS9tYXJrZXRzL3N0b2NrLWZ1dHVyZXMtMy0zLTIwMjLSAQA?oc=5\n",
            "18. Apple's decision to stop selling products in Russia puts pressure on other smartphone makers - CNBCThu, 03 Mar 2022 11:58:16 GMThttps://news.google.com/__i/rss/rd/articles/CBMiaWh0dHBzOi8vd3d3LmNuYmMuY29tLzIwMjIvMDMvMDMvYXBwbGVzLWRlY2lzaW9uLXRvLWhhbHQtcnVzc2lhLXNhbGVzLXB1dHMtcHJlc3N1cmUtb24tc2Ftc3VuZy1nb29nbGUuaHRtbNIBAA?oc=5\n",
            "19. Gas prices: Americans should get ready for $5 a gallon at the pumps, analyst warns - CBS NewsThu, 03 Mar 2022 13:16:00 GMThttps://news.google.com/__i/rss/rd/articles/CBMiSGh0dHBzOi8vd3d3LmNic25ld3MuY29tL25ld3MvZ2FzLXByaWNlcy01LWRvbGxhcnMtZ2FsbG9uLXJ1c3NpYS11a3JhaW5lL9IBAA?oc=5\n",
            "20. Banks are stopping Putin from tapping a $630 billion war chest Russia stockpiled before invading Ukraine - FortuneThu, 03 Mar 2022 07:08:24 GMThttps://news.google.com/__i/rss/rd/articles/CBMiWmh0dHBzOi8vZm9ydHVuZS5jb20vMjAyMi8wMy8wMy9ydXNzaWEtc2FuY3Rpb25zLWNlbnRyYWwtYmFuay1ydWJsZS11cy1ldS1mb3JlaWduLXJlc2VydmVzL9IBAA?oc=5\n",
            "21. European markets rise as London Stock Exchange blocks trading in Russian stocks - Yahoo FinanceThu, 03 Mar 2022 09:02:38 GMThttps://news.google.com/__i/rss/rd/articles/CBMihAFodHRwczovL2ZpbmFuY2UueWFob28uY29tL25ld3MvZXVyb3BlYW4tbWFya2V0cy1yaXNlLWZ0c2UtZGF4LWNhYy1sb25kb24tc3RvY2stZXhjaGFuZ2UtYmxvY2tzLXRyYWRpbmctcnVzc2lhbi1zdG9ja3MtMDkwMjM4NTQ5Lmh0bWzSAYwBaHR0cHM6Ly9maW5hbmNlLnlhaG9vLmNvbS9hbXBodG1sL25ld3MvZXVyb3BlYW4tbWFya2V0cy1yaXNlLWZ0c2UtZGF4LWNhYy1sb25kb24tc3RvY2stZXhjaGFuZ2UtYmxvY2tzLXRyYWRpbmctcnVzc2lhbi1zdG9ja3MtMDkwMjM4NTQ5Lmh0bWw?oc=5\n",
            "22. Stocks making the biggest moves in the premarket: Best Buy, BJ's, Snowflake and more - CNBCThu, 03 Mar 2022 14:08:24 GMThttps://news.google.com/__i/rss/rd/articles/CBMidWh0dHBzOi8vd3d3LmNuYmMuY29tLzIwMjIvMDMvMDMvc3RvY2tzLW1ha2luZy10aGUtYmlnZ2VzdC1tb3Zlcy1pbi10aGUtcHJlbWFya2V0LWJlc3QtYnV5LWJqcy1zbm93Zmxha2UtYW5kLW1vcmUuaHRtbNIBAA?oc=5\n",
            "23. Snowflake Stock Tumbles as Disappointing Guidance Overshadows Strong Quarter - Barron'sThu, 03 Mar 2022 13:57:00 GMThttps://news.google.com/__i/rss/rd/articles/CBMiS2h0dHBzOi8vd3d3LmJhcnJvbnMuY29tL2FydGljbGVzL3Nub3dmbGFrZS1zdG9jay1wcmljZS1lYXJuaW5ncy01MTY0NjI2MTE4MtIBAA?oc=5\n",
            "24. Citigroup CEO Jane Fraser sees 'tremendous upside' in stock after tepid Investor Day response - CNBCThu, 03 Mar 2022 15:34:02 GMThttps://news.google.com/__i/rss/rd/articles/CBMigAFodHRwczovL3d3dy5jbmJjLmNvbS8yMDIyLzAzLzAzL2NpdGlncm91cC1jZW8tamFuZS1mcmFzZXItc2Vlcy10cmVtZW5kb3VzLXVwc2lkZS1pbi1zdG9jay1hZnRlci10ZXBpZC1pbnZlc3Rvci1kYXktcmVzcG9uc2UuaHRtbNIBAA?oc=5\n",
            "25. SocGen fears confiscation of Russia assets as banks prepare for worst - ReutersThu, 03 Mar 2022 15:14:00 GMThttps://news.google.com/__i/rss/rd/articles/CBMibmh0dHBzOi8vd3d3LnJldXRlcnMuY29tL21hcmtldHMvZXVyb3BlL3NvY2dlbi1zYXlzLXdvcmtpbmctcmVkdWNlLXJ1c3NpYS1yaXNrcy1iYW5rLXNoYXJlcy1qaXR0ZXJ5LTIwMjItMDMtMDMv0gEA?oc=5\n",
            "26. Turkey's inflation rate hits a new 20-year high of 54% - CNBCThu, 03 Mar 2022 10:04:03 GMThttps://news.google.com/__i/rss/rd/articles/CBMiYWh0dHBzOi8vd3d3LmNuYmMuY29tLzIwMjIvMDMvMDMvdHVya2V5cy1pbmZsYXRpb24tcmF0ZS1oaXRzLWEtbmV3LTIwLXllYXItaGlnaC1vZi01NHBlcmNlbnQtLmh0bWzSAQA?oc=5\n",
            "27. Sanctions have sharply raised chance of a Russian default, JPMorgan warns - CNNWed, 02 Mar 2022 18:45:00 GMThttps://news.google.com/__i/rss/rd/articles/CBMiTGh0dHBzOi8vd3d3LmNubi5jb20vMjAyMi8wMy8wMi9pbnZlc3RpbmcvZGVmYXVsdC1zYW5jdGlvbnMtcnVzc2lhL2luZGV4Lmh0bWzSAQA?oc=5\n",
            "28. Tesla Receives a Permit That Will Scare Its Rivals - TheStreetThu, 03 Mar 2022 14:59:53 GMThttps://news.google.com/__i/rss/rd/articles/CBMiVWh0dHBzOi8vd3d3LnRoZXN0cmVldC5jb20vdGVjaG5vbG9neS90ZXNsYS1yZWNlaXZlcy1wZXJtaXQtdGhhdC13aWxsLXNjYXJlLWl0cy1yaXZhbHPSAQA?oc=5\n",
            "29. IKEA temporarily closes stores in Russia, flags bigger price hikes - ReutersThu, 03 Mar 2022 16:28:00 GMThttps://news.google.com/__i/rss/rd/articles/CBMidGh0dHBzOi8vd3d3LnJldXRlcnMuY29tL2J1c2luZXNzL2lrZWEtdGVtcG9yYXJpbHktY2xvc2VzLWl0cy1zdG9yZXMtcnVzc2lhLWhhbHRzLXNvdXJjaW5nLXJ1c3NpYS1iZWxhcnVzLTIwMjItMDMtMDMv0gEA?oc=5\n",
            "30. Teen who tracked Elon Musk jet now following Putin, oligarchs - New York Daily NewsThu, 03 Mar 2022 00:19:00 GMThttps://news.google.com/__i/rss/rd/articles/CBMifmh0dHBzOi8vd3d3Lm55ZGFpbHluZXdzLmNvbS9uZXdzL25hdGlvbmFsL255LXB1dGluLWZsaWdodC10cmFja2VyLWtpZC1lbG9uLW11c2stMjAyMjAzMDMtYnZ6M255anFsNWJjdGZ1bGpyenJ4dHJkc3Etc3RvcnkuaHRtbNIBAA?oc=5\n",
            "31. CNN+ to Cost $2.99 a Month at Launch - Hollywood ReporterThu, 03 Mar 2022 01:30:00 GMThttps://news.google.com/__i/rss/rd/articles/CBMiWmh0dHBzOi8vd3d3LmhvbGx5d29vZHJlcG9ydGVyLmNvbS9idXNpbmVzcy9kaWdpdGFsL2Nubi1wbHVzLXN1YnNjcmlwdGlvbi1wcmljZS0xMjM1MTAzMzA3L9IBXmh0dHBzOi8vd3d3LmhvbGx5d29vZHJlcG9ydGVyLmNvbS9idXNpbmVzcy9kaWdpdGFsL2Nubi1wbHVzLXN1YnNjcmlwdGlvbi1wcmljZS0xMjM1MTAzMzA3L2FtcC8?oc=5\n",
            "32. Cheap insulin for diabetics is next mission for Civica Rx nonprofit drug maker - The Washington PostThu, 03 Mar 2022 12:00:35 GMThttps://news.google.com/__i/rss/rd/articles/CBMiSGh0dHBzOi8vd3d3Lndhc2hpbmd0b25wb3N0LmNvbS9idXNpbmVzcy8yMDIyLzAzLzAzL2NoZWFwZXItaW5zdWxpbi1wbGFuL9IBAA?oc=5\n",
            "33. At least eight additional babies sickened by recalled formula, lawyer says - CBS NewsThu, 03 Mar 2022 00:51:49 GMThttps://news.google.com/__i/rss/rd/articles/CBMiRmh0dHBzOi8vd3d3LmNic25ld3MuY29tL25ld3MvcG93ZGVyZWQtYmFieS1mb3JtdWxhLXJlY2FsbC1zaW1pbGFjLWZkYS_SAQA?oc=5\n",
            "34. Today's 30-year mortgage rates freefall to lowest level in three weeks | March 2, 2022 - Fox BusinessWed, 02 Mar 2022 15:54:20 GMThttps://news.google.com/__i/rss/rd/articles/CBMiT2h0dHBzOi8vd3d3LmZveGJ1c2luZXNzLmNvbS9wZXJzb25hbC1maW5hbmNlL3RvZGF5cy1tb3J0Z2FnZS1yYXRlcy1tYXJjaC0yLTIwMjLSAQA?oc=5\n",
            "35. First Mover Americas: Fed Hikes Could Drive Bitcoin Adoption in Emerging Markets - CoinDeskThu, 03 Mar 2022 14:33:00 GMThttps://news.google.com/__i/rss/rd/articles/CBMifWh0dHBzOi8vd3d3LmNvaW5kZXNrLmNvbS9idXNpbmVzcy8yMDIyLzAzLzAzL2ZpcnN0LW1vdmVyLWFtZXJpY2FzLWZlZC1oaWtlcy1jb3VsZC1kcml2ZS1iaXRjb2luLWFkb3B0aW9uLWluLWVtZXJnaW5nLW1hcmtldHMv0gEA?oc=5\n",
            "36. Hackers Who Broke Into NVIDIA's Network Leak DLSS Source Code Online - The Hacker NewsThu, 03 Mar 2022 10:17:00 GMThttps://news.google.com/__i/rss/rd/articles/CBMiTWh0dHBzOi8vdGhlaGFja2VybmV3cy5jb20vMjAyMi8wMy9oYWNrZXJzLXdoby1icm9rZS1pbnRvLW52aWRpYXMtbmV0d29yay5odG1s0gEA?oc=5\n",
            "37. JetBlue Pilot Removed From Cockpit After Failing Breathalyzer Test Just Before Takeoff - The DriveThu, 03 Mar 2022 01:03:21 GMThttps://news.google.com/__i/rss/rd/articles/CBMiemh0dHBzOi8vd3d3LnRoZWRyaXZlLmNvbS9uZXdzLzQ0NTQ3L2pldGJsdWUtcGlsb3QtcmVtb3ZlZC1mcm9tLWNvY2twaXQtYWZ0ZXItZmFpbGluZy1icmVhdGhhbHl6ZXItdGVzdC1qdXN0LWJlZm9yZS10YWtlb2Zm0gEA?oc=5\n",
            "38. A Closed Russia Market After Invasion Challenges U.S. Fund Managers - The Wall Street JournalThu, 03 Mar 2022 14:35:00 GMThttps://news.google.com/__i/rss/rd/articles/CBMia2h0dHBzOi8vd3d3Lndzai5jb20vYXJ0aWNsZXMvYS1jbG9zZWQtcnVzc2lhLW1hcmtldC1hZnRlci1pbnZhc2lvbi1jaGFsbGVuZ2VzLXUtcy1mdW5kLW1hbmFnZXJzLTExNjQ2MzAzNDAx0gEA?oc=5\n",
            "39. Kia unveils 'Automode' autonomous driving tech that will debut on the EV9 SUV - EngadgetThu, 03 Mar 2022 05:52:49 GMThttps://news.google.com/__i/rss/rd/articles/CBMidWh0dHBzOi8vd3d3LmVuZ2FkZ2V0LmNvbS9raWFzLXVudmVpbHMtYXV0b21vZGUtYXV0b25vbW91cy1kcml2aW5nLXRlY2gtdGhhdC13aWxsLWRlYnV0LW9uLXRoZS1ldi05LXN1di0wNTUxMjk1NDguaHRtbNIBAA?oc=5\n",
            "40. NJ Drivers May Soon Do Something They Haven't Done in 70 Years: Pump Their Own Gas - NBC New YorkWed, 02 Mar 2022 03:42:19 GMThttps://news.google.com/__i/rss/rd/articles/CBMif2h0dHBzOi8vd3d3Lm5iY25ld3lvcmsuY29tL25ld3MvbG9jYWwvbmotZHJpdmVycy1tYXktc29vbi1kby1zb21ldGhpbmctdGhleS1oYXZlbnQtZG9uZS1pbi03MC15ZWFycy1wdW1wLXRoZWlyLW93bi1nYXMvMzU3ODY3Mi_SAYMBaHR0cHM6Ly93d3cubmJjbmV3eW9yay5jb20vbmV3cy9sb2NhbC9uai1kcml2ZXJzLW1heS1zb29uLWRvLXNvbWV0aGluZy10aGV5LWhhdmVudC1kb25lLWluLTcwLXllYXJzLXB1bXAtdGhlaXItb3duLWdhcy8zNTc4NjcyLz9hbXA?oc=5\n",
            "41. Russia Fails To Meet OPEC Quota Again Despite Rising Oil Production - OilPrice.comWed, 02 Mar 2022 22:30:00 GMThttps://news.google.com/__i/rss/rd/articles/CBMie2h0dHBzOi8vb2lscHJpY2UuY29tL0xhdGVzdC1FbmVyZ3ktTmV3cy9Xb3JsZC1OZXdzL1J1c3NpYS1GYWlscy1Uby1NZWV0LU9QRUMtUXVvdGEtQWdhaW4tRGVzcGl0ZS1SaXNpbmctT2lsLVByb2R1Y3Rpb24uaHRtbNIBAA?oc=5\n",
            "42. BharatPe founder Ashneer Grover siphoned off money, Indian startup says - TechCrunchWed, 02 Mar 2022 06:56:15 GMThttps://news.google.com/__i/rss/rd/articles/CBMiamh0dHBzOi8vdGVjaGNydW5jaC5jb20vMjAyMi8wMy8wMS9iaGFyYXRwZS1mb3VuZGVyLWFzaG5lZXItZ3JvdmVyLXNpcGhvbmVkLW9mZi1tb25leS1maW50ZWNoLXN0YXJ0dXAtc2F5cy_SAQA?oc=5\n",
            "43. FDA begins court-mandated release of thousands of pages on Pfizer's Covid-19 vaccine review - Endpoints NewsWed, 02 Mar 2022 18:33:00 GMThttps://news.google.com/__i/rss/rd/articles/CBMibmh0dHBzOi8vZW5kcHRzLmNvbS9mZGEtYmVnaW5zLWNvdXJ0LW1hbmRhdGVkLXJlbGVhc2Utb2YtdGhvdXNhbmRzLW9mLXBhZ2VzLW9uLXBmaXplcnMtY292aWQtMTktdmFjY2luZS1yZXZpZXcv0gEA?oc=5\n",
            "44. Russia-Ukraine the end of dollar dominance? Don’t bet on it: Morning Brief - Yahoo FinanceThu, 03 Mar 2022 10:54:35 GMThttps://news.google.com/__i/rss/rd/articles/CBMidWh0dHBzOi8vZmluYW5jZS55YWhvby5jb20vbmV3cy9ydXNzaWEtdWtyYWluZS10aGUtZW5kLW9mLWRvbGxhci1kb21pbmFuY2UtZG9udC1iZXQtb24taXQtbW9ybmluZy1icmllZi0xMDA4MzY5MzIuaHRtbNIBAA?oc=5\n",
            "45. FDA issues warning not to use specific COVID-19 test over risk of false results - News 12 BronxWed, 02 Mar 2022 18:11:15 GMThttps://news.google.com/__i/rss/rd/articles/CBMiaGh0dHBzOi8vYnJvbngubmV3czEyLmNvbS9mZGEtaXNzdWVzLXdhcm5pbmctbm90LXRvLXVzZS1zcGVjaWZpYy1jb3ZpZC0xOS10ZXN0LW92ZXItcmlzay1vZi1mYWxzZS1yZXN1bHRz0gEA?oc=5\n",
            "46. The Ultimate Guide to Eating and Drinking at High Street Place, Boston's Newest Food Hall - Eater BostonWed, 02 Mar 2022 14:07:56 GMThttps://news.google.com/__i/rss/rd/articles/CBMiWmh0dHBzOi8vYm9zdG9uLmVhdGVyLmNvbS8yMjk1Nzk3Ni9oaWdoLXN0cmVldC1wbGFjZS1ib3N0b24tZm9vZC1oYWxsLWVhdGluZy1kcmlua2luZy1ndWlkZdIBAA?oc=5\n",
            "47. Netflix Purchases Stranger Things Game Developer - IGN - IGNWed, 02 Mar 2022 18:50:32 GMThttps://news.google.com/__i/rss/rd/articles/CBMiRWh0dHBzOi8vd3d3Lmlnbi5jb20vYXJ0aWNsZXMvbmV0ZmxpeC1pcy1idXlpbmctYW5vdGhlci1nYW1lLWRldmVsb3BlctIBAA?oc=5\n",
            "48. Carmakers shut factories and freeze sales as invasion fallout spreads - Ars TechnicaWed, 02 Mar 2022 22:24:07 GMThttps://news.google.com/__i/rss/rd/articles/CBMidmh0dHBzOi8vYXJzdGVjaG5pY2EuY29tL2NhcnMvMjAyMi8wMy9jYXJtYWtlcnMtc2h1dC1mYWN0b3JpZXMtYW5kLWZyZWV6ZS1zYWxlcy1hcy1pbnZhc2lvbi1mYWxsb3V0LXNwcmVhZHMvP2NvbW1lbnRzPTHSAXFodHRwczovL2Fyc3RlY2huaWNhLmNvbS9jYXJzLzIwMjIvMDMvY2FybWFrZXJzLXNodXQtZmFjdG9yaWVzLWFuZC1mcmVlemUtc2FsZXMtYXMtaW52YXNpb24tZmFsbG91dC1zcHJlYWRzLz9hbXA9MQ?oc=5\n",
            "49. Rouble hits record low in Moscow, remains volatile outside Russia - ReutersWed, 02 Mar 2022 22:19:00 GMThttps://news.google.com/__i/rss/rd/articles/CBMiaGh0dHBzOi8vd3d3LnJldXRlcnMuY29tL21hcmtldHMvZXVyb3BlL3J1c3NpYW4tcm91YmxlLXNsaXBzLXBhc3QtMTAwLXZzLWRvbGxhci1iYW5rcy1odW50LWZ4LTIwMjItMDMtMDIv0gEA?oc=5\n",
            "50. Wheat and corn markets react to war in world's breadbasket - Fox BusinessTue, 01 Mar 2022 18:10:30 GMThttps://news.google.com/__i/rss/rd/articles/CBMiVWh0dHBzOi8vd3d3LmZveGJ1c2luZXNzLmNvbS9saWZlc3R5bGUvd2hlYXQtY29ybi1tYXJrZXRzLXJlYWN0LXdhci13b3JsZHMtYnJlYWRiYXNrZXTSAQA?oc=5\n",
            "51. Journalists at Gizmodo and Related Websites Go on Strike - The New York TimesTue, 01 Mar 2022 18:36:42 GMThttps://news.google.com/__i/rss/rd/articles/CBMiRWh0dHBzOi8vd3d3Lm55dGltZXMuY29tLzIwMjIvMDMvMDEvYnVzaW5lc3MvZ2l6bW9kby1tZWRpYS1zdHJpa2UuaHRtbNIBAA?oc=5\n",
            "52. Key jobs measure says America added 475,000 positions in February, beating expectations - CNNWed, 02 Mar 2022 15:18:00 GMThttps://news.google.com/__i/rss/rd/articles/CBMiSmh0dHBzOi8vd3d3LmNubi5jb20vMjAyMi8wMy8wMi9lY29ub215L2FkcC1qb2JzLXJlcG9ydC1mZWJydWFyeS9pbmRleC5odG1s0gEA?oc=5\n",
            "53. Buy Tony Stewart's Indiana Mansion -- It's A Massive Bass Pro Shop! - OutKickWed, 02 Mar 2022 19:11:04 GMThttps://news.google.com/__i/rss/rd/articles/CBMiVmh0dHBzOi8vd3d3Lm91dGtpY2suY29tL2J1eS10b255LXN0ZXdhcnRzLWluZGlhbmEtbWFuc2lvbi1pdHMtYS1tYXNzaXZlLWJhc3MtcHJvLXNob3Av0gEA?oc=5\n",
            "54. Ericsson faces Justice Department accusations over alleged corruption, possible ISIS payments in Iraq - The Washington PostWed, 02 Mar 2022 18:00:00 GMThttps://news.google.com/__i/rss/rd/articles/CBMiR2h0dHBzOi8vd3d3Lndhc2hpbmd0b25wb3N0LmNvbS93b3JsZC8yMDIyLzAzLzAyL2Rvai1lcmljc3Nvbi1pcmFxLWlzaXMv0gEA?oc=5\n",
            "55. Gold drops against Canadian dollar as BoC embarks on new tightening cycle - Kitco NEWSWed, 02 Mar 2022 15:08:00 GMThttps://news.google.com/__i/rss/rd/articles/CBMidGh0dHBzOi8vd3d3LmtpdGNvLmNvbS9uZXdzLzIwMjItMDMtMDIvR29sZC1kcm9wcy1hZ2FpbnN0LUNhbmFkaWFuLWRvbGxhci1hcy1Cb0MtZW1iYXJrcy1vbi1uZXctdGlnaHRlbmluZy1jeWNsZS5odG1s0gEA?oc=5\n",
            "56. Required withdrawals from IRAs and 401(k) plans are now based on more generous life expectancy tables. Here's what to know - CNBCThu, 03 Mar 2022 15:25:22 GMThttps://news.google.com/__i/rss/rd/articles/CBMiaGh0dHBzOi8vd3d3LmNuYmMuY29tLzIwMjIvMDMvMDMvcmVxdWlyZWQtd2l0aGRyYXdhbHMtZnJvbS1pcmFzLTQwMWtzLXVzZS1uZXctbGlmZS1leHBlY3RhbmN5LXRhYmxlcy5odG1s0gEA?oc=5\n",
            "57. Elon Musk Offers Ukrainians Tips to Keep Satellite Internet Service Up in Wartime - The Wall Street JournalWed, 02 Mar 2022 21:53:44 GMThttps://news.google.com/__i/rss/rd/articles/CBMisgFodHRwczovL3d3dy53c2ouY29tL2xpdmVjb3ZlcmFnZS9ydXNzaWEtdWtyYWluZS1sYXRlc3QtbmV3cy0yMDIyLTAzLTAyL2NhcmQvZWxvbi1tdXNrLW9mZmVycy11a3JhaW5pYW5zLXRpcHMtdG8ta2VlcC1zYXRlbGxpdGUtaW50ZXJuZXQtc2VydmljZS11cC1pbi13YXJ0aW1lLUxxMU5zakNadXRJNm04YlRFc3JH0gEA?oc=5\n",
            "58. MSCI Removes 'Uninvestable' Russia From Emerging-Market Indexes - BloombergWed, 02 Mar 2022 22:42:53 GMThttps://news.google.com/__i/rss/rd/articles/CBMic2h0dHBzOi8vd3d3LmJsb29tYmVyZy5jb20vbmV3cy9hcnRpY2xlcy8yMDIyLTAzLTAyL21zY2ktcHVsbHMtcnVzc2lhbi1lcXVpdGllcy1vdXQtb2YtaXRzLWtleS1lbWVyZ2luZy1tYXJrZXQtaW5kZXjSAQA?oc=5\n",
            "59. Biglaw Firm With The Most Revenue Makes Another Round Of Raises - Above the LawTue, 01 Mar 2022 22:19:37 GMThttps://news.google.com/__i/rss/rd/articles/CBMiNmh0dHBzOi8vYWJvdmV0aGVsYXcuY29tLzIwMjIvMDMva2lya2xhbmQtcmUtcmFpc2VzLTIyL9IBAA?oc=5\n",
            "60. AMC chief Adam Aron on the death of movie theaters: 'What a load of cow dung' - Yahoo FinanceWed, 02 Mar 2022 16:57:25 GMThttps://news.google.com/__i/rss/rd/articles/CBMieGh0dHBzOi8vZmluYW5jZS55YWhvby5jb20vbmV3cy9hbWMtY2hpZWYtYWRhbS1hcm9uLW9uLXRoZS1kZWF0aC1vZi1tb3ZpZS10aGVhdGVycy13aGF0LWEtbG9hZC1vZi1jb3ctZHVuZy0xNjU3MjU5MDMuaHRtbNIBAA?oc=5\n",
            "61. REI Workers in New York Vote to Unionize - The New York TimesThu, 03 Mar 2022 01:33:28 GMThttps://news.google.com/__i/rss/rd/articles/CBMiQ2h0dHBzOi8vd3d3Lm55dGltZXMuY29tLzIwMjIvMDMvMDIvYnVzaW5lc3MvcmVpLXVuaW9uLW5ldy15b3JrLmh0bWzSAQA?oc=5\n",
            "62. Peloton ex-CEO John Foley sells $50 million in stock to Michael Dell's investment firm - CNBCThu, 03 Mar 2022 11:56:34 GMThttps://news.google.com/__i/rss/rd/articles/CBMibWh0dHBzOi8vd3d3LmNuYmMuY29tLzIwMjIvMDMvMDMvcGVsb3Rvbi1leC1jZW8tam9obi1mb2xleS1zZWxscy01MC1taWxsaW9uLWluLXN0b2NrLXRvLW1pY2hhZWwtZGVsbC1maXJtLmh0bWzSAQA?oc=5\n",
            "63. Weaker Omicron variant is great news for the world, but bad news for Covid-related clinical trials - Endpoints NewsWed, 02 Mar 2022 15:40:19 GMThttps://news.google.com/__i/rss/rd/articles/CBMidWh0dHBzOi8vZW5kcHRzLmNvbS93ZWFrZXItb21pY3Jvbi12YXJpYW50LWlzLWdyZWF0LW5ld3MtZm9yLXRoZS13b3JsZC1idXQtYmFkLW5ld3MtZm9yLWNvdmlkLXJlbGF0ZWQtY2xpbmljYWwtdHJpYWxzL9IBAA?oc=5\n",
            "64. Driving Bitcoin Donations, Ukraine-Russia Conflict Showcases Separation Of Money And State - Bitcoin MagazineThu, 03 Mar 2022 00:30:00 GMThttps://news.google.com/__i/rss/rd/articles/CBMiTWh0dHBzOi8vYml0Y29pbm1hZ2F6aW5lLmNvbS9jdWx0dXJlL3VrcmFpbmUtcnVzc2lhLWNvbmZsaWN0LXNob3djYXNlcy1iaXRjb2lu0gFSaHR0cHM6Ly9iaXRjb2lubWFnYXppbmUuY29tLy5hbXAvY3VsdHVyZS91a3JhaW5lLXJ1c3NpYS1jb25mbGljdC1zaG93Y2FzZXMtYml0Y29pbg?oc=5\n",
            "65. EXCLUSIVE Regulators prepare for possible closure of VTB in Europe - sources - ReutersThu, 03 Mar 2022 15:36:00 GMThttps://news.google.com/__i/rss/rd/articles/CBMic2h0dHBzOi8vd3d3LnJldXRlcnMuY29tL21hcmtldHMvZXVyb3BlL2V4Y2x1c2l2ZS1yZWd1bGF0b3JzLXByZXBhcmUtcG9zc2libGUtY2xvc3VyZS12dGItZXVyb3BlLXNvdXJjZXMtMjAyMi0wMy0wMi_SAQA?oc=5\n",
            "66. Talking War and Market Volatility With a Giant of Economics - The New York TimesThu, 03 Mar 2022 13:15:42 GMThttps://news.google.com/__i/rss/rd/articles/CBMiRmh0dHBzOi8vd3d3Lm55dGltZXMuY29tLzIwMjIvMDMvMDMvYnVzaW5lc3MvdWtyYWluZS1wdXRpbi1tYXJrZXRzLmh0bWzSAQA?oc=5\n",
            "67. Cramer's Mad Money Recap 3/2: Snowflake, Ford, Tesla - TheStreetThu, 03 Mar 2022 00:03:54 GMThttps://news.google.com/__i/rss/rd/articles/CBMiSWh0dHBzOi8vd3d3LnRoZXN0cmVldC5jb20vamltLWNyYW1lci9jcmFtZXJzLW1hZC1tb25leS1yZWNhcC1tYXJjaC0yLTIwMjLSAQA?oc=5\n",
            "68. 'We were terrified': Block co-founder explains how the fintech giant avoided 'death by Amazon' - CNBCThu, 03 Mar 2022 06:29:33 GMThttps://news.google.com/__i/rss/rd/articles/CBMiTWh0dHBzOi8vd3d3LmNuYmMuY29tLzIwMjIvMDMvMDMvaG93LWJsb2NrLXNxdWFyZS1hdm9pZGVkLWRlYXRoLWJ5LWFtYXpvbi5odG1s0gEA?oc=5\n",
            "69. Ukraine War Disrupts Global Fertilizer Trade, Worsening Food Inflation - BloombergWed, 02 Mar 2022 05:01:00 GMThttps://news.google.com/__i/rss/rd/articles/CBMigQFodHRwczovL3d3dy5ibG9vbWJlcmcuY29tL25ld3MvYXJ0aWNsZXMvMjAyMi0wMy0wMi9ydXNzaWEtcy13YXItaW4tdWtyYWluZS1kaXNydXB0cy1nbG9iYWwtZmVydGlsaXplci10cmFkZS1pbmNyZWFzaW5nLWZvb2QtY29zdHPSAQA?oc=5\n",
            "70. Nordstrom shares soar as the department store chain makes 'baby steps.' But it still has a ways to go - CNBCWed, 02 Mar 2022 12:36:00 GMThttps://news.google.com/__i/rss/rd/articles/CBMiaGh0dHBzOi8vd3d3LmNuYmMuY29tLzIwMjIvMDMvMDIvbm9yZHN0cm9tLXNoYXJlcy1zb2FyLWFzLWl0LW1ha2VzLXByb2dyZXNzLWJ1dC1zdGlsbC1oYXMtd2F5cy10by1nby5odG1s0gEA?oc=5\n"
          ]
        }
      ]
    },
    {
      "cell_type": "code",
      "source": [
        "from pygooglenews import GoogleNews\n",
        "import json\n",
        "import time\n",
        "\n",
        "gn = GoogleNews()\n",
        "top = gn.geo_headlines('Saint Louis') \n",
        "\n",
        "entries = top[\"entries\"]\n",
        "count = 0\n",
        "for entry in entries:\n",
        "  count = count + 1\n",
        "  print(\n",
        "    str(count) + \". \" + entry[\"title\"] + entry[\"published\"]\n",
        "  )\n",
        "  time.sleep(0.25)\n",
        "\n"
      ],
      "metadata": {
        "id": "5xtqLQK5nZv7",
        "outputId": "e2a070c5-257f-4c9e-dbad-9c7df43242bc",
        "colab": {
          "base_uri": "https://localhost:8080/"
        }
      },
      "execution_count": 9,
      "outputs": [
        {
          "output_type": "stream",
          "name": "stdout",
          "text": [
            "1. Find a St. Louis fish fry with this 2022 map for Lent - KTVI Fox 2 St. LouisWed, 02 Mar 2022 19:44:32 GMT\n",
            "2. Where car break-ins are most common and what's being done about them - KSDK.comWed, 02 Mar 2022 22:15:38 GMT\n",
            "3. St. Louis alderman says police chief offered to void his traffic-stop ticket - St. Louis Post-DispatchThu, 03 Mar 2022 00:15:00 GMT\n",
            "4. Gov. Parson visits St. Louis area to announce education partnership with McDonald’s - KTVI Fox 2 St. LouisWed, 02 Mar 2022 23:52:23 GMT\n",
            "5. 'Oh, to be a thorn!' St. Louis artisans make patches, T-shirts to protest local book banning - St. Louis Post-DispatchThu, 03 Mar 2022 13:40:00 GMT\n",
            "6. Cheers, applause: Emotional video shows St. Louis hospital thanking Navy doctors - KSDK.comWed, 02 Mar 2022 17:32:00 GMT\n",
            "7. Trapped In Traffic With the Insufferable 'People's Convoy' - Riverfront TimesWed, 02 Mar 2022 14:35:54 GMT\n",
            "8. Days says proposal for north St. Louis County recreation facility 'close,' but won't release details - St. Louis Post-DispatchWed, 02 Mar 2022 23:40:00 GMT\n",
            "9. St. Louis Restaurant Openings and Closings: February 2022 - Riverfront TimesWed, 02 Mar 2022 16:11:35 GMT\n",
            "10. Big Time Rush is reuniting for some big-time fun in St. Louis this summer - KTVI Fox 2 St. LouisWed, 02 Mar 2022 18:35:19 GMT\n",
            "11. Opinion | A call for businesses to join an internship program that boosts diversity - St. Louis Business Journal - The Business JournalsThu, 03 Mar 2022 15:58:00 GMT\n",
            "12. St. Louis R&B-jazz singer Cheri Evans wants you to know her name - St. Louis Post-DispatchWed, 02 Mar 2022 19:00:00 GMT\n",
            "13. 'He gave us a daughter': 2 St. Louis families remember St. Charles man killed in Ukrainian war - KSDK.comWed, 02 Mar 2022 04:57:46 GMT\n",
            "14. Tornado sirens go off in error around St. Louis region - KTVI Fox 2 St. LouisThu, 03 Mar 2022 16:24:56 GMT\n",
            "15. Tennessee developer eyes Metro East after success with St. Charles County apartments - St. Louis Business Journal - The Business JournalsThu, 03 Mar 2022 13:02:00 GMT\n",
            "16. World's Largest Cannabis Gummy Makes its Debut in Missouri - Riverfront TimesThu, 03 Mar 2022 12:30:30 GMT\n",
            "17. Biden's 'fund the police' line in State of the Union strikes nerve in St. Louis - KSDK.comThu, 03 Mar 2022 01:38:22 GMT\n",
            "18. Watch now: In St. Louis, CDC director talks about pandemic successes, what could have been done better - St. Louis Post-DispatchThu, 03 Mar 2022 15:15:00 GMT\n",
            "19. St. Louis man convicted of killing mother of his child - Jefferson City News TribuneThu, 03 Mar 2022 15:50:47 GMT\n",
            "20. St. Louis Public Library offering over 70 free summer camps - KTVI Fox 2 St. LouisThu, 03 Mar 2022 15:47:36 GMT\n",
            "21. Amazon to close physical bookstores, 4-star shops (including one in St. Louis) as it turns focus to grocery, fashion stores - St. Louis Business Journal - The Business JournalsThu, 03 Mar 2022 00:27:00 GMT\n",
            "22. This St. Louis soul food restaurant offers an urban dining experience - KSDK.comWed, 02 Mar 2022 20:33:55 GMT\n",
            "23. Watch now: Listen to St. Louis singer Cheri Evans - St. Louis Post-DispatchWed, 02 Mar 2022 19:00:00 GMT\n",
            "24. Drive-thru services offered for Ash Wednesday across St. Louis - KMOV.comWed, 02 Mar 2022 12:55:00 GMT\n",
            "25. Daniel Tiger’s Neighborhood Live! comes to St. Louis this weekend - KTVI Fox 2 St. LouisWed, 02 Mar 2022 15:19:58 GMT\n",
            "26. Freedom is a blessing, but it is not “free” - St. Louis AmericanWed, 02 Mar 2022 22:00:00 GMT\n",
            "27. City of St. Louis mask order will expire this weekend - KSDK.comThu, 03 Mar 2022 15:49:34 GMT\n",
            "28. St. Louis President James Bullard says high inflation puts US economy at risk of \"shocks\" like Ukraine war - St. Louis Business Journal - The Business JournalsWed, 02 Mar 2022 20:09:00 GMT\n",
            "29. St. Louis County sets ARPA Town Hall dates - St. Louis AmericanWed, 02 Mar 2022 22:00:00 GMT\n",
            "30. 2 Bedroom Home in St Louis - $54,900 | | stltoday.com - St. Louis Post-DispatchThu, 03 Mar 2022 06:30:00 GMT\n",
            "31. Thursday: Casey Nolen says goodbye to St. Louis - St. Louis Public RadioWed, 02 Mar 2022 20:07:58 GMT\n",
            "32. St. Louis area 8-year-old boy dies in car crash in Callaway County, Mo. - KTVI Fox 2 St. LouisThu, 03 Mar 2022 13:04:04 GMT\n",
            "33. Matthew Krieg | People on The Move - St. Louis Business Journal - The Business JournalsWed, 02 Mar 2022 19:03:44 GMT\n",
            "34. 44th Annual Builder's St. Louis Home & Garden Show Comment-to-Win Sweepstakes - KSDK.comThu, 03 Mar 2022 15:09:34 GMT\n",
            "35. ‘There Can Only Be One Wiener’: Fill Out a Bracket to Help Decide the Official Hot Dog of St. Louis - Ladue NewsWed, 02 Mar 2022 18:40:00 GMT\n",
            "36. U City's Dr. Hardin-Bartley selected for national fellowship - St. Louis AmericanWed, 02 Mar 2022 16:32:00 GMT\n",
            "37. Doorbell Cam Video Captures the Moment a St. Louis Home Exploded - KHMO News-Talk-SportsWed, 02 Mar 2022 15:56:35 GMT\n",
            "38. Tensions rekindled in downtown St. Louis as New Life attempts to reopen building - St. Louis Post-DispatchWed, 02 Mar 2022 13:30:00 GMT\n",
            "39. The Great Downsizing: Big St. Louis firms ditch office space as vacancy climbs - St. Louis Business Journal - The Business JournalsWed, 02 Mar 2022 18:48:00 GMT\n",
            "40. 🌱 COVID Relief Team Departs + STL Libraries Combine Catalogs - PatchWed, 02 Mar 2022 20:24:21 GMT\n",
            "41. STL Veg Girls gives us a special treat this Ash Wednesday - KTVI Fox 2 St. LouisWed, 02 Mar 2022 18:28:44 GMT\n",
            "42. MSHP trooper taken to hospital after crash in St. Louis County - KSDK.comThu, 03 Mar 2022 12:52:42 GMT\n",
            "43. East St. Louis residents frustrated with lack of transparency with incoming solar plant - KMOV.comWed, 02 Mar 2022 01:39:00 GMT\n",
            "44. Spectrum plans hiring event today in St. Louis - Illinois Business JournalWed, 02 Mar 2022 15:25:28 GMT\n",
            "45. St. Louis students compete at annual Brain Bee - The Source - Washington University in St. Louis - Washington University in St. LouisWed, 02 Mar 2022 06:01:00 GMT\n",
            "46. Affinia Healthcare names Kendra Holmes as next president and CEO - St. Louis Business Journal - The Business JournalsWed, 02 Mar 2022 13:26:00 GMT\n",
            "47. 3 Bedroom Home in Saint Louis - $29,900 | | stltoday.com - St. Louis Post-DispatchThu, 03 Mar 2022 06:30:00 GMT\n",
            "48. St. Louis man dies in car crash in Montgomery County - KOMU 8Wed, 02 Mar 2022 14:32:00 GMT\n",
            "49. St. Louis country artist Matt Jordan reps the Midwest with 'Heart of the Heartland' - St. Louis Public RadioTue, 01 Mar 2022 22:52:30 GMT\n",
            "50. Meet the Vintage Treasure-Seekers Behind St. Louis’ Wes & Pip Vintage Goodness - Ladue NewsTue, 01 Mar 2022 19:00:00 GMT\n",
            "51. Spring weather outlook: Spring in St. Louis can be a wild ride - KSDK.comWed, 02 Mar 2022 04:34:06 GMT\n",
            "52. St. Louis celebrates Mardi Gras and March sunshine - KTVI Fox 2 St. LouisTue, 01 Mar 2022 23:36:04 GMT\n",
            "53. When Someone Is Stabbed in Missouri Prisons, Officials Don't Even Tell the Family - Riverfront TimesWed, 02 Mar 2022 12:36:45 GMT\n",
            "54. Fintech-focused VC investor, with office in St. Louis, reveals $200M capital round and new investment - The Business JournalsTue, 01 Mar 2022 23:23:00 GMT\n",
            "55. Podcast: Can we communicate more effectively about vaccines? – Washington University School of Medicine in St. Louis - Washington University School of Medicine in St. LouisTue, 01 Mar 2022 23:04:03 GMT\n",
            "56. Watch Cute Video of Some St. Louis Zoo Penguins Play in the Snow - KHMO News-Talk-SportsTue, 01 Mar 2022 20:17:28 GMT\n",
            "57. Watch now: St. Louis County Executive Sam Page signs updated transgender non-discrimination bill - St. Louis Post-DispatchWed, 02 Mar 2022 19:50:00 GMT\n",
            "58. St. Louis man killed in Montgomery County crash - KJLUWed, 02 Mar 2022 13:42:00 GMT\n",
            "59. Grow Solar Program In The Metro-St. Louis Area Ends; 56 Arrays To Be Added - RiverBender.comTue, 01 Mar 2022 16:28:00 GMT\n",
            "60. Team of federal medical staff leave St. Louis hospital as heroes - KSDK.comWed, 02 Mar 2022 17:27:42 GMT\n",
            "61. Man shot in St. Louis Wednesday - KTVI Fox 2 St. LouisWed, 02 Mar 2022 17:59:17 GMT\n",
            "62. FGM Architects (FGMA) BizSpotlight - St. Louis Business Journal - The Business JournalsTue, 01 Mar 2022 20:25:24 GMT\n",
            "63. Man who fled fatal hit-and-run crash near Ballpark Village receives suspended sentence - KMOV.comThu, 03 Mar 2022 03:13:00 GMT\n",
            "64. St. Louis man gets 18-year term in downtown kidnapping, assault - St. Louis Post-DispatchWed, 02 Mar 2022 23:32:00 GMT\n",
            "65. St. Louis family prepares home for refugees fleeing Ukraine - KSDK.comThu, 03 Mar 2022 04:36:14 GMT\n",
            "66. Woman injures Missouri State trooper after crashing in south St. Louis County - KTVI Fox 2 St. LouisThu, 03 Mar 2022 11:35:54 GMT\n",
            "67. St. Louis Inno - Introducing the St. Louis Inno Madness Bracket - The Business JournalsTue, 01 Mar 2022 19:49:00 GMT\n",
            "68. St. Louis man receives 16-year term for killing stepbrother in 2020 - St. Louis Post-DispatchWed, 02 Mar 2022 21:06:00 GMT\n",
            "69. 2 men shot, killed woman in St. Louis after she crashed into their car, police say - KSDK.comThu, 03 Mar 2022 04:28:28 GMT\n",
            "70. North St. Louis County neighborhood loses power after car hits utility pole - KTVI Fox 2 St. LouisThu, 03 Mar 2022 11:40:52 GMT\n"
          ]
        }
      ]
    },
    {
      "cell_type": "markdown",
      "source": [
        ""
      ],
      "metadata": {
        "id": "9DWiQhsonYW2"
      }
    },
    {
      "cell_type": "code",
      "source": [
        "from pygooglenews import GoogleNews\n",
        "\n",
        "gn = GoogleNews()\n",
        "s = gn.search('russia -putin') \n",
        "\n",
        "\n",
        "for entry in s[\"entries\"]:\n",
        "    print(entry[\"title\"])"
      ],
      "metadata": {
        "colab": {
          "base_uri": "https://localhost:8080/"
        },
        "id": "DNTwqbxL6uTU",
        "outputId": "abe8e3d8-0fc3-4553-ced3-c273339b488d"
      },
      "execution_count": null,
      "outputs": [
        {
          "output_type": "stream",
          "name": "stdout",
          "text": [
            "UPS and FedEx halting shipments to Russia and Ukraine - Reuters\n",
            "FIFA impose measures on Russia in response to its invasion of Ukraine - The Athletic\n",
            "Factbox-Companies With Exposure to Russia - U.S. News & World Report\n",
            "Ukrainian minister says Russia lost some 4300 men in invasion - Reuters\n",
            "The 'unprecedented' sanctions on Russia could make war unsustainable, expert says - NPR\n",
            "Analyzing the state of Russia's military - NPR\n",
            "Russia continues to advance on Kyiv in attempt to topple Ukrainian government - NPR\n",
            "3 ways Russia's invasion of Ukraine will impact the American economy - NBC News\n",
            "U.S. banks prepare for cyber attacks after latest Russia sanctions - Reuters\n",
            "SWIFT ban prevents Russia from moving money easily. It also has unintended effects - NPR\n",
            "Boxing's governing organizations won't sanction any title bouts in Russia due to invasion of Ukraine - ESPN\n",
            "France urges its citizens making short-term visits to Russia to leave - Reuters\n",
            "Biden sanctions spare Russia's energy sector. What that means for OPEC talks - NPR\n",
            "European Union, Canada close airspace to Russia in response to Ukraine war - The Points Guy\n",
            "Norway says its sovereign fund will divest from Russia - Reuters\n",
            "Ukrainians rush back from abroad to join fight against Russia - The Times of Israel\n",
            "Follow the Russia-Ukraine Monitor Map - bellingcat - bellingcat\n",
            "Analysis: SWIFT block deals crippling blow to Russia; leaves room to tighten - Reuters\n",
            "Aside from vodka, what does the US import from Russia? - KLAS - 8 News Now\n",
            "Caribbean Food Security Likely To Be Impacted By Russia-Ukraine Conflict - Forbes\n",
            "Italy backs EU measures against Russia, Italy's PM says - Reuters\n",
            "Taiwan says chip companies complying with Russia export controls - Reuters\n",
            "Russia Bonds, Now Junk, Set to Reel From Central Bank Sanctions - Bloomberg\n",
            "Ukraine files genocide case against Russia at UN's top court - Associated Press\n",
            "Western powers condemn Russia at environmental summit - Reuters\n",
            "Ukrainian athletes urge IOC to sanction Russian and Belarusian Olympic, Paralympic Committees - ESPN\n",
            "IIHF likely to implement sanctions against Russia following Ukraine invasion: Sources - The Athletic\n",
            "Experts explain economic consequences of Russia's invasion of Ukraine - WITN\n",
            "Google blocks Russia's RT app downloads on Ukrainian territory - Reuters\n",
            "China so far not helping Russia evade Western sanctions-U.S. official - Reuters\n",
            "BP exit opens new front in West's campaign against Russia - Reuters\n",
            "UK foreign secretary would back Britons fighting Russia in Ukraine - Middle East Eye\n",
            "Ukrainian envoy says Turkey-made drones helping fight against Russia - Reuters\n",
            "FINA cancels World Junior Championships in Russia - Reuters\n",
            "Ukraine Is Grateful for Financial Sanctions Imposed on Russia - PM - U.S. News & World Report\n",
            "Russia's VTB to hike mortgage rates by four percentage points to 15.3% - Reuters\n",
            "Russia suspends Soyuz rocket launches over European sanctions - The Verge\n",
            "US Department of Commerce & Bureau of Industry and Security Russia Rule Fact Sheet - US Department of Commerce\n",
            "US, Russia share table for Iran talks despite Ukraine war - The Jerusalem Post\n",
            "US, Allies Consider New United Nations Vote Targeting Russia - The Wall Street Journal\n",
            "Asian Carriers Spared From Russia-Europe Airspace Closures - Bloomberg\n",
            "Companies shut Ukraine operations, assess impact of sanctions on Russia - Reuters\n",
            "Belarus Hackers Allegedly Disrupted Trains to Thwart Russia - Bloomberg\n",
            "Here's How Russia Sanctions Could Impact Private Jets - Forbes\n",
            "Ukraine-Russia conflict may drive up prices: What you can do to save right now - Today.com\n",
            "ASEAN stops short of calling out Russia in delayed statement - Nikkei Asia\n",
            "Russia-Ukraine conflict: What happened in the Black Sea so far? - Naval News\n",
            "Europe stocks bounce back as traders assess Russia-Ukraine crisis; Stoxx 600 closes up 3.3% - CNBC\n",
            "Ukraine tennis star Sergiy Stakhovsky joins military reserves to fight Russia: 'Proud to be Ukrainian' - New York Post\n",
            "Russia sees military coordination with Israel on Syria continuing - Reuters\n",
            "Is Russia winning the disinformation war in Ukraine? - New Scientist\n",
            "Tech Companies Face Pressure Over Russia-Ukraine War - The Wall Street Journal\n",
            "EU and Taiwanese Sanctions Ramp Up Pressure on Russia as Invasion Reaches Kyiv - Barron's\n",
            "US launch providers eyeing Russia-Ukraine situation - Space.com\n",
            "Satellite images, surveillance footage, social media posts show the latest on the war in Ukraine - USA TODAY\n",
            "Decoupling Russia: the global economy's new unknown - Reuters\n",
            "Tanker Freight Rates Soar After Russia Invades Ukraine - The Wall Street Journal\n",
            "Global financial markets initially plunged following Russia's invasion of Ukraine - Detroit Free Press\n",
            "Ukraine's Zelenskiy welcomes moves to cut Russia off from SWIFT - Reuters UK\n",
            "Ukraine Enlists Hackers in 'IT Army' Targeting Russia, Belarus - PCMag\n",
            "The U.S. Is Weaponizing Semiconductors to Try to Rein In Russia - Gizmodo\n",
            "Factbox: As SWIFT ban hits banks, spotlight turns on how Russia sells its oil - S&P Global\n",
            "Russia's Central Bank Responds to Cash Crunch - The Wall Street Journal\n",
            "Russia's economy is surprisingly tiny. Here's why it matters so much to you - CNN International\n",
            "UK foreign minister Truss floats idea of 'ceiling' on Russia oil and gas imports - S&P Global\n",
            "Eurovision reverses course, says Russia will not be allowed to compete - CNN\n",
            "Bitcoin, ethereum and other cryptos swing to gains after big losses on Russia news - New York Post\n",
            "Rapidly expanding Russia-Ukraine war leaves questions to be answered - The Jerusalem Post\n",
            "Ukraine lobbies U.S. officials for bans on Russia software, aviation -diplomat - Reuters\n",
            "Nokian Tyres moves some production and stock out of Russia - Reuters\n",
            "Fortum, Uniper shares plunge as Russia exposure weighs - Reuters\n",
            "White House: Kyiv Falling to Russia Is a 'Real Possibility' - The Wall Street Journal\n",
            "Ukraine's children: How to help vulnerable kids amid Russia's attack - Fox News\n",
            "For the first time, Russia confirms casualties in Ukraine attack - FOX31 Denver\n",
            "VW and Renault to Idle Some Car Plants on Russia-Ukraine Bottlenecks - Bloomberg\n",
            "Why Turkey isn't likely to close the Bosphorus after the Russian invasion of Ukraine - Middle East Eye\n",
            "London-listed Coca-Cola HBC readies Russia contingencies as profits rise - Reuters\n",
            "G7 Foreign Ministers' Statement on Russia and Ukraine - United States Department of State - Department of State\n",
            "Political Science professor has 'unorthodox views' on Russia-Ukraine conflict - WOWT\n",
            "Sketchy details from Russia complicate invasion coverage - Associated Press\n",
            "U.S. is the ultimate safe haven for your money during Russia's war on Ukraine, Blackstone's Joe Zidle says - CNBC\n",
            "World's biggest plane 'Mriya' destroyed by Russia near Kyiv: Ukraine - Business Today\n",
            "Russia captures strategically important ex-airfield in Ukraine | Daily Sabah - Daily Sabah\n",
            "Cooking oil prices to rise amid Russia-Ukraine war? Here's what we know so far - Hindustan Times\n",
            "Japan to coordinate with G7 on further sanctions vs Russia -foreign minister - Reuters\n",
            "Ukraine-Russia crisis: America's fast-food giants are at risk - Yahoo Finance\n",
            "Fact Check-Video shows lightning not Russia invasion of Ukraine - Reuters India\n",
            "US Halts Arms-Controls Talks With Russia - The Wall Street Journal\n",
            "Ukraine airspace is now closed to civilian flights as Russia launches military attack - The Points Guy\n",
            "Regina Spektor speaks out against Russia's attacks on Ukraine - CNN\n",
            "How Russia took over the Internet in Crimea and Eastern Ukraine - DatacenterDynamics\n",
            "Tensions rise as Russia continues to mobilize troops near Ukrainian border - POLITICO\n",
            "Judge warns of US divisions and cites Russia's attack on Ukraine while sentencing Capitol riot defendant - CNN\n",
            "China's Didi reverses course, will remain in Russia - Reuters\n",
            "PM Modi to chair high-level meeting on Ukraine-Russia conflict - Hindustan Times\n",
            "Russia Cut to Junk Rating by S&P, Ukraine's Rating Lowered - The Wall Street Journal\n",
            "Stocks set for a painful week as Russia-Ukraine conflict intensifies; bonds to gain - Moneycontrol\n",
            "Freight operators seek routes around Ukraine, Russia - Livemint\n",
            "How Russia's invasion of Ukraine may impact pharma-biotech R&D - Seeking Alpha\n",
            "BP to 'exit' Rosneft stake in response to Russia invading Ukraine - S&P Global\n"
          ]
        }
      ]
    },
    {
      "cell_type": "markdown",
      "source": [
        "### Example 2:\n",
        "\n",
        "Search Google News and Save to CSV File"
      ],
      "metadata": {
        "id": "NhI4K0zJD7DL"
      }
    },
    {
      "cell_type": "code",
      "source": [
        "import pandas as pd\n",
        "import csv\n",
        "from pygooglenews import GoogleNews\n",
        "\n",
        "gn = GoogleNews (lang = 'en', country = 'UK') \n",
        "\n",
        "russiasearch = gn.search('intitle:russia', helper = True, from_ = '2022-01-01', to_= '2022-12-31')\n",
        "\n",
        "print(russiasearch['feed'].title)\n",
        "\n",
        "for item in russiasearch ['entries']:\n",
        "  print(item['title'])\n",
        "\n",
        "with open('/content/gdrive/My Drive/russia_search.csv', 'w', newline='') as f:\n",
        "    writer = csv.writer(f)\n",
        "    writer.writerow(['russiasearch'])  # I presume you meant this to be your header\n",
        "    \n",
        "    # Use your loop from before...\n",
        "    for item in russiasearch ['entries']:\n",
        "        # And write each item\n",
        "        writer.writerow([item['title']])\n",
        "\n",
        "file.close()"
      ],
      "metadata": {
        "colab": {
          "base_uri": "https://localhost:8080/"
        },
        "id": "YWnZfiFYCZCu",
        "outputId": "c11749c8-368c-42c2-a48f-c3bcef7227c0"
      },
      "execution_count": null,
      "outputs": [
        {
          "output_type": "stream",
          "name": "stdout",
          "text": [
            "\"intitle:russia after:2022-01-01 before:2022-12-31\" - Google News\n",
            "Russia-Ukraine live updates: Kyiv to hold talks with Moscow - Al Jazeera English\n",
            "Russian ex-official: Putin's plan is full victory by March 2 - Al Jazeera English\n",
            "Russia homes in on Kyiv and Kharkiv and pushes across Black Sea coast - Financial Times\n",
            "Ukraine, Russia agree to talks ‘without preconditions’: Zelenskyy - Al Jazeera English\n",
            "Putin signals escalation as he puts Russia’s nuclear force on high alert - The Guardian\n",
            "As Russia invades Ukraine, Iraqis remember painful war memories - Al Jazeera English\n",
            "More than 2,000 arrested at anti-war protests in Russia - Al Jazeera English\n",
            "Ukraine appeals for foreign volunteers to join fight against Russia - The Guardian\n",
            "Two top Russian billionaires speak out against invasion of Ukraine - The Guardian\n",
            "Russia’s invasion of Ukraine: List of key developments from Day 4 - Al Jazeera English\n",
            "‘A global financial pariah’: how central bank sanctions could hobble Russia - Financial Times\n",
            "Ukraine lodges case against Russia at UN’s top court - Al Jazeera English\n",
            "Xi pursues policy of ‘pro-Russia neutrality’ despite Ukraine war - Financial Times\n",
            "Turkey dubs Russia invasion of Ukraine ‘war’ in shift of rhetoric - Al Jazeera English\n",
            "The Nigerian students caught in the Russia-Ukraine war - Al Jazeera English\n",
            "Analysis: what weapons is Russia deploying in Ukraine invasion? - The Guardian\n",
            "List of sanctions imposed by the west against Russia over Ukraine invasion - Financial Times\n",
            "Ukraine invasion: England will not play Russia in any international football fixture 'for the foreseeable future', FA announces - Sky News\n",
            "Russia faces sporting fallout over invasion of Ukraine - Al Jazeera English\n",
            "EU ups the ante with Russia; closes airspace, bans media - Al Jazeera English\n",
            "The first TikTok war: how are influencers in Russia and Ukraine responding? - The Guardian\n",
            "Why the Chinese Internet Is Cheering Russia’s Invasion - The New York Times\n",
            "Four stories you may have missed amid Russia-Ukraine crisis - Al Jazeera English\n",
            "Special OSCE meeting on Russia's ongoing aggression against Ukraine: UK statement, 27 February 2022 - GOV.UK\n",
            "Anonymous: the hacker collective that has declared cyberwar on Russia - The Guardian\n",
            "The Observer view on Russia’s invasion of Ukraine - The Guardian\n",
            "Russia has invaded Ukraine: what we know so far - The Guardian\n",
            "‘Double standards’: Western coverage of Ukraine war criticised - Al Jazeera English\n",
            "Putin says Russia, Ukraine share historical ‘unity’. Is he right? - Al Jazeera English\n",
            "The world is united on Ukraine, divided on America - Al Jazeera English\n",
            "Macron to launch re-election race, as rivals face pro-Russia allegations - The Guardian\n",
            "Ukrainians, Russians in Australia unite against Putin’s war - Al Jazeera English\n",
            "Russia limiting access to Facebook over fact-checking row - Al Jazeera English\n",
            "Internet becomes battleground in Russia's Ukraine invasion - Axios\n",
            "Sanctions against Russia – at a glance - The Guardian\n",
            "Romania on edge as Russia invades Ukraine - Al Jazeera English\n",
            "Putin’s nuclear posturing requires west to tread extremely carefully - The Guardian\n",
            "West targets Russia’s defenses against ruble crash, bank run - POLITICO Europe\n",
            "Ukraine crisis: Russia has failed to take any of its major objectives, lost 450 personnel and made 'limited progress', Ministry of Defence says - Sky News\n",
            "UK says Russia needs to withdraw from Ukraine for any talks - Reuters\n",
            "BP quits Russia in up to $25 billion hit after Ukraine invasion - Reuters\n",
            "Ties That Bind Putin and Xi Tested by Russia's Ukraine Invasion - The New York Times\n",
            "Russia sending thousands more troops to Ukraine border - The Guardian\n",
            "Where do Russia’s allies stand as Western powers slam Moscow? - Al Jazeera English\n",
            "Russia-Ukraine: What’s happening in Mariupol? - Al Jazeera English\n",
            "Russia-Ukraine war live updates: Ukraine forces say Russian troops 'shelling in almost all directions', Ukraine says 16 children have died since start of invasion, - ABC News\n",
            "What can the west do about Russia invading Ukraine? - The Guardian\n",
            "China, Russia and the race to a post-dollar world - Financial Times\n",
            "China ponders how Russia’s actions in Ukraine could reshape world order - The Guardian\n",
            "Russia bans flights from Bulgaria, Poland, Czech Republic - Al Jazeera English\n",
            "Ukraine crisis: Russia orders troops into rebel-held regions - BBC News\n",
            "Ukraine president vows to defend country as Russia says separatists ‘ask for military help’ - The Guardian\n",
            "Putin Is Both Winning and Losing in Russia's Ukraine Invasion - Bloomberg\n",
            "Russia’s FX reserves slip from its grasp - Financial Times\n",
            "Western powers have realised Russia is largely immune to sanctions - The Guardian\n",
            "War in Ukraine: Russia Frustrated by Slow Progress on Invasion - Bloomberg\n",
            "Opinion | How the American Right Stopped Worrying and Learned to Love Russia - The New York Times\n",
            "Chip sanctions aim for Russia's military and its tech industry hopes - Financial Times\n",
            "Ukraine conflict: UK to impose sanctions on Russia's President Putin - BBC News\n",
            "Trump condemns Russia invasion; hints again at 2024 presidential run - Reuters\n",
            "‘Pure Orwell’: how Russian state media spins invasion as liberation - The Guardian\n",
            "Russia’s invasion of Ukraine will change the face of Europe for ever - The Guardian\n",
            "What does the Ukraine war mean for the UK? How Russia invasion and Putin sanctions Putin can affect life in UK - iNews\n",
            "Russia Ukraine crisis: Nigerian wey family base in Ukraine cry out as Russia troops invasion continue - BBC News\n",
            "RT news channel in spotlight in UK over pro-Russia slant on Ukraine crisis - The Guardian\n",
            "Statement by Press Secretary Jen Psaki on Japan's Announcement to Hold Russia Accountable - The White House\n",
            "Ukraine news from February 23: Ukraine urges citizens to leave Russia, US warns invasion may be imminent, Kremlin says separatists asked Putin to 'repel' Ukraine - Financial Times\n",
            "Ukraine latest: Ukraine and Russia agree to talks, Zelenskyy says - Nikkei Asia\n",
            "Russia speaks total lies. That doesn’t diminish America’s half-truths - The Guardian\n",
            "Russia strongly condemned at UN after Putin orders troops into eastern Ukraine - The Guardian\n",
            "Russia Invades Ukraine: Latest Updates as Russian Forces Meet Determined Resistance - CNET\n",
            "Russians are Putin’s victims too - Al Jazeera English\n",
            "Why a swift economic victory against Russia looks unlikely - The Guardian\n",
            "US, Europe step up Russia sanctions to target Putin directly - Associated Press\n",
            "‘This is a bumpy long road’: the mood among Moscow residents - The Guardian\n",
            "Moscow newspaper condemns Putin over invasion: ‘Russia. Bombs. Ukraine.’ - iNews\n",
            "Why the West doesn't dare start a trade war with Russia as Ukrainian conflict intensifies - ABC News\n",
            "Russia’s hopes for quick assault on Kyiv thwarted by fierce Ukrainian resistance - Financial Times\n",
            "U.S. protests Israel's refusal to back UN resolution condemning Russia - Axios\n",
            "Russia's Attack Is Illegal and a Wake-Up Call to the West - Barron's\n",
            "Ukraine invasion: Russia axed from Eurovision as they would 'bring competition into disrepute' - Sky News\n",
            "Russia is creating lists of Ukrainians ‘to be killed or sent to camps’, US claims - The Guardian\n",
            "Russia unleashed data-wiper malware on Ukraine, say cyber experts - The Guardian\n",
            "UPS and FedEx halt shipments to Russia and Ukraine after BP ditches stake in Rosneft energy group - Daily Mail\n",
            "‘Rooted in NATO’: Iran responds to Russia’s Ukraine attack - Al Jazeera English\n",
            "Boxing's governing organizations won't sanction any title bouts in Russia due to invasion of Ukraine - ESPN\n",
            "Russians: share your thoughts on the situation with Ukraine - The Guardian\n",
            "How do Ukrainians in Russia feel about the crisis? - Al Jazeera English\n",
            "Big Tech’s Russia problem - Vox.com\n",
            "Ukraine latest updates: Threat of 'unprecedented' sanctions; Russia nuclear drills 'successful'; 'Explosions heard' in Donetsk - Sky News\n",
            "Ukraine refugee crisis: Warm welcomes for those fleeing Russia invasion are a ray of light amid the darkness - iNews\n",
            "Biden and Putin to speak as US warns Russia could attack Ukraine ‘any day’ - The Guardian\n",
            "How Russia has been sanctioned by the world over Ukraine invasion - Daily Mail\n",
            "Belarus should face same sanctions as Russia in event of invasion, says EU - The Guardian\n",
            "Uefa moves to end Gazprom deal and strips Russia of Champions League final - The Guardian\n",
            "Dow futures fall 450 points as traders assess ripple effects of Russia sanctions - CNBC\n",
            "Russia using deception as pretext for Ukraine invasion, western leaders warn - Financial Times\n",
            "‘Investors are shocked’: how Russia’s attack on Ukraine roiled markets - Financial Times\n",
            "Scepticism persists over Russia’s claims it has withdrawn troops – as it happened - The Guardian\n",
            "Ukraine declares state of emergency as citizens urged to flee Russia, but Johnson warns Putin ‘must fail’ - iNews\n"
          ]
        }
      ]
    }
  ]
}