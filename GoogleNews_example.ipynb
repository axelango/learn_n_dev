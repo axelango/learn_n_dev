{
  "nbformat": 4,
  "nbformat_minor": 0,
  "metadata": {
    "colab": {
      "name": "GoogleNews_example.ipynb",
      "provenance": [],
      "collapsed_sections": [],
      "authorship_tag": "ABX9TyMx0kslg9b7VJrQEdnpY+z8",
      "include_colab_link": true
    },
    "kernelspec": {
      "name": "python3",
      "display_name": "Python 3"
    },
    "language_info": {
      "name": "python"
    }
  },
  "cells": [
    {
      "cell_type": "markdown",
      "metadata": {
        "id": "view-in-github",
        "colab_type": "text"
      },
      "source": [
        "<a href=\"https://colab.research.google.com/github/jgamel/learn_n_dev/blob/python_web_scrapping/GoogleNews_example.ipynb\" target=\"_parent\"><img src=\"https://colab.research.google.com/assets/colab-badge.svg\" alt=\"Open In Colab\"/></a>"
      ]
    },
    {
      "cell_type": "markdown",
      "source": [
        "# Google News"
      ],
      "metadata": {
        "id": "QDE7XRjw1tps"
      }
    },
    {
      "cell_type": "markdown",
      "source": [
        "PyGoogleNews, created by the NewsCatcher Team, acts like a Python wrapper for Google News or an unofficial Google News API. It is based on one simple trick: it exploits a lightweight Google News RSS feed.\n",
        "\n",
        "What data points can it fetch for you?\n",
        "\n",
        "* Top stories\n",
        "* Topic-related news feeds\n",
        "* Geolocation specific news feed\n",
        "* An extensive query-based search feed"
      ],
      "metadata": {
        "id": "rGPbWT7110It"
      }
    },
    {
      "cell_type": "code",
      "execution_count": 2,
      "metadata": {
        "colab": {
          "base_uri": "https://localhost:8080/"
        },
        "id": "qMCQnvnD1L2-",
        "outputId": "49db4656-a079-46b2-92fc-9b8d23f80d3b"
      },
      "outputs": [
        {
          "output_type": "stream",
          "name": "stdout",
          "text": [
            "Mounted at /content/gdrive\n"
          ]
        }
      ],
      "source": [
        "from google.colab import drive\n",
        "drive.mount('/content/gdrive', force_remount=True)"
      ]
    },
    {
      "cell_type": "code",
      "source": [
        "import sys\n",
        "sys.path.append('/content/gdrive/My Drive/Colab Notebooks')"
      ],
      "metadata": {
        "id": "xofOSWWd2Qrb"
      },
      "execution_count": 3,
      "outputs": []
    },
    {
      "cell_type": "code",
      "source": [
        "from pygooglenews import GoogleNews\n",
        "import json\n",
        "import time\n",
        "\n",
        "gn = GoogleNews()\n",
        "top = gn.top_news()\n",
        "\n",
        "entries = top[\"entries\"]\n",
        "count = 0\n",
        "for entry in entries:\n",
        "  count = count + 1\n",
        "  print(\n",
        "    str(count) + \". \" + entry[\"title\"] + entry[\"published\"]\n",
        "  )\n",
        "  time.sleep(0.25)"
      ],
      "metadata": {
        "colab": {
          "base_uri": "https://localhost:8080/"
        },
        "id": "HMeZ4Udm2UPW",
        "outputId": "eac679e3-1144-43b4-cf52-432a6ac02719"
      },
      "execution_count": 4,
      "outputs": [
        {
          "output_type": "stream",
          "name": "stdout",
          "text": [
            "1. Russia invades Ukraine: Live updates - CNNFri, 25 Feb 2022 16:48:00 GMT\n",
            "2. Biden to nominate Ketanji Brown Jackson to the Supreme Court - The Washington PostFri, 25 Feb 2022 16:47:58 GMT\n",
            "3. Kyiv residents told to make Molotov cocktails as they await Russian assault - ReutersFri, 25 Feb 2022 12:25:00 GMT\n",
            "4. Zelensky to EU leaders: \"This might be the last time you see me alive\" - AxiosFri, 25 Feb 2022 16:19:47 GMT\n",
            "5. Biden looks to cripple Russian economy with sanctions in response to invasion of Ukraine - Yahoo NewsThu, 24 Feb 2022 20:59:59 GMT\n",
            "6. The Memo: Biden locks into battle with enigmatic Putin | TheHill - The HillFri, 25 Feb 2022 11:00:08 GMT\n",
            "7. There will be a cost if Florida lawmakers embrace hate | Editorial - Orlando SentinelThu, 24 Feb 2022 10:16:09 GMT\n",
            "8. Convoy of truck drivers could disrupt I-40 traffic in Raleigh on Friday morning - WRAL NewsFri, 25 Feb 2022 10:40:35 GMT\n",
            "9. Three Former Officers Convicted of Violating George Floyd’s Rights - The New York TimesFri, 25 Feb 2022 14:26:00 GMT\n",
            "10. CDC ‘significantly’ changing COVID mask guidelines, reports say - AL.comFri, 25 Feb 2022 13:19:00 GMT\n",
            "11. Ukrainian refugees are already being driven out by the Russian invasion - Vox.comFri, 25 Feb 2022 11:00:00 GMT\n",
            "12. Ukraine reports higher Chernobyl radiation after Russians capture plant - ReutersFri, 25 Feb 2022 16:17:00 GMT\n",
            "13. Russian gas flows to Europe via Ukraine reportedly jumped nearly 40% on Thursday, underscoring the continent's dependence on Putin's energy - Yahoo! VoicesFri, 25 Feb 2022 13:14:16 GMT\n",
            "14. Russians perceive Ukrainian invasion as an attack on their 'brother': James Carafano - Fox NewsFri, 25 Feb 2022 08:20:29 GMT\n",
            "15. US and European stocks rise as traders weigh sanctions impact on global economy - Financial TimesFri, 25 Feb 2022 14:46:56 GMT\n",
            "16. A Key Inflation Gauge Is Still Rising, and War Could Make It Worse - The New York TimesFri, 25 Feb 2022 10:30:06 GMT\n",
            "17. Foot Locker shares sink after retailer says 2022 sales will fall as it expects to sell fewer Nike products - CNBCFri, 25 Feb 2022 13:07:32 GMT\n",
            "18. Bitcoin whales fuel BTC price comeback as stocks brush off Russia-Ukraine shocks - CointelegraphFri, 25 Feb 2022 15:17:50 GMT\n",
            "19. Elden Ring Shatters Dark Souls Records On Twitch And Steam - KotakuFri, 25 Feb 2022 15:45:00 GMT\n",
            "20. The Samsung Galaxy S22 range is now on sale – at least in some places - TechRadarFri, 25 Feb 2022 15:54:19 GMT\n",
            "21. HTC Vive Flow app turns car rides into moving VR theme park experiences - EngadgetFri, 25 Feb 2022 10:17:07 GMT\n",
            "22. I used Apple's AirTag to track my wife and kids. Here’s what I learned - PCWorldFri, 25 Feb 2022 15:40:07 GMT\n",
            "23. Peta Murgatroyd pleads for Maksim Chmerkovskiy’s return after Russian invasion of Ukraine: ‘Please pray’ - Fox NewsFri, 25 Feb 2022 14:58:50 GMT\n",
            "24. Cause of Death Revealed For Alicia Witt's Parents - E! NEWSFri, 25 Feb 2022 13:27:00 GMT\n",
            "25. ​Ashton Kutcher Says He ‘Stands With’ Wife Mila Kunis’ Native Ukraine Amidst Russian Attacks - HollywoodLifeFri, 25 Feb 2022 14:19:56 GMT\n",
            "26. Quentin Tarantino Reportedly in Talks to Direct Episodes of Justified Miniseries - IGN - IGNFri, 25 Feb 2022 12:57:22 GMT\n",
            "27. International Olympic Committee urges sports bodies to cancel events in Russia, Belarus - ESPNFri, 25 Feb 2022 15:10:55 GMT\n",
            "28. Art Briles Refuses To Go Away - DefectorFri, 25 Feb 2022 15:50:00 GMT\n",
            "29. Report: Kyler Murray, Cardinals on same page and working to move forward - NBC SportsFri, 25 Feb 2022 11:32:00 GMT\n",
            "30. ‘You need to get out of there': American basketball players struggle to flee Ukraine - Yahoo SportsFri, 25 Feb 2022 15:00:40 GMT\n",
            "31. SpaceX launching 50 Starlink satellites, landing rocket today: Watch it live - Space.comFri, 25 Feb 2022 12:16:44 GMT\n",
            "32. “A Genealogy for All of Humanity” – University of Oxford Researchers Create Largest Ever Human Family Tree - SciTechDailyFri, 25 Feb 2022 05:16:13 GMT\n",
            "33. NASA Outlines Final Steps Before Launch of Artemis 1, First in New Lunar Program - GizmodoThu, 24 Feb 2022 22:10:00 GMT\n",
            "34. Strangely tilted black hole challenges formation theories - Space.comThu, 24 Feb 2022 21:14:55 GMT\n",
            "35. Rare multisystem inflammatory syndrome appears in some teenagers after COVID-19 vaccination: study - Fox NewsFri, 25 Feb 2022 00:43:34 GMT\n",
            "36. CDC Says Waiting Longer Between COVID Vaccine Doses Could Reduce Myocarditis - NBC NewsThu, 24 Feb 2022 07:30:12 GMT\n",
            "37. Low-Meat Diets Linked to Lower Cancer Risk, Hints Study of Nearly 500,000 People - ScienceAlertFri, 25 Feb 2022 05:10:09 GMT\n"
          ]
        }
      ]
    },
    {
      "cell_type": "markdown",
      "source": [
        "The code above shows how you can extract certain data points from the top news articles in the Google RSS feed. You can replace the code “gn.top_news()” with “gn.topic_headlines('business')” to get the top headlines related to “Business” or you could have replaced it with “gn.geo_headlines('San Fran')” to get the top news in the San Fransisco region.\n",
        "\n",
        "You can also use complex queries such as “gn.search('boeing OR airbus')” to find news articles mentioning Boeing or Airbus or “gn.search('boeing -airbus')” to find all news articles that mention Boeing but not Airbus.\n",
        "\n",
        "When web-scraping news articles with this library, for every news entry that you capture, you get the following data points, that you can use for data processing, or training your machine learning model, or running NLP scripts:\n",
        "\n",
        "Title - contains the Headline for the article\n",
        "Link - the original link for the article\n",
        "Published - the date on which it was published\n",
        "Summary - the article summary\n",
        "Source - the website on which it was published\n",
        "Sub-Articles - list of titles, publishers, and links that are on the same topic\n",
        "We extracted just a few of the available data points, but you can extract the others as well, based on your requirements. Here’s a small example of the results produced by complex queries.\n",
        "\n",
        "If you run the code below:"
      ],
      "metadata": {
        "id": "ovAMIpa03M7G"
      }
    },
    {
      "cell_type": "code",
      "source": [
        "from pygooglenews import GoogleNews\n",
        "\n",
        "gn = GoogleNews()\n",
        "s = gn.search('boeing OR airbus') \n",
        "\n",
        "\n",
        "for entry in s[\"entries\"]:\n",
        "    print(entry[\"title\"])"
      ],
      "metadata": {
        "colab": {
          "base_uri": "https://localhost:8080/"
        },
        "id": "DNTwqbxL6uTU",
        "outputId": "e811e33c-a9de-4ff9-b4c6-e0ffa1d3b627"
      },
      "execution_count": 8,
      "outputs": [
        {
          "output_type": "stream",
          "name": "stdout",
          "text": [
            "Airbus to test hydrogen-fueled engine on A380 jet - CNN\n",
            "Emirates may cancel Boeing 777X if delays extend beyond 2023 -report - Reuters\n",
            "FAA issues 5G warning for Boeing 737s but says practical effects are limited - Reuters\n",
            "Emirates warns Airbus over A350 deliveries amid paint row -report - Reuters\n",
            "Judge OKs Boeing settlement with investors over 737 MAX - The Seattle Times\n",
            "Norwegian Air CEO considers Airbus jets amid drawn-out Boeing litigation - Reuters\n",
            "Boeing, Airbus in talks for multi-jet order from Air India - ThePrint\n",
            "Boeing wins helicopter contract for Thailand - DefenseNews.com\n",
            "Seattle engineer Marvi Matos Rodriguez shares why she chose Boeing - Boeing\n",
            "Boeing Would Kill Us All to Increase Its Profits - Jacobin magazine\n",
            "Why Boeing, GE, and Ingersoll Rand Stocks Dropped Today - Motley Fool\n",
            "12 Years After Its First Flight: The Story Of The 4th Boeing 787 Prototype - Simple Flying\n",
            "Raytheon says it may not ship around 70 engines to Airbus in first quarter - Reuters\n",
            "UK court orders Airbus to delay Qatar Airways plane cancellations - Al Jazeera English\n",
            "Kuwait's state carrier restructures Airbus order to add more jets - Reuters\n",
            "Serbia signs deal for two Airbus C-295 military transport aircraft - Airforce Technology\n",
            "Plaintiffs Target Boeing's Top Executives in Max 8 Lawsuit - Law.com\n",
            "Analysts say Boeing Co. could look outside of Seattle for next new jet - Wichita Business Journal - Wichita Business Journal\n",
            "Qantas Plans To Finalize Its Domestic Airbus Order In Mid 2022 - Simple Flying\n",
            "Europe launches Airbus-led military drone programme - Reuters\n",
            "Demand for 737 MAX and new freighter jet boosts Boeing orders in January - The Seattle Times\n",
            "On This Day In 2003: The Boeing 777-300ER's First Flight - Simple Flying\n",
            "China Southern Retiring Airbus A380 Fleet - One Mile at a Time\n",
            "Volaris Wants An Almost All Airbus Neo Fleet By 2026 - Simple Flying\n",
            "SWISS Reveals 1st Route For New Boeing 777 Premium Economy - Simple Flying\n",
            "Airbus upbeat on freighter sales, plays down supply chain fears - Reuters\n",
            "Airbus, Safran consortium to buy fighter jet parts maker A&D - Reuters\n",
            "Western Global Airlines Purchases Two Boeing 777 Freighters - MediaRoom - News Releases/Statements\n",
            "Boeing: Titanium War With Russia - Seeking Alpha\n",
            "When Boeing 787 deliveries resume, FAA will certify each plane itself - The Seattle Times\n",
            "Indian Navy takes delivery of Boeing P-8I, expanding fleet to 12 aircraft - Aerotech News\n",
            "Boeing wins Qatar Airways order for 737 Max planes, new 777X freighters - CNBC\n",
            "Urban League, Boeing Awards Grant sponsor STEM programs for Gary youth - Chicago Tribune\n",
            "Lockheed, Airbus take on Boeing with made-in-U.S. aerial tanker - The Seattle Times\n",
            "Qatar Airways Has Boeing 777 Repainted In Toulouse Amid Airbus Spat - Simple Flying\n",
            "SWISS Airbus A220 Returns To Geneva With Suspected Brake Issue - Simple Flying\n",
            "34 Years On: Which European Operators Still Fly The Boeing 737-400? - Simple Flying\n",
            "How Might The Boeing 797 Stack Up Against The Airbus A321XLR? - Simple Flying\n",
            "Croatia Airlines Needs A New Fleet: Could It Pick Airbus, Boeing, Or Embraer? - Simple Flying\n",
            "Boeing (BA Stock) should remain heavy for more downside [Video] - FXStreet\n",
            "Rossell Techsys Wins Boeing Contract to Manufacture Wire Harnesses for the T-7A Red Hawk Platform - Business Wire\n",
            "Why an aerospace supplier might be positioned to break Airbus-Boeing duopoly - Flightglobal\n",
            "Boeing Co. stock rises Thursday, still underperforms market - MarketWatch\n",
            "Boeing Hints at Next New Jet as It Weighs Tough Engine Decisions - Bloomberg\n",
            "Airbus to charter its popular Beluga XL 'whale plane' - CNN\n",
            "Airbus to Provide Imagery Services That Enable Intelinair's Crop Analytics Platform - Business Wire\n",
            "SWISS to Cover Its Boeing 777 Fleet With Shark-Like Skin Tech - autoevolution\n",
            "Trivia: Airbus vs Boeing - How to tell the difference between planes? - Zee News\n",
            "Airbus workers authorize strike over pay at U.K. wing plants - The Seattle Times\n",
            "Corendon Airlines To Lease 9 Boeing 737 MAXs From ALC - Simple Flying\n",
            "American Airlines cuts summer flights because of delayed Boeing jets - Fox Business\n",
            "Airbus CEO: The A220 Is Still Gaining Altitude - Simple Flying\n",
            "FedEx Wants New Freighters: Will Airbus or Boeing Win? - Simple Flying\n",
            "Today in Aviation: First Flight of the Boeing 757 - Airways Magazine\n",
            "Boeing says Ukraine tensions creating 'adverse climate' for business - Reuters\n",
            "Dow's 189-point jump led by gains for Boeing, Intel shares - MarketWatch\n",
            "Unofficially, WSU has already clinched Boeing Apple Cup Series over UW - 247Sports\n",
            "Optimism In Textron Stock A Trigger For Boeing? - Nasdaq\n",
            "‘Flying Cars’: Boeing, Airbus Propel Production Of eVTOLs As Air Taxis Get Ready For Takeoff - EurAsian Times\n",
            "Boeing Sells Off After Earnings - Investopedia\n",
            "Boeing's Aging Cargo Line Risks Losing Dominance to Airbus - Transport Topics Online\n",
            "Kenya Airways signs MOU with Boeing on service deal - HapaKenya - HapaKenya\n",
            "Airbus look to take another step towards title - LeaderLive\n",
            "A Third Of The Global Airbus A380 Fleet Is Now Flying Again - Simple Flying\n",
            "PLAY's First Airbus A320neo Is Spotted In Its Striking Red Livery - Simple Flying\n",
            "Comac C919 Chinese-made commercial jet built to rival Boeing and Airbus - Business Insider\n",
            "Airbus SE Expected to Earn FY2025 Earnings of $2.83 Per Share (OTCMKTS:EADSY) - MarketBeat\n",
            "Photos: See inside a retired Boeing 747 'party plane' - Business Insider\n",
            "JetBlue Just Ordered More Airbus A220s - Nasdaq\n",
            "Helicopter Market is Booming Worldwide with Turkish Aerospace Industries, Boeing, Changhe Aircraft Industries Group Co. Ltd. – ZNews Africa - ZNews Africa\n",
            "Moment Boeing Chinook takes off in Wolverhampton as witness 'thought it was to do with Ukraine' - Birmingham Live\n",
            "TETRA Mobile Radio Market Potential Opportunities: Sepura, MOTO, Hytera, Airbus DS, Thales, – ZNews Africa - ZNews Africa\n",
            "Boeing barely beating Airbus on 2021 jet orders, but far behind in deliveries - The Seattle Times\n",
            "With Boeing production stalled, Airbus remains No. 1 jet maker - The Seattle Times\n",
            "Boeing, Airbus executives urge delay in U.S. 5G wireless deployment - Reuters\n",
            "Airbus maintains lead over Boeing in deliveries, lags on orders - Reuters\n",
            "Boeing wins a big 737 MAX order in Dubai, though Airbus dominates air show - The Seattle Times\n",
            "Boeing wants to build its next airplane in the 'metaverse' - Reuters\n",
            "Airbus smashes orders at Dubai Air Show, Boeing trails behind despite big 737 Max sale - CNBC\n",
            "Despite pandemic pause, demand for new airplanes is expected to swell in next two decades, Boeing says - CNBC\n",
            "Airbus, Boeing China Airline Orders Backlog Shrinking - Aviation Week\n",
            "EXCLUSIVE U.S. carrier Allegiant Air to buy 50 Boeing 737 MAX jets -sources - Reuters\n",
            "Examining the Temporary Détente in the Boeing-Airbus Dispute - AAF - American Action Forum\n",
            "Boeing recovery sidetracked by regulatory tussles on big jets - Reuters\n",
            "The $15 billion jet dilemma facing Boeing's CEO - Reuters\n",
            "U.S. and EU resolve 17-year Boeing-Airbus trade dispute - CNBC\n",
            "Survey Shows Airlines Want New Boeing Aircraft - Aviation Week\n",
            "Airbus A380: The end of a multibillion-dollar dream - DW (English)\n",
            "Boeing's 737 Max problems are improving, but plenty of other issues loom - CNN\n",
            "Airbus and Boeing face new competition from China and Russia - DW (English)\n",
            "U.S. Senate committee faults FAA oversight of Boeing - Reuters\n",
            "Airbus receives order for 255 jets in first major deal since Covid outbreak - CNBC\n",
            "Boeing has 'more work to do', says U.S. air safety chief - Reuters\n",
            "Qatar Air Warms Toward Boeing Freighter in Row Over Airbus Paint - Bloomberg\n",
            "Boeing to Unveil Air Freighter, Setting Up a Rumble With Airbus - Bloomberg\n",
            "Airbus rejects pressure to curb record jet output goal - Reuters\n",
            "Boeing jetliner deliveries fell to 27 aircraft in October - Reuters\n",
            "Ten years on, is the Boeing 787 Dreamliner still more dream than nightmare? - CNN\n"
          ]
        }
      ]
    },
    {
      "cell_type": "markdown",
      "source": [
        "### Search Google News and Save to CSV File"
      ],
      "metadata": {
        "id": "NhI4K0zJD7DL"
      }
    },
    {
      "cell_type": "code",
      "source": [
        "import pandas as pd\n",
        "import csv\n",
        "from pygooglenews import GoogleNews\n",
        "\n",
        "gn = GoogleNews (lang = 'en', country = 'UK') \n",
        "\n",
        "Xmassearch = gn.search('intitle:Christmas', helper = True, from_ = '2019-12-01', to_= '2019-12-31')\n",
        "\n",
        "print(Xmassearch['feed'].title)\n",
        "\n",
        "for item in Xmassearch ['entries']:\n",
        "  print(item['title'])\n",
        "\n",
        "file = open(\"Christmassearch.csv\", \"w\")\n",
        "writer = csv.writer(file)\n",
        "\n",
        "writer.writerow([\"Xmassearch\"])\n",
        "\n",
        "file.close()"
      ],
      "metadata": {
        "colab": {
          "base_uri": "https://localhost:8080/"
        },
        "id": "YWnZfiFYCZCu",
        "outputId": "8430e458-8c98-4823-c389-0ab76be32811"
      },
      "execution_count": 20,
      "outputs": [
        {
          "output_type": "stream",
          "name": "stdout",
          "text": [
            "\"intitle:Christmas after:2019-12-01 before:2019-12-31\" - Google News\n",
            "Should We Stop Sending Christmas Cards? - International Environmental Technology\n",
            "Winter weekenders: 15 picturesque UK towns for a pre-Christmas break - The Guardian\n",
            "The best Christmas films that aren't really about Christmas - Epigram\n",
            "The curious tale of how Japan got hooked on KFC at Christmas - Wired.co.uk\n",
            "Farm turkeys still a winner at Christmas - with over 10 million sold in UK - FG Insight\n",
            "Is This $15 Million Christmas Tree The Most Expensive In The World? - Forbes\n",
            "Five Christmas mysteries unwrapped - BBC News\n",
            "Is the Christmas spirit all in the brain? - BBC News\n",
            "Why football at Christmas is a very British tradition - BBC News\n",
            "Prime Minister Boris Johnson's Christmas message: 24 December 2019 - GOV.UK\n",
            "The 50 greatest Christmas songs – ranked! | Music - The Guardian\n",
            "How advertising through the ages has shaped Christmas - The Conversation UK\n",
            "London Christmas Museum Guide 2019 - What's Open, What's Closed - ArtLyst\n",
            "Of St. Nick and Christmas trees - denvercatholic.org\n",
            "Why like Emma Watson, we're happy to be single at Christmas - BBC News\n",
            "Christmas snacks: Yotam Ottolenghi’s festive party-food recipes - The Guardian\n",
            "Tesco withdraws Christmas cards from sale after forced labour claims - The Guardian\n",
            "Will it be a merry Christmas for UK retailers? - Retail Insight Network\n",
            "Communities Secretary Robert Jenrick spends Christmas evening at Birmingham Christmas Shelter - GOV.UK\n",
            "The best Christmas TV specials of all time - cosmopolitan.com\n",
            "Best Christmas things to do for families this festive season across the UK - Mirror Online\n",
            "A greener Christmas is the best present for the environment. - GOV.UK\n",
            "Six ingredients of the perfect Christmas blockbuster - BBC News\n",
            "Cuffing season: When a partner is just for Christmas - BBC News\n",
            "Commercialising Christmas has a long and complicated history - Financial Times\n",
            "Meet the families keeping motorists moving at Christmas - GOV.UK\n",
            "Gavin and Stacey Christmas special watched by 11.6 million people - The Guardian\n",
            "What to do in London on Christmas Day - IanVisits\n",
            "How to have a sustainable and wildlife-friendly Christmas - BBC Discover Wildlife\n",
            "‘Many of our children don’t get presents’: schools open over Christmas for families with nothing - The Guardian\n",
            "38 Forgotten Christmas Movies - Old and Unexpected Christmas Movies - GoodHousekeeping.com\n",
            "Political leaders' Christmas messages - The Edinburgh Reporter\n",
            "Read your child a book this Christmas, says Children's Minister - GOV.UK\n",
            "Mistletoe: the Christmas tradition we show no sign of kissing goodbye to - The Guardian\n",
            "World craves British food this Christmas - GOV.UK\n",
            "Why Do Christmas Gnomes Exist, and Why Do They Scare Me So Much? - HouseBeautiful.com\n",
            "Trafalgar Square Christmas tree: 'Sparse' spruce ridiculed - BBC News\n",
            "Christmas 2019: Why do some people open their presents on Christmas Eve? - Express\n",
            "Observer readers’ alternative Christmas playlist - The Guardian\n",
            "Christmas: What is the Queen's Christmas message? - BBC News\n",
            "The neuroscience of the Christmas cheer 'emotion' - The Conversation UK\n",
            "Have a Banksy Christmas: his Birmingham reindeer are an artistic miracle - The Guardian\n",
            "Online Christmas Day spending expected to exceed £1bn - The Guardian\n",
            "Buy a Christmas tree in a local park – and help a local school - LBHF\n",
            "What Christmas will really cost you - The Independent\n",
            "The magical ingredient in my Christmas dinner? Family memories - The Guardian\n",
            "All-new Christmas festival comes to Hemel Hempstead - Hemel Today\n",
            "I lied to my family and spent Christmas Day alone - The Guardian\n",
            "Consumers 'to spend an average of £363 on Christmas gifts for family' - The Independent\n",
            "Christmas movies: that time of year when home is where the heart is - The Conversation UK\n",
            "The week in radio: Neil Gaiman’s Chivalry; Christmas Compass; The Nutcracker and more - The Guardian\n",
            "Mistletoe is a parasite — this is the story behind its Christmas kissing tradition - iNews\n",
            "Bah Humbug: Most of the World Will Never See a White Christmas | The Weather Channel - Articles from The Weather Channel | weather.com - The Weather Channel\n",
            "Christmas Films: Why we love them - Epigram\n",
            "Christmas tree lights bought online could pose fire hazard - The Guardian\n",
            "I found Christmas the loneliest time of year. Then I started working at Crisis - The Guardian\n",
            "Turkey anyone? Why standards slip at Christmas when it comes to film - The Guardian\n",
            "Christmas supermarket opening hours: Which supermarkets are open over Christmas? - prima.co.uk\n",
            "Parole Board Christmas and New Year opening times 2019-2020 - GOV.UK\n",
            "Sathnam Sanghera: my big fat Punjabi Christmas | Christmas Special - The Times\n",
            "What day is Christmas Eve and Christmas Day on this year? - Metro.co.uk\n",
            "PM: “Brexit vote wrapped up for Christmas\" - GOV.UK\n",
            "Christmas sides: Anna Jones’ recipes for garlic cauliflower cheese and the ultimate roast potatoes - The Guardian\n",
            "Plating up for Christmas - GOV.UK\n",
            "Go back in time and discover the origins of Christmas at Bassetlaw Museum this December - Worksop Guardian\n",
            "Where Christmas trees cost a month's pay - BBC News\n",
            "Christmas dessert: Tamal Ray’s recipe for no-bake spiced orange tart - The Guardian\n",
            "Christmas lights from online sellers 'can be fire risk' - BBC News\n",
            "Gifts that keep on giving: a guide to preloved Christmas shopping - The Guardian\n",
            "Claudia Winkleman's 12 rules of Christmas - London - Stylist Magazine\n",
            "Pre-Christmas shopping discounts 'could hit 50%' - BBC News\n",
            "Furious mum says Amazon Alexa ‘ruined Christmas’ after it blurted out daughter's surprise - Heart\n",
            "Most Popular Christmas Present When You Were Born - HouseBeautiful.com\n",
            "'How have we done this again?' LadBaby scores second Christmas number one - BBC News\n",
            "89 New Christmas Albums of 2019, Reviewed - Rolling Stone\n",
            "Quiz: how much can you remember about Christmas No 1s? - The Guardian\n",
            "Anxiety At Christmas — How To Cope With Anxiety - Countryliving (UK)\n",
            "Border Force crackdown on Christmas counterfeits - GOV.UK\n",
            "It’s the most woeful time of the year… why is Christmas TV so miserable? - The Guardian\n",
            "Rock bottom at Christmas but safe in May: How sides have survived the drop - Daily Mail\n",
            "Christmas 2019: What countries do not celebrate Christmas? - Express.co.uk\n",
            "Tesco opening times for Christmas Eve, Christmas Day and Boxing Day - Metro.co.uk\n",
            "Tell us about your experiences of finding Christmas love - The Guardian\n",
            "Christmas trees from around the world - CBBC Newsround - CBBC Newsround\n",
            "How to have a sober Christmas: An addict's guide - BBC News\n",
            "What happened to Christmas Day football after a modern invention ended the tradition - Mirror Online\n",
            "My First Time... Ruining Christmas - LeftLion\n",
            "Why I'm boycotting Christmas this year - Metro.co.uk\n",
            "For many women, Christmas is just hard work. Here’s how to ring the changes - The Guardian\n",
            "12 Days of QPR Christmas: Balls and Baubles - QPR official website\n",
            "I’ve discovered the best thing about Christmas: doing nothing - The Guardian\n",
            "The long history of books as Christmas gifts - The Conversation UK\n",
            "Fewer people visit UK shops on last Saturday before Christmas - The Guardian\n",
            "Christmas Shut Down - Exeter City Council\n",
            "Why some people celebrate Christmas in January - National Geographic\n",
            "Why is Christmas Day mass held at midnight? - Metro.co.uk\n",
            "People share the empowering reasons they go running on Christmas Day - Metro.co.uk\n",
            "Prime Minister visits British troops in Estonia for Christmas - GOV.UK\n",
            "Why Christmas ghost stories have such enduring appeal - The Conversation UK\n",
            "Christmas boost for Midlands businesses - GOV.UK\n"
          ]
        }
      ]
    }
  ]
}