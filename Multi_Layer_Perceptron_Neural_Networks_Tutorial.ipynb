{
  "nbformat": 4,
  "nbformat_minor": 0,
  "metadata": {
    "colab": {
      "name": "Multi_Layer_Perceptron_Neural_Networks_Tutorial.ipynb",
      "provenance": [],
      "collapsed_sections": [],
      "authorship_tag": "ABX9TyMuQUNnIBn7t4/sLXHtBj5U",
      "include_colab_link": true
    },
    "kernelspec": {
      "name": "python3",
      "display_name": "Python 3"
    },
    "language_info": {
      "name": "python"
    }
  },
  "cells": [
    {
      "cell_type": "markdown",
      "metadata": {
        "id": "view-in-github",
        "colab_type": "text"
      },
      "source": [
        "<a href=\"https://colab.research.google.com/github/jgamel/learn_n_dev/blob/python_machine_learning/Multi_Layer_Perceptron_Neural_Networks_Tutorial.ipynb\" target=\"_parent\"><img src=\"https://colab.research.google.com/assets/colab-badge.svg\" alt=\"Open In Colab\"/></a>"
      ]
    },
    {
      "cell_type": "markdown",
      "source": [
        "# Multi-Layer Perceptron Neural Networks"
      ],
      "metadata": {
        "id": "hWz4bCoEUPB5"
      }
    },
    {
      "cell_type": "markdown",
      "source": [
        "We are going to cover a lot of ground very quickly in this post. Here is an idea of what is ahead:\n",
        "\n",
        "1. Multi-Layer Perceptrons.\n",
        "2. Neurons, Weights and Activations.\n",
        "3. Networks of Neurons.\n",
        "4. Training Networks."
      ],
      "metadata": {
        "id": "LGiMO7MpURj3"
      }
    },
    {
      "cell_type": "markdown",
      "source": [
        "### Multi-Layer Perceptrons"
      ],
      "metadata": {
        "id": "0qAei5FIUrq5"
      }
    },
    {
      "cell_type": "markdown",
      "source": [
        "The field of artificial neural networks is often just called neural networks or multi-layer perceptrons after perhaps the most useful type of neural network. A perceptron is a single neuron model that was a precursor to larger neural networks.\n",
        "\n",
        "It is a field that investigates how simple models of biological brains can be used to solve difficult computational tasks like the predictive modeling tasks we see in machine learning. The goal is not to create realistic models of the brain, but instead to develop robust algorithms and data structures that we can use to model difficult problems.\n",
        "\n",
        "The power of neural networks comes from their ability to learn the representation in your training data and how to best relate it to the output variable that you want to predict. In this sense neural networks learn a mapping. Mathematically, they are capable of learning any mapping function and have been proven to be a universal approximation algorithm.\n",
        "\n",
        "The predictive capability of neural networks comes from the hierarchical or multi-layered structure of the networks. The data structure can pick out (learn to represent) features at different scales or resolutions and combine them into higher-order features. For example from lines, to collections of lines to shapes.\n",
        "\n"
      ],
      "metadata": {
        "id": "GIV2d5-yVJIA"
      }
    },
    {
      "cell_type": "markdown",
      "source": [
        "### Neurons"
      ],
      "metadata": {
        "id": "xwdNGDJPV_JS"
      }
    },
    {
      "cell_type": "markdown",
      "source": [
        "The building block for neural networks are artificial neurons.\n",
        "\n",
        "These are simple computational units that have weighted input signals and produce an output signal using an activation function.\n",
        "\n",
        "![Neuron.webp](data:image/webp;base64,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)"
      ],
      "metadata": {
        "id": "6uEmNHuEWDAx"
      }
    },
    {
      "cell_type": "markdown",
      "source": [
        "### Neuron Weights"
      ],
      "metadata": {
        "id": "jsAHZY6scxKD"
      }
    },
    {
      "cell_type": "markdown",
      "source": [
        "You may be familiar with linear regression, in which case the weights on the inputs are very much like the coefficients used in a regression equation.\n",
        "\n",
        "Like linear regression, each neuron also has a bias which can be thought of as an input that always has the value 1.0 and it too must be weighted.\n",
        "\n",
        "For example, a neuron may have two inputs in which case it requires three weights. One for each input and one for the bias.\n",
        "\n",
        "Weights are often initialized to small random values, such as values in the range 0 to 0.3, although more complex initialization schemes can be used.\n",
        "\n",
        "Like linear regression, larger weights indicate increased complexity and fragility. It is desirable to keep weights in the network small and regularization techniques can be used."
      ],
      "metadata": {
        "id": "gtpXCkqQcyuh"
      }
    },
    {
      "cell_type": "markdown",
      "source": [
        "### Activation"
      ],
      "metadata": {
        "id": "1ATZqCsOd6nC"
      }
    },
    {
      "cell_type": "markdown",
      "source": [
        "The weighted inputs are summed and passed through an activation function, sometimes called a transfer function.\n",
        "\n",
        "An activation function is a simple mapping of summed weighted input to the output of the neuron. It is called an activation function because it governs the threshold at which the neuron is activated and strength of the output signal.\n",
        "\n",
        "Historically simple step activation functions were used where if the summed input was above a threshold, for example 0.5, then the neuron would output a value of 1.0, otherwise it would output a 0.0.\n",
        "\n",
        "Traditionally non-linear activation functions are used. This allows the network to combine the inputs in more complex ways and in turn provide a richer capability in the functions they can model. Non-linear functions like the logistic also called the sigmoid function were used that output a value between 0 and 1 with an s-shaped distribution, and the hyperbolic tangent function also called tanh that outputs the same distribution over the range -1 to +1.\n",
        "\n",
        "More recently the rectifier activation function has been shown to provide better results."
      ],
      "metadata": {
        "id": "0IZ74el2d-Hg"
      }
    },
    {
      "cell_type": "markdown",
      "source": [
        "### Networks of Neurons"
      ],
      "metadata": {
        "id": "AOL5dTcRfRe6"
      }
    },
    {
      "cell_type": "markdown",
      "source": [
        "Neurons are arranged into networks of neurons.\n",
        "\n",
        "A row of neurons is called a layer and one network can have multiple layers. The architecture of the neurons in the network is often called the network topology.\n",
        "\n",
        "![Network.webp](data:image/webp;base64,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)"
      ],
      "metadata": {
        "id": "Op_E_h3RfUfu"
      }
    },
    {
      "cell_type": "markdown",
      "source": [
        "**Input or Visible Layers**\n",
        "\n",
        "The bottom layer that takes input from your dataset is called the visible layer, because it is the exposed part of the network. Often a neural network is drawn with a visible layer with one neuron per input value or column in your dataset. These are not neurons as described above, but simply pass the input value though to the next layer.\n",
        "\n",
        "**Hidden Layers**\n",
        "\n",
        "Layers after the input layer are called hidden layers because that are not directly exposed to the input. The simplest network structure is to have a single neuron in the hidden layer that directly outputs the value.\n",
        "\n",
        "Given increases in computing power and efficient libraries, very deep neural networks can be constructed. Deep learning can refer to having many hidden layers in your neural network. They are deep because they would have been unimaginably slow to train historically, but may take seconds or minutes to train using modern techniques and hardware.\n",
        "\n",
        "**Output Layer**\n",
        "\n",
        "The final hidden layer is called the output layer and it is responsible for outputting a value or vector of values that correspond to the format required for the problem.\n",
        "\n",
        "The choice of activation function in he output layer is strongly constrained by the type of problem that you are modeling. For example:\n",
        "\n",
        "* A regression problem may have a single output neuron and the neuron may have no activation function.\n",
        "* A binary classification problem may have a single output neuron and use a sigmoid activation function to output a value between 0 and 1 to represent the probability of predicting a value for the class 1. This can be turned into a crisp class value by using a threshold of 0.5 and snap values less than the threshold to 0 otherwise to 1.\n",
        "* A multi-class classification problem may have multiple neurons in the output layer, one for each class (e.g. three neurons for the three classes in the famous iris flowers classification problem). In this case a softmax activation function may be used to output a probability of the network predicting each of the class values. Selecting the output with the highest probability can be used to produce a crisp class classification value."
      ],
      "metadata": {
        "id": "zUqbaWuAfxfm"
      }
    },
    {
      "cell_type": "markdown",
      "source": [
        "### Training Networks"
      ],
      "metadata": {
        "id": "WUwNo1lViaK9"
      }
    },
    {
      "cell_type": "markdown",
      "source": [
        "Once configured, the neural network needs to be trained on your dataset."
      ],
      "metadata": {
        "id": "sygj2UiHigJY"
      }
    },
    {
      "cell_type": "markdown",
      "source": [
        "**Data Preparation**\n",
        "\n",
        "You must first prepare your data for training on a neural network.\n",
        "\n",
        "Data must be numerical, for example real values. If you have categorical data, such as a sex attribute with the values “male” and “female”, you can convert it to a real-valued representation called a one hot encoding. This is where one new column is added for each class value (two columns in the case of sex of male and female) and a 0 or 1 is added for each row depending on the class value for that row.\n",
        "\n",
        "This same one hot encoding can be used on the output variable in classification problems with more than one class. This would create a binary vector from a single column that would be easy to directly compare to the output of the neuron in the network’s output layer, that as described above, would output one value for each class.\n",
        "\n",
        "Neural networks require the input to be scaled in a consistent way. You can rescale it to the range between 0 and 1 called normalization. Another popular technique is to standardize it so that the distribution of each column has the mean of zero and the standard deviation of 1.\n",
        "\n",
        "Scaling also applies to image pixel data. Data such as words can be converted to integers, such as the popularity rank of the word in the dataset and other encoding techniques."
      ],
      "metadata": {
        "id": "9_WYZ_s6ionw"
      }
    },
    {
      "cell_type": "markdown",
      "source": [
        "**Stochastic Gradient Descent**\n",
        "\n",
        "The classical and still preferred training algorithm for neural networks is called stochastic gradient descent.\n",
        "\n",
        "This is where one row of data is exposed to the network at a time as input. The network processes the input upward activating neurons as it goes to finally produce an output value. This is called a forward pass on the network. It is the type of pass that is also used after the network is trained in order to make predictions on new data.\n",
        "\n",
        "The output of the network is compared to the expected output and an error is calculated. This error is then propagated back through the network, one layer at a time, and the weights are updated according to the amount that they contributed to the error. This clever bit of math is called the backpropagation algorithm.\n",
        "\n",
        "The process is repeated for all of the examples in your training data. One round of updating the network for the entire training dataset is called an epoch. A network may be trained for tens, hundreds or many thousands of epochs."
      ],
      "metadata": {
        "id": "otxdviG5izOd"
      }
    },
    {
      "cell_type": "markdown",
      "source": [
        "**Weight Updates**\n",
        "\n",
        "The weights in the network can be updated from the errors calculated for each training example and this is called online learning. It can result in fast but also chaotic changes to the network.\n",
        "\n",
        "Alternatively, the errors can be saved up across all of the training examples and the network can be updated at the end. This is called batch learning and is often more stable.\n",
        "\n",
        "Typically, because datasets are so large and because of computational efficiencies, the size of the batch, the number of examples the network is shown before an update is often reduced to a small number, such as tens or hundreds of examples.\n",
        "\n",
        "The amount that weights are updated is controlled by a configuration parameters called the learning rate. It is also called the step size and controls the step or change made to network weight for a given error. Often small weight sizes are used such as 0.1 or 0.01 or smaller.\n",
        "\n",
        "The update equation can be complemented with additional configuration terms that you can set.\n",
        "\n",
        "* Momentum is a term that incorporates the properties from the previous weight update to allow the weights to continue to change in the same direction even when there is less error being calculated.\n",
        "* Learning Rate Decay is used to decrease the learning rate over epochs to allow the network to make large changes to the weights at the beginning and smaller fine tuning changes later in the training schedule."
      ],
      "metadata": {
        "id": "wokWthQ5kbR9"
      }
    },
    {
      "cell_type": "markdown",
      "source": [
        "**Prediction**\n",
        "\n",
        "Once a neural network has been trained it can be used to make predictions.\n",
        "\n",
        "You can make predictions on test or validation data in order to estimate the skill of the model on unseen data. You can also deploy it operationally and use it to make predictions continuously.\n",
        "\n",
        "The network topology and the final set of weights is all that you need to save from the model. Predictions are made by providing the input to the network and performing a forward-pass allowing it to generate an output that you can use as a prediction."
      ],
      "metadata": {
        "id": "rRz4EQlIleTD"
      }
    }
  ]
}