{
  "nbformat": 4,
  "nbformat_minor": 0,
  "metadata": {
    "colab": {
      "name": "Multi_Layer_Perceptron_Neural_Networks_Tutorial.ipynb",
      "provenance": [],
      "collapsed_sections": [],
      "authorship_tag": "ABX9TyOX0qjlIEPIRMjhJAvu7Vs0",
      "include_colab_link": true
    },
    "kernelspec": {
      "name": "python3",
      "display_name": "Python 3"
    },
    "language_info": {
      "name": "python"
    }
  },
  "cells": [
    {
      "cell_type": "markdown",
      "metadata": {
        "id": "view-in-github",
        "colab_type": "text"
      },
      "source": [
        "<a href=\"https://colab.research.google.com/github/jgamel/learn_n_dev/blob/python_machine_learning/Multi_Layer_Perceptron_Neural_Networks_Tutorial.ipynb\" target=\"_parent\"><img src=\"https://colab.research.google.com/assets/colab-badge.svg\" alt=\"Open In Colab\"/></a>"
      ]
    },
    {
      "cell_type": "markdown",
      "source": [
        "# Multi-Layer Perceptron Neural Networks"
      ],
      "metadata": {
        "id": "hWz4bCoEUPB5"
      }
    },
    {
      "cell_type": "markdown",
      "source": [
        "We are going to cover a lot of ground very quickly in this post. Here is an idea of what is ahead:\n",
        "\n",
        "1. Multi-Layer Perceptrons.\n",
        "2. Neurons, Weights and Activations.\n",
        "3. Networks of Neurons.\n",
        "4. Training Networks."
      ],
      "metadata": {
        "id": "LGiMO7MpURj3"
      }
    },
    {
      "cell_type": "markdown",
      "source": [
        "### Multi-Layer Perceptrons"
      ],
      "metadata": {
        "id": "0qAei5FIUrq5"
      }
    },
    {
      "cell_type": "markdown",
      "source": [
        "The field of artificial neural networks is often just called neural networks or multi-layer perceptrons after perhaps the most useful type of neural network. A perceptron is a single neuron model that was a precursor to larger neural networks.\n",
        "\n",
        "It is a field that investigates how simple models of biological brains can be used to solve difficult computational tasks like the predictive modeling tasks we see in machine learning. The goal is not to create realistic models of the brain, but instead to develop robust algorithms and data structures that we can use to model difficult problems.\n",
        "\n",
        "The power of neural networks comes from their ability to learn the representation in your training data and how to best relate it to the output variable that you want to predict. In this sense neural networks learn a mapping. Mathematically, they are capable of learning any mapping function and have been proven to be a universal approximation algorithm.\n",
        "\n",
        "The predictive capability of neural networks comes from the hierarchical or multi-layered structure of the networks. The data structure can pick out (learn to represent) features at different scales or resolutions and combine them into higher-order features. For example from lines, to collections of lines to shapes.\n",
        "\n"
      ],
      "metadata": {
        "id": "GIV2d5-yVJIA"
      }
    },
    {
      "cell_type": "markdown",
      "source": [
        "### Neurons"
      ],
      "metadata": {
        "id": "xwdNGDJPV_JS"
      }
    },
    {
      "cell_type": "markdown",
      "source": [
        "The building block for neural networks are artificial neurons.\n",
        "\n",
        "These are simple computational units that have weighted input signals and produce an output signal using an activation function.\n",
        "\n",
        "![Neuron.webp](data:image/webp;base64,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)"
      ],
      "metadata": {
        "id": "6uEmNHuEWDAx"
      }
    }
  ]
}