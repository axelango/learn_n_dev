{
  "nbformat": 4,
  "nbformat_minor": 0,
  "metadata": {
    "colab": {
      "name": "sparse_matices_for_ML.ipynb",
      "provenance": [],
      "collapsed_sections": [],
      "authorship_tag": "ABX9TyOiYPEsFh5xnVnCeZZVWUco",
      "include_colab_link": true
    },
    "kernelspec": {
      "name": "python3",
      "display_name": "Python 3"
    },
    "language_info": {
      "name": "python"
    }
  },
  "cells": [
    {
      "cell_type": "markdown",
      "metadata": {
        "id": "view-in-github",
        "colab_type": "text"
      },
      "source": [
        "<a href=\"https://colab.research.google.com/github/jgamel/learn_n_dev/blob/python_data_prep_cleaning/sparse_matices_for_ML.ipynb\" target=\"_parent\"><img src=\"https://colab.research.google.com/assets/colab-badge.svg\" alt=\"Open In Colab\"/></a>"
      ]
    },
    {
      "cell_type": "markdown",
      "source": [
        "# Sparse Matrices for Machine Learning"
      ],
      "metadata": {
        "id": "vY4ZmUS278N4"
      }
    },
    {
      "cell_type": "markdown",
      "source": [
        "Matrices that contain mostly zero values are called sparse, distinct from matrices where most of the values are non-zero, called dense.\n",
        "\n",
        "Large sparse matrices are common in general and especially in applied machine learning, such as in data that contains counts, data encodings that map categories to counts, and even in whole subfields of machine learning such as natural language processing.\n",
        "\n",
        "It is computationally expensive to represent and work with sparse matrices as though they are dense, and much improvement in performance can be achieved by using representations and operations that specifically handle the matrix sparsity."
      ],
      "metadata": {
        "id": "CGTTHd7E8Jkh"
      }
    },
    {
      "cell_type": "markdown",
      "source": [
        "### Overview\n",
        "\n",
        "* Sparse Matrix\n",
        "* Problems with Sparsity\n",
        "* Sparse Matrices in Machine Learning\n",
        "* Working with Sparse Matrices\n",
        "* Sparse Matrices in Python\n"
      ],
      "metadata": {
        "id": "T7YWe6-A8NqD"
      }
    },
    {
      "cell_type": "markdown",
      "source": [
        "### Sparse Matrix\n",
        "A sparse matrix is a matrix that is comprised of mostly zero values.\n",
        "\n",
        "Sparse matrices are distinct from matrices with mostly non-zero values, which are referred to as dense matrices.\n",
        "\n",
        "The sparsity of a matrix can be quantified with a score, which is the number of zero values in the matrix divided by the total number of elements in the matrix.\n",
        "\n",
        "```sparsity = count zero elements / total elements```\n",
        "\n",
        "Below is an example of a small 3 x 6 sparse matrix.\n",
        "\n",
        "```\n",
        "     1, 0, 0, 1, 0, 0\n",
        "A = (0, 0, 2, 0, 0, 1)\n",
        "     0, 0, 0, 2, 0, 0\n",
        "```\n",
        "\n",
        "The example has 13 zero values of the 18 elements in the matrix, giving this matrix a sparsity score of 0.722 or about 72%."
      ],
      "metadata": {
        "id": "SYy5xaY78WLy"
      }
    },
    {
      "cell_type": "markdown",
      "source": [
        "## Problems with Sparsity\n",
        "\n",
        "Sparse matrices can cause problems with regards to space and time complexity."
      ],
      "metadata": {
        "id": "Vo5o_fqF81vM"
      }
    },
    {
      "cell_type": "markdown",
      "source": [
        "### Space Complexity\n",
        "Very large matrices require a lot of memory, and some very large matrices that we wish to work with are sparse.\n",
        "\n",
        "An example of a very large matrix that is too large to be stored in memory is a link matrix that shows the links from one website to another.\n",
        "\n",
        "An example of a smaller sparse matrix might be a word or term occurrence matrix for words in one book against all known words in English.\n",
        "\n",
        "In both cases, the matrix contained is sparse with many more zero values than data values. The problem with representing these sparse matrices as dense matrices is that memory is required and must be allocated for each 32-bit or even 64-bit zero value in the matrix.\n",
        "\n",
        "This is clearly a waste of memory resources as those zero values do not contain any information."
      ],
      "metadata": {
        "id": "jpcX87ef83NC"
      }
    },
    {
      "cell_type": "markdown",
      "source": [
        "### Time Complexity\n",
        "Assuming a very large sparse matrix can be fit into memory, we will want to perform operations on this matrix.\n",
        "\n",
        "Simply, if the matrix contains mostly zero-values, i.e. no data, then performing operations across this matrix may take a long time where the bulk of the computation performed will involve adding or multiplying zero values together.\n",
        "\n",
        "This is a problem of increased time complexity of matrix operations that increases with the size of the matrix.\n",
        "\n",
        "This problem is compounded when we consider that even trivial machine learning methods may require many operations on each row, column, or even across the entire matrix, resulting in vastly longer execution times.\n"
      ],
      "metadata": {
        "id": "jqDGNRpC9G-d"
      }
    },
    {
      "cell_type": "markdown",
      "source": [
        "##Sparse Matrices in Machine Learning\n",
        "Sparse matrices turn up a lot in applied machine learning.\n",
        "\n",
        "In this section, we will look at some common examples to motivate you to be aware of the issues of sparsity."
      ],
      "metadata": {
        "id": "fb_m0eNb9WAx"
      }
    },
    {
      "cell_type": "markdown",
      "source": [
        "###Data\n",
        "Sparse matrices come up in some specific types of data, most notably observations that record the occurrence or count of an activity.\n",
        "\n",
        "Three examples include:\n",
        "\n",
        "* Whether or not a user has watched a movie in a movie catalog.\n",
        "* Whether or not a user has purchased a product in a product catalog.\n",
        "* Count of the number of listens of a song in a song catalog.\n"
      ],
      "metadata": {
        "id": "lCAOCjIP9Xso"
      }
    },
    {
      "cell_type": "markdown",
      "source": [
        "### Areas of Study\n",
        "Some areas of study within machine learning must develop specialized methods to address sparsity directly as the input data is almost always sparse.\n",
        "\n",
        "Three examples include:\n",
        "\n",
        "* Natural language processing for working with documents of text.\n",
        "* Recommender systems for working with product usage within a catalog.\n",
        "* Computer vision when working with images that contain lots of black pixels."
      ],
      "metadata": {
        "id": "PjWCTQWu9fxW"
      }
    },
    {
      "cell_type": "markdown",
      "source": [
        "### Working with Sparse Matrices\n",
        "The solution to representing and working with sparse matrices is to use an alternate data structure to represent the sparse data.\n",
        "\n",
        "The zero values can be ignored and only the data or non-zero values in the sparse matrix need to be stored or acted upon.\n",
        "\n",
        "There are multiple data structures that can be used to efficiently construct a sparse matrix; three common examples are listed below.\n",
        "\n",
        "* Dictionary of Keys. A dictionary is used where a row and column index is mapped to a value.\n",
        "* List of Lists. Each row of the matrix is stored as a list, with each sublist containing the column index and the value.\n",
        "* Coordinate List. A list of tuples is stored with each tuple containing the row index, column index, and the value.\n",
        "\n",
        "There are also data structures that are more suitable for performing efficient operations; two commonly used examples are listed below.\n",
        "\n",
        "* Compressed Sparse Row. The sparse matrix is represented using three one-dimensional arrays for the non-zero values, the extents of the rows, and the column indexes.\n",
        "* Compressed Sparse Column. The same as the Compressed\n",
        "Sparse Row method except the column indices are compressed and read first before the row indices.\n",
        "\n",
        "The Compressed Sparse Row, also called CSR for short, is often used to represent sparse matrices in machine learning given the efficient access and matrix multiplication that it supports.\n",
        "\n"
      ],
      "metadata": {
        "id": "r-mUMDDf9oJq"
      }
    },
    {
      "cell_type": "markdown",
      "source": [
        "## Sparse Matrices in Python\n",
        "\n",
        "SciPy provides tools for creating sparse matrices using multiple data structures, as well as tools for converting a dense matrix to a sparse matrix.\n",
        "\n",
        "Many linear algebra NumPy and SciPy functions that operate on NumPy arrays can transparently operate on SciPy sparse arrays. Further, machine learning libraries that use NumPy data structures can also operate transparently on SciPy sparse arrays, such as scikit-learn for general machine learning and Keras for deep learning.\n",
        "\n",
        "A dense matrix stored in a NumPy array can be converted into a sparse matrix using the CSR representation by calling the csr_matrix() function.\n",
        "\n",
        "In the example below, we define a 3 x 6 sparse matrix as a dense array, convert it to a CSR sparse representation, and then convert it back to a dense array by calling the todense() function.\n",
        "\n"
      ],
      "metadata": {
        "id": "4xMjBXVN9_iL"
      }
    },
    {
      "cell_type": "code",
      "source": [
        "# dense to sparse\n",
        "from numpy import array\n",
        "from scipy.sparse import csr_matrix\n",
        "# create dense matrix\n",
        "A = array([[1, 0, 0, 1, 0, 0], [0, 0, 2, 0, 0, 1], [0, 0, 0, 2, 0, 0]])\n",
        "print(A)\n",
        "# convert to sparse matrix (CSR method)\n",
        "S = csr_matrix(A)\n",
        "print(S)\n",
        "# reconstruct dense matrix\n",
        "B = S.todense()\n",
        "print(B)"
      ],
      "metadata": {
        "colab": {
          "base_uri": "https://localhost:8080/"
        },
        "id": "oTVSKSFh-FvU",
        "outputId": "618afe80-4fd1-4d49-a6e5-2b6426de746a"
      },
      "execution_count": 1,
      "outputs": [
        {
          "output_type": "stream",
          "name": "stdout",
          "text": [
            "[[1 0 0 1 0 0]\n",
            " [0 0 2 0 0 1]\n",
            " [0 0 0 2 0 0]]\n",
            "  (0, 0)\t1\n",
            "  (0, 3)\t1\n",
            "  (1, 2)\t2\n",
            "  (1, 5)\t1\n",
            "  (2, 3)\t2\n",
            "[[1 0 0 1 0 0]\n",
            " [0 0 2 0 0 1]\n",
            " [0 0 0 2 0 0]]\n"
          ]
        }
      ]
    },
    {
      "cell_type": "markdown",
      "source": [
        "Running the example first prints the defined dense array, followed by the CSR representation, and then the reconstructed dense matrix.\n",
        "\n",
        "NumPy does not provide a function to calculate the sparsity of a matrix.\n",
        "\n",
        "Nevertheless, we can calculate it easily by first finding the density of the matrix and subtracting it from one. The number of non-zero elements in a NumPy array can be given by the count_nonzero() function and the total number of elements in the array can be given by the size property of the array. Array sparsity can therefore be calculated as\n",
        "\n",
        "```sparsity = 1.0 - count_nonzero(A) / A.size```\n",
        "\n",
        "The example below demonstrates how to calculate the sparsity of an array."
      ],
      "metadata": {
        "id": "Z3f2PoHA-Qs3"
      }
    },
    {
      "cell_type": "code",
      "source": [
        "# calculate sparsity\n",
        "from numpy import array\n",
        "from numpy import count_nonzero\n",
        "# create dense matrix\n",
        "A = array([[1, 0, 0, 1, 0, 0], [0, 0, 2, 0, 0, 1], [0, 0, 0, 2, 0, 0]])\n",
        "print(A)\n",
        "# calculate sparsity\n",
        "sparsity = 1.0 - count_nonzero(A) / A.size\n",
        "print(sparsity)"
      ],
      "metadata": {
        "colab": {
          "base_uri": "https://localhost:8080/"
        },
        "id": "jrAOEyvF-bfE",
        "outputId": "9cef2731-3247-4f0c-ca2d-677bbfded46a"
      },
      "execution_count": 2,
      "outputs": [
        {
          "output_type": "stream",
          "name": "stdout",
          "text": [
            "[[1 0 0 1 0 0]\n",
            " [0 0 2 0 0 1]\n",
            " [0 0 0 2 0 0]]\n",
            "0.7222222222222222\n"
          ]
        }
      ]
    }
  ]
}