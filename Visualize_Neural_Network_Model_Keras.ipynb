{
  "nbformat": 4,
  "nbformat_minor": 0,
  "metadata": {
    "colab": {
      "name": "Visualize_Neural_Network_Model_Keras.ipynb",
      "provenance": [],
      "collapsed_sections": [],
      "authorship_tag": "ABX9TyPCEVCqD/bi2WffisC1nnOX",
      "include_colab_link": true
    },
    "kernelspec": {
      "name": "python3",
      "display_name": "Python 3"
    },
    "language_info": {
      "name": "python"
    }
  },
  "cells": [
    {
      "cell_type": "markdown",
      "metadata": {
        "id": "view-in-github",
        "colab_type": "text"
      },
      "source": [
        "<a href=\"https://colab.research.google.com/github/jgamel/learn_n_dev/blob/python_machine_learning/Visualize_Neural_Network_Model_Keras.ipynb\" target=\"_parent\"><img src=\"https://colab.research.google.com/assets/colab-badge.svg\" alt=\"Open In Colab\"/></a>"
      ]
    },
    {
      "cell_type": "markdown",
      "source": [
        "# How to Visualize a Deep Learning Neural Network Model in Keras"
      ],
      "metadata": {
        "id": "MN8NSN00JbuZ"
      }
    },
    {
      "cell_type": "markdown",
      "source": [
        "The Keras Python deep learning library provides tools to visualize and better understand your neural network models.\n",
        "\n",
        "In this tutorial, you will discover exactly how to summarize and visualize your deep learning models in Keras.\n"
      ],
      "metadata": {
        "id": "e2k-6A1hJema"
      }
    },
    {
      "cell_type": "markdown",
      "source": [
        "### Overview"
      ],
      "metadata": {
        "id": "rp9VGkFqJlgH"
      }
    },
    {
      "cell_type": "markdown",
      "source": [
        "* Example Model\n",
        "* Summarize Model\n",
        "* Visualize Model"
      ],
      "metadata": {
        "id": "YGbYSpIjJnFN"
      }
    },
    {
      "cell_type": "markdown",
      "source": [
        "### Example Model"
      ],
      "metadata": {
        "id": "LA4xn3ecJsVj"
      }
    },
    {
      "cell_type": "markdown",
      "source": [
        "We can start off by defining a simple multilayer Perceptron model in Keras that we can use as the subject for summarization and visualization.\n",
        "\n",
        "The model we will define has one input variable, a hidden layer with two neurons, and an output layer with one binary output.\n",
        "\n",
        "For example:\n",
        "\n",
        "```[1 input] -> [2 neurons] -> [1 output]```\n",
        "\n",
        "The code listing for this network is provided below."
      ],
      "metadata": {
        "id": "Anb-3NLpJuoO"
      }
    },
    {
      "cell_type": "code",
      "source": [
        "from keras.models import Sequential\n",
        "from keras.layers import Dense\n",
        "model = Sequential()\n",
        "model.add(Dense(2, input_dim=1, activation='relu'))\n",
        "model.add(Dense(1, activation='sigmoid'))"
      ],
      "metadata": {
        "id": "zOHWdB1MJ3L1"
      },
      "execution_count": 1,
      "outputs": []
    },
    {
      "cell_type": "markdown",
      "source": [
        "### Summarize Model"
      ],
      "metadata": {
        "id": "-m25I_McJ_iF"
      }
    },
    {
      "cell_type": "markdown",
      "source": [
        "Keras provides a way to summarize a model.\n",
        "\n",
        "The summary is textual and includes information about:\n",
        "\n",
        "* The layers and their order in the model.\n",
        "* The output shape of each layer.\n",
        "* The number of parameters (weights) in each layer.\n",
        "* The total number of parameters (weights) in the model.\n",
        "* The summary can be created by calling the summary() function on the model that returns a string that in turn can be printed.\n",
        "\n",
        "Below is the updated example that prints a summary of the created model."
      ],
      "metadata": {
        "id": "IAyflTENKGpM"
      }
    },
    {
      "cell_type": "code",
      "source": [
        "from keras.models import Sequential\n",
        "from keras.layers import Dense\n",
        "model = Sequential()\n",
        "model.add(Dense(2, input_dim=1, activation='relu'))\n",
        "model.add(Dense(1, activation='sigmoid'))\n",
        "print(model.summary())"
      ],
      "metadata": {
        "colab": {
          "base_uri": "https://localhost:8080/"
        },
        "id": "jwM1OOc-KNU9",
        "outputId": "4c1efc89-ea16-4bd7-c660-87230b3f277d"
      },
      "execution_count": 2,
      "outputs": [
        {
          "output_type": "stream",
          "name": "stdout",
          "text": [
            "Model: \"sequential_1\"\n",
            "_________________________________________________________________\n",
            " Layer (type)                Output Shape              Param #   \n",
            "=================================================================\n",
            " dense_2 (Dense)             (None, 2)                 4         \n",
            "                                                                 \n",
            " dense_3 (Dense)             (None, 1)                 3         \n",
            "                                                                 \n",
            "=================================================================\n",
            "Total params: 7\n",
            "Trainable params: 7\n",
            "Non-trainable params: 0\n",
            "_________________________________________________________________\n",
            "None\n"
          ]
        }
      ]
    },
    {
      "cell_type": "markdown",
      "source": [
        "We can clearly see the output shape and number of weights in each layer."
      ],
      "metadata": {
        "id": "UzPZQdiDKT4G"
      }
    },
    {
      "cell_type": "markdown",
      "source": [
        "### Visualize Model"
      ],
      "metadata": {
        "id": "lT1caACVKabG"
      }
    },
    {
      "cell_type": "markdown",
      "source": [
        "The summary is useful for simple models, but can be confusing for models that have multiple inputs or outputs.\n",
        "\n",
        "Keras also provides a function to create a plot of the network neural network graph that can make more complex models easier to understand.\n",
        "\n",
        "The plot_model() function in Keras will create a plot of your network. This function takes a few useful arguments:\n",
        "\n",
        "model: (required) The model that you wish to plot.\n",
        "to_file: (required) The name of the file to which to save the plot.\n",
        "show_shapes: (optional, defaults to False) Whether or not to show the output shapes of each layer.\n",
        "show_layer_names: (optional, defaults to True) Whether or not to show the name for each layer.\n",
        "Below is the updated example that plots the created model.\n",
        "\n",
        "Note, the example assumes that you have the graphviz graph library and the Python interface installed."
      ],
      "metadata": {
        "id": "raUZmDglKbk3"
      }
    },
    {
      "cell_type": "code",
      "execution_count": 4,
      "metadata": {
        "colab": {
          "base_uri": "https://localhost:8080/",
          "height": 312
        },
        "id": "rgvaCiSrHpQX",
        "outputId": "9730a6a0-0f18-4e5c-a040-9eb6f71670a1"
      },
      "outputs": [
        {
          "output_type": "execute_result",
          "data": {
            "text/plain": [
              "<IPython.core.display.Image object>"
            ],
            "image/png": "[encoded data removed]"
          },
          "metadata": {},
          "execution_count": 4
        }
      ],
      "source": [
        "from keras.models import Sequential\n",
        "from keras.layers import Dense\n",
        "from keras.utils.vis_utils import plot_model\n",
        "model = Sequential()\n",
        "model.add(Dense(2, input_dim=1, activation='relu'))\n",
        "model.add(Dense(1, activation='sigmoid'))\n",
        "plot_model(model, to_file='model_plot.png', show_shapes=True, show_layer_names=True)"
      ]
    },
    {
      "cell_type": "markdown",
      "source": [
        "Running the example creates the file model_plot.png with a plot of the created model."
      ],
      "metadata": {
        "id": "xT14ku0GKsQW"
      }
    }
  ]
}