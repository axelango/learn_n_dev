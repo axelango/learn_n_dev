{
  "nbformat": 4,
  "nbformat_minor": 0,
  "metadata": {
    "colab": {
      "name": "Adam_Optimization.ipynb",
      "provenance": [],
      "collapsed_sections": [],
      "authorship_tag": "ABX9TyO+ZxDhX9V6tFI9841Jgalc",
      "include_colab_link": true
    },
    "kernelspec": {
      "name": "python3",
      "display_name": "Python 3"
    },
    "language_info": {
      "name": "python"
    }
  },
  "cells": [
    {
      "cell_type": "markdown",
      "metadata": {
        "id": "view-in-github",
        "colab_type": "text"
      },
      "source": [
        "<a href=\"https://colab.research.google.com/github/jgamel/learn_n_dev/blob/python_machine_learning/Adam_Optimization.ipynb\" target=\"_parent\"><img src=\"https://colab.research.google.com/assets/colab-badge.svg\" alt=\"Open In Colab\"/></a>"
      ]
    },
    {
      "cell_type": "markdown",
      "source": [
        "# Adam Optimization Algorithm for Deep Learning"
      ],
      "metadata": {
        "id": "-fok_-Sx-zb0"
      }
    },
    {
      "cell_type": "markdown",
      "source": [
        "The choice of optimization algorithm for your deep learning model can mean the difference between good results in minutes, hours, and days.\n",
        "\n",
        "The Adam optimization algorithm is an extension to stochastic gradient descent that has recently seen broader adoption for deep learning applications in computer vision and natural language processing.\n",
        "\n"
      ],
      "metadata": {
        "id": "wnjl03i4-50O"
      }
    },
    {
      "cell_type": "markdown",
      "source": [
        "## What is the Adam optimization algorithm?"
      ],
      "metadata": {
        "id": "2JN0eNSr_AE6"
      }
    },
    {
      "cell_type": "markdown",
      "source": [
        "Adam is an optimization algorithm that can be used instead of the classical stochastic gradient descent procedure to update network weights iterative based in training data.\n",
        "\n",
        "Adam was presented by Diederik Kingma from OpenAI and Jimmy Ba from the University of Toronto in their 2015 ICLR paper (poster) titled “Adam: A Method for Stochastic Optimization“. I will quote liberally from their paper in this post, unless stated otherwise.\n",
        "\n",
        "The algorithm is called Adam. It is not an acronym and is not written as “ADAM”.\n",
        "\n",
        "Benefit: \n",
        "\n",
        "* Straightforward to implement.\n",
        "* Computationally efficient.\n",
        "* Little memory requirements.\n",
        "* Invariant to diagonal rescale of the gradients.\n",
        "* Well suited for problems that are large in terms of data and/or parameters.\n",
        "* Appropriate for non-stationary objectives.\n",
        "* Appropriate for problems with very noisy/or sparse gradients.\n",
        "* Hyper-parameters have intuitive interpretation and typically require little tuning."
      ],
      "metadata": {
        "id": "_3jwTx5d_Bsm"
      }
    },
    {
      "cell_type": "markdown",
      "source": [
        "## How Does Adam Work?"
      ],
      "metadata": {
        "id": "wvpB8vHv_jAY"
      }
    },
    {
      "cell_type": "markdown",
      "source": [
        "Adam is different to classical stochastic gradient descent.\n",
        "\n",
        "Stochastic gradient descent maintains a single learning rate (termed alpha) for all weight updates and the learning rate does not change during training.\n",
        "\n",
        "A learning rate is maintained for each network weight (parameter) and separately adapted as learning unfolds.\n",
        "\n",
        "The authors describe Adam as combining the advantages of two other extensions of stochastic gradient descent. Specifically:\n",
        "\n",
        "* **Adaptive Gradient Algorithm** (AdaGrad) that maintains a per-parameter learning rate that improves performance on problems with sparse gradients (e.g. natural language and computer vision problems).\n",
        "* **Root Mean Square Propagation** (RMSProp) that also maintains per-parameter learning rates that are adapted based on the average of recent magnitudes of the gradients for the weight (e.g. how quickly it is changing). This means the algorithm does well on online and non-stationary problems (e.g. noisy).\n",
        "\n",
        "Adam realizes the benefits of both AdaGrad and RMSProp.\n",
        "\n",
        "Instead of adapting the parameter learning rates based on the average first moment (the mean) as in RMSProp, Adam also makes use of the average of the second moments of the gradients (the uncentered variance).\n",
        "\n",
        "Specifically, the algorithm calculates an exponential moving average of the gradient and the squared gradient, and the parameters beta1 and beta2 control the decay rates of these moving averages.\n",
        "\n",
        "The initial value of the moving averages and beta1 and beta2 values close to 1.0 (recommended) result in a bias of moment estimates towards zero. This bias is overcome by first calculating the biased estimates before then calculating bias-corrected estimates.\n",
        "\n",
        "The paper is quite readable and I would encourage you to read it if you are interested in the specific implementation details.\n",
        "\n"
      ],
      "metadata": {
        "id": "MaUfguTJ_kIc"
      }
    },
    {
      "cell_type": "markdown",
      "source": [
        "## Adam is Effective"
      ],
      "metadata": {
        "id": "RNBTF6T4ATRg"
      }
    },
    {
      "cell_type": "markdown",
      "source": [
        "Adam is a popular algorithm in the field of deep learning because it achieves good results fast.\n",
        "\n",
        "In the original paper, Adam was demonstrated empirically to show that convergence meets the expectations of the theoretical analysis. Adam was applied to the logistic regression algorithm on the MNIST digit recognition and IMDB sentiment analysis datasets, a Multilayer Perceptron algorithm on the MNIST dataset and Convolutional Neural Networks on the CIFAR-10 image recognition dataset. They conclude using large models and datasets, we demonstrate Adam can efficiently solve practical deep learning problems.\n",
        "\n",
        "Using large models and datasets, we demonstrate Adam can efficiently solve practical deep learning problems.\n",
        "\n",
        "Adam is being adapted for benchmarks in deep learning papers.\n",
        "\n",
        "For example, it was used in the paper “Show, Attend and Tell: Neural Image Caption Generation with Visual Attention” on attention in image captioning and “DRAW: A Recurrent Neural Network For Image Generation” on image generation."
      ],
      "metadata": {
        "id": "QBJX6999AUSl"
      }
    },
    {
      "cell_type": "markdown",
      "source": [
        "## Adam Configuration Parameters"
      ],
      "metadata": {
        "id": "L5na6gy8BP6J"
      }
    },
    {
      "cell_type": "markdown",
      "source": [
        "* **alpha**. Also referred to as the learning rate or step size. The proportion that weights are updated (e.g. 0.001). Larger values (e.g. 0.3) results in faster initial learning before the rate is updated. Smaller values (e.g. 1.0E-5) slow learning right down during training\n",
        "* **beta1**. The exponential decay rate for the first moment estimates (e.g. 0.9).\n",
        "* **beta2**. The exponential decay rate for the second-moment estimates (e.g. 0.999). This value should be set close to 1.0 on problems with a sparse gradient (e.g. NLP and computer vision problems).\n",
        "* **epsilon** Is a very small number to prevent any division by zero in the implementation (e.g. 10E-8).\n",
        "\n",
        "Further, learning rate decay can also be used with Adam. The paper uses a decay rate alpha = alpha/sqrt(t) updted each epoch (t) for the logistic regression demonstration.\n",
        "\n",
        "The Adam paper suggests:\n",
        "\n",
        "Good default settings for the tested machine learning problems are alpha=0.001, beta1=0.9, beta2=0.999 and epsilon=10−8\n",
        "\n",
        "The TensorFlow documentation suggests some tuning of epsilon:\n",
        "\n",
        "The default value of 1e-8 for epsilon might not be a good default in general. For example, when training an Inception network on ImageNet a current good choice is 1.0 or 0.1.\n",
        "\n",
        "We can see that the popular deep learning libraries generally use the default parameters recommended by the paper.\n",
        "\n",
        "* TensorFlow: learning_rate=0.001, beta1=0.9, beta2=0.999, epsilon=1e-08.\n",
        "* Keras: lr=0.001, beta_1=0.9, beta_2=0.999, epsilon=1e-08, decay=0.0.\n",
        "* Blocks: learning_rate=0.002, beta1=0.9, beta2=0.999, epsilon=1e-08, decay_factor=1.\n",
        "* Lasagne: learning_rate=0.001, beta1=0.9, beta2=0.999, epsilon=1e-08\n",
        "* Caffe: learning_rate=0.001, beta1=0.9, beta2=0.999, epsilon=1e-08\n",
        "* MxNet: learning_rate=0.001, beta1=0.9, beta2=0.999, epsilon=1e-8\n",
        "* Torch: learning_rate=0.001, beta1=0.9, beta2=0.999, epsilon=1e-8"
      ],
      "metadata": {
        "id": "NOFAIbeKBRT-"
      }
    }
  ]
}