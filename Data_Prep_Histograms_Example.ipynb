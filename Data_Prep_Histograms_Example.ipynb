{
  "nbformat": 4,
  "nbformat_minor": 0,
  "metadata": {
    "colab": {
      "name": "Data_Prep_Histograms_Example.ipynb",
      "provenance": [],
      "collapsed_sections": [],
      "authorship_tag": "ABX9TyOr/JGx0lLYDIMQHmcYFZJw",
      "include_colab_link": true
    },
    "kernelspec": {
      "name": "python3",
      "display_name": "Python 3"
    },
    "language_info": {
      "name": "python"
    }
  },
  "cells": [
    {
      "cell_type": "markdown",
      "metadata": {
        "id": "view-in-github",
        "colab_type": "text"
      },
      "source": [
        "<a href=\"https://colab.research.google.com/github/jgamel/learn_n_dev/blob/python_data_prep_cleaning/Data_Prep_Histograms_Example.ipynb\" target=\"_parent\"><img src=\"https://colab.research.google.com/assets/colab-badge.svg\" alt=\"Open In Colab\"/></a>"
      ]
    },
    {
      "cell_type": "markdown",
      "source": [
        "#How to Model Human Activity From Smartphone Data"
      ],
      "metadata": {
        "id": "WI9j0a4q_x3U"
      }
    },
    {
      "cell_type": "markdown",
      "source": [
        "Human activity recognition is the problem of classifying sequences of accelerometer data recorded by specialized harnesses or smart phones into known well-defined movements.\n",
        "\n",
        "It is a challenging problem given the large number of observations produced each second, the temporal nature of the observations, and the lack of a clear way to relate accelerometer data to known movements.\n",
        "\n",
        "Classical approaches to the problem involve hand crafting features from the time series data based on fixed-sized windows and training machine learning models, such as ensembles of decision trees. The difficulty is that this feature engineering requires deep expertise in the field.\n",
        "\n",
        "Recently, deep learning methods such as recurrent neural networks and one-dimensional convolutional neural networks, or CNNs, have been shown to provide state-of-the-art results on challenging activity recognition tasks with little or no data feature engineering.\n",
        "\n",
        "In this tutorial, you will discover the ‘Activity Recognition Using Smartphones‘ dataset for time series classification and how to load and explore the dataset in order to make it ready for predictive modeling."
      ],
      "metadata": {
        "id": "KWDlg1Vu_6wG"
      }
    },
    {
      "cell_type": "markdown",
      "source": [
        "### Overview\n",
        "\n",
        "* Human Activity Recognition\n",
        "* Activity Recognition Using Smartphones Dataset\n",
        "* Download the Dataset\n",
        "* Load Data\n",
        "* Balance of Activity Classes\n",
        "* Plot Time Series Data for One Subject\n",
        "* Plot Histograms Per Subject\n",
        "* Plot Histograms Per Activity\n",
        "* Plot Activity Duration Boxplots\n",
        "* Approach to Modeling"
      ],
      "metadata": {
        "id": "MvN2K4cEAHH6"
      }
    },
    {
      "cell_type": "markdown",
      "source": [
        "## Human Activity Recognition\n"
      ],
      "metadata": {
        "id": "yd0wjbcdARye"
      }
    },
    {
      "cell_type": "markdown",
      "source": [
        "[Human Activity Recognition](https://en.wikipedia.org/wiki/Activity_recognition), or HAR for short, is the problem of predicting what a person is doing based on a trace of their movement using sensors.\n",
        "\n",
        "Movements are often normal indoor activities such as standing, sitting, jumping, and going up stairs.\n",
        "\n",
        "Sensors are often located on the subject, such as a smartphone or vest, and often record accelerometer data in three dimensions (x, y, z).\n",
        "\n",
        "The idea is that once the subject’s activity is recognized and known, an intelligent computer system can then offer assistance.\n",
        "\n",
        "It is a challenging problem because there is no clear analytical way to relate the sensor data to specific actions in a general way. It is technically challenging because of the large volume of sensor data collected (e.g. tens or hundreds of observations per second) and the classical use of hand crafted features and heuristics from this data in developing predictive models.\n",
        "\n",
        "More recently, deep learning methods have been demonstrated successfully on HAR problems given their ability to automatically learn higher-order features."
      ],
      "metadata": {
        "id": "DHn8plbcAXbp"
      }
    },
    {
      "cell_type": "markdown",
      "source": [
        "## Activity Recognition Using Smartphones Dataset"
      ],
      "metadata": {
        "id": "sTXR2BCpBCe5"
      }
    },
    {
      "cell_type": "markdown",
      "source": [
        "A standard human activity recognition dataset is the ‘Activity Recognition Using Smartphones‘ dataset made available in 2012.\n",
        "\n",
        "It was prepared and made available by Davide Anguita, et al. from the University of Genova, Italy and is described in full in their 2013 paper “A Public Domain Dataset for Human Activity Recognition Using Smartphones.” The dataset was modeled with machine learning algorithms in their 2012 paper titled “Human Activity Recognition on Smartphones using a Multiclass Hardware-Friendly Support Vector Machine.”\n",
        "\n",
        "The dataset was made available and can be downloaded for free from the UCI Machine Learning Repository:\n",
        "\n",
        "Human Activity Recognition Using Smartphones Data Set\n",
        "The data was collected from 30 subjects aged between 19 and 48 years old performing one of 6 standard activities while wearing a waist-mounted smartphone that recorded the movement data. Video was recorded of each subject performing the activities and the movement data was labeled manually from these videos.\n",
        "\n",
        "Below is an example video of a subject performing the activities while their movement data is being recorded.\n",
        "\n",
        "\n"
      ],
      "metadata": {
        "id": "VRBtySdOBEb1"
      }
    },
    {
      "cell_type": "code",
      "source": [
        "from IPython.display import HTML\n",
        "HTML('<iframe width=\"623\" height=\"467\" src=\"https://www.youtube.com/embed/XOEN9W05_4A\" title=\"YouTube video player\" frameborder=\"0\" allow=\"accelerometer; autoplay; clipboard-write; encrypted-media; gyroscope; picture-in-picture\" allowfullscreen></iframe>')\n"
      ],
      "metadata": {
        "colab": {
          "base_uri": "https://localhost:8080/",
          "height": 488
        },
        "id": "aGq9auvzB4SL",
        "outputId": "bc4e862c-b1dd-4ee1-a9ef-348b6c816e81"
      },
      "execution_count": 8,
      "outputs": [
        {
          "output_type": "execute_result",
          "data": {
            "text/plain": [
              "<IPython.core.display.HTML object>"
            ],
            "text/html": [
              "<iframe width=\"623\" height=\"467\" src=\"https://www.youtube.com/embed/XOEN9W05_4A\" title=\"YouTube video player\" frameborder=\"0\" allow=\"accelerometer; autoplay; clipboard-write; encrypted-media; gyroscope; picture-in-picture\" allowfullscreen></iframe>"
            ]
          },
          "metadata": {},
          "execution_count": 8
        }
      ]
    },
    {
      "cell_type": "markdown",
      "source": [
        "The six activities performed were as follows:\n",
        "\n",
        "1. Walking\n",
        "2. Walking Upstairs\n",
        "3. Walking Downstairs\n",
        "4. Sitting\n",
        "6. Standing\n",
        "6. Laying\n",
        "\n",
        "The movement data recorded was the x, y, and z accelerometer data (linear acceleration) and gyroscopic data (angular velocity) from the smart phone, specifically a Samsung Galaxy S II.\n",
        "\n",
        "Observations were recorded at 50 Hz (i.e. 50 data points per second). Each subject performed the sequence of activities twice, once with the device on their left-hand-side and once with the device on their right-hand side.\n",
        "\n",
        "The raw data is not available. Instead, a pre-processed version of the dataset was made available.\n",
        "\n",
        "The pre-processing steps included:\n",
        "\n",
        "* Pre-processing accelerometer and gyroscope using noise filters.\n",
        "* Splitting data into fixed windows of 2.56 seconds (128 data points) with 50% overlap.\n",
        "* Splitting of accelerometer data into gravitational (total) and body motion components.\n",
        "\n",
        "Feature engineering was applied to the window data, and a copy of the data with these engineered features was made available.\n",
        "\n",
        "A number of time and frequency features commonly used in the field of human activity recognition were extracted from each window. The result was a 561 element vector of features.\n",
        "\n",
        "The dataset was split into train (70%) and test (30%) sets based on data for subjects, e.g. 21 subjects for train and nine for test.\n",
        "\n",
        "This suggests a framing of the problem where a sequence of movement activity is used as input to predict the portion (2.56 seconds) of the current activity being performed, where a model trained on known subjects is used to predict the activity from movement on new subjects.\n",
        "\n",
        "Early experiment results with a support vector machine intended for use on a smartphone (e.g. fixed-point arithmetic) resulted in a predictive accuracy of 89% on the test dataset, achieving similar results as an unmodified SVM implementation.\n",
        "\n",
        "Now that we are familiar with the prediction problem, we will look at loading and exploring this dataset."
      ],
      "metadata": {
        "id": "u33G8gTGEG2X"
      }
    },
    {
      "cell_type": "markdown",
      "source": [
        "## Download the Dataset"
      ],
      "metadata": {
        "id": "2goYceZlEyad"
      }
    },
    {
      "cell_type": "markdown",
      "source": [
        "The dataset is freely available and can be downloaded from the UCI Machine Learning repository.\n",
        "\n",
        "The data is provided as a single zip file that is about 58 megabytes in size. The direct link for this download is below:\n",
        "\n",
        "[UCI HAR Dataset.zip](https://archive.ics.uci.edu/ml/machine-learning-databases/00240/UCI%20HAR%20Dataset.zip)\n",
        "\n",
        "Download the dataset and unzip all files into a new directory in your current working directory named “HARDataset“.\n",
        "\n",
        "Inspecting the decompressed contents, you will notice a few things:\n",
        "\n",
        "* There are “train” and “test” folders containing the split portions of the data for modeling (e.g. 70%/30%).\n",
        "* There is a “README.txt” file that contains a detailed technical description of the dataset and the contents of the unzipped files.\n",
        "* There is a “features.txt” file that contains a technical description of the engineered features.\n",
        "The contents of the “train” and “test” folders are similar (e.g. folders and file names), although with differences in the specific data they contain.\n",
        "\n",
        "Inspecting the “train” folder shows a few important elements:\n",
        "\n",
        "* An “Inertial Signals” folder that contains the preprocessed data.\n",
        "* The “X_train.txt” file that contains the engineered features intended for fitting a model.\n",
        "* The “y_train.txt” that contains the class labels for each observation (1-6).\n",
        "* The “subject_train.txt” file that contains a mapping of each line in the data files with their subject identifier (1-30).\n",
        "\n",
        "The number of lines in each file match, indicating that one row is one record in each data file.\n",
        "\n",
        "The “Inertial Signals” directory contains 9 files.\n",
        "\n",
        "* Gravitational acceleration data files for x, y and z axes: total_acc_x_train.txt, total_acc_y_train.txt, total_acc_z_train.txt.\n",
        "* Body acceleration data files for x, y and z axes: body_acc_x_train.txt, body_acc_y_train.txt, body_acc_z_train.txt.\n",
        "* Body gyroscope data files for x, y and z axes: body_gyro_x_train.txt, body_gyro_y_train.txt, body_gyro_z_train.txt.\n",
        "\n",
        "The structure is mirrored in the “test” directory.\n",
        "\n",
        "We will focus our attention on the data in the “Inertial Signals” as this is most interesting in developing machine learning models that can learn a suitable representation, instead of using the domain-specific feature engineering.\n",
        "\n",
        "Inspecting a datafile shows that columns are separated by whitespace and values appear to be scaled to the range -1, 1. This scaling can be confirmed by a note in the README.txt file provided with the dataset.\n",
        "\n",
        "Now that we know what data we have, we can figure out how to load it into memory."
      ],
      "metadata": {
        "id": "kMiIRlhdE1NB"
      }
    },
    {
      "cell_type": "markdown",
      "source": [
        "## Load Data"
      ],
      "metadata": {
        "id": "VujGjbsLGmz3"
      }
    },
    {
      "cell_type": "markdown",
      "source": [
        "In this section, we will develop some code to load the dataset into memory.\n",
        "\n",
        "First, we need to load a single file.\n",
        "\n",
        "We can use the read_csv() Pandas function to load a single data file and specify that the file has no header and to separate columns using white space.\n",
        "\n",
        "```dataframe = read_csv(filepath, header=None, delim_whitespace=True)```\n",
        "\n",
        "We can wrap this in a function named load_file(). The complete example of this function is listed below.\n",
        "\n"
      ],
      "metadata": {
        "id": "XtzOKZGSGn_C"
      }
    },
    {
      "cell_type": "code",
      "source": [
        "# Mount Drive\n",
        "from google.colab import drive\n",
        "drive.mount('/content/gdrive', force_remount=True)"
      ],
      "metadata": {
        "colab": {
          "base_uri": "https://localhost:8080/"
        },
        "id": "pUsBP4uOG6K_",
        "outputId": "d8b25f8f-0b88-4ef0-932b-0e11bbe37a83"
      },
      "execution_count": 9,
      "outputs": [
        {
          "output_type": "stream",
          "name": "stdout",
          "text": [
            "Mounted at /content/gdrive\n"
          ]
        }
      ]
    },
    {
      "cell_type": "code",
      "source": [
        "# load dataset\n",
        "from pandas import read_csv\n",
        "\n",
        "# load a single file as a numpy array\n",
        "def load_file(filepath):\n",
        "\tdataframe = read_csv(filepath, header=None, delim_whitespace=True)\n",
        "\treturn dataframe.values\n",
        "\n",
        "data = load_file('/content/gdrive/My Drive/input_examples/UCI_HAR_Dataset/train/Inertial Signals/total_acc_y_train.txt')\n",
        "print(data.shape)"
      ],
      "metadata": {
        "colab": {
          "base_uri": "https://localhost:8080/"
        },
        "id": "tL2XsotjHFnv",
        "outputId": "4280ca1c-6069-461a-9cf6-4747b061ce92"
      },
      "execution_count": 11,
      "outputs": [
        {
          "output_type": "stream",
          "name": "stdout",
          "text": [
            "(7352, 128)\n"
          ]
        }
      ]
    },
    {
      "cell_type": "markdown",
      "source": [
        "Running the example loads the file ‘total_acc_y_train.txt‘, returns a NumPy array, and prints the shape of the array.\n",
        "\n",
        "We can see that the training data is comprised of 7,352 rows or windows of data, where each window has 128 observations.\n",
        "\n",
        "Next, it would be useful to load a group of files, such as all of the body acceleration data files as a single group.\n",
        "\n",
        "Ideally, when working with multivariate time series data, it is useful to have the data structured in the format:\n",
        "\n",
        "```[samples, timesteps, features]```\n",
        "\n",
        "This is helpful for analysis and is the expectation of deep learning models such as convolutional neural networks and recurrent neural networks.\n",
        "\n",
        "We can achieve this by calling the above load_file() function multiple times, once for each file in a group.\n",
        "\n",
        "Once we have loaded each file as a NumPy array, we can combine or stack all three arrays together. We can use the dstack() NumPy function to ensure that each array is stacked in such a way that the features are separated in the third dimension, as we would prefer.\n",
        "\n",
        "The function load_group() implements this behavior for a list of file names and is listed below.\n",
        "\n"
      ],
      "metadata": {
        "id": "ro4Go9JhHdej"
      }
    },
    {
      "cell_type": "code",
      "source": [
        "# load a list of files, such as x, y, z data for a given variable\n",
        "def load_group(filenames, prefix=''):\n",
        "\tloaded = list()\n",
        "\tfor name in filenames:\n",
        "\t\tdata = load_file(prefix + name)\n",
        "\t\tloaded.append(data)\n",
        "\t# stack group so that features are the 3rd dimension\n",
        "\tloaded = dstack(loaded)\n",
        "\treturn loaded"
      ],
      "metadata": {
        "id": "aQHemODxHyrO"
      },
      "execution_count": 12,
      "outputs": []
    },
    {
      "cell_type": "markdown",
      "source": [
        "We can demonstrate this function by loading all of the total acceleration files.\n",
        "\n",
        "The complete example is listed below."
      ],
      "metadata": {
        "id": "QMt4EzAZH6A7"
      }
    },
    {
      "cell_type": "code",
      "source": [
        "# load dataset\n",
        "from numpy import dstack\n",
        "from pandas import read_csv\n",
        "\n",
        "# load a single file as a numpy array\n",
        "def load_file(filepath):\n",
        "\tdataframe = read_csv(filepath, header=None, delim_whitespace=True)\n",
        "\treturn dataframe.values\n",
        "\n",
        "# load a list of files, such as x, y, z data for a given variable\n",
        "def load_group(filenames, prefix=''):\n",
        "\tloaded = list()\n",
        "\tfor name in filenames:\n",
        "\t\tdata = load_file(prefix + name)\n",
        "\t\tloaded.append(data)\n",
        "\t# stack group so that features are the 3rd dimension\n",
        "\tloaded = dstack(loaded)\n",
        "\treturn loaded\n",
        "\n",
        "# load the total acc data\n",
        "filenames = ['total_acc_x_train.txt', 'total_acc_y_train.txt', 'total_acc_z_train.txt']\n",
        "total_acc = load_group(filenames, prefix='/content/gdrive/My Drive/input_examples/UCI_HAR_Dataset/train/Inertial Signals/')\n",
        "print(total_acc.shape)"
      ],
      "metadata": {
        "colab": {
          "base_uri": "https://localhost:8080/"
        },
        "id": "so4dwncTH6ii",
        "outputId": "bcef7655-72f3-4c67-b8c1-6e10107b6daf"
      },
      "execution_count": 13,
      "outputs": [
        {
          "output_type": "stream",
          "name": "stdout",
          "text": [
            "(7352, 128, 3)\n"
          ]
        }
      ]
    },
    {
      "cell_type": "markdown",
      "source": [
        "Running the example prints the shape of the returned NumPy array, showing the expected number of samples and time steps with the three features, x, y, and z for the dataset.\n",
        "\n",
        "Finally, we can use the two functions developed so far to load all data for the train and the test dataset.\n",
        "\n",
        "Given the parallel structure in the train and test folders, we can develop a new function that loads all input and output data for a given folder. The function can build a list of all 9 data files to load, load them as one NumPy array with 9 features, then load the data file containing the output class.\n",
        "\n",
        "The load_dataset() function below implements this behaviour. It can be called for either the “train” group or the “test” group, passed as a string argument."
      ],
      "metadata": {
        "id": "ojRKI9miI0y9"
      }
    },
    {
      "cell_type": "code",
      "source": [
        "# load a dataset group, such as train or test\n",
        "def load_dataset(group, prefix=''):\n",
        "\tfilepath = prefix + group + '/Inertial Signals/'\n",
        "\t# load all 9 files as a single array\n",
        "\tfilenames = list()\n",
        "\t# total acceleration\n",
        "\tfilenames += ['total_acc_x_'+group+'.txt', 'total_acc_y_'+group+'.txt', 'total_acc_z_'+group+'.txt']\n",
        "\t# body acceleration\n",
        "\tfilenames += ['body_acc_x_'+group+'.txt', 'body_acc_y_'+group+'.txt', 'body_acc_z_'+group+'.txt']\n",
        "\t# body gyroscope\n",
        "\tfilenames += ['body_gyro_x_'+group+'.txt', 'body_gyro_y_'+group+'.txt', 'body_gyro_z_'+group+'.txt']\n",
        "\t# load input data\n",
        "\tX = load_group(filenames, filepath)\n",
        "\t# load class output\n",
        "\ty = load_file(prefix + group + '/y_'+group+'.txt')\n",
        "\treturn X, y"
      ],
      "metadata": {
        "id": "sZI7QXjiI41d"
      },
      "execution_count": 14,
      "outputs": []
    },
    {
      "cell_type": "markdown",
      "source": [
        "The complete example is listed below."
      ],
      "metadata": {
        "id": "PKNGzhr8I_-J"
      }
    },
    {
      "cell_type": "code",
      "source": [
        "# load dataset\n",
        "from numpy import dstack\n",
        "from pandas import read_csv\n",
        "\n",
        "# load a single file as a numpy array\n",
        "def load_file(filepath):\n",
        "\tdataframe = read_csv(filepath, header=None, delim_whitespace=True)\n",
        "\treturn dataframe.values\n",
        "\n",
        "# load a list of files, such as x, y, z data for a given variable\n",
        "def load_group(filenames, prefix=''):\n",
        "\tloaded = list()\n",
        "\tfor name in filenames:\n",
        "\t\tdata = load_file(prefix + name)\n",
        "\t\tloaded.append(data)\n",
        "\t# stack group so that features are the 3rd dimension\n",
        "\tloaded = dstack(loaded)\n",
        "\treturn loaded\n",
        "\n",
        "# load a dataset group, such as train or test\n",
        "def load_dataset(group, prefix=''):\n",
        "\tfilepath = prefix + group + '/Inertial Signals/'\n",
        "\t# load all 9 files as a single array\n",
        "\tfilenames = list()\n",
        "\t# total acceleration\n",
        "\tfilenames += ['total_acc_x_'+group+'.txt', 'total_acc_y_'+group+'.txt', 'total_acc_z_'+group+'.txt']\n",
        "\t# body acceleration\n",
        "\tfilenames += ['body_acc_x_'+group+'.txt', 'body_acc_y_'+group+'.txt', 'body_acc_z_'+group+'.txt']\n",
        "\t# body gyroscope\n",
        "\tfilenames += ['body_gyro_x_'+group+'.txt', 'body_gyro_y_'+group+'.txt', 'body_gyro_z_'+group+'.txt']\n",
        "\t# load input data\n",
        "\tX = load_group(filenames, filepath)\n",
        "\t# load class output\n",
        "\ty = load_file(prefix + group + '/y_'+group+'.txt')\n",
        "\treturn X, y\n",
        "\n",
        "# load all train\n",
        "trainX, trainy = load_dataset('train', '/content/gdrive/My Drive/input_examples/UCI_HAR_Dataset/')\n",
        "print(trainX.shape, trainy.shape)\n",
        "# load all test\n",
        "testX, testy = load_dataset('test', '/content/gdrive/My Drive/input_examples/UCI_HAR_Dataset/')\n",
        "print(testX.shape, testy.shape)"
      ],
      "metadata": {
        "colab": {
          "base_uri": "https://localhost:8080/"
        },
        "id": "kTgJj5ATJCwu",
        "outputId": "a2cf86fd-7ec3-4d1e-842b-47ef000d6328"
      },
      "execution_count": 15,
      "outputs": [
        {
          "output_type": "stream",
          "name": "stdout",
          "text": [
            "(7352, 128, 9) (7352, 1)\n",
            "(2947, 128, 9) (2947, 1)\n"
          ]
        }
      ]
    },
    {
      "cell_type": "markdown",
      "source": [
        "Running the example loads the train and test datasets.\n",
        "\n",
        "We can see that the test dataset has 2,947 rows of window data. As expected, we can see that the size of windows in the train and test sets matches and the size of the output (y) in each the train and test case matches the number of samples.\n",
        "\n",
        "Now that we know how to load the data, we can start to explore it."
      ],
      "metadata": {
        "id": "6zpGTWXmJc6-"
      }
    },
    {
      "cell_type": "markdown",
      "source": [
        "## Balance of Activity Classes"
      ],
      "metadata": {
        "id": "huY5S6YsJgOd"
      }
    },
    {
      "cell_type": "markdown",
      "source": [
        "A good first check of the data is to investigate the balance of each activity.\n",
        "\n",
        "We believe that each of the 30 subjects performed each of the six activities.\n",
        "\n",
        "Confirming this expectation will both check that the data is indeed balanced, making it easier to model, and confirm that we are correctly loading and interpreting the dataset.\n",
        "\n",
        "We can develop a function that summarizes the breakdown of the output variables, e.g. the y variable.\n",
        "\n",
        "The function class_breakdown() below implements this behavior, first wrapping the provided NumPy array in a DataFrame, grouping the rows by the class value, and calculating the size of each group (number of rows). The results are then summarized, including the count and the percentage."
      ],
      "metadata": {
        "id": "2RBIEaUIJyPz"
      }
    },
    {
      "cell_type": "code",
      "source": [
        "# summarize the balance of classes in an output variable column\n",
        "def class_breakdown(data):\n",
        "\t# convert the numpy array into a dataframe\n",
        "\tdf = DataFrame(data)\n",
        "\t# group data by the class value and calculate the number of rows\n",
        "\tcounts = df.groupby(0).size()\n",
        "\t# retrieve raw rows\n",
        "\tcounts = counts.values\n",
        "\t# summarize\n",
        "\tfor i in range(len(counts)):\n",
        "\t\tpercent = counts[i] / len(df) * 100\n",
        "\t\tprint('Class=%d, total=%d, percentage=%.3f' % (i+1, counts[i], percent))"
      ],
      "metadata": {
        "id": "ftcFZFJPJzJA"
      },
      "execution_count": 16,
      "outputs": []
    },
    {
      "cell_type": "markdown",
      "source": [
        "It may be useful to summarize the breakdown of the classes in the train and test datasets to ensure they have a similar breakdown, then compare the result to the breakdown on the combined dataset.\n",
        "\n",
        "The complete example is listed below."
      ],
      "metadata": {
        "id": "6bMrDAeTJ5s-"
      }
    },
    {
      "cell_type": "code",
      "source": [
        "# summarize class balance\n",
        "from numpy import array\n",
        "from numpy import vstack\n",
        "from pandas import read_csv\n",
        "from pandas import DataFrame\n",
        "\n",
        "# load a single file as a numpy array\n",
        "def load_file(filepath):\n",
        "\tdataframe = read_csv(filepath, header=None, delim_whitespace=True)\n",
        "\treturn dataframe.values\n",
        "\n",
        "# summarize the balance of classes in an output variable column\n",
        "def class_breakdown(data):\n",
        "\t# convert the numpy array into a dataframe\n",
        "\tdf = DataFrame(data)\n",
        "\t# group data by the class value and calculate the number of rows\n",
        "\tcounts = df.groupby(0).size()\n",
        "\t# retrieve raw rows\n",
        "\tcounts = counts.values\n",
        "\t# summarize\n",
        "\tfor i in range(len(counts)):\n",
        "\t\tpercent = counts[i] / len(df) * 100\n",
        "\t\tprint('Class=%d, total=%d, percentage=%.3f' % (i+1, counts[i], percent))\n",
        "\n",
        "# load train file\n",
        "trainy = load_file('/content/gdrive/My Drive/input_examples/UCI_HAR_Dataset/train/y_train.txt')\n",
        "# summarize class breakdown\n",
        "print('Train Dataset')\n",
        "class_breakdown(trainy)\n",
        "\n",
        "# load test file\n",
        "testy = load_file('/content/gdrive/My Drive/input_examples/UCI_HAR_Dataset/test/y_test.txt')\n",
        "# summarize class breakdown\n",
        "print('Test Dataset')\n",
        "class_breakdown(testy)\n",
        "\n",
        "# summarize combined class breakdown\n",
        "print('Both')\n",
        "combined = vstack((trainy, testy))\n",
        "class_breakdown(combined)"
      ],
      "metadata": {
        "colab": {
          "base_uri": "https://localhost:8080/"
        },
        "id": "VJaj_aivJ8ss",
        "outputId": "f8d4729b-47ff-4dc0-d7cf-6e86dfb1749c"
      },
      "execution_count": 17,
      "outputs": [
        {
          "output_type": "stream",
          "name": "stdout",
          "text": [
            "Train Dataset\n",
            "Class=1, total=1226, percentage=16.676\n",
            "Class=2, total=1073, percentage=14.595\n",
            "Class=3, total=986, percentage=13.411\n",
            "Class=4, total=1286, percentage=17.492\n",
            "Class=5, total=1374, percentage=18.689\n",
            "Class=6, total=1407, percentage=19.138\n",
            "Test Dataset\n",
            "Class=1, total=496, percentage=16.831\n",
            "Class=2, total=471, percentage=15.982\n",
            "Class=3, total=420, percentage=14.252\n",
            "Class=4, total=491, percentage=16.661\n",
            "Class=5, total=532, percentage=18.052\n",
            "Class=6, total=537, percentage=18.222\n",
            "Both\n",
            "Class=1, total=1722, percentage=16.720\n",
            "Class=2, total=1544, percentage=14.992\n",
            "Class=3, total=1406, percentage=13.652\n",
            "Class=4, total=1777, percentage=17.254\n",
            "Class=5, total=1906, percentage=18.507\n",
            "Class=6, total=1944, percentage=18.876\n"
          ]
        }
      ]
    },
    {
      "cell_type": "markdown",
      "source": [
        "Running the example first summarizes the breakdown for the training set. We can see a pretty similar distribution of each class hovering between 13% and 19% of the dataset.\n",
        "\n",
        "The result on the test set and on both datasets together look very similar.\n",
        "\n",
        "It is likely safe to work with the dataset assuming the distribution of classes is balanced per train and test set and perhaps per subject."
      ],
      "metadata": {
        "id": "_iuf-8o_KRWq"
      }
    },
    {
      "cell_type": "markdown",
      "source": [
        "## Plot Time Series Data for One Subject"
      ],
      "metadata": {
        "id": "oDVNVyPHKUE-"
      }
    },
    {
      "cell_type": "markdown",
      "source": [
        "We are working with time series data, therefore an import check is to create a line plot of the raw data.\n",
        "\n",
        "The raw data is comprised of windows of time series data per variable, and the windows do have a 50% overlap. This suggests we may see some repetition in the observations as a line plot unless the overlap is removed.\n",
        "\n",
        "We can start off by loading the training dataset using the functions developed above.\n",
        "\n",
        "```\n",
        "# load data\n",
        "trainX, trainy = load_dataset('train', 'HARDataset/')\n",
        "```\n",
        "Next, we can load the ‘subject_train.txt‘ in the ‘train‘ directory that provides a mapping of rows to the subject to which it belongs.\n",
        "\n",
        "We can load this file using the load_file() function. Once loaded, we can also use the unique() NumPy function to retrieve a list of the unique subjects in the training dataset.\n",
        "\n",
        "```\n",
        "sub_map = load_file('HARDataset/train/subject_train.txt')\n",
        "train_subjects = unique(sub_map)\n",
        "print(train_subjects)\n",
        "```\n",
        "\n",
        "Next, we need a way to retrieve all of the rows for a single subject, e.g. subject number 1.\n",
        "\n",
        "We can do this by finding all of the row numbers that belong to a given subject and use those row numbers to select the samples from the loaded X and y data from the training dataset.\n",
        "\n",
        "The data_for_subject() function below implements this behavior. It will take the loaded training data, the loaded mapping of row number to subjects, and the subject identification number for the subject that we are interested in, and will return the X and y data for only that subject.\n",
        "\n",
        "```\n",
        "# get all data for one subject\n",
        "def data_for_subject(X, y, sub_map, sub_id):\n",
        "\t# get row indexes for the subject id\n",
        "\tix = [i for i in range(len(sub_map)) if sub_map[i]==sub_id]\n",
        "\t# return the selected samples\n",
        "\treturn X[ix, :, :], y[ix]\n",
        "```\n",
        "\n",
        "Now that we have data for one subject, we can plot it.\n",
        "\n",
        "The data is comprised of windows with overlap. We can write a function to remove this overlap and squash the windows down for a given variable into one long sequence that can be plotted directly as a line plot.\n",
        "\n",
        "The to_series() function below implements this behavior for a given variable, e.g. array of windows.\n",
        "\n",
        "```\n",
        "# convert a series of windows to a 1D list\n",
        "def to_series(windows):\n",
        "\tseries = list()\n",
        "\tfor window in windows:\n",
        "\t\t# remove the overlap from the window\n",
        "\t\thalf = int(len(window) / 2) - 1\n",
        "\t\tfor value in window[-half:]:\n",
        "\t\t\tseries.append(value)\n",
        "\treturn series\n",
        "```\n",
        "\n",
        "Finally, we have enough to plot the data. We can plot each of the nine variables for the subject in turn and a final plot for the activity level.\n",
        "\n",
        "Each series will have the same number of time steps (length of x-axis), therefore, it may be useful to create a subplot for each variable and align all plots vertically so we can compare the movement on each variable.\n",
        "\n",
        "The plot_subject() function below implements this behavior for the X and y data for a single subject. The function assumes the same order of the variables (3rd axis) as was loaded in the load_dataset() function. A crude title is also added to each plot so we don’t get easily confused about what we are looking at.\n",
        "\n",
        "```\n",
        "# plot the data for one subject\n",
        "def plot_subject(X, y):\n",
        "\tpyplot.figure()\n",
        "\t# determine the total number of plots\n",
        "\tn, off = X.shape[2] + 1, 0\n",
        "\t# plot total acc\n",
        "\tfor i in range(3):\n",
        "\t\tpyplot.subplot(n, 1, off+1)\n",
        "\t\tpyplot.plot(to_series(X[:, :, off]))\n",
        "\t\tpyplot.title('total acc '+str(i), y=0, loc='left')\n",
        "\t\toff += 1\n",
        "\t# plot body acc\n",
        "\tfor i in range(3):\n",
        "\t\tpyplot.subplot(n, 1, off+1)\n",
        "\t\tpyplot.plot(to_series(X[:, :, off]))\n",
        "\t\tpyplot.title('body acc '+str(i), y=0, loc='left')\n",
        "\t\toff += 1\n",
        "\t# plot body gyro\n",
        "\tfor i in range(3):\n",
        "\t\tpyplot.subplot(n, 1, off+1)\n",
        "\t\tpyplot.plot(to_series(X[:, :, off]))\n",
        "\t\tpyplot.title('body gyro '+str(i), y=0, loc='left')\n",
        "\t\toff += 1\n",
        "\t# plot activities\n",
        "\tpyplot.subplot(n, 1, n)\n",
        "\tpyplot.plot(y)\n",
        "\tpyplot.title('activity', y=0, loc='left')\n",
        "\tpyplot.show()\n",
        "```\n",
        "\n",
        "The complete example is listed below.\n",
        "\n"
      ],
      "metadata": {
        "id": "lEqpQZI2KVfg"
      }
    },
    {
      "cell_type": "code",
      "source": [
        "# plot all vars for one subject\n",
        "from numpy import array\n",
        "from numpy import dstack\n",
        "from numpy import unique\n",
        "from pandas import read_csv\n",
        "from matplotlib import pyplot\n",
        "\n",
        "# load a single file as a numpy array\n",
        "def load_file(filepath):\n",
        "\tdataframe = read_csv(filepath, header=None, delim_whitespace=True)\n",
        "\treturn dataframe.values\n",
        "\n",
        "# load a list of files, such as x, y, z data for a given variable\n",
        "def load_group(filenames, prefix=''):\n",
        "\tloaded = list()\n",
        "\tfor name in filenames:\n",
        "\t\tdata = load_file(prefix + name)\n",
        "\t\tloaded.append(data)\n",
        "\t# stack group so that features are the 3rd dimension\n",
        "\tloaded = dstack(loaded)\n",
        "\treturn loaded\n",
        "\n",
        "# load a dataset group, such as train or test\n",
        "def load_dataset(group, prefix=''):\n",
        "\tfilepath = prefix + group + '/Inertial Signals/'\n",
        "\t# load all 9 files as a single array\n",
        "\tfilenames = list()\n",
        "\t# total acceleration\n",
        "\tfilenames += ['total_acc_x_'+group+'.txt', 'total_acc_y_'+group+'.txt', 'total_acc_z_'+group+'.txt']\n",
        "\t# body acceleration\n",
        "\tfilenames += ['body_acc_x_'+group+'.txt', 'body_acc_y_'+group+'.txt', 'body_acc_z_'+group+'.txt']\n",
        "\t# body gyroscope\n",
        "\tfilenames += ['body_gyro_x_'+group+'.txt', 'body_gyro_y_'+group+'.txt', 'body_gyro_z_'+group+'.txt']\n",
        "\t# load input data\n",
        "\tX = load_group(filenames, filepath)\n",
        "\t# load class output\n",
        "\ty = load_file(prefix + group + '/y_'+group+'.txt')\n",
        "\treturn X, y\n",
        "\n",
        "# get all data for one subject\n",
        "def data_for_subject(X, y, sub_map, sub_id):\n",
        "\t# get row indexes for the subject id\n",
        "\tix = [i for i in range(len(sub_map)) if sub_map[i]==sub_id]\n",
        "\t# return the selected samples\n",
        "\treturn X[ix, :, :], y[ix]\n",
        "\n",
        "# convert a series of windows to a 1D list\n",
        "def to_series(windows):\n",
        "\tseries = list()\n",
        "\tfor window in windows:\n",
        "\t\t# remove the overlap from the window\n",
        "\t\thalf = int(len(window) / 2) - 1\n",
        "\t\tfor value in window[-half:]:\n",
        "\t\t\tseries.append(value)\n",
        "\treturn series\n",
        "\n",
        "# plot the data for one subject\n",
        "def plot_subject(X, y):\n",
        "\tpyplot.figure()\n",
        "\t# determine the total number of plots\n",
        "\tn, off = X.shape[2] + 1, 0\n",
        "\t# plot total acc\n",
        "\tfor i in range(3):\n",
        "\t\tpyplot.subplot(n, 1, off+1)\n",
        "\t\tpyplot.plot(to_series(X[:, :, off]))\n",
        "\t\tpyplot.title('total acc '+str(i), y=0, loc='left')\n",
        "\t\toff += 1\n",
        "\t# plot body acc\n",
        "\tfor i in range(3):\n",
        "\t\tpyplot.subplot(n, 1, off+1)\n",
        "\t\tpyplot.plot(to_series(X[:, :, off]))\n",
        "\t\tpyplot.title('body acc '+str(i), y=0, loc='left')\n",
        "\t\toff += 1\n",
        "\t# plot body gyro\n",
        "\tfor i in range(3):\n",
        "\t\tpyplot.subplot(n, 1, off+1)\n",
        "\t\tpyplot.plot(to_series(X[:, :, off]))\n",
        "\t\tpyplot.title('body gyro '+str(i), y=0, loc='left')\n",
        "\t\toff += 1\n",
        "\t# plot activities\n",
        "\tpyplot.subplot(n, 1, n)\n",
        "\tpyplot.plot(y)\n",
        "\tpyplot.title('activity', y=0, loc='left')\n",
        "\tpyplot.show()\n",
        "\n",
        "# load data\n",
        "trainX, trainy = load_dataset('train', '/content/gdrive/My Drive/input_examples/UCI_HAR_Dataset/')\n",
        "# load mapping of rows to subjects\n",
        "sub_map = load_file('/content/gdrive/My Drive/input_examples/UCI_HAR_Dataset/train/subject_train.txt')\n",
        "train_subjects = unique(sub_map)\n",
        "print(train_subjects)\n",
        "# get the data for one subject\n",
        "sub_id = train_subjects[0]\n",
        "subX, suby = data_for_subject(trainX, trainy, sub_map, sub_id)\n",
        "print(subX.shape, suby.shape)\n",
        "# plot data for subject\n",
        "plot_subject(subX, suby)"
      ],
      "metadata": {
        "colab": {
          "base_uri": "https://localhost:8080/",
          "height": 303
        },
        "id": "Z4Y0s8NDLQvF",
        "outputId": "ac9a0e23-17a4-4bb9-f88f-2fa5f790599d"
      },
      "execution_count": 18,
      "outputs": [
        {
          "output_type": "stream",
          "name": "stdout",
          "text": [
            "[ 1  3  5  6  7  8 11 14 15 16 17 19 21 22 23 25 26 27 28 29 30]\n",
            "(347, 128, 9) (347, 1)\n"
          ]
        },
        {
          "output_type": "display_data",
          "data": {
            "text/plain": [
              "<Figure size 432x288 with 10 Axes>"
            ],
            "image/png": "[encoded data removed]"
          },
          "metadata": {
            "needs_background": "light"
          }
        }
      ]
    },
    {
      "cell_type": "markdown",
      "source": [
        "Running the example prints the unique subjects in the training dataset, the sample of the data for the first subject, and creates one figure with 10 plots, one for each of the nine input variables and the output class.\n",
        "\n",
        "In the plot, we can see periods of large movement corresponding with activities 1, 2, and 3: the walking activities. We can also see much less activity (i.e. a relatively straight line) for higher numbered activities, 4, 5, and 6 (sitting, standing, and laying).\n",
        "\n",
        "This is good confirmation that we have correctly loaded interpreted the raw dataset.\n",
        "\n",
        "We can see that this subject has performed the same general sequence of activities twice, and some activities are performed more than two times. This suggests that for a given subject, we should not make assumptions about what activities may have been performed or their order.\n",
        "\n",
        "We can also see some relatively large movement for some stationary activities, such as laying. It is possible that these are outliers or related to activity transitions. It may be possible to smooth or remove these observations as outliers.\n",
        "\n",
        "Finally, we see a lot of commonality across the nine variables. It is very likely that only a subset of these traces are required to develop a predictive model.\n",
        "\n",
        "We can re-run the example for another subject by making one small change, e.g. choose the identifier of the second subject in the training dataset.\n",
        "\n",
        "```\n",
        "# get the data for one subject\n",
        "sub_id = train_subjects[1]\n",
        "```\n",
        "\n",
        "The plot for the second subject shows similar behavior with no surprises.\n",
        "\n",
        "The double sequence of activities does appear more regular than the first subject."
      ],
      "metadata": {
        "id": "_JBU2yryLy0h"
      }
    },
    {
      "cell_type": "code",
      "source": [
        "# plot all vars for one subject\n",
        "from numpy import array\n",
        "from numpy import dstack\n",
        "from numpy import unique\n",
        "from pandas import read_csv\n",
        "from matplotlib import pyplot\n",
        "\n",
        "# load a single file as a numpy array\n",
        "def load_file(filepath):\n",
        "\tdataframe = read_csv(filepath, header=None, delim_whitespace=True)\n",
        "\treturn dataframe.values\n",
        "\n",
        "# load a list of files, such as x, y, z data for a given variable\n",
        "def load_group(filenames, prefix=''):\n",
        "\tloaded = list()\n",
        "\tfor name in filenames:\n",
        "\t\tdata = load_file(prefix + name)\n",
        "\t\tloaded.append(data)\n",
        "\t# stack group so that features are the 3rd dimension\n",
        "\tloaded = dstack(loaded)\n",
        "\treturn loaded\n",
        "\n",
        "# load a dataset group, such as train or test\n",
        "def load_dataset(group, prefix=''):\n",
        "\tfilepath = prefix + group + '/Inertial Signals/'\n",
        "\t# load all 9 files as a single array\n",
        "\tfilenames = list()\n",
        "\t# total acceleration\n",
        "\tfilenames += ['total_acc_x_'+group+'.txt', 'total_acc_y_'+group+'.txt', 'total_acc_z_'+group+'.txt']\n",
        "\t# body acceleration\n",
        "\tfilenames += ['body_acc_x_'+group+'.txt', 'body_acc_y_'+group+'.txt', 'body_acc_z_'+group+'.txt']\n",
        "\t# body gyroscope\n",
        "\tfilenames += ['body_gyro_x_'+group+'.txt', 'body_gyro_y_'+group+'.txt', 'body_gyro_z_'+group+'.txt']\n",
        "\t# load input data\n",
        "\tX = load_group(filenames, filepath)\n",
        "\t# load class output\n",
        "\ty = load_file(prefix + group + '/y_'+group+'.txt')\n",
        "\treturn X, y\n",
        "\n",
        "# get all data for one subject\n",
        "def data_for_subject(X, y, sub_map, sub_id):\n",
        "\t# get row indexes for the subject id\n",
        "\tix = [i for i in range(len(sub_map)) if sub_map[i]==sub_id]\n",
        "\t# return the selected samples\n",
        "\treturn X[ix, :, :], y[ix]\n",
        "\n",
        "# convert a series of windows to a 1D list\n",
        "def to_series(windows):\n",
        "\tseries = list()\n",
        "\tfor window in windows:\n",
        "\t\t# remove the overlap from the window\n",
        "\t\thalf = int(len(window) / 2) - 1\n",
        "\t\tfor value in window[-half:]:\n",
        "\t\t\tseries.append(value)\n",
        "\treturn series\n",
        "\n",
        "# plot the data for one subject\n",
        "def plot_subject(X, y):\n",
        "\tpyplot.figure()\n",
        "\t# determine the total number of plots\n",
        "\tn, off = X.shape[2] + 1, 0\n",
        "\t# plot total acc\n",
        "\tfor i in range(3):\n",
        "\t\tpyplot.subplot(n, 1, off+1)\n",
        "\t\tpyplot.plot(to_series(X[:, :, off]))\n",
        "\t\tpyplot.title('total acc '+str(i), y=0, loc='left')\n",
        "\t\toff += 1\n",
        "\t# plot body acc\n",
        "\tfor i in range(3):\n",
        "\t\tpyplot.subplot(n, 1, off+1)\n",
        "\t\tpyplot.plot(to_series(X[:, :, off]))\n",
        "\t\tpyplot.title('body acc '+str(i), y=0, loc='left')\n",
        "\t\toff += 1\n",
        "\t# plot body gyro\n",
        "\tfor i in range(3):\n",
        "\t\tpyplot.subplot(n, 1, off+1)\n",
        "\t\tpyplot.plot(to_series(X[:, :, off]))\n",
        "\t\tpyplot.title('body gyro '+str(i), y=0, loc='left')\n",
        "\t\toff += 1\n",
        "\t# plot activities\n",
        "\tpyplot.subplot(n, 1, n)\n",
        "\tpyplot.plot(y)\n",
        "\tpyplot.title('activity', y=0, loc='left')\n",
        "\tpyplot.show()\n",
        "\n",
        "# load data\n",
        "trainX, trainy = load_dataset('train', '/content/gdrive/My Drive/input_examples/UCI_HAR_Dataset/')\n",
        "# load mapping of rows to subjects\n",
        "sub_map = load_file('/content/gdrive/My Drive/input_examples/UCI_HAR_Dataset/train/subject_train.txt')\n",
        "train_subjects = unique(sub_map)\n",
        "print(train_subjects)\n",
        "# get the data for one subject\n",
        "sub_id = train_subjects[1]\n",
        "subX, suby = data_for_subject(trainX, trainy, sub_map, sub_id)\n",
        "print(subX.shape, suby.shape)\n",
        "# plot data for subject\n",
        "plot_subject(subX, suby)"
      ],
      "metadata": {
        "colab": {
          "base_uri": "https://localhost:8080/",
          "height": 303
        },
        "id": "0I0SpKJDMCh8",
        "outputId": "401aa231-1ecf-430a-a14a-d38b1594c28f"
      },
      "execution_count": 20,
      "outputs": [
        {
          "output_type": "stream",
          "name": "stdout",
          "text": [
            "[ 1  3  5  6  7  8 11 14 15 16 17 19 21 22 23 25 26 27 28 29 30]\n",
            "(341, 128, 9) (341, 1)\n"
          ]
        },
        {
          "output_type": "display_data",
          "data": {
            "text/plain": [
              "<Figure size 432x288 with 10 Axes>"
            ],
            "image/png": "[encoded data removed]"
          },
          "metadata": {
            "needs_background": "light"
          }
        }
      ]
    },
    {
      "cell_type": "markdown",
      "source": [
        "## Plot Histograms Per Subject"
      ],
      "metadata": {
        "id": "WAVbY0sNMeid"
      }
    },
    {
      "cell_type": "markdown",
      "source": [
        "As the problem is framed, we are interested in using the movement data from some subjects to predict activities from the movement of other subjects.\n",
        "\n",
        "This suggests that there must be regularity in the movement data across subjects. We know that the data has been scaled between -1 and 1, presumably per subject, suggesting that the amplitude of the detected movements will be similar.\n",
        "\n",
        "We would also expect that the distribution of movement data would be similar across subjects, given that they performed the same actions.\n",
        "\n",
        "We can check for this by plotting and comparing the histograms of the movement data across subjects. A useful approach would be to create one plot per subject and plot all three axis of a given data (e.g. total acceleration), then repeat this for multiple subjects. The plots can be modified to use the same axis and aligned horizontally so that the distributions for each variable across subjects can be compared.\n",
        "\n",
        "The plot_subject_histograms() function below implements this behavior. The function takes the loaded dataset and mapping of rows to subjects as well as a maximum number of subjects to plot, fixed at 10 by default.\n",
        "\n",
        "A plot is created for each subject and the three variables for one data type are plotted as histograms with 100 bins, to help to make the distribution obvious. Each plot shares the same axis, which is fixed at the bounds of -1 and 1."
      ],
      "metadata": {
        "id": "ST--1f6BMgEi"
      }
    },
    {
      "cell_type": "code",
      "source": [
        "# plot histograms for multiple subjects\n",
        "def plot_subject_histograms(X, y, sub_map, n=10):\n",
        "\tpyplot.figure()\n",
        "\t# get unique subjects\n",
        "\tsubject_ids = unique(sub_map[:,0])\n",
        "\t# enumerate subjects\n",
        "\txaxis = None\n",
        "\tfor k in range(n):\n",
        "\t\tsub_id = subject_ids[k]\n",
        "\t\t# get data for one subject\n",
        "\t\tsubX, _ = data_for_subject(X, y, sub_map, sub_id)\n",
        "\t\t# total acc\n",
        "\t\tfor i in range(3):\n",
        "\t\t\tax = pyplot.subplot(n, 1, k+1, sharex=xaxis)\n",
        "\t\t\tax.set_xlim(-1,1)\n",
        "\t\t\tif k == 0:\n",
        "\t\t\t\txaxis = ax\n",
        "\t\t\tpyplot.hist(to_series(subX[:,:,i]), bins=100)\n",
        "\tpyplot.show()"
      ],
      "metadata": {
        "id": "foKE4je_MlJx"
      },
      "execution_count": 21,
      "outputs": []
    },
    {
      "cell_type": "markdown",
      "source": [
        "The complete example is listed below."
      ],
      "metadata": {
        "id": "25seX5UCMq9u"
      }
    },
    {
      "cell_type": "code",
      "source": [
        "# plot histograms for multiple subjects\n",
        "from numpy import array\n",
        "from numpy import unique\n",
        "from numpy import dstack\n",
        "from pandas import read_csv\n",
        "from matplotlib import pyplot\n",
        "\n",
        "# load a single file as a numpy array\n",
        "def load_file(filepath):\n",
        "\tdataframe = read_csv(filepath, header=None, delim_whitespace=True)\n",
        "\treturn dataframe.values\n",
        "\n",
        "# load a list of files, such as x, y, z data for a given variable\n",
        "def load_group(filenames, prefix=''):\n",
        "\tloaded = list()\n",
        "\tfor name in filenames:\n",
        "\t\tdata = load_file(prefix + name)\n",
        "\t\tloaded.append(data)\n",
        "\t# stack group so that features are the 3rd dimension\n",
        "\tloaded = dstack(loaded)\n",
        "\treturn loaded\n",
        "\n",
        "# load a dataset group, such as train or test\n",
        "def load_dataset(group, prefix=''):\n",
        "\tfilepath = prefix + group + '/Inertial Signals/'\n",
        "\t# load all 9 files as a single array\n",
        "\tfilenames = list()\n",
        "\t# total acceleration\n",
        "\tfilenames += ['total_acc_x_'+group+'.txt', 'total_acc_y_'+group+'.txt', 'total_acc_z_'+group+'.txt']\n",
        "\t# body acceleration\n",
        "\tfilenames += ['body_acc_x_'+group+'.txt', 'body_acc_y_'+group+'.txt', 'body_acc_z_'+group+'.txt']\n",
        "\t# body gyroscope\n",
        "\tfilenames += ['body_gyro_x_'+group+'.txt', 'body_gyro_y_'+group+'.txt', 'body_gyro_z_'+group+'.txt']\n",
        "\t# load input data\n",
        "\tX = load_group(filenames, filepath)\n",
        "\t# load class output\n",
        "\ty = load_file(prefix + group + '/y_'+group+'.txt')\n",
        "\treturn X, y\n",
        "\n",
        "# get all data for one subject\n",
        "def data_for_subject(X, y, sub_map, sub_id):\n",
        "\t# get row indexes for the subject id\n",
        "\tix = [i for i in range(len(sub_map)) if sub_map[i]==sub_id]\n",
        "\t# return the selected samples\n",
        "\treturn X[ix, :, :], y[ix]\n",
        "\n",
        "# convert a series of windows to a 1D list\n",
        "def to_series(windows):\n",
        "\tseries = list()\n",
        "\tfor window in windows:\n",
        "\t\t# remove the overlap from the window\n",
        "\t\thalf = int(len(window) / 2) - 1\n",
        "\t\tfor value in window[-half:]:\n",
        "\t\t\tseries.append(value)\n",
        "\treturn series\n",
        "\n",
        "# plot histograms for multiple subjects\n",
        "def plot_subject_histograms(X, y, sub_map, n=10):\n",
        "\tpyplot.figure()\n",
        "\t# get unique subjects\n",
        "\tsubject_ids = unique(sub_map[:,0])\n",
        "\t# enumerate subjects\n",
        "\txaxis = None\n",
        "\tfor k in range(n):\n",
        "\t\tsub_id = subject_ids[k]\n",
        "\t\t# get data for one subject\n",
        "\t\tsubX, _ = data_for_subject(X, y, sub_map, sub_id)\n",
        "\t\t# total acc\n",
        "\t\tfor i in range(3):\n",
        "\t\t\tax = pyplot.subplot(n, 1, k+1, sharex=xaxis)\n",
        "\t\t\tax.set_xlim(-1,1)\n",
        "\t\t\tif k == 0:\n",
        "\t\t\t\txaxis = ax\n",
        "\t\t\tpyplot.hist(to_series(subX[:,:,i]), bins=100)\n",
        "\tpyplot.show()\n",
        "\n",
        "# load training dataset\n",
        "X, y = load_dataset('train', '/content/gdrive/My Drive/input_examples/UCI_HAR_Dataset/')\n",
        "# load mapping of rows to subjects\n",
        "sub_map = load_file('/content/gdrive/My Drive/input_examples/UCI_HAR_Dataset/train/subject_train.txt')\n",
        "# plot histograms for subjects\n",
        "plot_subject_histograms(X, y, sub_map)"
      ],
      "metadata": {
        "colab": {
          "base_uri": "https://localhost:8080/",
          "height": 303
        },
        "id": "i9xaS7SCMrhV",
        "outputId": "8b363fae-c83a-4daa-fbb9-f38dcf0faaa9"
      },
      "execution_count": 22,
      "outputs": [
        {
          "output_type": "stream",
          "name": "stderr",
          "text": [
            "/usr/local/lib/python3.7/dist-packages/ipykernel_launcher.py:70: MatplotlibDeprecationWarning: Adding an axes using the same arguments as a previous axes currently reuses the earlier instance.  In a future version, a new instance will always be created and returned.  Meanwhile, this warning can be suppressed, and the future behavior ensured, by passing a unique label to each axes instance.\n"
          ]
        },
        {
          "output_type": "display_data",
          "data": {
            "text/plain": [
              "<Figure size 432x288 with 10 Axes>"
            ],
            "image/png": "[encoded data removed]"
          },
          "metadata": {
            "needs_background": "light"
          }
        }
      ]
    },
    {
      "cell_type": "markdown",
      "source": [
        "Running the example creates a single figure with 10 plots with histograms for the three axis of the total acceleration data.\n",
        "\n",
        "Each of the three axes on a given plot have a different color, specifically x, y, and z are blue, orange, and green respectively.\n",
        "\n",
        "We can see that the distribution for a given axis does appear Gaussian with large separate groups of data.\n",
        "\n",
        "We can see some of the distributions align (e.g. main groups in the middle around 0.0), suggesting there may be some continuity of the movement data across subjects, at least for this data."
      ],
      "metadata": {
        "id": "UXxC9NBOM_5-"
      }
    },
    {
      "cell_type": "markdown",
      "source": [
        "We can update the plot_subject_histograms() function to next plot the distributions of the body acceleration. The updated function is listed below."
      ],
      "metadata": {
        "id": "xzFE-WxGNE77"
      }
    },
    {
      "cell_type": "code",
      "source": [
        "# plot histograms for multiple subjects\n",
        "def plot_subject_histograms(X, y, sub_map, n=10):\n",
        "\tpyplot.figure()\n",
        "\t# get unique subjects\n",
        "\tsubject_ids = unique(sub_map[:,0])\n",
        "\t# enumerate subjects\n",
        "\txaxis = None\n",
        "\tfor k in range(n):\n",
        "\t\tsub_id = subject_ids[k]\n",
        "\t\t# get data for one subject\n",
        "\t\tsubX, _ = data_for_subject(X, y, sub_map, sub_id)\n",
        "\t\t# body acc\n",
        "\t\tfor i in range(3):\n",
        "\t\t\tax = pyplot.subplot(n, 1, k+1, sharex=xaxis)\n",
        "\t\t\tax.set_xlim(-1,1)\n",
        "\t\t\tif k == 0:\n",
        "\t\t\t\txaxis = ax\n",
        "\t\t\tpyplot.hist(to_series(subX[:,:,3+i]), bins=100)\n",
        "\tpyplot.show()\n",
        " \n",
        "plot_subject_histograms(X, y, sub_map, n=10)"
      ],
      "metadata": {
        "colab": {
          "base_uri": "https://localhost:8080/",
          "height": 320
        },
        "id": "k4lgh_NVNHsl",
        "outputId": "8371baca-5348-48bc-a884-2125e8d8c312"
      },
      "execution_count": 26,
      "outputs": [
        {
          "output_type": "stream",
          "name": "stderr",
          "text": [
            "/usr/local/lib/python3.7/dist-packages/ipykernel_launcher.py:14: MatplotlibDeprecationWarning: Adding an axes using the same arguments as a previous axes currently reuses the earlier instance.  In a future version, a new instance will always be created and returned.  Meanwhile, this warning can be suppressed, and the future behavior ensured, by passing a unique label to each axes instance.\n",
            "  \n"
          ]
        },
        {
          "output_type": "display_data",
          "data": {
            "text/plain": [
              "<Figure size 432x288 with 10 Axes>"
            ],
            "image/png": "[encoded data removed]"
          },
          "metadata": {
            "needs_background": "light"
          }
        }
      ]
    },
    {
      "cell_type": "markdown",
      "source": [
        "Running the updated example creates the same plot with very different results.\n",
        "\n",
        "Here we can see all data clustered around 0.0 across axis within a subject and across subjects. This suggests that perhaps the data was centered (zero mean). This strong consistency across subjects may aid in modeling, and may suggest that the differences across subjects in the total acceleration data may not be as helpful."
      ],
      "metadata": {
        "id": "KoPQLQeqNMY9"
      }
    },
    {
      "cell_type": "markdown",
      "source": [
        "Finally, we can generate one final plot for the gyroscopic data.\n",
        "\n",
        "The updated function is listed below."
      ],
      "metadata": {
        "id": "fmNcVUcgNP8R"
      }
    },
    {
      "cell_type": "code",
      "source": [
        "# plot histograms for multiple subjects\n",
        "def plot_subject_histograms(X, y, sub_map, n=10):\n",
        "\tpyplot.figure()\n",
        "\t# get unique subjects\n",
        "\tsubject_ids = unique(sub_map[:,0])\n",
        "\t# enumerate subjects\n",
        "\txaxis = None\n",
        "\tfor k in range(n):\n",
        "\t\tsub_id = subject_ids[k]\n",
        "\t\t# get data for one subject\n",
        "\t\tsubX, _ = data_for_subject(X, y, sub_map, sub_id)\n",
        "\t\t# body acc\n",
        "\t\tfor i in range(3):\n",
        "\t\t\tax = pyplot.subplot(n, 1, k+1, sharex=xaxis)\n",
        "\t\t\tax.set_xlim(-1,1)\n",
        "\t\t\tif k == 0:\n",
        "\t\t\t\txaxis = ax\n",
        "\t\t\tpyplot.hist(to_series(subX[:,:,6+i]), bins=100)\n",
        "\tpyplot.show()\n",
        " \n",
        "plot_subject_histograms(X, y, sub_map, n=10)"
      ],
      "metadata": {
        "colab": {
          "base_uri": "https://localhost:8080/",
          "height": 320
        },
        "id": "3djl4P5gNQaH",
        "outputId": "50097343-b459-4b29-b4a0-5d1c5ed1f431"
      },
      "execution_count": 29,
      "outputs": [
        {
          "output_type": "stream",
          "name": "stderr",
          "text": [
            "/usr/local/lib/python3.7/dist-packages/ipykernel_launcher.py:14: MatplotlibDeprecationWarning: Adding an axes using the same arguments as a previous axes currently reuses the earlier instance.  In a future version, a new instance will always be created and returned.  Meanwhile, this warning can be suppressed, and the future behavior ensured, by passing a unique label to each axes instance.\n",
            "  \n"
          ]
        },
        {
          "output_type": "display_data",
          "data": {
            "text/plain": [
              "<Figure size 432x288 with 10 Axes>"
            ],
            "image/png": "[encoded data removed]"
          },
          "metadata": {
            "needs_background": "light"
          }
        }
      ]
    },
    {
      "cell_type": "markdown",
      "source": [
        "Running the example shows very similar results to the body acceleration data.\n",
        "\n",
        "We see a high likelihood of a Gaussian distribution for each axis across each subject centered on 0.0. The distributions are a little wider and show fatter tails, but this is an encouraging finding for modeling movement data across subjects."
      ],
      "metadata": {
        "id": "dCH0UVSBNV8z"
      }
    },
    {
      "cell_type": "markdown",
      "source": [
        "## Plot Histograms Per Activity"
      ],
      "metadata": {
        "id": "0loRJj1KN_wL"
      }
    },
    {
      "cell_type": "markdown",
      "source": [
        "We are interested in discriminating between activities based on activity data.\n",
        "\n",
        "The simplest case for this would be to discriminate between activities for a single subject. One way to investigate this would be to review the distribution of movement data for a subject by activity. We would expect to see some difference in the distribution between the movement data for different activities by a single subject.\n",
        "\n",
        "We can review this by creating a histogram plot per activity, with the three axis of a given data type on each plot. Again, the plots can be arranged horizontally to compare the distribution of each data axis by activity. We would expect to see differences in the distributions across activities down the plots.\n",
        "\n",
        "First, we must group the traces for a subject by activity. The data_by_activity() function below implements this behaviour.\n",
        "\n",
        "```\n",
        "# group data by activity\n",
        "def data_by_activity(X, y, activities):\n",
        "\t# group windows by activity\n",
        "\treturn {a:X[y[:,0]==a, :, :] for a in activities}\n",
        "```\n",
        "\n",
        "We can now create plots per activity for a given subject.\n",
        "\n",
        "The plot_activity_histograms() function below implements this function for the traces data for a given subject.\n",
        "\n",
        "First, the data is grouped by activity, then one subplot is created for each activity and each axis of the data type is added as a histogram. The function only enumerates the first three features of the data, which are the total acceleration variables.\n",
        "\n",
        "```\n",
        "# plot histograms for each activity for a subject\n",
        "def plot_activity_histograms(X, y):\n",
        "\t# get a list of unique activities for the subject\n",
        "\tactivity_ids = unique(y[:,0])\n",
        "\t# group windows by activity\n",
        "\tgrouped = data_by_activity(X, y, activity_ids)\n",
        "\t# plot per activity, histograms for each axis\n",
        "\tpyplot.figure()\n",
        "\txaxis = None\n",
        "\tfor k in range(len(activity_ids)):\n",
        "\t\tact_id = activity_ids[k]\n",
        "\t\t# total acceleration\n",
        "\t\tfor i in range(3):\n",
        "\t\t\tax = pyplot.subplot(len(activity_ids), 1, k+1, sharex=xaxis)\n",
        "\t\t\tax.set_xlim(-1,1)\n",
        "\t\t\tif k == 0:\n",
        "\t\t\t\txaxis = ax\n",
        "\t\t\tpyplot.hist(to_series(grouped[act_id][:,:,i]), bins=100)\n",
        "\t\t\tpyplot.title('activity '+str(act_id), y=0, loc='left')\n",
        "\tpyplot.show()\n",
        "```\n",
        "The complete example is listed below."
      ],
      "metadata": {
        "id": "qTrM29KqOBJx"
      }
    },
    {
      "cell_type": "code",
      "source": [
        "# plot histograms per activity for a subject\n",
        "from numpy import array\n",
        "from numpy import dstack\n",
        "from numpy import unique\n",
        "from pandas import read_csv\n",
        "from matplotlib import pyplot\n",
        "\n",
        "# load a single file as a numpy array\n",
        "def load_file(filepath):\n",
        "\tdataframe = read_csv(filepath, header=None, delim_whitespace=True)\n",
        "\treturn dataframe.values\n",
        "\n",
        "# load a list of files, such as x, y, z data for a given variable\n",
        "def load_group(filenames, prefix=''):\n",
        "\tloaded = list()\n",
        "\tfor name in filenames:\n",
        "\t\tdata = load_file(prefix + name)\n",
        "\t\tloaded.append(data)\n",
        "\t# stack group so that features are the 3rd dimension\n",
        "\tloaded = dstack(loaded)\n",
        "\treturn loaded\n",
        "\n",
        "# load a dataset group, such as train or test\n",
        "def load_dataset(group, prefix=''):\n",
        "\tfilepath = prefix + group + '/Inertial Signals/'\n",
        "\t# load all 9 files as a single array\n",
        "\tfilenames = list()\n",
        "\t# total acceleration\n",
        "\tfilenames += ['total_acc_x_'+group+'.txt', 'total_acc_y_'+group+'.txt', 'total_acc_z_'+group+'.txt']\n",
        "\t# body acceleration\n",
        "\tfilenames += ['body_acc_x_'+group+'.txt', 'body_acc_y_'+group+'.txt', 'body_acc_z_'+group+'.txt']\n",
        "\t# body gyroscope\n",
        "\tfilenames += ['body_gyro_x_'+group+'.txt', 'body_gyro_y_'+group+'.txt', 'body_gyro_z_'+group+'.txt']\n",
        "\t# load input data\n",
        "\tX = load_group(filenames, filepath)\n",
        "\t# load class output\n",
        "\ty = load_file(prefix + group + '/y_'+group+'.txt')\n",
        "\treturn X, y\n",
        "\n",
        "# get all data for one subject\n",
        "def data_for_subject(X, y, sub_map, sub_id):\n",
        "\t# get row indexes for the subject id\n",
        "\tix = [i for i in range(len(sub_map)) if sub_map[i]==sub_id]\n",
        "\t# return the selected samples\n",
        "\treturn X[ix, :, :], y[ix]\n",
        "\n",
        "# convert a series of windows to a 1D list\n",
        "def to_series(windows):\n",
        "\tseries = list()\n",
        "\tfor window in windows:\n",
        "\t\t# remove the overlap from the window\n",
        "\t\thalf = int(len(window) / 2) - 1\n",
        "\t\tfor value in window[-half:]:\n",
        "\t\t\tseries.append(value)\n",
        "\treturn series\n",
        "\n",
        "# group data by activity\n",
        "def data_by_activity(X, y, activities):\n",
        "\t# group windows by activity\n",
        "\treturn {a:X[y[:,0]==a, :, :] for a in activities}\n",
        "\n",
        "# plot histograms for each activity for a subject\n",
        "def plot_activity_histograms(X, y):\n",
        "\t# get a list of unique activities for the subject\n",
        "\tactivity_ids = unique(y[:,0])\n",
        "\t# group windows by activity\n",
        "\tgrouped = data_by_activity(X, y, activity_ids)\n",
        "\t# plot per activity, histograms for each axis\n",
        "\tpyplot.figure()\n",
        "\txaxis = None\n",
        "\tfor k in range(len(activity_ids)):\n",
        "\t\tact_id = activity_ids[k]\n",
        "\t\t# total acceleration\n",
        "\t\tfor i in range(3):\n",
        "\t\t\tax = pyplot.subplot(len(activity_ids), 1, k+1, sharex=xaxis)\n",
        "\t\t\tax.set_xlim(-1,1)\n",
        "\t\t\tif k == 0:\n",
        "\t\t\t\txaxis = ax\n",
        "\t\t\tpyplot.hist(to_series(grouped[act_id][:,:,i]), bins=100)\n",
        "\t\t\tpyplot.title('activity '+str(act_id), y=0, loc='left')\n",
        "\tpyplot.show()\n",
        "\n",
        "# load data\n",
        "trainX, trainy = load_dataset('train', '/content/gdrive/My Drive/input_examples/UCI_HAR_Dataset/')\n",
        "# load mapping of rows to subjects\n",
        "sub_map = load_file('/content/gdrive/My Drive/input_examples/UCI_HAR_Dataset/train/subject_train.txt')\n",
        "train_subjects = unique(sub_map)\n",
        "# get the data for one subject\n",
        "sub_id = train_subjects[0]\n",
        "subX, suby = data_for_subject(trainX, trainy, sub_map, sub_id)\n",
        "# plot data for subject\n",
        "plot_activity_histograms(subX, suby)"
      ],
      "metadata": {
        "colab": {
          "base_uri": "https://localhost:8080/",
          "height": 303
        },
        "id": "PC2tsuRROQfx",
        "outputId": "b4e5bf8f-c9da-47b4-da25-4da227c354a4"
      },
      "execution_count": 30,
      "outputs": [
        {
          "output_type": "stream",
          "name": "stderr",
          "text": [
            "/usr/local/lib/python3.7/dist-packages/ipykernel_launcher.py:75: MatplotlibDeprecationWarning: Adding an axes using the same arguments as a previous axes currently reuses the earlier instance.  In a future version, a new instance will always be created and returned.  Meanwhile, this warning can be suppressed, and the future behavior ensured, by passing a unique label to each axes instance.\n"
          ]
        },
        {
          "output_type": "display_data",
          "data": {
            "text/plain": [
              "<Figure size 432x288 with 6 Axes>"
            ],
            "image/png": "[encoded data removed]"
          },
          "metadata": {
            "needs_background": "light"
          }
        }
      ]
    },
    {
      "cell_type": "markdown",
      "source": [
        "Running the example creates the plot with six subplots, one for each activity for the first subject in the train dataset. Each of the x, y, and z axes for the total acceleration data have a blue, orange, and green histogram respectively.\n",
        "\n",
        "We can see that each activity has a different data distribution, with a marked difference between the large movement (first three activities) with the stationary activities (last three activities). Data distributions for the first three activities look Gaussian with perhaps differing means and standard deviations. Distributions for the latter activities look multi-modal (i.e. multiple peaks).\n",
        "\n",
        "We can re-run the same example with an updated version of the plot_activity_histograms() that plots the body acceleration data instead.\n",
        "\n",
        "The updated function is listed below."
      ],
      "metadata": {
        "id": "6sFTcre8OipX"
      }
    },
    {
      "cell_type": "code",
      "source": [
        "# plot histograms for each activity for a subject\n",
        "def plot_activity_histograms(X, y):\n",
        "\t# get a list of unique activities for the subject\n",
        "\tactivity_ids = unique(y[:,0])\n",
        "\t# group windows by activity\n",
        "\tgrouped = data_by_activity(X, y, activity_ids)\n",
        "\t# plot per activity, histograms for each axis\n",
        "\tpyplot.figure()\n",
        "\txaxis = None\n",
        "\tfor k in range(len(activity_ids)):\n",
        "\t\tact_id = activity_ids[k]\n",
        "\t\t# total acceleration\n",
        "\t\tfor i in range(3):\n",
        "\t\t\tax = pyplot.subplot(len(activity_ids), 1, k+1, sharex=xaxis)\n",
        "\t\t\tax.set_xlim(-1,1)\n",
        "\t\t\tif k == 0:\n",
        "\t\t\t\txaxis = ax\n",
        "\t\t\tpyplot.hist(to_series(grouped[act_id][:,:,3+i]), bins=100)\n",
        "\t\t\tpyplot.title('activity '+str(act_id), y=0, loc='left')\n",
        "\tpyplot.show()\n",
        "plot_activity_histograms(X, y)"
      ],
      "metadata": {
        "colab": {
          "base_uri": "https://localhost:8080/",
          "height": 320
        },
        "id": "JCsSRVRkOnlb",
        "outputId": "739d99a2-6dc4-40bd-f4ed-29dd198e603c"
      },
      "execution_count": 31,
      "outputs": [
        {
          "output_type": "stream",
          "name": "stderr",
          "text": [
            "/usr/local/lib/python3.7/dist-packages/ipykernel_launcher.py:14: MatplotlibDeprecationWarning: Adding an axes using the same arguments as a previous axes currently reuses the earlier instance.  In a future version, a new instance will always be created and returned.  Meanwhile, this warning can be suppressed, and the future behavior ensured, by passing a unique label to each axes instance.\n",
            "  \n"
          ]
        },
        {
          "output_type": "display_data",
          "data": {
            "text/plain": [
              "<Figure size 432x288 with 6 Axes>"
            ],
            "image/png": "[encoded data removed]"
          },
          "metadata": {
            "needs_background": "light"
          }
        }
      ]
    },
    {
      "cell_type": "markdown",
      "source": [
        "Running the updated example creates a new plot.\n",
        "\n",
        "Here, we can see more similar distributions across the activities amongst the in-motion vs. stationary activities. The data looks bimodal in the case of the in-motion activities and perhaps Gaussian or exponential in the case of the stationary activities.\n",
        "\n",
        "The pattern we see with the total vs. body acceleration distributions by activity mirrors what we see with the same data types across subjects in the previous section. Perhaps the total acceleration data is the key to discriminating the activities.\n",
        "\n",
        "Finally, we can update the example one more time to plot the histograms per activity for the gyroscopic data.\n",
        "\n",
        "The updated function is listed below."
      ],
      "metadata": {
        "id": "AF6USB0wOvxj"
      }
    },
    {
      "cell_type": "code",
      "source": [
        "# plot histograms for each activity for a subject\n",
        "def plot_activity_histograms(X, y):\n",
        "\t# get a list of unique activities for the subject\n",
        "\tactivity_ids = unique(y[:,0])\n",
        "\t# group windows by activity\n",
        "\tgrouped = data_by_activity(X, y, activity_ids)\n",
        "\t# plot per activity, histograms for each axis\n",
        "\tpyplot.figure()\n",
        "\txaxis = None\n",
        "\tfor k in range(len(activity_ids)):\n",
        "\t\tact_id = activity_ids[k]\n",
        "\t\t# total acceleration\n",
        "\t\tfor i in range(3):\n",
        "\t\t\tax = pyplot.subplot(len(activity_ids), 1, k+1, sharex=xaxis)\n",
        "\t\t\tax.set_xlim(-1,1)\n",
        "\t\t\tif k == 0:\n",
        "\t\t\t\txaxis = ax\n",
        "\t\t\tpyplot.hist(to_series(grouped[act_id][:,:,6+i]), bins=100)\n",
        "\t\t\tpyplot.title('activity '+str(act_id), y=0, loc='left')\n",
        "\tpyplot.show()\n",
        "plot_activity_histograms(X, y)"
      ],
      "metadata": {
        "colab": {
          "base_uri": "https://localhost:8080/",
          "height": 320
        },
        "id": "bNt4GV1TO07r",
        "outputId": "5582e047-25e2-4384-d336-e72119a1f129"
      },
      "execution_count": 33,
      "outputs": [
        {
          "output_type": "stream",
          "name": "stderr",
          "text": [
            "/usr/local/lib/python3.7/dist-packages/ipykernel_launcher.py:14: MatplotlibDeprecationWarning: Adding an axes using the same arguments as a previous axes currently reuses the earlier instance.  In a future version, a new instance will always be created and returned.  Meanwhile, this warning can be suppressed, and the future behavior ensured, by passing a unique label to each axes instance.\n",
            "  \n"
          ]
        },
        {
          "output_type": "display_data",
          "data": {
            "text/plain": [
              "<Figure size 432x288 with 6 Axes>"
            ],
            "image/png": "[encoded data removed]"
          },
          "metadata": {
            "needs_background": "light"
          }
        }
      ]
    },
    {
      "cell_type": "markdown",
      "source": [
        "All of these plots were created for the first subject, and we would expect to see similar distributions and relationships for the movement data across activities for other subjects."
      ],
      "metadata": {
        "id": "wvzZQs4TRJ6Z"
      }
    },
    {
      "cell_type": "markdown",
      "source": [
        "## Plot Activity Duration Boxplots"
      ],
      "metadata": {
        "id": "lXd_g5WNRK7s"
      }
    },
    {
      "cell_type": "markdown",
      "source": [
        "A final area to consider is how long a subject spends on each activity.\n",
        "\n",
        "This is closely related to the balance of classes. If the activities (classes) are generally balanced within a dataset, then we expect the balance of activities for a given subject over the course of their trace would also be reasonably well balanced.\n",
        "\n",
        "We can confirm this by calculating how long (in samples or rows) each subject spends on each activity and look at the distribution of durations for each activity.\n",
        "\n",
        "A handy way to review this data is to summarize the distributions as boxplots showing the median (line), the middle 50% (box), the general extent of the data as the interquartile range (the whiskers), and outliers (as dots).\n",
        "\n",
        "The function plot_activity_durations_by_subject() below implements this behavior by first splitting the dataset by subject, then the subjects data by activity and counting the rows spent on each activity, before finally creating a boxplot per activity of the duration measurements."
      ],
      "metadata": {
        "id": "I_KueKjhRN_B"
      }
    },
    {
      "cell_type": "code",
      "source": [
        "# plot activity durations by subject\n",
        "def plot_activity_durations_by_subject(X, y, sub_map):\n",
        "\t# get unique subjects and activities\n",
        "\tsubject_ids = unique(sub_map[:,0])\n",
        "\tactivity_ids = unique(y[:,0])\n",
        "\t# enumerate subjects\n",
        "\tactivity_windows = {a:list() for a in activity_ids}\n",
        "\tfor sub_id in subject_ids:\n",
        "\t\t# get data for one subject\n",
        "\t\t_, subj_y = data_for_subject(X, y, sub_map, sub_id)\n",
        "\t\t# count windows by activity\n",
        "\t\tfor a in activity_ids:\n",
        "\t\t\tactivity_windows[a].append(len(subj_y[subj_y[:,0]==a]))\n",
        "\t# organize durations into a list of lists\n",
        "\tdurations = [activity_windows[a] for a in activity_ids]\n",
        "\tpyplot.boxplot(durations, labels=activity_ids)\n",
        "\tpyplot.show()"
      ],
      "metadata": {
        "id": "zMVfhRU3RVxs"
      },
      "execution_count": 34,
      "outputs": []
    },
    {
      "cell_type": "markdown",
      "source": [
        "The complete example is listed below."
      ],
      "metadata": {
        "id": "knxh8VGRRW6R"
      }
    },
    {
      "cell_type": "code",
      "source": [
        "# plot durations of each activity by subject\n",
        "from numpy import array\n",
        "from numpy import dstack\n",
        "from numpy import unique\n",
        "from pandas import read_csv\n",
        "from matplotlib import pyplot\n",
        "\n",
        "# load a single file as a numpy array\n",
        "def load_file(filepath):\n",
        "\tdataframe = read_csv(filepath, header=None, delim_whitespace=True)\n",
        "\treturn dataframe.values\n",
        "\n",
        "# load a list of files, such as x, y, z data for a given variable\n",
        "def load_group(filenames, prefix=''):\n",
        "\tloaded = list()\n",
        "\tfor name in filenames:\n",
        "\t\tdata = load_file(prefix + name)\n",
        "\t\tloaded.append(data)\n",
        "\t# stack group so that features are the 3rd dimension\n",
        "\tloaded = dstack(loaded)\n",
        "\treturn loaded\n",
        "\n",
        "# load a dataset group, such as train or test\n",
        "def load_dataset(group, prefix=''):\n",
        "\tfilepath = prefix + group + '/Inertial Signals/'\n",
        "\t# load all 9 files as a single array\n",
        "\tfilenames = list()\n",
        "\t# total acceleration\n",
        "\tfilenames += ['total_acc_x_'+group+'.txt', 'total_acc_y_'+group+'.txt', 'total_acc_z_'+group+'.txt']\n",
        "\t# body acceleration\n",
        "\tfilenames += ['body_acc_x_'+group+'.txt', 'body_acc_y_'+group+'.txt', 'body_acc_z_'+group+'.txt']\n",
        "\t# body gyroscope\n",
        "\tfilenames += ['body_gyro_x_'+group+'.txt', 'body_gyro_y_'+group+'.txt', 'body_gyro_z_'+group+'.txt']\n",
        "\t# load input data\n",
        "\tX = load_group(filenames, filepath)\n",
        "\t# load class output\n",
        "\ty = load_file(prefix + group + '/y_'+group+'.txt')\n",
        "\treturn X, y\n",
        "\n",
        "# get all data for one subject\n",
        "def data_for_subject(X, y, sub_map, sub_id):\n",
        "\t# get row indexes for the subject id\n",
        "\tix = [i for i in range(len(sub_map)) if sub_map[i]==sub_id]\n",
        "\t# return the selected samples\n",
        "\treturn X[ix, :, :], y[ix]\n",
        "\n",
        "# convert a series of windows to a 1D list\n",
        "def to_series(windows):\n",
        "\tseries = list()\n",
        "\tfor window in windows:\n",
        "\t\t# remove the overlap from the window\n",
        "\t\thalf = int(len(window) / 2) - 1\n",
        "\t\tfor value in window[-half:]:\n",
        "\t\t\tseries.append(value)\n",
        "\treturn series\n",
        "\n",
        "# group data by activity\n",
        "def data_by_activity(X, y, activities):\n",
        "\t# group windows by activity\n",
        "\treturn {a:X[y[:,0]==a, :, :] for a in activities}\n",
        "\n",
        "# plot activity durations by subject\n",
        "def plot_activity_durations_by_subject(X, y, sub_map):\n",
        "\t# get unique subjects and activities\n",
        "\tsubject_ids = unique(sub_map[:,0])\n",
        "\tactivity_ids = unique(y[:,0])\n",
        "\t# enumerate subjects\n",
        "\tactivity_windows = {a:list() for a in activity_ids}\n",
        "\tfor sub_id in subject_ids:\n",
        "\t\t# get data for one subject\n",
        "\t\t_, subj_y = data_for_subject(X, y, sub_map, sub_id)\n",
        "\t\t# count windows by activity\n",
        "\t\tfor a in activity_ids:\n",
        "\t\t\tactivity_windows[a].append(len(subj_y[subj_y[:,0]==a]))\n",
        "\t# organize durations into a list of lists\n",
        "\tdurations = [activity_windows[a] for a in activity_ids]\n",
        "\tpyplot.boxplot(durations, labels=activity_ids)\n",
        "\tpyplot.show()\n",
        "\n",
        "# load training dataset\n",
        "X, y = load_dataset('train', '/content/gdrive/My Drive/input_examples/UCI_HAR_Dataset/')\n",
        "# load mapping of rows to subjects\n",
        "sub_map = load_file('/content/gdrive/My Drive/input_examples/UCI_HAR_Dataset/train/subject_train.txt')\n",
        "# plot durations\n",
        "plot_activity_durations_by_subject(X, y, sub_map)"
      ],
      "metadata": {
        "colab": {
          "base_uri": "https://localhost:8080/",
          "height": 265
        },
        "id": "FAf1aDAlRaY2",
        "outputId": "2f42d3d3-f9a7-46fd-f4ab-5274868549b7"
      },
      "execution_count": 35,
      "outputs": [
        {
          "output_type": "display_data",
          "data": {
            "text/plain": [
              "<Figure size 432x288 with 1 Axes>"
            ],
            "image/png": "[encoded data removed]"
          },
          "metadata": {
            "needs_background": "light"
          }
        }
      ]
    },
    {
      "cell_type": "markdown",
      "source": [
        "Running the example creates six box plots, one for each activity.\n",
        "\n",
        "Each boxplot summarizes how long (in rows or the number of windows) subjects in the training dataset spent on each activity.\n",
        "\n",
        "We can see that the subjects spent more time on stationary activities (4, 5 and 6) and less time on the in motion activities (1, 2 and 3), with the distribution for 3 being the smallest, or where time was spent least.\n",
        "\n",
        "The spread across the activities is not large, suggesting little need to trim the longer duration activities or oversampling of the in-motion activities. Although, these approaches remain available if skill of a predictive model on the in-motion activities is generally worse."
      ],
      "metadata": {
        "id": "GVjpPOijSE8L"
      }
    },
    {
      "cell_type": "markdown",
      "source": [
        "We can create a similar boxplot for the training data with the following additional lines."
      ],
      "metadata": {
        "id": "0BA5SyroSLVq"
      }
    },
    {
      "cell_type": "code",
      "source": [
        "# load test dataset\n",
        "X, y = load_dataset('test', '/content/gdrive/My Drive/input_examples/UCI_HAR_Dataset/')\n",
        "# load mapping of rows to subjects\n",
        "sub_map = load_file('/content/gdrive/My Drive/input_examples/UCI_HAR_Dataset/test/subject_test.txt')\n",
        "# plot durations\n",
        "plot_activity_durations_by_subject(X, y, sub_map)"
      ],
      "metadata": {
        "colab": {
          "base_uri": "https://localhost:8080/",
          "height": 265
        },
        "id": "sP2e4BOsSOpO",
        "outputId": "7e2b91bb-f60e-480a-bd70-218d70a3a03c"
      },
      "execution_count": 36,
      "outputs": [
        {
          "output_type": "display_data",
          "data": {
            "text/plain": [
              "<Figure size 432x288 with 1 Axes>"
            ],
            "image/png": "[encoded data removed]"
          },
          "metadata": {
            "needs_background": "light"
          }
        }
      ]
    },
    {
      "cell_type": "markdown",
      "source": [
        "Running the updated example shows a similar relationship between activities.\n",
        "\n",
        "This is encouraging, suggesting that indeed the test and training dataset are reasonably representative of the whole dataset."
      ],
      "metadata": {
        "id": "qgT0DsaqSdSZ"
      }
    },
    {
      "cell_type": "markdown",
      "source": [
        "Now that we have explored the dataset, we can suggest some ideas for how it may be modeled."
      ],
      "metadata": {
        "id": "P44FWwuxSg_K"
      }
    },
    {
      "cell_type": "markdown",
      "source": [
        "## Approach to Modeling"
      ],
      "metadata": {
        "id": "_BKTQpwRSjqk"
      }
    },
    {
      "cell_type": "markdown",
      "source": [
        "In this section, we summarize some approaches to modeling the activity recognition dataset.\n",
        "\n",
        "These ideas are divided into the main themes of a project.\n",
        "\n"
      ],
      "metadata": {
        "id": "eYFugpDESmwQ"
      }
    },
    {
      "cell_type": "markdown",
      "source": [
        "### Problem Framing\n",
        "\n",
        "The first important consideration is the framing of the prediction problem.\n",
        "\n",
        "The framing of the problem as described in the original work is the prediction of activity for a new subject given their movement data, based on the movement data and activities of known subjects.\n",
        "\n",
        "We can summarize this as:\n",
        "\n",
        "* Predict activity given a window of movement data.\n",
        "\n",
        "This is a reasonable and useful framing of the problem.\n",
        "\n",
        "Some other possible ways to frame the provided data as a prediction problem include the following:\n",
        "\n",
        "* Predict activity given a time step of movement data.\n",
        "* Predict activity given multiple windows of movement data.\n",
        "* Predict the activity sequence given multiple windows of movement data.\n",
        "* Predict activity given a sequence of movement data for a pre-segmented activity.\n",
        "* Predict activity cessation or transition given a time step of movement data.\n",
        "* Predict a stationary or non-stationary activity given a window of movement data\n",
        "* Some of these framings may be too challenging or too easy.\n",
        "\n",
        "Nevertheless, these framings provide additional ways to explore and understand the dataset.\n",
        "\n"
      ],
      "metadata": {
        "id": "NKsujZSsSnaP"
      }
    },
    {
      "cell_type": "markdown",
      "source": [
        "### Data Preparation\n",
        "\n",
        "Some data preparation may be required prior to using the raw data to train a model.\n",
        "\n",
        "The data already appears to have been scaled to the range [-1,1].\n",
        "\n",
        "Some additional data transforms that could be performed prior to modeling include:\n",
        "\n",
        "* Normalization across subjects.\n",
        "* Standardization per subject.\n",
        "* Standardization across subjects.\n",
        "* Axis feature selection.\n",
        "* Data type feature selection.\n",
        "* Signal outlier detection and removal.\n",
        "* Removing windows of over-represented activities.\n",
        "* Oversampling windows of under-represented activities.\n",
        "* Downsampling signal data to 1/4, 1/2, 1, 2 or other fractions of a section.\n"
      ],
      "metadata": {
        "id": "w_WjLR29Tf9K"
      }
    },
    {
      "cell_type": "markdown",
      "source": [
        "### Predictive Modeling\n",
        "Generally, the problem is a time series multi-class classification problem.\n",
        "\n",
        "As we have seen, it may also be framed as a binary classification problem and a multi-step time series classification problem.\n",
        "\n",
        "The original paper explored the use of a classical machine learning algorithm on a version of the dataset where features were engineered from each window of data. Specifically, a modified support vector machine.\n",
        "\n",
        "The results of an SVM on the feature-engineered version of the dataset may provide a baseline in performance on the problem.\n",
        "\n",
        "Expanding from this point, the evaluation of multiple linear, non-linear, and ensemble machine learning algorithms on this version of the dataset may provide an improved benchmark.\n",
        "\n",
        "The focus of the problem may be on the un-engineered or raw version of the dataset.\n",
        "\n",
        "Here, a progression in model complexity may be explored in order to determine the most suitable model for the problem; some candidate models to explore include:\n",
        "\n",
        "* Common linear, nonlinear, and ensemble machine learning algorithms.\n",
        "* Multilayer Perceptron.\n",
        "* Convolutional neural networks, specifically 1D CNNs.\n",
        "* Recurrent neural networks, specifically LSTMs.\n",
        "* Hybrids of CNNs and LSTMS such as the CNN-LSTM and the ConvLSTM.\n"
      ],
      "metadata": {
        "id": "MliCgfggUpR_"
      }
    },
    {
      "cell_type": "markdown",
      "source": [
        "Model Evaluation\n",
        "The evaluation of the model in the original paper involved using a train/test split of the data by subject with a 70% and 30% ratio.\n",
        "\n",
        "Exploration of this pre-defined split of the data suggests that both sets are reasonably representative of the whole dataset.\n",
        "\n",
        "Another alternative methodology may be to use leave-one-out cross-validation, or LOOCV, per subject. In addition to giving the data for each subject the opportunity for being used as the withheld test set, the approach would provide a population of 30 scores that can be averaged and summarized, which may offer a more robust result.\n",
        "\n",
        "Model performance was presented using classification accuracy and a confusion matrix, both of which are suitable for the multi-class nature of the prediction problem.\n",
        "\n",
        "Specifically, the confusion matrix will aid in determining whether some classes are easier or more challenging to predict than others, such as those for stationary activities versus those activities that involve motion.\n",
        "\n"
      ],
      "metadata": {
        "id": "3EGFp80uU5U4"
      }
    }
  ]
}