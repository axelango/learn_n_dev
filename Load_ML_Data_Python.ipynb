{
  "nbformat": 4,
  "nbformat_minor": 0,
  "metadata": {
    "colab": {
      "name": "Load_ML_Data_Python.ipynb",
      "provenance": [],
      "collapsed_sections": [],
      "authorship_tag": "ABX9TyPOU7Bioaqm4TR1NsKtQDfC",
      "include_colab_link": true
    },
    "kernelspec": {
      "name": "python3",
      "display_name": "Python 3"
    },
    "language_info": {
      "name": "python"
    }
  },
  "cells": [
    {
      "cell_type": "markdown",
      "metadata": {
        "id": "view-in-github",
        "colab_type": "text"
      },
      "source": [
        "<a href=\"https://colab.research.google.com/github/jgamel/learn_n_dev/blob/python_data_prep_cleaning/Load_ML_Data_Python.ipynb\" target=\"_parent\"><img src=\"https://colab.research.google.com/assets/colab-badge.svg\" alt=\"Open In Colab\"/></a>"
      ]
    },
    {
      "cell_type": "markdown",
      "source": [
        "# How To Load Machine Learning Data in Python\n"
      ],
      "metadata": {
        "id": "_QhSrMwE3Xs7"
      }
    },
    {
      "cell_type": "markdown",
      "source": [
        "You must be able to load your data before you can start your machine learning project.\n",
        "\n",
        "The most common format for machine learning data is CSV files. There are a number of ways to load a CSV file in Python.\n",
        "\n",
        "In this post you will discover the different ways that you can use to load your machine learning data in Python."
      ],
      "metadata": {
        "id": "L5s2f95l3Zbc"
      }
    },
    {
      "cell_type": "markdown",
      "source": [
        "## Considerations When Loading CSV Data"
      ],
      "metadata": {
        "id": "KoXXZDzB3kSm"
      }
    },
    {
      "cell_type": "markdown",
      "source": [
        "There are a number of considerations when loading your machine learning data from CSV files.\n",
        "\n",
        "For reference, you can learn a lot about the expectations for CSV files by reviewing the CSV request for comment titled Common Format and MIME Type for Comma-Separated Values (CSV) Files."
      ],
      "metadata": {
        "id": "HgoLUXo-3l4k"
      }
    },
    {
      "cell_type": "markdown",
      "source": [
        "### CSV File Header\n",
        "\n",
        "Does your data have a file header?\n",
        "\n",
        "If so this can help in automatically assigning names to each column of data. If not, you may need to name your attributes manually.\n",
        "\n",
        "Either way, you should explicitly specify whether or not your CSV file had a file header when loading your data."
      ],
      "metadata": {
        "id": "6mTQQ7CV3piK"
      }
    },
    {
      "cell_type": "markdown",
      "source": [
        "### Comments\n",
        "\n",
        "Does your data have comments?\n",
        "\n",
        "Comments in a CSV file are indicated by a hash (“#”) at the start of a line.\n",
        "\n",
        "If you have comments in your file, depending on the method used to load your data, you may need to indicate whether or not to expect comments and the character to expect to signify a comment line."
      ],
      "metadata": {
        "id": "e0B3GARB4G9y"
      }
    },
    {
      "cell_type": "markdown",
      "source": [
        "### Delimiter\n",
        "\n",
        "The standard delimiter that separates values in fields is the comma (“,”) character.\n",
        "\n",
        "Your file could use a different delimiter like tab (“\\t”) in which case you must specify it explicitly."
      ],
      "metadata": {
        "id": "wtdB83vK4N23"
      }
    },
    {
      "cell_type": "markdown",
      "source": [
        "### Quotes\n",
        "\n",
        "Sometimes field values can have spaces. In these CSV files the values are often quoted.\n",
        "\n",
        "The default quote character is the double quotation marks “\\””. Other characters can be used, and you must specify the quote character used in your file."
      ],
      "metadata": {
        "id": "hHCP-uSP4SBJ"
      }
    },
    {
      "cell_type": "markdown",
      "source": [
        "## Machine Learning Data Loading Recipes"
      ],
      "metadata": {
        "id": "KqHqYdTj4ctl"
      }
    },
    {
      "cell_type": "markdown",
      "source": [
        "Each recipe is standalone.\n",
        "\n",
        "This means that you can copy and paste it into your project and use it immediately.\n",
        "\n",
        "If you have any questions about these recipes or suggested improvements, please leave a comment and I will do my best to answer."
      ],
      "metadata": {
        "id": "hpT9AYoP4hst"
      }
    },
    {
      "cell_type": "markdown",
      "source": [
        "### Load CSV with Python Standard Library\n",
        "\n",
        "The Python API provides the module CSV and the function reader() that can be used to load CSV files.\n",
        "\n",
        "Once loaded, you convert the CSV data to a NumPy array and use it for machine learning.\n",
        "\n",
        "For example, you can download the Pima Indians dataset into your local directory (download from here).\n",
        "\n",
        "All fields are numeric and there is no header line. Running the recipe below will load the CSV file and convert it to a NumPy array."
      ],
      "metadata": {
        "id": "P4o-TTXU4iSx"
      }
    },
    {
      "cell_type": "code",
      "source": [
        "# Mount Drive \n",
        "from google.colab import drive\n",
        "drive.mount('/content/gdrive', force_remount=True)"
      ],
      "metadata": {
        "colab": {
          "base_uri": "https://localhost:8080/"
        },
        "id": "UQnuftMQ4uku",
        "outputId": "7cf1d05a-9b8d-4e28-ae62-291e29b37c41"
      },
      "execution_count": 1,
      "outputs": [
        {
          "output_type": "stream",
          "name": "stdout",
          "text": [
            "Mounted at /content/gdrive\n"
          ]
        }
      ]
    },
    {
      "cell_type": "code",
      "source": [
        "# Load CSV (using python)\n",
        "import csv\n",
        "import numpy\n",
        "filename = '/content/gdrive/My Drive/input_examples/pima-indians-diabetes.data.csv'\n",
        "raw_data = open(filename, 'rt')\n",
        "reader = csv.reader(raw_data, delimiter=',', quoting=csv.QUOTE_NONE)\n",
        "x = list(reader)\n",
        "data = numpy.array(x).astype('float')\n",
        "print(data.shape)"
      ],
      "metadata": {
        "colab": {
          "base_uri": "https://localhost:8080/"
        },
        "id": "GlOxvUfJ4r0B",
        "outputId": "f4a51d06-53a8-4416-b37a-2a3ebaed3706"
      },
      "execution_count": 2,
      "outputs": [
        {
          "output_type": "stream",
          "name": "stdout",
          "text": [
            "(768, 9)\n"
          ]
        }
      ]
    },
    {
      "cell_type": "markdown",
      "source": [
        "### Load CSV File With NumPy\n",
        "You can load your CSV data using NumPy and the numpy.loadtxt() function.\n",
        "\n",
        "This function assumes no header row and all data has the same format. The example below assumes that the file pima-indians-diabetes.data.csv is in your current working directory."
      ],
      "metadata": {
        "id": "lr0qtrmW5HmW"
      }
    },
    {
      "cell_type": "code",
      "source": [
        "# Load CSV\n",
        "import numpy\n",
        "filename = '/content/gdrive/My Drive/input_examples/pima-indians-diabetes.data.csv'\n",
        "raw_data = open(filename, 'rt')\n",
        "data = numpy.loadtxt(raw_data, delimiter=\",\")\n",
        "print(data.shape)"
      ],
      "metadata": {
        "colab": {
          "base_uri": "https://localhost:8080/"
        },
        "id": "Qkgr9bkz5KKh",
        "outputId": "cdc3b50c-d442-405c-f89b-344ae5c60cf4"
      },
      "execution_count": 3,
      "outputs": [
        {
          "output_type": "stream",
          "name": "stdout",
          "text": [
            "(768, 9)\n"
          ]
        }
      ]
    },
    {
      "cell_type": "markdown",
      "source": [
        "This example can be modified to load the same dataset directly from a URL as follows:\n",
        "\n",
        "Note: This example assumes you are using Python 3."
      ],
      "metadata": {
        "id": "GWucs9Sa5XMC"
      }
    },
    {
      "cell_type": "code",
      "source": [
        "# Load CSV from URL using NumPy\n",
        "from numpy import loadtxt\n",
        "from urllib.request import urlopen\n",
        "url = 'https://raw.githubusercontent.com/jbrownlee/Datasets/master/pima-indians-diabetes.data.csv'\n",
        "raw_data = urlopen(url)\n",
        "dataset = loadtxt(raw_data, delimiter=\",\")\n",
        "print(dataset.shape)"
      ],
      "metadata": {
        "colab": {
          "base_uri": "https://localhost:8080/"
        },
        "id": "dXNizahs5Y30",
        "outputId": "71c765b8-4206-4ebd-a99b-5470ebd930a5"
      },
      "execution_count": 4,
      "outputs": [
        {
          "output_type": "stream",
          "name": "stdout",
          "text": [
            "(768, 9)\n"
          ]
        }
      ]
    },
    {
      "cell_type": "markdown",
      "source": [
        "### Load CSV File With Pandas\n",
        "You can load your CSV data using Pandas and the pandas.read_csv() function.\n",
        "\n",
        "This function is very flexible and is perhaps my recommended approach for loading your machine learning data. The function returns a pandas.DataFrame that you can immediately start summarizing and plotting.\n",
        "\n",
        "The example below assumes that the ‘pima-indians-diabetes.data.csv‘ file is in the current working directory."
      ],
      "metadata": {
        "id": "iSr0ACi95e6v"
      }
    },
    {
      "cell_type": "code",
      "source": [
        "# Load CSV using Pandas\n",
        "import pandas\n",
        "filename = '/content/gdrive/My Drive/input_examples/pima-indians-diabetes.data.csv'\n",
        "names = ['preg', 'plas', 'pres', 'skin', 'test', 'mass', 'pedi', 'age', 'class']\n",
        "data = pandas.read_csv(filename, names=names)\n",
        "print(data.shape)"
      ],
      "metadata": {
        "colab": {
          "base_uri": "https://localhost:8080/"
        },
        "id": "jqNHRWs65huD",
        "outputId": "dfdebcb7-1880-4585-f750-f08cbac688e4"
      },
      "execution_count": 5,
      "outputs": [
        {
          "output_type": "stream",
          "name": "stdout",
          "text": [
            "(768, 9)\n"
          ]
        }
      ]
    },
    {
      "cell_type": "markdown",
      "source": [
        "We can also modify this example to load CSV data directly from a URL."
      ],
      "metadata": {
        "id": "4mzwDMgT6caF"
      }
    },
    {
      "cell_type": "code",
      "source": [
        "# Load CSV using Pandas from URL\n",
        "import pandas\n",
        "url = \"https://raw.githubusercontent.com/jbrownlee/Datasets/master/pima-indians-diabetes.data.csv\"\n",
        "names = ['preg', 'plas', 'pres', 'skin', 'test', 'mass', 'pedi', 'age', 'class']\n",
        "data = pandas.read_csv(url, names=names)\n",
        "print(data.shape)"
      ],
      "metadata": {
        "colab": {
          "base_uri": "https://localhost:8080/"
        },
        "id": "SVJJHDw96dEG",
        "outputId": "983b7ccb-8595-4f13-e98b-f998d3605945"
      },
      "execution_count": 6,
      "outputs": [
        {
          "output_type": "stream",
          "name": "stdout",
          "text": [
            "(768, 9)\n"
          ]
        }
      ]
    }
  ]
}