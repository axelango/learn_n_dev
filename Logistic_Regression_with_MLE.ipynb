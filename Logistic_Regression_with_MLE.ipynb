{
  "nbformat": 4,
  "nbformat_minor": 0,
  "metadata": {
    "colab": {
      "name": "Logistic_Regression_with_MLE.ipynb",
      "provenance": [],
      "collapsed_sections": [],
      "authorship_tag": "ABX9TyPh7EfHu6m1S+ziTrvFDaNj",
      "include_colab_link": true
    },
    "kernelspec": {
      "name": "python3",
      "display_name": "Python 3"
    },
    "language_info": {
      "name": "python"
    }
  },
  "cells": [
    {
      "cell_type": "markdown",
      "metadata": {
        "id": "view-in-github",
        "colab_type": "text"
      },
      "source": [
        "<a href=\"https://colab.research.google.com/github/jgamel/learn_n_dev/blob/python_modeling_forecasting/Logistic_Regression_with_MLE.ipynb\" target=\"_parent\"><img src=\"https://colab.research.google.com/assets/colab-badge.svg\" alt=\"Open In Colab\"/></a>"
      ]
    },
    {
      "cell_type": "markdown",
      "source": [
        "# Logistic Regression With Maximum Likelihood Estimation"
      ],
      "metadata": {
        "id": "SkwuvE_7NSYL"
      }
    },
    {
      "cell_type": "markdown",
      "source": [
        "Logistic regression is a model for binary classification predictive modeling.\n",
        "\n",
        "The parameters of a logistic regression model can be estimated by the probabilistic framework called maximum likelihood estimation. Under this framework, a probability distribution for the target variable (class label) must be assumed and then a likelihood function defined that calculates the probability of observing the outcome given the input data and the model. This function can then be optimized to find the set of parameters that results in the largest sum likelihood over the training dataset.\n",
        "\n",
        "The maximum likelihood approach to fitting a logistic regression model both aids in better understanding the form of the logistic regression model and provides a template that can be used for fitting classification models more generally. This is particularly true as the negative of the log-likelihood function used in the procedure can be shown to be equivalent to cross-entropy loss function."
      ],
      "metadata": {
        "id": "HoA2dqVcNWlx"
      }
    },
    {
      "cell_type": "markdown",
      "source": [
        "In this example:\n",
        "\n",
        "* Logistic regression is a linear model for binary classification predictive modeling.\n",
        "* The linear part of the model predicts the log-odds of an example belonging to class 1, which is converted to a probability via the logistic function.\n",
        "* The parameters of the model can be estimated by maximizing a likelihood function that predicts the mean of a Bernoulli distribution for each example."
      ],
      "metadata": {
        "id": "xJD3hSOOPcOG"
      }
    },
    {
      "cell_type": "markdown",
      "source": [
        "### Logistic Regression"
      ],
      "metadata": {
        "id": "fbCY-7UqPmYG"
      }
    },
    {
      "cell_type": "markdown",
      "source": [
        "Logistic regression is a classical linear method for binary classification.\n",
        "\n",
        "Classification predictive modeling problems are those that require the prediction of a class label (e.g. ‘red‘, ‘green‘, ‘blue‘) for a given set of input variables. Binary classification refers to those classification problems that have two class labels, e.g. true/false or 0/1.\n",
        "\n",
        "Logistic regression has a lot in common with linear regression, although linear regression is a technique for predicting a numerical value, not for classification problems. Both techniques model the target variable with a line (or hyperplane, depending on the number of dimensions of input. Linear regression fits the line to the data, which can be used to predict a new quantity, whereas logistic regression fits a line to best separate the two classes.\n",
        "\n",
        "The input data is denoted as X with n examples and the output is denoted y with one output for each input. The prediction of the model for a given input is denoted as yhat.\n",
        "\n",
        "```yhat = model(X)```\n",
        "\n",
        "The model is defined in terms of parameters called coefficients (beta), where there is one coefficient per input and an additional coefficient that provides the intercept or bias.\n",
        "\n",
        "For example, a problem with inputs X with m variables x1, x2, …, xm will have coefficients beta1, beta2, …, betam, and beta0. A given input is predicted as the weighted sum of the inputs for the example and the coefficients.\n",
        "\n",
        "yhat = beta0 + beta1 * x1 + beta2 * x2 + … + betam * xm\n",
        "The model can also be described using linear algebra, with a vector for the coefficients (Beta) and a matrix for the input data (X) and a vector for the output (y).\n",
        "\n",
        "```y = X * Beta```\n",
        "\n",
        "So far, this is identical to linear regression and is insufficient as the output will be a real value instead of a class label.\n",
        "\n",
        "Instead, the model squashes the output of this weighted sum using a nonlinear function to ensure the outputs are a value between 0 and 1.\n",
        "\n",
        "The logistic function (also called the sigmoid) is used, which is defined as:\n",
        "\n",
        "```f(x) = 1 / (1 + exp(-x))```\n",
        "\n",
        "Where x is the input value to the function. In the case of logistic regression, x is replaced with the weighted sum.\n",
        "\n",
        "For example:\n",
        "\n",
        "```yhat = 1 / (1 + exp(-(X * Beta)))```\n",
        "\n",
        "The output is interpreted as a probability from a Binomial probability distribution function for the class labeled 1, if the two classes in the problem are labeled 0 and 1.\n",
        "\n",
        "The examples in the training dataset are drawn from a broader population and as such, this sample is known to be incomplete. Additionally, there is expected to be measurement error or statistical noise in the observations.\n",
        "\n",
        "The parameters of the model (beta) must be estimated from the sample of observations drawn from the domain.\n",
        "\n",
        "There are many ways to estimate the parameters. There are two frameworks that are the most common; they are:\n",
        "\n",
        "* Least Squares Optimization (iteratively reweighted least squares).\n",
        "* Maximum Likelihood Estimation.\n",
        "\n",
        "Both are optimization procedures that involve searching for different model parameters.\n",
        "\n",
        "Maximum Likelihood Estimation is a frequentist probabilistic framework that seeks a set of parameters for the model that maximizes a likelihood function. We will take a closer look at this second approach in the subsequent sections.\n"
      ],
      "metadata": {
        "id": "zMWxrUbpPoIY"
      }
    },
    {
      "cell_type": "markdown",
      "source": [
        "### Logistic Regression and Log-Odds"
      ],
      "metadata": {
        "id": "TenfrAYpQNL-"
      }
    },
    {
      "cell_type": "markdown",
      "source": [
        "Before we dive into how the parameters of the model are estimated from data, we need to understand what logistic regression is calculating exactly.\n",
        "\n",
        "This might be the most confusing part of logistic regression, so we will go over it slowly.\n",
        "\n",
        "The linear part of the model (the weighted sum of the inputs) calculates the log-odds of a successful event, specifically, the log-odds that a sample belongs to class 1.\n",
        "\n",
        "```log-odds = beta0 + beta1 * x1 + beta2 * x2 + … + betam * xm```\n",
        "\n",
        "In effect, the model estimates the log-odds for class 1 for the input variables at each level (all observed values).\n",
        "\n",
        "What are odds and log-odds?\n",
        "\n",
        "Odds may be familiar from the field of gambling. Odds are often stated as wins to losses (wins : losses), e.g. a one to ten chance or ratio of winning is stated as 1 : 10.\n",
        "\n",
        "Given the probability of success (p) predicted by the logistic regression model, we can convert it to odds of success as the probability of success divided by the probability of not success:\n",
        "\n",
        "```odds of success = p / (1 – p)```\n",
        "\n",
        "The logarithm of the odds is calculated, specifically log base-e or the natural logarithm. This quantity is referred to as the log-odds and may be referred to as the logit (logistic unit), a unit of measure.\n",
        "\n",
        "```log-odds = log(p / (1 – p)```\n",
        "\n",
        "Recall that this is what the linear part of the logistic regression is calculating:\n",
        "\n",
        "```log-odds = beta0 + beta1 * x1 + beta2 * x2 + … + betam * xm```\n",
        "\n",
        "The log-odds of success can be converted back into an odds of success by calculating the exponential of the log-odds.\n",
        "\n",
        "```odds = exp(log-odds)```\n",
        "\n",
        "Or\n",
        "\n",
        "```odds = exp(beta0 + beta1 * x1 + beta2 * x2 + … + betam * xm)```\n",
        "\n",
        "The odds of success can be converted back into a probability of success as follows:\n",
        "\n",
        "```p = odds / (odds + 1)```\n",
        "\n",
        "And this is close to the form of our logistic regression model, except we want to convert log-odds to odds as part of the calculation.\n",
        "\n",
        "We can do this and simplify the calculation as follows:\n",
        "\n",
        "```p = 1 / (1 + exp(-log-odds))```\n",
        "\n",
        "This shows how we go from log-odds to odds, to a probability of class 1 with the logistic regression model, and that this final functional form matches the logistic function, ensuring that the probability is between 0 and 1.\n",
        "\n",
        "We can make these calculations of converting between probability, odds and log-odds concrete with some small examples in Python.\n",
        "\n",
        "First, let’s define the probability of success at 80%, or 0.8, and convert it to odds then back to a probability again.\n",
        "\n",
        "The complete example is listed below."
      ],
      "metadata": {
        "id": "GYpQj_BiQPiW"
      }
    },
    {
      "cell_type": "code",
      "execution_count": 1,
      "metadata": {
        "colab": {
          "base_uri": "https://localhost:8080/"
        },
        "id": "xYKXHw5nLiRv",
        "outputId": "d6cb968d-de30-49e0-9a72-b9ffe0b2acee"
      },
      "outputs": [
        {
          "output_type": "stream",
          "name": "stdout",
          "text": [
            "Probability 0.8\n",
            "Odds 4.0\n",
            "Probability 0.8\n"
          ]
        }
      ],
      "source": [
        "# example of converting between probability and odds\n",
        "from math import log\n",
        "from math import exp\n",
        "# define our probability of success\n",
        "prob = 0.8\n",
        "print('Probability %.1f' % prob)\n",
        "# convert probability to odds\n",
        "odds = prob / (1 - prob)\n",
        "print('Odds %.1f' % odds)\n",
        "# convert back to probability\n",
        "prob = odds / (odds + 1)\n",
        "print('Probability %.1f' % prob)"
      ]
    },
    {
      "cell_type": "markdown",
      "source": [
        "Running the example shows that 0.8 is converted to the odds of success 4, and back to the correct probability again.\n",
        "\n",
        "```\n",
        "Probability 0.8\n",
        "Odds 4.0\n",
        "Probability 0.8\n",
        "```\n",
        "\n",
        "Let’s extend this example and convert the odds to log-odds and then convert the log-odds back into the original probability. This final conversion is effectively the form of the logistic regression model, or the logistic function.\n",
        "\n",
        "The complete example is listed below.\n",
        "\n"
      ],
      "metadata": {
        "id": "TYCGV22JRNKx"
      }
    },
    {
      "cell_type": "code",
      "source": [
        "# example of converting between probability and log-odds\n",
        "from math import log\n",
        "from math import exp\n",
        "# define our probability of success\n",
        "prob = 0.8\n",
        "print('Probability %.1f' % prob)\n",
        "# convert probability to odds\n",
        "odds = prob / (1 - prob)\n",
        "print('Odds %.1f' % odds)\n",
        "# convert odds to log-odds\n",
        "logodds = log(odds)\n",
        "print('Log-Odds %.1f' % logodds)\n",
        "# convert log-odds to a probability\n",
        "prob = 1 / (1 + exp(-logodds))\n",
        "print('Probability %.1f' % prob)"
      ],
      "metadata": {
        "colab": {
          "base_uri": "https://localhost:8080/"
        },
        "id": "0NnuWVdYRN-K",
        "outputId": "13df9dd6-5ad3-40ce-f860-301f860c24c3"
      },
      "execution_count": 2,
      "outputs": [
        {
          "output_type": "stream",
          "name": "stdout",
          "text": [
            "Probability 0.8\n",
            "Odds 4.0\n",
            "Log-Odds 1.4\n",
            "Probability 0.8\n"
          ]
        }
      ]
    },
    {
      "cell_type": "markdown",
      "source": [
        "Running the example, we can see that our odds are converted into the log odds of about 1.4 and then correctly converted back into the 0.8 probability of success.\n",
        "\n",
        "```\n",
        "Probability 0.8\n",
        "Odds 4.0\n",
        "Log-Odds 1.4\n",
        "Probability 0.8\n",
        "```\n",
        "\n",
        "Now that we have a handle on the probability calculated by logistic regression, let’s look at maximum likelihood estimation."
      ],
      "metadata": {
        "id": "LaihVa2URq9n"
      }
    },
    {
      "cell_type": "markdown",
      "source": [
        "### Maximum Likelihood Estimation"
      ],
      "metadata": {
        "id": "a100PvWEhMlv"
      }
    },
    {
      "cell_type": "markdown",
      "source": [
        "Maximum Likelihood Estimation, or MLE for short, is a probabilistic framework for estimating the parameters of a model.\n",
        "\n",
        "In Maximum Likelihood Estimation, we wish to maximize the conditional probability of observing the data (X) given a specific probability distribution and its parameters (theta), stated formally as:\n",
        "\n",
        "```P(X ; theta)```\n",
        "\n",
        "Where X is, in fact, the joint probability distribution of all observations from the problem domain from 1 to n.\n",
        "\n",
        "```P(x1, x2, x3, …, xn ; theta)```\n",
        "\n",
        "This resulting conditional probability is referred to as the likelihood of observing the data given the model parameters and written using the notation L() to denote the likelihood function. For example:\n",
        "\n",
        "```L(X ; theta)```\n",
        "\n",
        "The joint probability distribution can be restated as the multiplication of the conditional probability for observing each example given the distribution parameters. Multiplying many small probabilities together can be unstable; as such, it is common to restate this problem as the sum of the log conditional probability.\n",
        "\n",
        "```sum i to n log(P(xi ; theta))```\n",
        "\n",
        "Given the frequent use of log in the likelihood function, it is referred to as a log-likelihood function. It is common in optimization problems to prefer to minimize the cost function rather than to maximize it. Therefore, the negative of the log-likelihood function is used, referred to generally as a Negative Log-Likelihood (NLL) function.\n",
        "\n",
        "```minimize -sum i to n log(P(xi ; theta))```\n",
        "\n",
        "The Maximum Likelihood Estimation framework can be used as a basis for estimating the parameters of many different machine learning models for regression and classification predictive modeling. This includes the logistic regression model."
      ],
      "metadata": {
        "id": "dvd4TfXehOnW"
      }
    },
    {
      "cell_type": "markdown",
      "source": [
        "### Logistic Regression as Maximum Likelihood"
      ],
      "metadata": {
        "id": "7Z3N82i7j9T6"
      }
    },
    {
      "cell_type": "markdown",
      "source": [
        "We can frame the problem of fitting a machine learning model as the problem of probability density estimation.\n",
        "\n",
        "Specifically, the choice of model and model parameters is referred to as a modeling hypothesis h, and the problem involves finding h that best explains the data X. We can, therefore, find the modeling hypothesis that maximizes the likelihood function.\n",
        "\n",
        "```maximize sum i to n log(P(xi ; h))```\n",
        "\n",
        "Supervised learning can be framed as a conditional probability problem of predicting the probability of the output given the input:\n",
        "\n",
        "```P(y | X)```\n",
        "\n",
        "As such, we can define conditional maximum likelihood estimation for supervised machine learning as follows:\n",
        "\n",
        "```maximize sum i to n log(P(yi|xi ; h))```\n",
        "\n",
        "Now we can replace h with our logistic regression model.\n",
        "\n",
        "In order to use maximum likelihood, we need to assume a probability distribution. In the case of logistic regression, a Binomial probability distribution is assumed for the data sample, where each example is one outcome of a Bernoulli trial. The Bernoulli distribution has a single parameter: the probability of a successful outcome (p).\n",
        "\n",
        "```\n",
        "P(y=1) = p\n",
        "P(y=0) = 1 – p\n",
        "```\n",
        "\n",
        "The expected value (mean) of the Bernoulli distribution can be calculated as follows:\n",
        "\n",
        "```\n",
        "mean = P(y=1) * 1 + P(y=0) * 0\n",
        "Or, given p:\n",
        "mean = p * 1 + (1 – p) * 0\n",
        "```\n",
        "\n",
        "This calculation may seem redundant, but it provides the basis for the likelihood function for a specific input, where the probability is given by the model (yhat) and the actual label is given from the dataset.\n",
        "```\n",
        "likelihood = yhat * y + (1 – yhat) * (1 – y)\n",
        "```\n",
        "This function will always return a large probability when the model is close to the matching class value, and a small value when it is far away, for both y=0 and y=1 cases.\n",
        "\n",
        "We can demonstrate this with a small worked example for both outcomes and small and large probabilities predicted for each.\n",
        "\n",
        "The complete example is listed below."
      ],
      "metadata": {
        "id": "6WRIV3OUj-Ui"
      }
    },
    {
      "cell_type": "code",
      "source": [
        "# test of Bernoulli likelihood function\n",
        "\n",
        "# likelihood function for Bernoulli distribution\n",
        "def likelihood(y, yhat):\n",
        "\treturn yhat * y + (1 - yhat) * (1 - y)\n",
        "\n",
        "# test for y=1\n",
        "y, yhat = 1, 0.9\n",
        "print('y=%.1f, yhat=%.1f, likelihood: %.3f' % (y, yhat, likelihood(y, yhat)))\n",
        "y, yhat = 1, 0.1\n",
        "print('y=%.1f, yhat=%.1f, likelihood: %.3f' % (y, yhat, likelihood(y, yhat)))\n",
        "# test for y=0\n",
        "y, yhat = 0, 0.1\n",
        "print('y=%.1f, yhat=%.1f, likelihood: %.3f' % (y, yhat, likelihood(y, yhat)))\n",
        "y, yhat = 0, 0.9\n",
        "print('y=%.1f, yhat=%.1f, likelihood: %.3f' % (y, yhat, likelihood(y, yhat)))"
      ],
      "metadata": {
        "colab": {
          "base_uri": "https://localhost:8080/"
        },
        "id": "HDt6aP7Yle1X",
        "outputId": "099183ac-4951-4e9f-b593-1c9fd4625030"
      },
      "execution_count": 3,
      "outputs": [
        {
          "output_type": "stream",
          "name": "stdout",
          "text": [
            "y=1.0, yhat=0.9, likelihood: 0.900\n",
            "y=1.0, yhat=0.1, likelihood: 0.100\n",
            "y=0.0, yhat=0.1, likelihood: 0.900\n",
            "y=0.0, yhat=0.9, likelihood: 0.100\n"
          ]
        }
      ]
    },
    {
      "cell_type": "markdown",
      "source": [
        "Running the example prints the class labels (y) and predicted probabilities (yhat) for cases with close and far probabilities for each case.\n",
        "\n",
        "We can see that the likelihood function is consistent in returning a probability for how well the model achieves the desired outcome.\n",
        "\n",
        "We can update the likelihood function using the log to transform it into a log-likelihood function:\n",
        "\n",
        "```log-likelihood = log(yhat) * y + log(1 – yhat) * (1 – y)```\n",
        "\n",
        "Finally, we can sum the likelihood function across all examples in the dataset to maximize the likelihood:\n",
        "\n",
        "```maximize sum i to n log(yhat_i) * y_i + log(1 – yhat_i) * (1 – y_i)```\n",
        "\n",
        "It is common practice to minimize a cost function for optimization problems; therefore, we can invert the function so that we minimize the negative log-likelihood:\n",
        "\n",
        "```minimize sum i to n -(log(yhat_i) * y_i + log(1 – yhat_i) * (1 – y_i))```\n",
        "\n",
        "Calculating the negative of the log-likelihood function for the Bernoulli distribution is equivalent to calculating the cross-entropy function for the Bernoulli distribution, where p() represents the probability of class 0 or class 1, and q() represents the estimation of the probability distribution, in this case by our logistic regression model.\n",
        "\n",
        "```cross entropy = -(log(q(class0)) * p(class0) + log(q(class1)) * p(class1))```\n",
        "\n",
        "Unlike linear regression, there is not an analytical solution to solving this optimization problem. As such, an iterative optimization algorithm must be used.\n",
        "\n",
        "Unlike linear regression, we can no longer write down the MLE in closed form. Instead, we need to use an optimization algorithm to compute it. For this, we need to derive the gradient and Hessian.\n",
        "\n",
        "The function does provide some information to aid in the optimization (specifically a Hessian matrix can be calculated), meaning that efficient search procedures that exploit this information can be used, such as the BFGS algorithm (and variants)."
      ],
      "metadata": {
        "id": "pfN58aBZl33K"
      }
    }
  ]
}