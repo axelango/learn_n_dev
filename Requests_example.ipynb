{
  "nbformat": 4,
  "nbformat_minor": 0,
  "metadata": {
    "colab": {
      "name": "Requests_exampleipynb",
      "provenance": [],
      "collapsed_sections": [],
      "authorship_tag": "ABX9TyMrFr66NEhsXqfsopepCfUn",
      "include_colab_link": true
    },
    "kernelspec": {
      "name": "python3",
      "display_name": "Python 3"
    },
    "language_info": {
      "name": "python"
    }
  },
  "cells": [
    {
      "cell_type": "markdown",
      "metadata": {
        "id": "view-in-github",
        "colab_type": "text"
      },
      "source": [
        "<a href=\"https://colab.research.google.com/github/jgamel/learn_n_dev/blob/python_web_scrapping/Requests_example.ipynb\" target=\"_parent\"><img src=\"https://colab.research.google.com/assets/colab-badge.svg\" alt=\"Open In Colab\"/></a>"
      ]
    },
    {
      "cell_type": "code",
      "source": [
        "from google.colab import drive\n",
        "drive.mount('/content/gdrive', force_remount=True)"
      ],
      "metadata": {
        "colab": {
          "base_uri": "https://localhost:8080/"
        },
        "id": "vuznIr0Y1wMV",
        "outputId": "6a67a778-04c1-4092-a106-e79639b6d5fe"
      },
      "execution_count": 1,
      "outputs": [
        {
          "output_type": "stream",
          "name": "stdout",
          "text": [
            "Mounted at /content/gdrive\n"
          ]
        }
      ]
    },
    {
      "cell_type": "code",
      "source": [
        "import sys\n",
        "sys.path.append('/content/gdrive/My Drive/Colab Notebooks')"
      ],
      "metadata": {
        "id": "FUrOMycm11A5"
      },
      "execution_count": 2,
      "outputs": []
    },
    {
      "cell_type": "code",
      "source": [
        "import requests\n",
        "import json\n",
        "\n",
        "\n",
        "def main(url):\n",
        "    with requests.Session() as req:\n",
        "        for item in range(1, 5, 100):\n",
        "            r = req.get(url.format(item)).json()\n",
        "            for a in r['result']:\n",
        "                print(\"Headline: {}, Url: {}\".format(\n",
        "                    a['headline'], a['url']))\n",
        "\n",
        "\n",
        "main(\"https://search.api.cnn.io/content?q=coronavirus&sort=newest&category=business,us,politics,world,opinion,health&size=5&from={}\")"
      ],
      "metadata": {
        "colab": {
          "base_uri": "https://localhost:8080/"
        },
        "id": "C9XD_YjKFP8x",
        "outputId": "01ce56d1-fad3-44eb-a9e7-8149aeefb364"
      },
      "execution_count": 3,
      "outputs": [
        {
          "output_type": "stream",
          "name": "stdout",
          "text": [
            "Headline: A highly changed coronavirus variant was found in deer after nearly a year in hiding, researchers suggest, Url: https://www.cnn.com/2022/03/02/health/divergent-new-variant-deer/index.html\n",
            "Headline: 5 things to know for March 3: Ukraine, Capitol riot, Covid-19, NRA, TikTok, Url: https://www.cnn.com/2022/03/03/us/five-things-march-3-trnd/index.html\n",
            "Headline: Google will ask employees to spend three days a week in the office starting April 4, Url: https://www.cnn.com/2022/03/02/tech/google-office-return-april-4/index.html\n",
            "Headline: Fact-checking Biden's 2022 State of the Union address, Url: https://www.cnn.com/2022/03/02/politics/fact-check-biden-2022-sotu-address/index.html\n",
            "Headline: President Biden's State of the Union address, Url: https://www.cnn.com/politics/live-news/biden-state-of-the-union-2022/index.html\n"
          ]
        }
      ]
    }
  ]
}