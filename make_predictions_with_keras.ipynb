{
  "nbformat": 4,
  "nbformat_minor": 0,
  "metadata": {
    "colab": {
      "name": "make_predictions_with_keras.ipynb",
      "provenance": [],
      "collapsed_sections": [],
      "authorship_tag": "ABX9TyPsDaaY31KUh+HzZvL5jaeH",
      "include_colab_link": true
    },
    "kernelspec": {
      "name": "python3",
      "display_name": "Python 3"
    },
    "language_info": {
      "name": "python"
    }
  },
  "cells": [
    {
      "cell_type": "markdown",
      "metadata": {
        "id": "view-in-github",
        "colab_type": "text"
      },
      "source": [
        "<a href=\"https://colab.research.google.com/github/jgamel/learn_n_dev/blob/python_machine_learning/make_predictions_with_keras.ipynb\" target=\"_parent\"><img src=\"https://colab.research.google.com/assets/colab-badge.svg\" alt=\"Open In Colab\"/></a>"
      ]
    },
    {
      "cell_type": "markdown",
      "source": [
        "# How to Make Predictions with Keras"
      ],
      "metadata": {
        "id": "EUaFENOf_sKe"
      }
    },
    {
      "cell_type": "markdown",
      "source": [
        "Once you choose and fit a final deep learning model in Keras, you can use it to make predictions on new data instances."
      ],
      "metadata": {
        "id": "9TgXWBCh_0km"
      }
    },
    {
      "cell_type": "markdown",
      "source": [
        "### Finalize Model"
      ],
      "metadata": {
        "id": "v0w3myoK_6Sp"
      }
    },
    {
      "cell_type": "markdown",
      "source": [
        "Before you can make predictions, you must train a final model.\n",
        "\n",
        "You may have trained models using k-fold cross validation or train/test splits of your data. This was done in order to give you an estimate of the skill of the model on out of sample data, e.g. new data.\n",
        "\n",
        "These models have served their purpose and can now be discarded.\n",
        "\n",
        "You now must train a final model on all of your available data. You can learn more about how to train a final model here:\n",
        "\n"
      ],
      "metadata": {
        "id": "5VmnMvBO_7SC"
      }
    },
    {
      "cell_type": "markdown",
      "source": [
        "### Classification Predictions"
      ],
      "metadata": {
        "id": "503R_PqzAPLZ"
      }
    },
    {
      "cell_type": "markdown",
      "source": [
        "Classification problems are those where the model learns a mapping between input features and an output feature that is a label, such as “spam” and “not spam“.\n",
        "\n",
        "Below is an example of a finalized neural network model in Keras developed for a simple two-class (binary) classification problem."
      ],
      "metadata": {
        "id": "2UDdEFDmAQQc"
      }
    },
    {
      "cell_type": "code",
      "source": [
        "# example of training a final classification model\n",
        "from keras.models import Sequential\n",
        "from keras.layers import Dense\n",
        "from sklearn.datasets import make_blobs\n",
        "from sklearn.preprocessing import MinMaxScaler\n",
        "# generate 2d classification dataset\n",
        "X, y = make_blobs(n_samples=100, centers=2, n_features=2, random_state=1)\n",
        "scalar = MinMaxScaler()\n",
        "scalar.fit(X)\n",
        "X = scalar.transform(X)\n",
        "# define and fit the final model\n",
        "model = Sequential()\n",
        "model.add(Dense(4, input_dim=2, activation='relu'))\n",
        "model.add(Dense(4, activation='relu'))\n",
        "model.add(Dense(1, activation='sigmoid'))\n",
        "model.compile(loss='binary_crossentropy', optimizer='adam')\n",
        "model.fit(X, y, epochs=200, verbose=0)"
      ],
      "metadata": {
        "colab": {
          "base_uri": "https://localhost:8080/"
        },
        "id": "P7X9NqggAkSa",
        "outputId": "94c335d4-7319-4178-a9a3-f7a3e2cb22e6"
      },
      "execution_count": 1,
      "outputs": [
        {
          "output_type": "execute_result",
          "data": {
            "text/plain": [
              "<keras.callbacks.History at 0x7f907d2597d0>"
            ]
          },
          "metadata": {},
          "execution_count": 1
        }
      ]
    },
    {
      "cell_type": "markdown",
      "source": [
        "After finalizing, you may want to save the model to file, e.g. via the Keras API. Once saved, you can load the model any time and use it to make predictions. \n",
        "\n",
        "There are two types of classification predictions we may wish to make with our finalized model; they are class predictions and probability predictions."
      ],
      "metadata": {
        "id": "84s8KJZXA7E0"
      }
    },
    {
      "cell_type": "markdown",
      "source": [
        "### Class Predictions"
      ],
      "metadata": {
        "id": "1KOYvHgZBDKi"
      }
    },
    {
      "cell_type": "markdown",
      "source": [
        "A class prediction is given the finalized model and one or more data instances, predict the class for the data instances.\n",
        "\n",
        "We do not know the outcome classes for the new data. That is why we need the model in the first place.\n",
        "\n",
        "We can predict the class for new data instances using our finalized classification model in Keras using the predict_classes() function. Note that this function is only available on Sequential models, not those models developed using the functional API.\n",
        "\n",
        "For example, we have one or more data instances in an array called Xnew. This can be passed to the predict_classes() function on our model in order to predict the class values for each instance in the array."
      ],
      "metadata": {
        "id": "3LxXfxQ7BE37"
      }
    },
    {
      "cell_type": "markdown",
      "source": [
        "Let’s make this concrete with an example:"
      ],
      "metadata": {
        "id": "qHRbK_aRBKC8"
      }
    },
    {
      "cell_type": "code",
      "source": [
        "# example making new class predictions for a classification problem\n",
        "from keras.models import Sequential\n",
        "from keras.layers import Dense\n",
        "from sklearn.datasets import make_blobs\n",
        "from sklearn.preprocessing import MinMaxScaler\n",
        "import numpy as np\n",
        "# generate 2d classification dataset\n",
        "X, y = make_blobs(n_samples=100, centers=2, n_features=2, random_state=1)\n",
        "scalar = MinMaxScaler()\n",
        "scalar.fit(X)\n",
        "X = scalar.transform(X)\n",
        "# define and fit the final model\n",
        "model = Sequential()\n",
        "model.add(Dense(4, input_dim=2, activation='relu'))\n",
        "model.add(Dense(4, activation='relu'))\n",
        "model.add(Dense(1, activation='sigmoid'))\n",
        "model.compile(loss='binary_crossentropy', optimizer='adam')\n",
        "model.fit(X, y, epochs=500, verbose=0)\n",
        "# new instances where we do not know the answer\n",
        "Xnew, _ = make_blobs(n_samples=3, centers=2, n_features=2, random_state=1)\n",
        "Xnew = scalar.transform(Xnew)\n",
        "# make a prediction\n",
        "# ynew = (model.predict(Xnew) > 0.05).astype(\"int32\")\n",
        "ynew = np.argmax(model.predict(Xnew), axis=-1)\n",
        "# show the inputs and predicted outputs\n",
        "for i in range(len(Xnew)):\n",
        "\tprint(\"X=%s, Predicted=%s\" % (Xnew[i], ynew[i]))"
      ],
      "metadata": {
        "colab": {
          "base_uri": "https://localhost:8080/"
        },
        "id": "l2xFhfdFBLgJ",
        "outputId": "8da1b238-b2aa-441e-dced-cc0fff28b06d"
      },
      "execution_count": 15,
      "outputs": [
        {
          "output_type": "stream",
          "name": "stdout",
          "text": [
            "X=[0.89337759 0.65864154], Predicted=0\n",
            "X=[0.29097707 0.12978982], Predicted=0\n",
            "X=[0.78082614 0.75391697], Predicted=0\n"
          ]
        }
      ]
    },
    {
      "cell_type": "markdown",
      "source": [
        "Running the example predicts the class for the three new data instances, then prints the data and the predictions together.\n",
        "\n",
        "If you had just one new data instance, you could provide this as an instance wrapped in an array to the predict_classes() function; for example:"
      ],
      "metadata": {
        "id": "cQkEL7fxFxyd"
      }
    },
    {
      "cell_type": "code",
      "source": [
        "# example making new class prediction for a classification problem\n",
        "from keras.models import Sequential\n",
        "from keras.layers import Dense\n",
        "from sklearn.datasets import make_blobs\n",
        "from sklearn.preprocessing import MinMaxScaler\n",
        "from numpy import array\n",
        "# generate 2d classification dataset\n",
        "X, y = make_blobs(n_samples=100, centers=2, n_features=2, random_state=1)\n",
        "scalar = MinMaxScaler()\n",
        "scalar.fit(X)\n",
        "X = scalar.transform(X)\n",
        "# define and fit the final model\n",
        "model = Sequential()\n",
        "model.add(Dense(4, input_dim=2, activation='relu'))\n",
        "model.add(Dense(4, activation='relu'))\n",
        "model.add(Dense(1, activation='sigmoid'))\n",
        "model.compile(loss='binary_crossentropy', optimizer='adam')\n",
        "model.fit(X, y, epochs=500, verbose=0)\n",
        "# new instance where we do not know the answer\n",
        "Xnew = array([[0.89337759, 0.65864154]])\n",
        "# make a prediction\n",
        "ynew = np.argmax(model.predict(Xnew), axis=-1)\n",
        "# show the inputs and predicted outputs\n",
        "print(\"X=%s, Predicted=%s\" % (Xnew[0], ynew[0]))"
      ],
      "metadata": {
        "colab": {
          "base_uri": "https://localhost:8080/"
        },
        "id": "KdQEPMemF4u8",
        "outputId": "fa97ebf2-3444-4b2c-c18c-b2480717749f"
      },
      "execution_count": 17,
      "outputs": [
        {
          "output_type": "stream",
          "name": "stdout",
          "text": [
            "X=[0.89337759 0.65864154], Predicted=0\n"
          ]
        }
      ]
    },
    {
      "cell_type": "markdown",
      "source": [
        "Running the example prints the single instance and the predicted class."
      ],
      "metadata": {
        "id": "RCPipgtZGG4w"
      }
    },
    {
      "cell_type": "markdown",
      "source": [
        "### A Note on Class Labels"
      ],
      "metadata": {
        "id": "NeZp0touGHin"
      }
    },
    {
      "cell_type": "markdown",
      "source": [
        "Note that when you prepared your data, you will have mapped the class values from your domain (such as strings) to integer values. You may have used a LabelEncoder.\n",
        "\n",
        "This LabelEncoder can be used to convert the integers back into string values via the inverse_transform() function.\n",
        "\n",
        "For this reason, you may want to save (pickle) the LabelEncoder used to encode your y values when fitting your final model."
      ],
      "metadata": {
        "id": "vJpLF9moGOWD"
      }
    },
    {
      "cell_type": "markdown",
      "source": [
        "### Probability Predictions"
      ],
      "metadata": {
        "id": "pgyQmniLGamS"
      }
    },
    {
      "cell_type": "markdown",
      "source": [
        "Another type of prediction you may wish to make is the probability of the data instance belonging to each class.\n",
        "\n",
        "This is called a probability prediction where, given a new instance, the model returns the probability for each outcome class as a value between 0 and 1.\n",
        "\n",
        "You can make these types of predictions in Keras by calling the predict_proba() function; for example:\n",
        "\n",
        "```\n",
        "Xnew = [[...], [...]]\n",
        "ynew = model.predict_proba(Xnew)\n",
        "```\n",
        "\n",
        "In the case of a two-class (binary) classification problem, the sigmoid activation function is often used in the output layer. The predicted probability is taken as the likelihood of the observation belonging to class 1, or inverted (1 – probability) to give the probability for class 0.\n",
        "\n",
        "In the case of a multi-class classification problem, the softmax activation function is often used on the output layer and the likelihood of the observation for each class is returned as a vector.\n",
        "\n",
        "The example below makes a probability prediction for each example in the Xnew array of data instance."
      ],
      "metadata": {
        "id": "QTnNVtevGcGl"
      }
    },
    {
      "cell_type": "code",
      "source": [
        "# example making new probability predictions for a classification problem\n",
        "from keras.models import Sequential\n",
        "from keras.layers import Dense\n",
        "from sklearn.datasets import make_blobs\n",
        "from sklearn.preprocessing import MinMaxScaler\n",
        "# generate 2d classification dataset\n",
        "X, y = make_blobs(n_samples=100, centers=2, n_features=2, random_state=1)\n",
        "scalar = MinMaxScaler()\n",
        "scalar.fit(X)\n",
        "X = scalar.transform(X)\n",
        "# define and fit the final model\n",
        "model = Sequential()\n",
        "model.add(Dense(4, input_dim=2, activation='relu'))\n",
        "model.add(Dense(4, activation='relu'))\n",
        "model.add(Dense(1, activation='sigmoid'))\n",
        "model.compile(loss='binary_crossentropy', optimizer='adam')\n",
        "model.fit(X, y, epochs=500, verbose=0)\n",
        "# new instances where we do not know the answer\n",
        "Xnew, _ = make_blobs(n_samples=3, centers=2, n_features=2, random_state=1)\n",
        "Xnew = scalar.transform(Xnew)\n",
        "# make a prediction\n",
        "ynew = (model.predict(Xnew)).astype(\"float32\")\n",
        "# show the inputs and predicted outputs\n",
        "for i in range(len(Xnew)):\n",
        "\tprint(\"X=%s, Predicted=%s\" % (Xnew[i], ynew[i]))"
      ],
      "metadata": {
        "colab": {
          "base_uri": "https://localhost:8080/"
        },
        "id": "Tk5kOpt1HCOw",
        "outputId": "d62524cc-7f51-41df-ff5e-a9f747b23979"
      },
      "execution_count": 73,
      "outputs": [
        {
          "output_type": "stream",
          "name": "stdout",
          "text": [
            "X=[0.89337759 0.65864154], Predicted=[0.0056012]\n",
            "X=[0.29097707 0.12978982], Predicted=[0.82746625]\n",
            "X=[0.78082614 0.75391697], Predicted=[0.00586474]\n"
          ]
        }
      ]
    },
    {
      "cell_type": "markdown",
      "source": [
        "Running the instance makes the probability predictions and then prints the input data instance and the probability of each instance belonging to class 1.\n",
        "\n"
      ],
      "metadata": {
        "id": "rKVC_FvGV8RT"
      }
    },
    {
      "cell_type": "markdown",
      "source": [
        "This can be helpful in your application if you want to present the probabilities to the user for expert interpretation."
      ],
      "metadata": {
        "id": "oQAUj3YSV9Hz"
      }
    },
    {
      "cell_type": "markdown",
      "source": [
        "### Regression Predictions"
      ],
      "metadata": {
        "id": "brt2S8nFWBUr"
      }
    },
    {
      "cell_type": "markdown",
      "source": [
        "Regression is a supervised learning problem where given input examples, the model learns a mapping to suitable output quantities, such as “0.1” and “0.2”, etc.\n",
        "\n",
        "Below is an example of a finalized Keras model for regression."
      ],
      "metadata": {
        "id": "_Va_0jgaWEgU"
      }
    },
    {
      "cell_type": "code",
      "source": [
        "# example of training a final regression model\n",
        "from keras.models import Sequential\n",
        "from keras.layers import Dense\n",
        "from sklearn.datasets import make_regression\n",
        "from sklearn.preprocessing import MinMaxScaler\n",
        "# generate regression dataset\n",
        "X, y = make_regression(n_samples=100, n_features=2, noise=0.1, random_state=1)\n",
        "scalarX, scalarY = MinMaxScaler(), MinMaxScaler()\n",
        "scalarX.fit(X)\n",
        "scalarY.fit(y.reshape(100,1))\n",
        "X = scalarX.transform(X)\n",
        "y = scalarY.transform(y.reshape(100,1))\n",
        "# define and fit the final model\n",
        "model = Sequential()\n",
        "model.add(Dense(4, input_dim=2, activation='relu'))\n",
        "model.add(Dense(4, activation='relu'))\n",
        "model.add(Dense(1, activation='linear'))\n",
        "model.compile(loss='mse', optimizer='adam')\n",
        "model.fit(X, y, epochs=1000, verbose=0)"
      ],
      "metadata": {
        "colab": {
          "base_uri": "https://localhost:8080/"
        },
        "id": "rZE-frl7WH7G",
        "outputId": "66e4ea98-3988-4a76-d2ad-d0bf8e9693a2"
      },
      "execution_count": 74,
      "outputs": [
        {
          "output_type": "execute_result",
          "data": {
            "text/plain": [
              "<keras.callbacks.History at 0x7f906fa01a90>"
            ]
          },
          "metadata": {},
          "execution_count": 74
        }
      ]
    },
    {
      "cell_type": "markdown",
      "source": [
        "We can predict quantities with the finalized regression model by calling the predict() function on the finalized model.\n",
        "\n",
        "The predict() function takes an array of one or more data instances.\n",
        "\n",
        "The example below demonstrates how to make regression predictions on multiple data instances with an unknown expected outcome."
      ],
      "metadata": {
        "id": "EBj1rxgEWRwC"
      }
    },
    {
      "cell_type": "code",
      "source": [
        "# example of making predictions for a regression problem\n",
        "from keras.models import Sequential\n",
        "from keras.layers import Dense\n",
        "from sklearn.datasets import make_regression\n",
        "from sklearn.preprocessing import MinMaxScaler\n",
        "# generate regression dataset\n",
        "X, y = make_regression(n_samples=100, n_features=2, noise=0.1, random_state=1)\n",
        "scalarX, scalarY = MinMaxScaler(), MinMaxScaler()\n",
        "scalarX.fit(X)\n",
        "scalarY.fit(y.reshape(100,1))\n",
        "X = scalarX.transform(X)\n",
        "y = scalarY.transform(y.reshape(100,1))\n",
        "# define and fit the final model\n",
        "model = Sequential()\n",
        "model.add(Dense(4, input_dim=2, activation='relu'))\n",
        "model.add(Dense(4, activation='relu'))\n",
        "model.add(Dense(1, activation='linear'))\n",
        "model.compile(loss='mse', optimizer='adam')\n",
        "model.fit(X, y, epochs=1000, verbose=0)\n",
        "# new instances where we do not know the answer\n",
        "Xnew, a = make_regression(n_samples=3, n_features=2, noise=0.1, random_state=1)\n",
        "Xnew = scalarX.transform(Xnew)\n",
        "# make a prediction\n",
        "ynew = (model.predict(Xnew)).astype(\"float32\")\n",
        "# show the inputs and predicted outputs\n",
        "for i in range(len(Xnew)):\n",
        "\tprint(\"X=%s, Predicted=%s\" % (Xnew[i], ynew[i]))"
      ],
      "metadata": {
        "colab": {
          "base_uri": "https://localhost:8080/"
        },
        "id": "06st4Xm9WSVd",
        "outputId": "061e88ef-31e5-4ef3-ec6b-62e91b47edd1"
      },
      "execution_count": 76,
      "outputs": [
        {
          "output_type": "stream",
          "name": "stdout",
          "text": [
            "X=[0.29466096 0.30317302], Predicted=[0.17302774]\n",
            "X=[0.39445118 0.79390858], Predicted=[0.74399465]\n",
            "X=[0.02884127 0.6208843 ], Predicted=[0.40448755]\n"
          ]
        }
      ]
    },
    {
      "cell_type": "markdown",
      "source": [
        "The same function can be used to make a prediction for a single data instance, as long as it is suitably wrapped in a surrounding list or array.\n",
        "\n",
        "For example:"
      ],
      "metadata": {
        "id": "j11kOXVoWnzG"
      }
    },
    {
      "cell_type": "code",
      "source": [
        "# example of making predictions for a regression problem\n",
        "from keras.models import Sequential\n",
        "from keras.layers import Dense\n",
        "from sklearn.datasets import make_regression\n",
        "from sklearn.preprocessing import MinMaxScaler\n",
        "from numpy import array\n",
        "# generate regression dataset\n",
        "X, y = make_regression(n_samples=100, n_features=2, noise=0.1, random_state=1)\n",
        "scalarX, scalarY = MinMaxScaler(), MinMaxScaler()\n",
        "scalarX.fit(X)\n",
        "scalarY.fit(y.reshape(100,1))\n",
        "X = scalarX.transform(X)\n",
        "y = scalarY.transform(y.reshape(100,1))\n",
        "# define and fit the final model\n",
        "model = Sequential()\n",
        "model.add(Dense(4, input_dim=2, activation='relu'))\n",
        "model.add(Dense(4, activation='relu'))\n",
        "model.add(Dense(1, activation='linear'))\n",
        "model.compile(loss='mse', optimizer='adam')\n",
        "model.fit(X, y, epochs=1000, verbose=0)\n",
        "# new instance where we do not know the answer\n",
        "Xnew = array([[0.29466096, 0.30317302]])\n",
        "# make a prediction\n",
        "ynew = (model.predict(Xnew)).astype(\"float32\")\n",
        "# show the inputs and predicted outputs\n",
        "print(\"X=%s, Predicted=%s\" % (Xnew[0], ynew[0]))"
      ],
      "metadata": {
        "colab": {
          "base_uri": "https://localhost:8080/"
        },
        "id": "JYimSa85WrcV",
        "outputId": "23035544-3129-46cd-c2f4-6737f68e684e"
      },
      "execution_count": 77,
      "outputs": [
        {
          "output_type": "stream",
          "name": "stdout",
          "text": [
            "X=[0.29466096 0.30317302], Predicted=[0.17324643]\n"
          ]
        }
      ]
    }
  ]
}