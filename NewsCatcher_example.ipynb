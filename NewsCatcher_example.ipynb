{
  "nbformat": 4,
  "nbformat_minor": 0,
  "metadata": {
    "colab": {
      "name": "NewsCatcher_example.ipynb",
      "provenance": [],
      "collapsed_sections": [],
      "authorship_tag": "ABX9TyMAAFKF6yh63BPOSR5gVobn",
      "include_colab_link": true
    },
    "kernelspec": {
      "name": "python3",
      "display_name": "Python 3"
    },
    "language_info": {
      "name": "python"
    }
  },
  "cells": [
    {
      "cell_type": "markdown",
      "metadata": {
        "id": "view-in-github",
        "colab_type": "text"
      },
      "source": [
        "<a href=\"https://colab.research.google.com/github/jgamel/learn_n_dev/blob/python_web_scrapping/NewsCatcher_example.ipynb\" target=\"_parent\"><img src=\"https://colab.research.google.com/assets/colab-badge.svg\" alt=\"Open In Colab\"/></a>"
      ]
    },
    {
      "cell_type": "markdown",
      "source": [
        "# NewsCatcher"
      ],
      "metadata": {
        "id": "rNpQHvlrLAsz"
      }
    },
    {
      "cell_type": "markdown",
      "source": [
        "This one is another open-source library created that can be used in DIY projects. It’s a simple Python web scraping library that can be used for scraping news articles from almost any news website. It also enables you to gather details related to a news website. Let’s elaborate on this with the help of some examples and code.\n",
        "\n",
        "In case you want to grab the headlines from a news website, you can just create a Newscatcher object passing the website URL (remember to remove the HTTP and the www and just provide the website name and extension), and use the get_headlines() function to obtain the top headlines from the website. If you run the code below:"
      ],
      "metadata": {
        "id": "ibqc21CYLF1-"
      }
    },
    {
      "cell_type": "markdown",
      "source": [
        "Mount Drive:"
      ],
      "metadata": {
        "id": "COz7lHTHI7cT"
      }
    },
    {
      "cell_type": "code",
      "source": [
        "from google.colab import drive\n",
        "drive.mount('/content/gdrive', force_remount=True)"
      ],
      "metadata": {
        "colab": {
          "base_uri": "https://localhost:8080/"
        },
        "id": "18HDVLtxLPFF",
        "outputId": "b0631a81-de7a-4178-c01b-9edc28ec6aaa"
      },
      "execution_count": 2,
      "outputs": [
        {
          "output_type": "stream",
          "name": "stdout",
          "text": [
            "Mounted at /content/gdrive\n"
          ]
        }
      ]
    },
    {
      "cell_type": "code",
      "source": [
        "import sys\n",
        "sys.path.append('/content/gdrive/My Drive/Colab Notebooks')"
      ],
      "metadata": {
        "id": "0FF7k9cVLgzp"
      },
      "execution_count": 3,
      "outputs": []
    },
    {
      "cell_type": "markdown",
      "source": [
        "### Example 1:"
      ],
      "metadata": {
        "id": "qWKQvKFbI-gF"
      }
    },
    {
      "cell_type": "markdown",
      "source": [
        "Get Headlines"
      ],
      "metadata": {
        "id": "LR98Of5lJNQR"
      }
    },
    {
      "cell_type": "code",
      "source": [
        "from newscatcher import Newscatcher, describe_url\n",
        "\n",
        "mm = Newscatcher(website = 'cnn.com')\n",
        "\n",
        "for index, headline in enumerate(mm.get_headlines()):\n",
        "   print(index, headline)"
      ],
      "metadata": {
        "colab": {
          "base_uri": "https://localhost:8080/"
        },
        "id": "5KBjbUVxLh76",
        "outputId": "8acb86e1-2184-401d-975d-8362650f85af"
      },
      "execution_count": 4,
      "outputs": [
        {
          "output_type": "stream",
          "name": "stdout",
          "text": [
            "0 40-mile Russian convoy appears to have stalled, UK defense ministry says\n",
            "1 Russians struggle to understand war: 'We didn't choose this'\n",
            "2 Grim assessment of latest Macron-Putin call comes as Russian forces lay siege to southern city of Mariupol\n",
            "3 Watch: Ukrainian civilians stare down Russian military convoy\n",
            "4 Mariupol: Russia cuts key Ukrainian city off from the world\n",
            "5 Sanctions: Biden administration planning to impose new sanctions on Russian oligarchs as soon as Thursday\n",
            "6 Banned: Russian and Belarusian athletes to no longer compete at Beijing 2022 Winter Paralympics\n",
            "7 Opinion: Germany's military U-turn is a turning point in the history of Europe\n",
            "8 Amanpour: These countries could convince Putin to stop\n",
            "9 Jewish community in Ukraine reacts to Putin's Nazi rhetoric\n",
            "10 Trump and right-wing lawyer part of 'criminal conspiracy,' Jan. 6 panel alleges\n",
            "11 Serena Williams calls out New York Times for photo mistake\n",
            "12 See 'Wheel of Fortune' moment some say is 'most painful 2 minutes' ever\n",
            "13 Liquor stores and supermarkets ditch Russian vodka. Importers say boycotts won't punish Putin\n",
            "14 Stanford soccer player found dead in a campus residence, officials say\n",
            "15 Elon Musk challenges the UAW to unionize Tesla\n",
            "16 'Jeopardy!' contestant takes off wig to normalize cancer recovery\n",
            "17 Arizona Gov. Doug Ducey rules out US Senate bid and says he may endorse in GOP primary\n",
            "18 Melinda French Gates opens up about her divorce: 'I couldn't trust what we had'\n",
            "19 6 Surprisingly Simple Ways To Boost Your Credit\n",
            "20 Sean Penn walked to Polish border to leave Ukraine\n",
            "21 Opinion: Media coverage of Ukraine shows it's time to rethink what we know about Africa\n",
            "22 France seizes superyacht owned by sanctioned Russian oligarch\n",
            "23 Ex-Ukranian tennis star says he returned to his country to fight Russia\n",
            "24 Maksim Chmerkovskiy back in the US from Ukraine and reunited with family\n",
            "25 How one Ukrainian woman is supporting her country\n",
            "26 Podcast: Anthony Bourdain travels to Jamaica, visting the home of James Bond author Ian Fleming and learning about music legend Bob Marley\n",
            "27 White House unveils plan for a new stage of the pandemic\n",
            "28 Mask mandates may be lifting, but hold onto your face coverings, experts advise\n",
            "29 A highly changed coronavirus variant was found in deer after nearly a year in hiding\n",
            "30 Never-before-seen photograph shows Princess Diana in a new light\n",
            "31 'Picard' slowly goes into its second season aboard a starship filled with nostalgia\n",
            "32 4-year-old's cute driveway flop goes viral\n",
            "33 Tiny 'flower' formation spotted on Mars by Curiosity rover\n",
            "34 It's not the best time to be a Russian oligarch\n",
            "35 More oil supply could stop massive price spikes. But US producers won't fill that gap\n",
            "36 The teenager that tracked Elon Musk's jet is now tracking Russian oligarchs\n",
            "37 Russians are bracing for a dramatic shift in their standard of living\n",
            "38 The best under-eye creams for dark circles, according to experts\n",
            "39 These 5 pressure cookers are actually worth your money\n",
            "40 Sonos' new portable speaker is the most affordable yet\n",
            "41 Don't waste your FSA dollars: Here are 37 genius ways to spend them\n",
            "42 This foldable treadmill is perfect if you struggle to exercise at home\n",
            "43 Save on our pick for best budget pressure cooker\n",
            "44 26 women-owned businesses for all your everyday essentials\n",
            "45 We spent February testing dozens of products: Here are 22 we loved\n",
            "46 Dermstore is having a huge sale right now, and you're going to want to stock up\n",
            "47 Yeti released new colors and they're just what you need for the spring\n",
            "48 20 Amazon products our readers loved in February\n",
            "49 Capital One adds new transfer partner, option to cancel flights for any reason\n",
            "50 'He has decided to destroy the whole world': 6 voices on Putin's invasion\n",
            "51 We can't ignore the darker sides of global unity on war in Ukraine\n",
            "52 Descendant of Jews who escaped Kyiv speaks out\n",
            "53 Russia's nuclear threats are shaking me up\n",
            "54 Is Biden the comeback kid?\n",
            "55 Ketanji Brown Jackson's GOP kryptonite\n",
            "56 Jim Sciutto brings the latest details in Ukraine & how it could impact world order\n",
            "57 Pets are more than great friends, they're good for your health\n",
            "58 Student loans weighing you down? Make a plan and face them head-on\n",
            "59 $2299 & up -- Discover Portugal & Spain in April\n",
            "60 $399 & up -- Icelandair Flight Sale to Europe\n",
            "61 Save on Your Mortgage. Find Offers in Two Minutes\n",
            "62 Search reveals 169 potential unmarked graves at former Canadian residential school, officials say\n",
            "63 Australia continues flood relief and rescue efforts as Sydney braces for heavy rains\n",
            "64 RT sees its influence diminish as TV providers, tech companies take action against Russia-backed outlet\n",
            "65 The adoptive parents of missing California boys Orrin and Orson West are charged with murder. But the bodies haven't been found, DA says\n",
            "66 Closing arguments expected today in Brett Hankison trial for botched raid of Breonna Taylor's home\n",
            "67 Texas judge grants ACLU's request for temporary restraining order on child abuse investigation of trans child and her parents\n",
            "68 Judge blocks New York attorney general's attempt to dissolve NRA but allows suit to proceed\n"
          ]
        }
      ]
    },
    {
      "cell_type": "markdown",
      "source": [
        "### Example 2:"
      ],
      "metadata": {
        "id": "wDPYVwG5Jqrp"
      }
    },
    {
      "cell_type": "markdown",
      "source": [
        "Get News Title, Date, & URL"
      ],
      "metadata": {
        "id": "theHg5xbJuDX"
      }
    },
    {
      "cell_type": "code",
      "source": [
        "from newscatcher import Newscatcher, describe_url\n",
        "import json\n",
        "import time\n",
        "\n",
        "nyt = Newscatcher(website = 'cnbc.com')\n",
        "results = nyt.get_news()\n",
        "\n",
        "count = 0\n",
        "articles = results['articles']\n",
        "for article in articles[:10]:   \n",
        "   count+=1\n",
        "   print(\n",
        "     str(count) + \". \" + article[\"title\"] \\\n",
        "     + \"\\n\\t\\t\" + article[\"published\"] \\\n",
        "     + \"\\n\\t\\t\" + article[\"link\"]\\\n",
        "     + \"\\n\\n\"\n",
        "     )\n",
        "   time.sleep(0.33)"
      ],
      "metadata": {
        "colab": {
          "base_uri": "https://localhost:8080/"
        },
        "id": "rwa3Y3dvL5cL",
        "outputId": "ad0cbccb-9b93-4cc4-efd2-ae59a13e7029"
      },
      "execution_count": 5,
      "outputs": [
        {
          "output_type": "stream",
          "name": "stdout",
          "text": [
            "1. Airline software giant ends pact with Russia's Aeroflot, crippling carrier's ability to sell seats\n",
            "\t\tThu, 03 Mar 2022 13:33 GMT\n",
            "\t\thttps://www.cnbc.com/2022/03/03/airline-software-giant-sabre-ends-service-with-russias-aeroflot-crippling-carriers-ability-to-sell-seats.html\n",
            "\n",
            "\n",
            "2. Retailers start to warn of business impact from Russia's invasion of Ukraine\n",
            "\t\tThu, 03 Mar 2022 16:15 GMT\n",
            "\t\thttps://www.cnbc.com/2022/03/03/ukraine-news-retailers-start-warn-of-business-impact-from-russian-invasion.html\n",
            "\n",
            "\n",
            "3. Dow falls more than 100 points, tech stocks slide as investors monitor Ukraine-Russia conflict\n",
            "\t\tWed, 02 Mar 2022 23:07 GMT\n",
            "\t\thttps://www.cnbc.com/2022/03/02/stock-market-futures-open-to-close-news.html\n",
            "\n",
            "\n",
            "4. Apple and FBI grilled by lawmakers on spyware from Israeli NSO Group\n",
            "\t\tThu, 03 Mar 2022 17:00 GMT\n",
            "\t\thttps://www.cnbc.com/2022/03/03/apple-and-fbi-grilled-by-lawmakers-on-spyware-from-israeli-nso-group.html\n",
            "\n",
            "\n",
            "5. Wharton's Siegel says it's a 'big policy mistake' for Fed to slow tightening because of Ukraine\n",
            "\t\tThu, 03 Mar 2022 16:36 GMT\n",
            "\t\thttps://www.cnbc.com/2022/03/03/whartons-siegel-says-its-a-big-policy-mistake-for-fed-to-slow-tightening-because-of-ukraine.html\n",
            "\n",
            "\n",
            "6. London-listed Russian stocks are collapsing, with trading now suspended\n",
            "\t\tThu, 03 Mar 2022 13:55 GMT\n",
            "\t\thttps://www.cnbc.com/2022/03/03/london-listed-russian-stocks-are-collapsing-with-trading-now-suspended.html\n",
            "\n",
            "\n",
            "7. Here's why Ford didn’t spin off its electric-vehicle business\n",
            "\t\tThu, 03 Mar 2022 16:21 GMT\n",
            "\t\thttps://www.cnbc.com/2022/03/03/why-ford-didnt-spin-off-its-electric-vehicle-business.html\n",
            "\n",
            "\n",
            "8. White House asks Congress for additional $32.5 billion to support Ukraine, fight Covid\n",
            "\t\tThu, 03 Mar 2022 14:20 GMT\n",
            "\t\thttps://www.cnbc.com/2022/03/03/white-house-asks-congress-for-32point5-billion-to-aid-ukraine-fight-covid.html\n",
            "\n",
            "\n",
            "9. Here are Credit Suisse’s top stock picks for March\n",
            "\t\tThu, 03 Mar 2022 15:45 GMT\n",
            "\t\thttps://www.cnbc.com/2022/03/03/here-are-credit-suisses-top-stock-picks-for-march.html\n",
            "\n",
            "\n",
            "10. Citigroup CEO Jane Fraser sees 'tremendous upside' in stock after tepid Investor Day response\n",
            "\t\tThu, 03 Mar 2022 15:34 GMT\n",
            "\t\thttps://www.cnbc.com/2022/03/03/citigroup-ceo-jane-fraser-sees-tremendous-upside-in-stock-after-tepid-investor-day-response.html\n",
            "\n",
            "\n"
          ]
        }
      ]
    },
    {
      "cell_type": "markdown",
      "source": [
        ""
      ],
      "metadata": {
        "id": "6sNWaCliNmj_"
      }
    },
    {
      "cell_type": "markdown",
      "source": [
        "In the code above, we used the get_news() function to get the top news from nytimes.com. While extracting just a few of the data points, you can get all of them for further processing:\n",
        "\n",
        "* Title\n",
        "* Link\n",
        "* Authors\n",
        "* Tags\n",
        "* Date\n",
        "* Summary\n",
        "* Content\n",
        "* Link for Comments\n",
        "* Post_id\n",
        "\n",
        "While these were the tools to obtain news information, you can also use the “describe_url” function to get details related to websites. For example, we took 3 news URLs, and obtained this information related to them:"
      ],
      "metadata": {
        "id": "6MfhUigVNo9H"
      }
    },
    {
      "cell_type": "code",
      "source": [
        "from newscatcher import describe_url\n",
        "\n",
        "websites = ['nytimes.com', 'cnbc.com', 'cnn.com']\n",
        "\n",
        "for website in websites:\n",
        "   print(describe_url(website))"
      ],
      "metadata": {
        "colab": {
          "base_uri": "https://localhost:8080/"
        },
        "id": "ht7_ygsWO653",
        "outputId": "5e9b5950-164b-414f-b46e-a8ae0691d1d7"
      },
      "execution_count": 6,
      "outputs": [
        {
          "output_type": "stream",
          "name": "stdout",
          "text": [
            "{'url': 'nytimes.com', 'language': 'en', 'country': 'None', 'main_topic': 'news', 'topics': ['world', 'travel', 'tech', 'science', 'politics', 'news', 'food', 'finance', 'business']}\n",
            "{'url': 'cnbc.com', 'language': 'en', 'country': 'US', 'main_topic': 'news', 'topics': ['tech', 'sport', 'news', 'finance', 'business']}\n",
            "{'url': 'cnn.com', 'language': 'en', 'country': 'US', 'main_topic': 'news', 'topics': ['world', 'travel', 'tech', 'politics', 'news', 'entertainment', 'business']}\n"
          ]
        }
      ]
    },
    {
      "cell_type": "markdown",
      "source": [
        "You can see how it identified the 2nd and 3rd websites to be of Italian origin and the topics for all 3. Some data points like the country may not be available for all the websites since they are providing services worldwide."
      ],
      "metadata": {
        "id": "0G6rnniBPF9s"
      }
    },
    {
      "cell_type": "code",
      "source": [
        "from newscatcher import Newscatcher\n",
        "\n",
        "nc = Newscatcher(website = 'cnn.com')\n",
        "results = nc.get_news()\n",
        "\n",
        "# results.keys()\n",
        "# 'url', 'topic', 'language', 'country', 'articles'\n",
        "\n",
        "# Get the articles\n",
        "articles = results['articles']\n",
        "\n",
        "first_article_summary = articles[0]['summary']\n",
        "first_article_title = articles[0]['title']\n",
        "\n",
        "nc = Newscatcher(website = 'cnn.com', topic = 'politics')\n",
        "\n",
        "results = nc.get_news()\n",
        "articles = results['articles']\n",
        "\n",
        "\n",
        "from newscatcher import describe_url\n",
        "\n",
        "describe = describe_url('cnn.com')\n",
        "\n",
        "print(describe['topics'])\n"
      ],
      "metadata": {
        "colab": {
          "base_uri": "https://localhost:8080/"
        },
        "id": "pXQvz-faQT1q",
        "outputId": "07df373f-2fe4-4977-ded6-27a05450182d"
      },
      "execution_count": null,
      "outputs": [
        {
          "output_type": "stream",
          "name": "stdout",
          "text": [
            "['world', 'travel', 'tech', 'politics', 'news', 'entertainment', 'business']\n"
          ]
        }
      ]
    },
    {
      "cell_type": "code",
      "source": [
        "\n",
        "\n",
        "\n",
        "\n"
      ],
      "metadata": {
        "id": "6U-1kj0MLfTT"
      },
      "execution_count": null,
      "outputs": []
    }
  ]
}