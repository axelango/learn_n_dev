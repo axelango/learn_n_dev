{
  "nbformat": 4,
  "nbformat_minor": 0,
  "metadata": {
    "colab": {
      "name": "NewsCatcher_example.ipynb",
      "provenance": [],
      "collapsed_sections": [],
      "authorship_tag": "ABX9TyNKX99UlAjBwiFF1dwgbLn0",
      "include_colab_link": true
    },
    "kernelspec": {
      "name": "python3",
      "display_name": "Python 3"
    },
    "language_info": {
      "name": "python"
    }
  },
  "cells": [
    {
      "cell_type": "markdown",
      "metadata": {
        "id": "view-in-github",
        "colab_type": "text"
      },
      "source": [
        "<a href=\"https://colab.research.google.com/github/jgamel/learn_n_dev/blob/python_web_scrapping/NewsCatcher_example.ipynb\" target=\"_parent\"><img src=\"https://colab.research.google.com/assets/colab-badge.svg\" alt=\"Open In Colab\"/></a>"
      ]
    },
    {
      "cell_type": "markdown",
      "source": [
        "# NewsCatcher"
      ],
      "metadata": {
        "id": "rNpQHvlrLAsz"
      }
    },
    {
      "cell_type": "markdown",
      "source": [
        "This one is another open-source library created by our team that can be used in DIY projects. It’s a simple Python web scraping library that can be used for scraping news articles from almost any news website. It also enables you to gather details related to a news website. Let’s elaborate on this with the help of some examples and code.\n",
        "\n",
        "In case you want to grab the headlines from a news website, you can just create a Newscatcher object passing the website URL (remember to remove the HTTP and the www and just provide the website name and extension), and use the get_headlines() function to obtain the top headlines from the website. If you run the code below:"
      ],
      "metadata": {
        "id": "ibqc21CYLF1-"
      }
    },
    {
      "cell_type": "code",
      "source": [
        "from google.colab import drive\n",
        "drive.mount('/content/gdrive', force_remount=True)"
      ],
      "metadata": {
        "colab": {
          "base_uri": "https://localhost:8080/"
        },
        "id": "18HDVLtxLPFF",
        "outputId": "b0cc4576-4e45-4fa8-b306-ea4ae9743a97"
      },
      "execution_count": 2,
      "outputs": [
        {
          "output_type": "stream",
          "name": "stdout",
          "text": [
            "Mounted at /content/gdrive\n"
          ]
        }
      ]
    },
    {
      "cell_type": "code",
      "source": [
        "import sys\n",
        "sys.path.append('/content/gdrive/My Drive/Colab Notebooks')"
      ],
      "metadata": {
        "id": "0FF7k9cVLgzp"
      },
      "execution_count": 3,
      "outputs": []
    },
    {
      "cell_type": "code",
      "source": [
        "from newscatcher import Newscatcher, describe_url\n",
        "\n",
        "mm = Newscatcher(website = 'mediamatters.org')\n",
        "\n",
        "for index, headline in enumerate(mm.get_headlines()):\n",
        "   print(index, headline)"
      ],
      "metadata": {
        "colab": {
          "base_uri": "https://localhost:8080/"
        },
        "id": "5KBjbUVxLh76",
        "outputId": "c6752bf7-a75b-4424-ad94-6c71173ea5b2"
      },
      "execution_count": 4,
      "outputs": [
        {
          "output_type": "stream",
          "name": "stdout",
          "text": [
            "0 On MSNBC, Ex-GOP Staffer Details How The Purpose Of Voter ID Laws Is To \"Take People's Constitutional Rights Away\"\n",
            "1 Trump Adviser To MSNBC's Chris Hayes: \"I Admire The Passion\" In Stone's Threat To Disclose Delegate's Hotel Rooms\n",
            "2 Bill O'Reilly Says Ted Cruz Is Right About New York City Values\n",
            "3 How The Wash. Post Kicked Off The \"Qualified\" Argument Between Clinton And Sanders\n",
            "4 Fox's Bolling Criticizes Paid Family Leave: \"Socialism Is Spreading Across America\"\n",
            "5 Latest CMP Video Deceptively Attacks Planned Parenthood's Patient Consent Process\n",
            "6 A Look Back At Fox News' Interviews With Obama Ahead Of His Sunday Network Appearance\n",
            "7 Fox Host Claims That America Has \"Helped Enough\" With Syrian Refugee Crisis\n",
            "8 Wash. Post Reporter: \"It's Pretty Remarkable\" That Cable News Channels Have Shunned Trump Ally Roger Stone\n",
            "9 Mississippi Newspapers Criticize State Legislature For Passing Anti-LGBT Law\n",
            "10 Charles Barkley: \"The NBA Should Move The All-Star Game From Charlotte\" Due To Anti-LGBT Law\n",
            "11 Ellen DeGeneres: Mississippi's Anti-LGBT Bill Is The \"Definition Of Discrimination\"\n",
            "12 The Fox Primary For March: Trump Widens His Airtime Lead\n",
            "13 Morning Joe Panel: Hillary Clinton \"Clearly Did Not Say Bernie Sanders Was Not Qualified To Be President\"\n",
            "14 Jessica Williams And Transgender Activists Debunk The \"Bathroom Predator\" Myth On The Daily Show\n"
          ]
        }
      ]
    },
    {
      "cell_type": "code",
      "source": [
        "from newscatcher import Newscatcher, describe_url\n",
        "import json\n",
        "import time\n",
        "\n",
        "nyt = Newscatcher(website = 'nytimes.com')\n",
        "results = nyt.get_news()\n",
        "\n",
        "count = 0\n",
        "articles = results['articles']\n",
        "for article in articles[:10]:   \n",
        "   count+=1\n",
        "   print(\n",
        "     str(count) + \". \" + article[\"title\"] \\\n",
        "     + \"\\n\\t\\t\" + article[\"published\"] \\\n",
        "     + \"\\n\\t\\t\" + article[\"link\"]\\\n",
        "     + \"\\n\\n\"\n",
        "     )\n",
        "   time.sleep(0.33)"
      ],
      "metadata": {
        "colab": {
          "base_uri": "https://localhost:8080/"
        },
        "id": "rwa3Y3dvL5cL",
        "outputId": "6e1414bd-7c69-48c8-c0dc-bf3c30127f0b"
      },
      "execution_count": 5,
      "outputs": [
        {
          "output_type": "stream",
          "name": "stdout",
          "text": [
            "1. Putin Sends Mixed Signals on His Willingness to Negotiate\n",
            "\t\tFri, 25 Feb 2022 17:56:36 +0000\n",
            "\t\thttps://www.nytimes.com/live/2022/02/25/world/russia-ukraine-war\n",
            "\n",
            "\n",
            "2. After a vicious battle for Kharkiv: wreckage, a stuck rocket and artillery booms.\n",
            "\t\tFri, 25 Feb 2022 18:21:18 +0000\n",
            "\t\thttps://www.nytimes.com/2022/02/25/world/europe/kharkiv-ukraine-military.html\n",
            "\n",
            "\n",
            "3. Russia's Invasion of Ukraine Tests China's 'Sovereignty' Rhetoric\n",
            "\t\tFri, 25 Feb 2022 18:08:00 +0000\n",
            "\t\thttps://www.nytimes.com/2022/02/25/world/asia/china-russia-ukraine-sovereignty.html\n",
            "\n",
            "\n",
            "4. Russia will limit access to Facebook, a major platform for dissent.\n",
            "\t\tFri, 25 Feb 2022 17:39:03 +0000\n",
            "\t\thttps://www.nytimes.com/2022/02/25/world/europe/russia-facebook.html\n",
            "\n",
            "\n",
            "5. ‘I’ll Stand on the Side of Russia’: Pro-Putin Sentiment Spreads Online\n",
            "\t\tFri, 25 Feb 2022 18:00:48 +0000\n",
            "\t\thttps://www.nytimes.com/2022/02/25/technology/pro-russia-pro-putin-sentiment-spreads-online.html\n",
            "\n",
            "\n",
            "6. European Leaders Agree to a Second Wave of Russia Sanctions\n",
            "\t\tFri, 25 Feb 2022 17:03:34 +0000\n",
            "\t\thttps://www.nytimes.com/2022/02/25/world/europe/eu-russian-sanctions.html\n",
            "\n",
            "\n",
            "7. Why the Sanctions Against Russia Aren’t Tougher\n",
            "\t\tFri, 25 Feb 2022 11:34:23 +0000\n",
            "\t\thttps://www.nytimes.com/2022/02/25/briefing/russia-war-kyiv-ukraine-attack.html\n",
            "\n",
            "\n",
            "8. Judge Would Be First Black Woman to Serve as Justice\n",
            "\t\tFri, 25 Feb 2022 18:06:15 +0000\n",
            "\t\thttps://www.nytimes.com/live/2022/02/25/us/supreme-court-nominee-biden\n",
            "\n",
            "\n",
            "9. Judge Ketanji Brown Jackson: A Groundbreaking Pick Unlikely to Reshape the Supreme Court\n",
            "\t\tFri, 25 Feb 2022 14:21:18 +0000\n",
            "\t\thttps://www.nytimes.com/2022/02/25/us/politics/supreme-court-jackson-future.html\n",
            "\n",
            "\n",
            "10. Which Republicans Could Back Biden's Nominee?\n",
            "\t\tFri, 25 Feb 2022 16:20:05 +0000\n",
            "\t\thttps://www.nytimes.com/2022/02/25/us/republicans-ketanji-brown-jackson-supreme-court.html\n",
            "\n",
            "\n"
          ]
        }
      ]
    },
    {
      "cell_type": "markdown",
      "source": [
        ""
      ],
      "metadata": {
        "id": "6sNWaCliNmj_"
      }
    },
    {
      "cell_type": "markdown",
      "source": [
        "In the code above, we used the get_news() function to get the top news from nytimes.com. While extracting just a few of the data points, you can get all of them for further processing:\n",
        "\n",
        "* Title\n",
        "* Link\n",
        "* Authors\n",
        "* Tags\n",
        "* Date\n",
        "* Summary\n",
        "* Content\n",
        "* Link for Comments\n",
        "* Post_id\n",
        "\n",
        "While these were the tools to obtain news information, you can also use the “describe_url” function to get details related to websites. For example, we took 3 news URLs, and obtained this information related to them:"
      ],
      "metadata": {
        "id": "6MfhUigVNo9H"
      }
    },
    {
      "cell_type": "code",
      "source": [
        "from newscatcher import describe_url\n",
        "\n",
        "websites = ['nytimes.com', 'cronachediordinariorazzismo.org', 'libertaegiustizia.it']\n",
        "\n",
        "for website in websites:\n",
        "   print(describe_url(website))"
      ],
      "metadata": {
        "colab": {
          "base_uri": "https://localhost:8080/"
        },
        "id": "ht7_ygsWO653",
        "outputId": "5a0ddc80-e1f9-4106-d194-6cd16f1a81ea"
      },
      "execution_count": 6,
      "outputs": [
        {
          "output_type": "stream",
          "name": "stdout",
          "text": [
            "{'url': 'nytimes.com', 'language': 'en', 'country': 'None', 'main_topic': 'news', 'topics': ['world', 'travel', 'tech', 'science', 'politics', 'news', 'food', 'finance', 'business']}\n",
            "{'url': 'cronachediordinariorazzismo.org', 'language': 'it', 'country': 'None', 'main_topic': 'politics', 'topics': ['politics']}\n",
            "{'url': 'libertaegiustizia.it', 'language': 'it', 'country': 'None', 'main_topic': 'politics', 'topics': ['politics']}\n"
          ]
        }
      ]
    },
    {
      "cell_type": "markdown",
      "source": [
        "You can see how it identified the 2nd and 3rd websites to be of Italian origin and the topics for all 3. Some data points like the country may not be available for all the websites since they are providing services worldwide."
      ],
      "metadata": {
        "id": "0G6rnniBPF9s"
      }
    },
    {
      "cell_type": "code",
      "source": [
        "from newscatcher import Newscatcher\n",
        "\n",
        "nc = Newscatcher(website = 'nytimes.com')\n",
        "results = nc.get_news()\n",
        "\n",
        "# results.keys()\n",
        "# 'url', 'topic', 'language', 'country', 'articles'\n",
        "\n",
        "# Get the articles\n",
        "articles = results['articles']\n",
        "\n",
        "first_article_summary = articles[0]['summary']\n",
        "first_article_title = articles[0]['title']\n",
        "\n",
        "nc = Newscatcher(website = 'nytimes.com', topic = 'politics')\n",
        "\n",
        "results = nc.get_news()\n",
        "articles = results['articles']\n",
        "\n",
        "from newscatcher import describe_url\n",
        "\n",
        "describe = describe_url('nytimes.com')\n",
        "\n",
        "print(describe['topics'])\n",
        "\n",
        "\n"
      ],
      "metadata": {
        "colab": {
          "base_uri": "https://localhost:8080/"
        },
        "id": "pXQvz-faQT1q",
        "outputId": "66d93bb0-ed71-4f93-b5dd-3da7561add39"
      },
      "execution_count": 11,
      "outputs": [
        {
          "output_type": "stream",
          "name": "stdout",
          "text": [
            "['world', 'travel', 'tech', 'science', 'politics', 'news', 'food', 'finance', 'business']\n"
          ]
        }
      ]
    }
  ]
}