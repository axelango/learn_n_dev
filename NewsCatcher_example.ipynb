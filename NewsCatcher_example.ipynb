{
  "nbformat": 4,
  "nbformat_minor": 0,
  "metadata": {
    "colab": {
      "name": "NewsCatcher_example.ipynb",
      "provenance": [],
      "collapsed_sections": [],
      "authorship_tag": "ABX9TyMAAFKF6yh63BPOSR5gVobn",
      "include_colab_link": true
    },
    "kernelspec": {
      "name": "python3",
      "display_name": "Python 3"
    },
    "language_info": {
      "name": "python"
    }
  },
  "cells": [
    {
      "cell_type": "markdown",
      "metadata": {
        "id": "view-in-github",
        "colab_type": "text"
      },
      "source": [
        "<a href=\"https://colab.research.google.com/github/jgamel/learn_n_dev/blob/python_web_scrapping/NewsCatcher_example.ipynb\" target=\"_parent\"><img src=\"https://colab.research.google.com/assets/colab-badge.svg\" alt=\"Open In Colab\"/></a>"
      ]
    },
    {
      "cell_type": "markdown",
      "source": [
        "# NewsCatcher"
      ],
      "metadata": {
        "id": "rNpQHvlrLAsz"
      }
    },
    {
      "cell_type": "markdown",
      "source": [
        "This one is another open-source library created that can be used in DIY projects. It’s a simple Python web scraping library that can be used for scraping news articles from almost any news website. It also enables you to gather details related to a news website. Let’s elaborate on this with the help of some examples and code.\n",
        "\n",
        "In case you want to grab the headlines from a news website, you can just create a Newscatcher object passing the website URL (remember to remove the HTTP and the www and just provide the website name and extension), and use the get_headlines() function to obtain the top headlines from the website. If you run the code below:"
      ],
      "metadata": {
        "id": "ibqc21CYLF1-"
      }
    },
    {
      "cell_type": "markdown",
      "source": [
        "Mount Drive:"
      ],
      "metadata": {
        "id": "COz7lHTHI7cT"
      }
    },
    {
      "cell_type": "code",
      "source": [
        "from google.colab import drive\n",
        "drive.mount('/content/gdrive', force_remount=True)"
      ],
      "metadata": {
        "colab": {
          "base_uri": "https://localhost:8080/"
        },
        "id": "18HDVLtxLPFF",
        "outputId": "d6985def-f909-4137-9cf0-3cbeef596d51"
      },
      "execution_count": null,
      "outputs": [
        {
          "output_type": "stream",
          "name": "stdout",
          "text": [
            "Mounted at /content/gdrive\n"
          ]
        }
      ]
    },
    {
      "cell_type": "code",
      "source": [
        "import sys\n",
        "sys.path.append('/content/gdrive/My Drive/Colab Notebooks')"
      ],
      "metadata": {
        "id": "0FF7k9cVLgzp"
      },
      "execution_count": null,
      "outputs": []
    },
    {
      "cell_type": "markdown",
      "source": [
        "### Example 1:"
      ],
      "metadata": {
        "id": "qWKQvKFbI-gF"
      }
    },
    {
      "cell_type": "markdown",
      "source": [
        "Get Headlines"
      ],
      "metadata": {
        "id": "LR98Of5lJNQR"
      }
    },
    {
      "cell_type": "code",
      "source": [
        "from newscatcher import Newscatcher, describe_url\n",
        "\n",
        "mm = Newscatcher(website = 'cnn.com')\n",
        "\n",
        "for index, headline in enumerate(mm.get_headlines()):\n",
        "   print(index, headline)"
      ],
      "metadata": {
        "colab": {
          "base_uri": "https://localhost:8080/"
        },
        "id": "5KBjbUVxLh76",
        "outputId": "c7fa08e6-0153-45f0-b283-b021b5b18b37"
      },
      "execution_count": null,
      "outputs": [
        {
          "output_type": "stream",
          "name": "stdout",
          "text": [
            "0 White House responds to Russia's decision to put deterrence forces on high alert\n",
            "1 What these Ukrainian Americans want you to know\n",
            "2 Zelensky agrees to talks Monday as Putin raises nuclear alert and West adds sanctions\n",
            "3 Catch up: Here are some of the ways countries are responding\n",
            "4 Berdyansk: Russians have taken control of southern Ukrainian town, mayor says\n",
            "5 Casualties: Ukraine Interior Ministry says 352 civilians killed\n",
            "6 Putin's lie: His justification for invasion draws outrage\n",
            "7 Fighting back: See how Ukrainians are defending their country\n",
            "8 Video appears to show Russian vehicles destroyed after battle\n",
            "9 World's largest plane reportedly destroyed in Ukraine\n",
            "10 US embassy warns Americans in Russia should consider leaving 'immediately'\n",
            "11 Russian invasion runs into stiff resistance, supply lines are a 'definite vulnerability,' US officials say\n",
            "12 In pictures: The world rallies in support of Ukraine\n",
            "13 Romney reacts to Obama mocking his Russia warning 10 years ago\n",
            "14 He won a $10 million lottery for the second time\n",
            "15 A category 4 atmospheric river is forecast to drench the Pacific Northwest early this week\n",
            "16 'SNL' host pokes fun at his drug rehab experience\n",
            "17 'SNL' returns from hiatus with a powerful tribute to Ukraine\n",
            "18 Blake Lively and Ryan Reynolds pledge to match donations for Ukrainian refugees up to $1 million\n",
            "19 One person, two dogs killed in Colorado avalanche\n",
            "20 Drawbridge opens while driver is still on it\n",
            "21 Analysis: Why Martin Luther King Jr.'s philosophy of nonviolence matters now more than ever\n",
            "22 BitConnect founder charged with orchestrating $2 billion Ponzi scheme\n",
            "23 See Drew Barrymore's reaction to surprise visit from Penn Badgley\n",
            "24 6 Brilliant Ways To Grow Your Wealth In 2022\n",
            "25 Liz Cheney calls out fellow House Republicans for associating with White nationalist event\n",
            "26 Vice President Harris interviewed Supreme Court finalists, according to White House official\n",
            "27 Analysis: Ketanji Brown Jackson's nomination is about more than symbolism -- it's about change\n",
            "28 'Almost treasonous': Romney on pro-Putin sentiment in GOP\n",
            "29 Democrats look to win back Latino voters after Trump's inroads in South Texas\n",
            "30 Trump defends praise of Putin even as he calls Ukrainian President 'brave'\n",
            "31 Trump wins CPAC straw poll\n",
            "32 What Biden's infrastructure law has done so far\n",
            "33 Analysis: Meet the newest Republican rising star\n",
            "34 Podcast: How far will Putin go? Clarissa Ward brings us the latest from Kyiv.\n",
            "35 Studies offer further evidence that the coronavirus pandemic began in animals in Wuhan market\n",
            "36 One treatment for Covid cuts patients' chance of dying by half. Most won't be able to get it\n",
            "37 FDA doubles dosage of Covid-19 monoclonal antibody, raising concerns about access and supply\n",
            "38 The Italian city unchanged since the Renaissance\n",
            "39 New documents reveal abolitionist's court case to free her child from slavery\n",
            "40 More than 600 US geographic sites will be renamed, replacing a derogatory term for Indigenous women used for decades\n",
            "41 Pedestrians dodge ice sheets falling from NYC skyscrapers\n",
            "42 States want to boycott Russian vodka. Here's why that won't work\n",
            "43 Malls aren't for shopping anymore. Instead, think pickleball and craft beer\n",
            "44 These companies have the most to lose from Russia's attack\n",
            "45 30 travel essentials you need to pack for your next vacation\n",
            "46 How to access some of the world's best airport lounges\n",
            "47 37 FSA eligible items to spend your FSA dollars on before they expire\n",
            "48 Allbirds' just-launched sneakers are better for the trail & more sustainable\n",
            "49 How to get pet hair off of literally everything, according to experts\n",
            "50 Samsung Galaxy S22 vs. S22+ vs. S22 Ultra: Which is right for you?\n",
            "51 Masks fogging up your glasses? We found the best anti-fog sprays and wipes\n",
            "52 We tried the latest bed-in-a-box brand, and were seriously impressed\n",
            "53 Just 38 items that will make you happy in 2022\n",
            "54 Take 20% off cozy throws at Baublebar with this exclusive deal\n",
            "55 15 weekly meal planners that'll make your life much easier\n",
            "56 Earn up to 100,000 bonus points with these Marriott credit card offers\n",
            "57 The price Vladimir Putin will pay\n",
            "58 President Zelensky is a profile in courage\n",
            "59 Putin's war was launched on a runway of lies\n",
            "60 A huge opportunity for an embattled Biden\n",
            "61 Putin isn't likely to stop here\n",
            "62 Seven crucial questions about the war in Ukraine\n",
            "63 Ketanji Brown Jackson's GOP kryptonite\n",
            "64 Bianna Golodryga on how President Putin's views have evolved in recent years\n",
            "65 How small acts of kindness combat loneliness\n",
            "66 Moorea 4-Star Vacation incl. Air & Breakfast\n",
            "67 $399 & up -- Icelandair Flight Sale to Europe\n",
            "68 Save on Your Mortgage. Find Offers in Two Minutes\n"
          ]
        }
      ]
    },
    {
      "cell_type": "markdown",
      "source": [
        "### Example 2:"
      ],
      "metadata": {
        "id": "wDPYVwG5Jqrp"
      }
    },
    {
      "cell_type": "markdown",
      "source": [
        "Get News Title, Date, & URL"
      ],
      "metadata": {
        "id": "theHg5xbJuDX"
      }
    },
    {
      "cell_type": "code",
      "source": [
        "from newscatcher import Newscatcher, describe_url\n",
        "import json\n",
        "import time\n",
        "\n",
        "nyt = Newscatcher(website = 'cnbc.com')\n",
        "results = nyt.get_news()\n",
        "\n",
        "count = 0\n",
        "articles = results['articles']\n",
        "for article in articles[:10]:   \n",
        "   count+=1\n",
        "   print(\n",
        "     str(count) + \". \" + article[\"title\"] \\\n",
        "     + \"\\n\\t\\t\" + article[\"published\"] \\\n",
        "     + \"\\n\\t\\t\" + article[\"link\"]\\\n",
        "     + \"\\n\\n\"\n",
        "     )\n",
        "   time.sleep(0.33)"
      ],
      "metadata": {
        "colab": {
          "base_uri": "https://localhost:8080/"
        },
        "id": "rwa3Y3dvL5cL",
        "outputId": "3917514d-9fc8-4c1b-962f-f6f44cb77150"
      },
      "execution_count": null,
      "outputs": [
        {
          "output_type": "stream",
          "name": "stdout",
          "text": [
            "1. EU says it will fund arms deliveries to Ukraine and hit Russia with new sanctions\n",
            "\t\tSun, 27 Feb 2022 17:54 GMT\n",
            "\t\thttps://www.cnbc.com/2022/02/27/eu-says-it-will-fund-arms-deliveries-to-ukraine-and-hit-russia-with-new-sanctions.html\n",
            "\n",
            "\n",
            "2. Germany announces major defense policy shift in face of Russia's Ukraine invasion\n",
            "\t\tSun, 27 Feb 2022 11:47 GMT\n",
            "\t\thttps://www.cnbc.com/2022/02/27/scholz-germany-pledges-defense-spending-increase-in-shift-in-strategy.html\n",
            "\n",
            "\n",
            "3. Ukraine hospitals could run out of oxygen in 24 hours as war disrupts health services, WHO says\n",
            "\t\tSun, 27 Feb 2022 21:08 GMT\n",
            "\t\thttps://www.cnbc.com/2022/02/27/ukraine-hospitals-could-run-out-of-oxygen-supplies-in-24-hours-who-says.html\n",
            "\n",
            "\n",
            "4. BP offloads its nearly 20% stake in Russia's Rosneft\n",
            "\t\tSun, 27 Feb 2022 17:28 GMT\n",
            "\t\thttps://www.cnbc.com/2022/02/27/bp-offloads-stake-in-russias-rosneft.html\n",
            "\n",
            "\n",
            "5. 'Stiff Ukrainian resistance' thwarts Russian advances, inflicts casualties\n",
            "\t\tSun, 27 Feb 2022 02:10 GMT\n",
            "\t\thttps://www.cnbc.com/2022/02/27/stiff-ukrainian-resistance-continues-to-hamper-russian-troops.html\n",
            "\n",
            "\n",
            "6. Canada, Nordic countries join in closing their airspace to Russian planes\n",
            "\t\tSun, 27 Feb 2022 16:18 GMT\n",
            "\t\thttps://www.cnbc.com/2022/02/27/canada-nordic-countries-join-in-closing-their-airspace-to-russian-planes.html\n",
            "\n",
            "\n",
            "7. EU, UK, Canada, US pledge to remove selected Russian banks from interbank messaging system SWIFT\n",
            "\t\tSat, 26 Feb 2022 22:14 GMT\n",
            "\t\thttps://www.cnbc.com/2022/02/26/eu-uk-canada-us-pledge-to-remove-selected-russian-banks-from-swift.html\n",
            "\n",
            "\n",
            "8. Ukraine government raises over $10 million in cryptocurrency donations\n",
            "\t\tSun, 27 Feb 2022 15:19 GMT\n",
            "\t\thttps://www.cnbc.com/2022/02/27/ukraine-government-raises-over-10-million-in-cryptocurrency-donations.html\n",
            "\n",
            "\n",
            "9. Op-ed: The Ukraine crisis is a test of the West’s course-correct on Putin, who they've appeased too long\n",
            "\t\tSun, 27 Feb 2022 16:21 GMT\n",
            "\t\thttps://www.cnbc.com/2022/02/27/op-ed-putin-is-what-happens-when-despots-are-appeased-for-too-long.html\n",
            "\n",
            "\n",
            "10. Berkshire's operating earnings surge as Buffett repurchases record $27 billion in stock during 2021\n",
            "\t\tSat, 26 Feb 2022 14:26 GMT\n",
            "\t\thttps://www.cnbc.com/2022/02/26/berkshire-hathaway-brk-earnings-q4-2021.html\n",
            "\n",
            "\n"
          ]
        }
      ]
    },
    {
      "cell_type": "markdown",
      "source": [
        ""
      ],
      "metadata": {
        "id": "6sNWaCliNmj_"
      }
    },
    {
      "cell_type": "markdown",
      "source": [
        "In the code above, we used the get_news() function to get the top news from nytimes.com. While extracting just a few of the data points, you can get all of them for further processing:\n",
        "\n",
        "* Title\n",
        "* Link\n",
        "* Authors\n",
        "* Tags\n",
        "* Date\n",
        "* Summary\n",
        "* Content\n",
        "* Link for Comments\n",
        "* Post_id\n",
        "\n",
        "While these were the tools to obtain news information, you can also use the “describe_url” function to get details related to websites. For example, we took 3 news URLs, and obtained this information related to them:"
      ],
      "metadata": {
        "id": "6MfhUigVNo9H"
      }
    },
    {
      "cell_type": "code",
      "source": [
        "from newscatcher import describe_url\n",
        "\n",
        "websites = ['nytimes.com', 'cnbc.com', 'cnn.com']\n",
        "\n",
        "for website in websites:\n",
        "   print(describe_url(website))"
      ],
      "metadata": {
        "colab": {
          "base_uri": "https://localhost:8080/"
        },
        "id": "ht7_ygsWO653",
        "outputId": "9991833f-2a37-4f78-d82c-6407a744284a"
      },
      "execution_count": null,
      "outputs": [
        {
          "output_type": "stream",
          "name": "stdout",
          "text": [
            "{'url': 'nytimes.com', 'language': 'en', 'country': 'None', 'main_topic': 'news', 'topics': ['world', 'travel', 'tech', 'science', 'politics', 'news', 'food', 'finance', 'business']}\n",
            "{'url': 'cnbc.com', 'language': 'en', 'country': 'US', 'main_topic': 'news', 'topics': ['tech', 'sport', 'news', 'finance', 'business']}\n",
            "{'url': 'cnn.com', 'language': 'en', 'country': 'US', 'main_topic': 'news', 'topics': ['world', 'travel', 'tech', 'politics', 'news', 'entertainment', 'business']}\n"
          ]
        }
      ]
    },
    {
      "cell_type": "markdown",
      "source": [
        "You can see how it identified the 2nd and 3rd websites to be of Italian origin and the topics for all 3. Some data points like the country may not be available for all the websites since they are providing services worldwide."
      ],
      "metadata": {
        "id": "0G6rnniBPF9s"
      }
    },
    {
      "cell_type": "code",
      "source": [
        "from newscatcher import Newscatcher\n",
        "\n",
        "nc = Newscatcher(website = 'cnn.com')\n",
        "results = nc.get_news()\n",
        "\n",
        "# results.keys()\n",
        "# 'url', 'topic', 'language', 'country', 'articles'\n",
        "\n",
        "# Get the articles\n",
        "articles = results['articles']\n",
        "\n",
        "first_article_summary = articles[0]['summary']\n",
        "first_article_title = articles[0]['title']\n",
        "\n",
        "nc = Newscatcher(website = 'cnn.com', topic = 'politics')\n",
        "\n",
        "results = nc.get_news()\n",
        "articles = results['articles']\n",
        "\n",
        "\n",
        "from newscatcher import describe_url\n",
        "\n",
        "describe = describe_url('cnn.com')\n",
        "\n",
        "print(describe['topics'])\n"
      ],
      "metadata": {
        "colab": {
          "base_uri": "https://localhost:8080/"
        },
        "id": "pXQvz-faQT1q",
        "outputId": "07df373f-2fe4-4977-ded6-27a05450182d"
      },
      "execution_count": null,
      "outputs": [
        {
          "output_type": "stream",
          "name": "stdout",
          "text": [
            "['world', 'travel', 'tech', 'politics', 'news', 'entertainment', 'business']\n"
          ]
        }
      ]
    },
    {
      "cell_type": "code",
      "source": [
        "\n",
        "\n",
        "\n",
        "\n"
      ],
      "metadata": {
        "id": "6U-1kj0MLfTT"
      },
      "execution_count": null,
      "outputs": []
    }
  ]
}