{
  "nbformat": 4,
  "nbformat_minor": 0,
  "metadata": {
    "colab": {
      "name": "polynomial_regression_example.ipynb",
      "provenance": [],
      "authorship_tag": "ABX9TyM3zEcvEyMXt7uRY+QRjkOj",
      "include_colab_link": true
    },
    "kernelspec": {
      "name": "python3",
      "display_name": "Python 3"
    },
    "language_info": {
      "name": "python"
    }
  },
  "cells": [
    {
      "cell_type": "markdown",
      "metadata": {
        "id": "view-in-github",
        "colab_type": "text"
      },
      "source": [
        "<a href=\"https://colab.research.google.com/github/jgamel/learn_n_dev/blob/python_ds_examples/polynomial_regression_example.ipynb\" target=\"_parent\"><img src=\"https://colab.research.google.com/assets/colab-badge.svg\" alt=\"Open In Colab\"/></a>"
      ]
    },
    {
      "cell_type": "markdown",
      "source": [
        "# Polynomial Regression With scikit-learn\n",
        "\n",
        "Implementing polynomial regression with scikit-learn is very similar to linear regression. There is only one extra step: you need to transform the array of inputs to include non-linear terms such as 𝑥²."
      ],
      "metadata": {
        "id": "94yLuuYBGP1-"
      }
    },
    {
      "cell_type": "markdown",
      "source": [
        "### Step 1: Import packages and classes\n",
        "\n",
        "In addition to numpy and sklearn.linear_model.LinearRegression, you should also import the class PolynomialFeatures from sklearn.preprocessing:"
      ],
      "metadata": {
        "id": "1KypQu6OGm68"
      }
    },
    {
      "cell_type": "code",
      "execution_count": null,
      "metadata": {
        "id": "mP22pZL6GFS3"
      },
      "outputs": [],
      "source": [
        "import numpy as np\n",
        "from sklearn.linear_model import LinearRegression\n",
        "from sklearn.preprocessing import PolynomialFeatures"
      ]
    },
    {
      "cell_type": "markdown",
      "source": [
        "### Step 2a: Provide data\n",
        "\n",
        "This step defines the input and output and is the same as in the case of linear regression:"
      ],
      "metadata": {
        "id": "L_QakIyFHZ67"
      }
    },
    {
      "cell_type": "code",
      "source": [
        "x = np.array([5, 15, 25, 35, 45, 55]).reshape((-1, 1))\n",
        "y = np.array([15, 11, 2, 8, 25, 32])"
      ],
      "metadata": {
        "id": "vSEpGccpHnCf"
      },
      "execution_count": null,
      "outputs": []
    },
    {
      "cell_type": "markdown",
      "source": [
        "Now you have the input and output in a suitable format. Keep in mind that you need the input to be a two-dimensional array. That’s why .reshape() is used."
      ],
      "metadata": {
        "id": "5IQUfLJ0H0zb"
      }
    },
    {
      "cell_type": "markdown",
      "source": [
        "### Step 2b: Transform input data\n",
        "\n",
        "This is the new step you need to implement for polynomial regression!\n",
        "\n",
        "As you’ve seen earlier, you need to include 𝑥² (and perhaps other terms) as additional features when implementing polynomial regression. For that reason, you should transform the input array x to contain the additional column(s) with the values of 𝑥² (and eventually more features).\n",
        "\n",
        "It’s possible to transform the input array in several ways (like using insert() from numpy), but the class PolynomialFeatures is very convenient for this purpose. Let’s create an instance of this class:"
      ],
      "metadata": {
        "id": "MfqENKCRH_8S"
      }
    },
    {
      "cell_type": "code",
      "source": [
        "transformer = PolynomialFeatures(degree=2, include_bias=False)\n"
      ],
      "metadata": {
        "id": "Z3Neyq2WIBHl"
      },
      "execution_count": null,
      "outputs": []
    },
    {
      "cell_type": "markdown",
      "source": [
        "he variable transformer refers to an instance of PolynomialFeatures which you can use to transform the input x.\n",
        "\n",
        "You can provide several optional parameters to PolynomialFeatures:\n",
        "\n",
        "degree is an integer (2 by default) that represents the degree of the polynomial regression function.\n",
        "interaction_only is a Boolean (False by default) that decides whether to include only interaction features (True) or all features (False).\n",
        "include_bias is a Boolean (True by default) that decides whether to include the bias (intercept) column of ones (True) or not (False).\n",
        "This example uses the default values of all parameters, but you’ll sometimes want to experiment with the degree of the function, and it can be beneficial to provide this argument anyway.\n",
        "\n",
        "Before applying transformer, you need to fit it with .fit():"
      ],
      "metadata": {
        "id": "pyw8L7FOIcT_"
      }
    },
    {
      "cell_type": "code",
      "source": [
        "transformer.fit(x)"
      ],
      "metadata": {
        "colab": {
          "base_uri": "https://localhost:8080/"
        },
        "id": "1fCNKsG-IdG5",
        "outputId": "6369cbce-0f49-4396-cf89-40ea14498d4d"
      },
      "execution_count": null,
      "outputs": [
        {
          "output_type": "execute_result",
          "data": {
            "text/plain": [
              "PolynomialFeatures(include_bias=False)"
            ]
          },
          "metadata": {},
          "execution_count": 7
        }
      ]
    },
    {
      "cell_type": "markdown",
      "source": [
        "Once transformer is fitted, it’s ready to create a new, modified input. You apply .transform() to do that:"
      ],
      "metadata": {
        "id": "UEeIkR8hIkKI"
      }
    },
    {
      "cell_type": "code",
      "source": [
        "x_ = transformer.transform(x)"
      ],
      "metadata": {
        "id": "rT1npjEpIk3i"
      },
      "execution_count": null,
      "outputs": []
    },
    {
      "cell_type": "markdown",
      "source": [
        "That’s the transformation of the input array with .transform(). It takes the input array as the argument and returns the modified array.\n",
        "\n",
        "You can also use .fit_transform() to replace the three previous statements with only one:"
      ],
      "metadata": {
        "id": "erOzUaIDIske"
      }
    },
    {
      "cell_type": "code",
      "source": [
        "x_ = PolynomialFeatures(degree=2, include_bias=False).fit_transform(x)"
      ],
      "metadata": {
        "id": "zNkrhT_uItYT"
      },
      "execution_count": null,
      "outputs": []
    },
    {
      "cell_type": "markdown",
      "source": [
        "That’s fitting and transforming the input array in one statement with .fit_transform(). It also takes the input array and effectively does the same thing as .fit() and .transform() called in that order. It also returns the modified array. This is how the new input array looks:"
      ],
      "metadata": {
        "id": "apdxmj27I2Py"
      }
    },
    {
      "cell_type": "code",
      "source": [
        "print(x_)"
      ],
      "metadata": {
        "colab": {
          "base_uri": "https://localhost:8080/"
        },
        "id": "6U8KdSxzI2_s",
        "outputId": "1da5fc38-85a2-412a-aeec-52ee50443c6d"
      },
      "execution_count": null,
      "outputs": [
        {
          "output_type": "stream",
          "name": "stdout",
          "text": [
            "[[   5.   25.]\n",
            " [  15.  225.]\n",
            " [  25.  625.]\n",
            " [  35. 1225.]\n",
            " [  45. 2025.]\n",
            " [  55. 3025.]]\n"
          ]
        }
      ]
    },
    {
      "cell_type": "markdown",
      "source": [
        "The modified input array contains two columns: one with the original inputs and the other with their squares.\n",
        "\n",
        "You can find more information about PolynomialFeatures on the [official documentation page](https://scikit-learn.org/stable/modules/generated/sklearn.preprocessing.PolynomialFeatures.html)."
      ],
      "metadata": {
        "id": "qRp4_OJmI-f4"
      }
    },
    {
      "cell_type": "markdown",
      "source": [
        "### Step 3: Create a model and fit it\n",
        "\n",
        "This step is also the same as in the case of linear regression. You create and fit the model:\n",
        "\n"
      ],
      "metadata": {
        "id": "bv_I0uy7JJ9s"
      }
    },
    {
      "cell_type": "code",
      "source": [
        "model = LinearRegression().fit(x_, y)"
      ],
      "metadata": {
        "id": "zlVsaLnAJOmO"
      },
      "execution_count": null,
      "outputs": []
    },
    {
      "cell_type": "markdown",
      "source": [
        "The regression model is now created and fitted. It’s ready for application.\n",
        "\n",
        "You should keep in mind that the first argument of .fit() is the modified input array x_ and not the original x."
      ],
      "metadata": {
        "id": "iOjDazLlJaF6"
      }
    },
    {
      "cell_type": "markdown",
      "source": [
        "### Step 4: Get results\n",
        "\n",
        "You can obtain the properties of the model the same way as in the case of linear regression:"
      ],
      "metadata": {
        "id": "0MqQKmh2JbPd"
      }
    },
    {
      "cell_type": "code",
      "source": [
        "r_sq = model.score(x_, y)\n",
        "\n",
        "print('coefficient of determination:', r_sq)\n",
        "\n",
        "print('intercept:', model.intercept_)\n",
        "\n",
        "print('coefficients:', model.coef_)\n"
      ],
      "metadata": {
        "colab": {
          "base_uri": "https://localhost:8080/"
        },
        "id": "K0zUNCtrJjds",
        "outputId": "88514861-b01f-49f5-b185-cc20d95fba13"
      },
      "execution_count": null,
      "outputs": [
        {
          "output_type": "stream",
          "name": "stdout",
          "text": [
            "coefficient of determination: 0.8908516262498563\n",
            "intercept: 21.37232142857144\n",
            "coefficients: [-1.32357143  0.02839286]\n"
          ]
        }
      ]
    },
    {
      "cell_type": "markdown",
      "source": [
        "Again, .score() returns 𝑅². Its first argument is also the modified input x_, not x. The values of the weights are associated to .intercept_ and .coef_: .intercept_ represents 𝑏₀, while .coef_ references the array that contains 𝑏₁ and 𝑏₂ respectively.\n",
        "\n",
        "You can obtain a very similar result with different transformation and regression arguments:"
      ],
      "metadata": {
        "id": "erKpoehsJ2Xn"
      }
    },
    {
      "cell_type": "code",
      "source": [
        "x_ = PolynomialFeatures(degree=2, include_bias=True).fit_transform(x)"
      ],
      "metadata": {
        "id": "EURYL6CGJ3JQ"
      },
      "execution_count": null,
      "outputs": []
    },
    {
      "cell_type": "markdown",
      "source": [
        "If you call PolynomialFeatures with the default parameter include_bias=True (or if you just omit it), you’ll obtain the new input array x_ with the additional leftmost column containing only ones. This column corresponds to the intercept. This is how the modified input array looks in this case:"
      ],
      "metadata": {
        "id": "yeYKOgLdJ_iF"
      }
    },
    {
      "cell_type": "code",
      "source": [
        "print(x_)"
      ],
      "metadata": {
        "colab": {
          "base_uri": "https://localhost:8080/"
        },
        "id": "MDmXGbWBKDwF",
        "outputId": "c7970ace-0859-429d-db4e-c8a6505cdce4"
      },
      "execution_count": null,
      "outputs": [
        {
          "output_type": "stream",
          "name": "stdout",
          "text": [
            "[[1.000e+00 5.000e+00 2.500e+01]\n",
            " [1.000e+00 1.500e+01 2.250e+02]\n",
            " [1.000e+00 2.500e+01 6.250e+02]\n",
            " [1.000e+00 3.500e+01 1.225e+03]\n",
            " [1.000e+00 4.500e+01 2.025e+03]\n",
            " [1.000e+00 5.500e+01 3.025e+03]]\n"
          ]
        }
      ]
    },
    {
      "cell_type": "markdown",
      "source": [
        "The first column of x_ contains ones, the second has the values of x, while the third holds the squares of x.\n",
        "\n",
        "The intercept is already included with the leftmost column of ones, and you don’t need to include it again when creating the instance of LinearRegression. Thus, you can provide fit_intercept=False. This is how the next statement looks:"
      ],
      "metadata": {
        "id": "UxLTl_dyKFwD"
      }
    },
    {
      "cell_type": "code",
      "source": [
        "model = LinearRegression(fit_intercept=False).fit(x_, y)"
      ],
      "metadata": {
        "id": "_FP6zRM_KQEY"
      },
      "execution_count": null,
      "outputs": []
    },
    {
      "cell_type": "markdown",
      "source": [
        "The variable model again corresponds to the new input array x_. Therefore x_ should be passed as the first argument instead of x.\n",
        "\n",
        "This approach yields the following results, which are similar to the previous case:"
      ],
      "metadata": {
        "id": "10GbeyzgKRWW"
      }
    },
    {
      "cell_type": "code",
      "source": [
        "r_sq = model.score(x_, y)\n",
        "\n",
        "print('coefficient of determination:', r_sq)\n",
        "\n",
        "print('intercept:', model.intercept_)\n",
        "\n",
        "print('coefficients:', model.coef_)\n"
      ],
      "metadata": {
        "colab": {
          "base_uri": "https://localhost:8080/"
        },
        "id": "i5IiRnOWKUh5",
        "outputId": "79990358-182f-4723-ad69-a764fda2b69c"
      },
      "execution_count": null,
      "outputs": [
        {
          "output_type": "stream",
          "name": "stdout",
          "text": [
            "coefficient of determination: 0.8908516262498564\n",
            "intercept: 0.0\n",
            "coefficients: [21.37232143 -1.32357143  0.02839286]\n"
          ]
        }
      ]
    },
    {
      "cell_type": "markdown",
      "source": [
        "You see that now .intercept_ is zero, but .coef_ actually contains 𝑏₀ as its first element. Everything else is the same."
      ],
      "metadata": {
        "id": "IwI4ONVEKlrh"
      }
    },
    {
      "cell_type": "markdown",
      "source": [
        "### Step 5: Predict response\n",
        "\n",
        "If you want to get the predicted response, just use .predict(), but remember that the argument should be the modified input x_ instead of the old x:"
      ],
      "metadata": {
        "id": "gqgjPHwxKooj"
      }
    },
    {
      "cell_type": "code",
      "source": [
        "y_pred = model.predict(x_)\n",
        "\n",
        "print('predicted response:', y_pred, sep='\\n')\n"
      ],
      "metadata": {
        "colab": {
          "base_uri": "https://localhost:8080/"
        },
        "id": "0D2Ajo2vKtDd",
        "outputId": "5446ea47-9cb5-4186-9453-a58fabb6986c"
      },
      "execution_count": null,
      "outputs": [
        {
          "output_type": "stream",
          "name": "stdout",
          "text": [
            "predicted response:\n",
            "[15.46428571  7.90714286  6.02857143  9.82857143 19.30714286 34.46428571]\n"
          ]
        }
      ]
    },
    {
      "cell_type": "markdown",
      "source": [
        "As you can see, the prediction works almost the same way as in the case of linear regression. It just requires the modified input instead of the original."
      ],
      "metadata": {
        "id": "O8c4YJPEK7vA"
      }
    },
    {
      "cell_type": "markdown",
      "source": [
        "You can apply the identical procedure if you have several input variables. You’ll have an input array with more than one column, but everything else is the same. Here is an example:"
      ],
      "metadata": {
        "id": "LgZrmxqrpUgH"
      }
    },
    {
      "cell_type": "markdown",
      "source": [
        "### Step 1: Import packages"
      ],
      "metadata": {
        "id": "iAibCswSpbKs"
      }
    },
    {
      "cell_type": "code",
      "source": [
        "import numpy as np\n",
        "from sklearn.linear_model import LinearRegression\n",
        "from sklearn.preprocessing import PolynomialFeatures"
      ],
      "metadata": {
        "id": "vBOXH4sFpd0F"
      },
      "execution_count": null,
      "outputs": []
    },
    {
      "cell_type": "markdown",
      "source": [
        "### Step 2a: Provide data"
      ],
      "metadata": {
        "id": "yyRWdY3TsARz"
      }
    },
    {
      "cell_type": "code",
      "source": [
        "x = [[0, 1], [5, 1], [15, 2], [25, 5], [35, 11], [45, 15], [55, 34], [60, 35]]\n",
        "y = [4, 5, 20, 14, 32, 22, 38, 43]\n",
        "x, y = np.array(x), np.array(y)"
      ],
      "metadata": {
        "id": "xLGKNZSXsLJD"
      },
      "execution_count": null,
      "outputs": []
    },
    {
      "cell_type": "markdown",
      "source": [
        "### Step 2b: Transform input data"
      ],
      "metadata": {
        "id": "mTRW73KtsTlC"
      }
    },
    {
      "cell_type": "code",
      "source": [
        "x_ = PolynomialFeatures(degree=2, include_bias=False).fit_transform(x)"
      ],
      "metadata": {
        "id": "KlgSG8tNsVPM"
      },
      "execution_count": null,
      "outputs": []
    },
    {
      "cell_type": "markdown",
      "source": [
        "### Step 3: Create a model and fit it"
      ],
      "metadata": {
        "id": "AXbTt2htspWq"
      }
    },
    {
      "cell_type": "code",
      "source": [
        "model = LinearRegression().fit(x_, y)"
      ],
      "metadata": {
        "id": "NbB5oKEDsuoY"
      },
      "execution_count": null,
      "outputs": []
    },
    {
      "cell_type": "markdown",
      "source": [
        "### Step 4: Get results"
      ],
      "metadata": {
        "id": "OjXVvBu7s1pa"
      }
    },
    {
      "cell_type": "code",
      "source": [
        "r_sq = model.score(x_, y)\n",
        "intercept, coefficients = model.intercept_, model.coef_"
      ],
      "metadata": {
        "id": "w63De0las6kD"
      },
      "execution_count": null,
      "outputs": []
    },
    {
      "cell_type": "markdown",
      "source": [
        "### Step 5: Predict"
      ],
      "metadata": {
        "id": "lwzeCVvUtCFt"
      }
    },
    {
      "cell_type": "code",
      "source": [
        "y_pred = model.predict(x_)"
      ],
      "metadata": {
        "id": "m6o4PBqPttZw"
      },
      "execution_count": null,
      "outputs": []
    },
    {
      "cell_type": "markdown",
      "source": [
        "This regression example yields the following results and predictions:"
      ],
      "metadata": {
        "id": "yEYvuccXt7wW"
      }
    },
    {
      "cell_type": "code",
      "source": [
        "print('coefficient of determination:', r_sq)\n",
        "\n",
        "print('intercept:', intercept)\n",
        "\n",
        "print('coefficients:', coefficients, sep='\\n')\n",
        "\n",
        "print('predicted response:', y_pred, sep='\\n')\n"
      ],
      "metadata": {
        "colab": {
          "base_uri": "https://localhost:8080/"
        },
        "id": "ZcBvifrCt8a0",
        "outputId": "4f41ef74-ecf3-45a8-d8a8-cffe49bbda02"
      },
      "execution_count": null,
      "outputs": [
        {
          "output_type": "stream",
          "name": "stdout",
          "text": [
            "coefficient of determination: 0.9453701449127822\n",
            "intercept: 0.8430556452395876\n",
            "coefficients:\n",
            "[ 2.44828275  0.16160353 -0.15259677  0.47928683 -0.4641851 ]\n",
            "predicted response:\n",
            "[ 0.54047408 11.36340283 16.07809622 15.79139    29.73858619 23.50834636\n",
            " 39.05631386 41.92339046]\n"
          ]
        }
      ]
    },
    {
      "cell_type": "markdown",
      "source": [
        "In this case, there are six regression coefficients (including the intercept), as shown in the estimated regression function 𝑓(𝑥₁, 𝑥₂) = 𝑏₀ + 𝑏₁𝑥₁ + 𝑏₂𝑥₂ + 𝑏₃𝑥₁² + 𝑏₄𝑥₁𝑥₂ + 𝑏₅𝑥₂².\n",
        "\n",
        "You can also notice that polynomial regression yielded a higher coefficient of determination than multiple linear regression for the same problem. At first, you could think that obtaining such a large 𝑅² is an excellent result. It might be."
      ],
      "metadata": {
        "id": "CV6lCETouNUS"
      }
    }
  ]
}