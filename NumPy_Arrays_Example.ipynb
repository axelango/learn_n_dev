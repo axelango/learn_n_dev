{
  "nbformat": 4,
  "nbformat_minor": 0,
  "metadata": {
    "colab": {
      "name": "NumPy_Arrays_Example.ipynb",
      "provenance": [],
      "collapsed_sections": [],
      "authorship_tag": "ABX9TyNYN/ojfLDlx6/I42UUjt9Y",
      "include_colab_link": true
    },
    "kernelspec": {
      "name": "python3",
      "display_name": "Python 3"
    },
    "language_info": {
      "name": "python"
    }
  },
  "cells": [
    {
      "cell_type": "markdown",
      "metadata": {
        "id": "view-in-github",
        "colab_type": "text"
      },
      "source": [
        "<a href=\"https://colab.research.google.com/github/jgamel/learn_n_dev/blob/data_prep_cleaning/NumPy_Arrays_Example.ipynb\" target=\"_parent\"><img src=\"https://colab.research.google.com/assets/colab-badge.svg\" alt=\"Open In Colab\"/></a>"
      ]
    },
    {
      "cell_type": "markdown",
      "source": [
        "# Introduction to NumPy Arrays in Python"
      ],
      "metadata": {
        "id": "_Ajf6zdVTPzD"
      }
    },
    {
      "cell_type": "markdown",
      "source": [
        "Arrays are the main data structure used in machine learning.\n",
        "\n",
        "n Python, arrays from the NumPy library, called N-dimensional arrays or the ndarray, are used as the primary data structure for representing data.\n",
        "\n",
        "In this tutorial, you will discover the N-dimensional array in NumPy for representing numerical and manipulating data in Python.\n",
        "\n",
        "After completing this tutorial, you will know:\n",
        "\n",
        "1. What the ndarray is and how to create and inspect an array in Python.\n",
        "2. Key functions for creating new empty arrays and arrays with default values.\n",
        "3. How to combine existing arrays to create new arrays.\n",
        "\n"
      ],
      "metadata": {
        "id": "8SwZ3YvlY5sn"
      }
    },
    {
      "cell_type": "markdown",
      "source": [
        "### NumPy N-dimensional Array"
      ],
      "metadata": {
        "id": "kQMtlGtSZO1u"
      }
    },
    {
      "cell_type": "markdown",
      "source": [
        "NumPy is a Python library that can be used for scientific and numerical applications and is the tool to use for linear algebra operations.\n",
        "\n",
        "The main data structure in NumPy is the ndarray, which is a shorthand name for N-dimensional array. When working with NumPy, data in an ndarray is simply referred to as an array.\n",
        "\n",
        "It is a fixed-sized array in memory that contains data of the same type, such as integers or floating point values.\n",
        "\n",
        "The data type supported by an array can be accessed via the “dtype” attribute on the array. The dimensions of an array can be accessed via the “shape” attribute that returns a tuple describing the length of each dimension. There are a host of other attributes. Learn more here:"
      ],
      "metadata": {
        "id": "5NGkyv7XZd6X"
      }
    },
    {
      "cell_type": "markdown",
      "source": [
        "A simple way to create an array from data or simple Python data structures like a list is to use the array() function.\n",
        "\n",
        "The example below creates a Python list of 3 floating point values, then creates an ndarray from the list and access the arrays’ shape and data type."
      ],
      "metadata": {
        "id": "fqTExrHgaLC-"
      }
    },
    {
      "cell_type": "code",
      "source": [
        "# create array\n",
        "from numpy import array\n",
        "l = [1.0, 2.0, 3.0]\n",
        "a = array(l)\n",
        "print(a)\n",
        "print(a.shape)\n",
        "print(a.dtype)"
      ],
      "metadata": {
        "colab": {
          "base_uri": "https://localhost:8080/"
        },
        "id": "yHsqsqwyaQZ9",
        "outputId": "80dcf8a3-f84b-4efe-f1bb-5e4df294e953"
      },
      "execution_count": 1,
      "outputs": [
        {
          "output_type": "stream",
          "name": "stdout",
          "text": [
            "[1. 2. 3.]\n",
            "(3,)\n",
            "float64\n"
          ]
        }
      ]
    },
    {
      "cell_type": "markdown",
      "source": [
        "Running the example prints the contents of the ndarray, the shape, which is a one-dimensional array with 3 elements, and the data type, which is a 64-bit floating point."
      ],
      "metadata": {
        "id": "P8DtY0aMaZQK"
      }
    },
    {
      "cell_type": "markdown",
      "source": [
        "### Functions to Create Arrays"
      ],
      "metadata": {
        "id": "NBIdATUiajbJ"
      }
    },
    {
      "cell_type": "markdown",
      "source": [
        "### Empty\n",
        "The empty() function will create a new array of the specified shape.\n",
        "\n",
        "The argument to the function is an array or tuple that specifies the length of each dimension of the array to create. The values or content of the created array will be random and will need to be assigned before use.\n",
        "\n",
        "The example below creates an empty 3×3 two-dimensional array."
      ],
      "metadata": {
        "id": "H53MAMsbaoLc"
      }
    },
    {
      "cell_type": "code",
      "execution_count": 2,
      "metadata": {
        "colab": {
          "base_uri": "https://localhost:8080/"
        },
        "id": "9acF51Fd__Ho",
        "outputId": "a952df86-403a-4a68-871e-c5ac573340a8"
      },
      "outputs": [
        {
          "output_type": "stream",
          "name": "stdout",
          "text": [
            "[[4.67376131e-310 3.60739284e-313 1.38338381e-322]\n",
            " [4.67376131e-310 0.00000000e+000 0.00000000e+000]\n",
            " [4.94065646e-323 0.00000000e+000 0.00000000e+000]]\n"
          ]
        }
      ],
      "source": [
        "# create empty array\n",
        "from numpy import empty\n",
        "a = empty([3,3])\n",
        "print(a)"
      ]
    },
    {
      "cell_type": "markdown",
      "source": [
        "Running the example prints the content of the empty array. Your specific array contents will vary.\n",
        "\n"
      ],
      "metadata": {
        "id": "QnGhrnCfa4uX"
      }
    },
    {
      "cell_type": "markdown",
      "source": [
        "### Zeros\n",
        "\n",
        "The example below creates a 3×5 zero two-dimensional array."
      ],
      "metadata": {
        "id": "wxRBmEdgbOah"
      }
    },
    {
      "cell_type": "code",
      "source": [
        "# create zero array\n",
        "from numpy import zeros\n",
        "a = zeros([3,5])\n",
        "print(a)"
      ],
      "metadata": {
        "colab": {
          "base_uri": "https://localhost:8080/"
        },
        "id": "hs1ytJf0a-XJ",
        "outputId": "fb99efc0-a54d-44ae-e2c1-186c0af7ac8b"
      },
      "execution_count": 3,
      "outputs": [
        {
          "output_type": "stream",
          "name": "stdout",
          "text": [
            "[[0. 0. 0. 0. 0.]\n",
            " [0. 0. 0. 0. 0.]\n",
            " [0. 0. 0. 0. 0.]]\n"
          ]
        }
      ]
    },
    {
      "cell_type": "markdown",
      "source": [
        "Running the example prints the contents of the created zero array."
      ],
      "metadata": {
        "id": "LiWxpm0mbBlP"
      }
    },
    {
      "cell_type": "markdown",
      "source": [
        "### Ones\n",
        "\n",
        "The ones() function will create a new array of the specified size with the contents filled with one values.\n",
        "\n",
        "The argument to the function is an array or tuple that specifies the length of each dimension of the array to create.\n",
        "\n",
        "The example below creates a 5-element one-dimensional array."
      ],
      "metadata": {
        "id": "w8JYPi1-bD-k"
      }
    },
    {
      "cell_type": "code",
      "source": [
        "# create one array\n",
        "from numpy import ones\n",
        "a = ones([5])\n",
        "print(a)"
      ],
      "metadata": {
        "colab": {
          "base_uri": "https://localhost:8080/"
        },
        "id": "drTH0sDjbXdY",
        "outputId": "7cff09a6-1d0a-43f0-d0b5-c4dd6fe1e547"
      },
      "execution_count": 4,
      "outputs": [
        {
          "output_type": "stream",
          "name": "stdout",
          "text": [
            "[1. 1. 1. 1. 1.]\n"
          ]
        }
      ]
    },
    {
      "cell_type": "markdown",
      "source": [
        "### Combining Arrays\n",
        "NumPy provides many functions to create new arrays from existing arrays.\n",
        "\n",
        "Let’s look at two of the most popular functions you may need or encounter."
      ],
      "metadata": {
        "id": "GMPsChWvbevy"
      }
    },
    {
      "cell_type": "markdown",
      "source": [
        "### Vertical Stack\n",
        "Given two or more existing arrays, you can stack them vertically using the vstack() function.\n",
        "\n",
        "For example, given two one-dimensional arrays, you can create a new two-dimensional array with two rows by vertically stacking them.\n",
        "\n",
        "This is demonstrated in the example below."
      ],
      "metadata": {
        "id": "LNYNjJVabjcq"
      }
    },
    {
      "cell_type": "code",
      "source": [
        "# vstack\n",
        "from numpy import array\n",
        "from numpy import vstack\n",
        "a1 = array([1,2,3])\n",
        "print(a1)\n",
        "a2 = array([4,5,6])\n",
        "print(a2)\n",
        "a3 = vstack((a1, a2))\n",
        "print(a3)\n",
        "print(a3.shape)"
      ],
      "metadata": {
        "colab": {
          "base_uri": "https://localhost:8080/"
        },
        "id": "iaNQQrT4bnga",
        "outputId": "c58f3849-7d9c-43a2-916f-29f0aa341360"
      },
      "execution_count": 5,
      "outputs": [
        {
          "output_type": "stream",
          "name": "stdout",
          "text": [
            "[1 2 3]\n",
            "[4 5 6]\n",
            "[[1 2 3]\n",
            " [4 5 6]]\n",
            "(2, 3)\n"
          ]
        }
      ]
    },
    {
      "cell_type": "markdown",
      "source": [
        "Running the example first prints the two separately defined one-dimensional arrays. The arrays are vertically stacked resulting in a new 2×3 array, the contents and shape of which are printed."
      ],
      "metadata": {
        "id": "6FDA9-Y7dzem"
      }
    },
    {
      "cell_type": "markdown",
      "source": [
        "### Horizontal Stack\n",
        "Given two or more existing arrays, you can stack them horizontally using the hstack() function.\n",
        "\n",
        "For example, given two one-dimensional arrays, you can create a new one-dimensional array or one row with the columns of the first and second arrays concatenated.\n",
        "\n",
        "This is demonstrated in the example below."
      ],
      "metadata": {
        "id": "XMLlfxGheClV"
      }
    },
    {
      "cell_type": "code",
      "source": [
        "# hstack\n",
        "from numpy import array\n",
        "from numpy import hstack\n",
        "a1 = array([1,2,3])\n",
        "print(a1)\n",
        "a2 = array([4,5,6])\n",
        "print(a2)\n",
        "a3 = hstack((a1, a2))\n",
        "print(a3)\n",
        "print(a3.shape)"
      ],
      "metadata": {
        "colab": {
          "base_uri": "https://localhost:8080/"
        },
        "id": "olXbnBdSeEs0",
        "outputId": "068068fe-13b5-4c48-d226-15c22666f6cc"
      },
      "execution_count": 6,
      "outputs": [
        {
          "output_type": "stream",
          "name": "stdout",
          "text": [
            "[1 2 3]\n",
            "[4 5 6]\n",
            "[1 2 3 4 5 6]\n",
            "(6,)\n"
          ]
        }
      ]
    },
    {
      "cell_type": "markdown",
      "source": [
        "Running the example first prints the two separately defined one-dimensional arrays. The arrays are then horizontally stacked resulting in a new one-dimensional array with 6 elements, the contents and shape of which are printed."
      ],
      "metadata": {
        "id": "kIl8bsAXeqEz"
      }
    },
    {
      "cell_type": "markdown",
      "source": [
        "### Summary\n",
        "In this tutorial, you discovered the N-dimensional array in NumPy for representing numerical and manipulating data in Python.\n",
        "\n",
        "Specifically, you learned:\n",
        "\n",
        "1. What the ndarray is and how to create and inspect an array in Python.\n",
        "2. Key functions for creating new empty arrays and arrays with default values.\n",
        "3. How to combine existing arrays to create new arrays."
      ],
      "metadata": {
        "id": "8CPUlv8je9aD"
      }
    }
  ]
}