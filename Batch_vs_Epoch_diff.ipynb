{
  "nbformat": 4,
  "nbformat_minor": 0,
  "metadata": {
    "colab": {
      "name": "Batch_vs_Epoch_diff.ipynb",
      "provenance": [],
      "collapsed_sections": [],
      "authorship_tag": "ABX9TyPPOqeZP6wQP5v5y59qJaUa",
      "include_colab_link": true
    },
    "kernelspec": {
      "name": "python3",
      "display_name": "Python 3"
    },
    "language_info": {
      "name": "python"
    }
  },
  "cells": [
    {
      "cell_type": "markdown",
      "metadata": {
        "id": "view-in-github",
        "colab_type": "text"
      },
      "source": [
        "<a href=\"https://colab.research.google.com/github/jgamel/learn_n_dev/blob/python_machine_learning/Batch_vs_Epoch_diff.ipynb\" target=\"_parent\"><img src=\"https://colab.research.google.com/assets/colab-badge.svg\" alt=\"Open In Colab\"/></a>"
      ]
    },
    {
      "cell_type": "markdown",
      "source": [
        "# Difference Between a Batch and an Epoch in a Neural Network"
      ],
      "metadata": {
        "id": "zFP8KvqNeyUg"
      }
    },
    {
      "cell_type": "markdown",
      "source": [
        "Stochastic gradient descent is a learning algorithm that has a number of hyperparameters.\n",
        "\n",
        "Two hyperparameters that often confuse beginners are the batch size and number of epochs. They are both integer values and seem to do the same thing.\n",
        "\n",
        "In this post, you will discover the difference between batches and epochs in stochastic gradient descent.\n",
        "\n"
      ],
      "metadata": {
        "id": "G5fU9NTKe14U"
      }
    },
    {
      "cell_type": "markdown",
      "source": [
        "### Stochastic Gradient Descent"
      ],
      "metadata": {
        "id": "kzp85LPRiJRj"
      }
    },
    {
      "cell_type": "markdown",
      "source": [
        "Stochastic Gradient Descent, or SGD for short, is an optimization algorithm used to train machine learning algorithms, most notably artificial neural networks used in deep learning.\n",
        "\n",
        "The job of the algorithm is to find a set of internal model parameters that perform well against some performance measure such as logarithmic loss or mean squared error.\n",
        "\n",
        "Optimization is a type of searching process and you can think of this search as learning. The optimization algorithm is called “gradient descent“, where “gradient” refers to the calculation of an error gradient or slope of error and “descent” refers to the moving down along that slope towards some minimum level of error.\n",
        "\n",
        "The algorithm is iterative. This means that the search process occurs over multiple discrete steps, each step hopefully slightly improving the model parameters.\n",
        "\n",
        "Each step involves using the model with the current set of internal parameters to make predictions on some samples, comparing the predictions to the real expected outcomes, calculating the error, and using the error to update the internal model parameters.\n",
        "\n",
        "This update procedure is different for different algorithms, but in the case of artificial neural networks, the backpropagation update algorithm is used."
      ],
      "metadata": {
        "id": "KqZ1omq_iMIE"
      }
    },
    {
      "cell_type": "markdown",
      "source": [
        "### What Is a Sample?"
      ],
      "metadata": {
        "id": "WCLAZsc4uU4f"
      }
    },
    {
      "cell_type": "markdown",
      "source": [
        "A sample is a single row of data.\n",
        "\n",
        "It contains inputs that are fed into the algorithm and an output that is used to compare to the prediction and calculate an error.\n",
        "\n",
        "A training dataset is comprised of many rows of data, e.g. many samples. A sample may also be called an instance, an observation, an input vector, or a feature vector.\n",
        "\n",
        "Now that we know what a sample is, let’s define a batch."
      ],
      "metadata": {
        "id": "uDyrZSqguWGd"
      }
    },
    {
      "cell_type": "markdown",
      "source": [
        "### What Is a Batch?"
      ],
      "metadata": {
        "id": "LweTbWj5ubF1"
      }
    },
    {
      "cell_type": "markdown",
      "source": [
        "The batch size is a hyperparameter that defines the number of samples to work through before updating the internal model parameters.\n",
        "\n",
        "Think of a batch as a for-loop iterating over one or more samples and making predictions. At the end of the batch, the predictions are compared to the expected output variables and an error is calculated. From this error, the update algorithm is used to improve the model, e.g. move down along the error gradient.\n",
        "\n",
        "A training dataset can be divided into one or more batches.\n",
        "\n",
        "When all training samples are used to create one batch, the learning algorithm is called batch gradient descent. When the batch is the size of one sample, the learning algorithm is called stochastic gradient descent. When the batch size is more than one sample and less than the size of the training dataset, the learning algorithm is called mini-batch gradient descent.\n",
        "\n",
        "* Batch Gradient Descent. Batch Size = Size of Training Set\n",
        "* Stochastic Gradient Descent. Batch Size = 1\n",
        "* Mini-Batch Gradient Descent. 1 < Batch Size < Size of Training Set\n",
        "\n",
        "In the case of mini-batch gradient descent, popular batch sizes include 32, 64, and 128 samples. You may see these values used in models in the literature and in tutorials.\n",
        "\n",
        "What if the dataset does not divide evenly by the batch size?\n",
        "\n",
        "This can and does happen often when training a model. It simply means that the final batch has fewer samples than the other batches.\n",
        "\n",
        "Alternately, you can remove some samples from the dataset or change the batch size such that the number of samples in the dataset does divide evenly by the batch size.\n"
      ],
      "metadata": {
        "id": "NR3rW8w-ud5V"
      }
    },
    {
      "cell_type": "markdown",
      "source": [
        "### What Is an Epoch?"
      ],
      "metadata": {
        "id": "LNgUjVjUv2Z7"
      }
    },
    {
      "cell_type": "markdown",
      "source": [
        "The number of epochs is a hyperparameter that defines the number times that the learning algorithm will work through the entire training dataset.\n",
        "\n",
        "One epoch means that each sample in the training dataset has had an opportunity to update the internal model parameters. An epoch is comprised of one or more batches. For example, as above, an epoch that has one batch is called the batch gradient descent learning algorithm.\n",
        "\n",
        "You can think of a for-loop over the number of epochs where each loop proceeds over the training dataset. Within this for-loop is another nested for-loop that iterates over each batch of samples, where one batch has the specified “batch size” number of samples.\n",
        "\n",
        "The number of epochs is traditionally large, often hundreds or thousands, allowing the learning algorithm to run until the error from the model has been sufficiently minimized. You may see examples of the number of epochs in the literature and in tutorials set to 10, 100, 500, 1000, and larger.\n",
        "\n",
        "It is common to create line plots that show epochs along the x-axis as time and the error or skill of the model on the y-axis. These plots are sometimes called learning curves. These plots can help to diagnose whether the model has over learned, under learned, or is suitably fit to the training dataset."
      ],
      "metadata": {
        "id": "zq3vhPQsv5uG"
      }
    },
    {
      "cell_type": "markdown",
      "source": [
        "### What Is the Difference Between Batch and Epoch?"
      ],
      "metadata": {
        "id": "BjTOVLSswJiU"
      }
    },
    {
      "cell_type": "markdown",
      "source": [
        "The batch size is a number of samples processed before the model is updated.\n",
        "\n",
        "The number of epochs is the number of complete passes through the training dataset.\n",
        "\n",
        "The size of a batch must be more than or equal to one and less than or equal to the number of samples in the training dataset.\n",
        "\n",
        "The number of epochs can be set to an integer value between one and infinity. You can run the algorithm for as long as you like and even stop it using other criteria besides a fixed number of epochs, such as a change (or lack of change) in model error over time.\n",
        "\n",
        "They are both integer values and they are both hyperparameters for the learning algorithm, e.g. parameters for the learning process, not internal model parameters found by the learning process.\n",
        "\n",
        "You must specify the batch size and number of epochs for a learning algorithm.\n",
        "\n",
        "There are no magic rules for how to configure these parameters. You must try different values and see what works best for your problem.\n",
        "\n"
      ],
      "metadata": {
        "id": "9Ga9y5LewK7Y"
      }
    },
    {
      "cell_type": "markdown",
      "source": [
        "### Example"
      ],
      "metadata": {
        "id": "9kPUjYsNwWLM"
      }
    },
    {
      "cell_type": "markdown",
      "source": [
        "Finally, let’s make this concrete with a small example.\n",
        "\n",
        "Assume you have a dataset with 200 samples (rows of data) and you choose a batch size of 5 and 1,000 epochs.\n",
        "\n",
        "This means that the dataset will be divided into 40 batches, each with five samples. The model weights will be updated after each batch of five samples.\n",
        "\n",
        "This also means that one epoch will involve 40 batches or 40 updates to the model.\n",
        "\n",
        "With 1,000 epochs, the model will be exposed to or pass through the whole dataset 1,000 times. That is a total of 40,000 batches during the entire training process."
      ],
      "metadata": {
        "id": "ccqYwNMLwZzQ"
      }
    }
  ]
}